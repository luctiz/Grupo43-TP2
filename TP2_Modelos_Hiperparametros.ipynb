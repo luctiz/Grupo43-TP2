{
 "cells": [
  {
   "cell_type": "code",
   "execution_count": 12,
   "metadata": {
    "colab": {},
    "colab_type": "code",
    "id": "Khdk1NWAIcZx"
   },
   "outputs": [],
   "source": [
    "import pandas as pd\n",
    "from datetime import datetime\n",
    "import numpy as np\n",
    "import matplotlib.pyplot as plt\n",
    "import seaborn as sns"
   ]
  },
  {
   "cell_type": "code",
   "execution_count": 0,
   "metadata": {
    "colab": {
     "base_uri": "https://localhost:8080/",
     "height": 124
    },
    "colab_type": "code",
    "id": "PAK-gsBkRR60",
    "outputId": "97924a36-12c9-4d15-beef-6cecdf2cda6a"
   },
   "outputs": [
    {
     "name": "stdout",
     "output_type": "stream",
     "text": [
      "Go to this URL in a browser: https://accounts.google.com/o/oauth2/auth?client_id=947318989803-6bn6qk8qdgf4n4g3pfee6491hc0brc4i.apps.googleusercontent.com&redirect_uri=urn%3aietf%3awg%3aoauth%3a2.0%3aoob&response_type=code&scope=email%20https%3a%2f%2fwww.googleapis.com%2fauth%2fdocs.test%20https%3a%2f%2fwww.googleapis.com%2fauth%2fdrive%20https%3a%2f%2fwww.googleapis.com%2fauth%2fdrive.photos.readonly%20https%3a%2f%2fwww.googleapis.com%2fauth%2fpeopleapi.readonly\n",
      "\n",
      "Enter your authorization code:\n",
      "··········\n",
      "Mounted at /content/drive\n"
     ]
    }
   ],
   "source": [
    "#from google.colab import drive\n",
    "#drive.mount('/content/drive')\n"
   ]
  },
  {
   "cell_type": "markdown",
   "metadata": {
    "colab_type": "text",
    "id": "AvKu51JC6fGM"
   },
   "source": [
    "# **Prueba de Modelos y búsqueda de Hiper Parámetros**\n",
    "\n",
    "En este notebook nos encargaremos de probar diferentes modelos de Machine Learning para luego seleccionar los que mejor se ajustan a nuestros features, una vez seleccionados los modelos nos encargaremos de buscar los mejores hiper paráámetros para los mismos."
   ]
  },
  {
   "cell_type": "code",
   "execution_count": 13,
   "metadata": {
    "colab": {},
    "colab_type": "code",
    "id": "dqez4V1nIcZ-"
   },
   "outputs": [],
   "source": [
    "#Modelos\n",
    "from sklearn.neighbors import KNeighborsRegressor, RadiusNeighborsRegressor\n",
    "from sklearn.linear_model import LinearRegression\n",
    "from sklearn.tree import DecisionTreeRegressor\n",
    "#Ensambles\n",
    "import xgboost as xgb\n",
    "from sklearn.ensemble  import RandomForestRegressor, GradientBoostingRegressor, VotingRegressor, AdaBoostRegressor\n",
    "#Búsqueda de hiper-parámetros\n",
    "from sklearn.model_selection import GridSearchCV, RandomizedSearchCV\n",
    "#Cross validation\n",
    "from sklearn.model_selection import cross_val_score"
   ]
  },
  {
   "cell_type": "code",
   "execution_count": 14,
   "metadata": {
    "colab": {},
    "colab_type": "code",
    "id": "350rFCExIcaI"
   },
   "outputs": [],
   "source": [
    "#Cargo los features\n",
    "#X = pd.read_csv(\"../content/drive/My Drive/data/features_train.csv\")\n",
    "#X_test = pd.read_csv(\"../content/drive/My Drive/data/features_test.csv\")\n",
    "X = pd.read_csv(\"data/features_train.csv\")\n",
    "X_test = pd.read_csv(\"data/features_test.csv\")"
   ]
  },
  {
   "cell_type": "code",
   "execution_count": 16,
   "metadata": {
    "colab": {},
    "colab_type": "code",
    "id": "jRmAOa_iU1lt"
   },
   "outputs": [],
   "source": [
    "Y = pd.read_csv(\"data/train.csv\", usecols=['precio'])['precio']"
   ]
  },
  {
   "cell_type": "code",
   "execution_count": 17,
   "metadata": {
    "colab": {
     "base_uri": "https://localhost:8080/",
     "height": 256
    },
    "colab_type": "code",
    "id": "MAfpQFixa6eL",
    "outputId": "8c8f8c21-5db0-412e-fce0-8d00adf57680"
   },
   "outputs": [
    {
     "data": {
      "text/html": [
       "<div>\n",
       "<style scoped>\n",
       "    .dataframe tbody tr th:only-of-type {\n",
       "        vertical-align: middle;\n",
       "    }\n",
       "\n",
       "    .dataframe tbody tr th {\n",
       "        vertical-align: top;\n",
       "    }\n",
       "\n",
       "    .dataframe thead th {\n",
       "        text-align: right;\n",
       "    }\n",
       "</style>\n",
       "<table border=\"1\" class=\"dataframe\">\n",
       "  <thead>\n",
       "    <tr style=\"text-align: right;\">\n",
       "      <th></th>\n",
       "      <th>antiguedad</th>\n",
       "      <th>habitaciones</th>\n",
       "      <th>garages</th>\n",
       "      <th>banos</th>\n",
       "      <th>metroscubiertos</th>\n",
       "      <th>metrostotales</th>\n",
       "      <th>idzona</th>\n",
       "      <th>lat</th>\n",
       "      <th>lng</th>\n",
       "      <th>gimnasio</th>\n",
       "      <th>...</th>\n",
       "      <th>titl_bonita</th>\n",
       "      <th>titl_cautitlan</th>\n",
       "      <th>tipodepropiedad_target_metros</th>\n",
       "      <th>ciudad_target_metros</th>\n",
       "      <th>provincia_target_metros</th>\n",
       "      <th>idzona_target_metros</th>\n",
       "      <th>tipodepropiedad_target_publicaciones</th>\n",
       "      <th>ciudad_target_publicaciones</th>\n",
       "      <th>provincia_target_publicaciones</th>\n",
       "      <th>idzona_target_publicaciones</th>\n",
       "    </tr>\n",
       "  </thead>\n",
       "  <tbody>\n",
       "    <tr>\n",
       "      <th>0</th>\n",
       "      <td>8</td>\n",
       "      <td>2</td>\n",
       "      <td>1</td>\n",
       "      <td>2</td>\n",
       "      <td>80</td>\n",
       "      <td>80</td>\n",
       "      <td>23533.0</td>\n",
       "      <td>0.000000</td>\n",
       "      <td>0.000000</td>\n",
       "      <td>0</td>\n",
       "      <td>...</td>\n",
       "      <td>0</td>\n",
       "      <td>0</td>\n",
       "      <td>117.866064</td>\n",
       "      <td>128.276829</td>\n",
       "      <td>157.326433</td>\n",
       "      <td>110.795181</td>\n",
       "      <td>61817.687763</td>\n",
       "      <td>62912.989286</td>\n",
       "      <td>59017.072019</td>\n",
       "      <td>64651.204819</td>\n",
       "    </tr>\n",
       "    <tr>\n",
       "      <th>1</th>\n",
       "      <td>10</td>\n",
       "      <td>3</td>\n",
       "      <td>2</td>\n",
       "      <td>2</td>\n",
       "      <td>268</td>\n",
       "      <td>180</td>\n",
       "      <td>24514.0</td>\n",
       "      <td>19.310205</td>\n",
       "      <td>-99.227655</td>\n",
       "      <td>0</td>\n",
       "      <td>...</td>\n",
       "      <td>0</td>\n",
       "      <td>0</td>\n",
       "      <td>187.276312</td>\n",
       "      <td>233.158005</td>\n",
       "      <td>157.326433</td>\n",
       "      <td>197.302326</td>\n",
       "      <td>59753.070115</td>\n",
       "      <td>56328.297113</td>\n",
       "      <td>59017.072019</td>\n",
       "      <td>54434.372093</td>\n",
       "    </tr>\n",
       "    <tr>\n",
       "      <th>2</th>\n",
       "      <td>5</td>\n",
       "      <td>3</td>\n",
       "      <td>2</td>\n",
       "      <td>2</td>\n",
       "      <td>144</td>\n",
       "      <td>166</td>\n",
       "      <td>48551.0</td>\n",
       "      <td>0.000000</td>\n",
       "      <td>0.000000</td>\n",
       "      <td>0</td>\n",
       "      <td>...</td>\n",
       "      <td>0</td>\n",
       "      <td>0</td>\n",
       "      <td>193.103834</td>\n",
       "      <td>109.123581</td>\n",
       "      <td>171.952962</td>\n",
       "      <td>104.657895</td>\n",
       "      <td>60391.646507</td>\n",
       "      <td>65943.460277</td>\n",
       "      <td>69072.906771</td>\n",
       "      <td>60646.947368</td>\n",
       "    </tr>\n",
       "    <tr>\n",
       "      <th>3</th>\n",
       "      <td>1</td>\n",
       "      <td>2</td>\n",
       "      <td>1</td>\n",
       "      <td>1</td>\n",
       "      <td>63</td>\n",
       "      <td>67</td>\n",
       "      <td>53666.0</td>\n",
       "      <td>19.301890</td>\n",
       "      <td>-99.688015</td>\n",
       "      <td>0</td>\n",
       "      <td>...</td>\n",
       "      <td>0</td>\n",
       "      <td>0</td>\n",
       "      <td>193.103834</td>\n",
       "      <td>163.220779</td>\n",
       "      <td>179.409571</td>\n",
       "      <td>144.000009</td>\n",
       "      <td>60391.646507</td>\n",
       "      <td>59544.324675</td>\n",
       "      <td>59400.198092</td>\n",
       "      <td>56323.751399</td>\n",
       "    </tr>\n",
       "    <tr>\n",
       "      <th>4</th>\n",
       "      <td>10</td>\n",
       "      <td>2</td>\n",
       "      <td>1</td>\n",
       "      <td>1</td>\n",
       "      <td>95</td>\n",
       "      <td>95</td>\n",
       "      <td>47835.0</td>\n",
       "      <td>0.000000</td>\n",
       "      <td>0.000000</td>\n",
       "      <td>0</td>\n",
       "      <td>...</td>\n",
       "      <td>0</td>\n",
       "      <td>0</td>\n",
       "      <td>117.866064</td>\n",
       "      <td>181.446911</td>\n",
       "      <td>171.952962</td>\n",
       "      <td>147.122093</td>\n",
       "      <td>61817.687763</td>\n",
       "      <td>69682.227799</td>\n",
       "      <td>69072.906771</td>\n",
       "      <td>71151.313953</td>\n",
       "    </tr>\n",
       "  </tbody>\n",
       "</table>\n",
       "<p>5 rows × 98 columns</p>\n",
       "</div>"
      ],
      "text/plain": [
       "   antiguedad  habitaciones  garages  banos  metroscubiertos  metrostotales  \\\n",
       "0           8             2        1      2               80             80   \n",
       "1          10             3        2      2              268            180   \n",
       "2           5             3        2      2              144            166   \n",
       "3           1             2        1      1               63             67   \n",
       "4          10             2        1      1               95             95   \n",
       "\n",
       "    idzona        lat        lng  gimnasio  ...  titl_bonita  titl_cautitlan  \\\n",
       "0  23533.0   0.000000   0.000000         0  ...            0               0   \n",
       "1  24514.0  19.310205 -99.227655         0  ...            0               0   \n",
       "2  48551.0   0.000000   0.000000         0  ...            0               0   \n",
       "3  53666.0  19.301890 -99.688015         0  ...            0               0   \n",
       "4  47835.0   0.000000   0.000000         0  ...            0               0   \n",
       "\n",
       "   tipodepropiedad_target_metros  ciudad_target_metros  \\\n",
       "0                     117.866064            128.276829   \n",
       "1                     187.276312            233.158005   \n",
       "2                     193.103834            109.123581   \n",
       "3                     193.103834            163.220779   \n",
       "4                     117.866064            181.446911   \n",
       "\n",
       "   provincia_target_metros  idzona_target_metros  \\\n",
       "0               157.326433            110.795181   \n",
       "1               157.326433            197.302326   \n",
       "2               171.952962            104.657895   \n",
       "3               179.409571            144.000009   \n",
       "4               171.952962            147.122093   \n",
       "\n",
       "   tipodepropiedad_target_publicaciones  ciudad_target_publicaciones  \\\n",
       "0                          61817.687763                 62912.989286   \n",
       "1                          59753.070115                 56328.297113   \n",
       "2                          60391.646507                 65943.460277   \n",
       "3                          60391.646507                 59544.324675   \n",
       "4                          61817.687763                 69682.227799   \n",
       "\n",
       "   provincia_target_publicaciones  idzona_target_publicaciones  \n",
       "0                    59017.072019                 64651.204819  \n",
       "1                    59017.072019                 54434.372093  \n",
       "2                    69072.906771                 60646.947368  \n",
       "3                    59400.198092                 56323.751399  \n",
       "4                    69072.906771                 71151.313953  \n",
       "\n",
       "[5 rows x 98 columns]"
      ]
     },
     "execution_count": 17,
     "metadata": {},
     "output_type": "execute_result"
    }
   ],
   "source": [
    "X.head()"
   ]
  },
  {
   "cell_type": "markdown",
   "metadata": {
    "colab_type": "text",
    "id": "djEDxgao3ETM"
   },
   "source": [
    "# Modelos Baseline\n",
    "\n",
    "\n",
    "Comienzo probando modelos simples utilizando los hiper parámetros que vienen por defecto. \n",
    "Luego de chequear cuales nos funcionan mejor nos encargaremos de tunear los hiper parámetros de los modelos que creamos nos van a funcionar mejor."
   ]
  },
  {
   "cell_type": "markdown",
   "metadata": {
    "colab_type": "text",
    "id": "hJ-27GyO3TEz"
   },
   "source": [
    "## Linear Regression"
   ]
  },
  {
   "cell_type": "code",
   "execution_count": 0,
   "metadata": {
    "colab": {
     "base_uri": "https://localhost:8080/",
     "height": 34
    },
    "colab_type": "code",
    "id": "D0Ocz3Hv3HNg",
    "outputId": "729e6320-cc2c-403d-a4b2-c449e1b76bc1"
   },
   "outputs": [
    {
     "data": {
      "text/plain": [
       "936327.020686386"
      ]
     },
     "execution_count": 11,
     "metadata": {
      "tags": []
     },
     "output_type": "execute_result"
    }
   ],
   "source": [
    "#Score MAE\n",
    "lr_model =  LinearRegression()\n",
    "scores = cross_val_score(lr_model , X, Y, scoring=\"neg_mean_absolute_error\", cv=3)\n",
    "RF_mae_score1 = -scores.mean()\n",
    "RF_mae_score1"
   ]
  },
  {
   "cell_type": "markdown",
   "metadata": {
    "colab_type": "text",
    "id": "8pkhggkg3zth"
   },
   "source": [
    "## Decision Tree Regressor"
   ]
  },
  {
   "cell_type": "code",
   "execution_count": 18,
   "metadata": {
    "colab": {},
    "colab_type": "code",
    "id": "zz5Jw-J5IxvU"
   },
   "outputs": [],
   "source": [
    "dtr_model = DecisionTreeRegressor()"
   ]
  },
  {
   "cell_type": "code",
   "execution_count": 0,
   "metadata": {
    "colab": {
     "base_uri": "https://localhost:8080/",
     "height": 34
    },
    "colab_type": "code",
    "id": "52Zuon633HSl",
    "outputId": "3df5e06c-960b-4026-e3e5-eb962b8e99dd"
   },
   "outputs": [
    {
     "data": {
      "text/plain": [
       "800097.5959679165"
      ]
     },
     "execution_count": 8,
     "metadata": {
      "tags": []
     },
     "output_type": "execute_result"
    }
   ],
   "source": [
    "#Score MAE\n",
    "scores = cross_val_score(dtr_model , X, Y, scoring=\"neg_mean_absolute_error\", cv=2)\n",
    "RF_mae_score2 = -scores.mean()\n",
    "RF_mae_score2"
   ]
  },
  {
   "cell_type": "markdown",
   "metadata": {
    "colab_type": "text",
    "id": "7UY_HfOf4Q2m"
   },
   "source": [
    "## KNN "
   ]
  },
  {
   "cell_type": "code",
   "execution_count": 19,
   "metadata": {
    "colab": {},
    "colab_type": "code",
    "id": "83-2FKBSIxwL"
   },
   "outputs": [],
   "source": [
    "knn_model = KNeighborsRegressor()"
   ]
  },
  {
   "cell_type": "code",
   "execution_count": 0,
   "metadata": {
    "colab": {
     "base_uri": "https://localhost:8080/",
     "height": 34
    },
    "colab_type": "code",
    "id": "6SpRYbgm4Xcp",
    "outputId": "c996569c-946c-4ffb-b377-314e3e831b95"
   },
   "outputs": [
    {
     "data": {
      "text/plain": [
       "847298.52512"
      ]
     },
     "execution_count": 12,
     "metadata": {
      "tags": []
     },
     "output_type": "execute_result"
    }
   ],
   "source": [
    "#Score MAE\n",
    "scores = cross_val_score(knn_model , X, Y, scoring=\"neg_mean_absolute_error\", cv=3)\n",
    "RF_mae_score3 = -scores.mean()\n",
    "RF_mae_score3"
   ]
  },
  {
   "cell_type": "markdown",
   "metadata": {
    "colab_type": "text",
    "id": "fSjuyfhM6Ow_"
   },
   "source": [
    "# Modelos ensamblados"
   ]
  },
  {
   "cell_type": "markdown",
   "metadata": {
    "colab_type": "text",
    "id": "vjBYXQGL7jN1"
   },
   "source": [
    "## Random Forest"
   ]
  },
  {
   "cell_type": "code",
   "execution_count": 0,
   "metadata": {
    "colab": {
     "base_uri": "https://localhost:8080/",
     "height": 263
    },
    "colab_type": "code",
    "id": "V8s6b3E76PR6",
    "outputId": "a6a32753-92da-429c-9659-a78f1713c1b0"
   },
   "outputs": [
    {
     "name": "stderr",
     "output_type": "stream",
     "text": [
      "/home/sol/.local/lib/python3.6/site-packages/sklearn/ensemble/forest.py:245: FutureWarning: The default value of n_estimators will change from 10 in version 0.20 to 100 in 0.22.\n",
      "  \"10 in version 0.20 to 100 in 0.22.\", FutureWarning)\n",
      "/home/sol/.local/lib/python3.6/site-packages/sklearn/ensemble/forest.py:737: UserWarning: Some inputs do not have OOB scores. This probably means too few trees were used to compute any reliable oob estimates.\n",
      "  warn(\"Some inputs do not have OOB scores. \"\n",
      "/home/sol/.local/lib/python3.6/site-packages/sklearn/ensemble/forest.py:245: FutureWarning: The default value of n_estimators will change from 10 in version 0.20 to 100 in 0.22.\n",
      "  \"10 in version 0.20 to 100 in 0.22.\", FutureWarning)\n",
      "/home/sol/.local/lib/python3.6/site-packages/sklearn/ensemble/forest.py:737: UserWarning: Some inputs do not have OOB scores. This probably means too few trees were used to compute any reliable oob estimates.\n",
      "  warn(\"Some inputs do not have OOB scores. \"\n"
     ]
    },
    {
     "data": {
      "text/plain": [
       "595248.649810446"
      ]
     },
     "execution_count": 7,
     "metadata": {
      "tags": []
     },
     "output_type": "execute_result"
    }
   ],
   "source": [
    "#Score MAE\n",
    "rf_model = RandomForestRegressor(oob_score= True)\n",
    "scores = cross_val_score(rf_model , X, Y, scoring=\"neg_mean_absolute_error\", cv=2)\n",
    "RF_mae_score5 = -scores.mean()\n",
    "RF_mae_score5"
   ]
  },
  {
   "cell_type": "markdown",
   "metadata": {
    "colab_type": "text",
    "id": "cStwnvYP7xsR"
   },
   "source": [
    "## Gradient Boosting"
   ]
  },
  {
   "cell_type": "code",
   "execution_count": 20,
   "metadata": {
    "colab": {},
    "colab_type": "code",
    "id": "41RliTFF7ZO5"
   },
   "outputs": [],
   "source": [
    "gbr_model = GradientBoostingRegressor()"
   ]
  },
  {
   "cell_type": "code",
   "execution_count": 0,
   "metadata": {
    "colab": {
     "base_uri": "https://localhost:8080/",
     "height": 34
    },
    "colab_type": "code",
    "id": "XgLNw_y2_VO3",
    "outputId": "09eb95e7-263e-4104-a838-a9d0ef78ee1d"
   },
   "outputs": [
    {
     "data": {
      "text/plain": [
       "735528.5769810287"
      ]
     },
     "execution_count": 15,
     "metadata": {
      "tags": []
     },
     "output_type": "execute_result"
    }
   ],
   "source": [
    "scores = cross_val_score(gbr_model , X, Y, scoring=\"neg_mean_absolute_error\", cv=3)\n",
    "RF_mae_score6 = -scores.mean()\n",
    "RF_mae_score6"
   ]
  },
  {
   "cell_type": "markdown",
   "metadata": {
    "colab_type": "text",
    "id": "i13PcYYo8QVZ"
   },
   "source": [
    "## XGBoost"
   ]
  },
  {
   "cell_type": "code",
   "execution_count": 21,
   "metadata": {
    "colab": {},
    "colab_type": "code",
    "id": "PSh3FVp77V0b"
   },
   "outputs": [],
   "source": [
    "xgb_model = xgb.XGBRegressor()"
   ]
  },
  {
   "cell_type": "code",
   "execution_count": 0,
   "metadata": {
    "colab": {
     "base_uri": "https://localhost:8080/",
     "height": 191
    },
    "colab_type": "code",
    "id": "HsFZymZBBMH4",
    "outputId": "12a234b4-0019-46d9-9e9b-fdb0fdf9ca25"
   },
   "outputs": [
    {
     "name": "stderr",
     "output_type": "stream",
     "text": [
      "/usr/local/lib/python3.6/dist-packages/xgboost/core.py:587: FutureWarning: Series.base is deprecated and will be removed in a future version\n",
      "  if getattr(data, 'base', None) is not None and \\\n"
     ]
    },
    {
     "name": "stdout",
     "output_type": "stream",
     "text": [
      "[17:04:09] WARNING: /workspace/src/objective/regression_obj.cu:152: reg:linear is now deprecated in favor of reg:squarederror.\n"
     ]
    },
    {
     "name": "stderr",
     "output_type": "stream",
     "text": [
      "/usr/local/lib/python3.6/dist-packages/xgboost/core.py:587: FutureWarning: Series.base is deprecated and will be removed in a future version\n",
      "  if getattr(data, 'base', None) is not None and \\\n"
     ]
    },
    {
     "name": "stdout",
     "output_type": "stream",
     "text": [
      "[17:04:48] WARNING: /workspace/src/objective/regression_obj.cu:152: reg:linear is now deprecated in favor of reg:squarederror.\n"
     ]
    },
    {
     "name": "stderr",
     "output_type": "stream",
     "text": [
      "/usr/local/lib/python3.6/dist-packages/xgboost/core.py:587: FutureWarning: Series.base is deprecated and will be removed in a future version\n",
      "  if getattr(data, 'base', None) is not None and \\\n"
     ]
    },
    {
     "name": "stdout",
     "output_type": "stream",
     "text": [
      "[17:05:27] WARNING: /workspace/src/objective/regression_obj.cu:152: reg:linear is now deprecated in favor of reg:squarederror.\n"
     ]
    },
    {
     "data": {
      "text/plain": [
       "735461.5765785075"
      ]
     },
     "execution_count": 16,
     "metadata": {
      "tags": []
     },
     "output_type": "execute_result"
    }
   ],
   "source": [
    "scores = cross_val_score(xgb_model , X, Y, scoring=\"neg_mean_absolute_error\", cv=3)\n",
    "RF_mae_score7 = -scores.mean()\n",
    "RF_mae_score7"
   ]
  },
  {
   "cell_type": "markdown",
   "metadata": {
    "colab_type": "text",
    "id": "tzgMZa6HUrRT"
   },
   "source": [
    "# Pruebo GridSearch"
   ]
  },
  {
   "cell_type": "markdown",
   "metadata": {
    "colab_type": "text",
    "id": "-bJNEGYfIcaO"
   },
   "source": [
    "## Modelo KNN"
   ]
  },
  {
   "cell_type": "code",
   "execution_count": 0,
   "metadata": {
    "colab": {
     "base_uri": "https://localhost:8080/",
     "height": 419
    },
    "colab_type": "code",
    "id": "KZuHQNPkTUMf",
    "outputId": "cc9d2af5-a906-42a0-cc2e-dfaf4d9addae"
   },
   "outputs": [
    {
     "name": "stdout",
     "output_type": "stream",
     "text": [
      "Fitting 3 folds for each of 40 candidates, totalling 120 fits\n"
     ]
    },
    {
     "name": "stderr",
     "output_type": "stream",
     "text": [
      "/home/sol/.local/lib/python3.6/site-packages/sklearn/model_selection/_split.py:1978: FutureWarning: The default value of cv will change from 3 to 5 in version 0.22. Specify it explicitly to silence this warning.\n",
      "  warnings.warn(CV_WARNING, FutureWarning)\n",
      "[Parallel(n_jobs=2)]: Using backend LokyBackend with 2 concurrent workers.\n",
      "[Parallel(n_jobs=2)]: Done   1 tasks      | elapsed:   18.3s\n",
      "[Parallel(n_jobs=2)]: Done   4 tasks      | elapsed:   35.3s\n",
      "[Parallel(n_jobs=2)]: Done   9 tasks      | elapsed:  1.5min\n",
      "[Parallel(n_jobs=2)]: Done  14 tasks      | elapsed:  2.3min\n",
      "[Parallel(n_jobs=2)]: Done  21 tasks      | elapsed:  3.9min\n",
      "[Parallel(n_jobs=2)]: Done  28 tasks      | elapsed:  5.3min\n",
      "[Parallel(n_jobs=2)]: Done  37 tasks      | elapsed:  7.0min\n",
      "[Parallel(n_jobs=2)]: Done  46 tasks      | elapsed:  8.6min\n",
      "[Parallel(n_jobs=2)]: Done  57 tasks      | elapsed: 11.3min\n",
      "[Parallel(n_jobs=2)]: Done  68 tasks      | elapsed: 12.8min\n",
      "[Parallel(n_jobs=2)]: Done  81 tasks      | elapsed: 14.8min\n",
      "[Parallel(n_jobs=2)]: Done  94 tasks      | elapsed: 16.8min\n",
      "[Parallel(n_jobs=2)]: Done 109 tasks      | elapsed: 19.7min\n",
      "[Parallel(n_jobs=2)]: Done 120 out of 120 | elapsed: 22.1min finished\n"
     ]
    },
    {
     "name": "stdout",
     "output_type": "stream",
     "text": [
      "best params\n",
      "{'metric': 'manhattan', 'n_neighbors': 7, 'weights': 'distance'}\n",
      "best score\n",
      "747513.4815954762\n"
     ]
    }
   ],
   "source": [
    "parameters_for_testing = {'metric': ['euclidean', 'manhattan', 'chebyshev', 'minkowski'], \\\n",
    "                          'weights': ['uniform', 'distance'], 'n_neighbors': list(range(1,15, 3))}\n",
    "gsearch1 = GridSearchCV(estimator = knn_model, param_grid = parameters_for_testing,iid=False, verbose=10,scoring='neg_mean_absolute_error', n_jobs = 2)\n",
    "gsearch1.fit(X,Y)\n",
    "print('best params')\n",
    "print (gsearch1.best_params_)\n",
    "print('best score')\n",
    "print (-gsearch1.best_score_)\n"
   ]
  },
  {
   "cell_type": "markdown",
   "metadata": {
    "colab_type": "text",
    "id": "C31l5d3mM8hA"
   },
   "source": [
    "## Decision Tree"
   ]
  },
  {
   "cell_type": "code",
   "execution_count": 0,
   "metadata": {
    "colab": {
     "base_uri": "https://localhost:8080/",
     "height": 86
    },
    "colab_type": "code",
    "id": "Q-dYwRUMIxze",
    "outputId": "d055fc48-5818-4219-9ab9-d952933ab081"
   },
   "outputs": [
    {
     "name": "stdout",
     "output_type": "stream",
     "text": [
      "best params\n",
      "{'max_depth': 14, 'max_features': 78, 'min_samples_split': 14}\n",
      "best score\n",
      "720069.2363039979\n"
     ]
    }
   ],
   "source": [
    "parameters_for_testing = {'max_depth': list(range(2,16,2)), 'min_samples_split': list(range(2,16,2)),\\\n",
    "                         'max_features': list(range(1,X.shape[1], 7))}\n",
    "\n",
    "gsearch1 = GridSearchCV(dtr_model, param_grid=parameters_for_testing, cv=2, iid=False, scoring='neg_mean_absolute_error', n_jobs = 2)\n",
    "gsearch1.fit(X,Y)\n",
    "print('best params')\n",
    "print (gsearch1.best_params_)\n",
    "print('best score')\n",
    "print (-gsearch1.best_score_)"
   ]
  },
  {
   "cell_type": "markdown",
   "metadata": {
    "colab_type": "text",
    "id": "pU-ApiSXIxzv"
   },
   "source": [
    "#### Pruebo con valores más altos, pues los que me dieron como optimos fueron los valores límites\n"
   ]
  },
  {
   "cell_type": "code",
   "execution_count": 0,
   "metadata": {
    "colab": {
     "base_uri": "https://localhost:8080/",
     "height": 86
    },
    "colab_type": "code",
    "id": "OqX8KBqZIxz3",
    "outputId": "d60be981-359a-4861-a927-68baf59df580"
   },
   "outputs": [
    {
     "name": "stdout",
     "output_type": "stream",
     "text": [
      "best params\n",
      "{'max_depth': 16, 'max_features': 95, 'min_samples_split': 20}\n",
      "best score\n",
      "711948.7258354134\n"
     ]
    }
   ],
   "source": [
    "parameters_for_testing = {'max_depth':[14,15,16,17,18,19,20] , 'min_samples_split': [14,15,16,17,18,19,20],\\\n",
    "                         'max_features': [92,93,94,95,96,97,98]}\n",
    "\n",
    "gsearch1 = GridSearchCV(dtr_model, param_grid=parameters_for_testing, cv=2, iid=False, scoring='neg_mean_absolute_error', n_jobs = 2)\n",
    "gsearch1.fit(X,Y)\n",
    "print('best params')\n",
    "print (gsearch1.best_params_)\n",
    "print('best score')\n",
    "print (-gsearch1.best_score_)"
   ]
  },
  {
   "cell_type": "markdown",
   "metadata": {
    "colab_type": "text",
    "id": "pjMPnpM31GKX"
   },
   "source": [
    "## Modelo Random Forest\n"
   ]
  },
  {
   "cell_type": "code",
   "execution_count": 0,
   "metadata": {
    "colab": {
     "base_uri": "https://localhost:8080/",
     "height": 257
    },
    "colab_type": "code",
    "id": "4odMuZho0MUS",
    "outputId": "7890b6a3-25e6-484d-d888-b91b86fc1133"
   },
   "outputs": [
    {
     "name": "stdout",
     "output_type": "stream",
     "text": [
      "best params\n",
      "{'n_estimators': 90, 'random_state': 84}\n",
      "best score\n",
      "560801.3354935668\n"
     ]
    }
   ],
   "source": [
    "rf_model = RandomForestRegressor(oob_score= True)\n",
    "parameters_for_testing = {'n_estimators': list(range(80,100,10)), 'random_state': [21,42,84]}\n",
    "\n",
    "gsearch1 = GridSearchCV(rf_model, param_grid=parameters_for_testing, cv=2, iid=False, scoring='neg_mean_absolute_error', n_jobs = 2)\n",
    "gsearch1.fit(X,Y)\n",
    "\n",
    "print('best params')\n",
    "print (gsearch1.best_params_)\n",
    "print('best score')\n",
    "print (-gsearch1.best_score_)"
   ]
  },
  {
   "cell_type": "code",
   "execution_count": 0,
   "metadata": {
    "colab": {},
    "colab_type": "code",
    "id": "RxAT-m56Ix0d",
    "outputId": "10bb4aa1-191c-4a27-a504-04bd82398b41"
   },
   "outputs": [
    {
     "name": "stdout",
     "output_type": "stream",
     "text": [
      "best params\n",
      "{'n_estimators': 140, 'random_state': 105}\n",
      "best score\n",
      "558837.3021104451\n"
     ]
    }
   ],
   "source": [
    "parameters_for_testing = {'n_estimators': list(range(90,150,10)), 'random_state': [84, 105, 126]}\n",
    "\n",
    "gsearch1 = GridSearchCV(rf_model, param_grid=parameters_for_testing, cv=2, iid=False, scoring='neg_mean_absolute_error', n_jobs = 2)\n",
    "gsearch1.fit(X,Y)\n",
    "\n",
    "print('best params')\n",
    "print (gsearch1.best_params_)\n",
    "print('best score')\n",
    "print (-gsearch1.best_score_)"
   ]
  },
  {
   "cell_type": "code",
   "execution_count": 0,
   "metadata": {
    "colab": {},
    "colab_type": "code",
    "id": "bnZe84dYIx0w",
    "outputId": "1d2ea4ac-1b43-4dad-fa66-5de04c9ecc8f"
   },
   "outputs": [
    {
     "name": "stdout",
     "output_type": "stream",
     "text": [
      "best params\n",
      "{'max_depth': 9, 'n_estimators': 200}\n",
      "best score\n",
      "738104.6525661638\n"
     ]
    }
   ],
   "source": [
    "parameters_for_testing = {'n_estimators': list(range(140,220,20)),'max_depth': range(7,10)}\n",
    "\n",
    "gsearch1 = GridSearchCV(rf_model, param_grid=parameters_for_testing, cv=2, iid=False, scoring='neg_mean_absolute_error', n_jobs = 2)\n",
    "gsearch1.fit(X,Y)\n",
    "\n",
    "print('best params')\n",
    "print (gsearch1.best_params_)\n",
    "print('best score')\n",
    "print (-gsearch1.best_score_)"
   ]
  },
  {
   "cell_type": "markdown",
   "metadata": {
    "colab_type": "text",
    "id": "aqWqxoAp-W7v"
   },
   "source": [
    "**Como gridSearch tarda demasiado utilizo randomized Search con más valores**"
   ]
  },
  {
   "cell_type": "markdown",
   "metadata": {
    "colab_type": "text",
    "id": "EMIKhlAfcOCg"
   },
   "source": [
    "# Pruebo RandomizedSearch"
   ]
  },
  {
   "cell_type": "markdown",
   "metadata": {
    "colab_type": "text",
    "id": "260X7_2ocD1M"
   },
   "source": [
    "## KNN Regressor"
   ]
  },
  {
   "cell_type": "markdown",
   "metadata": {
    "colab_type": "text",
    "id": "U3hGHkIjIx1Y"
   },
   "source": [
    "#### 20 iteraciones"
   ]
  },
  {
   "cell_type": "code",
   "execution_count": 0,
   "metadata": {
    "colab": {
     "base_uri": "https://localhost:8080/",
     "height": 312
    },
    "colab_type": "code",
    "id": "XK2hCBr2WQyh",
    "outputId": "74edabf3-06a0-47d8-defb-b60e651c9ded"
   },
   "outputs": [
    {
     "data": {
      "text/plain": [
       "RandomizedSearchCV(cv=5, error_score='raise-deprecating',\n",
       "                   estimator=KNeighborsRegressor(algorithm='auto', leaf_size=30,\n",
       "                                                 metric='minkowski',\n",
       "                                                 metric_params=None,\n",
       "                                                 n_jobs=None, n_neighbors=5,\n",
       "                                                 p=2, weights='uniform'),\n",
       "                   iid=False, n_iter=20, n_jobs=None,\n",
       "                   param_distributions={'metric': ['euclidean', 'manhattan',\n",
       "                                                   'chebyshev', 'minkowski'],\n",
       "                                        'n_neighbors': [1, 2, 3, 4, 5, 6, 7, 8,\n",
       "                                                        9, 10, 11, 12, 13, 14,\n",
       "                                                        15, 16, 17, 18, 19, 20,\n",
       "                                                        21, 22, 23, 24, 25, 26,\n",
       "                                                        27, 28, 29, 30, ...],\n",
       "                                        'weights': ['uniform', 'distance']},\n",
       "                   pre_dispatch='2*n_jobs', random_state=None, refit=True,\n",
       "                   return_train_score=False, scoring='neg_mean_absolute_error',\n",
       "                   verbose=0)"
      ]
     },
     "execution_count": 14,
     "metadata": {
      "tags": []
     },
     "output_type": "execute_result"
    }
   ],
   "source": [
    "parameters_for_testing = {'metric': ['euclidean', 'manhattan', 'chebyshev', 'minkowski'], \\\n",
    "                          'weights': ['uniform', 'distance'], 'n_neighbors': list(range(1,100))}\n",
    "\n",
    "n_iter_search = 20\n",
    "random_search = RandomizedSearchCV(knn_model, param_distributions=parameters_for_testing, n_iter=n_iter_search, cv=5, iid=False, scoring='neg_mean_absolute_error')\n",
    "random_search.fit(X,Y)"
   ]
  },
  {
   "cell_type": "code",
   "execution_count": 0,
   "metadata": {
    "colab": {
     "base_uri": "https://localhost:8080/",
     "height": 86
    },
    "colab_type": "code",
    "id": "3jgVz8_KcNEc",
    "outputId": "39aed779-71cc-450a-ab8c-e1107cf318c8"
   },
   "outputs": [
    {
     "name": "stdout",
     "output_type": "stream",
     "text": [
      "best params\n",
      "{'weights': 'distance', 'n_neighbors': 9, 'metric': 'euclidean'}\n",
      "best score\n",
      "751057.3292577943\n"
     ]
    }
   ],
   "source": [
    "print('best params')\n",
    "print (random_search.best_params_)\n",
    "print('best score')\n",
    "print (-random_search.best_score_)"
   ]
  },
  {
   "cell_type": "markdown",
   "metadata": {
    "colab_type": "text",
    "id": "m-6WfvmpIx2A"
   },
   "source": [
    "#### 30 iteraciones"
   ]
  },
  {
   "cell_type": "code",
   "execution_count": 0,
   "metadata": {
    "colab": {
     "base_uri": "https://localhost:8080/",
     "height": 86
    },
    "colab_type": "code",
    "id": "FCXNSsh-Ix2D",
    "outputId": "d47c3bc0-185c-40bf-d525-3a9672296d78"
   },
   "outputs": [
    {
     "name": "stdout",
     "output_type": "stream",
     "text": [
      "best params\n",
      "{'weights': 'distance', 'n_neighbors': 6, 'n_jobs': -1, 'metric': 'manhattan'}\n",
      "best score\n",
      "782369.0793613999\n"
     ]
    }
   ],
   "source": [
    "parameters_for_testing = {'metric': ['euclidean', 'manhattan', 'chebyshev', 'minkowski'], \\\n",
    "                          'weights': ['uniform', 'distance'], 'n_neighbors': list(range(2,20)), 'n_jobs': [-1]}\n",
    "\n",
    "n_iter_search = 30\n",
    "random_search = RandomizedSearchCV(knn_model, param_distributions=parameters_for_testing, n_iter=n_iter_search, cv=2, iid=False, scoring='neg_mean_absolute_error')\n",
    "random_search.fit(X,Y)\n",
    "print('best params')\n",
    "print (random_search.best_params_)\n",
    "print('best score')\n",
    "print (-random_search.best_score_)"
   ]
  },
  {
   "cell_type": "markdown",
   "metadata": {
    "colab_type": "text",
    "id": "-Qxe4iV2Ix2T"
   },
   "source": [
    "## Decision Tree Regressor"
   ]
  },
  {
   "cell_type": "markdown",
   "metadata": {
    "colab_type": "text",
    "id": "qtN5PFdXIx2W"
   },
   "source": [
    "#### 10 iteraciones"
   ]
  },
  {
   "cell_type": "code",
   "execution_count": 0,
   "metadata": {
    "colab": {
     "base_uri": "https://localhost:8080/",
     "height": 521
    },
    "colab_type": "code",
    "id": "y26UCnU5Ix2d",
    "outputId": "cf430bc8-a9c1-4f24-fce1-daff201f2c67"
   },
   "outputs": [
    {
     "data": {
      "text/plain": [
       "RandomizedSearchCV(cv=2, error_score='raise-deprecating',\n",
       "                   estimator=DecisionTreeRegressor(criterion='mse',\n",
       "                                                   max_depth=None,\n",
       "                                                   max_features=None,\n",
       "                                                   max_leaf_nodes=None,\n",
       "                                                   min_impurity_decrease=0.0,\n",
       "                                                   min_impurity_split=None,\n",
       "                                                   min_samples_leaf=1,\n",
       "                                                   min_samples_split=2,\n",
       "                                                   min_weight_fraction_leaf=0.0,\n",
       "                                                   presort=False,\n",
       "                                                   random_state=None,\n",
       "                                                   splitter='best'),\n",
       "                   iid=False, n_iter=10, n_jobs...\n",
       "                                                         8, 9, 10, 11, 12, 13,\n",
       "                                                         14, 15, 16, 17, 18, 19,\n",
       "                                                         20, 21, 22, 23, 24, 25,\n",
       "                                                         26, 27, 28, 29, ...],\n",
       "                                        'min_samples_leaf': array([0.1, 0.2, 0.3, 0.4, 0.5]),\n",
       "                                        'min_samples_split': [1, 2, 3, 4, 5, 6,\n",
       "                                                              7, 8, 9, 10, 11,\n",
       "                                                              12, 13, 14, 15,\n",
       "                                                              16, 17, 18, 19,\n",
       "                                                              20],\n",
       "                                        'random_state': [1, 11, 21, 31, 41, 51,\n",
       "                                                         61, 71, 81, 91]},\n",
       "                   pre_dispatch='2*n_jobs', random_state=None, refit=True,\n",
       "                   return_train_score=False, scoring='neg_mean_absolute_error',\n",
       "                   verbose=0)"
      ]
     },
     "execution_count": 15,
     "metadata": {
      "tags": []
     },
     "output_type": "execute_result"
    }
   ],
   "source": [
    "parameters_for_testing = {'max_depth': list(range(1,21)), 'min_samples_split': list(range(1,21)),\\\n",
    "                         'max_features': list(range(0,X.shape[1])), 'min_samples_leaf': np.linspace(0.1, 0.5, 5, endpoint=True),\\\n",
    "                        'random_state': list(range(1,100,10))}\n",
    "\n",
    "\n",
    "n_iter_search = 10\n",
    "random_search = RandomizedSearchCV(dtr_model, param_distributions=parameters_for_testing, n_iter=n_iter_search, cv=2, iid=False, scoring='neg_mean_absolute_error', n_jobs = 2)\n",
    "random_search.fit(X,Y)\n"
   ]
  },
  {
   "cell_type": "code",
   "execution_count": 0,
   "metadata": {
    "colab": {
     "base_uri": "https://localhost:8080/",
     "height": 86
    },
    "colab_type": "code",
    "id": "HuVFPDjObl9s",
    "outputId": "b33a4fe5-dd4d-4185-defb-63fe8257baca"
   },
   "outputs": [
    {
     "name": "stdout",
     "output_type": "stream",
     "text": [
      "best params\n",
      "{'random_state': 81, 'min_samples_split': 12, 'min_samples_leaf': 0.1, 'max_features': 75, 'max_depth': 20}\n",
      "best score\n",
      "1137666.1121878428\n"
     ]
    }
   ],
   "source": [
    "print('best params')\n",
    "print (random_search.best_params_)\n",
    "print('best score')\n",
    "print (-random_search.best_score_)"
   ]
  },
  {
   "cell_type": "markdown",
   "metadata": {
    "colab_type": "text",
    "id": "J4kwm4-kIx2r"
   },
   "source": [
    "#### 20 iteraciones"
   ]
  },
  {
   "cell_type": "code",
   "execution_count": 0,
   "metadata": {
    "colab": {
     "base_uri": "https://localhost:8080/",
     "height": 86
    },
    "colab_type": "code",
    "id": "fz_Bj7U4Ix2w",
    "outputId": "07a157c9-a35c-4b95-fc7e-6eb3c57aaec5"
   },
   "outputs": [
    {
     "name": "stdout",
     "output_type": "stream",
     "text": [
      "best params\n",
      "{'random_state': 31, 'min_samples_split': 5, 'min_samples_leaf': 0.1, 'max_features': 37, 'max_depth': 12}\n",
      "best score\n",
      "1158113.7291800778\n"
     ]
    }
   ],
   "source": [
    "parameters_for_testing = {'max_depth': list(range(1,21)), 'min_samples_split': list(range(2,21)),\\\n",
    "                         'max_features': list(range(0,X.shape[1])), 'min_samples_leaf': np.linspace(0.1, 0.5, 5, endpoint=True),\\\n",
    "                        'random_state': list(range(1,100,10))}\n",
    "\n",
    "\n",
    "n_iter_search = 20\n",
    "random_search = RandomizedSearchCV(dtr_model, param_distributions=parameters_for_testing, n_iter=n_iter_search, cv=2, iid=False, scoring='neg_mean_absolute_error', n_jobs = 2)\n",
    "random_search.fit(X,Y)\n",
    "print('best params')\n",
    "print (random_search.best_params_)\n",
    "print('best score')\n",
    "print (-random_search.best_score_)"
   ]
  },
  {
   "cell_type": "markdown",
   "metadata": {
    "colab_type": "text",
    "id": "K3EWu3Acfdew"
   },
   "source": [
    "#### 30 iteraciones"
   ]
  },
  {
   "cell_type": "code",
   "execution_count": 0,
   "metadata": {
    "colab": {
     "base_uri": "https://localhost:8080/",
     "height": 86
    },
    "colab_type": "code",
    "id": "tzWzPzVPfGtD",
    "outputId": "106e6fef-27e2-4677-a6f1-f19e805b37f2"
   },
   "outputs": [
    {
     "name": "stdout",
     "output_type": "stream",
     "text": [
      "best params\n",
      "{'random_state': 71, 'min_samples_split': 13, 'min_samples_leaf': 0.1, 'max_features': 96, 'max_depth': 9}\n",
      "best score\n",
      "1137666.1121878428\n"
     ]
    }
   ],
   "source": [
    "parameters_for_testing = {'max_depth': list(range(1,21)), 'min_samples_split': list(range(3,21)),\\\n",
    "                         'max_features': list(range(1,X.shape[1])), 'min_samples_leaf': np.linspace(0.1, 0.5, 5, endpoint=True),\\\n",
    "                        'random_state': list(range(1,100,7))}\n",
    "\n",
    "\n",
    "n_iter_search = 30\n",
    "random_search = RandomizedSearchCV(dtr_model, param_distributions=parameters_for_testing, n_iter=n_iter_search, cv=2, iid=False, scoring='neg_mean_absolute_error', n_jobs = 2)\n",
    "random_search.fit(X,Y)\n",
    "print('best params')\n",
    "print (random_search.best_params_)\n",
    "print('best score')\n",
    "print (-random_search.best_score_)"
   ]
  },
  {
   "cell_type": "markdown",
   "metadata": {
    "colab_type": "text",
    "id": "jXKjDmAPcKTe"
   },
   "source": [
    "## Gradient Boosting Regressor"
   ]
  },
  {
   "cell_type": "markdown",
   "metadata": {
    "colab_type": "text",
    "id": "-dUmwEcLIx3A"
   },
   "source": [
    "#### Pruebo con 10 iteraciones"
   ]
  },
  {
   "cell_type": "code",
   "execution_count": 0,
   "metadata": {
    "colab": {
     "base_uri": "https://localhost:8080/",
     "height": 451
    },
    "colab_type": "code",
    "id": "9wmh40wye-c_",
    "outputId": "734bbc8a-86f3-4fe2-cf4a-2ef6657c6991"
   },
   "outputs": [
    {
     "data": {
      "text/plain": [
       "RandomizedSearchCV(cv=3, error_score='raise-deprecating',\n",
       "                   estimator=GradientBoostingRegressor(alpha=0.9,\n",
       "                                                       criterion='friedman_mse',\n",
       "                                                       init=None,\n",
       "                                                       learning_rate=0.1,\n",
       "                                                       loss='ls', max_depth=3,\n",
       "                                                       max_features=None,\n",
       "                                                       max_leaf_nodes=None,\n",
       "                                                       min_impurity_decrease=0.0,\n",
       "                                                       min_impurity_split=None,\n",
       "                                                       min_samples_leaf=1,\n",
       "                                                       min_samples_split=2,\n",
       "                                                       min_weight_fraction_leaf=0.0,\n",
       "                                                       n_estimators=100,...\n",
       "                                                         9, 10, 11, 12, 13, 14,\n",
       "                                                         15, 16, 17, 18, 19, 20,\n",
       "                                                         21, 22, 23, 24, 25, 26,\n",
       "                                                         27, 28, 29, 30, ...],\n",
       "                                        'min_samples_leaf': array([0.1, 0.2, 0.3, 0.4, 0.5]),\n",
       "                                        'min_samples_split': array([0.1, 0.2, 0.3, 0.4, 0.5, 0.6, 0.7, 0.8, 0.9, 1. ]),\n",
       "                                        'n_estimators': [1, 2, 4, 8, 16, 32, 64,\n",
       "                                                         100, 200]},\n",
       "                   pre_dispatch='2*n_jobs', random_state=None, refit=True,\n",
       "                   return_train_score=False, scoring='neg_mean_absolute_error',\n",
       "                   verbose=0)"
      ]
     },
     "execution_count": 32,
     "metadata": {
      "tags": []
     },
     "output_type": "execute_result"
    }
   ],
   "source": [
    "parameters_for_testing = {'learning_rate': [1, 0.5, 0.25, 0.1, 0.05, 0.01], 'n_estimators': [1, 2, 4, 8, 16, 32, 64, 100, 200],\\\n",
    "                          'max_depth': np.linspace(1, 32, 32, endpoint=True), 'min_samples_split': np.linspace(0.1, 1.0, 10, endpoint=True),\\\n",
    "                          'max_features': list(range(1,X.shape[1])), 'min_samples_leaf': np.linspace(0.1, 0.5, 5, endpoint=True)}\n",
    "\n",
    "n_iter_search = 10\n",
    "random_search = RandomizedSearchCV(gbr_model, param_distributions=parameters_for_testing, n_iter=n_iter_search, cv=3, iid=False, scoring='neg_mean_absolute_error', n_jobs = 2)\n",
    "random_search.fit(X,Y)"
   ]
  },
  {
   "cell_type": "code",
   "execution_count": 0,
   "metadata": {
    "colab": {
     "base_uri": "https://localhost:8080/",
     "height": 86
    },
    "colab_type": "code",
    "id": "3k50Bx82tPz4",
    "outputId": "a4a650cf-fcac-4d14-831a-6fc3538026e6"
   },
   "outputs": [
    {
     "name": "stdout",
     "output_type": "stream",
     "text": [
      "best params\n",
      "{'n_estimators': 200, 'min_samples_split': 0.8, 'min_samples_leaf': 0.2, 'max_features': 31, 'max_depth': 29.0, 'learning_rate': 0.5}\n",
      "best score\n",
      "951284.2075130501\n"
     ]
    }
   ],
   "source": [
    "print('best params')\n",
    "print (random_search.best_params_)\n",
    "print('best score')\n",
    "print (-random_search.best_score_)"
   ]
  },
  {
   "cell_type": "markdown",
   "metadata": {
    "colab_type": "text",
    "id": "Yfd3kQ6GIx3f"
   },
   "source": [
    "#### Pruebo con 20 iteraciones"
   ]
  },
  {
   "cell_type": "code",
   "execution_count": 0,
   "metadata": {
    "colab": {},
    "colab_type": "code",
    "id": "Fnt0QXL5Ix3i",
    "outputId": "00b8aebd-fa2b-470a-9ff9-40808a112c1b"
   },
   "outputs": [
    {
     "name": "stdout",
     "output_type": "stream",
     "text": [
      "best params\n",
      "{'n_estimators': 200, 'min_samples_split': 0.5, 'min_samples_leaf': 0.30000000000000004, 'max_features': 82, 'max_depth': 13.0, 'learning_rate': 1}\n",
      "best score\n",
      "949420.852062718\n"
     ]
    }
   ],
   "source": [
    "parameters_for_testing = {'learning_rate': [1, 0.5, 0.25, 0.1, 0.05, 0.01], 'n_estimators': [1, 2, 4, 8, 16, 32, 64, 100, 200],\\\n",
    "                          'max_depth': np.linspace(1, 32, 32, endpoint=True), 'min_samples_split': np.linspace(0.1, 1.0, 10, endpoint=True),\\\n",
    "                          'max_features': list(range(1,X.shape[1])), 'min_samples_leaf': np.linspace(0.1, 0.5, 5, endpoint=True)}\n",
    "\n",
    "n_iter_search = 20\n",
    "random_search = RandomizedSearchCV(gbr_model, param_distributions=parameters_for_testing, n_iter=n_iter_search, cv=3, iid=False, scoring='neg_mean_absolute_error', n_jobs = 2)\n",
    "random_search.fit(X,Y)\n",
    "print('best params')\n",
    "print (random_search.best_params_)\n",
    "print('best score')\n",
    "print (-random_search.best_score_)"
   ]
  },
  {
   "cell_type": "markdown",
   "metadata": {
    "colab_type": "text",
    "id": "gMASD230en0P"
   },
   "source": [
    "#### 30 iteraciones"
   ]
  },
  {
   "cell_type": "code",
   "execution_count": 0,
   "metadata": {
    "colab": {
     "base_uri": "https://localhost:8080/",
     "height": 86
    },
    "colab_type": "code",
    "id": "4C_R7zhgeoH-",
    "outputId": "30436b8a-9725-43fd-860e-22f405fefbc4"
   },
   "outputs": [
    {
     "name": "stdout",
     "output_type": "stream",
     "text": [
      "best params\n",
      "{'n_estimators': 200, 'min_samples_split': 1.0, 'min_samples_leaf': 0.1, 'max_features': 50, 'max_depth': 23.0, 'learning_rate': 0.05}\n",
      "best score\n",
      "962479.3127951609\n"
     ]
    }
   ],
   "source": [
    "parameters_for_testing = {'learning_rate': [1, 0.5, 0.25, 0.1, 0.05, 0.01], 'n_estimators': [1, 2, 4, 8, 16, 32, 64, 100, 200],\\\n",
    "                          'max_depth': np.linspace(1, 32, 32, endpoint=True), 'min_samples_split': np.linspace(0.1, 1.0, 10, endpoint=True),\\\n",
    "                          'max_features': list(range(1,X.shape[1])), 'min_samples_leaf': np.linspace(0.1, 0.5, 5, endpoint=True)}\n",
    "\n",
    "n_iter_search = 30\n",
    "random_search = RandomizedSearchCV(gbr_model, param_distributions=parameters_for_testing, n_iter=n_iter_search, cv=3, iid=False, scoring='neg_mean_absolute_error', n_jobs = 2)\n",
    "random_search.fit(X,Y)\n",
    "print('best params')\n",
    "print (random_search.best_params_)\n",
    "print('best score')\n",
    "print (-random_search.best_score_)"
   ]
  },
  {
   "cell_type": "markdown",
   "metadata": {
    "colab_type": "text",
    "id": "BfH-pX-iGJrV"
   },
   "source": [
    "## XGBoost Regressor"
   ]
  },
  {
   "cell_type": "markdown",
   "metadata": {
    "colab_type": "text",
    "id": "W7M1reOtIx3x"
   },
   "source": [
    "#### 10 iteraciones"
   ]
  },
  {
   "cell_type": "code",
   "execution_count": 0,
   "metadata": {
    "colab": {
     "base_uri": "https://localhost:8080/",
     "height": 593
    },
    "colab_type": "code",
    "id": "y_vPh8fPERvX",
    "outputId": "9087dc58-871d-44d7-9b2a-abbc4fe586e6"
   },
   "outputs": [
    {
     "name": "stderr",
     "output_type": "stream",
     "text": [
      "/home/sol/.local/lib/python3.6/site-packages/xgboost/core.py:587: FutureWarning: Series.base is deprecated and will be removed in a future version\n",
      "  if getattr(data, 'base', None) is not None and \\\n",
      "/home/sol/.local/lib/python3.6/site-packages/xgboost/core.py:588: FutureWarning: Series.base is deprecated and will be removed in a future version\n",
      "  data.base is not None and isinstance(data, np.ndarray) \\\n"
     ]
    },
    {
     "name": "stdout",
     "output_type": "stream",
     "text": [
      "[22:21:47] WARNING: /workspace/src/objective/regression_obj.cu:152: reg:linear is now deprecated in favor of reg:squarederror.\n"
     ]
    },
    {
     "data": {
      "text/plain": [
       "RandomizedSearchCV(cv=2, error_score='raise-deprecating',\n",
       "                   estimator=XGBRegressor(base_score=0.5, booster='gbtree',\n",
       "                                          colsample_bylevel=1,\n",
       "                                          colsample_bynode=1,\n",
       "                                          colsample_bytree=1, gamma=0,\n",
       "                                          importance_type='gain',\n",
       "                                          learning_rate=0.1, max_delta_step=0,\n",
       "                                          max_depth=3, min_child_weight=1,\n",
       "                                          missing=None, n_estimators=100,\n",
       "                                          n_jobs=1, nthread=None,\n",
       "                                          objective='reg:linear',\n",
       "                                          random_st...\n",
       "                                        'max_features': [1, 2, 3, 4, 5, 6, 7, 8,\n",
       "                                                         9, 10, 11, 12, 13, 14,\n",
       "                                                         15, 16, 17, 18, 19, 20,\n",
       "                                                         21, 22, 23, 24, 25, 26,\n",
       "                                                         27, 28, 29, 30, ...],\n",
       "                                        'min_child_weight': range(1, 6, 2),\n",
       "                                        'n_estimators': [1, 2, 4, 8, 16, 32, 64,\n",
       "                                                         100, 200],\n",
       "                                        'reg_alpha': [1e-05, 0.01, 0.1, 1, 100],\n",
       "                                        'subsample': [0.6, 0.7, 0.8, 0.9]},\n",
       "                   pre_dispatch='2*n_jobs', random_state=None, refit=True,\n",
       "                   return_train_score=False, scoring='neg_mean_absolute_error',\n",
       "                   verbose=0)"
      ]
     },
     "execution_count": 21,
     "metadata": {
      "tags": []
     },
     "output_type": "execute_result"
    }
   ],
   "source": [
    "parameters_for_testing = {'learning_rate': [1, 0.5, 0.25, 0.1, 0.05, 0.01], 'n_estimators': [1, 2, 4, 8, 16, 32, 64, 100, 200],\\\n",
    "                          'max_depth': list(range(5,10)), 'min_child_weight':range(1,6,2), 'gamma':[i/10.0 for i in range(0,5)],\\\n",
    "                          'max_features': list(range(1,X.shape[1])), 'subsample':[i/10.0 for i in range(6,10)], \\\n",
    "                          'colsample_bytree':[i/10.0 for i in range(6,10)], 'reg_alpha':[1e-5, 1e-2, 0.1, 1, 100]}\n",
    "\n",
    "n_iter_search = 10\n",
    "random_search = RandomizedSearchCV(xgb_model, param_distributions=parameters_for_testing, n_iter=n_iter_search, cv=2, iid=False, scoring='neg_mean_absolute_error', n_jobs = 2)\n",
    "random_search.fit(X,Y)"
   ]
  },
  {
   "cell_type": "code",
   "execution_count": 0,
   "metadata": {
    "colab": {
     "base_uri": "https://localhost:8080/",
     "height": 106
    },
    "colab_type": "code",
    "id": "E6Ht1JuQno9m",
    "outputId": "8a23fe01-9b0b-4ab0-8299-dac020ca936c"
   },
   "outputs": [
    {
     "name": "stdout",
     "output_type": "stream",
     "text": [
      "best params\n",
      "{'subsample': 0.9, 'reg_alpha': 1, 'n_estimators': 64, 'min_child_weight': 3, 'max_features': 21, 'max_depth': 7, 'learning_rate': 0.25, 'gamma': 0.2, 'colsample_bytree': 0.9}\n",
      "best score\n",
      "583335.6291396911\n"
     ]
    }
   ],
   "source": [
    "print('best params')\n",
    "print (random_search.best_params_)\n",
    "print('best score')\n",
    "print (-random_search.best_score_)"
   ]
  },
  {
   "cell_type": "markdown",
   "metadata": {
    "colab_type": "text",
    "id": "SQqTSXgjIx4U"
   },
   "source": [
    "#### 15 iteraciones"
   ]
  },
  {
   "cell_type": "code",
   "execution_count": 0,
   "metadata": {
    "colab": {},
    "colab_type": "code",
    "id": "blB2hrHsIx4Y",
    "outputId": "31388062-11e8-4b61-e57e-333b26a1bb55"
   },
   "outputs": [
    {
     "name": "stdout",
     "output_type": "stream",
     "text": [
      "[22:38:25] WARNING: /workspace/src/objective/regression_obj.cu:152: reg:linear is now deprecated in favor of reg:squarederror.\n",
      "best params\n",
      "{'subsample': 0.9, 'reg_alpha': 0.1, 'n_estimators': 64, 'min_child_weight': 1, 'max_features': 87, 'max_depth': 8, 'learning_rate': 0.25, 'gamma': 0.1, 'colsample_bytree': 0.9}\n",
      "best score\n",
      "572313.1540330648\n"
     ]
    }
   ],
   "source": [
    "parameters_for_testing = {'learning_rate': [1, 0.5, 0.25, 0.1, 0.05, 0.01], 'n_estimators': [1, 2, 4, 8, 16, 32, 64, 100, 200],\\\n",
    "                          'max_depth': list(range(5,10)), 'min_child_weight':range(1,6,2), 'gamma':[i/10.0 for i in range(0,5)],\\\n",
    "                          'max_features': list(range(1,X.shape[1])), 'subsample':[i/10.0 for i in range(6,10)], \\\n",
    "                          'colsample_bytree':[i/10.0 for i in range(6,10)], 'reg_alpha':[1e-5, 1e-2, 0.1, 1, 100]}\n",
    "\n",
    "n_iter_search = 15\n",
    "random_search = RandomizedSearchCV(xgb_model, param_distributions=parameters_for_testing, n_iter=n_iter_search, cv=2, iid=False, scoring='neg_mean_absolute_error', n_jobs = 2)\n",
    "random_search.fit(X,Y)\n",
    "print('best params')\n",
    "print (random_search.best_params_)\n",
    "print('best score')\n",
    "print (-random_search.best_score_)"
   ]
  },
  {
   "cell_type": "markdown",
   "metadata": {
    "colab_type": "text",
    "id": "ITkld1W7Ix4k"
   },
   "source": [
    "#### 25 iteraciones"
   ]
  },
  {
   "cell_type": "code",
   "execution_count": 0,
   "metadata": {
    "colab": {},
    "colab_type": "code",
    "id": "k9pXXB9eIx4o",
    "outputId": "9562e7f7-8231-478a-85f3-2efd68fbe606"
   },
   "outputs": [
    {
     "name": "stdout",
     "output_type": "stream",
     "text": [
      "[22:56:57] WARNING: /workspace/src/objective/regression_obj.cu:152: reg:linear is now deprecated in favor of reg:squarederror.\n",
      "best params\n",
      "{'subsample': 0.9, 'reg_alpha': 0.01, 'n_estimators': 64, 'min_child_weight': 1, 'max_features': 79, 'max_depth': 9, 'learning_rate': 0.25, 'gamma': 0.4, 'colsample_bytree': 0.6}\n",
      "best score\n",
      "563445.1418308828\n"
     ]
    }
   ],
   "source": [
    "parameters_for_testing = {'learning_rate': [1, 0.5, 0.25, 0.1, 0.05, 0.01], 'n_estimators': [1, 2, 4, 8, 16, 32, 64, 100, 200],\\\n",
    "                          'max_depth': list(range(5,10)), 'min_child_weight':range(1,6,2), 'gamma':[i/10.0 for i in range(0,5)],\\\n",
    "                          'max_features': list(range(1,X.shape[1])), 'subsample':[i/10.0 for i in range(6,10)], \\\n",
    "                          'colsample_bytree':[i/10.0 for i in range(6,10)], 'reg_alpha':[1e-5, 1e-2, 0.1, 1, 100]}\n",
    "\n",
    "n_iter_search = 25\n",
    "random_search = RandomizedSearchCV(xgb_model, param_distributions=parameters_for_testing, n_iter=n_iter_search, cv=2, iid=False, scoring='neg_mean_absolute_error', n_jobs = 2)\n",
    "random_search.fit(X,Y)\n",
    "print('best params')\n",
    "print (random_search.best_params_)\n",
    "print('best score')\n",
    "print (-random_search.best_score_)"
   ]
  },
  {
   "cell_type": "markdown",
   "metadata": {
    "colab_type": "text",
    "id": "TookyDu5Ix49"
   },
   "source": [
    "#### 35 iteraciones"
   ]
  },
  {
   "cell_type": "code",
   "execution_count": 0,
   "metadata": {
    "colab": {},
    "colab_type": "code",
    "id": "-9CjRtw0Ix5B",
    "outputId": "e15c0da3-f75f-4d78-fea3-69f2867db277"
   },
   "outputs": [
    {
     "name": "stderr",
     "output_type": "stream",
     "text": [
      "/home/sol/.local/lib/python3.6/site-packages/xgboost/core.py:587: FutureWarning: Series.base is deprecated and will be removed in a future version\n",
      "  if getattr(data, 'base', None) is not None and \\\n",
      "/home/sol/.local/lib/python3.6/site-packages/xgboost/core.py:588: FutureWarning: Series.base is deprecated and will be removed in a future version\n",
      "  data.base is not None and isinstance(data, np.ndarray) \\\n"
     ]
    },
    {
     "name": "stdout",
     "output_type": "stream",
     "text": [
      "[10:52:47] WARNING: /workspace/src/objective/regression_obj.cu:152: reg:linear is now deprecated in favor of reg:squarederror.\n",
      "best params\n",
      "{'subsample': 0.9, 'reg_alpha': 1, 'n_estimators': 200, 'min_child_weight': 1, 'max_features': 43, 'max_depth': 9, 'learning_rate': 0.25, 'gamma': 0.0, 'colsample_bytree': 0.9}\n",
      "best score\n",
      "546428.884584903\n"
     ]
    }
   ],
   "source": [
    "parameters_for_testing = {'learning_rate': [1, 0.5, 0.25, 0.1, 0.05, 0.01], 'n_estimators': [1, 2, 4, 8, 16, 32, 64, 100, 200],\\\n",
    "                          'max_depth': list(range(5,10)), 'min_child_weight':range(1,6,2), 'gamma':[i/10.0 for i in range(0,5)],\\\n",
    "                          'max_features': list(range(1,X.shape[1])), 'subsample':[i/10.0 for i in range(6,10)], \\\n",
    "                          'colsample_bytree':[i/10.0 for i in range(6,10)], 'reg_alpha':[1e-5, 1e-2, 0.1, 1, 100]}\n",
    "\n",
    "n_iter_search = 35\n",
    "random_search = RandomizedSearchCV(xgb_model, param_distributions=parameters_for_testing, n_iter=n_iter_search, cv=2, iid=False, scoring='neg_mean_absolute_error', n_jobs = 2)\n",
    "random_search.fit(X,Y)\n",
    "print('best params')\n",
    "print (random_search.best_params_)\n",
    "print('best score')\n",
    "print (-random_search.best_score_)"
   ]
  },
  {
   "cell_type": "markdown",
   "metadata": {
    "colab_type": "text",
    "id": "KvC-Q5UQEl39"
   },
   "source": [
    "45 iteraciones"
   ]
  },
  {
   "cell_type": "code",
   "execution_count": 0,
   "metadata": {
    "colab": {
     "base_uri": "https://localhost:8080/",
     "height": 193
    },
    "colab_type": "code",
    "id": "O4glzRrCEkvE",
    "outputId": "2234bdb3-e5f1-4874-b714-abaa1f59ff72"
   },
   "outputs": [
    {
     "name": "stderr",
     "output_type": "stream",
     "text": [
      "/usr/local/lib/python3.6/dist-packages/xgboost/core.py:587: FutureWarning: Series.base is deprecated and will be removed in a future version\n",
      "  if getattr(data, 'base', None) is not None and \\\n",
      "/usr/local/lib/python3.6/dist-packages/xgboost/core.py:588: FutureWarning: Series.base is deprecated and will be removed in a future version\n",
      "  data.base is not None and isinstance(data, np.ndarray) \\\n"
     ]
    },
    {
     "name": "stdout",
     "output_type": "stream",
     "text": [
      "[00:49:10] WARNING: /workspace/src/objective/regression_obj.cu:152: reg:linear is now deprecated in favor of reg:squarederror.\n",
      "best params\n",
      "{'subsample': 0.6, 'reg_alpha': 0.1, 'n_estimators': 200, 'min_child_weight': 5, 'max_features': 85, 'max_depth': 7, 'learning_rate': 0.25, 'gamma': 0.2, 'colsample_bytree': 0.6}\n",
      "best score\n",
      "569930.0916656256\n"
     ]
    }
   ],
   "source": [
    "parameters_for_testing = {'learning_rate': [1, 0.5, 0.25, 0.1, 0.05, 0.01], 'n_estimators': [1, 2, 4, 8, 16, 32, 64, 100, 200],\\\n",
    "                          'max_depth': list(range(5,10)), 'min_child_weight':range(1,6,2), 'gamma':[i/10.0 for i in range(0,5)],\\\n",
    "                          'max_features': list(range(1,X.shape[1])), 'subsample':[i/10.0 for i in range(6,10)], \\\n",
    "                          'colsample_bytree':[i/10.0 for i in range(6,10)], 'reg_alpha':[1e-5, 1e-2, 0.1, 1, 100]}\n",
    "\n",
    "n_iter_search = 45\n",
    "random_search = RandomizedSearchCV(xgb_model, param_distributions=parameters_for_testing, n_iter=n_iter_search, cv=2, iid=False, scoring='neg_mean_absolute_error', n_jobs = 2)\n",
    "random_search.fit(X,Y)\n",
    "print('best params')\n",
    "print (random_search.best_params_)\n",
    "print('best score')\n",
    "print (-random_search.best_score_)"
   ]
  },
  {
   "cell_type": "markdown",
   "metadata": {
    "colab_type": "text",
    "id": "gZNggKHl6i3X"
   },
   "source": [
    "## Random Forest"
   ]
  },
  {
   "cell_type": "markdown",
   "metadata": {
    "colab_type": "text",
    "id": "uTzYmBdbIx5a"
   },
   "source": [
    "#### 5 iteraciones"
   ]
  },
  {
   "cell_type": "code",
   "execution_count": 0,
   "metadata": {
    "colab": {},
    "colab_type": "code",
    "id": "FcppuO3mIx5c",
    "outputId": "81df3b10-6145-4e93-d105-d1433cf548de"
   },
   "outputs": [
    {
     "name": "stderr",
     "output_type": "stream",
     "text": [
      "/home/sol/.local/lib/python3.6/site-packages/sklearn/ensemble/forest.py:737: UserWarning: Some inputs do not have OOB scores. This probably means too few trees were used to compute any reliable oob estimates.\n",
      "  warn(\"Some inputs do not have OOB scores. \"\n"
     ]
    },
    {
     "data": {
      "text/plain": [
       "RandomizedSearchCV(cv=2, error_score='raise-deprecating',\n",
       "                   estimator=RandomForestRegressor(bootstrap=True,\n",
       "                                                   criterion='mse',\n",
       "                                                   max_depth=None,\n",
       "                                                   max_features='auto',\n",
       "                                                   max_leaf_nodes=None,\n",
       "                                                   min_impurity_decrease=0.0,\n",
       "                                                   min_impurity_split=None,\n",
       "                                                   min_samples_leaf=1,\n",
       "                                                   min_samples_split=2,\n",
       "                                                   min_weight_fraction_leaf=0.0,\n",
       "                                                   n_estimators=60, n_jobs=None,\n",
       "                                                   oob_score=True,\n",
       "                                                   random_state=42...\n",
       "                                        'max_features': [1, 2, 3, 4, 5, 6, 7, 8,\n",
       "                                                         9, 10, 11, 12, 13, 14,\n",
       "                                                         15, 16, 17, 18, 19, 20,\n",
       "                                                         21, 22, 23, 24, 25, 26,\n",
       "                                                         27, 28, 29, 30, ...],\n",
       "                                        'min_samples_leaf': [1, 2, 5, 10, 15],\n",
       "                                        'min_samples_split': range(5, 25, 5),\n",
       "                                        'n_estimators': range(10, 100, 10),\n",
       "                                        'random_state': range(1, 50, 7)},\n",
       "                   pre_dispatch='2*n_jobs', random_state=None, refit=True,\n",
       "                   return_train_score=False, scoring='neg_mean_absolute_error',\n",
       "                   verbose=0)"
      ]
     },
     "execution_count": 29,
     "metadata": {
      "tags": []
     },
     "output_type": "execute_result"
    }
   ],
   "source": [
    "parameters_for_testing = {'n_estimators': range(10,100,10), 'random_state': range(1,50,7), \\\n",
    "                          'max_depth': range(5,50,5), 'min_samples_split': range(5,25,5), \\\n",
    "                          'min_samples_leaf': [1,2,5,10,15], 'max_features': list(range(1, X.shape[1]+1))}\n",
    "\n",
    "n_iter_search = 5\n",
    "random_search = RandomizedSearchCV(rf_model, param_distributions=parameters_for_testing, n_iter=n_iter_search, cv=2, iid=False, scoring='neg_mean_absolute_error', n_jobs = 2)\n",
    "random_search.fit(X,Y)"
   ]
  },
  {
   "cell_type": "code",
   "execution_count": 0,
   "metadata": {
    "colab": {},
    "colab_type": "code",
    "id": "1hLs1gD6zFDf",
    "outputId": "c8742231-49af-4294-d6fb-e76b769be2f9"
   },
   "outputs": [
    {
     "name": "stdout",
     "output_type": "stream",
     "text": [
      "best params\n",
      "{'random_state': 8, 'n_estimators': 20, 'min_samples_split': 15, 'min_samples_leaf': 5, 'max_features': 39, 'max_depth': 35}\n",
      "best score\n",
      "588722.4998898337\n"
     ]
    }
   ],
   "source": [
    "print('best params')\n",
    "print (random_search.best_params_)\n",
    "print('best score')\n",
    "print (-random_search.best_score_)"
   ]
  },
  {
   "cell_type": "markdown",
   "metadata": {
    "colab_type": "text",
    "id": "7pxh6OxgIx50"
   },
   "source": [
    "#### Pruebo con 10 iteraciones"
   ]
  },
  {
   "cell_type": "code",
   "execution_count": 0,
   "metadata": {
    "colab": {},
    "colab_type": "code",
    "id": "VCDo2oxeIx55"
   },
   "outputs": [],
   "source": [
    "parameters_for_testing = {'n_estimators': range(50,300,50), 'random_state': range(7,126,7), \\\n",
    "                          'max_depth': range(5,50,5), 'min_samples_split': range(5,25,5), \\\n",
    "                          'min_samples_leaf': [1,2,5,10,15], 'max_features': list(range(1, X.shape[1]+1, 10))}\n",
    "\n",
    "n_iter_search = 10\n",
    "random_search = RandomizedSearchCV(rf_model, param_distributions=parameters_for_testing, n_iter=n_iter_search, cv=2, iid=False, scoring='neg_mean_absolute_error', n_jobs = 2)\n",
    "random_search.fit(X,Y)"
   ]
  },
  {
   "cell_type": "code",
   "execution_count": 0,
   "metadata": {
    "colab": {},
    "colab_type": "code",
    "id": "B5EtRH9IIx6G",
    "outputId": "47a0b4e4-944a-49da-8a9f-205cdd0413f0",
    "scrolled": true
   },
   "outputs": [
    {
     "name": "stdout",
     "output_type": "stream",
     "text": [
      "best params\n",
      "{'random_state': 105, 'n_estimators': 150, 'min_samples_split': 15, 'min_samples_leaf': 1, 'max_features': 41, 'max_depth': 45}\n",
      "best score\n",
      "567396.8493042341\n"
     ]
    }
   ],
   "source": [
    "print('best params')\n",
    "print (random_search.best_params_)\n",
    "print('best score')\n",
    "print (-random_search.best_score_)"
   ]
  },
  {
   "cell_type": "markdown",
   "metadata": {
    "colab_type": "text",
    "id": "uCVSCMZIIx6R"
   },
   "source": [
    "### 20 iteraciones"
   ]
  },
  {
   "cell_type": "code",
   "execution_count": 0,
   "metadata": {
    "colab": {},
    "colab_type": "code",
    "id": "uHqkBPXL8lCQ",
    "outputId": "f734240b-5a27-4c05-b811-c70f67eb9e93"
   },
   "outputs": [
    {
     "name": "stdout",
     "output_type": "stream",
     "text": [
      "best params\n",
      "{'random_state': 63, 'n_estimators': 250, 'min_samples_split': 5, 'min_samples_leaf': 1, 'max_features': 31, 'max_depth': 40}\n",
      "best score\n",
      "555993.6968661934\n"
     ]
    }
   ],
   "source": [
    "parameters_for_testing = {'n_estimators': range(50,300,50), 'random_state': range(7,126,7), \\\n",
    "                          'max_depth': range(5,50,5), 'min_samples_split': range(5,25,5), \\\n",
    "                          'min_samples_leaf': [1,2,5,10,15], 'max_features': list(range(1, X.shape[1]+1, 10))}\n",
    "\n",
    "n_iter_search = 20\n",
    "random_search = RandomizedSearchCV(rf_model, param_distributions=parameters_for_testing, n_iter=n_iter_search, cv=2, iid=False, scoring='neg_mean_absolute_error', n_jobs = 2)\n",
    "random_search.fit(X,Y)\n",
    "print('best params')\n",
    "print (random_search.best_params_)\n",
    "print('best score')\n",
    "print (-random_search.best_score_)"
   ]
  },
  {
   "cell_type": "markdown",
   "metadata": {
    "colab_type": "text",
    "id": "CM9OKD5lIx6g"
   },
   "source": [
    "#### 30 iteraciones"
   ]
  },
  {
   "cell_type": "code",
   "execution_count": 0,
   "metadata": {
    "colab": {},
    "colab_type": "code",
    "id": "_9_FQzITIx6k",
    "outputId": "06eaa160-e377-432d-f274-6fdd4f193bb2"
   },
   "outputs": [
    {
     "name": "stdout",
     "output_type": "stream",
     "text": [
      "best params\n",
      "{'random_state': 14, 'n_estimators': 200, 'min_samples_split': 5, 'min_samples_leaf': 2, 'max_features': 51, 'max_depth': 40}\n",
      "best score\n",
      "552924.4573582707\n"
     ]
    }
   ],
   "source": [
    "rf_model = RandomForestRegressor(oob_score= True)\n",
    "parameters_for_testing = {'n_estimators': range(50,300,50), 'random_state': range(7,126,7), \\\n",
    "                          'max_depth': range(5,50,5), 'min_samples_split': range(5,25,5), \\\n",
    "                          'min_samples_leaf': [1,2,5,10,15], 'max_features': list(range(1, X.shape[1]+1, 10))}\n",
    "\n",
    "n_iter_search = 30\n",
    "random_search = RandomizedSearchCV(rf_model, param_distributions=parameters_for_testing, n_iter=n_iter_search, cv=2, iid=False, scoring='neg_mean_absolute_error', n_jobs = 2)\n",
    "random_search.fit(X,Y)\n",
    "print('best params')\n",
    "print (random_search.best_params_)\n",
    "print('best score')\n",
    "print (-random_search.best_score_)"
   ]
  },
  {
   "cell_type": "markdown",
   "metadata": {
    "colab_type": "text",
    "id": "qM8VwTsCIx61"
   },
   "source": [
    "## Pruebo GridSearch con Voting Regressor"
   ]
  },
  {
   "cell_type": "code",
   "execution_count": 22,
   "metadata": {
    "colab": {},
    "colab_type": "code",
    "id": "PvjfvIVBIx64"
   },
   "outputs": [],
   "source": [
    "xgb_model = xgb.XGBRegressor(subsample = 0.9, reg_alpha = 1, n_estimators = 200, min_child_weight = 1,\\\n",
    "                             max_features = 43, max_depth = 9, learning_rate = 0.25, gamma = 0.0, \\\n",
    "                             colsample_bytree = 0.9)\n",
    "rf_model = RandomForestRegressor(random_state = 14, n_estimators = 200, min_samples_split = 5,\\\n",
    "                                 min_samples_leaf = 2, max_features = 51, max_depth = 40)\n",
    "vr_model = VotingRegressor(estimators = [('XGBoost', xgb_model), ('RandomForest', rf_model)])\n",
    "\n"
   ]
  },
  {
   "cell_type": "markdown",
   "metadata": {
    "colab_type": "text",
    "id": "iyNW6GIJIx7B"
   },
   "source": [
    "#### Pruebo con pesos bastante diferentes"
   ]
  },
  {
   "cell_type": "code",
   "execution_count": 0,
   "metadata": {
    "colab": {},
    "colab_type": "code",
    "id": "1fDE5TmYIx7H",
    "outputId": "a9192d07-05cb-44dc-abcd-91b7b4fde5ea"
   },
   "outputs": [
    {
     "name": "stderr",
     "output_type": "stream",
     "text": [
      "/home/sol/.local/lib/python3.6/site-packages/xgboost/core.py:587: FutureWarning: Series.base is deprecated and will be removed in a future version\n",
      "  if getattr(data, 'base', None) is not None and \\\n",
      "/home/sol/.local/lib/python3.6/site-packages/xgboost/core.py:588: FutureWarning: Series.base is deprecated and will be removed in a future version\n",
      "  data.base is not None and isinstance(data, np.ndarray) \\\n"
     ]
    },
    {
     "name": "stdout",
     "output_type": "stream",
     "text": [
      "[12:59:17] WARNING: /workspace/src/objective/regression_obj.cu:152: reg:linear is now deprecated in favor of reg:squarederror.\n",
      "best params\n",
      "{'weights': [1, 1]}\n",
      "best score\n",
      "523366.23917588237\n"
     ]
    }
   ],
   "source": [
    "parameters_for_testing = {'weights': [[1,2], [2,1], [1,1]]}\n",
    "\n",
    "gsearch1 = GridSearchCV(vr_model, param_grid=parameters_for_testing, cv=2, iid=False, scoring='neg_mean_absolute_error', n_jobs = 2)\n",
    "gsearch1.fit(X,Y)\n",
    "\n",
    "print('best params')\n",
    "print (gsearch1.best_params_)\n",
    "print('best score')\n",
    "print (-gsearch1.best_score_)"
   ]
  },
  {
   "cell_type": "markdown",
   "metadata": {
    "colab_type": "text",
    "id": "x8YDI5c0Ix7V"
   },
   "source": [
    "#### Pruebo con pesos más pequeños"
   ]
  },
  {
   "cell_type": "code",
   "execution_count": 0,
   "metadata": {
    "colab": {},
    "colab_type": "code",
    "id": "wOJK_ltRIx7a",
    "outputId": "895cfa1b-7353-49a6-9f1c-6b1856b60769"
   },
   "outputs": [
    {
     "name": "stderr",
     "output_type": "stream",
     "text": [
      "/home/sol/.local/lib/python3.6/site-packages/xgboost/core.py:587: FutureWarning: Series.base is deprecated and will be removed in a future version\n",
      "  if getattr(data, 'base', None) is not None and \\\n",
      "/home/sol/.local/lib/python3.6/site-packages/xgboost/core.py:588: FutureWarning: Series.base is deprecated and will be removed in a future version\n",
      "  data.base is not None and isinstance(data, np.ndarray) \\\n"
     ]
    },
    {
     "name": "stdout",
     "output_type": "stream",
     "text": [
      "[14:24:47] WARNING: /workspace/src/objective/regression_obj.cu:152: reg:linear is now deprecated in favor of reg:squarederror.\n",
      "best params\n",
      "{'weights': [1, 1]}\n",
      "best score\n",
      "511880.43988359044\n"
     ]
    }
   ],
   "source": [
    "parameters_for_testing = {'weights': [[1,1], [0.5,0.5], [0.75,0.75], [0.25,0.25]]}\n",
    "\n",
    "gsearch1 = GridSearchCV(vr_model, param_grid=parameters_for_testing, cv=3, iid=False, scoring='neg_mean_absolute_error', n_jobs = 2)\n",
    "gsearch1.fit(X,Y)\n",
    "\n",
    "print('best params')\n",
    "print (gsearch1.best_params_)\n",
    "print('best score')\n",
    "print (-gsearch1.best_score_)"
   ]
  },
  {
   "cell_type": "markdown",
   "metadata": {
    "colab_type": "text",
    "id": "g1gh0pBuIx7m"
   },
   "source": [
    "### Añado más estimadores "
   ]
  },
  {
   "cell_type": "code",
   "execution_count": 0,
   "metadata": {
    "colab": {},
    "colab_type": "code",
    "id": "iD_PCeFWIx71"
   },
   "outputs": [],
   "source": [
    "xgb_model = xgb.XGBRegressor(subsample = 0.9, reg_alpha = 1, n_estimators = 200, min_child_weight = 1,\\\n",
    "                             max_features = 43, max_depth = 9, learning_rate = 0.25, gamma = 0.0, \\\n",
    "                             colsample_bytree = 0.9)\n",
    "rf_model = RandomForestRegressor(random_state = 14, n_estimators = 200, min_samples_split = 5,\\\n",
    "                                 min_samples_leaf = 2, max_features = 51, max_depth = 40)\n",
    "\n",
    "knn_model = KNeighborsRegressor(metric = 'manhattan', n_neighbors = 7, weights = 'distance')\n",
    "\n",
    "vr_model = VotingRegressor(estimators = [('XGBoost', xgb_model), ('RandomForest', rf_model), ('KNN', knn_model)])\n"
   ]
  },
  {
   "cell_type": "code",
   "execution_count": 0,
   "metadata": {
    "colab": {},
    "colab_type": "code",
    "id": "Q3Sev57fIx8E",
    "outputId": "3d336e5c-5b14-4184-ce01-94d6524f9949"
   },
   "outputs": [
    {
     "name": "stderr",
     "output_type": "stream",
     "text": [
      "/home/sol/.local/lib/python3.6/site-packages/xgboost/core.py:587: FutureWarning: Series.base is deprecated and will be removed in a future version\n",
      "  if getattr(data, 'base', None) is not None and \\\n",
      "/home/sol/.local/lib/python3.6/site-packages/xgboost/core.py:588: FutureWarning: Series.base is deprecated and will be removed in a future version\n",
      "  data.base is not None and isinstance(data, np.ndarray) \\\n"
     ]
    },
    {
     "name": "stdout",
     "output_type": "stream",
     "text": [
      "[17:26:44] WARNING: /workspace/src/objective/regression_obj.cu:152: reg:linear is now deprecated in favor of reg:squarederror.\n",
      "best params\n",
      "{'weights': [1, 1, 0.25]}\n",
      "best score\n",
      "521427.87020998134\n"
     ]
    }
   ],
   "source": [
    "parameters_for_testing = {'weights': [[1,1,0.25], [1,1,0.75], [1,1,0.5], [1,1,1]]}\n",
    "\n",
    "gsearch1 = GridSearchCV(vr_model, param_grid=parameters_for_testing, cv=2, iid=False, scoring='neg_mean_absolute_error', n_jobs = 2)\n",
    "gsearch1.fit(X,Y)\n",
    "\n",
    "print('best params')\n",
    "print (gsearch1.best_params_)\n",
    "print('best score')\n",
    "print (-gsearch1.best_score_)"
   ]
  },
  {
   "cell_type": "markdown",
   "metadata": {
    "colab_type": "text",
    "id": "xwAhXBhBIx8O"
   },
   "source": [
    "### Pruebo con valores más chicos"
   ]
  },
  {
   "cell_type": "code",
   "execution_count": 0,
   "metadata": {
    "colab": {
     "base_uri": "https://localhost:8080/",
     "height": 228
    },
    "colab_type": "code",
    "id": "KiKjdqMXIx8T",
    "outputId": "7044a415-6710-4f72-d878-105639577040"
   },
   "outputs": [
    {
     "name": "stderr",
     "output_type": "stream",
     "text": [
      "/usr/local/lib/python3.6/dist-packages/joblib/externals/loky/process_executor.py:706: UserWarning: A worker stopped while some jobs were given to the executor. This can be caused by a too short worker timeout or by a memory leak.\n",
      "  \"timeout or by a memory leak.\", UserWarning\n",
      "/usr/local/lib/python3.6/dist-packages/xgboost/core.py:587: FutureWarning: Series.base is deprecated and will be removed in a future version\n",
      "  if getattr(data, 'base', None) is not None and \\\n",
      "/usr/local/lib/python3.6/dist-packages/xgboost/core.py:588: FutureWarning: Series.base is deprecated and will be removed in a future version\n",
      "  data.base is not None and isinstance(data, np.ndarray) \\\n"
     ]
    },
    {
     "name": "stdout",
     "output_type": "stream",
     "text": [
      "[02:27:09] WARNING: /workspace/src/objective/regression_obj.cu:152: reg:linear is now deprecated in favor of reg:squarederror.\n",
      "best params\n",
      "{'weights': [1, 1, 0.2]}\n",
      "best score\n",
      "520927.5384595716\n"
     ]
    }
   ],
   "source": [
    "parameters_for_testing = {'weights': [[1,1,0.05], [1,1,0.1], [1,1,0.2], [1,1,0.25]]}\n",
    "\n",
    "gsearch1 = GridSearchCV(vr_model, param_grid=parameters_for_testing, cv=2, iid=False, scoring='neg_mean_absolute_error', n_jobs = 2)\n",
    "gsearch1.fit(X,Y)\n",
    "\n",
    "print('best params')\n",
    "print (gsearch1.best_params_)\n",
    "print('best score')\n",
    "print (-gsearch1.best_score_)"
   ]
  },
  {
   "cell_type": "markdown",
   "metadata": {
    "colab_type": "text",
    "id": "8XLp_B86m0Ra"
   },
   "source": [
    "### Añado otro estimador"
   ]
  },
  {
   "cell_type": "code",
   "execution_count": 0,
   "metadata": {
    "colab": {},
    "colab_type": "code",
    "id": "KMNpN-pdIx8c"
   },
   "outputs": [],
   "source": [
    "xgb_model = xgb.XGBRegressor(subsample = 0.9, reg_alpha = 1, n_estimators = 200, min_child_weight = 1,\\\n",
    "                             max_features = 43, max_depth = 9, learning_rate = 0.25, gamma = 0.0, \\\n",
    "                             colsample_bytree = 0.9)\n",
    "rf_model = RandomForestRegressor(random_state = 14, n_estimators = 200, min_samples_split = 5,\\\n",
    "                                 min_samples_leaf = 2, max_features = 51, max_depth = 40)\n",
    "\n",
    "dtr_model = DecisionTreeRegressor(max_depth = 16, max_features = 95, min_samples_split = 20)\n",
    "\n",
    "vr_model = VotingRegressor(estimators = [('XGBoost', xgb_model), ('RandomForest', rf_model), ('KNN', knn_model)])"
   ]
  },
  {
   "cell_type": "code",
   "execution_count": 0,
   "metadata": {
    "colab": {
     "base_uri": "https://localhost:8080/",
     "height": 228
    },
    "colab_type": "code",
    "id": "_OVVLhh8Ix8n",
    "outputId": "afb1e8b0-0857-429a-da65-acb75648f20b"
   },
   "outputs": [
    {
     "name": "stderr",
     "output_type": "stream",
     "text": [
      "/usr/local/lib/python3.6/dist-packages/joblib/externals/loky/process_executor.py:706: UserWarning: A worker stopped while some jobs were given to the executor. This can be caused by a too short worker timeout or by a memory leak.\n",
      "  \"timeout or by a memory leak.\", UserWarning\n",
      "/usr/local/lib/python3.6/dist-packages/xgboost/core.py:587: FutureWarning: Series.base is deprecated and will be removed in a future version\n",
      "  if getattr(data, 'base', None) is not None and \\\n",
      "/usr/local/lib/python3.6/dist-packages/xgboost/core.py:588: FutureWarning: Series.base is deprecated and will be removed in a future version\n",
      "  data.base is not None and isinstance(data, np.ndarray) \\\n"
     ]
    },
    {
     "name": "stdout",
     "output_type": "stream",
     "text": [
      "[21:32:03] WARNING: /workspace/src/objective/regression_obj.cu:152: reg:linear is now deprecated in favor of reg:squarederror.\n",
      "best params\n",
      "{'weights': [1, 1, 0.05]}\n",
      "best score\n",
      "522822.37958602805\n"
     ]
    }
   ],
   "source": [
    "parameters_for_testing = {'weights': [[1,1,0.05], [1,1,0.1], [1,1,0.2], [1,1,0.25]]}\n",
    "\n",
    "gsearch1 = GridSearchCV(vr_model, param_grid=parameters_for_testing, cv=2, iid=False, scoring='neg_mean_absolute_error', n_jobs = 2)\n",
    "gsearch1.fit(X,Y)\n",
    "\n",
    "print('best params')\n",
    "print (gsearch1.best_params_)\n",
    "print('best score')\n",
    "print (-gsearch1.best_score_)"
   ]
  },
  {
   "cell_type": "markdown",
   "metadata": {
    "colab_type": "text",
    "id": "3KKCqK__ynt-"
   },
   "source": [
    "#### Pruebo con valores más chicos\n"
   ]
  },
  {
   "cell_type": "code",
   "execution_count": 0,
   "metadata": {
    "colab": {
     "base_uri": "https://localhost:8080/",
     "height": 228
    },
    "colab_type": "code",
    "id": "dxJMrBgmIx8y",
    "outputId": "115040d6-d244-4e18-d26b-f757370ae8fe"
   },
   "outputs": [
    {
     "name": "stderr",
     "output_type": "stream",
     "text": [
      "/usr/local/lib/python3.6/dist-packages/joblib/externals/loky/process_executor.py:706: UserWarning: A worker stopped while some jobs were given to the executor. This can be caused by a too short worker timeout or by a memory leak.\n",
      "  \"timeout or by a memory leak.\", UserWarning\n",
      "/usr/local/lib/python3.6/dist-packages/xgboost/core.py:587: FutureWarning: Series.base is deprecated and will be removed in a future version\n",
      "  if getattr(data, 'base', None) is not None and \\\n",
      "/usr/local/lib/python3.6/dist-packages/xgboost/core.py:588: FutureWarning: Series.base is deprecated and will be removed in a future version\n",
      "  data.base is not None and isinstance(data, np.ndarray) \\\n"
     ]
    },
    {
     "name": "stdout",
     "output_type": "stream",
     "text": [
      "[22:23:36] WARNING: /workspace/src/objective/regression_obj.cu:152: reg:linear is now deprecated in favor of reg:squarederror.\n",
      "best params\n",
      "{'weights': [1.1, 1, 0.025]}\n",
      "best score\n",
      "522852.5528788901\n"
     ]
    }
   ],
   "source": [
    "parameters_for_testing = {'weights': [[1.5,1,0.005], [1.1,1,0.005], [1.5,1,0.025], [1.1,1,0.025]]}\n",
    "\n",
    "gsearch1 = GridSearchCV(vr_model, param_grid=parameters_for_testing, cv=2, iid=False, scoring='neg_mean_absolute_error', n_jobs = 2)\n",
    "gsearch1.fit(X,Y)\n",
    "\n",
    "print('best params')\n",
    "print (gsearch1.best_params_)\n",
    "print('best score')\n",
    "print (-gsearch1.best_score_)"
   ]
  },
  {
   "cell_type": "markdown",
   "metadata": {
    "colab_type": "text",
    "id": "aUT5vY4up59q"
   },
   "source": [
    "## AdaBoost Regressor"
   ]
  },
  {
   "cell_type": "code",
   "execution_count": 24,
   "metadata": {},
   "outputs": [],
   "source": [
    "dtr_model = DecisionTreeRegressor(max_depth = 16, max_features = 95, min_samples_split = 20)\n",
    "abr_model = AdaBoostRegressor(base_estimator=dtr_model)"
   ]
  },
  {
   "cell_type": "code",
   "execution_count": 0,
   "metadata": {
    "colab": {
     "base_uri": "https://localhost:8080/",
     "height": 34
    },
    "colab_type": "code",
    "id": "qsUyqkCbp6Lj",
    "outputId": "309b5f2b-cf9a-4455-dc8d-8702210cec99"
   },
   "outputs": [
    {
     "data": {
      "text/plain": [
       "623656.4103659384"
      ]
     },
     "execution_count": 30,
     "metadata": {
      "tags": []
     },
     "output_type": "execute_result"
    }
   ],
   "source": [
    "scores = cross_val_score(abr_model , X, Y, scoring=\"neg_mean_absolute_error\", cv=2)\n",
    "abr_mae_score = -scores.mean()\n",
    "abr_mae_score"
   ]
  },
  {
   "cell_type": "markdown",
   "metadata": {
    "colab_type": "text",
    "id": "YwKW0fKbuz_5"
   },
   "source": [
    "#### 10 iteraciones"
   ]
  },
  {
   "cell_type": "code",
   "execution_count": 25,
   "metadata": {
    "colab": {
     "base_uri": "https://localhost:8080/",
     "height": 72
    },
    "colab_type": "code",
    "id": "LkChAitBIx87",
    "outputId": "a557afdb-55e9-4840-b8a4-dbe9bc091af3"
   },
   "outputs": [
    {
     "name": "stdout",
     "output_type": "stream",
     "text": [
      "best params\n",
      "{'random_state': 71, 'n_estimators': 150, 'loss': 'exponential', 'learning_rate': 0.2}\n",
      "best score\n",
      "582871.0480234121\n"
     ]
    }
   ],
   "source": [
    "parameters_for_testing = {'n_estimators': range(10,500,10), 'random_state': range(1,100,7), \\\n",
    "                          'learning_rate': [0.1,0.2,0.3,0.4,0.5,0.6,0.7,0.8,0.9,1], 'loss': ['linear', 'square', 'exponential']}\n",
    "\n",
    "n_iter_search = 10\n",
    "random_search = RandomizedSearchCV(abr_model, param_distributions=parameters_for_testing, n_iter=n_iter_search, cv=2, iid=False, scoring='neg_mean_absolute_error', n_jobs = 2)\n",
    "random_search.fit(X,Y)\n",
    "print('best params')\n",
    "print (random_search.best_params_)\n",
    "print('best score')\n",
    "print (-random_search.best_score_)"
   ]
  },
  {
   "cell_type": "markdown",
   "metadata": {
    "colab_type": "text",
    "id": "iGKzIbsLIx9V"
   },
   "source": [
    "## Creación del submit"
   ]
  },
  {
   "cell_type": "code",
   "execution_count": 0,
   "metadata": {
    "colab": {},
    "colab_type": "code",
    "id": "WOQDITIBIx9Z"
   },
   "outputs": [],
   "source": [
    "def crear_submit(model, x_train, y_train, x_test, nombre):\n",
    "    model.fit(x_train, y_train)\n",
    "    result = model.predict(x_test)\n",
    "    for i in range(len(result)):\n",
    "      result[i] = round(result[i],-3)\n",
    "    #final = pd.read_csv(\"../content/drive/My Drive/data/test.csv\", usecols = ['id'])\n",
    "    final = pd.read_csv(\"data/test.csv\", usecols = ['id'])\n",
    "    final['target'] = result\n",
    "    #Ruta desde Colab\n",
    "    #ruta = \"../content/drive/My Drive/data/submit\"+ nombre +\".csv\"\n",
    "    #Ruta local\n",
    "    ruta = \"data/submit\"+ nombre +\".csv\"\n",
    "    final.to_csv(ruta,index=False)\n",
    "    return final"
   ]
  },
  {
   "cell_type": "code",
   "execution_count": 0,
   "metadata": {
    "colab": {},
    "colab_type": "code",
    "id": "nMTdzvbVIx9i",
    "outputId": "8bb7e836-4d86-486a-918d-e49477e725d1"
   },
   "outputs": [
    {
     "name": "stderr",
     "output_type": "stream",
     "text": [
      "/home/sol/.local/lib/python3.6/site-packages/xgboost/core.py:587: FutureWarning: Series.base is deprecated and will be removed in a future version\n",
      "  if getattr(data, 'base', None) is not None and \\\n",
      "/home/sol/.local/lib/python3.6/site-packages/xgboost/core.py:588: FutureWarning: Series.base is deprecated and will be removed in a future version\n",
      "  data.base is not None and isinstance(data, np.ndarray) \\\n"
     ]
    },
    {
     "name": "stdout",
     "output_type": "stream",
     "text": [
      "[14:55:21] WARNING: /workspace/src/objective/regression_obj.cu:152: reg:linear is now deprecated in favor of reg:squarederror.\n"
     ]
    },
    {
     "data": {
      "text/html": [
       "<div>\n",
       "<style scoped>\n",
       "    .dataframe tbody tr th:only-of-type {\n",
       "        vertical-align: middle;\n",
       "    }\n",
       "\n",
       "    .dataframe tbody tr th {\n",
       "        vertical-align: top;\n",
       "    }\n",
       "\n",
       "    .dataframe thead th {\n",
       "        text-align: right;\n",
       "    }\n",
       "</style>\n",
       "<table border=\"1\" class=\"dataframe\">\n",
       "  <thead>\n",
       "    <tr style=\"text-align: right;\">\n",
       "      <th></th>\n",
       "      <th>id</th>\n",
       "      <th>target</th>\n",
       "    </tr>\n",
       "  </thead>\n",
       "  <tbody>\n",
       "    <tr>\n",
       "      <th>0</th>\n",
       "      <td>4941</td>\n",
       "      <td>5157000.0</td>\n",
       "    </tr>\n",
       "    <tr>\n",
       "      <th>1</th>\n",
       "      <td>51775</td>\n",
       "      <td>1096000.0</td>\n",
       "    </tr>\n",
       "    <tr>\n",
       "      <th>2</th>\n",
       "      <td>115253</td>\n",
       "      <td>2232000.0</td>\n",
       "    </tr>\n",
       "    <tr>\n",
       "      <th>3</th>\n",
       "      <td>299321</td>\n",
       "      <td>1164000.0</td>\n",
       "    </tr>\n",
       "    <tr>\n",
       "      <th>4</th>\n",
       "      <td>173570</td>\n",
       "      <td>605000.0</td>\n",
       "    </tr>\n",
       "    <tr>\n",
       "      <th>...</th>\n",
       "      <td>...</td>\n",
       "      <td>...</td>\n",
       "    </tr>\n",
       "    <tr>\n",
       "      <th>59995</th>\n",
       "      <td>75094</td>\n",
       "      <td>3477000.0</td>\n",
       "    </tr>\n",
       "    <tr>\n",
       "      <th>59996</th>\n",
       "      <td>171847</td>\n",
       "      <td>728000.0</td>\n",
       "    </tr>\n",
       "    <tr>\n",
       "      <th>59997</th>\n",
       "      <td>138313</td>\n",
       "      <td>970000.0</td>\n",
       "    </tr>\n",
       "    <tr>\n",
       "      <th>59998</th>\n",
       "      <td>271268</td>\n",
       "      <td>1563000.0</td>\n",
       "    </tr>\n",
       "    <tr>\n",
       "      <th>59999</th>\n",
       "      <td>72612</td>\n",
       "      <td>2144000.0</td>\n",
       "    </tr>\n",
       "  </tbody>\n",
       "</table>\n",
       "<p>60000 rows × 2 columns</p>\n",
       "</div>"
      ],
      "text/plain": [
       "           id     target\n",
       "0        4941  5157000.0\n",
       "1       51775  1096000.0\n",
       "2      115253  2232000.0\n",
       "3      299321  1164000.0\n",
       "4      173570   605000.0\n",
       "...       ...        ...\n",
       "59995   75094  3477000.0\n",
       "59996  171847   728000.0\n",
       "59997  138313   970000.0\n",
       "59998  271268  1563000.0\n",
       "59999   72612  2144000.0\n",
       "\n",
       "[60000 rows x 2 columns]"
      ]
     },
     "execution_count": 9,
     "metadata": {
      "tags": []
     },
     "output_type": "execute_result"
    }
   ],
   "source": [
    "vr_model = VotingRegressor(estimators = [('XGBoost', xgb_model), ('RandomForest', rf_model)], weights = [1, 1])\n",
    "crear_submit(vr_model, X, Y, X_test, \"VotingRegressor\")"
   ]
  },
  {
   "cell_type": "code",
   "execution_count": 0,
   "metadata": {
    "colab": {},
    "colab_type": "code",
    "id": "b1N_FkgUIx9u"
   },
   "outputs": [],
   "source": []
  }
 ],
 "metadata": {
  "accelerator": "TPU",
  "colab": {
   "collapsed_sections": [],
   "machine_shape": "hm",
   "name": "Copia de TP2_Modelos_Hiperparametros.ipynb",
   "provenance": []
  },
  "kernelspec": {
   "display_name": "Python 3",
   "language": "python",
   "name": "python3"
  },
  "language_info": {
   "codemirror_mode": {
    "name": "ipython",
    "version": 3
   },
   "file_extension": ".py",
   "mimetype": "text/x-python",
   "name": "python",
   "nbconvert_exporter": "python",
   "pygments_lexer": "ipython3",
   "version": "3.6.8"
  }
 },
 "nbformat": 4,
 "nbformat_minor": 1
}
