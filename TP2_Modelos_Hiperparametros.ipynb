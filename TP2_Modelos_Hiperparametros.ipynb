{
  "nbformat": 4,
  "nbformat_minor": 0,
  "metadata": {
    "accelerator": "TPU",
    "colab": {
      "name": "TP2_Modelos_Hiperparametros.ipynb",
      "provenance": [],
      "collapsed_sections": [],
      "machine_shape": "hm",
      "include_colab_link": true
    },
    "kernelspec": {
      "display_name": "Python 3",
      "language": "python",
      "name": "python3"
    },
    "language_info": {
      "codemirror_mode": {
        "name": "ipython",
        "version": 3
      },
      "file_extension": ".py",
      "mimetype": "text/x-python",
      "name": "python",
      "nbconvert_exporter": "python",
      "pygments_lexer": "ipython3",
      "version": "3.6.8"
    }
  },
  "cells": [
    {
      "cell_type": "markdown",
      "metadata": {
        "id": "view-in-github",
        "colab_type": "text"
      },
      "source": [
        "<a href=\"https://colab.research.google.com/github/luctiz/Grupo43-TP2/blob/master/TP2_Modelos_Hiperparametros.ipynb\" target=\"_parent\"><img src=\"https://colab.research.google.com/assets/colab-badge.svg\" alt=\"Open In Colab\"/></a>"
      ]
    },
    {
      "cell_type": "code",
      "metadata": {
        "colab_type": "code",
        "id": "Khdk1NWAIcZx",
        "colab": {}
      },
      "source": [
        "import pandas as pd\n",
        "from datetime import datetime\n",
        "import numpy as np\n",
        "import matplotlib.pyplot as plt\n",
        "import seaborn as sns"
      ],
      "execution_count": 0,
      "outputs": []
    },
    {
      "cell_type": "code",
      "metadata": {
        "colab_type": "code",
        "id": "PAK-gsBkRR60",
        "outputId": "2f620a19-4eef-4d7a-bcd0-9579fec1abdd",
        "colab": {
          "base_uri": "https://localhost:8080/",
          "height": 124
        }
      },
      "source": [
        "from google.colab import drive\n",
        "drive.mount('/content/drive')\n"
      ],
      "execution_count": 3,
      "outputs": [
        {
          "output_type": "stream",
          "text": [
            "Go to this URL in a browser: https://accounts.google.com/o/oauth2/auth?client_id=947318989803-6bn6qk8qdgf4n4g3pfee6491hc0brc4i.apps.googleusercontent.com&redirect_uri=urn%3aietf%3awg%3aoauth%3a2.0%3aoob&response_type=code&scope=email%20https%3a%2f%2fwww.googleapis.com%2fauth%2fdocs.test%20https%3a%2f%2fwww.googleapis.com%2fauth%2fdrive%20https%3a%2f%2fwww.googleapis.com%2fauth%2fdrive.photos.readonly%20https%3a%2f%2fwww.googleapis.com%2fauth%2fpeopleapi.readonly\n",
            "\n",
            "Enter your authorization code:\n",
            "··········\n",
            "Mounted at /content/drive\n"
          ],
          "name": "stdout"
        }
      ]
    },
    {
      "cell_type": "markdown",
      "metadata": {
        "colab_type": "text",
        "id": "AvKu51JC6fGM"
      },
      "source": [
        "# **Prueba de Modelos y búsqueda de Hiper Parámetros**\n",
        "\n",
        "En este notebook nos encargaremos de probar diferentes modelos de Machine Learning para luego seleccionar los que mejor se ajustan a nuestros features, una vez seleccionados los modelos nos encargaremos de buscar los mejores hiper paráámetros para los mismos."
      ]
    },
    {
      "cell_type": "code",
      "metadata": {
        "colab_type": "code",
        "id": "dqez4V1nIcZ-",
        "colab": {}
      },
      "source": [
        "#Modelos\n",
        "from sklearn.neighbors import KNeighborsRegressor, RadiusNeighborsRegressor\n",
        "from sklearn.linear_model import LinearRegression\n",
        "from sklearn.tree import DecisionTreeRegressor\n",
        "#Ensambles\n",
        "import xgboost as xgb\n",
        "from sklearn.ensemble  import RandomForestRegressor, GradientBoostingRegressor, VotingRegressor, AdaBoostRegressor\n",
        "#Búsqueda de hiper-parámetros\n",
        "from sklearn.model_selection import GridSearchCV, RandomizedSearchCV\n",
        "#Cross validation\n",
        "from sklearn.model_selection import cross_val_score"
      ],
      "execution_count": 0,
      "outputs": []
    },
    {
      "cell_type": "code",
      "metadata": {
        "colab_type": "code",
        "id": "350rFCExIcaI",
        "colab": {}
      },
      "source": [
        "#Cargo los features\n",
        "X = pd.read_csv(\"../content/drive/My Drive/data/features_train.csv\")\n",
        "X_test = pd.read_csv(\"../content/drive/My Drive/data/features_test.csv\")\n",
        "#X = pd.read_csv(\"data/features_train.csv\")\n",
        "#X_test = pd.read_csv(\"data/features_test.csv\")"
      ],
      "execution_count": 0,
      "outputs": []
    },
    {
      "cell_type": "code",
      "metadata": {
        "colab_type": "code",
        "id": "jRmAOa_iU1lt",
        "colab": {}
      },
      "source": [
        "#Y = pd.read_csv(\"data/train.csv\", usecols=['precio'])['precio']\n",
        "Y = pd.read_csv(\"../content/drive/My Drive/data/train.csv\", usecols=['precio'])['precio']"
      ],
      "execution_count": 0,
      "outputs": []
    },
    {
      "cell_type": "code",
      "metadata": {
        "colab_type": "code",
        "id": "MAfpQFixa6eL",
        "outputId": "967cf61c-da95-428d-ffa7-8afa0ef5335f",
        "colab": {
          "base_uri": "https://localhost:8080/",
          "height": 256
        }
      },
      "source": [
        "X.head()"
      ],
      "execution_count": 7,
      "outputs": [
        {
          "output_type": "execute_result",
          "data": {
            "text/html": [
              "<div>\n",
              "<style scoped>\n",
              "    .dataframe tbody tr th:only-of-type {\n",
              "        vertical-align: middle;\n",
              "    }\n",
              "\n",
              "    .dataframe tbody tr th {\n",
              "        vertical-align: top;\n",
              "    }\n",
              "\n",
              "    .dataframe thead th {\n",
              "        text-align: right;\n",
              "    }\n",
              "</style>\n",
              "<table border=\"1\" class=\"dataframe\">\n",
              "  <thead>\n",
              "    <tr style=\"text-align: right;\">\n",
              "      <th></th>\n",
              "      <th>antiguedad</th>\n",
              "      <th>habitaciones</th>\n",
              "      <th>garages</th>\n",
              "      <th>banos</th>\n",
              "      <th>metroscubiertos</th>\n",
              "      <th>metrostotales</th>\n",
              "      <th>idzona</th>\n",
              "      <th>lat</th>\n",
              "      <th>lng</th>\n",
              "      <th>gimnasio</th>\n",
              "      <th>usosmultiples</th>\n",
              "      <th>piscina</th>\n",
              "      <th>escuelascercanas</th>\n",
              "      <th>centroscomercialescercanos</th>\n",
              "      <th>año</th>\n",
              "      <th>puntaje_por_fecha</th>\n",
              "      <th>publicaciones_por_año</th>\n",
              "      <th>desc_cuarto</th>\n",
              "      <th>desc_vestidor</th>\n",
              "      <th>desc_terraza</th>\n",
              "      <th>desc_family</th>\n",
              "      <th>desc_vista</th>\n",
              "      <th>desc_bodega</th>\n",
              "      <th>desc_salón</th>\n",
              "      <th>desc_estudio</th>\n",
              "      <th>desc_jardín</th>\n",
              "      <th>desc_room</th>\n",
              "      <th>desc_jacuzzi</th>\n",
              "      <th>desc_lujo</th>\n",
              "      <th>desc_antecomedor</th>\n",
              "      <th>desc_tv</th>\n",
              "      <th>desc_fiestas</th>\n",
              "      <th>desc_juegos</th>\n",
              "      <th>desc_estacionamiento</th>\n",
              "      <th>desc_gimnasio</th>\n",
              "      <th>desc_nado</th>\n",
              "      <th>desc_lugares</th>\n",
              "      <th>desc_doble</th>\n",
              "      <th>desc_desayunador</th>\n",
              "      <th>desc_servicio</th>\n",
              "      <th>...</th>\n",
              "      <th>titl_casa</th>\n",
              "      <th>titl_villa</th>\n",
              "      <th>titl_remate</th>\n",
              "      <th>titl_recamaras</th>\n",
              "      <th>titl_ecatepec</th>\n",
              "      <th>titl_cerca</th>\n",
              "      <th>titl_coacalco</th>\n",
              "      <th>titl_izcalli</th>\n",
              "      <th>titl_planta</th>\n",
              "      <th>titl_lote</th>\n",
              "      <th>titl_bonita</th>\n",
              "      <th>titl_cautitlan</th>\n",
              "      <th>tipodepropiedad_target_metros</th>\n",
              "      <th>ciudad_target_metros</th>\n",
              "      <th>provincia_target_metros</th>\n",
              "      <th>idzona_target_metros</th>\n",
              "      <th>tipodepropiedad_target_publicaciones</th>\n",
              "      <th>ciudad_target_publicaciones</th>\n",
              "      <th>provincia_target_publicaciones</th>\n",
              "      <th>idzona_target_publicaciones</th>\n",
              "      <th>tipodepropiedad_target_banos</th>\n",
              "      <th>ciudad_target_banos</th>\n",
              "      <th>provincia_target_banos</th>\n",
              "      <th>idzona_target_banos</th>\n",
              "      <th>tipodepropiedad_target_metros_tot</th>\n",
              "      <th>ciudad_target_metros_tot</th>\n",
              "      <th>provincia_target_metros_tot</th>\n",
              "      <th>idzona_target_metros_tot</th>\n",
              "      <th>tipodepropiedad_target_antiguedad</th>\n",
              "      <th>ciudad_target_antiguedad</th>\n",
              "      <th>provincia_target_antiguedad</th>\n",
              "      <th>idzona_target_antiguedad</th>\n",
              "      <th>tipodepropiedad_target_hab</th>\n",
              "      <th>ciudad_target_hab</th>\n",
              "      <th>provincia_target_hab</th>\n",
              "      <th>idzona_target_hab</th>\n",
              "      <th>tipodepropiedad_target_garages</th>\n",
              "      <th>ciudad_target_garages</th>\n",
              "      <th>provincia_target_garages</th>\n",
              "      <th>idzona_target_garages</th>\n",
              "    </tr>\n",
              "  </thead>\n",
              "  <tbody>\n",
              "    <tr>\n",
              "      <th>0</th>\n",
              "      <td>8</td>\n",
              "      <td>2</td>\n",
              "      <td>1</td>\n",
              "      <td>2</td>\n",
              "      <td>80</td>\n",
              "      <td>80</td>\n",
              "      <td>23533.0</td>\n",
              "      <td>20.696818</td>\n",
              "      <td>-99.509221</td>\n",
              "      <td>0</td>\n",
              "      <td>0</td>\n",
              "      <td>0</td>\n",
              "      <td>0</td>\n",
              "      <td>0</td>\n",
              "      <td>2015</td>\n",
              "      <td>0.728368</td>\n",
              "      <td>51470</td>\n",
              "      <td>0</td>\n",
              "      <td>0</td>\n",
              "      <td>0</td>\n",
              "      <td>0</td>\n",
              "      <td>0</td>\n",
              "      <td>0</td>\n",
              "      <td>0</td>\n",
              "      <td>0</td>\n",
              "      <td>0</td>\n",
              "      <td>0</td>\n",
              "      <td>0</td>\n",
              "      <td>0</td>\n",
              "      <td>0</td>\n",
              "      <td>0</td>\n",
              "      <td>0</td>\n",
              "      <td>0</td>\n",
              "      <td>0</td>\n",
              "      <td>0</td>\n",
              "      <td>0</td>\n",
              "      <td>0</td>\n",
              "      <td>0</td>\n",
              "      <td>0</td>\n",
              "      <td>0</td>\n",
              "      <td>...</td>\n",
              "      <td>0</td>\n",
              "      <td>0</td>\n",
              "      <td>0</td>\n",
              "      <td>0</td>\n",
              "      <td>0</td>\n",
              "      <td>0</td>\n",
              "      <td>0</td>\n",
              "      <td>0</td>\n",
              "      <td>0</td>\n",
              "      <td>0</td>\n",
              "      <td>0</td>\n",
              "      <td>0</td>\n",
              "      <td>117.866064</td>\n",
              "      <td>128.276829</td>\n",
              "      <td>157.454118</td>\n",
              "      <td>110.795181</td>\n",
              "      <td>61817.687763</td>\n",
              "      <td>62912.989286</td>\n",
              "      <td>58990.523471</td>\n",
              "      <td>64651.204819</td>\n",
              "      <td>1.821088</td>\n",
              "      <td>1.922099</td>\n",
              "      <td>1.988345</td>\n",
              "      <td>1.871486</td>\n",
              "      <td>146.755690</td>\n",
              "      <td>153.438442</td>\n",
              "      <td>167.047604</td>\n",
              "      <td>147.445783</td>\n",
              "      <td>8.304878</td>\n",
              "      <td>10.185128</td>\n",
              "      <td>11.678378</td>\n",
              "      <td>9.188755</td>\n",
              "      <td>2.397168</td>\n",
              "      <td>2.566279</td>\n",
              "      <td>2.762694</td>\n",
              "      <td>2.453815</td>\n",
              "      <td>1.448667</td>\n",
              "      <td>1.439078</td>\n",
              "      <td>1.486470</td>\n",
              "      <td>1.542169</td>\n",
              "    </tr>\n",
              "    <tr>\n",
              "      <th>1</th>\n",
              "      <td>10</td>\n",
              "      <td>3</td>\n",
              "      <td>2</td>\n",
              "      <td>2</td>\n",
              "      <td>268</td>\n",
              "      <td>180</td>\n",
              "      <td>24514.0</td>\n",
              "      <td>19.310205</td>\n",
              "      <td>-99.227655</td>\n",
              "      <td>0</td>\n",
              "      <td>0</td>\n",
              "      <td>0</td>\n",
              "      <td>1</td>\n",
              "      <td>1</td>\n",
              "      <td>2013</td>\n",
              "      <td>0.297919</td>\n",
              "      <td>30386</td>\n",
              "      <td>1</td>\n",
              "      <td>1</td>\n",
              "      <td>1</td>\n",
              "      <td>0</td>\n",
              "      <td>0</td>\n",
              "      <td>0</td>\n",
              "      <td>0</td>\n",
              "      <td>0</td>\n",
              "      <td>0</td>\n",
              "      <td>0</td>\n",
              "      <td>0</td>\n",
              "      <td>0</td>\n",
              "      <td>1</td>\n",
              "      <td>0</td>\n",
              "      <td>0</td>\n",
              "      <td>0</td>\n",
              "      <td>1</td>\n",
              "      <td>0</td>\n",
              "      <td>0</td>\n",
              "      <td>0</td>\n",
              "      <td>0</td>\n",
              "      <td>0</td>\n",
              "      <td>1</td>\n",
              "      <td>...</td>\n",
              "      <td>0</td>\n",
              "      <td>0</td>\n",
              "      <td>0</td>\n",
              "      <td>0</td>\n",
              "      <td>0</td>\n",
              "      <td>0</td>\n",
              "      <td>0</td>\n",
              "      <td>0</td>\n",
              "      <td>0</td>\n",
              "      <td>0</td>\n",
              "      <td>0</td>\n",
              "      <td>0</td>\n",
              "      <td>187.276312</td>\n",
              "      <td>233.158005</td>\n",
              "      <td>157.454118</td>\n",
              "      <td>197.302326</td>\n",
              "      <td>59753.070115</td>\n",
              "      <td>56328.297113</td>\n",
              "      <td>58990.523471</td>\n",
              "      <td>54434.372093</td>\n",
              "      <td>2.350832</td>\n",
              "      <td>2.438320</td>\n",
              "      <td>1.988345</td>\n",
              "      <td>2.162791</td>\n",
              "      <td>170.538426</td>\n",
              "      <td>209.363780</td>\n",
              "      <td>167.047604</td>\n",
              "      <td>203.860465</td>\n",
              "      <td>6.589418</td>\n",
              "      <td>11.720735</td>\n",
              "      <td>11.678378</td>\n",
              "      <td>9.279070</td>\n",
              "      <td>2.957610</td>\n",
              "      <td>3.035171</td>\n",
              "      <td>2.762694</td>\n",
              "      <td>2.848837</td>\n",
              "      <td>1.923563</td>\n",
              "      <td>1.876115</td>\n",
              "      <td>1.486470</td>\n",
              "      <td>1.779070</td>\n",
              "    </tr>\n",
              "    <tr>\n",
              "      <th>2</th>\n",
              "      <td>5</td>\n",
              "      <td>3</td>\n",
              "      <td>2</td>\n",
              "      <td>2</td>\n",
              "      <td>144</td>\n",
              "      <td>166</td>\n",
              "      <td>48551.0</td>\n",
              "      <td>20.696818</td>\n",
              "      <td>-99.509221</td>\n",
              "      <td>0</td>\n",
              "      <td>0</td>\n",
              "      <td>0</td>\n",
              "      <td>0</td>\n",
              "      <td>0</td>\n",
              "      <td>2015</td>\n",
              "      <td>0.758488</td>\n",
              "      <td>51470</td>\n",
              "      <td>0</td>\n",
              "      <td>0</td>\n",
              "      <td>0</td>\n",
              "      <td>0</td>\n",
              "      <td>0</td>\n",
              "      <td>0</td>\n",
              "      <td>0</td>\n",
              "      <td>0</td>\n",
              "      <td>0</td>\n",
              "      <td>1</td>\n",
              "      <td>0</td>\n",
              "      <td>0</td>\n",
              "      <td>0</td>\n",
              "      <td>0</td>\n",
              "      <td>0</td>\n",
              "      <td>0</td>\n",
              "      <td>1</td>\n",
              "      <td>0</td>\n",
              "      <td>1</td>\n",
              "      <td>0</td>\n",
              "      <td>0</td>\n",
              "      <td>0</td>\n",
              "      <td>1</td>\n",
              "      <td>...</td>\n",
              "      <td>1</td>\n",
              "      <td>0</td>\n",
              "      <td>0</td>\n",
              "      <td>1</td>\n",
              "      <td>0</td>\n",
              "      <td>0</td>\n",
              "      <td>0</td>\n",
              "      <td>0</td>\n",
              "      <td>0</td>\n",
              "      <td>0</td>\n",
              "      <td>0</td>\n",
              "      <td>0</td>\n",
              "      <td>193.095321</td>\n",
              "      <td>109.123581</td>\n",
              "      <td>171.952962</td>\n",
              "      <td>104.657895</td>\n",
              "      <td>60386.053723</td>\n",
              "      <td>65943.460277</td>\n",
              "      <td>69072.906771</td>\n",
              "      <td>60646.947368</td>\n",
              "      <td>2.225771</td>\n",
              "      <td>1.703657</td>\n",
              "      <td>2.196911</td>\n",
              "      <td>1.842105</td>\n",
              "      <td>182.980072</td>\n",
              "      <td>113.412358</td>\n",
              "      <td>165.619644</td>\n",
              "      <td>123.315789</td>\n",
              "      <td>8.228656</td>\n",
              "      <td>5.711223</td>\n",
              "      <td>6.847726</td>\n",
              "      <td>4.263158</td>\n",
              "      <td>3.089875</td>\n",
              "      <td>2.767970</td>\n",
              "      <td>3.028534</td>\n",
              "      <td>2.894737</td>\n",
              "      <td>1.755684</td>\n",
              "      <td>1.382093</td>\n",
              "      <td>1.588662</td>\n",
              "      <td>1.894737</td>\n",
              "    </tr>\n",
              "    <tr>\n",
              "      <th>3</th>\n",
              "      <td>1</td>\n",
              "      <td>2</td>\n",
              "      <td>1</td>\n",
              "      <td>1</td>\n",
              "      <td>63</td>\n",
              "      <td>67</td>\n",
              "      <td>53666.0</td>\n",
              "      <td>19.301890</td>\n",
              "      <td>-99.688015</td>\n",
              "      <td>0</td>\n",
              "      <td>0</td>\n",
              "      <td>0</td>\n",
              "      <td>1</td>\n",
              "      <td>1</td>\n",
              "      <td>2012</td>\n",
              "      <td>0.037240</td>\n",
              "      <td>23534</td>\n",
              "      <td>0</td>\n",
              "      <td>0</td>\n",
              "      <td>0</td>\n",
              "      <td>0</td>\n",
              "      <td>0</td>\n",
              "      <td>0</td>\n",
              "      <td>0</td>\n",
              "      <td>0</td>\n",
              "      <td>0</td>\n",
              "      <td>0</td>\n",
              "      <td>0</td>\n",
              "      <td>0</td>\n",
              "      <td>0</td>\n",
              "      <td>0</td>\n",
              "      <td>0</td>\n",
              "      <td>0</td>\n",
              "      <td>0</td>\n",
              "      <td>0</td>\n",
              "      <td>0</td>\n",
              "      <td>0</td>\n",
              "      <td>0</td>\n",
              "      <td>0</td>\n",
              "      <td>0</td>\n",
              "      <td>...</td>\n",
              "      <td>1</td>\n",
              "      <td>0</td>\n",
              "      <td>0</td>\n",
              "      <td>0</td>\n",
              "      <td>0</td>\n",
              "      <td>0</td>\n",
              "      <td>0</td>\n",
              "      <td>0</td>\n",
              "      <td>0</td>\n",
              "      <td>0</td>\n",
              "      <td>0</td>\n",
              "      <td>0</td>\n",
              "      <td>193.095321</td>\n",
              "      <td>163.220779</td>\n",
              "      <td>179.409571</td>\n",
              "      <td>144.000009</td>\n",
              "      <td>60386.053723</td>\n",
              "      <td>59544.324675</td>\n",
              "      <td>59400.198092</td>\n",
              "      <td>56323.751399</td>\n",
              "      <td>2.225771</td>\n",
              "      <td>1.935065</td>\n",
              "      <td>2.073305</td>\n",
              "      <td>1.937500</td>\n",
              "      <td>182.980072</td>\n",
              "      <td>172.811688</td>\n",
              "      <td>174.116543</td>\n",
              "      <td>157.312506</td>\n",
              "      <td>8.228656</td>\n",
              "      <td>4.558442</td>\n",
              "      <td>9.828755</td>\n",
              "      <td>1.750002</td>\n",
              "      <td>3.089875</td>\n",
              "      <td>2.772727</td>\n",
              "      <td>2.973562</td>\n",
              "      <td>2.687500</td>\n",
              "      <td>1.755684</td>\n",
              "      <td>1.740260</td>\n",
              "      <td>1.715697</td>\n",
              "      <td>2.000000</td>\n",
              "    </tr>\n",
              "    <tr>\n",
              "      <th>4</th>\n",
              "      <td>10</td>\n",
              "      <td>2</td>\n",
              "      <td>1</td>\n",
              "      <td>1</td>\n",
              "      <td>95</td>\n",
              "      <td>95</td>\n",
              "      <td>47835.0</td>\n",
              "      <td>20.696818</td>\n",
              "      <td>-99.509221</td>\n",
              "      <td>0</td>\n",
              "      <td>0</td>\n",
              "      <td>0</td>\n",
              "      <td>0</td>\n",
              "      <td>0</td>\n",
              "      <td>2016</td>\n",
              "      <td>0.886637</td>\n",
              "      <td>94038</td>\n",
              "      <td>0</td>\n",
              "      <td>0</td>\n",
              "      <td>0</td>\n",
              "      <td>0</td>\n",
              "      <td>0</td>\n",
              "      <td>0</td>\n",
              "      <td>0</td>\n",
              "      <td>0</td>\n",
              "      <td>0</td>\n",
              "      <td>0</td>\n",
              "      <td>0</td>\n",
              "      <td>0</td>\n",
              "      <td>0</td>\n",
              "      <td>0</td>\n",
              "      <td>0</td>\n",
              "      <td>0</td>\n",
              "      <td>0</td>\n",
              "      <td>0</td>\n",
              "      <td>0</td>\n",
              "      <td>0</td>\n",
              "      <td>0</td>\n",
              "      <td>0</td>\n",
              "      <td>0</td>\n",
              "      <td>...</td>\n",
              "      <td>0</td>\n",
              "      <td>0</td>\n",
              "      <td>0</td>\n",
              "      <td>0</td>\n",
              "      <td>0</td>\n",
              "      <td>0</td>\n",
              "      <td>0</td>\n",
              "      <td>0</td>\n",
              "      <td>0</td>\n",
              "      <td>0</td>\n",
              "      <td>0</td>\n",
              "      <td>0</td>\n",
              "      <td>117.866064</td>\n",
              "      <td>181.446911</td>\n",
              "      <td>171.952962</td>\n",
              "      <td>147.122093</td>\n",
              "      <td>61817.687763</td>\n",
              "      <td>69682.227799</td>\n",
              "      <td>69072.906771</td>\n",
              "      <td>71151.313953</td>\n",
              "      <td>1.821088</td>\n",
              "      <td>2.320174</td>\n",
              "      <td>2.196911</td>\n",
              "      <td>1.959302</td>\n",
              "      <td>146.755690</td>\n",
              "      <td>170.897104</td>\n",
              "      <td>165.619644</td>\n",
              "      <td>141.139535</td>\n",
              "      <td>8.304878</td>\n",
              "      <td>6.213900</td>\n",
              "      <td>6.847726</td>\n",
              "      <td>10.465116</td>\n",
              "      <td>2.397168</td>\n",
              "      <td>3.013900</td>\n",
              "      <td>3.028534</td>\n",
              "      <td>2.779070</td>\n",
              "      <td>1.448667</td>\n",
              "      <td>1.697587</td>\n",
              "      <td>1.588662</td>\n",
              "      <td>1.563953</td>\n",
              "    </tr>\n",
              "  </tbody>\n",
              "</table>\n",
              "<p>5 rows × 119 columns</p>\n",
              "</div>"
            ],
            "text/plain": [
              "   antiguedad  habitaciones  ...  provincia_target_garages  idzona_target_garages\n",
              "0           8             2  ...                  1.486470               1.542169\n",
              "1          10             3  ...                  1.486470               1.779070\n",
              "2           5             3  ...                  1.588662               1.894737\n",
              "3           1             2  ...                  1.715697               2.000000\n",
              "4          10             2  ...                  1.588662               1.563953\n",
              "\n",
              "[5 rows x 119 columns]"
            ]
          },
          "metadata": {
            "tags": []
          },
          "execution_count": 7
        }
      ]
    },
    {
      "cell_type": "markdown",
      "metadata": {
        "colab_type": "text",
        "id": "djEDxgao3ETM"
      },
      "source": [
        "# Modelos Baseline\n",
        "\n",
        "\n",
        "Comienzo probando modelos simples utilizando los hiper parámetros que vienen por defecto. \n",
        "Luego de chequear cuales nos funcionan mejor nos encargaremos de tunear los hiper parámetros de los modelos que creamos nos van a funcionar mejor."
      ]
    },
    {
      "cell_type": "markdown",
      "metadata": {
        "colab_type": "text",
        "id": "hJ-27GyO3TEz"
      },
      "source": [
        "## Linear Regression"
      ]
    },
    {
      "cell_type": "code",
      "metadata": {
        "colab_type": "code",
        "id": "D0Ocz3Hv3HNg",
        "outputId": "729e6320-cc2c-403d-a4b2-c449e1b76bc1",
        "colab": {
          "base_uri": "https://localhost:8080/",
          "height": 34
        }
      },
      "source": [
        "#Score MAE\n",
        "lr_model =  LinearRegression()\n",
        "scores = cross_val_score(lr_model , X, Y, scoring=\"neg_mean_absolute_error\", cv=3)\n",
        "RF_mae_score1 = -scores.mean()\n",
        "RF_mae_score1"
      ],
      "execution_count": 0,
      "outputs": [
        {
          "output_type": "execute_result",
          "data": {
            "text/plain": [
              "936327.020686386"
            ]
          },
          "metadata": {
            "tags": []
          },
          "execution_count": 11
        }
      ]
    },
    {
      "cell_type": "markdown",
      "metadata": {
        "colab_type": "text",
        "id": "7UY_HfOf4Q2m"
      },
      "source": [
        "## KNN "
      ]
    },
    {
      "cell_type": "code",
      "metadata": {
        "colab_type": "code",
        "id": "83-2FKBSIxwL",
        "colab": {}
      },
      "source": [
        "knn_model = KNeighborsRegressor()"
      ],
      "execution_count": 0,
      "outputs": []
    },
    {
      "cell_type": "code",
      "metadata": {
        "colab_type": "code",
        "id": "6SpRYbgm4Xcp",
        "outputId": "c996569c-946c-4ffb-b377-314e3e831b95",
        "colab": {
          "base_uri": "https://localhost:8080/",
          "height": 34
        }
      },
      "source": [
        "#Score MAE\n",
        "scores = cross_val_score(knn_model , X, Y, scoring=\"neg_mean_absolute_error\", cv=3)\n",
        "RF_mae_score3 = -scores.mean()\n",
        "RF_mae_score3"
      ],
      "execution_count": 0,
      "outputs": [
        {
          "output_type": "execute_result",
          "data": {
            "text/plain": [
              "847298.52512"
            ]
          },
          "metadata": {
            "tags": []
          },
          "execution_count": 12
        }
      ]
    },
    {
      "cell_type": "markdown",
      "metadata": {
        "colab_type": "text",
        "id": "8pkhggkg3zth"
      },
      "source": [
        "## Decision Tree Regressor"
      ]
    },
    {
      "cell_type": "code",
      "metadata": {
        "colab_type": "code",
        "id": "zz5Jw-J5IxvU",
        "colab": {}
      },
      "source": [
        "dtr_model = DecisionTreeRegressor()"
      ],
      "execution_count": 0,
      "outputs": []
    },
    {
      "cell_type": "code",
      "metadata": {
        "colab_type": "code",
        "id": "52Zuon633HSl",
        "outputId": "3df5e06c-960b-4026-e3e5-eb962b8e99dd",
        "colab": {
          "base_uri": "https://localhost:8080/",
          "height": 34
        }
      },
      "source": [
        "#Score MAE\n",
        "scores = cross_val_score(dtr_model , X, Y, scoring=\"neg_mean_absolute_error\", cv=2)\n",
        "RF_mae_score2 = -scores.mean()\n",
        "RF_mae_score2"
      ],
      "execution_count": 0,
      "outputs": [
        {
          "output_type": "execute_result",
          "data": {
            "text/plain": [
              "800097.5959679165"
            ]
          },
          "metadata": {
            "tags": []
          },
          "execution_count": 8
        }
      ]
    },
    {
      "cell_type": "markdown",
      "metadata": {
        "colab_type": "text",
        "id": "fSjuyfhM6Ow_"
      },
      "source": [
        "# Más Modelos"
      ]
    },
    {
      "cell_type": "markdown",
      "metadata": {
        "colab_type": "text",
        "id": "vjBYXQGL7jN1"
      },
      "source": [
        "## Random Forest"
      ]
    },
    {
      "cell_type": "code",
      "metadata": {
        "colab_type": "code",
        "id": "V8s6b3E76PR6",
        "outputId": "a6a32753-92da-429c-9659-a78f1713c1b0",
        "colab": {
          "base_uri": "https://localhost:8080/",
          "height": 263
        }
      },
      "source": [
        "#Score MAE\n",
        "rf_model = RandomForestRegressor(oob_score= True)\n",
        "scores = cross_val_score(rf_model , X, Y, scoring=\"neg_mean_absolute_error\", cv=2)\n",
        "RF_mae_score5 = -scores.mean()\n",
        "RF_mae_score5"
      ],
      "execution_count": 0,
      "outputs": [
        {
          "output_type": "stream",
          "text": [
            "/home/sol/.local/lib/python3.6/site-packages/sklearn/ensemble/forest.py:245: FutureWarning: The default value of n_estimators will change from 10 in version 0.20 to 100 in 0.22.\n",
            "  \"10 in version 0.20 to 100 in 0.22.\", FutureWarning)\n",
            "/home/sol/.local/lib/python3.6/site-packages/sklearn/ensemble/forest.py:737: UserWarning: Some inputs do not have OOB scores. This probably means too few trees were used to compute any reliable oob estimates.\n",
            "  warn(\"Some inputs do not have OOB scores. \"\n",
            "/home/sol/.local/lib/python3.6/site-packages/sklearn/ensemble/forest.py:245: FutureWarning: The default value of n_estimators will change from 10 in version 0.20 to 100 in 0.22.\n",
            "  \"10 in version 0.20 to 100 in 0.22.\", FutureWarning)\n",
            "/home/sol/.local/lib/python3.6/site-packages/sklearn/ensemble/forest.py:737: UserWarning: Some inputs do not have OOB scores. This probably means too few trees were used to compute any reliable oob estimates.\n",
            "  warn(\"Some inputs do not have OOB scores. \"\n"
          ],
          "name": "stderr"
        },
        {
          "output_type": "execute_result",
          "data": {
            "text/plain": [
              "595248.649810446"
            ]
          },
          "metadata": {
            "tags": []
          },
          "execution_count": 7
        }
      ]
    },
    {
      "cell_type": "markdown",
      "metadata": {
        "colab_type": "text",
        "id": "cStwnvYP7xsR"
      },
      "source": [
        "## Gradient Boosting"
      ]
    },
    {
      "cell_type": "code",
      "metadata": {
        "colab_type": "code",
        "id": "41RliTFF7ZO5",
        "colab": {}
      },
      "source": [
        "gbr_model = GradientBoostingRegressor()"
      ],
      "execution_count": 0,
      "outputs": []
    },
    {
      "cell_type": "code",
      "metadata": {
        "colab_type": "code",
        "id": "XgLNw_y2_VO3",
        "outputId": "75eb24d0-e5d5-4fc1-c1e1-d6f6d738aad5",
        "colab": {
          "base_uri": "https://localhost:8080/",
          "height": 34
        }
      },
      "source": [
        "scores = cross_val_score(gbr_model , X, Y, scoring=\"neg_mean_absolute_error\", cv=3)\n",
        "RF_mae_score6 = -scores.mean()\n",
        "RF_mae_score6"
      ],
      "execution_count": 0,
      "outputs": [
        {
          "output_type": "execute_result",
          "data": {
            "text/plain": [
              "703552.3457100395"
            ]
          },
          "metadata": {
            "tags": []
          },
          "execution_count": 8
        }
      ]
    },
    {
      "cell_type": "markdown",
      "metadata": {
        "colab_type": "text",
        "id": "i13PcYYo8QVZ"
      },
      "source": [
        "## XGBoost"
      ]
    },
    {
      "cell_type": "code",
      "metadata": {
        "colab_type": "code",
        "id": "PSh3FVp77V0b",
        "colab": {}
      },
      "source": [
        "xgb_model = xgb.XGBRegressor()"
      ],
      "execution_count": 0,
      "outputs": []
    },
    {
      "cell_type": "code",
      "metadata": {
        "colab_type": "code",
        "id": "HsFZymZBBMH4",
        "outputId": "04531594-4cc7-42c9-dc7a-246dd33dd552",
        "colab": {
          "base_uri": "https://localhost:8080/",
          "height": 191
        }
      },
      "source": [
        "scores = cross_val_score(xgb_model , X, Y, scoring=\"neg_mean_absolute_error\", cv=3)\n",
        "RF_mae_score7 = -scores.mean()\n",
        "RF_mae_score7"
      ],
      "execution_count": 0,
      "outputs": [
        {
          "output_type": "stream",
          "text": [
            "/usr/local/lib/python3.6/dist-packages/xgboost/core.py:587: FutureWarning: Series.base is deprecated and will be removed in a future version\n",
            "  if getattr(data, 'base', None) is not None and \\\n"
          ],
          "name": "stderr"
        },
        {
          "output_type": "stream",
          "text": [
            "[14:51:28] WARNING: /workspace/src/objective/regression_obj.cu:152: reg:linear is now deprecated in favor of reg:squarederror.\n"
          ],
          "name": "stdout"
        },
        {
          "output_type": "stream",
          "text": [
            "/usr/local/lib/python3.6/dist-packages/xgboost/core.py:587: FutureWarning: Series.base is deprecated and will be removed in a future version\n",
            "  if getattr(data, 'base', None) is not None and \\\n"
          ],
          "name": "stderr"
        },
        {
          "output_type": "stream",
          "text": [
            "[14:52:14] WARNING: /workspace/src/objective/regression_obj.cu:152: reg:linear is now deprecated in favor of reg:squarederror.\n"
          ],
          "name": "stdout"
        },
        {
          "output_type": "stream",
          "text": [
            "/usr/local/lib/python3.6/dist-packages/xgboost/core.py:587: FutureWarning: Series.base is deprecated and will be removed in a future version\n",
            "  if getattr(data, 'base', None) is not None and \\\n"
          ],
          "name": "stderr"
        },
        {
          "output_type": "stream",
          "text": [
            "[14:53:00] WARNING: /workspace/src/objective/regression_obj.cu:152: reg:linear is now deprecated in favor of reg:squarederror.\n"
          ],
          "name": "stdout"
        },
        {
          "output_type": "execute_result",
          "data": {
            "text/plain": [
              "702816.654511991"
            ]
          },
          "metadata": {
            "tags": []
          },
          "execution_count": 10
        }
      ]
    },
    {
      "cell_type": "markdown",
      "metadata": {
        "colab_type": "text",
        "id": "tzgMZa6HUrRT"
      },
      "source": [
        "# Pruebo GridSearch"
      ]
    },
    {
      "cell_type": "markdown",
      "metadata": {
        "colab_type": "text",
        "id": "-bJNEGYfIcaO"
      },
      "source": [
        "## Modelo KNN"
      ]
    },
    {
      "cell_type": "code",
      "metadata": {
        "colab_type": "code",
        "id": "KZuHQNPkTUMf",
        "outputId": "cc9d2af5-a906-42a0-cc2e-dfaf4d9addae",
        "colab": {
          "base_uri": "https://localhost:8080/",
          "height": 419
        }
      },
      "source": [
        "parameters_for_testing = {'metric': ['euclidean', 'manhattan', 'chebyshev', 'minkowski'], \\\n",
        "                          'weights': ['uniform', 'distance'], 'n_neighbors': list(range(1,15, 3))}\n",
        "gsearch1 = GridSearchCV(estimator = knn_model, param_grid = parameters_for_testing,iid=False, verbose=10,scoring='neg_mean_absolute_error', n_jobs = 2)\n",
        "gsearch1.fit(X,Y)\n",
        "print('best params')\n",
        "print (gsearch1.best_params_)\n",
        "print('best score')\n",
        "print (-gsearch1.best_score_)\n"
      ],
      "execution_count": 0,
      "outputs": [
        {
          "output_type": "stream",
          "text": [
            "Fitting 3 folds for each of 40 candidates, totalling 120 fits\n"
          ],
          "name": "stdout"
        },
        {
          "output_type": "stream",
          "text": [
            "/home/sol/.local/lib/python3.6/site-packages/sklearn/model_selection/_split.py:1978: FutureWarning: The default value of cv will change from 3 to 5 in version 0.22. Specify it explicitly to silence this warning.\n",
            "  warnings.warn(CV_WARNING, FutureWarning)\n",
            "[Parallel(n_jobs=2)]: Using backend LokyBackend with 2 concurrent workers.\n",
            "[Parallel(n_jobs=2)]: Done   1 tasks      | elapsed:   18.3s\n",
            "[Parallel(n_jobs=2)]: Done   4 tasks      | elapsed:   35.3s\n",
            "[Parallel(n_jobs=2)]: Done   9 tasks      | elapsed:  1.5min\n",
            "[Parallel(n_jobs=2)]: Done  14 tasks      | elapsed:  2.3min\n",
            "[Parallel(n_jobs=2)]: Done  21 tasks      | elapsed:  3.9min\n",
            "[Parallel(n_jobs=2)]: Done  28 tasks      | elapsed:  5.3min\n",
            "[Parallel(n_jobs=2)]: Done  37 tasks      | elapsed:  7.0min\n",
            "[Parallel(n_jobs=2)]: Done  46 tasks      | elapsed:  8.6min\n",
            "[Parallel(n_jobs=2)]: Done  57 tasks      | elapsed: 11.3min\n",
            "[Parallel(n_jobs=2)]: Done  68 tasks      | elapsed: 12.8min\n",
            "[Parallel(n_jobs=2)]: Done  81 tasks      | elapsed: 14.8min\n",
            "[Parallel(n_jobs=2)]: Done  94 tasks      | elapsed: 16.8min\n",
            "[Parallel(n_jobs=2)]: Done 109 tasks      | elapsed: 19.7min\n",
            "[Parallel(n_jobs=2)]: Done 120 out of 120 | elapsed: 22.1min finished\n"
          ],
          "name": "stderr"
        },
        {
          "output_type": "stream",
          "text": [
            "best params\n",
            "{'metric': 'manhattan', 'n_neighbors': 7, 'weights': 'distance'}\n",
            "best score\n",
            "747513.4815954762\n"
          ],
          "name": "stdout"
        }
      ]
    },
    {
      "cell_type": "markdown",
      "metadata": {
        "colab_type": "text",
        "id": "C31l5d3mM8hA"
      },
      "source": [
        "## Decision Tree"
      ]
    },
    {
      "cell_type": "code",
      "metadata": {
        "colab_type": "code",
        "id": "Q-dYwRUMIxze",
        "outputId": "d055fc48-5818-4219-9ab9-d952933ab081",
        "colab": {
          "base_uri": "https://localhost:8080/",
          "height": 86
        }
      },
      "source": [
        "parameters_for_testing = {'max_depth': list(range(2,16,2)), 'min_samples_split': list(range(2,16,2)),\\\n",
        "                         'max_features': list(range(1,X.shape[1], 7))}\n",
        "\n",
        "gsearch1 = GridSearchCV(dtr_model, param_grid=parameters_for_testing, cv=2, iid=False, scoring='neg_mean_absolute_error', n_jobs = 2)\n",
        "gsearch1.fit(X,Y)\n",
        "print('best params')\n",
        "print (gsearch1.best_params_)\n",
        "print('best score')\n",
        "print (-gsearch1.best_score_)"
      ],
      "execution_count": 0,
      "outputs": [
        {
          "output_type": "stream",
          "text": [
            "best params\n",
            "{'max_depth': 14, 'max_features': 78, 'min_samples_split': 14}\n",
            "best score\n",
            "720069.2363039979\n"
          ],
          "name": "stdout"
        }
      ]
    },
    {
      "cell_type": "markdown",
      "metadata": {
        "colab_type": "text",
        "id": "pU-ApiSXIxzv"
      },
      "source": [
        "#### Pruebo con valores más altos, pues los que me dieron como optimos fueron los valores límites\n"
      ]
    },
    {
      "cell_type": "code",
      "metadata": {
        "colab_type": "code",
        "id": "OqX8KBqZIxz3",
        "outputId": "d60be981-359a-4861-a927-68baf59df580",
        "colab": {
          "base_uri": "https://localhost:8080/",
          "height": 86
        }
      },
      "source": [
        "parameters_for_testing = {'max_depth':[14,15,16,17,18,19,20] , 'min_samples_split': [14,15,16,17,18,19,20],\\\n",
        "                         'max_features': [92,93,94,95,96,97,98]}\n",
        "\n",
        "gsearch1 = GridSearchCV(dtr_model, param_grid=parameters_for_testing, cv=2, iid=False, scoring='neg_mean_absolute_error', n_jobs = 2)\n",
        "gsearch1.fit(X,Y)\n",
        "print('best params')\n",
        "print (gsearch1.best_params_)\n",
        "print('best score')\n",
        "print (-gsearch1.best_score_)"
      ],
      "execution_count": 0,
      "outputs": [
        {
          "output_type": "stream",
          "text": [
            "best params\n",
            "{'max_depth': 16, 'max_features': 95, 'min_samples_split': 20}\n",
            "best score\n",
            "711948.7258354134\n"
          ],
          "name": "stdout"
        }
      ]
    },
    {
      "cell_type": "markdown",
      "metadata": {
        "colab_type": "text",
        "id": "pjMPnpM31GKX"
      },
      "source": [
        "## Modelo Random Forest\n"
      ]
    },
    {
      "cell_type": "code",
      "metadata": {
        "colab_type": "code",
        "id": "4odMuZho0MUS",
        "outputId": "7890b6a3-25e6-484d-d888-b91b86fc1133",
        "colab": {
          "base_uri": "https://localhost:8080/",
          "height": 257
        }
      },
      "source": [
        "rf_model = RandomForestRegressor(oob_score= True)\n",
        "parameters_for_testing = {'n_estimators': list(range(80,100,10)), 'random_state': [21,42,84]}\n",
        "\n",
        "gsearch1 = GridSearchCV(rf_model, param_grid=parameters_for_testing, cv=2, iid=False, scoring='neg_mean_absolute_error', n_jobs = 2)\n",
        "gsearch1.fit(X,Y)\n",
        "\n",
        "print('best params')\n",
        "print (gsearch1.best_params_)\n",
        "print('best score')\n",
        "print (-gsearch1.best_score_)"
      ],
      "execution_count": 0,
      "outputs": [
        {
          "output_type": "stream",
          "text": [
            "best params\n",
            "{'n_estimators': 90, 'random_state': 84}\n",
            "best score\n",
            "560801.3354935668\n"
          ],
          "name": "stdout"
        }
      ]
    },
    {
      "cell_type": "code",
      "metadata": {
        "colab_type": "code",
        "id": "RxAT-m56Ix0d",
        "outputId": "10bb4aa1-191c-4a27-a504-04bd82398b41",
        "colab": {}
      },
      "source": [
        "parameters_for_testing = {'n_estimators': list(range(90,150,10)), 'random_state': [84, 105, 126]}\n",
        "\n",
        "gsearch1 = GridSearchCV(rf_model, param_grid=parameters_for_testing, cv=2, iid=False, scoring='neg_mean_absolute_error', n_jobs = 2)\n",
        "gsearch1.fit(X,Y)\n",
        "\n",
        "print('best params')\n",
        "print (gsearch1.best_params_)\n",
        "print('best score')\n",
        "print (-gsearch1.best_score_)"
      ],
      "execution_count": 0,
      "outputs": [
        {
          "output_type": "stream",
          "text": [
            "best params\n",
            "{'n_estimators': 140, 'random_state': 105}\n",
            "best score\n",
            "558837.3021104451\n"
          ],
          "name": "stdout"
        }
      ]
    },
    {
      "cell_type": "code",
      "metadata": {
        "colab_type": "code",
        "id": "bnZe84dYIx0w",
        "outputId": "1d2ea4ac-1b43-4dad-fa66-5de04c9ecc8f",
        "colab": {}
      },
      "source": [
        "parameters_for_testing = {'n_estimators': list(range(140,220,20)),'max_depth': range(7,10)}\n",
        "\n",
        "gsearch1 = GridSearchCV(rf_model, param_grid=parameters_for_testing, cv=2, iid=False, scoring='neg_mean_absolute_error', n_jobs = 2)\n",
        "gsearch1.fit(X,Y)\n",
        "\n",
        "print('best params')\n",
        "print (gsearch1.best_params_)\n",
        "print('best score')\n",
        "print (-gsearch1.best_score_)"
      ],
      "execution_count": 0,
      "outputs": [
        {
          "output_type": "stream",
          "text": [
            "best params\n",
            "{'max_depth': 9, 'n_estimators': 200}\n",
            "best score\n",
            "738104.6525661638\n"
          ],
          "name": "stdout"
        }
      ]
    },
    {
      "cell_type": "markdown",
      "metadata": {
        "colab_type": "text",
        "id": "aqWqxoAp-W7v"
      },
      "source": [
        "**Como gridSearch tarda demasiado utilizo randomized Search con más valores**"
      ]
    },
    {
      "cell_type": "markdown",
      "metadata": {
        "colab_type": "text",
        "id": "EMIKhlAfcOCg"
      },
      "source": [
        "# Pruebo RandomizedSearch"
      ]
    },
    {
      "cell_type": "markdown",
      "metadata": {
        "colab_type": "text",
        "id": "260X7_2ocD1M"
      },
      "source": [
        "## KNN Regressor"
      ]
    },
    {
      "cell_type": "markdown",
      "metadata": {
        "colab_type": "text",
        "id": "U3hGHkIjIx1Y"
      },
      "source": [
        "#### 20 iteraciones"
      ]
    },
    {
      "cell_type": "code",
      "metadata": {
        "colab_type": "code",
        "id": "XK2hCBr2WQyh",
        "outputId": "74edabf3-06a0-47d8-defb-b60e651c9ded",
        "colab": {
          "base_uri": "https://localhost:8080/",
          "height": 312
        }
      },
      "source": [
        "parameters_for_testing = {'metric': ['euclidean', 'manhattan', 'chebyshev', 'minkowski'], \\\n",
        "                          'weights': ['uniform', 'distance'], 'n_neighbors': list(range(1,100))}\n",
        "\n",
        "n_iter_search = 20\n",
        "random_search = RandomizedSearchCV(knn_model, param_distributions=parameters_for_testing, n_iter=n_iter_search, cv=5, iid=False, scoring='neg_mean_absolute_error')\n",
        "random_search.fit(X,Y)"
      ],
      "execution_count": 0,
      "outputs": [
        {
          "output_type": "execute_result",
          "data": {
            "text/plain": [
              "RandomizedSearchCV(cv=5, error_score='raise-deprecating',\n",
              "                   estimator=KNeighborsRegressor(algorithm='auto', leaf_size=30,\n",
              "                                                 metric='minkowski',\n",
              "                                                 metric_params=None,\n",
              "                                                 n_jobs=None, n_neighbors=5,\n",
              "                                                 p=2, weights='uniform'),\n",
              "                   iid=False, n_iter=20, n_jobs=None,\n",
              "                   param_distributions={'metric': ['euclidean', 'manhattan',\n",
              "                                                   'chebyshev', 'minkowski'],\n",
              "                                        'n_neighbors': [1, 2, 3, 4, 5, 6, 7, 8,\n",
              "                                                        9, 10, 11, 12, 13, 14,\n",
              "                                                        15, 16, 17, 18, 19, 20,\n",
              "                                                        21, 22, 23, 24, 25, 26,\n",
              "                                                        27, 28, 29, 30, ...],\n",
              "                                        'weights': ['uniform', 'distance']},\n",
              "                   pre_dispatch='2*n_jobs', random_state=None, refit=True,\n",
              "                   return_train_score=False, scoring='neg_mean_absolute_error',\n",
              "                   verbose=0)"
            ]
          },
          "metadata": {
            "tags": []
          },
          "execution_count": 14
        }
      ]
    },
    {
      "cell_type": "code",
      "metadata": {
        "colab_type": "code",
        "id": "3jgVz8_KcNEc",
        "outputId": "39aed779-71cc-450a-ab8c-e1107cf318c8",
        "colab": {
          "base_uri": "https://localhost:8080/",
          "height": 86
        }
      },
      "source": [
        "print('best params')\n",
        "print (random_search.best_params_)\n",
        "print('best score')\n",
        "print (-random_search.best_score_)"
      ],
      "execution_count": 0,
      "outputs": [
        {
          "output_type": "stream",
          "text": [
            "best params\n",
            "{'weights': 'distance', 'n_neighbors': 9, 'metric': 'euclidean'}\n",
            "best score\n",
            "751057.3292577943\n"
          ],
          "name": "stdout"
        }
      ]
    },
    {
      "cell_type": "markdown",
      "metadata": {
        "colab_type": "text",
        "id": "m-6WfvmpIx2A"
      },
      "source": [
        "#### 30 iteraciones"
      ]
    },
    {
      "cell_type": "code",
      "metadata": {
        "colab_type": "code",
        "id": "FCXNSsh-Ix2D",
        "outputId": "d47c3bc0-185c-40bf-d525-3a9672296d78",
        "colab": {
          "base_uri": "https://localhost:8080/",
          "height": 86
        }
      },
      "source": [
        "parameters_for_testing = {'metric': ['euclidean', 'manhattan', 'chebyshev', 'minkowski'], \\\n",
        "                          'weights': ['uniform', 'distance'], 'n_neighbors': list(range(2,20)), 'n_jobs': [-1]}\n",
        "\n",
        "n_iter_search = 30\n",
        "random_search = RandomizedSearchCV(knn_model, param_distributions=parameters_for_testing, n_iter=n_iter_search, cv=2, iid=False, scoring='neg_mean_absolute_error')\n",
        "random_search.fit(X,Y)\n",
        "print('best params')\n",
        "print (random_search.best_params_)\n",
        "print('best score')\n",
        "print (-random_search.best_score_)"
      ],
      "execution_count": 0,
      "outputs": [
        {
          "output_type": "stream",
          "text": [
            "best params\n",
            "{'weights': 'distance', 'n_neighbors': 6, 'n_jobs': -1, 'metric': 'manhattan'}\n",
            "best score\n",
            "782369.0793613999\n"
          ],
          "name": "stdout"
        }
      ]
    },
    {
      "cell_type": "markdown",
      "metadata": {
        "colab_type": "text",
        "id": "-Qxe4iV2Ix2T"
      },
      "source": [
        "## Decision Tree Regressor"
      ]
    },
    {
      "cell_type": "markdown",
      "metadata": {
        "colab_type": "text",
        "id": "qtN5PFdXIx2W"
      },
      "source": [
        "#### 10 iteraciones"
      ]
    },
    {
      "cell_type": "code",
      "metadata": {
        "colab_type": "code",
        "id": "y26UCnU5Ix2d",
        "outputId": "cf430bc8-a9c1-4f24-fce1-daff201f2c67",
        "colab": {
          "base_uri": "https://localhost:8080/",
          "height": 521
        }
      },
      "source": [
        "parameters_for_testing = {'max_depth': list(range(1,21)), 'min_samples_split': list(range(1,21)),\\\n",
        "                         'max_features': list(range(0,X.shape[1])), 'min_samples_leaf': np.linspace(0.1, 0.5, 5, endpoint=True),\\\n",
        "                        'random_state': list(range(1,100,10))}\n",
        "\n",
        "\n",
        "n_iter_search = 10\n",
        "random_search = RandomizedSearchCV(dtr_model, param_distributions=parameters_for_testing, n_iter=n_iter_search, cv=2, iid=False, scoring='neg_mean_absolute_error', n_jobs = 2)\n",
        "random_search.fit(X,Y)\n"
      ],
      "execution_count": 0,
      "outputs": [
        {
          "output_type": "execute_result",
          "data": {
            "text/plain": [
              "RandomizedSearchCV(cv=2, error_score='raise-deprecating',\n",
              "                   estimator=DecisionTreeRegressor(criterion='mse',\n",
              "                                                   max_depth=None,\n",
              "                                                   max_features=None,\n",
              "                                                   max_leaf_nodes=None,\n",
              "                                                   min_impurity_decrease=0.0,\n",
              "                                                   min_impurity_split=None,\n",
              "                                                   min_samples_leaf=1,\n",
              "                                                   min_samples_split=2,\n",
              "                                                   min_weight_fraction_leaf=0.0,\n",
              "                                                   presort=False,\n",
              "                                                   random_state=None,\n",
              "                                                   splitter='best'),\n",
              "                   iid=False, n_iter=10, n_jobs...\n",
              "                                                         8, 9, 10, 11, 12, 13,\n",
              "                                                         14, 15, 16, 17, 18, 19,\n",
              "                                                         20, 21, 22, 23, 24, 25,\n",
              "                                                         26, 27, 28, 29, ...],\n",
              "                                        'min_samples_leaf': array([0.1, 0.2, 0.3, 0.4, 0.5]),\n",
              "                                        'min_samples_split': [1, 2, 3, 4, 5, 6,\n",
              "                                                              7, 8, 9, 10, 11,\n",
              "                                                              12, 13, 14, 15,\n",
              "                                                              16, 17, 18, 19,\n",
              "                                                              20],\n",
              "                                        'random_state': [1, 11, 21, 31, 41, 51,\n",
              "                                                         61, 71, 81, 91]},\n",
              "                   pre_dispatch='2*n_jobs', random_state=None, refit=True,\n",
              "                   return_train_score=False, scoring='neg_mean_absolute_error',\n",
              "                   verbose=0)"
            ]
          },
          "metadata": {
            "tags": []
          },
          "execution_count": 15
        }
      ]
    },
    {
      "cell_type": "code",
      "metadata": {
        "colab_type": "code",
        "id": "HuVFPDjObl9s",
        "outputId": "b33a4fe5-dd4d-4185-defb-63fe8257baca",
        "colab": {
          "base_uri": "https://localhost:8080/",
          "height": 86
        }
      },
      "source": [
        "print('best params')\n",
        "print (random_search.best_params_)\n",
        "print('best score')\n",
        "print (-random_search.best_score_)"
      ],
      "execution_count": 0,
      "outputs": [
        {
          "output_type": "stream",
          "text": [
            "best params\n",
            "{'random_state': 81, 'min_samples_split': 12, 'min_samples_leaf': 0.1, 'max_features': 75, 'max_depth': 20}\n",
            "best score\n",
            "1137666.1121878428\n"
          ],
          "name": "stdout"
        }
      ]
    },
    {
      "cell_type": "markdown",
      "metadata": {
        "colab_type": "text",
        "id": "J4kwm4-kIx2r"
      },
      "source": [
        "#### 20 iteraciones"
      ]
    },
    {
      "cell_type": "code",
      "metadata": {
        "colab_type": "code",
        "id": "fz_Bj7U4Ix2w",
        "outputId": "07a157c9-a35c-4b95-fc7e-6eb3c57aaec5",
        "colab": {
          "base_uri": "https://localhost:8080/",
          "height": 86
        }
      },
      "source": [
        "parameters_for_testing = {'max_depth': list(range(1,21)), 'min_samples_split': list(range(2,21)),\\\n",
        "                         'max_features': list(range(0,X.shape[1])), 'min_samples_leaf': np.linspace(0.1, 0.5, 5, endpoint=True),\\\n",
        "                        'random_state': list(range(1,100,10))}\n",
        "\n",
        "\n",
        "n_iter_search = 20\n",
        "random_search = RandomizedSearchCV(dtr_model, param_distributions=parameters_for_testing, n_iter=n_iter_search, cv=2, iid=False, scoring='neg_mean_absolute_error', n_jobs = 2)\n",
        "random_search.fit(X,Y)\n",
        "print('best params')\n",
        "print (random_search.best_params_)\n",
        "print('best score')\n",
        "print (-random_search.best_score_)"
      ],
      "execution_count": 0,
      "outputs": [
        {
          "output_type": "stream",
          "text": [
            "best params\n",
            "{'random_state': 31, 'min_samples_split': 5, 'min_samples_leaf': 0.1, 'max_features': 37, 'max_depth': 12}\n",
            "best score\n",
            "1158113.7291800778\n"
          ],
          "name": "stdout"
        }
      ]
    },
    {
      "cell_type": "markdown",
      "metadata": {
        "colab_type": "text",
        "id": "K3EWu3Acfdew"
      },
      "source": [
        "#### 30 iteraciones"
      ]
    },
    {
      "cell_type": "code",
      "metadata": {
        "colab_type": "code",
        "id": "tzWzPzVPfGtD",
        "outputId": "106e6fef-27e2-4677-a6f1-f19e805b37f2",
        "colab": {
          "base_uri": "https://localhost:8080/",
          "height": 86
        }
      },
      "source": [
        "parameters_for_testing = {'max_depth': list(range(1,21)), 'min_samples_split': list(range(3,21)),\\\n",
        "                         'max_features': list(range(1,X.shape[1])), 'min_samples_leaf': np.linspace(0.1, 0.5, 5, endpoint=True),\\\n",
        "                        'random_state': list(range(1,100,7))}\n",
        "\n",
        "\n",
        "n_iter_search = 30\n",
        "random_search = RandomizedSearchCV(dtr_model, param_distributions=parameters_for_testing, n_iter=n_iter_search, cv=2, iid=False, scoring='neg_mean_absolute_error', n_jobs = 2)\n",
        "random_search.fit(X,Y)\n",
        "print('best params')\n",
        "print (random_search.best_params_)\n",
        "print('best score')\n",
        "print (-random_search.best_score_)"
      ],
      "execution_count": 0,
      "outputs": [
        {
          "output_type": "stream",
          "text": [
            "best params\n",
            "{'random_state': 71, 'min_samples_split': 13, 'min_samples_leaf': 0.1, 'max_features': 96, 'max_depth': 9}\n",
            "best score\n",
            "1137666.1121878428\n"
          ],
          "name": "stdout"
        }
      ]
    },
    {
      "cell_type": "markdown",
      "metadata": {
        "colab_type": "text",
        "id": "jXKjDmAPcKTe"
      },
      "source": [
        "## Gradient Boosting Regressor"
      ]
    },
    {
      "cell_type": "markdown",
      "metadata": {
        "colab_type": "text",
        "id": "-dUmwEcLIx3A"
      },
      "source": [
        "#### Pruebo con 10 iteraciones"
      ]
    },
    {
      "cell_type": "code",
      "metadata": {
        "colab_type": "code",
        "id": "9wmh40wye-c_",
        "outputId": "81a8918a-7478-4a71-e930-3e01e6bce965",
        "colab": {
          "base_uri": "https://localhost:8080/",
          "height": 451
        }
      },
      "source": [
        "parameters_for_testing = {'learning_rate': [1, 0.5, 0.25, 0.1, 0.05, 0.01], 'n_estimators': [1, 2, 4, 8, 16, 32, 64, 100, 200],\\\n",
        "                          'max_depth': np.linspace(1, 32, 32, endpoint=True), 'min_samples_split': np.linspace(0.1, 1.0, 10, endpoint=True),\\\n",
        "                          'max_features': list(range(1,X.shape[1])), 'min_samples_leaf': np.linspace(0.1, 0.5, 5, endpoint=True)}\n",
        "\n",
        "n_iter_search = 10\n",
        "random_search = RandomizedSearchCV(gbr_model, param_distributions=parameters_for_testing, n_iter=n_iter_search, cv=3, iid=False, scoring='neg_mean_absolute_error', n_jobs = 2)\n",
        "random_search.fit(X,Y)"
      ],
      "execution_count": 0,
      "outputs": [
        {
          "output_type": "execute_result",
          "data": {
            "text/plain": [
              "RandomizedSearchCV(cv=3, error_score='raise-deprecating',\n",
              "                   estimator=GradientBoostingRegressor(alpha=0.9,\n",
              "                                                       criterion='friedman_mse',\n",
              "                                                       init=None,\n",
              "                                                       learning_rate=0.1,\n",
              "                                                       loss='ls', max_depth=3,\n",
              "                                                       max_features=None,\n",
              "                                                       max_leaf_nodes=None,\n",
              "                                                       min_impurity_decrease=0.0,\n",
              "                                                       min_impurity_split=None,\n",
              "                                                       min_samples_leaf=1,\n",
              "                                                       min_samples_split=2,\n",
              "                                                       min_weight_fraction_leaf=0.0,\n",
              "                                                       n_estimators=100,...\n",
              "                                                         9, 10, 11, 12, 13, 14,\n",
              "                                                         15, 16, 17, 18, 19, 20,\n",
              "                                                         21, 22, 23, 24, 25, 26,\n",
              "                                                         27, 28, 29, 30, ...],\n",
              "                                        'min_samples_leaf': array([0.1, 0.2, 0.3, 0.4, 0.5]),\n",
              "                                        'min_samples_split': array([0.1, 0.2, 0.3, 0.4, 0.5, 0.6, 0.7, 0.8, 0.9, 1. ]),\n",
              "                                        'n_estimators': [1, 2, 4, 8, 16, 32, 64,\n",
              "                                                         100, 200]},\n",
              "                   pre_dispatch='2*n_jobs', random_state=None, refit=True,\n",
              "                   return_train_score=False, scoring='neg_mean_absolute_error',\n",
              "                   verbose=0)"
            ]
          },
          "metadata": {
            "tags": []
          },
          "execution_count": 11
        }
      ]
    },
    {
      "cell_type": "code",
      "metadata": {
        "colab_type": "code",
        "id": "3k50Bx82tPz4",
        "outputId": "1e51ea67-dd22-4847-d221-8419c554b00b",
        "colab": {
          "base_uri": "https://localhost:8080/",
          "height": 86
        }
      },
      "source": [
        "print('best params')\n",
        "print (random_search.best_params_)\n",
        "print('best score')\n",
        "print (-random_search.best_score_)"
      ],
      "execution_count": 0,
      "outputs": [
        {
          "output_type": "stream",
          "text": [
            "best params\n",
            "{'n_estimators': 100, 'min_samples_split': 0.1, 'min_samples_leaf': 0.1, 'max_features': 86, 'max_depth': 25.0, 'learning_rate': 0.5}\n",
            "best score\n",
            "708438.0012370601\n"
          ],
          "name": "stdout"
        }
      ]
    },
    {
      "cell_type": "markdown",
      "metadata": {
        "colab_type": "text",
        "id": "Yfd3kQ6GIx3f"
      },
      "source": [
        "#### Pruebo con 20 iteraciones"
      ]
    },
    {
      "cell_type": "code",
      "metadata": {
        "colab_type": "code",
        "id": "Fnt0QXL5Ix3i",
        "outputId": "e8c424bc-5587-4d10-8daa-98b7a4f094e0",
        "colab": {
          "base_uri": "https://localhost:8080/",
          "height": 86
        }
      },
      "source": [
        "parameters_for_testing = {'learning_rate': [1, 0.5, 0.25, 0.1, 0.05, 0.01], 'n_estimators': list(range(50,200,10)),\\\n",
        "                          'max_depth': list(range(1,50,5)), 'min_samples_split': np.linspace(0.1, 1.0, 10, endpoint=True),\\\n",
        "                          'max_features': list(range(1,X.shape[1]+7,7)), 'min_samples_leaf': np.linspace(0.1, 0.5, 5, endpoint=True)}\n",
        "\n",
        "n_iter_search = 20\n",
        "random_search = RandomizedSearchCV(gbr_model, param_distributions=parameters_for_testing, n_iter=n_iter_search, cv=3, iid=False, scoring='neg_mean_absolute_error', n_jobs = 2)\n",
        "random_search.fit(X,Y)\n",
        "print('best params')\n",
        "print (random_search.best_params_)\n",
        "print('best score')\n",
        "print (-random_search.best_score_)"
      ],
      "execution_count": 0,
      "outputs": [
        {
          "output_type": "stream",
          "text": [
            "best params\n",
            "{'n_estimators': 140, 'min_samples_split': 0.1, 'min_samples_leaf': 0.2, 'max_features': 15, 'max_depth': 41, 'learning_rate': 1}\n",
            "best score\n",
            "837441.8272884014\n"
          ],
          "name": "stdout"
        }
      ]
    },
    {
      "cell_type": "markdown",
      "metadata": {
        "colab_type": "text",
        "id": "gMASD230en0P"
      },
      "source": [
        "#### 30 iteraciones"
      ]
    },
    {
      "cell_type": "code",
      "metadata": {
        "colab_type": "code",
        "id": "4C_R7zhgeoH-",
        "outputId": "415eee7c-840f-4e39-953b-fc66a3f638a0",
        "colab": {
          "base_uri": "https://localhost:8080/",
          "height": 86
        }
      },
      "source": [
        "GradientBoostingRegressor()\n",
        "parameters_for_testing = {'learning_rate': [1, 0.5, 0.25, 0.1, 0.05, 0.01], 'n_estimators': [1, 2, 4, 8, 16, 32, 64, 100, 200],\\\n",
        "                          'max_depth': np.linspace(1, 32, 32, endpoint=True), 'min_samples_split': np.linspace(0.1, 1.0, 10, endpoint=True),\\\n",
        "                          'max_features': list(range(50,X.shape[1],5)), 'min_samples_leaf': np.linspace(0.1, 0.5, 5, endpoint=True)}\n",
        "\n",
        "n_iter_search = 30\n",
        "random_search = RandomizedSearchCV(gbr_model, param_distributions=parameters_for_testing, n_iter=n_iter_search, cv=3, iid=False, scoring='neg_mean_absolute_error', n_jobs = 2)\n",
        "random_search.fit(X,Y)\n",
        "print('best params')\n",
        "print (random_search.best_params_)\n",
        "print('best score')\n",
        "print (-random_search.best_score_)"
      ],
      "execution_count": 0,
      "outputs": [
        {
          "output_type": "stream",
          "text": [
            "best params\n",
            "{'n_estimators': 200, 'min_samples_split': 0.5, 'min_samples_leaf': 0.1, 'max_features': 95, 'max_depth': 32.0, 'learning_rate': 1}\n",
            "best score\n",
            "713112.666421225\n"
          ],
          "name": "stdout"
        }
      ]
    },
    {
      "cell_type": "markdown",
      "metadata": {
        "colab_type": "text",
        "id": "BfH-pX-iGJrV"
      },
      "source": [
        "## XGBoost Regressor"
      ]
    },
    {
      "cell_type": "markdown",
      "metadata": {
        "colab_type": "text",
        "id": "W7M1reOtIx3x"
      },
      "source": [
        "#### 10 iteraciones"
      ]
    },
    {
      "cell_type": "code",
      "metadata": {
        "colab_type": "code",
        "id": "y_vPh8fPERvX",
        "outputId": "6fa5dd32-5ba8-41b0-a4b9-198d74f6a220",
        "colab": {
          "base_uri": "https://localhost:8080/",
          "height": 521
        }
      },
      "source": [
        "parameters_for_testing = {'learning_rate': [1, 0.5, 0.25, 0.1, 0.05, 0.01], 'n_estimators': [1, 2, 4, 8, 16, 32, 64, 100, 200],\\\n",
        "                          'max_depth': list(range(5,10)), 'min_child_weight':range(1,6,2), 'gamma':[i/10.0 for i in range(0,5)],\\\n",
        "                          'max_features': list(range(1,X.shape[1])), 'subsample':[i/10.0 for i in range(6,10)], \\\n",
        "                          'colsample_bytree':[i/10.0 for i in range(6,10)], 'reg_alpha':[1e-5, 1e-2, 0.1, 1, 100], 'random_state': list(range(1,100,10))}\n",
        "\n",
        "n_iter_search = 10\n",
        "random_search = RandomizedSearchCV(xgb_model, param_distributions=parameters_for_testing, n_iter=n_iter_search, cv=2, iid=False, scoring='neg_mean_absolute_error', n_jobs = 2)\n",
        "random_search.fit(X,Y)"
      ],
      "execution_count": 0,
      "outputs": [
        {
          "output_type": "stream",
          "text": [
            "/usr/local/lib/python3.6/dist-packages/xgboost/core.py:587: FutureWarning: Series.base is deprecated and will be removed in a future version\n",
            "  if getattr(data, 'base', None) is not None and \\\n",
            "/usr/local/lib/python3.6/dist-packages/xgboost/core.py:588: FutureWarning: Series.base is deprecated and will be removed in a future version\n",
            "  data.base is not None and isinstance(data, np.ndarray) \\\n"
          ],
          "name": "stderr"
        },
        {
          "output_type": "stream",
          "text": [
            "[00:48:37] WARNING: /workspace/src/objective/regression_obj.cu:152: reg:linear is now deprecated in favor of reg:squarederror.\n"
          ],
          "name": "stdout"
        },
        {
          "output_type": "execute_result",
          "data": {
            "text/plain": [
              "RandomizedSearchCV(cv=2, error_score='raise-deprecating',\n",
              "                   estimator=XGBRegressor(base_score=0.5, booster='gbtree',\n",
              "                                          colsample_bylevel=1,\n",
              "                                          colsample_bynode=1,\n",
              "                                          colsample_bytree=0.9, gamma=0.1,\n",
              "                                          importance_type='gain',\n",
              "                                          learning_rate=0.05, max_delta_step=0,\n",
              "                                          max_depth=9, max_features=52,\n",
              "                                          min_child_weight=3, missing=None,\n",
              "                                          n_estimators=200, n_jobs=1,\n",
              "                                          nthread=None, objective='...\n",
              "                                                         15, 16, 17, 18, 19, 20,\n",
              "                                                         21, 22, 23, 24, 25, 26,\n",
              "                                                         27, 28, 29, 30, ...],\n",
              "                                        'min_child_weight': range(1, 6, 2),\n",
              "                                        'n_estimators': [1, 2, 4, 8, 16, 32, 64,\n",
              "                                                         100, 200],\n",
              "                                        'random_state': [1, 11, 21, 31, 41, 51,\n",
              "                                                         61, 71, 81, 91],\n",
              "                                        'reg_alpha': [1e-05, 0.01, 0.1, 1, 100],\n",
              "                                        'subsample': [0.6, 0.7, 0.8, 0.9]},\n",
              "                   pre_dispatch='2*n_jobs', random_state=None, refit=True,\n",
              "                   return_train_score=False, scoring='neg_mean_absolute_error',\n",
              "                   verbose=0)"
            ]
          },
          "metadata": {
            "tags": []
          },
          "execution_count": 39
        }
      ]
    },
    {
      "cell_type": "code",
      "metadata": {
        "colab_type": "code",
        "id": "E6Ht1JuQno9m",
        "outputId": "df2cc473-392f-463f-afc3-cf525c5d9129",
        "colab": {
          "base_uri": "https://localhost:8080/",
          "height": 124
        }
      },
      "source": [
        "print('best params')\n",
        "print (random_search.best_params_)\n",
        "print('best score')\n",
        "print (-random_search.best_score_)"
      ],
      "execution_count": 0,
      "outputs": [
        {
          "output_type": "stream",
          "text": [
            "best params\n",
            "{'subsample': 0.7, 'reg_alpha': 1, 'random_state': 71, 'n_estimators': 200, 'min_child_weight': 5, 'max_features': 104, 'max_depth': 8, 'learning_rate': 0.05, 'gamma': 0.4, 'colsample_bytree': 0.7}\n",
            "best score\n",
            "538964.2301326335\n"
          ],
          "name": "stdout"
        },
        {
          "output_type": "execute_result",
          "data": {
            "text/plain": [
              "\"{'subsample': 0.8, 'reg_alpha': 1, 'n_estimators': 100, 'min_child_weight': 3, 'max_features': 49, 'max_depth': 9, 'learning_rate': 0.05, 'gamma': 0.3, 'colsample_bytree': 0.7}\\nbest score\\n553144.0438404947\""
            ]
          },
          "metadata": {
            "tags": []
          },
          "execution_count": 40
        }
      ]
    },
    {
      "cell_type": "markdown",
      "metadata": {
        "colab_type": "text",
        "id": "SQqTSXgjIx4U"
      },
      "source": [
        "#### 15 iteraciones"
      ]
    },
    {
      "cell_type": "code",
      "metadata": {
        "colab_type": "code",
        "id": "blB2hrHsIx4Y",
        "outputId": "aeaa49f7-77ca-4028-9aca-8dc0e090c980",
        "colab": {
          "base_uri": "https://localhost:8080/",
          "height": 193
        }
      },
      "source": [
        "parameters_for_testing = {'learning_rate': [1, 0.5, 0.25, 0.1, 0.05, 0.01], 'n_estimators': [1, 2, 4, 8, 16, 32, 64, 100, 200],\\\n",
        "                          'max_depth': list(range(5,10)), 'min_child_weight':range(1,6,2), 'gamma':[i/10.0 for i in range(0,5)],\\\n",
        "                          'max_features': list(range(1,X.shape[1])), 'subsample':[i/10.0 for i in range(6,10)], \\\n",
        "                          'colsample_bytree':[i/10.0 for i in range(6,10)], 'reg_alpha':[1e-5, 1e-2, 0.1, 1, 100], 'random_state': list(range(1,100,10))}\n",
        "\n",
        "n_iter_search = 15\n",
        "random_search = RandomizedSearchCV(xgb_model, param_distributions=parameters_for_testing, n_iter=n_iter_search, cv=2, iid=False, scoring='neg_mean_absolute_error', n_jobs = 2)\n",
        "random_search.fit(X,Y)\n",
        "print('best params')\n",
        "print (random_search.best_params_)\n",
        "print('best score')\n",
        "print (-random_search.best_score_)"
      ],
      "execution_count": 0,
      "outputs": [
        {
          "output_type": "stream",
          "text": [
            "/usr/local/lib/python3.6/dist-packages/xgboost/core.py:587: FutureWarning: Series.base is deprecated and will be removed in a future version\n",
            "  if getattr(data, 'base', None) is not None and \\\n",
            "/usr/local/lib/python3.6/dist-packages/xgboost/core.py:588: FutureWarning: Series.base is deprecated and will be removed in a future version\n",
            "  data.base is not None and isinstance(data, np.ndarray) \\\n"
          ],
          "name": "stderr"
        },
        {
          "output_type": "stream",
          "text": [
            "[01:22:34] WARNING: /workspace/src/objective/regression_obj.cu:152: reg:linear is now deprecated in favor of reg:squarederror.\n",
            "best params\n",
            "{'subsample': 0.7, 'reg_alpha': 0.1, 'random_state': 41, 'n_estimators': 200, 'min_child_weight': 3, 'max_features': 108, 'max_depth': 7, 'learning_rate': 0.1, 'gamma': 0.1, 'colsample_bytree': 0.9}\n",
            "best score\n",
            "539445.029963267\n"
          ],
          "name": "stdout"
        }
      ]
    },
    {
      "cell_type": "markdown",
      "metadata": {
        "colab_type": "text",
        "id": "ITkld1W7Ix4k"
      },
      "source": [
        "#### 25 iteraciones"
      ]
    },
    {
      "cell_type": "code",
      "metadata": {
        "colab_type": "code",
        "id": "k9pXXB9eIx4o",
        "colab": {
          "base_uri": "https://localhost:8080/",
          "height": 228
        },
        "outputId": "cb2e6e9f-d2ae-4cf0-d959-49c5b7aa039c"
      },
      "source": [
        "parameters_for_testing = {'learning_rate': [1, 0.5, 0.25, 0.1, 0.05, 0.01], 'n_estimators': [200],\\\n",
        "                          'max_depth': list(range(5,10)), 'min_child_weight':range(1,6,2), 'gamma':[i/10.0 for i in range(0,5)],\\\n",
        "                          'max_features': list(range(1,X.shape[1])), 'subsample':[i/10.0 for i in range(6,10)], \\\n",
        "                          'colsample_bytree':[i/10.0 for i in range(6,10)], 'reg_alpha':[1e-5, 1e-2, 0.1, 1, 100], 'random_state': list(range(1,100,10))}\n",
        "\n",
        "n_iter_search = 25\n",
        "random_search = RandomizedSearchCV(xgb_model, param_distributions=parameters_for_testing, n_iter=n_iter_search, cv=2, iid=False, scoring='neg_mean_absolute_error', n_jobs = 2)\n",
        "random_search.fit(X,Y)\n",
        "print('best params')\n",
        "print (random_search.best_params_)\n",
        "print('best score')\n",
        "print (-random_search.best_score_)"
      ],
      "execution_count": 8,
      "outputs": [
        {
          "output_type": "stream",
          "text": [
            "/usr/local/lib/python3.6/dist-packages/joblib/externals/loky/process_executor.py:706: UserWarning: A worker stopped while some jobs were given to the executor. This can be caused by a too short worker timeout or by a memory leak.\n",
            "  \"timeout or by a memory leak.\", UserWarning\n",
            "/usr/local/lib/python3.6/dist-packages/xgboost/core.py:587: FutureWarning: Series.base is deprecated and will be removed in a future version\n",
            "  if getattr(data, 'base', None) is not None and \\\n",
            "/usr/local/lib/python3.6/dist-packages/xgboost/core.py:588: FutureWarning: Series.base is deprecated and will be removed in a future version\n",
            "  data.base is not None and isinstance(data, np.ndarray) \\\n"
          ],
          "name": "stderr"
        },
        {
          "output_type": "stream",
          "text": [
            "[14:22:48] WARNING: /workspace/src/objective/regression_obj.cu:152: reg:linear is now deprecated in favor of reg:squarederror.\n",
            "best params\n",
            "{'subsample': 0.7, 'reg_alpha': 0.01, 'random_state': 21, 'n_estimators': 200, 'min_child_weight': 3, 'max_features': 100, 'max_depth': 9, 'learning_rate': 0.1, 'gamma': 0.0, 'colsample_bytree': 0.7}\n",
            "best score\n",
            "516905.8609335531\n"
          ],
          "name": "stdout"
        }
      ]
    },
    {
      "cell_type": "markdown",
      "metadata": {
        "colab_type": "text",
        "id": "TookyDu5Ix49"
      },
      "source": [
        "#### 35 iteraciones"
      ]
    },
    {
      "cell_type": "code",
      "metadata": {
        "colab_type": "code",
        "id": "-9CjRtw0Ix5B",
        "outputId": "e8426de4-5efe-4786-dcc4-3b7d1c26b781",
        "colab": {
          "base_uri": "https://localhost:8080/",
          "height": 228
        }
      },
      "source": [
        "parameters_for_testing = {'learning_rate': [1, 0.5, 0.25, 0.1, 0.05, 0.01], 'n_estimators': [200],\\\n",
        "                          'max_depth': [list(range(5,10))], 'min_child_weight':range(1,6,2), 'gamma':[i/10.0 for i in range(0,5)],\\\n",
        "                          'max_features': list(range(100,X.shape[1])), 'subsample':[i/10.0 for i in range(6,10)], \\\n",
        "                          'colsample_bytree':[i/10.0 for i in range(6,10)], 'reg_alpha':[1e-5, 1e-2, 0.1, 1, 100], 'random_state': list(range(1,100,10))}\n",
        "\n",
        "n_iter_search = 35\n",
        "random_search = RandomizedSearchCV(xgb_model, param_distributions=parameters_for_testing, n_iter=n_iter_search, cv=2, iid=False, scoring='neg_mean_absolute_error', n_jobs = 2)\n",
        "random_search.fit(X,Y)\n",
        "print('best params')\n",
        "print (random_search.best_params_)\n",
        "print('best score')\n",
        "print (-random_search.best_score_)"
      ],
      "execution_count": 10,
      "outputs": [
        {
          "output_type": "stream",
          "text": [
            "/usr/local/lib/python3.6/dist-packages/joblib/externals/loky/process_executor.py:706: UserWarning: A worker stopped while some jobs were given to the executor. This can be caused by a too short worker timeout or by a memory leak.\n",
            "  \"timeout or by a memory leak.\", UserWarning\n",
            "/usr/local/lib/python3.6/dist-packages/xgboost/core.py:587: FutureWarning: Series.base is deprecated and will be removed in a future version\n",
            "  if getattr(data, 'base', None) is not None and \\\n",
            "/usr/local/lib/python3.6/dist-packages/xgboost/core.py:588: FutureWarning: Series.base is deprecated and will be removed in a future version\n",
            "  data.base is not None and isinstance(data, np.ndarray) \\\n"
          ],
          "name": "stderr"
        },
        {
          "output_type": "stream",
          "text": [
            "[17:18:48] WARNING: /workspace/src/objective/regression_obj.cu:152: reg:linear is now deprecated in favor of reg:squarederror.\n",
            "best params\n",
            "{'subsample': 0.8, 'reg_alpha': 1, 'random_state': 61, 'n_estimators': 200, 'min_child_weight': 1, 'max_features': 105, 'max_depth': 9, 'learning_rate': 0.1, 'gamma': 0.1, 'colsample_bytree': 0.9}\n",
            "best score\n",
            "515887.6296143199\n"
          ],
          "name": "stdout"
        }
      ]
    },
    {
      "cell_type": "markdown",
      "metadata": {
        "id": "fVGN-Nw9kzGt",
        "colab_type": "text"
      },
      "source": [
        "## **Mejor Versión XGBoost**"
      ]
    },
    {
      "cell_type": "code",
      "metadata": {
        "id": "XG8oz0O4k4vA",
        "colab_type": "code",
        "colab": {
          "base_uri": "https://localhost:8080/",
          "height": 139
        },
        "outputId": "05db575e-9d26-413a-a9c9-24866d78a866"
      },
      "source": [
        "xgb_model = xgb.XGBRegressor(subsample = 0.8, reg_alpha = 1, random_state = 61, n_estimators = 200, min_child_weight = 1, \\\n",
        "                                 max_features = 105, max_depth = 9, learning_rate = 0.1, gamma = 0.1, colsample_bytree = 0.9)\n",
        "scores = cross_val_score(xgb_model , X, Y, scoring=\"neg_mean_absolute_error\", cv=2)\n",
        "RF_mae_score = -scores.mean()\n",
        "RF_mae_score"
      ],
      "execution_count": 16,
      "outputs": [
        {
          "output_type": "stream",
          "text": [
            "/usr/local/lib/python3.6/dist-packages/xgboost/core.py:587: FutureWarning: Series.base is deprecated and will be removed in a future version\n",
            "  if getattr(data, 'base', None) is not None and \\\n"
          ],
          "name": "stderr"
        },
        {
          "output_type": "stream",
          "text": [
            "[18:29:31] WARNING: /workspace/src/objective/regression_obj.cu:152: reg:linear is now deprecated in favor of reg:squarederror.\n"
          ],
          "name": "stdout"
        },
        {
          "output_type": "stream",
          "text": [
            "/usr/local/lib/python3.6/dist-packages/xgboost/core.py:587: FutureWarning: Series.base is deprecated and will be removed in a future version\n",
            "  if getattr(data, 'base', None) is not None and \\\n"
          ],
          "name": "stderr"
        },
        {
          "output_type": "stream",
          "text": [
            "[18:33:19] WARNING: /workspace/src/objective/regression_obj.cu:152: reg:linear is now deprecated in favor of reg:squarederror.\n"
          ],
          "name": "stdout"
        },
        {
          "output_type": "execute_result",
          "data": {
            "text/plain": [
              "515887.6296143199"
            ]
          },
          "metadata": {
            "tags": []
          },
          "execution_count": 16
        }
      ]
    },
    {
      "cell_type": "markdown",
      "metadata": {
        "colab_type": "text",
        "id": "gZNggKHl6i3X"
      },
      "source": [
        "## Random Forest"
      ]
    },
    {
      "cell_type": "markdown",
      "metadata": {
        "colab_type": "text",
        "id": "uTzYmBdbIx5a"
      },
      "source": [
        "#### 5 iteraciones"
      ]
    },
    {
      "cell_type": "code",
      "metadata": {
        "colab_type": "code",
        "id": "FcppuO3mIx5c",
        "outputId": "3bec6233-bf81-4795-ee23-fe69c58fb135",
        "colab": {
          "base_uri": "https://localhost:8080/",
          "height": 469
        }
      },
      "source": [
        "rf_model = RandomForestRegressor(oob_score = True)\n",
        "parameters_for_testing = {'n_estimators': range(10,100,10), 'random_state': range(1,50,7), \\\n",
        "                          'max_depth': range(5,50,5), 'min_samples_split': range(5,25,5), \\\n",
        "                          'min_samples_leaf': [1,2,5,10,15], 'max_features': list(range(1, X.shape[1]+1))}\n",
        "\n",
        "n_iter_search = 5\n",
        "random_search = RandomizedSearchCV(rf_model, param_distributions=parameters_for_testing, n_iter=n_iter_search, cv=2, iid=False, scoring='neg_mean_absolute_error', n_jobs = 4)\n",
        "random_search.fit(X,Y)"
      ],
      "execution_count": 0,
      "outputs": [
        {
          "output_type": "execute_result",
          "data": {
            "text/plain": [
              "RandomizedSearchCV(cv=2, error_score='raise-deprecating',\n",
              "                   estimator=RandomForestRegressor(bootstrap=True,\n",
              "                                                   criterion='mse',\n",
              "                                                   max_depth=None,\n",
              "                                                   max_features='auto',\n",
              "                                                   max_leaf_nodes=None,\n",
              "                                                   min_impurity_decrease=0.0,\n",
              "                                                   min_impurity_split=None,\n",
              "                                                   min_samples_leaf=1,\n",
              "                                                   min_samples_split=2,\n",
              "                                                   min_weight_fraction_leaf=0.0,\n",
              "                                                   n_estimators='warn',\n",
              "                                                   n_jobs=None, oob_score=True,\n",
              "                                                   random_stat...\n",
              "                                        'max_features': [1, 2, 3, 4, 5, 6, 7, 8,\n",
              "                                                         9, 10, 11, 12, 13, 14,\n",
              "                                                         15, 16, 17, 18, 19, 20,\n",
              "                                                         21, 22, 23, 24, 25, 26,\n",
              "                                                         27, 28, 29, 30, ...],\n",
              "                                        'min_samples_leaf': [1, 2, 5, 10, 15],\n",
              "                                        'min_samples_split': range(5, 25, 5),\n",
              "                                        'n_estimators': range(10, 100, 10),\n",
              "                                        'random_state': range(1, 50, 7)},\n",
              "                   pre_dispatch='2*n_jobs', random_state=None, refit=True,\n",
              "                   return_train_score=False, scoring='neg_mean_absolute_error',\n",
              "                   verbose=0)"
            ]
          },
          "metadata": {
            "tags": []
          },
          "execution_count": 27
        }
      ]
    },
    {
      "cell_type": "code",
      "metadata": {
        "colab_type": "code",
        "id": "1hLs1gD6zFDf",
        "outputId": "c4286971-2938-4b06-c95c-b9cbe4ed9103",
        "colab": {
          "base_uri": "https://localhost:8080/",
          "height": 86
        }
      },
      "source": [
        "print('best params')\n",
        "print (random_search.best_params_)\n",
        "print('best score')\n",
        "print (-random_search.best_score_)"
      ],
      "execution_count": 0,
      "outputs": [
        {
          "output_type": "stream",
          "text": [
            "best params\n",
            "{'random_state': 1, 'n_estimators': 40, 'min_samples_split': 10, 'min_samples_leaf': 2, 'max_features': 114, 'max_depth': 30}\n",
            "best score\n",
            "545125.3516973509\n"
          ],
          "name": "stdout"
        }
      ]
    },
    {
      "cell_type": "markdown",
      "metadata": {
        "colab_type": "text",
        "id": "7pxh6OxgIx50"
      },
      "source": [
        "#### Pruebo con 10 iteraciones"
      ]
    },
    {
      "cell_type": "code",
      "metadata": {
        "colab_type": "code",
        "id": "VCDo2oxeIx55",
        "outputId": "2c0ce304-8962-40fc-a496-215eb0fee8ae",
        "colab": {
          "base_uri": "https://localhost:8080/",
          "height": 506
        }
      },
      "source": [
        "parameters_for_testing = {'n_estimators': range(50,300,50), 'random_state': range(7,126,7), \\\n",
        "                          'max_depth': range(5,50,5), 'min_samples_split': range(5,25,5), \\\n",
        "                          'min_samples_leaf': [1,2,5,10,15], 'max_features': list(range(1, X.shape[1]+1, 10))}\n",
        "\n",
        "n_iter_search = 10\n",
        "random_search = RandomizedSearchCV(rf_model, param_distributions=parameters_for_testing, n_iter=n_iter_search, cv=2, iid=False, scoring='neg_mean_absolute_error', n_jobs = 2)\n",
        "random_search.fit(X,Y)"
      ],
      "execution_count": 0,
      "outputs": [
        {
          "output_type": "stream",
          "text": [
            "/usr/local/lib/python3.6/dist-packages/joblib/externals/loky/process_executor.py:706: UserWarning: A worker stopped while some jobs were given to the executor. This can be caused by a too short worker timeout or by a memory leak.\n",
            "  \"timeout or by a memory leak.\", UserWarning\n"
          ],
          "name": "stderr"
        },
        {
          "output_type": "execute_result",
          "data": {
            "text/plain": [
              "RandomizedSearchCV(cv=2, error_score='raise-deprecating',\n",
              "                   estimator=RandomForestRegressor(bootstrap=True,\n",
              "                                                   criterion='mse',\n",
              "                                                   max_depth=None,\n",
              "                                                   max_features='auto',\n",
              "                                                   max_leaf_nodes=None,\n",
              "                                                   min_impurity_decrease=0.0,\n",
              "                                                   min_impurity_split=None,\n",
              "                                                   min_samples_leaf=1,\n",
              "                                                   min_samples_split=2,\n",
              "                                                   min_weight_fraction_leaf=0.0,\n",
              "                                                   n_estimators='warn',\n",
              "                                                   n_jobs=None, oob_score=True,\n",
              "                                                   random_stat...\n",
              "                   param_distributions={'max_depth': range(5, 50, 5),\n",
              "                                        'max_features': [1, 11, 21, 31, 41, 51,\n",
              "                                                         61, 71, 81, 91, 101,\n",
              "                                                         111],\n",
              "                                        'min_samples_leaf': [1, 2, 5, 10, 15],\n",
              "                                        'min_samples_split': range(5, 25, 5),\n",
              "                                        'n_estimators': range(50, 300, 50),\n",
              "                                        'random_state': range(7, 126, 7)},\n",
              "                   pre_dispatch='2*n_jobs', random_state=None, refit=True,\n",
              "                   return_train_score=False, scoring='neg_mean_absolute_error',\n",
              "                   verbose=0)"
            ]
          },
          "metadata": {
            "tags": []
          },
          "execution_count": 29
        }
      ]
    },
    {
      "cell_type": "code",
      "metadata": {
        "colab_type": "code",
        "id": "B5EtRH9IIx6G",
        "outputId": "cf899578-458c-4c53-c861-353eac599c61",
        "scrolled": true,
        "colab": {
          "base_uri": "https://localhost:8080/",
          "height": 86
        }
      },
      "source": [
        "print('best params')\n",
        "print (random_search.best_params_)\n",
        "print('best score')\n",
        "print (-random_search.best_score_)"
      ],
      "execution_count": 0,
      "outputs": [
        {
          "output_type": "stream",
          "text": [
            "best params\n",
            "{'random_state': 91, 'n_estimators': 150, 'min_samples_split': 5, 'min_samples_leaf': 2, 'max_features': 51, 'max_depth': 20}\n",
            "best score\n",
            "537184.8327143042\n"
          ],
          "name": "stdout"
        }
      ]
    },
    {
      "cell_type": "markdown",
      "metadata": {
        "colab_type": "text",
        "id": "uCVSCMZIIx6R"
      },
      "source": [
        "### 20 iteraciones"
      ]
    },
    {
      "cell_type": "code",
      "metadata": {
        "colab_type": "code",
        "id": "uHqkBPXL8lCQ",
        "outputId": "26a03e42-d8c3-4ef4-f4fb-262ebd54842c",
        "colab": {
          "base_uri": "https://localhost:8080/",
          "height": 141
        }
      },
      "source": [
        "parameters_for_testing = {'n_estimators': range(50,300,50), 'random_state': range(7,126,7), \\\n",
        "                          'max_depth': range(5,50,5), 'min_samples_split': range(5,25,5), \\\n",
        "                          'min_samples_leaf': [1,2,5,10,15], 'max_features': list(range(1, X.shape[1]+1, 10))}\n",
        "\n",
        "n_iter_search = 20\n",
        "random_search = RandomizedSearchCV(rf_model, param_distributions=parameters_for_testing, n_iter=n_iter_search, cv=2, iid=False, scoring='neg_mean_absolute_error', n_jobs = 2)\n",
        "random_search.fit(X,Y)\n",
        "print('best params')\n",
        "print (random_search.best_params_)\n",
        "print('best score')\n",
        "print (-random_search.best_score_)"
      ],
      "execution_count": 0,
      "outputs": [
        {
          "output_type": "stream",
          "text": [
            "/usr/local/lib/python3.6/dist-packages/joblib/externals/loky/process_executor.py:706: UserWarning: A worker stopped while some jobs were given to the executor. This can be caused by a too short worker timeout or by a memory leak.\n",
            "  \"timeout or by a memory leak.\", UserWarning\n"
          ],
          "name": "stderr"
        },
        {
          "output_type": "stream",
          "text": [
            "best params\n",
            "{'random_state': 21, 'n_estimators': 150, 'min_samples_split': 10, 'min_samples_leaf': 1, 'max_features': 71, 'max_depth': 40}\n",
            "best score\n",
            "533798.8441477388\n"
          ],
          "name": "stdout"
        }
      ]
    },
    {
      "cell_type": "markdown",
      "metadata": {
        "colab_type": "text",
        "id": "CM9OKD5lIx6g"
      },
      "source": [
        "#### 30 iteraciones"
      ]
    },
    {
      "cell_type": "code",
      "metadata": {
        "colab_type": "code",
        "id": "_9_FQzITIx6k",
        "outputId": "04f82c2a-de70-42c5-84c0-ea7512dc1e8f",
        "colab": {
          "base_uri": "https://localhost:8080/",
          "height": 141
        }
      },
      "source": [
        "rf_model = RandomForestRegressor(oob_score= True)\n",
        "parameters_for_testing = {'n_estimators': range(50,300,50), 'random_state': range(7,126,7), \\\n",
        "                          'max_depth': range(5,50,5), 'min_samples_split': range(5,25,5), \\\n",
        "                          'min_samples_leaf': [1,2,5,10,15], 'max_features': list(range(1, X.shape[1]+1, 10))}\n",
        "\n",
        "n_iter_search = 30\n",
        "random_search = RandomizedSearchCV(rf_model, param_distributions=parameters_for_testing, n_iter=n_iter_search, cv=2, iid=False, scoring='neg_mean_absolute_error', n_jobs = 2)\n",
        "random_search.fit(X,Y)\n",
        "print('best params')\n",
        "print (random_search.best_params_)\n",
        "print('best score')\n",
        "print (-random_search.best_score_)"
      ],
      "execution_count": 0,
      "outputs": [
        {
          "output_type": "stream",
          "text": [
            "/usr/local/lib/python3.6/dist-packages/joblib/externals/loky/process_executor.py:706: UserWarning: A worker stopped while some jobs were given to the executor. This can be caused by a too short worker timeout or by a memory leak.\n",
            "  \"timeout or by a memory leak.\", UserWarning\n"
          ],
          "name": "stderr"
        },
        {
          "output_type": "stream",
          "text": [
            "best params\n",
            "{'random_state': 63, 'n_estimators': 100, 'min_samples_split': 5, 'min_samples_leaf': 1, 'max_features': 101, 'max_depth': 40}\n",
            "best score\n",
            "532398.89859663\n"
          ],
          "name": "stdout"
        }
      ]
    },
    {
      "cell_type": "markdown",
      "metadata": {
        "id": "wP5dqwjzkVgS",
        "colab_type": "text"
      },
      "source": [
        "##**Mejor Versión de Random Forest**"
      ]
    },
    {
      "cell_type": "code",
      "metadata": {
        "id": "NnCCDIdfg_W2",
        "colab_type": "code",
        "colab": {
          "base_uri": "https://localhost:8080/",
          "height": 34
        },
        "outputId": "8d6416b2-6993-48d0-87f9-4c12b69aa544"
      },
      "source": [
        "rf_model = RandomForestRegressor(random_state = 63, n_estimators = 100, min_samples_split = 5, min_samples_leaf = 1,\\\n",
        "                                 max_features = 101, max_depth = 40, oob_score = True)\n",
        "scores = cross_val_score(rf_model , X, Y, scoring=\"neg_mean_absolute_error\", cv=2)\n",
        "RF_mae_score = -scores.mean()\n",
        "RF_mae_score"
      ],
      "execution_count": 11,
      "outputs": [
        {
          "output_type": "execute_result",
          "data": {
            "text/plain": [
              "530595.1908701155"
            ]
          },
          "metadata": {
            "tags": []
          },
          "execution_count": 11
        }
      ]
    },
    {
      "cell_type": "markdown",
      "metadata": {
        "colab_type": "text",
        "id": "qM8VwTsCIx61"
      },
      "source": [
        "## Pruebo GridSearch con Voting Regressor"
      ]
    },
    {
      "cell_type": "code",
      "metadata": {
        "colab_type": "code",
        "id": "PvjfvIVBIx64",
        "colab": {}
      },
      "source": [
        "xgb_model = xgb.XGBRegressor(subsample = 0.8, reg_alpha = 100, n_estimators = 200, min_child_weight = 3,\\\n",
        "                             max_features = 52, max_depth = 9, learning_rate = 0.05, gamma = 0.1, colsample_bytree = 0.9)\n",
        "\n",
        "rf_model = RandomForestRegressor(random_state = 63, n_estimators = 100, min_samples_split = 5, min_samples_leaf = 1,\\\n",
        "                                 max_features = 101, max_depth = 40)\n",
        "\n",
        "vr_model = VotingRegressor(estimators = [('XGBoost', xgb_model), ('RandomForest', rf_model)])\n",
        "\n"
      ],
      "execution_count": 0,
      "outputs": []
    },
    {
      "cell_type": "markdown",
      "metadata": {
        "colab_type": "text",
        "id": "iyNW6GIJIx7B"
      },
      "source": [
        "#### Pruebo con pesos bastante diferentes"
      ]
    },
    {
      "cell_type": "code",
      "metadata": {
        "colab_type": "code",
        "id": "1fDE5TmYIx7H",
        "outputId": "a9192d07-05cb-44dc-abcd-91b7b4fde5ea",
        "colab": {}
      },
      "source": [
        "parameters_for_testing = {'weights': [[1,2], [2,1], [1,1]]}\n",
        "\n",
        "gsearch1 = GridSearchCV(vr_model, param_grid=parameters_for_testing, cv=2, iid=False, scoring='neg_mean_absolute_error', n_jobs = 2)\n",
        "gsearch1.fit(X,Y)\n",
        "\n",
        "print('best params')\n",
        "print (gsearch1.best_params_)\n",
        "print('best score')\n",
        "print (-gsearch1.best_score_)"
      ],
      "execution_count": 0,
      "outputs": [
        {
          "output_type": "stream",
          "text": [
            "/home/sol/.local/lib/python3.6/site-packages/xgboost/core.py:587: FutureWarning: Series.base is deprecated and will be removed in a future version\n",
            "  if getattr(data, 'base', None) is not None and \\\n",
            "/home/sol/.local/lib/python3.6/site-packages/xgboost/core.py:588: FutureWarning: Series.base is deprecated and will be removed in a future version\n",
            "  data.base is not None and isinstance(data, np.ndarray) \\\n"
          ],
          "name": "stderr"
        },
        {
          "output_type": "stream",
          "text": [
            "[12:59:17] WARNING: /workspace/src/objective/regression_obj.cu:152: reg:linear is now deprecated in favor of reg:squarederror.\n",
            "best params\n",
            "{'weights': [1, 1]}\n",
            "best score\n",
            "523366.23917588237\n"
          ],
          "name": "stdout"
        }
      ]
    },
    {
      "cell_type": "markdown",
      "metadata": {
        "colab_type": "text",
        "id": "x8YDI5c0Ix7V"
      },
      "source": [
        "#### Pruebo con pesos más pequeños"
      ]
    },
    {
      "cell_type": "code",
      "metadata": {
        "colab_type": "code",
        "id": "wOJK_ltRIx7a",
        "outputId": "895cfa1b-7353-49a6-9f1c-6b1856b60769",
        "colab": {}
      },
      "source": [
        "parameters_for_testing = {'weights': [[1,1], [0.5,0.5], [0.75,0.75], [0.25,0.25]]}\n",
        "\n",
        "gsearch1 = GridSearchCV(vr_model, param_grid=parameters_for_testing, cv=3, iid=False, scoring='neg_mean_absolute_error', n_jobs = 2)\n",
        "gsearch1.fit(X,Y)\n",
        "\n",
        "print('best params')\n",
        "print (gsearch1.best_params_)\n",
        "print('best score')\n",
        "print (-gsearch1.best_score_)"
      ],
      "execution_count": 0,
      "outputs": [
        {
          "output_type": "stream",
          "text": [
            "/home/sol/.local/lib/python3.6/site-packages/xgboost/core.py:587: FutureWarning: Series.base is deprecated and will be removed in a future version\n",
            "  if getattr(data, 'base', None) is not None and \\\n",
            "/home/sol/.local/lib/python3.6/site-packages/xgboost/core.py:588: FutureWarning: Series.base is deprecated and will be removed in a future version\n",
            "  data.base is not None and isinstance(data, np.ndarray) \\\n"
          ],
          "name": "stderr"
        },
        {
          "output_type": "stream",
          "text": [
            "[14:24:47] WARNING: /workspace/src/objective/regression_obj.cu:152: reg:linear is now deprecated in favor of reg:squarederror.\n",
            "best params\n",
            "{'weights': [1, 1]}\n",
            "best score\n",
            "511880.43988359044\n"
          ],
          "name": "stdout"
        }
      ]
    },
    {
      "cell_type": "markdown",
      "metadata": {
        "id": "RwPCzMRHwrGZ",
        "colab_type": "text"
      },
      "source": [
        "## **Mejor versión Voting + XGB + RF**"
      ]
    },
    {
      "cell_type": "code",
      "metadata": {
        "id": "VPaSuRy6wp-6",
        "colab_type": "code",
        "colab": {}
      },
      "source": [
        "xgb_model = xgb.XGBRegressor(subsample = 0.8, reg_alpha = 1, random_state = 61, n_estimators = 200, min_child_weight = 1, \\\n",
        "                                 max_features = 105, max_depth = 9, learning_rate = 0.1, gamma = 0.1, colsample_bytree = 0.9)\n",
        "\n",
        "rf_model = RandomForestRegressor(random_state = 63, n_estimators = 100, min_samples_split = 5, min_samples_leaf = 1,\\\n",
        "                                 max_features = 101, max_depth = 40, oob_score = True)\n",
        "\n",
        "vr_model = VotingRegressor(estimators = [('XGBoost', xgb_model), ('RandomForest', rf_model)], weights = [1,1])"
      ],
      "execution_count": 0,
      "outputs": []
    },
    {
      "cell_type": "code",
      "metadata": {
        "id": "p9fw4YL3xMVM",
        "colab_type": "code",
        "colab": {
          "base_uri": "https://localhost:8080/",
          "height": 139
        },
        "outputId": "b551dde5-f222-44aa-d130-9d0c403c9bfe"
      },
      "source": [
        "scores = cross_val_score(vr_model , X, Y, scoring=\"neg_mean_absolute_error\", cv=2)\n",
        "RF_mae_score = -scores.mean()\n",
        "RF_mae_score"
      ],
      "execution_count": 20,
      "outputs": [
        {
          "output_type": "stream",
          "text": [
            "/usr/local/lib/python3.6/dist-packages/xgboost/core.py:587: FutureWarning: Series.base is deprecated and will be removed in a future version\n",
            "  if getattr(data, 'base', None) is not None and \\\n"
          ],
          "name": "stderr"
        },
        {
          "output_type": "stream",
          "text": [
            "[18:53:15] WARNING: /workspace/src/objective/regression_obj.cu:152: reg:linear is now deprecated in favor of reg:squarederror.\n"
          ],
          "name": "stdout"
        },
        {
          "output_type": "stream",
          "text": [
            "/usr/local/lib/python3.6/dist-packages/xgboost/core.py:587: FutureWarning: Series.base is deprecated and will be removed in a future version\n",
            "  if getattr(data, 'base', None) is not None and \\\n"
          ],
          "name": "stderr"
        },
        {
          "output_type": "stream",
          "text": [
            "[19:02:03] WARNING: /workspace/src/objective/regression_obj.cu:152: reg:linear is now deprecated in favor of reg:squarederror.\n"
          ],
          "name": "stdout"
        },
        {
          "output_type": "execute_result",
          "data": {
            "text/plain": [
              "508096.66160375875"
            ]
          },
          "metadata": {
            "tags": []
          },
          "execution_count": 20
        }
      ]
    },
    {
      "cell_type": "markdown",
      "metadata": {
        "colab_type": "text",
        "id": "g1gh0pBuIx7m"
      },
      "source": [
        "### Añado más estimadores "
      ]
    },
    {
      "cell_type": "code",
      "metadata": {
        "colab_type": "code",
        "id": "iD_PCeFWIx71",
        "colab": {}
      },
      "source": [
        "xgb_model = xgb.XGBRegressor(subsample = 0.9, reg_alpha = 1, n_estimators = 200, min_child_weight = 1,\\\n",
        "                             max_features = 43, max_depth = 9, learning_rate = 0.25, gamma = 0.0, \\\n",
        "                             colsample_bytree = 0.9)\n",
        "rf_model = RandomForestRegressor(random_state = 14, n_estimators = 200, min_samples_split = 5,\\\n",
        "                                 min_samples_leaf = 2, max_features = 51, max_depth = 40)\n",
        "\n",
        "knn_model = KNeighborsRegressor(metric = 'manhattan', n_neighbors = 7, weights = 'distance')\n",
        "\n",
        "vr_model = VotingRegressor(estimators = [('XGBoost', xgb_model), ('RandomForest', rf_model), ('KNN', knn_model)])\n"
      ],
      "execution_count": 0,
      "outputs": []
    },
    {
      "cell_type": "code",
      "metadata": {
        "colab_type": "code",
        "id": "Q3Sev57fIx8E",
        "outputId": "3d336e5c-5b14-4184-ce01-94d6524f9949",
        "colab": {}
      },
      "source": [
        "parameters_for_testing = {'weights': [[1,1,0.25], [1,1,0.75], [1,1,0.5], [1,1,1]]}\n",
        "\n",
        "gsearch1 = GridSearchCV(vr_model, param_grid=parameters_for_testing, cv=2, iid=False, scoring='neg_mean_absolute_error', n_jobs = 2)\n",
        "gsearch1.fit(X,Y)\n",
        "\n",
        "print('best params')\n",
        "print (gsearch1.best_params_)\n",
        "print('best score')\n",
        "print (-gsearch1.best_score_)"
      ],
      "execution_count": 0,
      "outputs": [
        {
          "output_type": "stream",
          "text": [
            "/home/sol/.local/lib/python3.6/site-packages/xgboost/core.py:587: FutureWarning: Series.base is deprecated and will be removed in a future version\n",
            "  if getattr(data, 'base', None) is not None and \\\n",
            "/home/sol/.local/lib/python3.6/site-packages/xgboost/core.py:588: FutureWarning: Series.base is deprecated and will be removed in a future version\n",
            "  data.base is not None and isinstance(data, np.ndarray) \\\n"
          ],
          "name": "stderr"
        },
        {
          "output_type": "stream",
          "text": [
            "[17:26:44] WARNING: /workspace/src/objective/regression_obj.cu:152: reg:linear is now deprecated in favor of reg:squarederror.\n",
            "best params\n",
            "{'weights': [1, 1, 0.25]}\n",
            "best score\n",
            "521427.87020998134\n"
          ],
          "name": "stdout"
        }
      ]
    },
    {
      "cell_type": "markdown",
      "metadata": {
        "colab_type": "text",
        "id": "xwAhXBhBIx8O"
      },
      "source": [
        "### Pruebo con valores más chicos"
      ]
    },
    {
      "cell_type": "code",
      "metadata": {
        "colab_type": "code",
        "id": "KiKjdqMXIx8T",
        "outputId": "7044a415-6710-4f72-d878-105639577040",
        "colab": {
          "base_uri": "https://localhost:8080/",
          "height": 228
        }
      },
      "source": [
        "parameters_for_testing = {'weights': [[1,1,0.05], [1,1,0.1], [1,1,0.2], [1,1,0.25]]}\n",
        "\n",
        "gsearch1 = GridSearchCV(vr_model, param_grid=parameters_for_testing, cv=2, iid=False, scoring='neg_mean_absolute_error', n_jobs = 2)\n",
        "gsearch1.fit(X,Y)\n",
        "\n",
        "print('best params')\n",
        "print (gsearch1.best_params_)\n",
        "print('best score')\n",
        "print (-gsearch1.best_score_)"
      ],
      "execution_count": 0,
      "outputs": [
        {
          "output_type": "stream",
          "text": [
            "/usr/local/lib/python3.6/dist-packages/joblib/externals/loky/process_executor.py:706: UserWarning: A worker stopped while some jobs were given to the executor. This can be caused by a too short worker timeout or by a memory leak.\n",
            "  \"timeout or by a memory leak.\", UserWarning\n",
            "/usr/local/lib/python3.6/dist-packages/xgboost/core.py:587: FutureWarning: Series.base is deprecated and will be removed in a future version\n",
            "  if getattr(data, 'base', None) is not None and \\\n",
            "/usr/local/lib/python3.6/dist-packages/xgboost/core.py:588: FutureWarning: Series.base is deprecated and will be removed in a future version\n",
            "  data.base is not None and isinstance(data, np.ndarray) \\\n"
          ],
          "name": "stderr"
        },
        {
          "output_type": "stream",
          "text": [
            "[02:27:09] WARNING: /workspace/src/objective/regression_obj.cu:152: reg:linear is now deprecated in favor of reg:squarederror.\n",
            "best params\n",
            "{'weights': [1, 1, 0.2]}\n",
            "best score\n",
            "520927.5384595716\n"
          ],
          "name": "stdout"
        }
      ]
    },
    {
      "cell_type": "markdown",
      "metadata": {
        "colab_type": "text",
        "id": "8XLp_B86m0Ra"
      },
      "source": [
        "### Añado otro estimador"
      ]
    },
    {
      "cell_type": "code",
      "metadata": {
        "colab_type": "code",
        "id": "KMNpN-pdIx8c",
        "colab": {}
      },
      "source": [
        "xgb_model = xgb.XGBRegressor(subsample = 0.8, reg_alpha = 100, n_estimators = 200, min_child_weight = 3,\\\n",
        "                             max_features = 52, max_depth = 9, learning_rate = 0.05, gamma = 0.1, colsample_bytree = 0.9)\n",
        "\n",
        "rf_model = RandomForestRegressor(random_state = 63, n_estimators = 100, min_samples_split = 5, min_samples_leaf = 1,\\\n",
        "                                 max_features = 101, max_depth = 40, oob_score = True)\n",
        "\n",
        "dtr_model = DecisionTreeRegressor(max_depth = 16, max_features = 95, min_samples_split = 20)\n",
        "\n",
        "vr_model = VotingRegressor(estimators = [('XGBoost', xgb_model), ('RandomForest', rf_model), ('DecisionTree', dtr_model)])"
      ],
      "execution_count": 0,
      "outputs": []
    },
    {
      "cell_type": "code",
      "metadata": {
        "colab_type": "code",
        "id": "_OVVLhh8Ix8n",
        "outputId": "afb1e8b0-0857-429a-da65-acb75648f20b",
        "colab": {
          "base_uri": "https://localhost:8080/",
          "height": 228
        }
      },
      "source": [
        "parameters_for_testing = {'weights': [[1,1,0.05], [1,1,0.1], [1,1,0.2], [1,1,0.25]]}\n",
        "\n",
        "gsearch1 = GridSearchCV(vr_model, param_grid=parameters_for_testing, cv=2, iid=False, scoring='neg_mean_absolute_error', n_jobs = 2)\n",
        "gsearch1.fit(X,Y)\n",
        "\n",
        "print('best params')\n",
        "print (gsearch1.best_params_)\n",
        "print('best score')\n",
        "print (-gsearch1.best_score_)"
      ],
      "execution_count": 0,
      "outputs": [
        {
          "output_type": "stream",
          "text": [
            "/usr/local/lib/python3.6/dist-packages/joblib/externals/loky/process_executor.py:706: UserWarning: A worker stopped while some jobs were given to the executor. This can be caused by a too short worker timeout or by a memory leak.\n",
            "  \"timeout or by a memory leak.\", UserWarning\n",
            "/usr/local/lib/python3.6/dist-packages/xgboost/core.py:587: FutureWarning: Series.base is deprecated and will be removed in a future version\n",
            "  if getattr(data, 'base', None) is not None and \\\n",
            "/usr/local/lib/python3.6/dist-packages/xgboost/core.py:588: FutureWarning: Series.base is deprecated and will be removed in a future version\n",
            "  data.base is not None and isinstance(data, np.ndarray) \\\n"
          ],
          "name": "stderr"
        },
        {
          "output_type": "stream",
          "text": [
            "[21:32:03] WARNING: /workspace/src/objective/regression_obj.cu:152: reg:linear is now deprecated in favor of reg:squarederror.\n",
            "best params\n",
            "{'weights': [1, 1, 0.05]}\n",
            "best score\n",
            "522822.37958602805\n"
          ],
          "name": "stdout"
        }
      ]
    },
    {
      "cell_type": "markdown",
      "metadata": {
        "colab_type": "text",
        "id": "3KKCqK__ynt-"
      },
      "source": [
        "#### Pruebo con valores más chicos\n"
      ]
    },
    {
      "cell_type": "code",
      "metadata": {
        "colab_type": "code",
        "id": "dxJMrBgmIx8y",
        "outputId": "115040d6-d244-4e18-d26b-f757370ae8fe",
        "scrolled": true,
        "colab": {
          "base_uri": "https://localhost:8080/",
          "height": 228
        }
      },
      "source": [
        "parameters_for_testing = {'weights': [[1.5,1,0.005], [1.1,1,0.005], [1.5,1,0.025], [1.1,1,0.025]]}\n",
        "\n",
        "gsearch1 = GridSearchCV(vr_model, param_grid=parameters_for_testing, cv=2, iid=False, scoring='neg_mean_absolute_error', n_jobs = 2)\n",
        "gsearch1.fit(X,Y)\n",
        "\n",
        "print('best params')\n",
        "print (gsearch1.best_params_)\n",
        "print('best score')\n",
        "print (-gsearch1.best_score_)"
      ],
      "execution_count": 0,
      "outputs": [
        {
          "output_type": "stream",
          "text": [
            "/usr/local/lib/python3.6/dist-packages/joblib/externals/loky/process_executor.py:706: UserWarning: A worker stopped while some jobs were given to the executor. This can be caused by a too short worker timeout or by a memory leak.\n",
            "  \"timeout or by a memory leak.\", UserWarning\n",
            "/usr/local/lib/python3.6/dist-packages/xgboost/core.py:587: FutureWarning: Series.base is deprecated and will be removed in a future version\n",
            "  if getattr(data, 'base', None) is not None and \\\n",
            "/usr/local/lib/python3.6/dist-packages/xgboost/core.py:588: FutureWarning: Series.base is deprecated and will be removed in a future version\n",
            "  data.base is not None and isinstance(data, np.ndarray) \\\n"
          ],
          "name": "stderr"
        },
        {
          "output_type": "stream",
          "text": [
            "[22:23:36] WARNING: /workspace/src/objective/regression_obj.cu:152: reg:linear is now deprecated in favor of reg:squarederror.\n",
            "best params\n",
            "{'weights': [1.1, 1, 0.025]}\n",
            "best score\n",
            "522852.5528788901\n"
          ],
          "name": "stdout"
        }
      ]
    },
    {
      "cell_type": "markdown",
      "metadata": {
        "colab_type": "text",
        "id": "aUT5vY4up59q"
      },
      "source": [
        "## AdaBoost Regressor"
      ]
    },
    {
      "cell_type": "code",
      "metadata": {
        "id": "yJhdxoLksY-S",
        "colab_type": "code",
        "colab": {}
      },
      "source": [
        "dtr_model = DecisionTreeRegressor(max_depth = 16, max_features = 95, min_samples_split = 20)\n",
        "abr_model = AdaBoostRegressor(base_estimator=dtr_model)"
      ],
      "execution_count": 0,
      "outputs": []
    },
    {
      "cell_type": "code",
      "metadata": {
        "colab_type": "code",
        "id": "qsUyqkCbp6Lj",
        "outputId": "309b5f2b-cf9a-4455-dc8d-8702210cec99",
        "colab": {
          "base_uri": "https://localhost:8080/",
          "height": 34
        }
      },
      "source": [
        "scores = cross_val_score(abr_model , X, Y, scoring=\"neg_mean_absolute_error\", cv=2)\n",
        "abr_mae_score = -scores.mean()\n",
        "abr_mae_score"
      ],
      "execution_count": 0,
      "outputs": [
        {
          "output_type": "execute_result",
          "data": {
            "text/plain": [
              "626164.513684944"
            ]
          },
          "metadata": {
            "tags": []
          },
          "execution_count": 9
        }
      ]
    },
    {
      "cell_type": "markdown",
      "metadata": {
        "colab_type": "text",
        "id": "6-8Sj8FZNuPg"
      },
      "source": [
        "### Pruebo pasandole como estimador random forest"
      ]
    },
    {
      "cell_type": "code",
      "metadata": {
        "colab_type": "code",
        "id": "Rz0u8tNep6Ss",
        "colab": {}
      },
      "source": [
        "abr_model = AdaBoostRegressor(base_estimator=rf_model,  n_estimators = 10)"
      ],
      "execution_count": 0,
      "outputs": []
    },
    {
      "cell_type": "code",
      "metadata": {
        "colab_type": "code",
        "id": "kGMe9z6Xp6St",
        "outputId": "969ca951-2020-431b-f2ca-d2c43520b315",
        "colab": {
          "base_uri": "https://localhost:8080/",
          "height": 34
        }
      },
      "source": [
        "scores = cross_val_score(abr_model , X, Y, scoring=\"neg_mean_absolute_error\", cv=2)\n",
        "abr_mae_score = -scores.mean()\n",
        "abr_mae_score"
      ],
      "execution_count": 22,
      "outputs": [
        {
          "output_type": "execute_result",
          "data": {
            "text/plain": [
              "531977.282683154"
            ]
          },
          "metadata": {
            "tags": []
          },
          "execution_count": 22
        }
      ]
    },
    {
      "cell_type": "markdown",
      "metadata": {
        "id": "2-_X8Y_AsY-k",
        "colab_type": "text"
      },
      "source": [
        "### Pruebo pasandole XGBoost como estimador"
      ]
    },
    {
      "cell_type": "code",
      "metadata": {
        "colab_type": "code",
        "id": "zNKr9uFC4Kp0",
        "colab": {}
      },
      "source": [
        "abr_model = AdaBoostRegressor(base_estimator=xgb_model, n_estimators = 3)"
      ],
      "execution_count": 0,
      "outputs": []
    },
    {
      "cell_type": "code",
      "metadata": {
        "scrolled": true,
        "id": "R_t-u6kisY-l",
        "colab_type": "code",
        "outputId": "c86ba4f8-1f6c-4e45-fe82-18287b77c5d6",
        "colab": {
          "base_uri": "https://localhost:8080/",
          "height": 139
        }
      },
      "source": [
        "scores = cross_val_score(abr_model , X, Y, scoring=\"neg_mean_absolute_error\", cv=2)\n",
        "abr_mae_score = -scores.mean()\n",
        "abr_mae_score"
      ],
      "execution_count": 0,
      "outputs": [
        {
          "output_type": "stream",
          "text": [
            "[18:55:34] WARNING: /workspace/src/objective/regression_obj.cu:152: reg:linear is now deprecated in favor of reg:squarederror.\n",
            "[18:59:16] WARNING: /workspace/src/objective/regression_obj.cu:152: reg:linear is now deprecated in favor of reg:squarederror.\n",
            "[19:02:58] WARNING: /workspace/src/objective/regression_obj.cu:152: reg:linear is now deprecated in favor of reg:squarederror.\n",
            "[19:06:47] WARNING: /workspace/src/objective/regression_obj.cu:152: reg:linear is now deprecated in favor of reg:squarederror.\n",
            "[19:10:31] WARNING: /workspace/src/objective/regression_obj.cu:152: reg:linear is now deprecated in favor of reg:squarederror.\n",
            "[19:14:15] WARNING: /workspace/src/objective/regression_obj.cu:152: reg:linear is now deprecated in favor of reg:squarederror.\n"
          ],
          "name": "stdout"
        },
        {
          "output_type": "execute_result",
          "data": {
            "text/plain": [
              "537885.3857728515"
            ]
          },
          "metadata": {
            "tags": []
          },
          "execution_count": 31
        }
      ]
    },
    {
      "cell_type": "markdown",
      "metadata": {
        "id": "DamqK4fnsY-u",
        "colab_type": "text"
      },
      "source": [
        "### Con n_estimators = 50 (valor por default)"
      ]
    },
    {
      "cell_type": "code",
      "metadata": {
        "colab_type": "code",
        "id": "V54QBqcfXKNj",
        "outputId": "8ee67ec8-a12a-4344-e823-f3ac35e9a19e",
        "scrolled": true,
        "colab": {
          "base_uri": "https://localhost:8080/",
          "height": 1000
        }
      },
      "source": [
        "abr_model = AdaBoostRegressor(base_estimator=xgb_model)\n",
        "scores = cross_val_score(abr_model , X, Y, scoring=\"neg_mean_absolute_error\", cv=2)\n",
        "abr_mae_score = -scores.mean()\n",
        "abr_mae_score"
      ],
      "execution_count": 0,
      "outputs": [
        {
          "output_type": "stream",
          "text": [
            "[17:04:56] WARNING: /workspace/src/objective/regression_obj.cu:152: reg:linear is now deprecated in favor of reg:squarederror.\n",
            "[17:07:46] WARNING: /workspace/src/objective/regression_obj.cu:152: reg:linear is now deprecated in favor of reg:squarederror.\n",
            "[17:10:35] WARNING: /workspace/src/objective/regression_obj.cu:152: reg:linear is now deprecated in favor of reg:squarederror.\n",
            "[17:13:25] WARNING: /workspace/src/objective/regression_obj.cu:152: reg:linear is now deprecated in favor of reg:squarederror.\n",
            "[17:16:14] WARNING: /workspace/src/objective/regression_obj.cu:152: reg:linear is now deprecated in favor of reg:squarederror.\n",
            "[17:19:02] WARNING: /workspace/src/objective/regression_obj.cu:152: reg:linear is now deprecated in favor of reg:squarederror.\n",
            "[17:21:51] WARNING: /workspace/src/objective/regression_obj.cu:152: reg:linear is now deprecated in favor of reg:squarederror.\n",
            "[17:24:40] WARNING: /workspace/src/objective/regression_obj.cu:152: reg:linear is now deprecated in favor of reg:squarederror.\n",
            "[17:27:28] WARNING: /workspace/src/objective/regression_obj.cu:152: reg:linear is now deprecated in favor of reg:squarederror.\n",
            "[17:30:16] WARNING: /workspace/src/objective/regression_obj.cu:152: reg:linear is now deprecated in favor of reg:squarederror.\n",
            "[17:33:04] WARNING: /workspace/src/objective/regression_obj.cu:152: reg:linear is now deprecated in favor of reg:squarederror.\n",
            "[17:35:52] WARNING: /workspace/src/objective/regression_obj.cu:152: reg:linear is now deprecated in favor of reg:squarederror.\n",
            "[17:38:40] WARNING: /workspace/src/objective/regression_obj.cu:152: reg:linear is now deprecated in favor of reg:squarederror.\n",
            "[17:41:27] WARNING: /workspace/src/objective/regression_obj.cu:152: reg:linear is now deprecated in favor of reg:squarederror.\n",
            "[17:44:15] WARNING: /workspace/src/objective/regression_obj.cu:152: reg:linear is now deprecated in favor of reg:squarederror.\n",
            "[17:47:03] WARNING: /workspace/src/objective/regression_obj.cu:152: reg:linear is now deprecated in favor of reg:squarederror.\n",
            "[17:49:50] WARNING: /workspace/src/objective/regression_obj.cu:152: reg:linear is now deprecated in favor of reg:squarederror.\n",
            "[17:52:38] WARNING: /workspace/src/objective/regression_obj.cu:152: reg:linear is now deprecated in favor of reg:squarederror.\n",
            "[17:55:25] WARNING: /workspace/src/objective/regression_obj.cu:152: reg:linear is now deprecated in favor of reg:squarederror.\n",
            "[17:58:11] WARNING: /workspace/src/objective/regression_obj.cu:152: reg:linear is now deprecated in favor of reg:squarederror.\n",
            "[18:00:58] WARNING: /workspace/src/objective/regression_obj.cu:152: reg:linear is now deprecated in favor of reg:squarederror.\n",
            "[18:03:44] WARNING: /workspace/src/objective/regression_obj.cu:152: reg:linear is now deprecated in favor of reg:squarederror.\n",
            "[18:06:31] WARNING: /workspace/src/objective/regression_obj.cu:152: reg:linear is now deprecated in favor of reg:squarederror.\n",
            "[18:09:17] WARNING: /workspace/src/objective/regression_obj.cu:152: reg:linear is now deprecated in favor of reg:squarederror.\n",
            "[18:12:03] WARNING: /workspace/src/objective/regression_obj.cu:152: reg:linear is now deprecated in favor of reg:squarederror.\n",
            "[18:14:49] WARNING: /workspace/src/objective/regression_obj.cu:152: reg:linear is now deprecated in favor of reg:squarederror.\n",
            "[18:17:36] WARNING: /workspace/src/objective/regression_obj.cu:152: reg:linear is now deprecated in favor of reg:squarederror.\n",
            "[18:20:22] WARNING: /workspace/src/objective/regression_obj.cu:152: reg:linear is now deprecated in favor of reg:squarederror.\n",
            "[18:23:08] WARNING: /workspace/src/objective/regression_obj.cu:152: reg:linear is now deprecated in favor of reg:squarederror.\n",
            "[18:25:55] WARNING: /workspace/src/objective/regression_obj.cu:152: reg:linear is now deprecated in favor of reg:squarederror.\n",
            "[18:28:41] WARNING: /workspace/src/objective/regression_obj.cu:152: reg:linear is now deprecated in favor of reg:squarederror.\n",
            "[18:31:26] WARNING: /workspace/src/objective/regression_obj.cu:152: reg:linear is now deprecated in favor of reg:squarederror.\n",
            "[18:34:13] WARNING: /workspace/src/objective/regression_obj.cu:152: reg:linear is now deprecated in favor of reg:squarederror.\n",
            "[18:37:00] WARNING: /workspace/src/objective/regression_obj.cu:152: reg:linear is now deprecated in favor of reg:squarederror.\n",
            "[18:39:45] WARNING: /workspace/src/objective/regression_obj.cu:152: reg:linear is now deprecated in favor of reg:squarederror.\n",
            "[18:42:32] WARNING: /workspace/src/objective/regression_obj.cu:152: reg:linear is now deprecated in favor of reg:squarederror.\n",
            "[18:45:18] WARNING: /workspace/src/objective/regression_obj.cu:152: reg:linear is now deprecated in favor of reg:squarederror.\n",
            "[18:48:03] WARNING: /workspace/src/objective/regression_obj.cu:152: reg:linear is now deprecated in favor of reg:squarederror.\n",
            "[18:50:49] WARNING: /workspace/src/objective/regression_obj.cu:152: reg:linear is now deprecated in favor of reg:squarederror.\n",
            "[18:53:35] WARNING: /workspace/src/objective/regression_obj.cu:152: reg:linear is now deprecated in favor of reg:squarederror.\n",
            "[18:56:20] WARNING: /workspace/src/objective/regression_obj.cu:152: reg:linear is now deprecated in favor of reg:squarederror.\n",
            "[18:59:07] WARNING: /workspace/src/objective/regression_obj.cu:152: reg:linear is now deprecated in favor of reg:squarederror.\n",
            "[19:01:52] WARNING: /workspace/src/objective/regression_obj.cu:152: reg:linear is now deprecated in favor of reg:squarederror.\n",
            "[19:04:38] WARNING: /workspace/src/objective/regression_obj.cu:152: reg:linear is now deprecated in favor of reg:squarederror.\n",
            "[19:07:24] WARNING: /workspace/src/objective/regression_obj.cu:152: reg:linear is now deprecated in favor of reg:squarederror.\n",
            "[19:10:09] WARNING: /workspace/src/objective/regression_obj.cu:152: reg:linear is now deprecated in favor of reg:squarederror.\n",
            "[19:12:54] WARNING: /workspace/src/objective/regression_obj.cu:152: reg:linear is now deprecated in favor of reg:squarederror.\n",
            "[19:15:39] WARNING: /workspace/src/objective/regression_obj.cu:152: reg:linear is now deprecated in favor of reg:squarederror.\n",
            "[19:18:26] WARNING: /workspace/src/objective/regression_obj.cu:152: reg:linear is now deprecated in favor of reg:squarederror.\n",
            "[19:21:10] WARNING: /workspace/src/objective/regression_obj.cu:152: reg:linear is now deprecated in favor of reg:squarederror.\n",
            "[19:26:08] WARNING: /workspace/src/objective/regression_obj.cu:152: reg:linear is now deprecated in favor of reg:squarederror.\n",
            "[19:28:55] WARNING: /workspace/src/objective/regression_obj.cu:152: reg:linear is now deprecated in favor of reg:squarederror.\n",
            "[19:31:45] WARNING: /workspace/src/objective/regression_obj.cu:152: reg:linear is now deprecated in favor of reg:squarederror.\n",
            "[19:34:34] WARNING: /workspace/src/objective/regression_obj.cu:152: reg:linear is now deprecated in favor of reg:squarederror.\n",
            "[19:37:23] WARNING: /workspace/src/objective/regression_obj.cu:152: reg:linear is now deprecated in favor of reg:squarederror.\n",
            "[19:40:12] WARNING: /workspace/src/objective/regression_obj.cu:152: reg:linear is now deprecated in favor of reg:squarederror.\n",
            "[19:43:01] WARNING: /workspace/src/objective/regression_obj.cu:152: reg:linear is now deprecated in favor of reg:squarederror.\n",
            "[19:45:49] WARNING: /workspace/src/objective/regression_obj.cu:152: reg:linear is now deprecated in favor of reg:squarederror.\n",
            "[19:48:38] WARNING: /workspace/src/objective/regression_obj.cu:152: reg:linear is now deprecated in favor of reg:squarederror.\n",
            "[19:51:26] WARNING: /workspace/src/objective/regression_obj.cu:152: reg:linear is now deprecated in favor of reg:squarederror.\n",
            "[19:54:15] WARNING: /workspace/src/objective/regression_obj.cu:152: reg:linear is now deprecated in favor of reg:squarederror.\n",
            "[19:57:03] WARNING: /workspace/src/objective/regression_obj.cu:152: reg:linear is now deprecated in favor of reg:squarederror.\n",
            "[19:59:51] WARNING: /workspace/src/objective/regression_obj.cu:152: reg:linear is now deprecated in favor of reg:squarederror.\n",
            "[20:02:39] WARNING: /workspace/src/objective/regression_obj.cu:152: reg:linear is now deprecated in favor of reg:squarederror.\n",
            "[20:05:26] WARNING: /workspace/src/objective/regression_obj.cu:152: reg:linear is now deprecated in favor of reg:squarederror.\n",
            "[20:08:14] WARNING: /workspace/src/objective/regression_obj.cu:152: reg:linear is now deprecated in favor of reg:squarederror.\n",
            "[20:11:00] WARNING: /workspace/src/objective/regression_obj.cu:152: reg:linear is now deprecated in favor of reg:squarederror.\n",
            "[20:13:45] WARNING: /workspace/src/objective/regression_obj.cu:152: reg:linear is now deprecated in favor of reg:squarederror.\n",
            "[20:16:31] WARNING: /workspace/src/objective/regression_obj.cu:152: reg:linear is now deprecated in favor of reg:squarederror.\n",
            "[20:19:17] WARNING: /workspace/src/objective/regression_obj.cu:152: reg:linear is now deprecated in favor of reg:squarederror.\n",
            "[20:22:00] WARNING: /workspace/src/objective/regression_obj.cu:152: reg:linear is now deprecated in favor of reg:squarederror.\n",
            "[20:24:45] WARNING: /workspace/src/objective/regression_obj.cu:152: reg:linear is now deprecated in favor of reg:squarederror.\n",
            "[20:27:29] WARNING: /workspace/src/objective/regression_obj.cu:152: reg:linear is now deprecated in favor of reg:squarederror.\n",
            "[20:30:14] WARNING: /workspace/src/objective/regression_obj.cu:152: reg:linear is now deprecated in favor of reg:squarederror.\n",
            "[20:32:59] WARNING: /workspace/src/objective/regression_obj.cu:152: reg:linear is now deprecated in favor of reg:squarederror.\n",
            "[20:35:45] WARNING: /workspace/src/objective/regression_obj.cu:152: reg:linear is now deprecated in favor of reg:squarederror.\n",
            "[20:38:30] WARNING: /workspace/src/objective/regression_obj.cu:152: reg:linear is now deprecated in favor of reg:squarederror.\n",
            "[20:41:16] WARNING: /workspace/src/objective/regression_obj.cu:152: reg:linear is now deprecated in favor of reg:squarederror.\n",
            "[20:44:02] WARNING: /workspace/src/objective/regression_obj.cu:152: reg:linear is now deprecated in favor of reg:squarederror.\n",
            "[20:46:48] WARNING: /workspace/src/objective/regression_obj.cu:152: reg:linear is now deprecated in favor of reg:squarederror.\n",
            "[20:49:34] WARNING: /workspace/src/objective/regression_obj.cu:152: reg:linear is now deprecated in favor of reg:squarederror.\n",
            "[20:52:22] WARNING: /workspace/src/objective/regression_obj.cu:152: reg:linear is now deprecated in favor of reg:squarederror.\n",
            "[20:55:08] WARNING: /workspace/src/objective/regression_obj.cu:152: reg:linear is now deprecated in favor of reg:squarederror.\n",
            "[20:57:54] WARNING: /workspace/src/objective/regression_obj.cu:152: reg:linear is now deprecated in favor of reg:squarederror.\n",
            "[21:00:41] WARNING: /workspace/src/objective/regression_obj.cu:152: reg:linear is now deprecated in favor of reg:squarederror.\n",
            "[21:03:28] WARNING: /workspace/src/objective/regression_obj.cu:152: reg:linear is now deprecated in favor of reg:squarederror.\n",
            "[21:06:14] WARNING: /workspace/src/objective/regression_obj.cu:152: reg:linear is now deprecated in favor of reg:squarederror.\n",
            "[21:09:00] WARNING: /workspace/src/objective/regression_obj.cu:152: reg:linear is now deprecated in favor of reg:squarederror.\n",
            "[21:11:46] WARNING: /workspace/src/objective/regression_obj.cu:152: reg:linear is now deprecated in favor of reg:squarederror.\n",
            "[21:14:32] WARNING: /workspace/src/objective/regression_obj.cu:152: reg:linear is now deprecated in favor of reg:squarederror.\n",
            "[21:17:19] WARNING: /workspace/src/objective/regression_obj.cu:152: reg:linear is now deprecated in favor of reg:squarederror.\n",
            "[21:20:05] WARNING: /workspace/src/objective/regression_obj.cu:152: reg:linear is now deprecated in favor of reg:squarederror.\n",
            "[21:22:51] WARNING: /workspace/src/objective/regression_obj.cu:152: reg:linear is now deprecated in favor of reg:squarederror.\n",
            "[21:25:37] WARNING: /workspace/src/objective/regression_obj.cu:152: reg:linear is now deprecated in favor of reg:squarederror.\n",
            "[21:28:22] WARNING: /workspace/src/objective/regression_obj.cu:152: reg:linear is now deprecated in favor of reg:squarederror.\n",
            "[21:31:07] WARNING: /workspace/src/objective/regression_obj.cu:152: reg:linear is now deprecated in favor of reg:squarederror.\n",
            "[21:33:55] WARNING: /workspace/src/objective/regression_obj.cu:152: reg:linear is now deprecated in favor of reg:squarederror.\n",
            "[21:36:41] WARNING: /workspace/src/objective/regression_obj.cu:152: reg:linear is now deprecated in favor of reg:squarederror.\n",
            "[21:39:26] WARNING: /workspace/src/objective/regression_obj.cu:152: reg:linear is now deprecated in favor of reg:squarederror.\n",
            "[21:42:11] WARNING: /workspace/src/objective/regression_obj.cu:152: reg:linear is now deprecated in favor of reg:squarederror.\n"
          ],
          "name": "stdout"
        },
        {
          "output_type": "execute_result",
          "data": {
            "text/plain": [
              "522705.59550228063"
            ]
          },
          "metadata": {
            "tags": []
          },
          "execution_count": 11
        }
      ]
    },
    {
      "cell_type": "markdown",
      "metadata": {
        "id": "strzqIsRsY-x",
        "colab_type": "text"
      },
      "source": [
        "### Pruebo Random Search"
      ]
    },
    {
      "cell_type": "markdown",
      "metadata": {
        "colab_type": "text",
        "id": "YwKW0fKbuz_5"
      },
      "source": [
        "#### 5 iteraciones con XGBoost como estimador"
      ]
    },
    {
      "cell_type": "code",
      "metadata": {
        "colab_type": "code",
        "id": "LkChAitBIx87",
        "outputId": "9448ee27-3f16-4caf-a14f-887dca32bf89",
        "colab": {
          "base_uri": "https://localhost:8080/",
          "height": 419
        }
      },
      "source": [
        "abr_model = AdaBoostRegressor(base_estimator=xgb_model)\n",
        "parameters_for_testing = {'n_estimators': range(1,20,5), 'random_state': range(1,100,7), \\\n",
        "                          'learning_rate': [0.1,0.2,0.3,0.4,0.5,0.6,0.7,0.8,0.9,1], 'loss': ['linear', 'square', 'exponential']}\n",
        "\n",
        "n_iter_search = 5\n",
        "random_search = RandomizedSearchCV(abr_model, param_distributions=parameters_for_testing, n_iter=n_iter_search, cv=2, iid=False, scoring='neg_mean_absolute_error', n_jobs = 4)\n",
        "random_search.fit(X,Y)\n",
        "print('best params')\n",
        "print (random_search.best_params_)\n",
        "print('best score')\n",
        "print (-random_search.best_score_)"
      ],
      "execution_count": 25,
      "outputs": [
        {
          "output_type": "stream",
          "text": [
            "/usr/local/lib/python3.6/dist-packages/joblib/externals/loky/process_executor.py:706: UserWarning: A worker stopped while some jobs were given to the executor. This can be caused by a too short worker timeout or by a memory leak.\n",
            "  \"timeout or by a memory leak.\", UserWarning\n"
          ],
          "name": "stderr"
        },
        {
          "output_type": "stream",
          "text": [
            "[23:04:38] WARNING: /workspace/src/objective/regression_obj.cu:152: reg:linear is now deprecated in favor of reg:squarederror.\n",
            "[23:12:32] WARNING: /workspace/src/objective/regression_obj.cu:152: reg:linear is now deprecated in favor of reg:squarederror.\n",
            "[23:20:26] WARNING: /workspace/src/objective/regression_obj.cu:152: reg:linear is now deprecated in favor of reg:squarederror.\n",
            "[23:28:18] WARNING: /workspace/src/objective/regression_obj.cu:152: reg:linear is now deprecated in favor of reg:squarederror.\n",
            "[23:36:10] WARNING: /workspace/src/objective/regression_obj.cu:152: reg:linear is now deprecated in favor of reg:squarederror.\n",
            "[23:44:00] WARNING: /workspace/src/objective/regression_obj.cu:152: reg:linear is now deprecated in favor of reg:squarederror.\n",
            "[23:51:51] WARNING: /workspace/src/objective/regression_obj.cu:152: reg:linear is now deprecated in favor of reg:squarederror.\n",
            "[23:59:40] WARNING: /workspace/src/objective/regression_obj.cu:152: reg:linear is now deprecated in favor of reg:squarederror.\n",
            "[00:07:32] WARNING: /workspace/src/objective/regression_obj.cu:152: reg:linear is now deprecated in favor of reg:squarederror.\n",
            "[00:15:22] WARNING: /workspace/src/objective/regression_obj.cu:152: reg:linear is now deprecated in favor of reg:squarederror.\n",
            "[00:23:15] WARNING: /workspace/src/objective/regression_obj.cu:152: reg:linear is now deprecated in favor of reg:squarederror.\n",
            "[00:31:04] WARNING: /workspace/src/objective/regression_obj.cu:152: reg:linear is now deprecated in favor of reg:squarederror.\n",
            "[00:38:56] WARNING: /workspace/src/objective/regression_obj.cu:152: reg:linear is now deprecated in favor of reg:squarederror.\n",
            "[00:46:46] WARNING: /workspace/src/objective/regression_obj.cu:152: reg:linear is now deprecated in favor of reg:squarederror.\n",
            "[00:54:37] WARNING: /workspace/src/objective/regression_obj.cu:152: reg:linear is now deprecated in favor of reg:squarederror.\n",
            "[01:02:29] WARNING: /workspace/src/objective/regression_obj.cu:152: reg:linear is now deprecated in favor of reg:squarederror.\n",
            "best params\n",
            "{'random_state': 71, 'n_estimators': 16, 'loss': 'exponential', 'learning_rate': 0.1}\n",
            "best score\n",
            "507040.9576514893\n"
          ],
          "name": "stdout"
        }
      ]
    },
    {
      "cell_type": "markdown",
      "metadata": {
        "id": "-GMdAn_xL_Sk",
        "colab_type": "text"
      },
      "source": [
        "## **Mejor Versión AdaBoost + XGBoost**"
      ]
    },
    {
      "cell_type": "code",
      "metadata": {
        "id": "zyMKipHkMAJY",
        "colab_type": "code",
        "colab": {}
      },
      "source": [
        "xgb_model = xgb.XGBRegressor(subsample = 0.8, reg_alpha = 1, random_state = 61, n_estimators = 200, min_child_weight = 1, \\\n",
        "                                 max_features = 105, max_depth = 9, learning_rate = 0.1, gamma = 0.1, colsample_bytree = 0.9)\n",
        "abr_model = AdaBoostRegressor( base_estimator = xgb_model, random_state = 71, n_estimators = 16, loss = 'exponential', learning_rate = 0.1)"
      ],
      "execution_count": 0,
      "outputs": []
    },
    {
      "cell_type": "code",
      "metadata": {
        "id": "qddT85yzMfGq",
        "colab_type": "code",
        "colab": {
          "base_uri": "https://localhost:8080/",
          "height": 104
        },
        "outputId": "984e344b-54f3-4300-d79f-bcb83edfbfe9"
      },
      "source": [
        "scores = cross_val_score(abr_model , X, Y, scoring=\"neg_mean_absolute_error\", cv=2)\n",
        "abr_mae_score = -scores.mean()\n",
        "abr_mae_score"
      ],
      "execution_count": 0,
      "outputs": [
        {
          "output_type": "stream",
          "text": [
            "[01:28:42] WARNING: /workspace/src/objective/regression_obj.cu:152: reg:linear is now deprecated in favor of reg:squarederror.\n",
            "[01:32:28] WARNING: /workspace/src/objective/regression_obj.cu:152: reg:linear is now deprecated in favor of reg:squarederror.\n",
            "[01:36:12] WARNING: /workspace/src/objective/regression_obj.cu:152: reg:linear is now deprecated in favor of reg:squarederror.\n",
            "[01:39:59] WARNING: /workspace/src/objective/regression_obj.cu:152: reg:linear is now deprecated in favor of reg:squarederror.\n",
            "[01:43:46] WARNING: /workspace/src/objective/regression_obj.cu:152: reg:linear is now deprecated in favor of reg:squarederror.\n"
          ],
          "name": "stdout"
        }
      ]
    },
    {
      "cell_type": "markdown",
      "metadata": {
        "id": "0Q3T8lVbsY-6",
        "colab_type": "text"
      },
      "source": [
        "### Voting Regressor: Añado otro estimador"
      ]
    },
    {
      "cell_type": "code",
      "metadata": {
        "id": "x3LrvHmAsY-7",
        "colab_type": "code",
        "colab": {}
      },
      "source": [
        "xgb_model = xgb.XGBRegressor(subsample = 0.8, reg_alpha = 100, n_estimators = 200, min_child_weight = 3,\\\n",
        "                             max_features = 52, max_depth = 9, learning_rate = 0.05, gamma = 0.1, colsample_bytree = 0.9)\n",
        "\n",
        "rf_model = RandomForestRegressor(random_state = 63, n_estimators = 100, min_samples_split = 5, min_samples_leaf = 1,\\\n",
        "                                 max_features = 101, max_depth = 40, oob_score = True)\n",
        "\n",
        "dtr_model = DecisionTreeRegressor(max_depth = 16, max_features = 95, min_samples_split = 20)\n",
        "\n",
        "abr_model = AdaBoostRegressor(base_estimator=dtr_model, random_state = 92, n_estimators = 140, loss = 'exponential', learning_rate = 0.1)\n",
        "\n",
        "vr_model = VotingRegressor(estimators = [('XGBoost', xgb_model), ('RandomForest', rf_model), ('AdaBoost', abr_model)])"
      ],
      "execution_count": 0,
      "outputs": []
    },
    {
      "cell_type": "code",
      "metadata": {
        "id": "woXgKaNbsY-7",
        "colab_type": "code",
        "outputId": "b4f86d91-c0e4-4f91-8bc5-08687ff36a11",
        "colab": {}
      },
      "source": [
        "parameters_for_testing = {'weights': [[1,1,0.1], [1,1,0.2], [1,1,0.5]]}\n",
        "\n",
        "gsearch1 = GridSearchCV(vr_model, param_grid=parameters_for_testing, cv=2, iid=False, scoring='neg_mean_absolute_error', n_jobs = 2)\n",
        "gsearch1.fit(X,Y)\n",
        "\n",
        "print('best params')\n",
        "print (gsearch1.best_params_)\n",
        "print('best score')\n",
        "print (-gsearch1.best_score_)"
      ],
      "execution_count": 0,
      "outputs": [
        {
          "output_type": "stream",
          "text": [
            "/home/sol/.local/lib/python3.6/site-packages/xgboost/core.py:587: FutureWarning: Series.base is deprecated and will be removed in a future version\n",
            "  if getattr(data, 'base', None) is not None and \\\n",
            "/home/sol/.local/lib/python3.6/site-packages/xgboost/core.py:588: FutureWarning: Series.base is deprecated and will be removed in a future version\n",
            "  data.base is not None and isinstance(data, np.ndarray) \\\n"
          ],
          "name": "stderr"
        },
        {
          "output_type": "stream",
          "text": [
            "[21:06:16] WARNING: /workspace/src/objective/regression_obj.cu:152: reg:linear is now deprecated in favor of reg:squarederror.\n",
            "best params\n",
            "{'weights': [1, 1, 0.1]}\n",
            "best score\n",
            "523826.39863429975\n"
          ],
          "name": "stdout"
        }
      ]
    },
    {
      "cell_type": "markdown",
      "metadata": {
        "id": "JuBZVsjssY--",
        "colab_type": "text"
      },
      "source": [
        "#### Pruebo otros estimadores"
      ]
    },
    {
      "cell_type": "code",
      "metadata": {
        "id": "ojyTx7p5N_CL",
        "colab_type": "code",
        "colab": {}
      },
      "source": [
        "xgb_model = xgb.XGBRegressor(subsample = 0.8, reg_alpha = 100, n_estimators = 200, min_child_weight = 3,\\\n",
        "                             max_features = 52, max_depth = 9, learning_rate = 0.05, gamma = 0.1, colsample_bytree = 0.9)\n",
        "\n",
        "rf_model = RandomForestRegressor(random_state = 63, n_estimators = 100, min_samples_split = 5, min_samples_leaf = 1,\\\n",
        "                                 max_features = 101, max_depth = 40, oob_score = True)\n",
        "\n",
        "abr_model = AdaBoostRegressor(base_estimator=xgb_model, n_estimators = 3)\n",
        "\n",
        "vr_model = VotingRegressor(estimators = [('XGBoost', xgb_model), ('RandomForest', rf_model), ('AdaBoost', abr_model)])"
      ],
      "execution_count": 0,
      "outputs": []
    },
    {
      "cell_type": "code",
      "metadata": {
        "id": "hX-yq8PlN_QX",
        "colab_type": "code",
        "outputId": "6d100994-1082-4c73-d2d3-ac209a2ca4eb",
        "colab": {
          "base_uri": "https://localhost:8080/",
          "height": 225
        }
      },
      "source": [
        "parameters_for_testing = {'weights': [[1,1,1], [1,1,2]]}\n",
        "\n",
        "gsearch1 = GridSearchCV(vr_model, param_grid=parameters_for_testing, cv=2, iid=False, scoring='neg_mean_absolute_error', n_jobs = 2)\n",
        "gsearch1.fit(X,Y)\n",
        "\n",
        "print('best params')\n",
        "print (gsearch1.best_params_)\n",
        "print('best score')\n",
        "print (-gsearch1.best_score_)"
      ],
      "execution_count": 0,
      "outputs": [
        {
          "output_type": "stream",
          "text": [
            "/usr/local/lib/python3.6/dist-packages/xgboost/core.py:587: FutureWarning: Series.base is deprecated and will be removed in a future version\n",
            "  if getattr(data, 'base', None) is not None and \\\n",
            "/usr/local/lib/python3.6/dist-packages/xgboost/core.py:588: FutureWarning: Series.base is deprecated and will be removed in a future version\n",
            "  data.base is not None and isinstance(data, np.ndarray) \\\n"
          ],
          "name": "stderr"
        },
        {
          "output_type": "stream",
          "text": [
            "[22:34:59] WARNING: /workspace/src/objective/regression_obj.cu:152: reg:linear is now deprecated in favor of reg:squarederror.\n",
            "[22:52:45] WARNING: /workspace/src/objective/regression_obj.cu:152: reg:linear is now deprecated in favor of reg:squarederror.\n",
            "[22:58:59] WARNING: /workspace/src/objective/regression_obj.cu:152: reg:linear is now deprecated in favor of reg:squarederror.\n",
            "[23:05:16] WARNING: /workspace/src/objective/regression_obj.cu:152: reg:linear is now deprecated in favor of reg:squarederror.\n",
            "best params\n",
            "{'weights': [1, 1, 1]}\n",
            "best score\n",
            "514629.23125248856\n"
          ],
          "name": "stdout"
        }
      ]
    },
    {
      "cell_type": "code",
      "metadata": {
        "id": "vN0zNuQRN_aQ",
        "colab_type": "code",
        "colab": {}
      },
      "source": [
        "xgb_model = xgb.XGBRegressor(subsample = 0.8, reg_alpha = 100, n_estimators = 200, min_child_weight = 3,\\\n",
        "                             max_features = 52, max_depth = 9, learning_rate = 0.05, gamma = 0.1, colsample_bytree = 0.9)\n",
        "\n",
        "rf_model = RandomForestRegressor(random_state = 63, n_estimators = 100, min_samples_split = 5, min_samples_leaf = 1,\\\n",
        "                                 max_features = 101, max_depth = 40, oob_score = True)\n",
        "\n",
        "abr_model = AdaBoostRegressor(base_estimator=xgb_model, n_estimators = 5)\n",
        "\n",
        "vr_model = VotingRegressor(estimators = [('XGBoost', xgb_model), ('RandomForest', rf_model), ('AdaBoost', abr_model)])"
      ],
      "execution_count": 0,
      "outputs": []
    },
    {
      "cell_type": "code",
      "metadata": {
        "id": "8WjR_cvYtWLT",
        "colab_type": "code",
        "outputId": "17d3b53b-81b5-471e-880a-9031ea85b691",
        "colab": {
          "base_uri": "https://localhost:8080/",
          "height": 260
        }
      },
      "source": [
        "parameters_for_testing = {'weights': [[1.1,1,1.1], [1,1,1]]}\n",
        "\n",
        "gsearch1 = GridSearchCV(vr_model, param_grid=parameters_for_testing, cv=2, iid=False, scoring='neg_mean_absolute_error', n_jobs = 2)\n",
        "gsearch1.fit(X,Y)\n",
        "\n",
        "print('best params')\n",
        "print (gsearch1.best_params_)\n",
        "print('best score')\n",
        "print (-gsearch1.best_score_)"
      ],
      "execution_count": 0,
      "outputs": [
        {
          "output_type": "stream",
          "text": [
            "/usr/local/lib/python3.6/dist-packages/xgboost/core.py:587: FutureWarning: Series.base is deprecated and will be removed in a future version\n",
            "  if getattr(data, 'base', None) is not None and \\\n",
            "/usr/local/lib/python3.6/dist-packages/xgboost/core.py:588: FutureWarning: Series.base is deprecated and will be removed in a future version\n",
            "  data.base is not None and isinstance(data, np.ndarray) \\\n"
          ],
          "name": "stderr"
        },
        {
          "output_type": "stream",
          "text": [
            "[17:38:34] WARNING: /workspace/src/objective/regression_obj.cu:152: reg:linear is now deprecated in favor of reg:squarederror.\n",
            "[17:54:49] WARNING: /workspace/src/objective/regression_obj.cu:152: reg:linear is now deprecated in favor of reg:squarederror.\n",
            "[18:00:43] WARNING: /workspace/src/objective/regression_obj.cu:152: reg:linear is now deprecated in favor of reg:squarederror.\n",
            "[18:06:36] WARNING: /workspace/src/objective/regression_obj.cu:152: reg:linear is now deprecated in favor of reg:squarederror.\n",
            "[18:12:30] WARNING: /workspace/src/objective/regression_obj.cu:152: reg:linear is now deprecated in favor of reg:squarederror.\n",
            "[18:18:24] WARNING: /workspace/src/objective/regression_obj.cu:152: reg:linear is now deprecated in favor of reg:squarederror.\n",
            "best params\n",
            "{'weights': [1.1, 1, 1.1]}\n",
            "best score\n",
            "513442.5545197225\n"
          ],
          "name": "stdout"
        }
      ]
    },
    {
      "cell_type": "code",
      "metadata": {
        "id": "DN1eVvh1ywk8",
        "colab_type": "code",
        "colab": {}
      },
      "source": [
        "xgb_model = xgb.XGBRegressor(subsample = 0.8, reg_alpha = 100, n_estimators = 200, min_child_weight = 3,\\\n",
        "                             max_features = 52, max_depth = 9, learning_rate = 0.05, gamma = 0.1, colsample_bytree = 0.9)\n",
        "\n",
        "rf_model = RandomForestRegressor(random_state = 63, n_estimators = 100, min_samples_split = 5, min_samples_leaf = 1,\\\n",
        "                                 max_features = 101, max_depth = 40, oob_score = True)\n",
        "\n",
        "abr_model = AdaBoostRegressor(base_estimator=xgb_model, n_estimators = 10)\n",
        "\n",
        "vr_model = VotingRegressor(estimators = [('XGBoost', xgb_model), ('RandomForest', rf_model), ('AdaBoost', abr_model)])"
      ],
      "execution_count": 0,
      "outputs": []
    },
    {
      "cell_type": "code",
      "metadata": {
        "id": "f-pXjM10tWX1",
        "colab_type": "code",
        "outputId": "b5cd33ba-ef32-4f52-8fee-4dc71d299eea",
        "colab": {
          "base_uri": "https://localhost:8080/",
          "height": 347
        }
      },
      "source": [
        "parameters_for_testing = {'weights': [[1.1,1,1.1], [2,1,2]]}\n",
        "\n",
        "gsearch1 = GridSearchCV(vr_model, param_grid=parameters_for_testing, cv=2, iid=False, scoring='neg_mean_absolute_error', n_jobs = 2)\n",
        "gsearch1.fit(X,Y)\n",
        "\n",
        "print('best params')\n",
        "print (gsearch1.best_params_)\n",
        "print('best score')\n",
        "print (-gsearch1.best_score_)"
      ],
      "execution_count": 0,
      "outputs": [
        {
          "output_type": "stream",
          "text": [
            "/usr/local/lib/python3.6/dist-packages/xgboost/core.py:587: FutureWarning: Series.base is deprecated and will be removed in a future version\n",
            "  if getattr(data, 'base', None) is not None and \\\n",
            "/usr/local/lib/python3.6/dist-packages/xgboost/core.py:588: FutureWarning: Series.base is deprecated and will be removed in a future version\n",
            "  data.base is not None and isinstance(data, np.ndarray) \\\n"
          ],
          "name": "stderr"
        },
        {
          "output_type": "stream",
          "text": [
            "[14:12:36] WARNING: /workspace/src/objective/regression_obj.cu:152: reg:linear is now deprecated in favor of reg:squarederror.\n",
            "[14:29:07] WARNING: /workspace/src/objective/regression_obj.cu:152: reg:linear is now deprecated in favor of reg:squarederror.\n",
            "[14:35:00] WARNING: /workspace/src/objective/regression_obj.cu:152: reg:linear is now deprecated in favor of reg:squarederror.\n",
            "[14:40:54] WARNING: /workspace/src/objective/regression_obj.cu:152: reg:linear is now deprecated in favor of reg:squarederror.\n",
            "[14:46:49] WARNING: /workspace/src/objective/regression_obj.cu:152: reg:linear is now deprecated in favor of reg:squarederror.\n",
            "[14:52:41] WARNING: /workspace/src/objective/regression_obj.cu:152: reg:linear is now deprecated in favor of reg:squarederror.\n",
            "[14:58:33] WARNING: /workspace/src/objective/regression_obj.cu:152: reg:linear is now deprecated in favor of reg:squarederror.\n",
            "[15:04:27] WARNING: /workspace/src/objective/regression_obj.cu:152: reg:linear is now deprecated in favor of reg:squarederror.\n",
            "[15:10:19] WARNING: /workspace/src/objective/regression_obj.cu:152: reg:linear is now deprecated in favor of reg:squarederror.\n",
            "[15:16:11] WARNING: /workspace/src/objective/regression_obj.cu:152: reg:linear is now deprecated in favor of reg:squarederror.\n",
            "[15:22:04] WARNING: /workspace/src/objective/regression_obj.cu:152: reg:linear is now deprecated in favor of reg:squarederror.\n",
            "best params\n",
            "{'weights': [2, 1, 2]}\n",
            "best score\n",
            "512114.51575480076\n"
          ],
          "name": "stdout"
        }
      ]
    },
    {
      "cell_type": "markdown",
      "metadata": {
        "id": "GJbdgYz8okc2",
        "colab_type": "text"
      },
      "source": [
        "#### Modifico los hiper parámetros de adaboosting y los pesos de voting regressor"
      ]
    },
    {
      "cell_type": "code",
      "metadata": {
        "id": "F6grJ3DGo3tH",
        "colab_type": "code",
        "colab": {}
      },
      "source": [
        "xgb_model = xgb.XGBRegressor(subsample = 0.8, reg_alpha = 100, n_estimators = 200, min_child_weight = 3,\\\n",
        "                             max_features = 52, max_depth = 9, learning_rate = 0.05, gamma = 0.1, colsample_bytree = 0.9)\n",
        "\n",
        "rf_model = RandomForestRegressor(random_state = 63, n_estimators = 100, min_samples_split = 5, min_samples_leaf = 1,\\\n",
        "                                 max_features = 101, max_depth = 40, oob_score = True)\n",
        "\n",
        "abr_model = AdaBoostRegressor(base_estimator=xgb_model, random_state = 22, n_estimators = 11, loss = 'linear', learning_rate = 0.4)\n",
        "\n",
        "vr_model = VotingRegressor(estimators = [('XGBoost', xgb_model), ('RandomForest', rf_model), ('AdaBoost', abr_model)])"
      ],
      "execution_count": 0,
      "outputs": []
    },
    {
      "cell_type": "code",
      "metadata": {
        "id": "ZzwzZApRokwB",
        "colab_type": "code",
        "outputId": "6c15258c-ff32-49fe-dccf-871d8b1b6d26",
        "colab": {
          "base_uri": "https://localhost:8080/",
          "height": 364
        }
      },
      "source": [
        "parameters_for_testing = {'weights': [[2,1,3], [2,1,2]]}\n",
        "\n",
        "gsearch1 = GridSearchCV(vr_model, param_grid=parameters_for_testing, cv=2, iid=False, scoring='neg_mean_absolute_error', n_jobs = 4)\n",
        "gsearch1.fit(X,Y)\n",
        "\n",
        "print('best params')\n",
        "print (gsearch1.best_params_)\n",
        "print('best score')\n",
        "print (-gsearch1.best_score_)"
      ],
      "execution_count": 0,
      "outputs": [
        {
          "output_type": "stream",
          "text": [
            "/usr/local/lib/python3.6/dist-packages/xgboost/core.py:587: FutureWarning: Series.base is deprecated and will be removed in a future version\n",
            "  if getattr(data, 'base', None) is not None and \\\n",
            "/usr/local/lib/python3.6/dist-packages/xgboost/core.py:588: FutureWarning: Series.base is deprecated and will be removed in a future version\n",
            "  data.base is not None and isinstance(data, np.ndarray) \\\n"
          ],
          "name": "stderr"
        },
        {
          "output_type": "stream",
          "text": [
            "[15:08:01] WARNING: /workspace/src/objective/regression_obj.cu:152: reg:linear is now deprecated in favor of reg:squarederror.\n",
            "[15:24:50] WARNING: /workspace/src/objective/regression_obj.cu:152: reg:linear is now deprecated in favor of reg:squarederror.\n",
            "[15:31:22] WARNING: /workspace/src/objective/regression_obj.cu:152: reg:linear is now deprecated in favor of reg:squarederror.\n",
            "[15:37:52] WARNING: /workspace/src/objective/regression_obj.cu:152: reg:linear is now deprecated in favor of reg:squarederror.\n",
            "[15:44:23] WARNING: /workspace/src/objective/regression_obj.cu:152: reg:linear is now deprecated in favor of reg:squarederror.\n",
            "[15:50:54] WARNING: /workspace/src/objective/regression_obj.cu:152: reg:linear is now deprecated in favor of reg:squarederror.\n",
            "[15:57:26] WARNING: /workspace/src/objective/regression_obj.cu:152: reg:linear is now deprecated in favor of reg:squarederror.\n",
            "[16:04:02] WARNING: /workspace/src/objective/regression_obj.cu:152: reg:linear is now deprecated in favor of reg:squarederror.\n",
            "[16:10:35] WARNING: /workspace/src/objective/regression_obj.cu:152: reg:linear is now deprecated in favor of reg:squarederror.\n",
            "[16:17:11] WARNING: /workspace/src/objective/regression_obj.cu:152: reg:linear is now deprecated in favor of reg:squarederror.\n",
            "[16:23:43] WARNING: /workspace/src/objective/regression_obj.cu:152: reg:linear is now deprecated in favor of reg:squarederror.\n",
            "[16:30:17] WARNING: /workspace/src/objective/regression_obj.cu:152: reg:linear is now deprecated in favor of reg:squarederror.\n",
            "best params\n",
            "{'weights': [2, 1, 3]}\n",
            "best score\n",
            "501051.8255323305\n"
          ],
          "name": "stdout"
        }
      ]
    },
    {
      "cell_type": "markdown",
      "metadata": {
        "id": "WlVaDs9ZDy4o",
        "colab_type": "text"
      },
      "source": [
        "### ¿Y si ya no uso Random Forest?"
      ]
    },
    {
      "cell_type": "code",
      "metadata": {
        "id": "6v8ncBzdDzLi",
        "colab_type": "code",
        "colab": {}
      },
      "source": [
        "xgb_model = xgb.XGBRegressor(subsample = 0.8, reg_alpha = 1, random_state = 61, n_estimators = 200, min_child_weight = 1, \\\n",
        "                                 max_features = 105, max_depth = 9, learning_rate = 0.1, gamma = 0.1, colsample_bytree = 0.9)\n",
        "\n",
        "abr_model = AdaBoostRegressor(base_estimator=xgb_model, random_state = 71, n_estimators = 16, loss = 'exponential', learning_rate = 0.1)\n",
        "\n",
        "vr_model = VotingRegressor(estimators = [('XGBoost', xgb_model), ('AdaBoost', abr_model)])"
      ],
      "execution_count": 0,
      "outputs": []
    },
    {
      "cell_type": "code",
      "metadata": {
        "id": "Jg2W68f8DzU3",
        "colab_type": "code",
        "colab": {}
      },
      "source": [
        "parameters_for_testing = {'weights': [[2,3], [2,5], [1,3]]}\n",
        "\n",
        "gsearch1 = GridSearchCV(vr_model, param_grid=parameters_for_testing, cv=2, iid=False, scoring='neg_mean_absolute_error', n_jobs = 4)\n",
        "gsearch1.fit(X,Y)\n",
        "\n",
        "print('best params')\n",
        "print (gsearch1.best_params_)\n",
        "print('best score')\n",
        "print (-gsearch1.best_score_)"
      ],
      "execution_count": 0,
      "outputs": []
    },
    {
      "cell_type": "code",
      "metadata": {
        "id": "x82OJkjIoPIx",
        "colab_type": "code",
        "outputId": "ee40c236-2a23-4428-aacc-f47ebb503137",
        "colab": {
          "base_uri": "https://localhost:8080/",
          "height": 225
        }
      },
      "source": [
        "parameters_for_testing = {'weights': [[1,2], [1,1], [1,3]]}\n",
        "\n",
        "gsearch1 = GridSearchCV(vr_model, param_grid=parameters_for_testing, cv=2, iid=False, scoring='neg_mean_absolute_error', n_jobs = 4)\n",
        "gsearch1.fit(X,Y)\n",
        "\n",
        "print('best params')\n",
        "print (gsearch1.best_params_)\n",
        "print('best score')\n",
        "print (-gsearch1.best_score_)"
      ],
      "execution_count": 0,
      "outputs": [
        {
          "output_type": "stream",
          "text": [
            "/usr/local/lib/python3.6/dist-packages/xgboost/core.py:587: FutureWarning: Series.base is deprecated and will be removed in a future version\n",
            "  if getattr(data, 'base', None) is not None and \\\n",
            "/usr/local/lib/python3.6/dist-packages/xgboost/core.py:588: FutureWarning: Series.base is deprecated and will be removed in a future version\n",
            "  data.base is not None and isinstance(data, np.ndarray) \\\n"
          ],
          "name": "stderr"
        },
        {
          "output_type": "stream",
          "text": [
            "[20:44:10] WARNING: /workspace/src/objective/regression_obj.cu:152: reg:linear is now deprecated in favor of reg:squarederror.\n",
            "[20:50:42] WARNING: /workspace/src/objective/regression_obj.cu:152: reg:linear is now deprecated in favor of reg:squarederror.\n",
            "[20:57:17] WARNING: /workspace/src/objective/regression_obj.cu:152: reg:linear is now deprecated in favor of reg:squarederror.\n",
            "[21:03:49] WARNING: /workspace/src/objective/regression_obj.cu:152: reg:linear is now deprecated in favor of reg:squarederror.\n",
            "[21:10:21] WARNING: /workspace/src/objective/regression_obj.cu:152: reg:linear is now deprecated in favor of reg:squarederror.\n",
            "[21:16:53] WARNING: /workspace/src/objective/regression_obj.cu:152: reg:linear is now deprecated in favor of reg:squarederror.\n",
            "[21:23:25] WARNING: /workspace/src/objective/regression_obj.cu:152: reg:linear is now deprecated in favor of reg:squarederror.\n",
            "[21:29:55] WARNING: /workspace/src/objective/regression_obj.cu:152: reg:linear is now deprecated in favor of reg:squarederror.\n"
          ],
          "name": "stdout"
        }
      ]
    },
    {
      "cell_type": "markdown",
      "metadata": {
        "colab_type": "text",
        "id": "iGKzIbsLIx9V"
      },
      "source": [
        "## Creación del submit"
      ]
    },
    {
      "cell_type": "code",
      "metadata": {
        "colab_type": "code",
        "id": "WOQDITIBIx9Z",
        "colab": {}
      },
      "source": [
        "def crear_submit(model, x_train, y_train, x_test, nombre):\n",
        "    model.fit(x_train, y_train)\n",
        "    result = model.predict(x_test)\n",
        "    for i in range(len(result)):\n",
        "      result[i] = round(result[i],-3)\n",
        "    final = pd.read_csv(\"../content/drive/My Drive/data/test.csv\", usecols = ['id'])\n",
        "    #final = pd.read_csv(\"data/test.csv\", usecols = ['id'])\n",
        "    final['target'] = result\n",
        "    #Ruta desde Colab\n",
        "    ruta = \"../content/drive/My Drive/data/submit\"+ nombre +\".csv\"\n",
        "    #Ruta local\n",
        "    #ruta = \"data/submit\"+ nombre +\".csv\"\n",
        "    final.to_csv(ruta,index=False)\n",
        "    return final"
      ],
      "execution_count": 0,
      "outputs": []
    },
    {
      "cell_type": "code",
      "metadata": {
        "colab_type": "code",
        "id": "nMTdzvbVIx9i",
        "outputId": "a8590923-bbbb-4884-e718-746cfd19e729",
        "colab": {
          "base_uri": "https://localhost:8080/",
          "height": 597
        }
      },
      "source": [
        "#vr_model = VotingRegressor(estimators = [('XGBoost', xgb_model), ('RandomForest', rf_model), ('AdaBoost', abr_model)], weights = [1.1,1,1.1])\n",
        "crear_submit(vr_model, X, Y, X_test, \"VotingRegressor\")"
      ],
      "execution_count": 0,
      "outputs": [
        {
          "output_type": "stream",
          "text": [
            "/usr/local/lib/python3.6/dist-packages/xgboost/core.py:587: FutureWarning: Series.base is deprecated and will be removed in a future version\n",
            "  if getattr(data, 'base', None) is not None and \\\n",
            "/usr/local/lib/python3.6/dist-packages/xgboost/core.py:588: FutureWarning: Series.base is deprecated and will be removed in a future version\n",
            "  data.base is not None and isinstance(data, np.ndarray) \\\n"
          ],
          "name": "stderr"
        },
        {
          "output_type": "stream",
          "text": [
            "[17:26:36] WARNING: /workspace/src/objective/regression_obj.cu:152: reg:linear is now deprecated in favor of reg:squarederror.\n",
            "[17:42:27] WARNING: /workspace/src/objective/regression_obj.cu:152: reg:linear is now deprecated in favor of reg:squarederror.\n",
            "[17:48:15] WARNING: /workspace/src/objective/regression_obj.cu:152: reg:linear is now deprecated in favor of reg:squarederror.\n",
            "[17:54:05] WARNING: /workspace/src/objective/regression_obj.cu:152: reg:linear is now deprecated in favor of reg:squarederror.\n",
            "[17:59:53] WARNING: /workspace/src/objective/regression_obj.cu:152: reg:linear is now deprecated in favor of reg:squarederror.\n",
            "[18:05:42] WARNING: /workspace/src/objective/regression_obj.cu:152: reg:linear is now deprecated in favor of reg:squarederror.\n"
          ],
          "name": "stdout"
        },
        {
          "output_type": "execute_result",
          "data": {
            "text/html": [
              "<div>\n",
              "<style scoped>\n",
              "    .dataframe tbody tr th:only-of-type {\n",
              "        vertical-align: middle;\n",
              "    }\n",
              "\n",
              "    .dataframe tbody tr th {\n",
              "        vertical-align: top;\n",
              "    }\n",
              "\n",
              "    .dataframe thead th {\n",
              "        text-align: right;\n",
              "    }\n",
              "</style>\n",
              "<table border=\"1\" class=\"dataframe\">\n",
              "  <thead>\n",
              "    <tr style=\"text-align: right;\">\n",
              "      <th></th>\n",
              "      <th>id</th>\n",
              "      <th>target</th>\n",
              "    </tr>\n",
              "  </thead>\n",
              "  <tbody>\n",
              "    <tr>\n",
              "      <th>0</th>\n",
              "      <td>4941</td>\n",
              "      <td>6061000.0</td>\n",
              "    </tr>\n",
              "    <tr>\n",
              "      <th>1</th>\n",
              "      <td>51775</td>\n",
              "      <td>1077000.0</td>\n",
              "    </tr>\n",
              "    <tr>\n",
              "      <th>2</th>\n",
              "      <td>115253</td>\n",
              "      <td>2076000.0</td>\n",
              "    </tr>\n",
              "    <tr>\n",
              "      <th>3</th>\n",
              "      <td>299321</td>\n",
              "      <td>1166000.0</td>\n",
              "    </tr>\n",
              "    <tr>\n",
              "      <th>4</th>\n",
              "      <td>173570</td>\n",
              "      <td>601000.0</td>\n",
              "    </tr>\n",
              "    <tr>\n",
              "      <th>...</th>\n",
              "      <td>...</td>\n",
              "      <td>...</td>\n",
              "    </tr>\n",
              "    <tr>\n",
              "      <th>59995</th>\n",
              "      <td>75094</td>\n",
              "      <td>3939000.0</td>\n",
              "    </tr>\n",
              "    <tr>\n",
              "      <th>59996</th>\n",
              "      <td>171847</td>\n",
              "      <td>695000.0</td>\n",
              "    </tr>\n",
              "    <tr>\n",
              "      <th>59997</th>\n",
              "      <td>138313</td>\n",
              "      <td>1017000.0</td>\n",
              "    </tr>\n",
              "    <tr>\n",
              "      <th>59998</th>\n",
              "      <td>271268</td>\n",
              "      <td>1700000.0</td>\n",
              "    </tr>\n",
              "    <tr>\n",
              "      <th>59999</th>\n",
              "      <td>72612</td>\n",
              "      <td>2202000.0</td>\n",
              "    </tr>\n",
              "  </tbody>\n",
              "</table>\n",
              "<p>60000 rows × 2 columns</p>\n",
              "</div>"
            ],
            "text/plain": [
              "           id     target\n",
              "0        4941  6061000.0\n",
              "1       51775  1077000.0\n",
              "2      115253  2076000.0\n",
              "3      299321  1166000.0\n",
              "4      173570   601000.0\n",
              "...       ...        ...\n",
              "59995   75094  3939000.0\n",
              "59996  171847   695000.0\n",
              "59997  138313  1017000.0\n",
              "59998  271268  1700000.0\n",
              "59999   72612  2202000.0\n",
              "\n",
              "[60000 rows x 2 columns]"
            ]
          },
          "metadata": {
            "tags": []
          },
          "execution_count": 19
        }
      ]
    },
    {
      "cell_type": "code",
      "metadata": {
        "colab_type": "code",
        "id": "hGPTEy-YrJft",
        "colab": {}
      },
      "source": [
        ""
      ],
      "execution_count": 0,
      "outputs": []
    }
  ]
}