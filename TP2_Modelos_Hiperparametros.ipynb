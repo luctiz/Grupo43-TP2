{
  "nbformat": 4,
  "nbformat_minor": 0,
  "metadata": {
    "kernelspec": {
      "name": "python3",
      "display_name": "Python 3"
    },
    "language_info": {
      "codemirror_mode": {
        "name": "ipython",
        "version": 3
      },
      "file_extension": ".py",
      "mimetype": "text/x-python",
      "name": "python",
      "nbconvert_exporter": "python",
      "pygments_lexer": "ipython3",
      "version": "3.6.8"
    },
    "colab": {
      "name": "TP2_Modelos_Hiperparametros.ipynb",
      "provenance": [],
      "collapsed_sections": [],
      "machine_shape": "hm",
      "include_colab_link": true
    },
    "accelerator": "TPU"
  },
  "cells": [
    {
      "cell_type": "markdown",
      "metadata": {
        "id": "view-in-github",
        "colab_type": "text"
      },
      "source": [
        "<a href=\"https://colab.research.google.com/github/luctiz/Grupo43-TP2/blob/master/TP2_Modelos_Hiperparametros.ipynb\" target=\"_parent\"><img src=\"https://colab.research.google.com/assets/colab-badge.svg\" alt=\"Open In Colab\"/></a>"
      ]
    },
    {
      "cell_type": "code",
      "metadata": {
        "id": "Khdk1NWAIcZx",
        "colab_type": "code",
        "colab": {}
      },
      "source": [
        "import pandas as pd\n",
        "from datetime import datetime\n",
        "import numpy as np\n",
        "import matplotlib.pyplot as plt\n",
        "import seaborn as sns"
      ],
      "execution_count": 0,
      "outputs": []
    },
    {
      "cell_type": "code",
      "metadata": {
        "id": "PAK-gsBkRR60",
        "colab_type": "code",
        "outputId": "1786835b-2075-4a3c-a783-db0c7086030a",
        "colab": {
          "base_uri": "https://localhost:8080/",
          "height": 124
        }
      },
      "source": [
        "from google.colab import drive\n",
        "drive.mount('/content/drive')\n"
      ],
      "execution_count": 2,
      "outputs": [
        {
          "output_type": "stream",
          "text": [
            "Go to this URL in a browser: https://accounts.google.com/o/oauth2/auth?client_id=947318989803-6bn6qk8qdgf4n4g3pfee6491hc0brc4i.apps.googleusercontent.com&redirect_uri=urn%3Aietf%3Awg%3Aoauth%3A2.0%3Aoob&scope=email%20https%3A%2F%2Fwww.googleapis.com%2Fauth%2Fdocs.test%20https%3A%2F%2Fwww.googleapis.com%2Fauth%2Fdrive%20https%3A%2F%2Fwww.googleapis.com%2Fauth%2Fdrive.photos.readonly%20https%3A%2F%2Fwww.googleapis.com%2Fauth%2Fpeopleapi.readonly&response_type=code\n",
            "\n",
            "Enter your authorization code:\n",
            "··········\n",
            "Mounted at /content/drive\n"
          ],
          "name": "stdout"
        }
      ]
    },
    {
      "cell_type": "markdown",
      "metadata": {
        "id": "AvKu51JC6fGM",
        "colab_type": "text"
      },
      "source": [
        "# **Prueba de Modelos y búsqueda de Hiper Parámetros**\n",
        "\n",
        "En este notebook nos encargaremos de probar diferentes modelos de Machine Learning para luego seleccionar los que mejor se ajustan a nuestros features, una vez seleccionados los modelos nos encargaremos de buscar los mejores hiper paráámetros para los mismos."
      ]
    },
    {
      "cell_type": "code",
      "metadata": {
        "id": "dqez4V1nIcZ-",
        "colab_type": "code",
        "colab": {}
      },
      "source": [
        "#Modelos\n",
        "from sklearn.neighbors import KNeighborsRegressor, RadiusNeighborsRegressor\n",
        "from sklearn.linear_model import LinearRegression\n",
        "from sklearn.tree import DecisionTreeRegressor\n",
        "#Ensambles\n",
        "import xgboost as xgb\n",
        "from sklearn.ensemble  import RandomForestRegressor, GradientBoostingRegressor, VotingRegressor, AdaBoostRegressor\n",
        "#Búsqueda de hiper-parámetros\n",
        "from sklearn.model_selection import GridSearchCV, RandomizedSearchCV\n",
        "#Cross validation\n",
        "from sklearn.model_selection import cross_val_score"
      ],
      "execution_count": 0,
      "outputs": []
    },
    {
      "cell_type": "code",
      "metadata": {
        "id": "350rFCExIcaI",
        "colab_type": "code",
        "colab": {}
      },
      "source": [
        "#Cargo los features\n",
        "features = pd.read_csv(\"../content/drive/My Drive/data/features_train.csv\")\n",
        "#features_test = pd.read_csv(\"../content/drive/My Drive/data/features_test.csv\")"
      ],
      "execution_count": 0,
      "outputs": []
    },
    {
      "cell_type": "code",
      "metadata": {
        "id": "jRmAOa_iU1lt",
        "colab_type": "code",
        "colab": {}
      },
      "source": [
        "Y = pd.read_csv(\"../content/drive/My Drive/data/train.csv\", usecols=['precio'])['precio']"
      ],
      "execution_count": 0,
      "outputs": []
    },
    {
      "cell_type": "code",
      "metadata": {
        "id": "ca_v7K8OC8lk",
        "colab_type": "code",
        "colab": {}
      },
      "source": [
        "X = features.iloc[:,:16] .join(features.iloc[:,16:].astype(np.int8))\n",
        "del features"
      ],
      "execution_count": 0,
      "outputs": []
    },
    {
      "cell_type": "markdown",
      "metadata": {
        "id": "djEDxgao3ETM",
        "colab_type": "text"
      },
      "source": [
        "# Modelos Baseline\n",
        "\n",
        "\n",
        "Comienzo probando modelos simples utilizando los hiper parámetros que vienen por defecto. \n",
        "Luego de chequear cuales nos funcionan mejor nos encargaremos de tunear los hiper parámetros de los modelos que creamos nos van a funcionar mejor."
      ]
    },
    {
      "cell_type": "markdown",
      "metadata": {
        "id": "hJ-27GyO3TEz",
        "colab_type": "text"
      },
      "source": [
        "## Linear Regression"
      ]
    },
    {
      "cell_type": "code",
      "metadata": {
        "id": "D0Ocz3Hv3HNg",
        "colab_type": "code",
        "colab": {
          "base_uri": "https://localhost:8080/",
          "height": 34
        },
        "outputId": "1c22a646-0639-4d0f-bf66-6cab91d92657"
      },
      "source": [
        "#Score MAE\n",
        "lr_model =  LinearRegression()\n",
        "scores = cross_val_score(lr_model , X, Y, scoring=\"neg_mean_absolute_error\", cv=3)\n",
        "RF_mae_score1 = -scores.mean()\n",
        "RF_mae_score1"
      ],
      "execution_count": 13,
      "outputs": [
        {
          "output_type": "execute_result",
          "data": {
            "text/plain": [
              "825438.1713070376"
            ]
          },
          "metadata": {
            "tags": []
          },
          "execution_count": 13
        }
      ]
    },
    {
      "cell_type": "markdown",
      "metadata": {
        "id": "8pkhggkg3zth",
        "colab_type": "text"
      },
      "source": [
        "## Decision Tree Regressor"
      ]
    },
    {
      "cell_type": "code",
      "metadata": {
        "id": "52Zuon633HSl",
        "colab_type": "code",
        "colab": {
          "base_uri": "https://localhost:8080/",
          "height": 34
        },
        "outputId": "73da0e46-b94f-4f10-ed85-81cc78a99d7d"
      },
      "source": [
        "#Score MAE\n",
        "dtr_model = DecisionTreeRegressor()\n",
        "scores = cross_val_score(dtr_model , X, Y, scoring=\"neg_mean_absolute_error\", cv=3)\n",
        "RF_mae_score2 = -scores.mean()\n",
        "RF_mae_score2"
      ],
      "execution_count": 14,
      "outputs": [
        {
          "output_type": "execute_result",
          "data": {
            "text/plain": [
              "783874.7362534936"
            ]
          },
          "metadata": {
            "tags": []
          },
          "execution_count": 14
        }
      ]
    },
    {
      "cell_type": "markdown",
      "metadata": {
        "id": "7UY_HfOf4Q2m",
        "colab_type": "text"
      },
      "source": [
        "## KNN "
      ]
    },
    {
      "cell_type": "code",
      "metadata": {
        "id": "6SpRYbgm4Xcp",
        "colab_type": "code",
        "colab": {
          "base_uri": "https://localhost:8080/",
          "height": 34
        },
        "outputId": "0566ab35-44fa-42c8-ee3f-a5535e952858"
      },
      "source": [
        "#Score MAE\n",
        "knn_model = KNeighborsRegressor()\n",
        "scores = cross_val_score(knn_model , X, Y, scoring=\"neg_mean_absolute_error\", cv=3)\n",
        "RF_mae_score3 = -scores.mean()\n",
        "RF_mae_score3"
      ],
      "execution_count": 15,
      "outputs": [
        {
          "output_type": "execute_result",
          "data": {
            "text/plain": [
              "885823.3344333334"
            ]
          },
          "metadata": {
            "tags": []
          },
          "execution_count": 15
        }
      ]
    },
    {
      "cell_type": "markdown",
      "metadata": {
        "id": "fSjuyfhM6Ow_",
        "colab_type": "text"
      },
      "source": [
        "# Modelos ensamblados"
      ]
    },
    {
      "cell_type": "markdown",
      "metadata": {
        "id": "vjBYXQGL7jN1",
        "colab_type": "text"
      },
      "source": [
        "## Random Forest"
      ]
    },
    {
      "cell_type": "code",
      "metadata": {
        "id": "V8s6b3E76PR6",
        "colab_type": "code",
        "colab": {
          "base_uri": "https://localhost:8080/",
          "height": 263
        },
        "outputId": "916c0b15-9802-490b-a871-f0056f2afc44"
      },
      "source": [
        "#Score MAE\n",
        "rf_model = RandomForestRegressor(oob_score= True)\n",
        "scores = cross_val_score(rf_model , X, Y, scoring=\"neg_mean_absolute_error\", cv=3)\n",
        "RF_mae_score5 = -scores.mean()\n",
        "RF_mae_score5"
      ],
      "execution_count": 16,
      "outputs": [
        {
          "output_type": "stream",
          "text": [
            "/usr/local/lib/python3.6/dist-packages/sklearn/ensemble/forest.py:245: FutureWarning: The default value of n_estimators will change from 10 in version 0.20 to 100 in 0.22.\n",
            "  \"10 in version 0.20 to 100 in 0.22.\", FutureWarning)\n",
            "/usr/local/lib/python3.6/dist-packages/sklearn/ensemble/forest.py:737: UserWarning: Some inputs do not have OOB scores. This probably means too few trees were used to compute any reliable oob estimates.\n",
            "  warn(\"Some inputs do not have OOB scores. \"\n",
            "/usr/local/lib/python3.6/dist-packages/sklearn/ensemble/forest.py:245: FutureWarning: The default value of n_estimators will change from 10 in version 0.20 to 100 in 0.22.\n",
            "  \"10 in version 0.20 to 100 in 0.22.\", FutureWarning)\n",
            "/usr/local/lib/python3.6/dist-packages/sklearn/ensemble/forest.py:737: UserWarning: Some inputs do not have OOB scores. This probably means too few trees were used to compute any reliable oob estimates.\n",
            "  warn(\"Some inputs do not have OOB scores. \"\n",
            "/usr/local/lib/python3.6/dist-packages/sklearn/ensemble/forest.py:245: FutureWarning: The default value of n_estimators will change from 10 in version 0.20 to 100 in 0.22.\n",
            "  \"10 in version 0.20 to 100 in 0.22.\", FutureWarning)\n",
            "/usr/local/lib/python3.6/dist-packages/sklearn/ensemble/forest.py:737: UserWarning: Some inputs do not have OOB scores. This probably means too few trees were used to compute any reliable oob estimates.\n",
            "  warn(\"Some inputs do not have OOB scores. \"\n"
          ],
          "name": "stderr"
        },
        {
          "output_type": "execute_result",
          "data": {
            "text/plain": [
              "590693.1493134703"
            ]
          },
          "metadata": {
            "tags": []
          },
          "execution_count": 16
        }
      ]
    },
    {
      "cell_type": "markdown",
      "metadata": {
        "id": "cStwnvYP7xsR",
        "colab_type": "text"
      },
      "source": [
        "## Gradient Boosting"
      ]
    },
    {
      "cell_type": "code",
      "metadata": {
        "id": "XgLNw_y2_VO3",
        "colab_type": "code",
        "colab": {
          "base_uri": "https://localhost:8080/",
          "height": 34
        },
        "outputId": "5bb3d328-1f42-49ad-a683-a1ff59da2baf"
      },
      "source": [
        "gbr_model = GradientBoostingRegressor()\n",
        "scores = cross_val_score(gbr_model , X, Y, scoring=\"neg_mean_absolute_error\", cv=3)\n",
        "RF_mae_score6 = -scores.mean()\n",
        "RF_mae_score6"
      ],
      "execution_count": 17,
      "outputs": [
        {
          "output_type": "execute_result",
          "data": {
            "text/plain": [
              "739038.4285460372"
            ]
          },
          "metadata": {
            "tags": []
          },
          "execution_count": 17
        }
      ]
    },
    {
      "cell_type": "markdown",
      "metadata": {
        "id": "i13PcYYo8QVZ",
        "colab_type": "text"
      },
      "source": [
        "## XGBoost"
      ]
    },
    {
      "cell_type": "code",
      "metadata": {
        "id": "HsFZymZBBMH4",
        "colab_type": "code",
        "colab": {
          "base_uri": "https://localhost:8080/",
          "height": 191
        },
        "outputId": "e354e739-6e31-43bc-f033-caca354f3a3f"
      },
      "source": [
        "xgb_model = xgb.XGBRegressor()\n",
        "scores = cross_val_score(xgb_model , X, Y, scoring=\"neg_mean_absolute_error\", cv=3)\n",
        "RF_mae_score7 = -scores.mean()\n",
        "RF_mae_score7"
      ],
      "execution_count": 18,
      "outputs": [
        {
          "output_type": "stream",
          "text": [
            "/usr/local/lib/python3.6/dist-packages/xgboost/core.py:587: FutureWarning: Series.base is deprecated and will be removed in a future version\n",
            "  if getattr(data, 'base', None) is not None and \\\n"
          ],
          "name": "stderr"
        },
        {
          "output_type": "stream",
          "text": [
            "[16:58:33] WARNING: /workspace/src/objective/regression_obj.cu:152: reg:linear is now deprecated in favor of reg:squarederror.\n"
          ],
          "name": "stdout"
        },
        {
          "output_type": "stream",
          "text": [
            "/usr/local/lib/python3.6/dist-packages/xgboost/core.py:587: FutureWarning: Series.base is deprecated and will be removed in a future version\n",
            "  if getattr(data, 'base', None) is not None and \\\n"
          ],
          "name": "stderr"
        },
        {
          "output_type": "stream",
          "text": [
            "[17:04:15] WARNING: /workspace/src/objective/regression_obj.cu:152: reg:linear is now deprecated in favor of reg:squarederror.\n"
          ],
          "name": "stdout"
        },
        {
          "output_type": "stream",
          "text": [
            "/usr/local/lib/python3.6/dist-packages/xgboost/core.py:587: FutureWarning: Series.base is deprecated and will be removed in a future version\n",
            "  if getattr(data, 'base', None) is not None and \\\n"
          ],
          "name": "stderr"
        },
        {
          "output_type": "stream",
          "text": [
            "[17:09:51] WARNING: /workspace/src/objective/regression_obj.cu:152: reg:linear is now deprecated in favor of reg:squarederror.\n"
          ],
          "name": "stdout"
        },
        {
          "output_type": "execute_result",
          "data": {
            "text/plain": [
              "738662.6738282451"
            ]
          },
          "metadata": {
            "tags": []
          },
          "execution_count": 18
        }
      ]
    },
    {
      "cell_type": "markdown",
      "metadata": {
        "id": "tzgMZa6HUrRT",
        "colab_type": "text"
      },
      "source": [
        "# Pruebo GridSearch"
      ]
    },
    {
      "cell_type": "markdown",
      "metadata": {
        "id": "-bJNEGYfIcaO",
        "colab_type": "text"
      },
      "source": [
        "## Modelo KNN"
      ]
    },
    {
      "cell_type": "code",
      "metadata": {
        "id": "KZuHQNPkTUMf",
        "colab_type": "code",
        "colab": {
          "base_uri": "https://localhost:8080/",
          "height": 350
        },
        "outputId": "2c32da55-3391-41f3-8623-68b7b1961d79"
      },
      "source": [
        "parameters_for_testing = {'metric': ['euclidean', 'manhattan', 'chebyshev', 'minkowski'], \\\n",
        "                          'weights': ['uniform', 'distance'], 'n_neighbors': list(range(1,15, 3))}\n",
        "gsearch1 = GridSearchCV(estimator = knn_model, param_grid = parameters_for_testing,iid=False, verbose=10,scoring='neg_mean_absolute_error', n_jobs = 2)\n",
        "gsearch1.fit(X,Y)\n",
        "print('best params')\n",
        "print (gsearch1.best_params_)\n",
        "print('best score')\n",
        "print (-gsearch1.best_score_)\n"
      ],
      "execution_count": 0,
      "outputs": [
        {
          "output_type": "stream",
          "text": [
            "Fitting 3 folds for each of 40 candidates, totalling 120 fits\n"
          ],
          "name": "stdout"
        },
        {
          "output_type": "stream",
          "text": [
            "/usr/local/lib/python3.6/dist-packages/sklearn/model_selection/_split.py:1978: FutureWarning: The default value of cv will change from 3 to 5 in version 0.22. Specify it explicitly to silence this warning.\n",
            "  warnings.warn(CV_WARNING, FutureWarning)\n",
            "[Parallel(n_jobs=2)]: Using backend LokyBackend with 2 concurrent workers.\n",
            "[Parallel(n_jobs=2)]: Done   1 tasks      | elapsed:  1.7min\n",
            "/usr/local/lib/python3.6/dist-packages/joblib/externals/loky/process_executor.py:706: UserWarning: A worker stopped while some jobs were given to the executor. This can be caused by a too short worker timeout or by a memory leak.\n",
            "  \"timeout or by a memory leak.\", UserWarning\n",
            "[Parallel(n_jobs=2)]: Done   4 tasks      | elapsed:  3.4min\n",
            "[Parallel(n_jobs=2)]: Done   9 tasks      | elapsed:  9.1min\n",
            "[Parallel(n_jobs=2)]: Done  14 tasks      | elapsed: 13.1min\n",
            "[Parallel(n_jobs=2)]: Done  21 tasks      | elapsed: 21.2min\n",
            "[Parallel(n_jobs=2)]: Done  28 tasks      | elapsed: 28.2min\n",
            "[Parallel(n_jobs=2)]: Done  37 tasks      | elapsed: 37.4min\n",
            "[Parallel(n_jobs=2)]: Done  46 tasks      | elapsed: 47.4min\n",
            "[Parallel(n_jobs=2)]: Done  57 tasks      | elapsed: 60.4min\n",
            "[Parallel(n_jobs=2)]: Done  68 tasks      | elapsed: 68.6min\n",
            "[Parallel(n_jobs=2)]: Done  81 tasks      | elapsed: 78.3min\n",
            "[Parallel(n_jobs=2)]: Done  94 tasks      | elapsed: 87.9min\n"
          ],
          "name": "stderr"
        }
      ]
    },
    {
      "cell_type": "markdown",
      "metadata": {
        "id": "0zNRbzyE5exq",
        "colab_type": "text"
      },
      "source": [
        "**Distancia Manhattan**"
      ]
    },
    {
      "cell_type": "code",
      "metadata": {
        "id": "8BG49lMoIcaR",
        "colab_type": "code",
        "colab": {}
      },
      "source": [
        "parameters_for_testing = {'metric': [ 'manhattan'], \\\n",
        "                          'weights': ['distance'], 'n_neighbors': [5,7,10]}"
      ],
      "execution_count": 0,
      "outputs": []
    },
    {
      "cell_type": "code",
      "metadata": {
        "id": "73YGzKlSRwhX",
        "colab_type": "code",
        "outputId": "82d7d15e-2581-42b6-cda6-9cdd75aae61f",
        "colab": {
          "base_uri": "https://localhost:8080/",
          "height": 784
        }
      },
      "source": [
        "gsearch1 = GridSearchCV(estimator = knn_model, param_grid = parameters_for_testing, n_jobs=1,iid=False, verbose=10,scoring='neg_mean_absolute_error')\n",
        "gsearch1.fit(X,Y)\n",
        "\n"
      ],
      "execution_count": 0,
      "outputs": [
        {
          "output_type": "stream",
          "text": [
            "/usr/local/lib/python3.6/dist-packages/sklearn/model_selection/_split.py:1978: FutureWarning: The default value of cv will change from 3 to 5 in version 0.22. Specify it explicitly to silence this warning.\n",
            "  warnings.warn(CV_WARNING, FutureWarning)\n",
            "[Parallel(n_jobs=1)]: Using backend SequentialBackend with 1 concurrent workers.\n"
          ],
          "name": "stderr"
        },
        {
          "output_type": "stream",
          "text": [
            "Fitting 3 folds for each of 3 candidates, totalling 9 fits\n",
            "[CV] metric=manhattan, n_neighbors=5, weights=distance ...............\n",
            "[CV]  metric=manhattan, n_neighbors=5, weights=distance, score=-799997.794, total= 6.7min\n",
            "[CV] metric=manhattan, n_neighbors=5, weights=distance ...............\n"
          ],
          "name": "stdout"
        },
        {
          "output_type": "stream",
          "text": [
            "[Parallel(n_jobs=1)]: Done   1 out of   1 | elapsed:  6.7min remaining:    0.0s\n"
          ],
          "name": "stderr"
        },
        {
          "output_type": "stream",
          "text": [
            "[CV]  metric=manhattan, n_neighbors=5, weights=distance, score=-802631.732, total= 6.7min\n",
            "[CV] metric=manhattan, n_neighbors=5, weights=distance ...............\n"
          ],
          "name": "stdout"
        },
        {
          "output_type": "stream",
          "text": [
            "[Parallel(n_jobs=1)]: Done   2 out of   2 | elapsed: 13.4min remaining:    0.0s\n"
          ],
          "name": "stderr"
        },
        {
          "output_type": "stream",
          "text": [
            "[CV]  metric=manhattan, n_neighbors=5, weights=distance, score=-812428.255, total= 6.7min\n",
            "[CV] metric=manhattan, n_neighbors=7, weights=distance ...............\n"
          ],
          "name": "stdout"
        },
        {
          "output_type": "stream",
          "text": [
            "[Parallel(n_jobs=1)]: Done   3 out of   3 | elapsed: 20.1min remaining:    0.0s\n"
          ],
          "name": "stderr"
        },
        {
          "output_type": "stream",
          "text": [
            "[CV]  metric=manhattan, n_neighbors=7, weights=distance, score=-794010.440, total= 7.2min\n",
            "[CV] metric=manhattan, n_neighbors=7, weights=distance ...............\n"
          ],
          "name": "stdout"
        },
        {
          "output_type": "stream",
          "text": [
            "[Parallel(n_jobs=1)]: Done   4 out of   4 | elapsed: 27.3min remaining:    0.0s\n"
          ],
          "name": "stderr"
        },
        {
          "output_type": "stream",
          "text": [
            "[CV]  metric=manhattan, n_neighbors=7, weights=distance, score=-801213.843, total= 7.2min\n",
            "[CV] metric=manhattan, n_neighbors=7, weights=distance ...............\n"
          ],
          "name": "stdout"
        },
        {
          "output_type": "stream",
          "text": [
            "[Parallel(n_jobs=1)]: Done   5 out of   5 | elapsed: 34.5min remaining:    0.0s\n"
          ],
          "name": "stderr"
        },
        {
          "output_type": "stream",
          "text": [
            "[CV]  metric=manhattan, n_neighbors=7, weights=distance, score=-807805.606, total= 7.1min\n",
            "[CV] metric=manhattan, n_neighbors=10, weights=distance ..............\n"
          ],
          "name": "stdout"
        },
        {
          "output_type": "stream",
          "text": [
            "[Parallel(n_jobs=1)]: Done   6 out of   6 | elapsed: 41.6min remaining:    0.0s\n"
          ],
          "name": "stderr"
        },
        {
          "output_type": "stream",
          "text": [
            "[CV]  metric=manhattan, n_neighbors=10, weights=distance, score=-797771.531, total= 7.6min\n",
            "[CV] metric=manhattan, n_neighbors=10, weights=distance ..............\n"
          ],
          "name": "stdout"
        },
        {
          "output_type": "stream",
          "text": [
            "[Parallel(n_jobs=1)]: Done   7 out of   7 | elapsed: 49.2min remaining:    0.0s\n"
          ],
          "name": "stderr"
        },
        {
          "output_type": "stream",
          "text": [
            "[CV]  metric=manhattan, n_neighbors=10, weights=distance, score=-803353.909, total= 7.6min\n",
            "[CV] metric=manhattan, n_neighbors=10, weights=distance ..............\n"
          ],
          "name": "stdout"
        },
        {
          "output_type": "stream",
          "text": [
            "[Parallel(n_jobs=1)]: Done   8 out of   8 | elapsed: 56.9min remaining:    0.0s\n"
          ],
          "name": "stderr"
        },
        {
          "output_type": "stream",
          "text": [
            "[CV]  metric=manhattan, n_neighbors=10, weights=distance, score=-809476.839, total= 7.6min\n"
          ],
          "name": "stdout"
        },
        {
          "output_type": "stream",
          "text": [
            "[Parallel(n_jobs=1)]: Done   9 out of   9 | elapsed: 64.4min remaining:    0.0s\n",
            "[Parallel(n_jobs=1)]: Done   9 out of   9 | elapsed: 64.4min finished\n"
          ],
          "name": "stderr"
        },
        {
          "output_type": "execute_result",
          "data": {
            "text/plain": [
              "GridSearchCV(cv='warn', error_score='raise-deprecating',\n",
              "             estimator=KNeighborsRegressor(algorithm='auto', leaf_size=30,\n",
              "                                           metric='minkowski',\n",
              "                                           metric_params=None, n_jobs=None,\n",
              "                                           n_neighbors=5, p=2,\n",
              "                                           weights='uniform'),\n",
              "             iid=False, n_jobs=1,\n",
              "             param_grid={'metric': ['manhattan'], 'n_neighbors': [5, 7, 10],\n",
              "                         'weights': ['distance']},\n",
              "             pre_dispatch='2*n_jobs', refit=True, return_train_score=False,\n",
              "             scoring='neg_mean_absolute_error', verbose=10)"
            ]
          },
          "metadata": {
            "tags": []
          },
          "execution_count": 8
        }
      ]
    },
    {
      "cell_type": "code",
      "metadata": {
        "id": "lx6SFNwjVOyM",
        "colab_type": "code",
        "outputId": "6c8a6039-7210-43b7-8529-17dfe7a7c11b",
        "colab": {
          "base_uri": "https://localhost:8080/",
          "height": 86
        }
      },
      "source": [
        "print('best params')\n",
        "print (gsearch1.best_params_)\n",
        "print('best score')\n",
        "print (-gsearch1.best_score_)"
      ],
      "execution_count": 0,
      "outputs": [
        {
          "output_type": "stream",
          "text": [
            "best params\n",
            "{'metric': 'manhattan', 'n_neighbors': 7, 'weights': 'distance'}\n",
            "best score\n",
            "801009.9628524253\n"
          ],
          "name": "stdout"
        }
      ]
    },
    {
      "cell_type": "markdown",
      "metadata": {
        "id": "aqWqxoAp-W7v",
        "colab_type": "text"
      },
      "source": [
        "**Como gridSearch tarda demasiado utilizo randomized Search**"
      ]
    },
    {
      "cell_type": "markdown",
      "metadata": {
        "id": "EMIKhlAfcOCg",
        "colab_type": "text"
      },
      "source": [
        "# Pruebo RandomizedSearch"
      ]
    },
    {
      "cell_type": "markdown",
      "metadata": {
        "id": "260X7_2ocD1M",
        "colab_type": "text"
      },
      "source": [
        "## KNN Regressor"
      ]
    },
    {
      "cell_type": "code",
      "metadata": {
        "id": "XK2hCBr2WQyh",
        "colab_type": "code",
        "outputId": "2791a44e-e011-4e3f-9ce0-481fc30a0b9b",
        "colab": {
          "base_uri": "https://localhost:8080/",
          "height": 312
        }
      },
      "source": [
        "parameters_for_testing = {'metric': ['euclidean', 'manhattan', 'chebyshev', 'minkowski'], \\\n",
        "                          'weights': ['uniform', 'distance'], 'n_neighbors': list(range(2,20)), 'n_jobs': [-1]}\n",
        "\n",
        "n_iter_search = 20\n",
        "random_search = RandomizedSearchCV(knn_model, param_distributions=parameters_for_testing, n_iter=n_iter_search, cv=5, iid=False, scoring='neg_mean_absolute_error')\n",
        "random_search.fit(X,Y)"
      ],
      "execution_count": 0,
      "outputs": [
        {
          "output_type": "execute_result",
          "data": {
            "text/plain": [
              "RandomizedSearchCV(cv=5, error_score='raise-deprecating',\n",
              "                   estimator=KNeighborsRegressor(algorithm='auto', leaf_size=30,\n",
              "                                                 metric='minkowski',\n",
              "                                                 metric_params=None,\n",
              "                                                 n_jobs=None, n_neighbors=5,\n",
              "                                                 p=2, weights='uniform'),\n",
              "                   iid=False, n_iter=20, n_jobs=None,\n",
              "                   param_distributions={'metric': ['euclidean', 'manhattan',\n",
              "                                                   'chebyshev', 'minkowski'],\n",
              "                                        'n_jobs': [-1],\n",
              "                                        'n_neighbors': [2, 3, 4, 5, 6, 7, 8, 9,\n",
              "                                                        10, 11, 12, 13, 14, 15,\n",
              "                                                        16, 17, 18, 19],\n",
              "                                        'weights': ['uniform', 'distance']},\n",
              "                   pre_dispatch='2*n_jobs', random_state=None, refit=True,\n",
              "                   return_train_score=False, scoring='neg_mean_absolute_error',\n",
              "                   verbose=0)"
            ]
          },
          "metadata": {
            "tags": []
          },
          "execution_count": 17
        }
      ]
    },
    {
      "cell_type": "code",
      "metadata": {
        "id": "3jgVz8_KcNEc",
        "colab_type": "code",
        "outputId": "cfd768bc-bc85-4024-8918-c5d518807c86",
        "colab": {
          "base_uri": "https://localhost:8080/",
          "height": 86
        }
      },
      "source": [
        "print('best params')\n",
        "print (random_search.best_params_)\n",
        "print('best score')\n",
        "print (-random_search.best_score_)"
      ],
      "execution_count": 0,
      "outputs": [
        {
          "output_type": "stream",
          "text": [
            "best params\n",
            "{'weights': 'distance', 'n_neighbors': 12, 'n_jobs': -1, 'metric': 'manhattan'}\n",
            "best score\n",
            "792503.4736541035\n"
          ],
          "name": "stdout"
        }
      ]
    },
    {
      "cell_type": "markdown",
      "metadata": {
        "id": "jXKjDmAPcKTe",
        "colab_type": "text"
      },
      "source": [
        "## Gradient Boosting Regressor"
      ]
    },
    {
      "cell_type": "code",
      "metadata": {
        "id": "9wmh40wye-c_",
        "colab_type": "code",
        "outputId": "08de8fed-0015-413f-93e9-e31e021c5566",
        "colab": {
          "base_uri": "https://localhost:8080/",
          "height": 451
        }
      },
      "source": [
        "parameters_for_testing = {'learning_rate': [1, 0.5, 0.25, 0.1, 0.05, 0.01], 'n_estimators': [1, 2, 4, 8, 16, 32, 64, 100, 200],\\\n",
        "                          'max_depth': np.linspace(1, 32, 32, endpoint=True), 'min_samples_split': np.linspace(0.1, 1.0, 10, endpoint=True),\\\n",
        "                          'max_features': list(range(1,X.shape[1])), 'min_samples_leaf': np.linspace(0.1, 0.5, 5, endpoint=True)}\n",
        "\n",
        "n_iter_search = 20\n",
        "random_search = RandomizedSearchCV(gbr_model, param_distributions=parameters_for_testing, n_iter=n_iter_search, cv=3, iid=False, scoring='neg_mean_absolute_error', n_jobs = 2)\n",
        "random_search.fit(X,Y)"
      ],
      "execution_count": 0,
      "outputs": [
        {
          "output_type": "execute_result",
          "data": {
            "text/plain": [
              "RandomizedSearchCV(cv=3, error_score='raise-deprecating',\n",
              "                   estimator=GradientBoostingRegressor(alpha=0.9,\n",
              "                                                       criterion='friedman_mse',\n",
              "                                                       init=None,\n",
              "                                                       learning_rate=0.1,\n",
              "                                                       loss='ls', max_depth=3,\n",
              "                                                       max_features=None,\n",
              "                                                       max_leaf_nodes=None,\n",
              "                                                       min_impurity_decrease=0.0,\n",
              "                                                       min_impurity_split=None,\n",
              "                                                       min_samples_leaf=1,\n",
              "                                                       min_samples_split=2,\n",
              "                                                       min_weight_fraction_leaf=0.0,\n",
              "                                                       n_estimators=100,...\n",
              "                                                         9, 10, 11, 12, 13, 14,\n",
              "                                                         15, 16, 17, 18, 19, 20,\n",
              "                                                         21, 22, 23, 24, 25, 26,\n",
              "                                                         27, 28, 29, 30, ...],\n",
              "                                        'min_samples_leaf': array([0.1, 0.2, 0.3, 0.4, 0.5]),\n",
              "                                        'min_samples_split': array([0.1, 0.2, 0.3, 0.4, 0.5, 0.6, 0.7, 0.8, 0.9, 1. ]),\n",
              "                                        'n_estimators': [1, 2, 4, 8, 16, 32, 64,\n",
              "                                                         100, 200]},\n",
              "                   pre_dispatch='2*n_jobs', random_state=None, refit=True,\n",
              "                   return_train_score=False, scoring='neg_mean_absolute_error',\n",
              "                   verbose=0)"
            ]
          },
          "metadata": {
            "tags": []
          },
          "execution_count": 8
        }
      ]
    },
    {
      "cell_type": "code",
      "metadata": {
        "id": "3k50Bx82tPz4",
        "colab_type": "code",
        "outputId": "6df3ca60-d99f-4b49-b83b-89a820729553",
        "colab": {
          "base_uri": "https://localhost:8080/",
          "height": 86
        }
      },
      "source": [
        "print('best params')\n",
        "print (random_search.best_params_)\n",
        "print('best score')\n",
        "print (-random_search.best_score_)"
      ],
      "execution_count": 0,
      "outputs": [
        {
          "output_type": "stream",
          "text": [
            "best params\n",
            "{'n_estimators': 64, 'min_samples_split': 0.1, 'min_samples_leaf': 0.1, 'max_features': 222, 'max_depth': 7.0, 'learning_rate': 0.25}\n",
            "best score\n",
            "857630.7109325379\n"
          ],
          "name": "stdout"
        }
      ]
    },
    {
      "cell_type": "markdown",
      "metadata": {
        "id": "BfH-pX-iGJrV",
        "colab_type": "text"
      },
      "source": [
        "## XGBoost Regressor"
      ]
    },
    {
      "cell_type": "code",
      "metadata": {
        "id": "y_vPh8fPERvX",
        "colab_type": "code",
        "outputId": "0cf52757-47c7-4828-d115-6b3c1d60372c",
        "colab": {
          "base_uri": "https://localhost:8080/",
          "height": 593
        }
      },
      "source": [
        "parameters_for_testing = {'learning_rate': [1, 0.5, 0.25, 0.1, 0.05, 0.01], 'n_estimators': [1, 2, 4, 8, 16, 32, 64, 100, 200],\\\n",
        "                          'max_depth': list(range(5,10)), 'min_child_weight':range(1,6,2), 'gamma':[i/10.0 for i in range(0,5)],\\\n",
        "                          'max_features': list(range(1,X.shape[1])), 'subsample':[i/10.0 for i in range(6,10)], \\\n",
        "                          'colsample_bytree':[i/10.0 for i in range(6,10)], 'reg_alpha':[1e-5, 1e-2, 0.1, 1, 100]}\n",
        "\n",
        "n_iter_search = 20\n",
        "random_search = RandomizedSearchCV(xgb_model, param_distributions=parameters_for_testing, n_iter=n_iter_search, cv=3, iid=False, scoring='neg_mean_absolute_error', n_jobs = 2)\n",
        "random_search.fit(X,Y)"
      ],
      "execution_count": 0,
      "outputs": [
        {
          "output_type": "stream",
          "text": [
            "/usr/local/lib/python3.6/dist-packages/joblib/externals/loky/process_executor.py:706: UserWarning: A worker stopped while some jobs were given to the executor. This can be caused by a too short worker timeout or by a memory leak.\n",
            "  \"timeout or by a memory leak.\", UserWarning\n",
            "/usr/local/lib/python3.6/dist-packages/xgboost/core.py:587: FutureWarning: Series.base is deprecated and will be removed in a future version\n",
            "  if getattr(data, 'base', None) is not None and \\\n",
            "/usr/local/lib/python3.6/dist-packages/xgboost/core.py:588: FutureWarning: Series.base is deprecated and will be removed in a future version\n",
            "  data.base is not None and isinstance(data, np.ndarray) \\\n"
          ],
          "name": "stderr"
        },
        {
          "output_type": "stream",
          "text": [
            "[22:40:06] WARNING: /workspace/src/objective/regression_obj.cu:152: reg:linear is now deprecated in favor of reg:squarederror.\n"
          ],
          "name": "stdout"
        },
        {
          "output_type": "execute_result",
          "data": {
            "text/plain": [
              "RandomizedSearchCV(cv=3, error_score='raise-deprecating',\n",
              "                   estimator=XGBRegressor(base_score=0.5, booster='gbtree',\n",
              "                                          colsample_bylevel=1,\n",
              "                                          colsample_bynode=1,\n",
              "                                          colsample_bytree=1, gamma=0,\n",
              "                                          importance_type='gain',\n",
              "                                          learning_rate=0.1, max_delta_step=0,\n",
              "                                          max_depth=3, min_child_weight=1,\n",
              "                                          missing=None, n_estimators=100,\n",
              "                                          n_jobs=1, nthread=None,\n",
              "                                          objective='reg:linear',\n",
              "                                          random_st...\n",
              "                                        'max_features': [1, 2, 3, 4, 5, 6, 7, 8,\n",
              "                                                         9, 10, 11, 12, 13, 14,\n",
              "                                                         15, 16, 17, 18, 19, 20,\n",
              "                                                         21, 22, 23, 24, 25, 26,\n",
              "                                                         27, 28, 29, 30, ...],\n",
              "                                        'min_child_weight': range(1, 6, 2),\n",
              "                                        'n_estimators': [1, 2, 4, 8, 16, 32, 64,\n",
              "                                                         100, 200],\n",
              "                                        'reg_alpha': [1e-05, 0.01, 0.1, 1, 100],\n",
              "                                        'subsample': [0.6, 0.7, 0.8, 0.9]},\n",
              "                   pre_dispatch='2*n_jobs', random_state=None, refit=True,\n",
              "                   return_train_score=False, scoring='neg_mean_absolute_error',\n",
              "                   verbose=0)"
            ]
          },
          "metadata": {
            "tags": []
          },
          "execution_count": 12
        }
      ]
    },
    {
      "cell_type": "code",
      "metadata": {
        "id": "E6Ht1JuQno9m",
        "colab_type": "code",
        "outputId": "6b947113-2ad6-4e26-88fc-7adf323f1310",
        "colab": {
          "base_uri": "https://localhost:8080/",
          "height": 106
        }
      },
      "source": [
        "print('best params')\n",
        "print (random_search.best_params_)\n",
        "print('best score')\n",
        "print (-random_search.best_score_)"
      ],
      "execution_count": 0,
      "outputs": [
        {
          "output_type": "stream",
          "text": [
            "best params\n",
            "{'subsample': 0.9, 'reg_alpha': 0.01, 'n_estimators': 100, 'min_child_weight': 1, 'max_features': 488, 'max_depth': 9, 'learning_rate': 0.05, 'gamma': 0.2, 'colsample_bytree': 0.7}\n",
            "best score\n",
            "596734.5304386718\n"
          ],
          "name": "stdout"
        }
      ]
    },
    {
      "cell_type": "markdown",
      "metadata": {
        "id": "gZNggKHl6i3X",
        "colab_type": "text"
      },
      "source": [
        "## Random Forest"
      ]
    },
    {
      "cell_type": "code",
      "metadata": {
        "id": "qmaUX97p6uTk",
        "colab_type": "code",
        "outputId": "b60b7bbf-25c5-4753-a892-bd3042fd9433",
        "colab": {
          "base_uri": "https://localhost:8080/",
          "height": 489
        }
      },
      "source": [
        "parameters_for_testing = {'n_estimators': range(10,100,10), 'random_state': range(1,50,7), \\\n",
        "                          'max_depth': range(5,50,5), 'min_samples_split': range(5,25,5), 'min_samples_leaf': [1,2,5,10,15]}\n",
        "\n",
        "n_iter_search = 20\n",
        "random_search = RandomizedSearchCV(rf_model, param_distributions=parameters_for_testing, n_iter=n_iter_search, cv=3, iid=False, scoring='neg_mean_absolute_error', n_jobs = 2)\n",
        "random_search.fit(X,Y)"
      ],
      "execution_count": 8,
      "outputs": [
        {
          "output_type": "stream",
          "text": [
            "/usr/local/lib/python3.6/dist-packages/joblib/externals/loky/process_executor.py:706: UserWarning: A worker stopped while some jobs were given to the executor. This can be caused by a too short worker timeout or by a memory leak.\n",
            "  \"timeout or by a memory leak.\", UserWarning\n"
          ],
          "name": "stderr"
        },
        {
          "output_type": "execute_result",
          "data": {
            "text/plain": [
              "RandomizedSearchCV(cv=3, error_score='raise-deprecating',\n",
              "                   estimator=RandomForestRegressor(bootstrap=True,\n",
              "                                                   criterion='mse',\n",
              "                                                   max_depth=None,\n",
              "                                                   max_features='auto',\n",
              "                                                   max_leaf_nodes=None,\n",
              "                                                   min_impurity_decrease=0.0,\n",
              "                                                   min_impurity_split=None,\n",
              "                                                   min_samples_leaf=1,\n",
              "                                                   min_samples_split=2,\n",
              "                                                   min_weight_fraction_leaf=0.0,\n",
              "                                                   n_estimators='warn',\n",
              "                                                   n_jobs=None, oob_score=True,\n",
              "                                                   random_stat...se=0,\n",
              "                                                   warm_start=False),\n",
              "                   iid=False, n_iter=20, n_jobs=2,\n",
              "                   param_distributions={'max_depth': range(5, 50, 5),\n",
              "                                        'min_samples_leaf': [1, 2, 5, 10, 15],\n",
              "                                        'min_samples_split': range(5, 25, 5),\n",
              "                                        'n_estimators': range(10, 100, 10),\n",
              "                                        'random_state': range(1, 50, 7)},\n",
              "                   pre_dispatch='2*n_jobs', random_state=None, refit=True,\n",
              "                   return_train_score=False, scoring='neg_mean_absolute_error',\n",
              "                   verbose=0)"
            ]
          },
          "metadata": {
            "tags": []
          },
          "execution_count": 8
        }
      ]
    },
    {
      "cell_type": "code",
      "metadata": {
        "id": "1hLs1gD6zFDf",
        "colab_type": "code",
        "colab": {
          "base_uri": "https://localhost:8080/",
          "height": 86
        },
        "outputId": "80f18fd7-76c4-426b-852f-269fcd67bc6c"
      },
      "source": [
        "print('best params')\n",
        "print (random_search.best_params_)\n",
        "print('best score')\n",
        "print (-random_search.best_score_)"
      ],
      "execution_count": 9,
      "outputs": [
        {
          "output_type": "stream",
          "text": [
            "best params\n",
            "{'random_state': 15, 'n_estimators': 40, 'min_samples_split': 10, 'min_samples_leaf': 1, 'max_depth': 45}\n",
            "best score\n",
            "567144.1106898739\n"
          ],
          "name": "stdout"
        }
      ]
    },
    {
      "cell_type": "code",
      "metadata": {
        "id": "uHqkBPXL8lCQ",
        "colab_type": "code",
        "colab": {}
      },
      "source": [
        ""
      ],
      "execution_count": 0,
      "outputs": []
    }
  ]
}