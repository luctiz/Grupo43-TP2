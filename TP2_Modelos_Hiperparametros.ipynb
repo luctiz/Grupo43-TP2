{
  "nbformat": 4,
  "nbformat_minor": 0,
  "metadata": {
    "kernelspec": {
      "name": "python3",
      "display_name": "Python 3"
    },
    "language_info": {
      "codemirror_mode": {
        "name": "ipython",
        "version": 3
      },
      "file_extension": ".py",
      "mimetype": "text/x-python",
      "name": "python",
      "nbconvert_exporter": "python",
      "pygments_lexer": "ipython3",
      "version": "3.6.8"
    },
    "colab": {
      "name": "TP2_Modelos_Hiperparametros.ipynb",
      "provenance": [],
      "collapsed_sections": [],
      "machine_shape": "hm",
      "include_colab_link": true
    },
    "accelerator": "GPU"
  },
  "cells": [
    {
      "cell_type": "markdown",
      "metadata": {
        "id": "view-in-github",
        "colab_type": "text"
      },
      "source": [
        "<a href=\"https://colab.research.google.com/github/luctiz/Grupo43-TP2/blob/master/TP2_Modelos_Hiperparametros.ipynb\" target=\"_parent\"><img src=\"https://colab.research.google.com/assets/colab-badge.svg\" alt=\"Open In Colab\"/></a>"
      ]
    },
    {
      "cell_type": "code",
      "metadata": {
        "id": "Khdk1NWAIcZx",
        "colab_type": "code",
        "colab": {}
      },
      "source": [
        "import pandas as pd\n",
        "from datetime import datetime\n",
        "import numpy as np\n",
        "import matplotlib.pyplot as plt\n",
        "import seaborn as sns"
      ],
      "execution_count": 0,
      "outputs": []
    },
    {
      "cell_type": "code",
      "metadata": {
        "id": "PAK-gsBkRR60",
        "colab_type": "code",
        "outputId": "56c44cae-993d-4050-a97b-9031e2556f39",
        "colab": {
          "base_uri": "https://localhost:8080/",
          "height": 34
        }
      },
      "source": [
        "from google.colab import drive\n",
        "drive.mount('/content/drive')\n"
      ],
      "execution_count": 3,
      "outputs": [
        {
          "output_type": "stream",
          "text": [
            "Drive already mounted at /content/drive; to attempt to forcibly remount, call drive.mount(\"/content/drive\", force_remount=True).\n"
          ],
          "name": "stdout"
        }
      ]
    },
    {
      "cell_type": "code",
      "metadata": {
        "id": "dqez4V1nIcZ-",
        "colab_type": "code",
        "colab": {}
      },
      "source": [
        "#Modelos\n",
        "from sklearn.neighbors import KNeighborsRegressor, RadiusNeighborsClassifier\n",
        "from sklearn.linear_model import LinearRegression\n",
        "from sklearn.tree import DecisionTreeRegressor\n",
        "import xgboost as xgb\n",
        "#Ensambles\n",
        "from sklearn.ensemble  import RandomForestRegressor, GradientBoostingRegressor, VotingRegressor, AdaBoostRegressor\n",
        "#Búsqueda de hiper-parámetros\n",
        "from sklearn.model_selection import GridSearchCV, RandomizedSearchCV\n"
      ],
      "execution_count": 0,
      "outputs": []
    },
    {
      "cell_type": "code",
      "metadata": {
        "id": "350rFCExIcaI",
        "colab_type": "code",
        "colab": {}
      },
      "source": [
        "#Cargo los features\n",
        "features = pd.read_csv(\"../content/drive/My Drive/data/features_train.csv\")\n",
        "features_test = pd.read_csv(\"../content/drive/My Drive/data/features_test.csv\")"
      ],
      "execution_count": 0,
      "outputs": []
    },
    {
      "cell_type": "markdown",
      "metadata": {
        "id": "tzgMZa6HUrRT",
        "colab_type": "text"
      },
      "source": [
        "# Pruebo GridSearch"
      ]
    },
    {
      "cell_type": "code",
      "metadata": {
        "id": "jRmAOa_iU1lt",
        "colab_type": "code",
        "colab": {}
      },
      "source": [
        "X = features.drop(columns = 'precio')\n",
        "Y = features['precio']"
      ],
      "execution_count": 0,
      "outputs": []
    },
    {
      "cell_type": "markdown",
      "metadata": {
        "id": "-bJNEGYfIcaO",
        "colab_type": "text"
      },
      "source": [
        "## (1) Modelo KNN"
      ]
    },
    {
      "cell_type": "markdown",
      "metadata": {
        "id": "0zNRbzyE5exq",
        "colab_type": "text"
      },
      "source": [
        "**Distancia Manhattan**"
      ]
    },
    {
      "cell_type": "code",
      "metadata": {
        "id": "8BG49lMoIcaR",
        "colab_type": "code",
        "colab": {}
      },
      "source": [
        "parameters_for_testing = {'metric': [ 'manhattan'], \\\n",
        "                          'weights': ['distance'], 'n_neighbors': [5,7,10]}\n",
        "knn_model = KNeighborsRegressor()"
      ],
      "execution_count": 0,
      "outputs": []
    },
    {
      "cell_type": "code",
      "metadata": {
        "id": "73YGzKlSRwhX",
        "colab_type": "code",
        "outputId": "82d7d15e-2581-42b6-cda6-9cdd75aae61f",
        "colab": {
          "base_uri": "https://localhost:8080/",
          "height": 784
        }
      },
      "source": [
        "gsearch1 = GridSearchCV(estimator = knn_model, param_grid = parameters_for_testing, n_jobs=1,iid=False, verbose=10,scoring='neg_mean_absolute_error')\n",
        "gsearch1.fit(X,Y)\n",
        "\n"
      ],
      "execution_count": 8,
      "outputs": [
        {
          "output_type": "stream",
          "text": [
            "/usr/local/lib/python3.6/dist-packages/sklearn/model_selection/_split.py:1978: FutureWarning: The default value of cv will change from 3 to 5 in version 0.22. Specify it explicitly to silence this warning.\n",
            "  warnings.warn(CV_WARNING, FutureWarning)\n",
            "[Parallel(n_jobs=1)]: Using backend SequentialBackend with 1 concurrent workers.\n"
          ],
          "name": "stderr"
        },
        {
          "output_type": "stream",
          "text": [
            "Fitting 3 folds for each of 3 candidates, totalling 9 fits\n",
            "[CV] metric=manhattan, n_neighbors=5, weights=distance ...............\n",
            "[CV]  metric=manhattan, n_neighbors=5, weights=distance, score=-799997.794, total= 6.7min\n",
            "[CV] metric=manhattan, n_neighbors=5, weights=distance ...............\n"
          ],
          "name": "stdout"
        },
        {
          "output_type": "stream",
          "text": [
            "[Parallel(n_jobs=1)]: Done   1 out of   1 | elapsed:  6.7min remaining:    0.0s\n"
          ],
          "name": "stderr"
        },
        {
          "output_type": "stream",
          "text": [
            "[CV]  metric=manhattan, n_neighbors=5, weights=distance, score=-802631.732, total= 6.7min\n",
            "[CV] metric=manhattan, n_neighbors=5, weights=distance ...............\n"
          ],
          "name": "stdout"
        },
        {
          "output_type": "stream",
          "text": [
            "[Parallel(n_jobs=1)]: Done   2 out of   2 | elapsed: 13.4min remaining:    0.0s\n"
          ],
          "name": "stderr"
        },
        {
          "output_type": "stream",
          "text": [
            "[CV]  metric=manhattan, n_neighbors=5, weights=distance, score=-812428.255, total= 6.7min\n",
            "[CV] metric=manhattan, n_neighbors=7, weights=distance ...............\n"
          ],
          "name": "stdout"
        },
        {
          "output_type": "stream",
          "text": [
            "[Parallel(n_jobs=1)]: Done   3 out of   3 | elapsed: 20.1min remaining:    0.0s\n"
          ],
          "name": "stderr"
        },
        {
          "output_type": "stream",
          "text": [
            "[CV]  metric=manhattan, n_neighbors=7, weights=distance, score=-794010.440, total= 7.2min\n",
            "[CV] metric=manhattan, n_neighbors=7, weights=distance ...............\n"
          ],
          "name": "stdout"
        },
        {
          "output_type": "stream",
          "text": [
            "[Parallel(n_jobs=1)]: Done   4 out of   4 | elapsed: 27.3min remaining:    0.0s\n"
          ],
          "name": "stderr"
        },
        {
          "output_type": "stream",
          "text": [
            "[CV]  metric=manhattan, n_neighbors=7, weights=distance, score=-801213.843, total= 7.2min\n",
            "[CV] metric=manhattan, n_neighbors=7, weights=distance ...............\n"
          ],
          "name": "stdout"
        },
        {
          "output_type": "stream",
          "text": [
            "[Parallel(n_jobs=1)]: Done   5 out of   5 | elapsed: 34.5min remaining:    0.0s\n"
          ],
          "name": "stderr"
        },
        {
          "output_type": "stream",
          "text": [
            "[CV]  metric=manhattan, n_neighbors=7, weights=distance, score=-807805.606, total= 7.1min\n",
            "[CV] metric=manhattan, n_neighbors=10, weights=distance ..............\n"
          ],
          "name": "stdout"
        },
        {
          "output_type": "stream",
          "text": [
            "[Parallel(n_jobs=1)]: Done   6 out of   6 | elapsed: 41.6min remaining:    0.0s\n"
          ],
          "name": "stderr"
        },
        {
          "output_type": "stream",
          "text": [
            "[CV]  metric=manhattan, n_neighbors=10, weights=distance, score=-797771.531, total= 7.6min\n",
            "[CV] metric=manhattan, n_neighbors=10, weights=distance ..............\n"
          ],
          "name": "stdout"
        },
        {
          "output_type": "stream",
          "text": [
            "[Parallel(n_jobs=1)]: Done   7 out of   7 | elapsed: 49.2min remaining:    0.0s\n"
          ],
          "name": "stderr"
        },
        {
          "output_type": "stream",
          "text": [
            "[CV]  metric=manhattan, n_neighbors=10, weights=distance, score=-803353.909, total= 7.6min\n",
            "[CV] metric=manhattan, n_neighbors=10, weights=distance ..............\n"
          ],
          "name": "stdout"
        },
        {
          "output_type": "stream",
          "text": [
            "[Parallel(n_jobs=1)]: Done   8 out of   8 | elapsed: 56.9min remaining:    0.0s\n"
          ],
          "name": "stderr"
        },
        {
          "output_type": "stream",
          "text": [
            "[CV]  metric=manhattan, n_neighbors=10, weights=distance, score=-809476.839, total= 7.6min\n"
          ],
          "name": "stdout"
        },
        {
          "output_type": "stream",
          "text": [
            "[Parallel(n_jobs=1)]: Done   9 out of   9 | elapsed: 64.4min remaining:    0.0s\n",
            "[Parallel(n_jobs=1)]: Done   9 out of   9 | elapsed: 64.4min finished\n"
          ],
          "name": "stderr"
        },
        {
          "output_type": "execute_result",
          "data": {
            "text/plain": [
              "GridSearchCV(cv='warn', error_score='raise-deprecating',\n",
              "             estimator=KNeighborsRegressor(algorithm='auto', leaf_size=30,\n",
              "                                           metric='minkowski',\n",
              "                                           metric_params=None, n_jobs=None,\n",
              "                                           n_neighbors=5, p=2,\n",
              "                                           weights='uniform'),\n",
              "             iid=False, n_jobs=1,\n",
              "             param_grid={'metric': ['manhattan'], 'n_neighbors': [5, 7, 10],\n",
              "                         'weights': ['distance']},\n",
              "             pre_dispatch='2*n_jobs', refit=True, return_train_score=False,\n",
              "             scoring='neg_mean_absolute_error', verbose=10)"
            ]
          },
          "metadata": {
            "tags": []
          },
          "execution_count": 8
        }
      ]
    },
    {
      "cell_type": "code",
      "metadata": {
        "id": "lx6SFNwjVOyM",
        "colab_type": "code",
        "colab": {
          "base_uri": "https://localhost:8080/",
          "height": 86
        },
        "outputId": "6c8a6039-7210-43b7-8529-17dfe7a7c11b"
      },
      "source": [
        "print('best params')\n",
        "print (gsearch1.best_params_)\n",
        "print('best score')\n",
        "print (-gsearch1.best_score_)"
      ],
      "execution_count": 9,
      "outputs": [
        {
          "output_type": "stream",
          "text": [
            "best params\n",
            "{'metric': 'manhattan', 'n_neighbors': 7, 'weights': 'distance'}\n",
            "best score\n",
            "801009.9628524253\n"
          ],
          "name": "stdout"
        }
      ]
    },
    {
      "cell_type": "markdown",
      "metadata": {
        "id": "EMIKhlAfcOCg",
        "colab_type": "text"
      },
      "source": [
        "# Pruebo RandomizedSearch"
      ]
    },
    {
      "cell_type": "code",
      "metadata": {
        "id": "XK2hCBr2WQyh",
        "colab_type": "code",
        "colab": {
          "base_uri": "https://localhost:8080/",
          "height": 312
        },
        "outputId": "2791a44e-e011-4e3f-9ce0-481fc30a0b9b"
      },
      "source": [
        "from sklearn.model_selection import RandomizedSearchCV\n",
        "parameters_for_testing = {'metric': ['euclidean', 'manhattan', 'chebyshev', 'minkowski'], \\\n",
        "                          'weights': ['uniform', 'distance'], 'n_neighbors': list(range(2,20)), 'n_jobs': [-1]}\n",
        "\n",
        "n_iter_search = 20\n",
        "random_search = RandomizedSearchCV(knn_model, param_distributions=parameters_for_testing, n_iter=n_iter_search, cv=5, iid=False, scoring='neg_mean_absolute_error')\n",
        "random_search.fit(X,Y)"
      ],
      "execution_count": 17,
      "outputs": [
        {
          "output_type": "execute_result",
          "data": {
            "text/plain": [
              "RandomizedSearchCV(cv=5, error_score='raise-deprecating',\n",
              "                   estimator=KNeighborsRegressor(algorithm='auto', leaf_size=30,\n",
              "                                                 metric='minkowski',\n",
              "                                                 metric_params=None,\n",
              "                                                 n_jobs=None, n_neighbors=5,\n",
              "                                                 p=2, weights='uniform'),\n",
              "                   iid=False, n_iter=20, n_jobs=None,\n",
              "                   param_distributions={'metric': ['euclidean', 'manhattan',\n",
              "                                                   'chebyshev', 'minkowski'],\n",
              "                                        'n_jobs': [-1],\n",
              "                                        'n_neighbors': [2, 3, 4, 5, 6, 7, 8, 9,\n",
              "                                                        10, 11, 12, 13, 14, 15,\n",
              "                                                        16, 17, 18, 19],\n",
              "                                        'weights': ['uniform', 'distance']},\n",
              "                   pre_dispatch='2*n_jobs', random_state=None, refit=True,\n",
              "                   return_train_score=False, scoring='neg_mean_absolute_error',\n",
              "                   verbose=0)"
            ]
          },
          "metadata": {
            "tags": []
          },
          "execution_count": 17
        }
      ]
    },
    {
      "cell_type": "code",
      "metadata": {
        "id": "3jgVz8_KcNEc",
        "colab_type": "code",
        "colab": {
          "base_uri": "https://localhost:8080/",
          "height": 86
        },
        "outputId": "cfd768bc-bc85-4024-8918-c5d518807c86"
      },
      "source": [
        "print('best params')\n",
        "print (random_search.best_params_)\n",
        "print('best score')\n",
        "print (-random_search.best_score_)"
      ],
      "execution_count": 18,
      "outputs": [
        {
          "output_type": "stream",
          "text": [
            "best params\n",
            "{'weights': 'distance', 'n_neighbors': 12, 'n_jobs': -1, 'metric': 'manhattan'}\n",
            "best score\n",
            "792503.4736541035\n"
          ],
          "name": "stdout"
        }
      ]
    },
    {
      "cell_type": "code",
      "metadata": {
        "id": "9wmh40wye-c_",
        "colab_type": "code",
        "colab": {}
      },
      "source": [
        ""
      ],
      "execution_count": 0,
      "outputs": []
    }
  ]
}