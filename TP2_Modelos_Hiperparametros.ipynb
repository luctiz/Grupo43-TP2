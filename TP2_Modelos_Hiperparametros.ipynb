{
  "nbformat": 4,
  "nbformat_minor": 0,
  "metadata": {
    "kernelspec": {
      "name": "python3",
      "display_name": "Python 3"
    },
    "language_info": {
      "codemirror_mode": {
        "name": "ipython",
        "version": 3
      },
      "file_extension": ".py",
      "mimetype": "text/x-python",
      "name": "python",
      "nbconvert_exporter": "python",
      "pygments_lexer": "ipython3",
      "version": "3.6.8"
    },
    "colab": {
      "name": "TP2_Modelos_Hiperparametros.ipynb",
      "provenance": [],
      "collapsed_sections": [],
      "machine_shape": "hm",
      "include_colab_link": true
    },
    "accelerator": "TPU"
  },
  "cells": [
    {
      "cell_type": "markdown",
      "metadata": {
        "id": "view-in-github",
        "colab_type": "text"
      },
      "source": [
        "<a href=\"https://colab.research.google.com/github/luctiz/Grupo43-TP2/blob/master/TP2_Modelos_Hiperparametros.ipynb\" target=\"_parent\"><img src=\"https://colab.research.google.com/assets/colab-badge.svg\" alt=\"Open In Colab\"/></a>"
      ]
    },
    {
      "cell_type": "code",
      "metadata": {
        "id": "Khdk1NWAIcZx",
        "colab_type": "code",
        "colab": {}
      },
      "source": [
        "import pandas as pd\n",
        "from datetime import datetime\n",
        "import numpy as np\n",
        "import matplotlib.pyplot as plt\n",
        "import seaborn as sns"
      ],
      "execution_count": 0,
      "outputs": []
    },
    {
      "cell_type": "code",
      "metadata": {
        "id": "PAK-gsBkRR60",
        "colab_type": "code",
        "outputId": "e5216420-5c9e-42f2-a0e4-dacd0cc1abd2",
        "colab": {
          "base_uri": "https://localhost:8080/",
          "height": 34
        }
      },
      "source": [
        "from google.colab import drive\n",
        "drive.mount('/content/drive')\n"
      ],
      "execution_count": 2,
      "outputs": [
        {
          "output_type": "stream",
          "text": [
            "Drive already mounted at /content/drive; to attempt to forcibly remount, call drive.mount(\"/content/drive\", force_remount=True).\n"
          ],
          "name": "stdout"
        }
      ]
    },
    {
      "cell_type": "code",
      "metadata": {
        "id": "dqez4V1nIcZ-",
        "colab_type": "code",
        "colab": {}
      },
      "source": [
        "#Modelos\n",
        "from sklearn.neighbors import KNeighborsRegressor\n",
        "from sklearn.linear_model import LinearRegression\n",
        "from sklearn.tree import DecisionTreeRegressor\n",
        "import xgboost as xgb\n",
        "#Ensambles\n",
        "from sklearn.ensemble  import RandomForestRegressor, GradientBoostingRegressor, VotingRegressor, AdaBoostRegressor\n",
        "#Búsqueda de hiper-parámetros\n",
        "from sklearn.model_selection import GridSearchCV, RandomizedSearchCV\n"
      ],
      "execution_count": 0,
      "outputs": []
    },
    {
      "cell_type": "code",
      "metadata": {
        "id": "350rFCExIcaI",
        "colab_type": "code",
        "colab": {}
      },
      "source": [
        "#Cargo los features\n",
        "features = pd.read_csv(\"../content/drive/My Drive/data/features_train.csv\")\n",
        "#features_test = pd.read_csv(\"../content/drive/My Drive/data/features_test.csv\")"
      ],
      "execution_count": 0,
      "outputs": []
    },
    {
      "cell_type": "code",
      "metadata": {
        "id": "jRmAOa_iU1lt",
        "colab_type": "code",
        "colab": {}
      },
      "source": [
        "Y = pd.read_csv(\"../content/drive/My Drive/data/train.csv\", usecols=['precio'])['precio']"
      ],
      "execution_count": 0,
      "outputs": []
    },
    {
      "cell_type": "code",
      "metadata": {
        "id": "ca_v7K8OC8lk",
        "colab_type": "code",
        "colab": {}
      },
      "source": [
        "X = features.iloc[:,:16] .join(features.iloc[:,16:].astype(np.int8))\n",
        "del features"
      ],
      "execution_count": 0,
      "outputs": []
    },
    {
      "cell_type": "markdown",
      "metadata": {
        "id": "tzgMZa6HUrRT",
        "colab_type": "text"
      },
      "source": [
        "# Pruebo GridSearch"
      ]
    },
    {
      "cell_type": "markdown",
      "metadata": {
        "id": "-bJNEGYfIcaO",
        "colab_type": "text"
      },
      "source": [
        "## (1) Modelo KNN"
      ]
    },
    {
      "cell_type": "markdown",
      "metadata": {
        "id": "0zNRbzyE5exq",
        "colab_type": "text"
      },
      "source": [
        "**Distancia Manhattan**"
      ]
    },
    {
      "cell_type": "code",
      "metadata": {
        "id": "8BG49lMoIcaR",
        "colab_type": "code",
        "colab": {}
      },
      "source": [
        "parameters_for_testing = {'metric': [ 'manhattan'], \\\n",
        "                          'weights': ['distance'], 'n_neighbors': [5,7,10]}\n",
        "knn_model = KNeighborsRegressor()"
      ],
      "execution_count": 0,
      "outputs": []
    },
    {
      "cell_type": "code",
      "metadata": {
        "id": "73YGzKlSRwhX",
        "colab_type": "code",
        "outputId": "82d7d15e-2581-42b6-cda6-9cdd75aae61f",
        "colab": {
          "base_uri": "https://localhost:8080/",
          "height": 784
        }
      },
      "source": [
        "gsearch1 = GridSearchCV(estimator = knn_model, param_grid = parameters_for_testing, n_jobs=1,iid=False, verbose=10,scoring='neg_mean_absolute_error')\n",
        "gsearch1.fit(X,Y)\n",
        "\n"
      ],
      "execution_count": 0,
      "outputs": [
        {
          "output_type": "stream",
          "text": [
            "/usr/local/lib/python3.6/dist-packages/sklearn/model_selection/_split.py:1978: FutureWarning: The default value of cv will change from 3 to 5 in version 0.22. Specify it explicitly to silence this warning.\n",
            "  warnings.warn(CV_WARNING, FutureWarning)\n",
            "[Parallel(n_jobs=1)]: Using backend SequentialBackend with 1 concurrent workers.\n"
          ],
          "name": "stderr"
        },
        {
          "output_type": "stream",
          "text": [
            "Fitting 3 folds for each of 3 candidates, totalling 9 fits\n",
            "[CV] metric=manhattan, n_neighbors=5, weights=distance ...............\n",
            "[CV]  metric=manhattan, n_neighbors=5, weights=distance, score=-799997.794, total= 6.7min\n",
            "[CV] metric=manhattan, n_neighbors=5, weights=distance ...............\n"
          ],
          "name": "stdout"
        },
        {
          "output_type": "stream",
          "text": [
            "[Parallel(n_jobs=1)]: Done   1 out of   1 | elapsed:  6.7min remaining:    0.0s\n"
          ],
          "name": "stderr"
        },
        {
          "output_type": "stream",
          "text": [
            "[CV]  metric=manhattan, n_neighbors=5, weights=distance, score=-802631.732, total= 6.7min\n",
            "[CV] metric=manhattan, n_neighbors=5, weights=distance ...............\n"
          ],
          "name": "stdout"
        },
        {
          "output_type": "stream",
          "text": [
            "[Parallel(n_jobs=1)]: Done   2 out of   2 | elapsed: 13.4min remaining:    0.0s\n"
          ],
          "name": "stderr"
        },
        {
          "output_type": "stream",
          "text": [
            "[CV]  metric=manhattan, n_neighbors=5, weights=distance, score=-812428.255, total= 6.7min\n",
            "[CV] metric=manhattan, n_neighbors=7, weights=distance ...............\n"
          ],
          "name": "stdout"
        },
        {
          "output_type": "stream",
          "text": [
            "[Parallel(n_jobs=1)]: Done   3 out of   3 | elapsed: 20.1min remaining:    0.0s\n"
          ],
          "name": "stderr"
        },
        {
          "output_type": "stream",
          "text": [
            "[CV]  metric=manhattan, n_neighbors=7, weights=distance, score=-794010.440, total= 7.2min\n",
            "[CV] metric=manhattan, n_neighbors=7, weights=distance ...............\n"
          ],
          "name": "stdout"
        },
        {
          "output_type": "stream",
          "text": [
            "[Parallel(n_jobs=1)]: Done   4 out of   4 | elapsed: 27.3min remaining:    0.0s\n"
          ],
          "name": "stderr"
        },
        {
          "output_type": "stream",
          "text": [
            "[CV]  metric=manhattan, n_neighbors=7, weights=distance, score=-801213.843, total= 7.2min\n",
            "[CV] metric=manhattan, n_neighbors=7, weights=distance ...............\n"
          ],
          "name": "stdout"
        },
        {
          "output_type": "stream",
          "text": [
            "[Parallel(n_jobs=1)]: Done   5 out of   5 | elapsed: 34.5min remaining:    0.0s\n"
          ],
          "name": "stderr"
        },
        {
          "output_type": "stream",
          "text": [
            "[CV]  metric=manhattan, n_neighbors=7, weights=distance, score=-807805.606, total= 7.1min\n",
            "[CV] metric=manhattan, n_neighbors=10, weights=distance ..............\n"
          ],
          "name": "stdout"
        },
        {
          "output_type": "stream",
          "text": [
            "[Parallel(n_jobs=1)]: Done   6 out of   6 | elapsed: 41.6min remaining:    0.0s\n"
          ],
          "name": "stderr"
        },
        {
          "output_type": "stream",
          "text": [
            "[CV]  metric=manhattan, n_neighbors=10, weights=distance, score=-797771.531, total= 7.6min\n",
            "[CV] metric=manhattan, n_neighbors=10, weights=distance ..............\n"
          ],
          "name": "stdout"
        },
        {
          "output_type": "stream",
          "text": [
            "[Parallel(n_jobs=1)]: Done   7 out of   7 | elapsed: 49.2min remaining:    0.0s\n"
          ],
          "name": "stderr"
        },
        {
          "output_type": "stream",
          "text": [
            "[CV]  metric=manhattan, n_neighbors=10, weights=distance, score=-803353.909, total= 7.6min\n",
            "[CV] metric=manhattan, n_neighbors=10, weights=distance ..............\n"
          ],
          "name": "stdout"
        },
        {
          "output_type": "stream",
          "text": [
            "[Parallel(n_jobs=1)]: Done   8 out of   8 | elapsed: 56.9min remaining:    0.0s\n"
          ],
          "name": "stderr"
        },
        {
          "output_type": "stream",
          "text": [
            "[CV]  metric=manhattan, n_neighbors=10, weights=distance, score=-809476.839, total= 7.6min\n"
          ],
          "name": "stdout"
        },
        {
          "output_type": "stream",
          "text": [
            "[Parallel(n_jobs=1)]: Done   9 out of   9 | elapsed: 64.4min remaining:    0.0s\n",
            "[Parallel(n_jobs=1)]: Done   9 out of   9 | elapsed: 64.4min finished\n"
          ],
          "name": "stderr"
        },
        {
          "output_type": "execute_result",
          "data": {
            "text/plain": [
              "GridSearchCV(cv='warn', error_score='raise-deprecating',\n",
              "             estimator=KNeighborsRegressor(algorithm='auto', leaf_size=30,\n",
              "                                           metric='minkowski',\n",
              "                                           metric_params=None, n_jobs=None,\n",
              "                                           n_neighbors=5, p=2,\n",
              "                                           weights='uniform'),\n",
              "             iid=False, n_jobs=1,\n",
              "             param_grid={'metric': ['manhattan'], 'n_neighbors': [5, 7, 10],\n",
              "                         'weights': ['distance']},\n",
              "             pre_dispatch='2*n_jobs', refit=True, return_train_score=False,\n",
              "             scoring='neg_mean_absolute_error', verbose=10)"
            ]
          },
          "metadata": {
            "tags": []
          },
          "execution_count": 8
        }
      ]
    },
    {
      "cell_type": "code",
      "metadata": {
        "id": "lx6SFNwjVOyM",
        "colab_type": "code",
        "outputId": "6c8a6039-7210-43b7-8529-17dfe7a7c11b",
        "colab": {
          "base_uri": "https://localhost:8080/",
          "height": 86
        }
      },
      "source": [
        "print('best params')\n",
        "print (gsearch1.best_params_)\n",
        "print('best score')\n",
        "print (-gsearch1.best_score_)"
      ],
      "execution_count": 0,
      "outputs": [
        {
          "output_type": "stream",
          "text": [
            "best params\n",
            "{'metric': 'manhattan', 'n_neighbors': 7, 'weights': 'distance'}\n",
            "best score\n",
            "801009.9628524253\n"
          ],
          "name": "stdout"
        }
      ]
    },
    {
      "cell_type": "markdown",
      "metadata": {
        "id": "aqWqxoAp-W7v",
        "colab_type": "text"
      },
      "source": [
        "**Como gridSearch tarda demasiado utilizo randomized Search**"
      ]
    },
    {
      "cell_type": "markdown",
      "metadata": {
        "id": "EMIKhlAfcOCg",
        "colab_type": "text"
      },
      "source": [
        "# Pruebo RandomizedSearch"
      ]
    },
    {
      "cell_type": "markdown",
      "metadata": {
        "id": "260X7_2ocD1M",
        "colab_type": "text"
      },
      "source": [
        "## KNN Regressor"
      ]
    },
    {
      "cell_type": "code",
      "metadata": {
        "id": "XK2hCBr2WQyh",
        "colab_type": "code",
        "outputId": "2791a44e-e011-4e3f-9ce0-481fc30a0b9b",
        "colab": {
          "base_uri": "https://localhost:8080/",
          "height": 312
        }
      },
      "source": [
        "from sklearn.model_selection import RandomizedSearchCV\n",
        "parameters_for_testing = {'metric': ['euclidean', 'manhattan', 'chebyshev', 'minkowski'], \\\n",
        "                          'weights': ['uniform', 'distance'], 'n_neighbors': list(range(2,20)), 'n_jobs': [-1]}\n",
        "\n",
        "n_iter_search = 20\n",
        "random_search = RandomizedSearchCV(knn_model, param_distributions=parameters_for_testing, n_iter=n_iter_search, cv=5, iid=False, scoring='neg_mean_absolute_error')\n",
        "random_search.fit(X,Y)"
      ],
      "execution_count": 0,
      "outputs": [
        {
          "output_type": "execute_result",
          "data": {
            "text/plain": [
              "RandomizedSearchCV(cv=5, error_score='raise-deprecating',\n",
              "                   estimator=KNeighborsRegressor(algorithm='auto', leaf_size=30,\n",
              "                                                 metric='minkowski',\n",
              "                                                 metric_params=None,\n",
              "                                                 n_jobs=None, n_neighbors=5,\n",
              "                                                 p=2, weights='uniform'),\n",
              "                   iid=False, n_iter=20, n_jobs=None,\n",
              "                   param_distributions={'metric': ['euclidean', 'manhattan',\n",
              "                                                   'chebyshev', 'minkowski'],\n",
              "                                        'n_jobs': [-1],\n",
              "                                        'n_neighbors': [2, 3, 4, 5, 6, 7, 8, 9,\n",
              "                                                        10, 11, 12, 13, 14, 15,\n",
              "                                                        16, 17, 18, 19],\n",
              "                                        'weights': ['uniform', 'distance']},\n",
              "                   pre_dispatch='2*n_jobs', random_state=None, refit=True,\n",
              "                   return_train_score=False, scoring='neg_mean_absolute_error',\n",
              "                   verbose=0)"
            ]
          },
          "metadata": {
            "tags": []
          },
          "execution_count": 17
        }
      ]
    },
    {
      "cell_type": "code",
      "metadata": {
        "id": "3jgVz8_KcNEc",
        "colab_type": "code",
        "outputId": "cfd768bc-bc85-4024-8918-c5d518807c86",
        "colab": {
          "base_uri": "https://localhost:8080/",
          "height": 86
        }
      },
      "source": [
        "print('best params')\n",
        "print (random_search.best_params_)\n",
        "print('best score')\n",
        "print (-random_search.best_score_)"
      ],
      "execution_count": 0,
      "outputs": [
        {
          "output_type": "stream",
          "text": [
            "best params\n",
            "{'weights': 'distance', 'n_neighbors': 12, 'n_jobs': -1, 'metric': 'manhattan'}\n",
            "best score\n",
            "792503.4736541035\n"
          ],
          "name": "stdout"
        }
      ]
    },
    {
      "cell_type": "markdown",
      "metadata": {
        "id": "jXKjDmAPcKTe",
        "colab_type": "text"
      },
      "source": [
        "## Gradient Boosting Regressor"
      ]
    },
    {
      "cell_type": "code",
      "metadata": {
        "id": "XgLNw_y2_VO3",
        "colab_type": "code",
        "colab": {}
      },
      "source": [
        "gbr_model = GradientBoostingRegressor()"
      ],
      "execution_count": 0,
      "outputs": []
    },
    {
      "cell_type": "code",
      "metadata": {
        "id": "9wmh40wye-c_",
        "colab_type": "code",
        "colab": {
          "base_uri": "https://localhost:8080/",
          "height": 451
        },
        "outputId": "08de8fed-0015-413f-93e9-e31e021c5566"
      },
      "source": [
        "parameters_for_testing = {'learning_rate': [1, 0.5, 0.25, 0.1, 0.05, 0.01], 'n_estimators': [1, 2, 4, 8, 16, 32, 64, 100, 200],\\\n",
        "                          'max_depth': np.linspace(1, 32, 32, endpoint=True), 'min_samples_split': np.linspace(0.1, 1.0, 10, endpoint=True),\\\n",
        "                          'max_features': list(range(1,X.shape[1])), 'min_samples_leaf': np.linspace(0.1, 0.5, 5, endpoint=True)}\n",
        "\n",
        "n_iter_search = 20\n",
        "random_search = RandomizedSearchCV(gbr_model, param_distributions=parameters_for_testing, n_iter=n_iter_search, cv=3, iid=False, scoring='neg_mean_absolute_error', n_jobs = 2)\n",
        "random_search.fit(X,Y)"
      ],
      "execution_count": 8,
      "outputs": [
        {
          "output_type": "execute_result",
          "data": {
            "text/plain": [
              "RandomizedSearchCV(cv=3, error_score='raise-deprecating',\n",
              "                   estimator=GradientBoostingRegressor(alpha=0.9,\n",
              "                                                       criterion='friedman_mse',\n",
              "                                                       init=None,\n",
              "                                                       learning_rate=0.1,\n",
              "                                                       loss='ls', max_depth=3,\n",
              "                                                       max_features=None,\n",
              "                                                       max_leaf_nodes=None,\n",
              "                                                       min_impurity_decrease=0.0,\n",
              "                                                       min_impurity_split=None,\n",
              "                                                       min_samples_leaf=1,\n",
              "                                                       min_samples_split=2,\n",
              "                                                       min_weight_fraction_leaf=0.0,\n",
              "                                                       n_estimators=100,...\n",
              "                                                         9, 10, 11, 12, 13, 14,\n",
              "                                                         15, 16, 17, 18, 19, 20,\n",
              "                                                         21, 22, 23, 24, 25, 26,\n",
              "                                                         27, 28, 29, 30, ...],\n",
              "                                        'min_samples_leaf': array([0.1, 0.2, 0.3, 0.4, 0.5]),\n",
              "                                        'min_samples_split': array([0.1, 0.2, 0.3, 0.4, 0.5, 0.6, 0.7, 0.8, 0.9, 1. ]),\n",
              "                                        'n_estimators': [1, 2, 4, 8, 16, 32, 64,\n",
              "                                                         100, 200]},\n",
              "                   pre_dispatch='2*n_jobs', random_state=None, refit=True,\n",
              "                   return_train_score=False, scoring='neg_mean_absolute_error',\n",
              "                   verbose=0)"
            ]
          },
          "metadata": {
            "tags": []
          },
          "execution_count": 8
        }
      ]
    },
    {
      "cell_type": "code",
      "metadata": {
        "id": "3k50Bx82tPz4",
        "colab_type": "code",
        "colab": {
          "base_uri": "https://localhost:8080/",
          "height": 86
        },
        "outputId": "6df3ca60-d99f-4b49-b83b-89a820729553"
      },
      "source": [
        "print('best params')\n",
        "print (random_search.best_params_)\n",
        "print('best score')\n",
        "print (-random_search.best_score_)"
      ],
      "execution_count": 9,
      "outputs": [
        {
          "output_type": "stream",
          "text": [
            "best params\n",
            "{'n_estimators': 64, 'min_samples_split': 0.1, 'min_samples_leaf': 0.1, 'max_features': 222, 'max_depth': 7.0, 'learning_rate': 0.25}\n",
            "best score\n",
            "857630.7109325379\n"
          ],
          "name": "stdout"
        }
      ]
    },
    {
      "cell_type": "markdown",
      "metadata": {
        "id": "BfH-pX-iGJrV",
        "colab_type": "text"
      },
      "source": [
        "## XGBoost Regressor"
      ]
    },
    {
      "cell_type": "code",
      "metadata": {
        "id": "HsFZymZBBMH4",
        "colab_type": "code",
        "colab": {}
      },
      "source": [
        " xgb_model = xgb.XGBRegressor()"
      ],
      "execution_count": 0,
      "outputs": []
    },
    {
      "cell_type": "code",
      "metadata": {
        "id": "y_vPh8fPERvX",
        "colab_type": "code",
        "colab": {
          "base_uri": "https://localhost:8080/",
          "height": 593
        },
        "outputId": "0cf52757-47c7-4828-d115-6b3c1d60372c"
      },
      "source": [
        "parameters_for_testing = {'learning_rate': [1, 0.5, 0.25, 0.1, 0.05, 0.01], 'n_estimators': [1, 2, 4, 8, 16, 32, 64, 100, 200],\\\n",
        "                          'max_depth': list(range(5,10)), 'min_child_weight':range(1,6,2), 'gamma':[i/10.0 for i in range(0,5)],\\\n",
        "                          'max_features': list(range(1,X.shape[1])), 'subsample':[i/10.0 for i in range(6,10)], \\\n",
        "                          'colsample_bytree':[i/10.0 for i in range(6,10)], 'reg_alpha':[1e-5, 1e-2, 0.1, 1, 100]}\n",
        "\n",
        "n_iter_search = 20\n",
        "random_search = RandomizedSearchCV(xgb_model, param_distributions=parameters_for_testing, n_iter=n_iter_search, cv=3, iid=False, scoring='neg_mean_absolute_error', n_jobs = 2)\n",
        "random_search.fit(X,Y)"
      ],
      "execution_count": 12,
      "outputs": [
        {
          "output_type": "stream",
          "text": [
            "/usr/local/lib/python3.6/dist-packages/joblib/externals/loky/process_executor.py:706: UserWarning: A worker stopped while some jobs were given to the executor. This can be caused by a too short worker timeout or by a memory leak.\n",
            "  \"timeout or by a memory leak.\", UserWarning\n",
            "/usr/local/lib/python3.6/dist-packages/xgboost/core.py:587: FutureWarning: Series.base is deprecated and will be removed in a future version\n",
            "  if getattr(data, 'base', None) is not None and \\\n",
            "/usr/local/lib/python3.6/dist-packages/xgboost/core.py:588: FutureWarning: Series.base is deprecated and will be removed in a future version\n",
            "  data.base is not None and isinstance(data, np.ndarray) \\\n"
          ],
          "name": "stderr"
        },
        {
          "output_type": "stream",
          "text": [
            "[22:40:06] WARNING: /workspace/src/objective/regression_obj.cu:152: reg:linear is now deprecated in favor of reg:squarederror.\n"
          ],
          "name": "stdout"
        },
        {
          "output_type": "execute_result",
          "data": {
            "text/plain": [
              "RandomizedSearchCV(cv=3, error_score='raise-deprecating',\n",
              "                   estimator=XGBRegressor(base_score=0.5, booster='gbtree',\n",
              "                                          colsample_bylevel=1,\n",
              "                                          colsample_bynode=1,\n",
              "                                          colsample_bytree=1, gamma=0,\n",
              "                                          importance_type='gain',\n",
              "                                          learning_rate=0.1, max_delta_step=0,\n",
              "                                          max_depth=3, min_child_weight=1,\n",
              "                                          missing=None, n_estimators=100,\n",
              "                                          n_jobs=1, nthread=None,\n",
              "                                          objective='reg:linear',\n",
              "                                          random_st...\n",
              "                                        'max_features': [1, 2, 3, 4, 5, 6, 7, 8,\n",
              "                                                         9, 10, 11, 12, 13, 14,\n",
              "                                                         15, 16, 17, 18, 19, 20,\n",
              "                                                         21, 22, 23, 24, 25, 26,\n",
              "                                                         27, 28, 29, 30, ...],\n",
              "                                        'min_child_weight': range(1, 6, 2),\n",
              "                                        'n_estimators': [1, 2, 4, 8, 16, 32, 64,\n",
              "                                                         100, 200],\n",
              "                                        'reg_alpha': [1e-05, 0.01, 0.1, 1, 100],\n",
              "                                        'subsample': [0.6, 0.7, 0.8, 0.9]},\n",
              "                   pre_dispatch='2*n_jobs', random_state=None, refit=True,\n",
              "                   return_train_score=False, scoring='neg_mean_absolute_error',\n",
              "                   verbose=0)"
            ]
          },
          "metadata": {
            "tags": []
          },
          "execution_count": 12
        }
      ]
    },
    {
      "cell_type": "code",
      "metadata": {
        "id": "E6Ht1JuQno9m",
        "colab_type": "code",
        "colab": {
          "base_uri": "https://localhost:8080/",
          "height": 106
        },
        "outputId": "6b947113-2ad6-4e26-88fc-7adf323f1310"
      },
      "source": [
        "print('best params')\n",
        "print (random_search.best_params_)\n",
        "print('best score')\n",
        "print (-random_search.best_score_)"
      ],
      "execution_count": 13,
      "outputs": [
        {
          "output_type": "stream",
          "text": [
            "best params\n",
            "{'subsample': 0.9, 'reg_alpha': 0.01, 'n_estimators': 100, 'min_child_weight': 1, 'max_features': 488, 'max_depth': 9, 'learning_rate': 0.05, 'gamma': 0.2, 'colsample_bytree': 0.7}\n",
            "best score\n",
            "596734.5304386718\n"
          ],
          "name": "stdout"
        }
      ]
    },
    {
      "cell_type": "markdown",
      "metadata": {
        "id": "gZNggKHl6i3X",
        "colab_type": "text"
      },
      "source": [
        "## Random Forest"
      ]
    },
    {
      "cell_type": "code",
      "metadata": {
        "id": "JZcv-Ddi6lB1",
        "colab_type": "code",
        "colab": {}
      },
      "source": [
        "rf_model = RandomForestRegressor(oob_score= True)"
      ],
      "execution_count": 0,
      "outputs": []
    },
    {
      "cell_type": "code",
      "metadata": {
        "id": "qmaUX97p6uTk",
        "colab_type": "code",
        "colab": {
          "base_uri": "https://localhost:8080/",
          "height": 72
        },
        "outputId": "b82bff3f-a000-47bd-f2c9-b2465b3f3023"
      },
      "source": [
        "parameters_for_testing = {'n_estimators': range(10,100,10), 'random_state': range(1,50,7), \\\n",
        "                          'max_depth': range(5,50,5), 'min_samples_split': range(5,25,5), 'min_samples_leaf': [1,2,5,10,15]}\n",
        "\n",
        "n_iter_search = 20\n",
        "random_search = RandomizedSearchCV(rf_model, param_distributions=parameters_for_testing, n_iter=n_iter_search, cv=3, iid=False, scoring='neg_mean_absolute_error', n_jobs = 2)\n",
        "random_search.fit(X,Y)"
      ],
      "execution_count": 0,
      "outputs": [
        {
          "output_type": "stream",
          "text": [
            "/usr/local/lib/python3.6/dist-packages/joblib/externals/loky/process_executor.py:706: UserWarning: A worker stopped while some jobs were given to the executor. This can be caused by a too short worker timeout or by a memory leak.\n",
            "  \"timeout or by a memory leak.\", UserWarning\n"
          ],
          "name": "stderr"
        }
      ]
    },
    {
      "cell_type": "code",
      "metadata": {
        "id": "1hLs1gD6zFDf",
        "colab_type": "code",
        "colab": {}
      },
      "source": [
        "print('best params')\n",
        "print (random_search.best_params_)\n",
        "print('best score')\n",
        "print (-random_search.best_score_)"
      ],
      "execution_count": 0,
      "outputs": []
    },
    {
      "cell_type": "code",
      "metadata": {
        "id": "uHqkBPXL8lCQ",
        "colab_type": "code",
        "colab": {}
      },
      "source": [
        ""
      ],
      "execution_count": 0,
      "outputs": []
    }
  ]
}