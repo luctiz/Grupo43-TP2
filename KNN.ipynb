{
 "cells": [
  {
   "cell_type": "code",
   "execution_count": 1,
   "metadata": {
    "colab": {},
    "colab_type": "code",
    "id": "rEJi-pWZDziy"
   },
   "outputs": [],
   "source": [
    "import pandas as pd\n",
    "from datetime import datetime, timedelta\n",
    "import numpy as np"
   ]
  },
  {
   "cell_type": "markdown",
   "metadata": {
    "colab_type": "text",
    "id": "yZ3leJw7Dzi5"
   },
   "source": [
    "# Carga y limpieza de datos\n",
    "\n",
    "## (Hecho con la info obtenida en el notebook LlenadoDeNulls)"
   ]
  },
  {
   "cell_type": "code",
   "execution_count": 2,
   "metadata": {
    "colab": {},
    "colab_type": "code",
    "id": "8MBqVQ0t-fcY"
   },
   "outputs": [],
   "source": [
    "test =  pd.read_csv('data/test_full.csv', parse_dates = ['fecha'])\n",
    "train = pd.read_csv('data/train_full.csv',parse_dates = ['fecha'])"
   ]
  },
  {
   "cell_type": "code",
   "execution_count": 3,
   "metadata": {},
   "outputs": [],
   "source": [
    "train['habitaciones']=train['habitaciones'].astype(np.int8)\n",
    "test['habitaciones']=test['habitaciones'].astype(np.int8)\n",
    "\n",
    "train['metroscubiertos']=train['metroscubiertos'].astype(np.int16)\n",
    "test['metroscubiertos']=test['metroscubiertos'].astype(np.int16)\n",
    "\n",
    "train['metrostotales']=train['metrostotales'].astype(np.int16)\n",
    "test['metrostotales']=test['metrostotales'].astype(np.int16)\n",
    "\n",
    "train['antiguedad']=train['antiguedad'].astype(np.uint8)\n",
    "test['antiguedad']=test['antiguedad'].astype(np.uint8)\n",
    "\n",
    "train['garages']=train['garages'].astype(np.int8)\n",
    "test['garages']=test['garages'].astype(np.int8)\n",
    "\n",
    "train['banos']=train['banos'].astype(np.int8)\n",
    "test['banos']=test['banos'].astype(np.int8)\n",
    "\n",
    "train['gimnasio']=train['gimnasio'].astype(np.int8)\n",
    "train['usosmultiples']=train['usosmultiples'].astype(np.int8)\n",
    "train['piscina']=train['piscina'].astype(np.int8)\n",
    "train['escuelascercanas']=train['escuelascercanas'].astype(np.int8)\n",
    "train['centroscomercialescercanos']=train['centroscomercialescercanos'].astype(np.int8)\n",
    "test['gimnasio']=test['gimnasio'].astype(np.int8)\n",
    "test['usosmultiples']=test['usosmultiples'].astype(np.int8)\n",
    "test['piscina']=test['piscina'].astype(np.int8)\n",
    "test['escuelascercanas']=test['escuelascercanas'].astype(np.int8)\n",
    "test['centroscomercialescercanos']=test['centroscomercialescercanos'].astype(np.int8)"
   ]
  },
  {
   "cell_type": "code",
   "execution_count": 4,
   "metadata": {
    "colab": {},
    "colab_type": "code",
    "id": "VO8oWaoFDzjk"
   },
   "outputs": [],
   "source": [
    "#Algunas columnas tienen nulls que no se como encararlos. Por ahora los relleno con 0\n",
    "train=train.fillna(0)\n",
    "test=test.fillna(0)"
   ]
  },
  {
   "cell_type": "markdown",
   "metadata": {},
   "source": [
    "# KNN"
   ]
  },
  {
   "cell_type": "code",
   "execution_count": 2,
   "metadata": {},
   "outputs": [],
   "source": [
    "from sklearn.neighbors import KNeighborsRegressor\n",
    "from sklearn.metrics import mean_absolute_error\n",
    "import random"
   ]
  },
  {
   "cell_type": "code",
   "execution_count": 6,
   "metadata": {
    "colab": {},
    "colab_type": "code",
    "id": "aVlTGqZTDzlm"
   },
   "outputs": [],
   "source": [
    "from sklearn import preprocessing \n",
    "def normalizar_data(df):\n",
    "    min_max_scaler = preprocessing.MinMaxScaler() \n",
    "    np_scaled = min_max_scaler.fit_transform(df)\n",
    "    return pd.DataFrame(np_scaled)"
   ]
  },
  {
   "cell_type": "code",
   "execution_count": 7,
   "metadata": {
    "colab": {},
    "colab_type": "code",
    "id": "3GemqKzdDzkf"
   },
   "outputs": [],
   "source": [
    "#Califico las fechas de acuerdo a la diferencia entre la fecha actual y la fecha mínima sobre el máximo de dias\n",
    "fecha_min = train.fecha.min()\n",
    "fecha_max = train.fecha.max()\n",
    "delta_max_days = (fecha_max - fecha_min).days\n",
    "def calificar_fecha(fecha):\n",
    "    delta = fecha - fecha_min\n",
    "    return delta.days/delta_max_days"
   ]
  },
  {
   "cell_type": "code",
   "execution_count": 3,
   "metadata": {},
   "outputs": [],
   "source": [
    "knn = KNeighborsRegressor(n_neighbors=7, metric=\"manhattan\", weights=\"distance\", algorithm=\"brute\")"
   ]
  },
  {
   "cell_type": "code",
   "execution_count": 9,
   "metadata": {
    "colab": {
     "base_uri": "https://localhost:8080/",
     "height": 151
    },
    "colab_type": "code",
    "executionInfo": {
     "elapsed": 2182,
     "status": "ok",
     "timestamp": 1574091034406,
     "user": {
      "displayName": "Luciano Ortiz",
      "photoUrl": "https://lh3.googleusercontent.com/-pyWD0HqQv8U/AAAAAAAAAAI/AAAAAAAAANk/VOXi9VxNwkA/s64/photo.jpg",
      "userId": "16854415741925197295"
     },
     "user_tz": 180
    },
    "id": "wi0CoPv5Dzkj",
    "outputId": "bf3c63b4-7a17-4f33-c966-3c8c78d11db7",
    "scrolled": true
   },
   "outputs": [
    {
     "data": {
      "text/html": [
       "<div>\n",
       "<style scoped>\n",
       "    .dataframe tbody tr th:only-of-type {\n",
       "        vertical-align: middle;\n",
       "    }\n",
       "\n",
       "    .dataframe tbody tr th {\n",
       "        vertical-align: top;\n",
       "    }\n",
       "\n",
       "    .dataframe thead th {\n",
       "        text-align: right;\n",
       "    }\n",
       "</style>\n",
       "<table border=\"1\" class=\"dataframe\">\n",
       "  <thead>\n",
       "    <tr style=\"text-align: right;\">\n",
       "      <th></th>\n",
       "      <th>id</th>\n",
       "      <th>titulo</th>\n",
       "      <th>descripcion</th>\n",
       "      <th>tipodepropiedad</th>\n",
       "      <th>direccion</th>\n",
       "      <th>ciudad</th>\n",
       "      <th>provincia</th>\n",
       "      <th>antiguedad</th>\n",
       "      <th>habitaciones</th>\n",
       "      <th>garages</th>\n",
       "      <th>...</th>\n",
       "      <th>lat</th>\n",
       "      <th>lng</th>\n",
       "      <th>fecha</th>\n",
       "      <th>gimnasio</th>\n",
       "      <th>usosmultiples</th>\n",
       "      <th>piscina</th>\n",
       "      <th>escuelascercanas</th>\n",
       "      <th>centroscomercialescercanos</th>\n",
       "      <th>precio</th>\n",
       "      <th>puntaje_por_fecha</th>\n",
       "    </tr>\n",
       "  </thead>\n",
       "  <tbody>\n",
       "    <tr>\n",
       "      <th>0</th>\n",
       "      <td>254099</td>\n",
       "      <td>depto. tipo a-402</td>\n",
       "      <td>depto. interior de 80.15m2, consta de sala com...</td>\n",
       "      <td>Apartamento</td>\n",
       "      <td>Avenida Division del Norte 2005</td>\n",
       "      <td>Benito Juárez</td>\n",
       "      <td>Distrito Federal</td>\n",
       "      <td>8</td>\n",
       "      <td>2</td>\n",
       "      <td>1</td>\n",
       "      <td>...</td>\n",
       "      <td>0.0</td>\n",
       "      <td>0.0</td>\n",
       "      <td>2015-08-23</td>\n",
       "      <td>0</td>\n",
       "      <td>0</td>\n",
       "      <td>0</td>\n",
       "      <td>0</td>\n",
       "      <td>0</td>\n",
       "      <td>2273000</td>\n",
       "      <td>0.728368</td>\n",
       "    </tr>\n",
       "  </tbody>\n",
       "</table>\n",
       "<p>1 rows × 24 columns</p>\n",
       "</div>"
      ],
      "text/plain": [
       "       id             titulo  \\\n",
       "0  254099  depto. tipo a-402   \n",
       "\n",
       "                                         descripcion tipodepropiedad  \\\n",
       "0  depto. interior de 80.15m2, consta de sala com...     Apartamento   \n",
       "\n",
       "                         direccion         ciudad         provincia  \\\n",
       "0  Avenida Division del Norte 2005  Benito Juárez  Distrito Federal   \n",
       "\n",
       "   antiguedad  habitaciones  garages        ...          lat  lng      fecha  \\\n",
       "0           8             2        1        ...          0.0  0.0 2015-08-23   \n",
       "\n",
       "   gimnasio  usosmultiples  piscina escuelascercanas  \\\n",
       "0         0              0        0                0   \n",
       "\n",
       "   centroscomercialescercanos   precio  puntaje_por_fecha  \n",
       "0                           0  2273000           0.728368  \n",
       "\n",
       "[1 rows x 24 columns]"
      ]
     },
     "execution_count": 9,
     "metadata": {},
     "output_type": "execute_result"
    }
   ],
   "source": [
    "train[\"puntaje_por_fecha\"] = train['fecha'].transform(lambda x: calificar_fecha(x))\n",
    "train.head(1)"
   ]
  },
  {
   "cell_type": "code",
   "execution_count": 22,
   "metadata": {},
   "outputs": [],
   "source": [
    "#Count encoder para tipo de propiedad\n",
    "count_tipo_prop = train.groupby(\"tipodepropiedad\").count().reset_index()\n",
    "train[\"tipo_prop_enc\"] = train[\"tipodepropiedad\"].map(lambda x: count_tipo_prop[count_tipo_prop[\"tipodepropiedad\"]==x].iloc[0][\"id\"])"
   ]
  },
  {
   "cell_type": "code",
   "execution_count": 22,
   "metadata": {},
   "outputs": [],
   "source": [
    "train[\"tipo_prop_enc\"].to_frame().to_csv(\"data/tipo_prop_enc.csv\", index=False)"
   ]
  },
  {
   "cell_type": "code",
   "execution_count": 11,
   "metadata": {},
   "outputs": [],
   "source": [
    "col_drop = [\"lat\",\"lng\",\"ciudad\",\"provincia\",\"idzona\",\"titulo\",\"descripcion\",\"id\",\"direccion\",\"tipodepropiedad\",\"fecha\"]\n",
    "train = train.drop(labels=col_drop, axis=1)"
   ]
  },
  {
   "cell_type": "code",
   "execution_count": 12,
   "metadata": {},
   "outputs": [],
   "source": [
    "precio = train[\"precio\"]\n",
    "train = train.drop(labels=\"precio\", axis=1)"
   ]
  },
  {
   "cell_type": "code",
   "execution_count": 46,
   "metadata": {},
   "outputs": [
    {
     "name": "stderr",
     "output_type": "stream",
     "text": [
      "C:\\Users\\Fernando\\Anaconda3\\lib\\site-packages\\sklearn\\preprocessing\\data.py:323: DataConversionWarning: Data with input dtype int8, uint8, int16, int64, float64 were all converted to float64 by MinMaxScaler.\n",
      "  return self.partial_fit(X, y)\n"
     ]
    }
   ],
   "source": [
    "train = normalizar_data(train)"
   ]
  },
  {
   "cell_type": "code",
   "execution_count": 13,
   "metadata": {},
   "outputs": [],
   "source": [
    "id_predic = []\n",
    "predic = []\n",
    "\n",
    "for x in range(5000):\n",
    "    i = random.randrange(0, train.shape[0])\n",
    "    knn.fit(train.drop(i), precio.drop(i))\n",
    "    id_predic.append(i)\n",
    "    predic.append(knn.predict(train.loc[[i]]))"
   ]
  },
  {
   "cell_type": "code",
   "execution_count": 14,
   "metadata": {},
   "outputs": [],
   "source": [
    "real = []\n",
    "for x in id_predic:\n",
    "    real.append(precio[x])"
   ]
  },
  {
   "cell_type": "code",
   "execution_count": 15,
   "metadata": {},
   "outputs": [
    {
     "data": {
      "text/plain": [
       "899323.1973590653"
      ]
     },
     "execution_count": 15,
     "metadata": {},
     "output_type": "execute_result"
    }
   ],
   "source": [
    "mean_absolute_error(real, predic)"
   ]
  },
  {
   "cell_type": "code",
   "execution_count": 48,
   "metadata": {},
   "outputs": [
    {
     "data": {
      "text/html": [
       "<div>\n",
       "<style scoped>\n",
       "    .dataframe tbody tr th:only-of-type {\n",
       "        vertical-align: middle;\n",
       "    }\n",
       "\n",
       "    .dataframe tbody tr th {\n",
       "        vertical-align: top;\n",
       "    }\n",
       "\n",
       "    .dataframe thead th {\n",
       "        text-align: right;\n",
       "    }\n",
       "</style>\n",
       "<table border=\"1\" class=\"dataframe\">\n",
       "  <thead>\n",
       "    <tr style=\"text-align: right;\">\n",
       "      <th></th>\n",
       "      <th>id</th>\n",
       "      <th>titulo</th>\n",
       "      <th>descripcion</th>\n",
       "      <th>tipodepropiedad</th>\n",
       "      <th>direccion</th>\n",
       "      <th>ciudad</th>\n",
       "      <th>provincia</th>\n",
       "      <th>antiguedad</th>\n",
       "      <th>habitaciones</th>\n",
       "      <th>garages</th>\n",
       "      <th>...</th>\n",
       "      <th>idzona</th>\n",
       "      <th>lat</th>\n",
       "      <th>lng</th>\n",
       "      <th>fecha</th>\n",
       "      <th>gimnasio</th>\n",
       "      <th>usosmultiples</th>\n",
       "      <th>piscina</th>\n",
       "      <th>escuelascercanas</th>\n",
       "      <th>centroscomercialescercanos</th>\n",
       "      <th>puntaje_por_fecha</th>\n",
       "    </tr>\n",
       "  </thead>\n",
       "  <tbody>\n",
       "    <tr>\n",
       "      <th>0</th>\n",
       "      <td>4941</td>\n",
       "      <td>casa en venta en miguel hidalgo, distrito federal</td>\n",
       "      <td>&lt;p&gt;excelente casa estilo moderno.&lt;/p&gt;</td>\n",
       "      <td>Casa</td>\n",
       "      <td>Bosque de Cedros</td>\n",
       "      <td>Miguel Hidalgo</td>\n",
       "      <td>Distrito Federal</td>\n",
       "      <td>29</td>\n",
       "      <td>3</td>\n",
       "      <td>2</td>\n",
       "      <td>...</td>\n",
       "      <td>0.0</td>\n",
       "      <td>19.408668</td>\n",
       "      <td>-99.246767</td>\n",
       "      <td>2013-07-20</td>\n",
       "      <td>0</td>\n",
       "      <td>0</td>\n",
       "      <td>0</td>\n",
       "      <td>0</td>\n",
       "      <td>0</td>\n",
       "      <td>0.309967</td>\n",
       "    </tr>\n",
       "  </tbody>\n",
       "</table>\n",
       "<p>1 rows × 23 columns</p>\n",
       "</div>"
      ],
      "text/plain": [
       "     id                                             titulo  \\\n",
       "0  4941  casa en venta en miguel hidalgo, distrito federal   \n",
       "\n",
       "                             descripcion tipodepropiedad          direccion  \\\n",
       "0  <p>excelente casa estilo moderno.</p>            Casa  Bosque de Cedros    \n",
       "\n",
       "           ciudad         provincia  antiguedad  habitaciones  garages  \\\n",
       "0  Miguel Hidalgo  Distrito Federal          29             3        2   \n",
       "\n",
       "         ...          idzona        lat        lng      fecha  gimnasio  \\\n",
       "0        ...             0.0  19.408668 -99.246767 2013-07-20         0   \n",
       "\n",
       "   usosmultiples piscina  escuelascercanas  centroscomercialescercanos  \\\n",
       "0              0       0                 0                           0   \n",
       "\n",
       "   puntaje_por_fecha  \n",
       "0           0.309967  \n",
       "\n",
       "[1 rows x 23 columns]"
      ]
     },
     "execution_count": 48,
     "metadata": {},
     "output_type": "execute_result"
    }
   ],
   "source": [
    "test[\"puntaje_por_fecha\"] = test['fecha'].transform(lambda x: calificar_fecha(x))\n",
    "test.head(1)"
   ]
  },
  {
   "cell_type": "code",
   "execution_count": 49,
   "metadata": {},
   "outputs": [],
   "source": [
    "#Count encoding para tipo de propiedad\n",
    "test[\"tipo_prop_enc\"] = test[\"tipodepropiedad\"].map(lambda x: count_tipo_prop[count_tipo_prop[\"tipodepropiedad\"]==x].iloc[0][\"id\"]) "
   ]
  },
  {
   "cell_type": "code",
   "execution_count": 50,
   "metadata": {},
   "outputs": [],
   "source": [
    "test_id = test[\"id\"]"
   ]
  },
  {
   "cell_type": "code",
   "execution_count": 51,
   "metadata": {},
   "outputs": [],
   "source": [
    "test = test.drop(labels=col_drop, axis=1)"
   ]
  },
  {
   "cell_type": "code",
   "execution_count": 52,
   "metadata": {},
   "outputs": [
    {
     "name": "stderr",
     "output_type": "stream",
     "text": [
      "C:\\Users\\Fernando\\Anaconda3\\lib\\site-packages\\sklearn\\preprocessing\\data.py:323: DataConversionWarning: Data with input dtype int8, uint8, int16, int64, float64 were all converted to float64 by MinMaxScaler.\n",
      "  return self.partial_fit(X, y)\n"
     ]
    }
   ],
   "source": [
    "test = normalizar_data(test)"
   ]
  },
  {
   "cell_type": "code",
   "execution_count": 53,
   "metadata": {},
   "outputs": [
    {
     "data": {
      "text/plain": [
       "KNeighborsRegressor(algorithm='brute', leaf_size=30, metric='manhattan',\n",
       "          metric_params=None, n_jobs=None, n_neighbors=7, p=2,\n",
       "          weights='distance')"
      ]
     },
     "execution_count": 53,
     "metadata": {},
     "output_type": "execute_result"
    }
   ],
   "source": [
    "knn.fit(train, precio)"
   ]
  },
  {
   "cell_type": "code",
   "execution_count": 54,
   "metadata": {},
   "outputs": [],
   "source": [
    "res = knn.predict(test)"
   ]
  },
  {
   "cell_type": "code",
   "execution_count": 55,
   "metadata": {},
   "outputs": [],
   "source": [
    "with open(\"data/knn_full.csv\",\"w\") as f:\n",
    "    f.write(\"id,target\\n\")\n",
    "    for i,v in enumerate(res):\n",
    "        f.write(\"{},{}\\n\".format(test_id[i],v))"
   ]
  },
  {
   "cell_type": "markdown",
   "metadata": {},
   "source": [
    "### Ahora predigo usando solo metroscubiertos, metrostotales, tipodepropiedad y puntaje_por_fecha"
   ]
  },
  {
   "cell_type": "code",
   "execution_count": 18,
   "metadata": {},
   "outputs": [],
   "source": [
    "train = pd.read_csv('data/train_full.csv',parse_dates = ['fecha'])\n",
    "train = train.fillna(0)"
   ]
  },
  {
   "cell_type": "code",
   "execution_count": 19,
   "metadata": {
    "colab": {
     "base_uri": "https://localhost:8080/",
     "height": 151
    },
    "colab_type": "code",
    "executionInfo": {
     "elapsed": 2182,
     "status": "ok",
     "timestamp": 1574091034406,
     "user": {
      "displayName": "Luciano Ortiz",
      "photoUrl": "https://lh3.googleusercontent.com/-pyWD0HqQv8U/AAAAAAAAAAI/AAAAAAAAANk/VOXi9VxNwkA/s64/photo.jpg",
      "userId": "16854415741925197295"
     },
     "user_tz": 180
    },
    "id": "wi0CoPv5Dzkj",
    "outputId": "bf3c63b4-7a17-4f33-c966-3c8c78d11db7",
    "scrolled": true
   },
   "outputs": [
    {
     "data": {
      "text/html": [
       "<div>\n",
       "<style scoped>\n",
       "    .dataframe tbody tr th:only-of-type {\n",
       "        vertical-align: middle;\n",
       "    }\n",
       "\n",
       "    .dataframe tbody tr th {\n",
       "        vertical-align: top;\n",
       "    }\n",
       "\n",
       "    .dataframe thead th {\n",
       "        text-align: right;\n",
       "    }\n",
       "</style>\n",
       "<table border=\"1\" class=\"dataframe\">\n",
       "  <thead>\n",
       "    <tr style=\"text-align: right;\">\n",
       "      <th></th>\n",
       "      <th>id</th>\n",
       "      <th>titulo</th>\n",
       "      <th>descripcion</th>\n",
       "      <th>tipodepropiedad</th>\n",
       "      <th>direccion</th>\n",
       "      <th>ciudad</th>\n",
       "      <th>provincia</th>\n",
       "      <th>antiguedad</th>\n",
       "      <th>habitaciones</th>\n",
       "      <th>garages</th>\n",
       "      <th>...</th>\n",
       "      <th>lat</th>\n",
       "      <th>lng</th>\n",
       "      <th>fecha</th>\n",
       "      <th>gimnasio</th>\n",
       "      <th>usosmultiples</th>\n",
       "      <th>piscina</th>\n",
       "      <th>escuelascercanas</th>\n",
       "      <th>centroscomercialescercanos</th>\n",
       "      <th>precio</th>\n",
       "      <th>puntaje_por_fecha</th>\n",
       "    </tr>\n",
       "  </thead>\n",
       "  <tbody>\n",
       "    <tr>\n",
       "      <th>0</th>\n",
       "      <td>254099</td>\n",
       "      <td>depto. tipo a-402</td>\n",
       "      <td>depto. interior de 80.15m2, consta de sala com...</td>\n",
       "      <td>Apartamento</td>\n",
       "      <td>Avenida Division del Norte 2005</td>\n",
       "      <td>Benito Juárez</td>\n",
       "      <td>Distrito Federal</td>\n",
       "      <td>8</td>\n",
       "      <td>2</td>\n",
       "      <td>1</td>\n",
       "      <td>...</td>\n",
       "      <td>0.0</td>\n",
       "      <td>0.0</td>\n",
       "      <td>2015-08-23</td>\n",
       "      <td>0</td>\n",
       "      <td>0</td>\n",
       "      <td>0</td>\n",
       "      <td>0</td>\n",
       "      <td>0</td>\n",
       "      <td>2273000</td>\n",
       "      <td>0.728368</td>\n",
       "    </tr>\n",
       "  </tbody>\n",
       "</table>\n",
       "<p>1 rows × 24 columns</p>\n",
       "</div>"
      ],
      "text/plain": [
       "       id             titulo  \\\n",
       "0  254099  depto. tipo a-402   \n",
       "\n",
       "                                         descripcion tipodepropiedad  \\\n",
       "0  depto. interior de 80.15m2, consta de sala com...     Apartamento   \n",
       "\n",
       "                         direccion         ciudad         provincia  \\\n",
       "0  Avenida Division del Norte 2005  Benito Juárez  Distrito Federal   \n",
       "\n",
       "   antiguedad  habitaciones  garages        ...          lat  lng      fecha  \\\n",
       "0           8             2        1        ...          0.0  0.0 2015-08-23   \n",
       "\n",
       "   gimnasio  usosmultiples  piscina escuelascercanas  \\\n",
       "0         0              0        0                0   \n",
       "\n",
       "   centroscomercialescercanos   precio  puntaje_por_fecha  \n",
       "0                           0  2273000           0.728368  \n",
       "\n",
       "[1 rows x 24 columns]"
      ]
     },
     "execution_count": 19,
     "metadata": {},
     "output_type": "execute_result"
    }
   ],
   "source": [
    "train[\"puntaje_por_fecha\"] = train['fecha'].transform(lambda x: calificar_fecha(x))\n",
    "train.head(1)"
   ]
  },
  {
   "cell_type": "code",
   "execution_count": 10,
   "metadata": {},
   "outputs": [],
   "source": [
    "#Count encoder para tipo de propiedad\n",
    "train[\"tipo_prop_enc\"] = pd.read_csv(\"data/tipo_prop_enc.csv\")[\"tipo_prop_enc\"]"
   ]
  },
  {
   "cell_type": "code",
   "execution_count": 23,
   "metadata": {},
   "outputs": [],
   "source": [
    "col_drop = [\"lat\",\"lng\",\"ciudad\",\"provincia\",\"idzona\",\"titulo\",\"descripcion\",\"id\",\"direccion\",\"tipodepropiedad\",\"fecha\"]\n",
    "train = train.drop(labels=col_drop, axis=1)"
   ]
  },
  {
   "cell_type": "code",
   "execution_count": 24,
   "metadata": {},
   "outputs": [],
   "source": [
    "col_drop_2 = [\"antiguedad\", \"habitaciones\", \"garages\", \"banos\", \"gimnasio\", \"usosmultiples\", \"piscina\", \"escuelascercanas\", \"centroscomercialescercanos\"]\n",
    "train = train.drop(labels=col_drop_2, axis=1)"
   ]
  },
  {
   "cell_type": "code",
   "execution_count": 25,
   "metadata": {},
   "outputs": [],
   "source": [
    "precio = train[\"precio\"]\n",
    "train = train.drop(labels=\"precio\", axis=1)"
   ]
  },
  {
   "cell_type": "code",
   "execution_count": 26,
   "metadata": {},
   "outputs": [
    {
     "name": "stderr",
     "output_type": "stream",
     "text": [
      "C:\\Users\\Fernando\\Anaconda3\\lib\\site-packages\\sklearn\\preprocessing\\data.py:323: DataConversionWarning: Data with input dtype int64, float64 were all converted to float64 by MinMaxScaler.\n",
      "  return self.partial_fit(X, y)\n"
     ]
    }
   ],
   "source": [
    "train = normalizar_data(train)"
   ]
  },
  {
   "cell_type": "code",
   "execution_count": 27,
   "metadata": {},
   "outputs": [],
   "source": [
    "id_predic = []\n",
    "predic = []\n",
    "\n",
    "for x in range(5000):\n",
    "    i = random.randrange(0, train.shape[0])\n",
    "    knn.fit(train.drop(i), precio.drop(i))\n",
    "    id_predic.append(i)\n",
    "    predic.append(knn.predict(train.loc[[i]]))"
   ]
  },
  {
   "cell_type": "code",
   "execution_count": 28,
   "metadata": {},
   "outputs": [
    {
     "data": {
      "text/plain": [
       "960896.831797947"
      ]
     },
     "execution_count": 28,
     "metadata": {},
     "output_type": "execute_result"
    }
   ],
   "source": [
    "real = []\n",
    "for x in id_predic:\n",
    "    real.append(precio[x])\n",
    "    \n",
    "mean_absolute_error(real, predic)"
   ]
  },
  {
   "cell_type": "markdown",
   "metadata": {},
   "source": [
    "### Ahora solo uso para clasificar las propiedades anteriores en fecha"
   ]
  },
  {
   "cell_type": "code",
   "execution_count": 29,
   "metadata": {},
   "outputs": [],
   "source": [
    "train = pd.read_csv('data/train_full.csv',parse_dates = ['fecha'])\n",
    "train = train.fillna(0)"
   ]
  },
  {
   "cell_type": "code",
   "execution_count": 30,
   "metadata": {
    "colab": {
     "base_uri": "https://localhost:8080/",
     "height": 151
    },
    "colab_type": "code",
    "executionInfo": {
     "elapsed": 2182,
     "status": "ok",
     "timestamp": 1574091034406,
     "user": {
      "displayName": "Luciano Ortiz",
      "photoUrl": "https://lh3.googleusercontent.com/-pyWD0HqQv8U/AAAAAAAAAAI/AAAAAAAAANk/VOXi9VxNwkA/s64/photo.jpg",
      "userId": "16854415741925197295"
     },
     "user_tz": 180
    },
    "id": "wi0CoPv5Dzkj",
    "outputId": "bf3c63b4-7a17-4f33-c966-3c8c78d11db7",
    "scrolled": true
   },
   "outputs": [
    {
     "data": {
      "text/html": [
       "<div>\n",
       "<style scoped>\n",
       "    .dataframe tbody tr th:only-of-type {\n",
       "        vertical-align: middle;\n",
       "    }\n",
       "\n",
       "    .dataframe tbody tr th {\n",
       "        vertical-align: top;\n",
       "    }\n",
       "\n",
       "    .dataframe thead th {\n",
       "        text-align: right;\n",
       "    }\n",
       "</style>\n",
       "<table border=\"1\" class=\"dataframe\">\n",
       "  <thead>\n",
       "    <tr style=\"text-align: right;\">\n",
       "      <th></th>\n",
       "      <th>id</th>\n",
       "      <th>titulo</th>\n",
       "      <th>descripcion</th>\n",
       "      <th>tipodepropiedad</th>\n",
       "      <th>direccion</th>\n",
       "      <th>ciudad</th>\n",
       "      <th>provincia</th>\n",
       "      <th>antiguedad</th>\n",
       "      <th>habitaciones</th>\n",
       "      <th>garages</th>\n",
       "      <th>...</th>\n",
       "      <th>lat</th>\n",
       "      <th>lng</th>\n",
       "      <th>fecha</th>\n",
       "      <th>gimnasio</th>\n",
       "      <th>usosmultiples</th>\n",
       "      <th>piscina</th>\n",
       "      <th>escuelascercanas</th>\n",
       "      <th>centroscomercialescercanos</th>\n",
       "      <th>precio</th>\n",
       "      <th>puntaje_por_fecha</th>\n",
       "    </tr>\n",
       "  </thead>\n",
       "  <tbody>\n",
       "    <tr>\n",
       "      <th>0</th>\n",
       "      <td>254099</td>\n",
       "      <td>depto. tipo a-402</td>\n",
       "      <td>depto. interior de 80.15m2, consta de sala com...</td>\n",
       "      <td>Apartamento</td>\n",
       "      <td>Avenida Division del Norte 2005</td>\n",
       "      <td>Benito Juárez</td>\n",
       "      <td>Distrito Federal</td>\n",
       "      <td>8</td>\n",
       "      <td>2</td>\n",
       "      <td>1</td>\n",
       "      <td>...</td>\n",
       "      <td>0.0</td>\n",
       "      <td>0.0</td>\n",
       "      <td>2015-08-23</td>\n",
       "      <td>0</td>\n",
       "      <td>0</td>\n",
       "      <td>0</td>\n",
       "      <td>0</td>\n",
       "      <td>0</td>\n",
       "      <td>2273000</td>\n",
       "      <td>0.728368</td>\n",
       "    </tr>\n",
       "  </tbody>\n",
       "</table>\n",
       "<p>1 rows × 24 columns</p>\n",
       "</div>"
      ],
      "text/plain": [
       "       id             titulo  \\\n",
       "0  254099  depto. tipo a-402   \n",
       "\n",
       "                                         descripcion tipodepropiedad  \\\n",
       "0  depto. interior de 80.15m2, consta de sala com...     Apartamento   \n",
       "\n",
       "                         direccion         ciudad         provincia  \\\n",
       "0  Avenida Division del Norte 2005  Benito Juárez  Distrito Federal   \n",
       "\n",
       "   antiguedad  habitaciones  garages        ...          lat  lng      fecha  \\\n",
       "0           8             2        1        ...          0.0  0.0 2015-08-23   \n",
       "\n",
       "   gimnasio  usosmultiples  piscina escuelascercanas  \\\n",
       "0         0              0        0                0   \n",
       "\n",
       "   centroscomercialescercanos   precio  puntaje_por_fecha  \n",
       "0                           0  2273000           0.728368  \n",
       "\n",
       "[1 rows x 24 columns]"
      ]
     },
     "execution_count": 30,
     "metadata": {},
     "output_type": "execute_result"
    }
   ],
   "source": [
    "train[\"puntaje_por_fecha\"] = train['fecha'].transform(lambda x: calificar_fecha(x))\n",
    "train.head(1)"
   ]
  },
  {
   "cell_type": "code",
   "execution_count": 32,
   "metadata": {},
   "outputs": [],
   "source": [
    "#Count encoder para tipo de propiedad\n",
    "train[\"tipo_prop_enc\"] = pd.read_csv(\"data/tipo_prop_enc.csv\")[\"tipo_prop_enc\"]"
   ]
  },
  {
   "cell_type": "code",
   "execution_count": 34,
   "metadata": {},
   "outputs": [],
   "source": [
    "train = train.sort_values(\"fecha\")"
   ]
  },
  {
   "cell_type": "code",
   "execution_count": 36,
   "metadata": {},
   "outputs": [],
   "source": [
    "col_drop = [\"lat\",\"lng\",\"ciudad\",\"provincia\",\"idzona\",\"titulo\",\"descripcion\",\"id\",\"direccion\",\"tipodepropiedad\",\"fecha\"]\n",
    "train = train.drop(labels=col_drop, axis=1)"
   ]
  },
  {
   "cell_type": "code",
   "execution_count": 37,
   "metadata": {},
   "outputs": [],
   "source": [
    "precio = train[\"precio\"]\n",
    "train = train.drop(labels=\"precio\", axis=1)"
   ]
  },
  {
   "cell_type": "code",
   "execution_count": 38,
   "metadata": {},
   "outputs": [
    {
     "name": "stderr",
     "output_type": "stream",
     "text": [
      "C:\\Users\\Fernando\\Anaconda3\\lib\\site-packages\\sklearn\\preprocessing\\data.py:323: DataConversionWarning: Data with input dtype int64, float64 were all converted to float64 by MinMaxScaler.\n",
      "  return self.partial_fit(X, y)\n"
     ]
    }
   ],
   "source": [
    "train = normalizar_data(train)"
   ]
  },
  {
   "cell_type": "code",
   "execution_count": 39,
   "metadata": {},
   "outputs": [],
   "source": [
    "id_predic = []\n",
    "predic = []\n",
    "\n",
    "for x in range(5000):\n",
    "    i = random.randrange(0, train.shape[0])\n",
    "    knn.fit(train.drop([j for j in range(i,train.shape[0])]), precio.drop([j for j in range(i,train.shape[0])]))\n",
    "    id_predic.append(i)\n",
    "    predic.append(knn.predict(train.loc[[i]]))"
   ]
  },
  {
   "cell_type": "code",
   "execution_count": 40,
   "metadata": {},
   "outputs": [
    {
     "data": {
      "text/plain": [
       "1818097.3617431908"
      ]
     },
     "execution_count": 40,
     "metadata": {},
     "output_type": "execute_result"
    }
   ],
   "source": [
    "real = []\n",
    "for x in id_predic:\n",
    "    real.append(precio[x])\n",
    "    \n",
    "mean_absolute_error(real, predic)"
   ]
  },
  {
   "cell_type": "markdown",
   "metadata": {},
   "source": [
    "### Ahora solo uso las propiedades que disten a lo sumo dos meses"
   ]
  },
  {
   "cell_type": "code",
   "execution_count": 109,
   "metadata": {},
   "outputs": [],
   "source": [
    "train = pd.read_csv('data/train_full.csv',parse_dates = ['fecha'])\n",
    "train = train.fillna(0)"
   ]
  },
  {
   "cell_type": "code",
   "execution_count": 110,
   "metadata": {
    "colab": {
     "base_uri": "https://localhost:8080/",
     "height": 151
    },
    "colab_type": "code",
    "executionInfo": {
     "elapsed": 2182,
     "status": "ok",
     "timestamp": 1574091034406,
     "user": {
      "displayName": "Luciano Ortiz",
      "photoUrl": "https://lh3.googleusercontent.com/-pyWD0HqQv8U/AAAAAAAAAAI/AAAAAAAAANk/VOXi9VxNwkA/s64/photo.jpg",
      "userId": "16854415741925197295"
     },
     "user_tz": 180
    },
    "id": "wi0CoPv5Dzkj",
    "outputId": "bf3c63b4-7a17-4f33-c966-3c8c78d11db7",
    "scrolled": true
   },
   "outputs": [
    {
     "data": {
      "text/html": [
       "<div>\n",
       "<style scoped>\n",
       "    .dataframe tbody tr th:only-of-type {\n",
       "        vertical-align: middle;\n",
       "    }\n",
       "\n",
       "    .dataframe tbody tr th {\n",
       "        vertical-align: top;\n",
       "    }\n",
       "\n",
       "    .dataframe thead th {\n",
       "        text-align: right;\n",
       "    }\n",
       "</style>\n",
       "<table border=\"1\" class=\"dataframe\">\n",
       "  <thead>\n",
       "    <tr style=\"text-align: right;\">\n",
       "      <th></th>\n",
       "      <th>id</th>\n",
       "      <th>titulo</th>\n",
       "      <th>descripcion</th>\n",
       "      <th>tipodepropiedad</th>\n",
       "      <th>direccion</th>\n",
       "      <th>ciudad</th>\n",
       "      <th>provincia</th>\n",
       "      <th>antiguedad</th>\n",
       "      <th>habitaciones</th>\n",
       "      <th>garages</th>\n",
       "      <th>...</th>\n",
       "      <th>lat</th>\n",
       "      <th>lng</th>\n",
       "      <th>fecha</th>\n",
       "      <th>gimnasio</th>\n",
       "      <th>usosmultiples</th>\n",
       "      <th>piscina</th>\n",
       "      <th>escuelascercanas</th>\n",
       "      <th>centroscomercialescercanos</th>\n",
       "      <th>precio</th>\n",
       "      <th>puntaje_por_fecha</th>\n",
       "    </tr>\n",
       "  </thead>\n",
       "  <tbody>\n",
       "    <tr>\n",
       "      <th>0</th>\n",
       "      <td>254099</td>\n",
       "      <td>depto. tipo a-402</td>\n",
       "      <td>depto. interior de 80.15m2, consta de sala com...</td>\n",
       "      <td>Apartamento</td>\n",
       "      <td>Avenida Division del Norte 2005</td>\n",
       "      <td>Benito Juárez</td>\n",
       "      <td>Distrito Federal</td>\n",
       "      <td>8</td>\n",
       "      <td>2</td>\n",
       "      <td>1</td>\n",
       "      <td>...</td>\n",
       "      <td>0.0</td>\n",
       "      <td>0.0</td>\n",
       "      <td>2015-08-23</td>\n",
       "      <td>0</td>\n",
       "      <td>0</td>\n",
       "      <td>0</td>\n",
       "      <td>0</td>\n",
       "      <td>0</td>\n",
       "      <td>2273000</td>\n",
       "      <td>0.728368</td>\n",
       "    </tr>\n",
       "  </tbody>\n",
       "</table>\n",
       "<p>1 rows × 24 columns</p>\n",
       "</div>"
      ],
      "text/plain": [
       "       id             titulo  \\\n",
       "0  254099  depto. tipo a-402   \n",
       "\n",
       "                                         descripcion tipodepropiedad  \\\n",
       "0  depto. interior de 80.15m2, consta de sala com...     Apartamento   \n",
       "\n",
       "                         direccion         ciudad         provincia  \\\n",
       "0  Avenida Division del Norte 2005  Benito Juárez  Distrito Federal   \n",
       "\n",
       "   antiguedad  habitaciones  garages        ...          lat  lng      fecha  \\\n",
       "0           8             2        1        ...          0.0  0.0 2015-08-23   \n",
       "\n",
       "   gimnasio  usosmultiples  piscina escuelascercanas  \\\n",
       "0         0              0        0                0   \n",
       "\n",
       "   centroscomercialescercanos   precio  puntaje_por_fecha  \n",
       "0                           0  2273000           0.728368  \n",
       "\n",
       "[1 rows x 24 columns]"
      ]
     },
     "execution_count": 110,
     "metadata": {},
     "output_type": "execute_result"
    }
   ],
   "source": [
    "train[\"puntaje_por_fecha\"] = train['fecha'].transform(lambda x: calificar_fecha(x))\n",
    "train.head(1)"
   ]
  },
  {
   "cell_type": "code",
   "execution_count": 78,
   "metadata": {},
   "outputs": [],
   "source": [
    "#Count encoder para tipo de propiedad\n",
    "train[\"tipo_prop_enc\"] = pd.read_csv(\"data/tipo_prop_enc.csv\")[\"tipo_prop_enc\"]"
   ]
  },
  {
   "cell_type": "code",
   "execution_count": 112,
   "metadata": {},
   "outputs": [],
   "source": [
    "train = train.sort_values(\"fecha\")"
   ]
  },
  {
   "cell_type": "code",
   "execution_count": 113,
   "metadata": {},
   "outputs": [],
   "source": [
    "fechas = train[\"fecha\"]"
   ]
  },
  {
   "cell_type": "code",
   "execution_count": 114,
   "metadata": {},
   "outputs": [],
   "source": [
    "col_drop = [\"lat\",\"lng\",\"ciudad\",\"provincia\",\"idzona\",\"titulo\",\"descripcion\",\"id\",\"direccion\",\"tipodepropiedad\",\"fecha\"]\n",
    "train = train.drop(labels=col_drop, axis=1)"
   ]
  },
  {
   "cell_type": "code",
   "execution_count": 115,
   "metadata": {},
   "outputs": [],
   "source": [
    "precio = train[\"precio\"]\n",
    "train = train.drop(labels=\"precio\", axis=1)"
   ]
  },
  {
   "cell_type": "code",
   "execution_count": 116,
   "metadata": {},
   "outputs": [
    {
     "name": "stderr",
     "output_type": "stream",
     "text": [
      "C:\\Users\\Fernando\\Anaconda3\\lib\\site-packages\\sklearn\\preprocessing\\data.py:323: DataConversionWarning: Data with input dtype int64, float64 were all converted to float64 by MinMaxScaler.\n",
      "  return self.partial_fit(X, y)\n"
     ]
    }
   ],
   "source": [
    "train = normalizar_data(train)"
   ]
  },
  {
   "cell_type": "code",
   "execution_count": 156,
   "metadata": {},
   "outputs": [],
   "source": [
    "id_predic = []\n",
    "predic = []\n",
    "\n",
    "for x in range(5000):\n",
    "    i = random.randrange(0, train.shape[0])\n",
    "    rango = fechas.loc[lambda x: (fechas[i]-timedelta(180,0,0) < x) & (x < fechas[i]+timedelta(180,0,0))].index\n",
    "    knn.fit(train.loc[rango].drop(i), precio.loc[rango].drop(i))\n",
    "    id_predic.append(i)\n",
    "    predic.append(knn.predict(train.loc[[i]]))"
   ]
  },
  {
   "cell_type": "code",
   "execution_count": 157,
   "metadata": {},
   "outputs": [
    {
     "data": {
      "text/plain": [
       "1681721.5862329677"
      ]
     },
     "execution_count": 157,
     "metadata": {},
     "output_type": "execute_result"
    }
   ],
   "source": [
    "real = []\n",
    "for x in id_predic:\n",
    "    real.append(precio[x])\n",
    "    \n",
    "mean_absolute_error(real, predic)"
   ]
  },
  {
   "cell_type": "markdown",
   "metadata": {},
   "source": [
    "#### Ahora lo hago para el test"
   ]
  },
  {
   "cell_type": "code",
   "execution_count": 120,
   "metadata": {},
   "outputs": [],
   "source": [
    "test =  pd.read_csv('data/test_full.csv', parse_dates = ['fecha'])\n",
    "test = test.fillna(0)"
   ]
  },
  {
   "cell_type": "code",
   "execution_count": 121,
   "metadata": {
    "colab": {
     "base_uri": "https://localhost:8080/",
     "height": 202
    },
    "colab_type": "code",
    "executionInfo": {
     "elapsed": 976,
     "status": "ok",
     "timestamp": 1574091039566,
     "user": {
      "displayName": "Luciano Ortiz",
      "photoUrl": "https://lh3.googleusercontent.com/-pyWD0HqQv8U/AAAAAAAAAAI/AAAAAAAAANk/VOXi9VxNwkA/s64/photo.jpg",
      "userId": "16854415741925197295"
     },
     "user_tz": 180
    },
    "id": "xSBgj_1pDzkm",
    "outputId": "8f4695be-746a-4525-d5c9-3f13c3da9d8e",
    "scrolled": true
   },
   "outputs": [
    {
     "data": {
      "text/html": [
       "<div>\n",
       "<style scoped>\n",
       "    .dataframe tbody tr th:only-of-type {\n",
       "        vertical-align: middle;\n",
       "    }\n",
       "\n",
       "    .dataframe tbody tr th {\n",
       "        vertical-align: top;\n",
       "    }\n",
       "\n",
       "    .dataframe thead th {\n",
       "        text-align: right;\n",
       "    }\n",
       "</style>\n",
       "<table border=\"1\" class=\"dataframe\">\n",
       "  <thead>\n",
       "    <tr style=\"text-align: right;\">\n",
       "      <th></th>\n",
       "      <th>id</th>\n",
       "      <th>titulo</th>\n",
       "      <th>descripcion</th>\n",
       "      <th>tipodepropiedad</th>\n",
       "      <th>direccion</th>\n",
       "      <th>ciudad</th>\n",
       "      <th>provincia</th>\n",
       "      <th>antiguedad</th>\n",
       "      <th>habitaciones</th>\n",
       "      <th>garages</th>\n",
       "      <th>...</th>\n",
       "      <th>idzona</th>\n",
       "      <th>lat</th>\n",
       "      <th>lng</th>\n",
       "      <th>fecha</th>\n",
       "      <th>gimnasio</th>\n",
       "      <th>usosmultiples</th>\n",
       "      <th>piscina</th>\n",
       "      <th>escuelascercanas</th>\n",
       "      <th>centroscomercialescercanos</th>\n",
       "      <th>puntaje_por_fecha</th>\n",
       "    </tr>\n",
       "  </thead>\n",
       "  <tbody>\n",
       "    <tr>\n",
       "      <th>0</th>\n",
       "      <td>4941</td>\n",
       "      <td>casa en venta en miguel hidalgo, distrito federal</td>\n",
       "      <td>&lt;p&gt;excelente casa estilo moderno.&lt;/p&gt;</td>\n",
       "      <td>Casa</td>\n",
       "      <td>Bosque de Cedros</td>\n",
       "      <td>Miguel Hidalgo</td>\n",
       "      <td>Distrito Federal</td>\n",
       "      <td>29</td>\n",
       "      <td>3</td>\n",
       "      <td>2</td>\n",
       "      <td>...</td>\n",
       "      <td>0.0</td>\n",
       "      <td>19.408668</td>\n",
       "      <td>-99.246767</td>\n",
       "      <td>2013-07-20</td>\n",
       "      <td>0</td>\n",
       "      <td>0</td>\n",
       "      <td>0</td>\n",
       "      <td>0</td>\n",
       "      <td>0</td>\n",
       "      <td>0.309967</td>\n",
       "    </tr>\n",
       "  </tbody>\n",
       "</table>\n",
       "<p>1 rows × 23 columns</p>\n",
       "</div>"
      ],
      "text/plain": [
       "     id                                             titulo  \\\n",
       "0  4941  casa en venta en miguel hidalgo, distrito federal   \n",
       "\n",
       "                             descripcion tipodepropiedad          direccion  \\\n",
       "0  <p>excelente casa estilo moderno.</p>            Casa  Bosque de Cedros    \n",
       "\n",
       "           ciudad         provincia  antiguedad  habitaciones  garages  \\\n",
       "0  Miguel Hidalgo  Distrito Federal          29             3        2   \n",
       "\n",
       "         ...          idzona        lat        lng      fecha  gimnasio  \\\n",
       "0        ...             0.0  19.408668 -99.246767 2013-07-20         0   \n",
       "\n",
       "   usosmultiples piscina  escuelascercanas  centroscomercialescercanos  \\\n",
       "0              0       0                 0                           0   \n",
       "\n",
       "   puntaje_por_fecha  \n",
       "0           0.309967  \n",
       "\n",
       "[1 rows x 23 columns]"
      ]
     },
     "execution_count": 121,
     "metadata": {},
     "output_type": "execute_result"
    }
   ],
   "source": [
    "#Set de test\n",
    "test[\"puntaje_por_fecha\"] = test['fecha'].transform(lambda x: calificar_fecha(x))\n",
    "test.head(1)"
   ]
  },
  {
   "cell_type": "code",
   "execution_count": 122,
   "metadata": {},
   "outputs": [],
   "source": [
    "#Count encoding para tipo de propiedad\n",
    "test[\"tipo_prop_enc\"] = test[\"tipodepropiedad\"].map(lambda x: count_tipo_prop[count_tipo_prop[\"tipodepropiedad\"]==x].iloc[0][\"id\"]) "
   ]
  },
  {
   "cell_type": "code",
   "execution_count": null,
   "metadata": {},
   "outputs": [],
   "source": [
    "test = test.sort_values(\"fecha\")"
   ]
  },
  {
   "cell_type": "code",
   "execution_count": 123,
   "metadata": {},
   "outputs": [],
   "source": [
    "fechas_test = test[\"fecha\"]"
   ]
  },
  {
   "cell_type": "code",
   "execution_count": 124,
   "metadata": {},
   "outputs": [],
   "source": [
    "test_id = test[\"id\"]"
   ]
  },
  {
   "cell_type": "code",
   "execution_count": 125,
   "metadata": {},
   "outputs": [],
   "source": [
    "test = test.drop(labels=col_drop, axis=1)"
   ]
  },
  {
   "cell_type": "code",
   "execution_count": 126,
   "metadata": {},
   "outputs": [
    {
     "name": "stderr",
     "output_type": "stream",
     "text": [
      "C:\\Users\\Fernando\\Anaconda3\\lib\\site-packages\\sklearn\\preprocessing\\data.py:323: DataConversionWarning: Data with input dtype int64, float64 were all converted to float64 by MinMaxScaler.\n",
      "  return self.partial_fit(X, y)\n"
     ]
    }
   ],
   "source": [
    "test = normalizar_data(test)"
   ]
  },
  {
   "cell_type": "code",
   "execution_count": 127,
   "metadata": {},
   "outputs": [],
   "source": [
    "res = knn.predict(test)"
   ]
  },
  {
   "cell_type": "code",
   "execution_count": 150,
   "metadata": {},
   "outputs": [],
   "source": [
    "id_predic = []\n",
    "predic = []\n",
    "\n",
    "for fila in test.index:\n",
    "    rango = fechas.loc[lambda x: (fechas_test[fila]-timedelta(60,0,0) < x) & (x < fechas_test[fila]+timedelta(60,0,0))].index\n",
    "    knn.fit(train.loc[rango], precio.loc[rango])\n",
    "    id_predic.append(i)\n",
    "    predic.append(knn.predict(test.loc[[fila]]))"
   ]
  },
  {
   "cell_type": "code",
   "execution_count": 152,
   "metadata": {},
   "outputs": [],
   "source": [
    "red = []\n",
    "for x in predic:\n",
    "    red.append(round(x[0]/1000)*1000)"
   ]
  },
  {
   "cell_type": "code",
   "execution_count": 153,
   "metadata": {},
   "outputs": [],
   "source": [
    "with open(\"data/knn_dos_meses.csv\",\"w\") as f:\n",
    "    f.write(\"id,target\\n\")\n",
    "    for i,v in enumerate(red):\n",
    "        f.write(\"{},{}\\n\".format(test_id[i],v))"
   ]
  },
  {
   "cell_type": "markdown",
   "metadata": {},
   "source": [
    "### Uso solamente las columnas sin nulls"
   ]
  },
  {
   "cell_type": "code",
   "execution_count": 25,
   "metadata": {},
   "outputs": [],
   "source": [
    "train = pd.read_csv('data/train.csv',parse_dates = ['fecha'])"
   ]
  },
  {
   "cell_type": "code",
   "execution_count": 12,
   "metadata": {
    "colab": {
     "base_uri": "https://localhost:8080/",
     "height": 151
    },
    "colab_type": "code",
    "executionInfo": {
     "elapsed": 2182,
     "status": "ok",
     "timestamp": 1574091034406,
     "user": {
      "displayName": "Luciano Ortiz",
      "photoUrl": "https://lh3.googleusercontent.com/-pyWD0HqQv8U/AAAAAAAAAAI/AAAAAAAAANk/VOXi9VxNwkA/s64/photo.jpg",
      "userId": "16854415741925197295"
     },
     "user_tz": 180
    },
    "id": "wi0CoPv5Dzkj",
    "outputId": "bf3c63b4-7a17-4f33-c966-3c8c78d11db7",
    "scrolled": true
   },
   "outputs": [
    {
     "data": {
      "text/html": [
       "<div>\n",
       "<style scoped>\n",
       "    .dataframe tbody tr th:only-of-type {\n",
       "        vertical-align: middle;\n",
       "    }\n",
       "\n",
       "    .dataframe tbody tr th {\n",
       "        vertical-align: top;\n",
       "    }\n",
       "\n",
       "    .dataframe thead th {\n",
       "        text-align: right;\n",
       "    }\n",
       "</style>\n",
       "<table border=\"1\" class=\"dataframe\">\n",
       "  <thead>\n",
       "    <tr style=\"text-align: right;\">\n",
       "      <th></th>\n",
       "      <th>id</th>\n",
       "      <th>titulo</th>\n",
       "      <th>descripcion</th>\n",
       "      <th>tipodepropiedad</th>\n",
       "      <th>direccion</th>\n",
       "      <th>ciudad</th>\n",
       "      <th>provincia</th>\n",
       "      <th>antiguedad</th>\n",
       "      <th>habitaciones</th>\n",
       "      <th>garages</th>\n",
       "      <th>...</th>\n",
       "      <th>lat</th>\n",
       "      <th>lng</th>\n",
       "      <th>fecha</th>\n",
       "      <th>gimnasio</th>\n",
       "      <th>usosmultiples</th>\n",
       "      <th>piscina</th>\n",
       "      <th>escuelascercanas</th>\n",
       "      <th>centroscomercialescercanos</th>\n",
       "      <th>precio</th>\n",
       "      <th>puntaje_por_fecha</th>\n",
       "    </tr>\n",
       "  </thead>\n",
       "  <tbody>\n",
       "    <tr>\n",
       "      <th>0</th>\n",
       "      <td>254099</td>\n",
       "      <td>depto. tipo a-402</td>\n",
       "      <td>depto. interior de 80.15m2, consta de sala com...</td>\n",
       "      <td>Apartamento</td>\n",
       "      <td>Avenida Division del Norte 2005</td>\n",
       "      <td>Benito Juárez</td>\n",
       "      <td>Distrito Federal</td>\n",
       "      <td>NaN</td>\n",
       "      <td>2.0</td>\n",
       "      <td>1.0</td>\n",
       "      <td>...</td>\n",
       "      <td>NaN</td>\n",
       "      <td>NaN</td>\n",
       "      <td>2015-08-23</td>\n",
       "      <td>0.0</td>\n",
       "      <td>0.0</td>\n",
       "      <td>0.0</td>\n",
       "      <td>0.0</td>\n",
       "      <td>0.0</td>\n",
       "      <td>2273000.0</td>\n",
       "      <td>0.728368</td>\n",
       "    </tr>\n",
       "  </tbody>\n",
       "</table>\n",
       "<p>1 rows × 24 columns</p>\n",
       "</div>"
      ],
      "text/plain": [
       "       id             titulo  \\\n",
       "0  254099  depto. tipo a-402   \n",
       "\n",
       "                                         descripcion tipodepropiedad  \\\n",
       "0  depto. interior de 80.15m2, consta de sala com...     Apartamento   \n",
       "\n",
       "                         direccion         ciudad         provincia  \\\n",
       "0  Avenida Division del Norte 2005  Benito Juárez  Distrito Federal   \n",
       "\n",
       "   antiguedad  habitaciones  garages        ...          lat  lng      fecha  \\\n",
       "0         NaN           2.0      1.0        ...          NaN  NaN 2015-08-23   \n",
       "\n",
       "   gimnasio  usosmultiples  piscina escuelascercanas  \\\n",
       "0       0.0            0.0      0.0              0.0   \n",
       "\n",
       "   centroscomercialescercanos     precio  puntaje_por_fecha  \n",
       "0                         0.0  2273000.0           0.728368  \n",
       "\n",
       "[1 rows x 24 columns]"
      ]
     },
     "execution_count": 12,
     "metadata": {},
     "output_type": "execute_result"
    }
   ],
   "source": [
    "train[\"puntaje_por_fecha\"] = train['fecha'].transform(lambda x: calificar_fecha(x))\n",
    "train.head(1)"
   ]
  },
  {
   "cell_type": "code",
   "execution_count": 13,
   "metadata": {},
   "outputs": [],
   "source": [
    "#Count encoder para tipo de propiedad\n",
    "count_tipo_prop = train.groupby(\"tipodepropiedad\").count().reset_index()\n",
    "train[\"tipo_prop_enc\"] = train[\"tipodepropiedad\"].map(lambda x: count_tipo_prop[count_tipo_prop[\"tipodepropiedad\"]==x].iloc[0][\"id\"] if count_tipo_prop[count_tipo_prop[\"tipodepropiedad\"]==x].shape[0]>0 else 0)"
   ]
  },
  {
   "cell_type": "code",
   "execution_count": null,
   "metadata": {},
   "outputs": [],
   "source": [
    "train[\"tipo_prop_enc\"].to_frame().to_csv(\"data/tipo_prop_enc_sin_nulls.csv\", index=False)"
   ]
  },
  {
   "cell_type": "code",
   "execution_count": 14,
   "metadata": {},
   "outputs": [],
   "source": [
    "col_drop = [\"lat\",\"lng\",\"ciudad\",\"provincia\",\"idzona\",\"titulo\",\"descripcion\",\"id\",\"direccion\",\"tipodepropiedad\",\"fecha\"]\n",
    "train = train.drop(labels=col_drop, axis=1)"
   ]
  },
  {
   "cell_type": "code",
   "execution_count": 15,
   "metadata": {},
   "outputs": [],
   "source": [
    "train = train.dropna()"
   ]
  },
  {
   "cell_type": "code",
   "execution_count": 16,
   "metadata": {},
   "outputs": [],
   "source": [
    "precio = train[\"precio\"]\n",
    "train = train.drop(labels=\"precio\", axis=1)"
   ]
  },
  {
   "cell_type": "code",
   "execution_count": 17,
   "metadata": {},
   "outputs": [
    {
     "name": "stderr",
     "output_type": "stream",
     "text": [
      "C:\\Users\\Fernando\\Anaconda3\\lib\\site-packages\\sklearn\\preprocessing\\data.py:323: DataConversionWarning: Data with input dtype int64, float64 were all converted to float64 by MinMaxScaler.\n",
      "  return self.partial_fit(X, y)\n"
     ]
    }
   ],
   "source": [
    "train = normalizar_data(train)"
   ]
  },
  {
   "cell_type": "code",
   "execution_count": 18,
   "metadata": {},
   "outputs": [],
   "source": [
    "precio = precio.reset_index()"
   ]
  },
  {
   "cell_type": "code",
   "execution_count": 19,
   "metadata": {},
   "outputs": [],
   "source": [
    "id_predic = []\n",
    "predic = []\n",
    "\n",
    "for x in range(5000):\n",
    "    i = random.randrange(0, train.shape[0])\n",
    "    knn.fit(train.drop(i), precio[\"precio\"].drop(i))\n",
    "    id_predic.append(i)\n",
    "    predic.append(knn.predict(train.loc[[i]]))"
   ]
  },
  {
   "cell_type": "code",
   "execution_count": 20,
   "metadata": {},
   "outputs": [
    {
     "data": {
      "text/plain": [
       "648382.7121751433"
      ]
     },
     "execution_count": 20,
     "metadata": {},
     "output_type": "execute_result"
    }
   ],
   "source": [
    "real = []\n",
    "for x in id_predic:\n",
    "    real.append(precio.loc[x][\"precio\"])\n",
    "    \n",
    "mean_absolute_error(real, predic)"
   ]
  },
  {
   "cell_type": "markdown",
   "metadata": {},
   "source": [
    "Ahora veo el score para las propiedades que tire del train"
   ]
  },
  {
   "cell_type": "code",
   "execution_count": 7,
   "metadata": {},
   "outputs": [],
   "source": [
    "train_test = pd.read_csv('data/train_full.csv',parse_dates = ['fecha'])\n",
    "train_test = train_test.fillna(0)"
   ]
  },
  {
   "cell_type": "code",
   "execution_count": 8,
   "metadata": {
    "colab": {
     "base_uri": "https://localhost:8080/",
     "height": 151
    },
    "colab_type": "code",
    "executionInfo": {
     "elapsed": 2182,
     "status": "ok",
     "timestamp": 1574091034406,
     "user": {
      "displayName": "Luciano Ortiz",
      "photoUrl": "https://lh3.googleusercontent.com/-pyWD0HqQv8U/AAAAAAAAAAI/AAAAAAAAANk/VOXi9VxNwkA/s64/photo.jpg",
      "userId": "16854415741925197295"
     },
     "user_tz": 180
    },
    "id": "wi0CoPv5Dzkj",
    "outputId": "bf3c63b4-7a17-4f33-c966-3c8c78d11db7",
    "scrolled": true
   },
   "outputs": [
    {
     "data": {
      "text/html": [
       "<div>\n",
       "<style scoped>\n",
       "    .dataframe tbody tr th:only-of-type {\n",
       "        vertical-align: middle;\n",
       "    }\n",
       "\n",
       "    .dataframe tbody tr th {\n",
       "        vertical-align: top;\n",
       "    }\n",
       "\n",
       "    .dataframe thead th {\n",
       "        text-align: right;\n",
       "    }\n",
       "</style>\n",
       "<table border=\"1\" class=\"dataframe\">\n",
       "  <thead>\n",
       "    <tr style=\"text-align: right;\">\n",
       "      <th></th>\n",
       "      <th>id</th>\n",
       "      <th>titulo</th>\n",
       "      <th>descripcion</th>\n",
       "      <th>tipodepropiedad</th>\n",
       "      <th>direccion</th>\n",
       "      <th>ciudad</th>\n",
       "      <th>provincia</th>\n",
       "      <th>antiguedad</th>\n",
       "      <th>habitaciones</th>\n",
       "      <th>garages</th>\n",
       "      <th>...</th>\n",
       "      <th>lat</th>\n",
       "      <th>lng</th>\n",
       "      <th>fecha</th>\n",
       "      <th>gimnasio</th>\n",
       "      <th>usosmultiples</th>\n",
       "      <th>piscina</th>\n",
       "      <th>escuelascercanas</th>\n",
       "      <th>centroscomercialescercanos</th>\n",
       "      <th>precio</th>\n",
       "      <th>puntaje_por_fecha</th>\n",
       "    </tr>\n",
       "  </thead>\n",
       "  <tbody>\n",
       "    <tr>\n",
       "      <th>0</th>\n",
       "      <td>254099</td>\n",
       "      <td>depto. tipo a-402</td>\n",
       "      <td>depto. interior de 80.15m2, consta de sala com...</td>\n",
       "      <td>Apartamento</td>\n",
       "      <td>Avenida Division del Norte 2005</td>\n",
       "      <td>Benito Juárez</td>\n",
       "      <td>Distrito Federal</td>\n",
       "      <td>8</td>\n",
       "      <td>2</td>\n",
       "      <td>1</td>\n",
       "      <td>...</td>\n",
       "      <td>0.0</td>\n",
       "      <td>0.0</td>\n",
       "      <td>2015-08-23</td>\n",
       "      <td>0</td>\n",
       "      <td>0</td>\n",
       "      <td>0</td>\n",
       "      <td>0</td>\n",
       "      <td>0</td>\n",
       "      <td>2273000</td>\n",
       "      <td>0.728368</td>\n",
       "    </tr>\n",
       "  </tbody>\n",
       "</table>\n",
       "<p>1 rows × 24 columns</p>\n",
       "</div>"
      ],
      "text/plain": [
       "       id             titulo  \\\n",
       "0  254099  depto. tipo a-402   \n",
       "\n",
       "                                         descripcion tipodepropiedad  \\\n",
       "0  depto. interior de 80.15m2, consta de sala com...     Apartamento   \n",
       "\n",
       "                         direccion         ciudad         provincia  \\\n",
       "0  Avenida Division del Norte 2005  Benito Juárez  Distrito Federal   \n",
       "\n",
       "   antiguedad  habitaciones  garages        ...          lat  lng      fecha  \\\n",
       "0           8             2        1        ...          0.0  0.0 2015-08-23   \n",
       "\n",
       "   gimnasio  usosmultiples  piscina escuelascercanas  \\\n",
       "0         0              0        0                0   \n",
       "\n",
       "   centroscomercialescercanos   precio  puntaje_por_fecha  \n",
       "0                           0  2273000           0.728368  \n",
       "\n",
       "[1 rows x 24 columns]"
      ]
     },
     "execution_count": 8,
     "metadata": {},
     "output_type": "execute_result"
    }
   ],
   "source": [
    "train_test[\"puntaje_por_fecha\"] = train_test['fecha'].transform(lambda x: calificar_fecha(x))\n",
    "train_test.head(1)"
   ]
  },
  {
   "cell_type": "code",
   "execution_count": 9,
   "metadata": {},
   "outputs": [],
   "source": [
    "#Count encoder para tipo de propiedad\n",
    "train_test[\"tipo_prop_enc\"] = pd.read_csv(\"data/tipo_prop_enc.csv\")[\"tipo_prop_enc\"]"
   ]
  },
  {
   "cell_type": "code",
   "execution_count": 10,
   "metadata": {},
   "outputs": [],
   "source": [
    "col_drop = [\"lat\",\"lng\",\"ciudad\",\"provincia\",\"idzona\",\"titulo\",\"descripcion\",\"id\",\"direccion\",\"tipodepropiedad\",\"fecha\"]\n",
    "train_test = train_test.drop(labels=col_drop, axis=1)"
   ]
  },
  {
   "cell_type": "code",
   "execution_count": 11,
   "metadata": {},
   "outputs": [],
   "source": [
    "precio_tt = train_test[\"precio\"]\n",
    "train_test = train_test.drop(labels=\"precio\", axis=1)"
   ]
  },
  {
   "cell_type": "code",
   "execution_count": 4,
   "metadata": {},
   "outputs": [],
   "source": [
    "train = pd.read_csv('data/train.csv',parse_dates = ['fecha'])"
   ]
  },
  {
   "cell_type": "code",
   "execution_count": 12,
   "metadata": {
    "colab": {
     "base_uri": "https://localhost:8080/",
     "height": 151
    },
    "colab_type": "code",
    "executionInfo": {
     "elapsed": 2182,
     "status": "ok",
     "timestamp": 1574091034406,
     "user": {
      "displayName": "Luciano Ortiz",
      "photoUrl": "https://lh3.googleusercontent.com/-pyWD0HqQv8U/AAAAAAAAAAI/AAAAAAAAANk/VOXi9VxNwkA/s64/photo.jpg",
      "userId": "16854415741925197295"
     },
     "user_tz": 180
    },
    "id": "wi0CoPv5Dzkj",
    "outputId": "bf3c63b4-7a17-4f33-c966-3c8c78d11db7",
    "scrolled": true
   },
   "outputs": [
    {
     "data": {
      "text/html": [
       "<div>\n",
       "<style scoped>\n",
       "    .dataframe tbody tr th:only-of-type {\n",
       "        vertical-align: middle;\n",
       "    }\n",
       "\n",
       "    .dataframe tbody tr th {\n",
       "        vertical-align: top;\n",
       "    }\n",
       "\n",
       "    .dataframe thead th {\n",
       "        text-align: right;\n",
       "    }\n",
       "</style>\n",
       "<table border=\"1\" class=\"dataframe\">\n",
       "  <thead>\n",
       "    <tr style=\"text-align: right;\">\n",
       "      <th></th>\n",
       "      <th>id</th>\n",
       "      <th>titulo</th>\n",
       "      <th>descripcion</th>\n",
       "      <th>tipodepropiedad</th>\n",
       "      <th>direccion</th>\n",
       "      <th>ciudad</th>\n",
       "      <th>provincia</th>\n",
       "      <th>antiguedad</th>\n",
       "      <th>habitaciones</th>\n",
       "      <th>garages</th>\n",
       "      <th>...</th>\n",
       "      <th>lat</th>\n",
       "      <th>lng</th>\n",
       "      <th>fecha</th>\n",
       "      <th>gimnasio</th>\n",
       "      <th>usosmultiples</th>\n",
       "      <th>piscina</th>\n",
       "      <th>escuelascercanas</th>\n",
       "      <th>centroscomercialescercanos</th>\n",
       "      <th>precio</th>\n",
       "      <th>puntaje_por_fecha</th>\n",
       "    </tr>\n",
       "  </thead>\n",
       "  <tbody>\n",
       "    <tr>\n",
       "      <th>0</th>\n",
       "      <td>254099</td>\n",
       "      <td>depto. tipo a-402</td>\n",
       "      <td>depto. interior de 80.15m2, consta de sala com...</td>\n",
       "      <td>Apartamento</td>\n",
       "      <td>Avenida Division del Norte 2005</td>\n",
       "      <td>Benito Juárez</td>\n",
       "      <td>Distrito Federal</td>\n",
       "      <td>NaN</td>\n",
       "      <td>2.0</td>\n",
       "      <td>1.0</td>\n",
       "      <td>...</td>\n",
       "      <td>NaN</td>\n",
       "      <td>NaN</td>\n",
       "      <td>2015-08-23</td>\n",
       "      <td>0.0</td>\n",
       "      <td>0.0</td>\n",
       "      <td>0.0</td>\n",
       "      <td>0.0</td>\n",
       "      <td>0.0</td>\n",
       "      <td>2273000.0</td>\n",
       "      <td>0.728368</td>\n",
       "    </tr>\n",
       "  </tbody>\n",
       "</table>\n",
       "<p>1 rows × 24 columns</p>\n",
       "</div>"
      ],
      "text/plain": [
       "       id             titulo  \\\n",
       "0  254099  depto. tipo a-402   \n",
       "\n",
       "                                         descripcion tipodepropiedad  \\\n",
       "0  depto. interior de 80.15m2, consta de sala com...     Apartamento   \n",
       "\n",
       "                         direccion         ciudad         provincia  \\\n",
       "0  Avenida Division del Norte 2005  Benito Juárez  Distrito Federal   \n",
       "\n",
       "   antiguedad  habitaciones  garages        ...          lat  lng      fecha  \\\n",
       "0         NaN           2.0      1.0        ...          NaN  NaN 2015-08-23   \n",
       "\n",
       "   gimnasio  usosmultiples  piscina escuelascercanas  \\\n",
       "0       0.0            0.0      0.0              0.0   \n",
       "\n",
       "   centroscomercialescercanos     precio  puntaje_por_fecha  \n",
       "0                         0.0  2273000.0           0.728368  \n",
       "\n",
       "[1 rows x 24 columns]"
      ]
     },
     "execution_count": 12,
     "metadata": {},
     "output_type": "execute_result"
    }
   ],
   "source": [
    "train[\"puntaje_por_fecha\"] = train['fecha'].transform(lambda x: calificar_fecha(x))\n",
    "train.head(1)"
   ]
  },
  {
   "cell_type": "code",
   "execution_count": 13,
   "metadata": {},
   "outputs": [],
   "source": [
    "#Count encoder para tipo de propiedad\n",
    "train[\"tipo_prop_enc\"] = pd.read_csv(\"data/tipo_prop_enc_sin_nulls.csv\")[\"tipo_prop_enc\"]"
   ]
  },
  {
   "cell_type": "code",
   "execution_count": 14,
   "metadata": {},
   "outputs": [],
   "source": [
    "col_drop = [\"lat\",\"lng\",\"ciudad\",\"provincia\",\"idzona\",\"titulo\",\"descripcion\",\"id\",\"direccion\",\"tipodepropiedad\",\"fecha\"]\n",
    "train = train.drop(labels=col_drop, axis=1)"
   ]
  },
  {
   "cell_type": "code",
   "execution_count": 15,
   "metadata": {},
   "outputs": [],
   "source": [
    "train = train.dropna()"
   ]
  },
  {
   "cell_type": "code",
   "execution_count": 17,
   "metadata": {},
   "outputs": [],
   "source": [
    "precio = train[\"precio\"]\n",
    "train = train.drop(labels=\"precio\", axis=1)"
   ]
  },
  {
   "cell_type": "code",
   "execution_count": 18,
   "metadata": {},
   "outputs": [],
   "source": [
    "train_test = train_test.drop(train.index)\n",
    "precio_tt = precio_tt.drop(train.index)\n",
    "precio_tt = precio_tt.reset_index()"
   ]
  },
  {
   "cell_type": "code",
   "execution_count": 19,
   "metadata": {},
   "outputs": [
    {
     "name": "stderr",
     "output_type": "stream",
     "text": [
      "C:\\Users\\Fernando\\Anaconda3\\lib\\site-packages\\sklearn\\preprocessing\\data.py:323: DataConversionWarning: Data with input dtype int64, float64 were all converted to float64 by MinMaxScaler.\n",
      "  return self.partial_fit(X, y)\n"
     ]
    }
   ],
   "source": [
    "train_test = normalizar_data(train_test)"
   ]
  },
  {
   "cell_type": "code",
   "execution_count": 20,
   "metadata": {},
   "outputs": [],
   "source": [
    "train = normalizar_data(train)"
   ]
  },
  {
   "cell_type": "code",
   "execution_count": 21,
   "metadata": {},
   "outputs": [],
   "source": [
    "precio = precio.reset_index()"
   ]
  },
  {
   "cell_type": "code",
   "execution_count": 22,
   "metadata": {},
   "outputs": [],
   "source": [
    "id_predic = []\n",
    "predic = []\n",
    "\n",
    "for x in range(5000):\n",
    "    i = random.randrange(0, train_test.shape[0])\n",
    "    knn.fit(train, precio[\"precio\"])\n",
    "    id_predic.append(i)\n",
    "    predic.append(knn.predict(train_test.loc[[i]]))"
   ]
  },
  {
   "cell_type": "code",
   "execution_count": 23,
   "metadata": {},
   "outputs": [
    {
     "data": {
      "text/plain": [
       "1131366.3975394792"
      ]
     },
     "execution_count": 23,
     "metadata": {},
     "output_type": "execute_result"
    }
   ],
   "source": [
    "real = []\n",
    "for x in id_predic:\n",
    "    real.append(precio_tt.loc[x][\"precio\"])\n",
    "    \n",
    "mean_absolute_error(real, predic)"
   ]
  },
  {
   "cell_type": "markdown",
   "metadata": {},
   "source": [
    "Ahora hago lo mismo pero con menos columnas"
   ]
  },
  {
   "cell_type": "code",
   "execution_count": 24,
   "metadata": {},
   "outputs": [],
   "source": [
    "train_test = pd.read_csv('data/train_full.csv',parse_dates = ['fecha'])\n",
    "train_test = train_test.fillna(0)"
   ]
  },
  {
   "cell_type": "code",
   "execution_count": 25,
   "metadata": {
    "colab": {
     "base_uri": "https://localhost:8080/",
     "height": 151
    },
    "colab_type": "code",
    "executionInfo": {
     "elapsed": 2182,
     "status": "ok",
     "timestamp": 1574091034406,
     "user": {
      "displayName": "Luciano Ortiz",
      "photoUrl": "https://lh3.googleusercontent.com/-pyWD0HqQv8U/AAAAAAAAAAI/AAAAAAAAANk/VOXi9VxNwkA/s64/photo.jpg",
      "userId": "16854415741925197295"
     },
     "user_tz": 180
    },
    "id": "wi0CoPv5Dzkj",
    "outputId": "bf3c63b4-7a17-4f33-c966-3c8c78d11db7",
    "scrolled": true
   },
   "outputs": [
    {
     "data": {
      "text/html": [
       "<div>\n",
       "<style scoped>\n",
       "    .dataframe tbody tr th:only-of-type {\n",
       "        vertical-align: middle;\n",
       "    }\n",
       "\n",
       "    .dataframe tbody tr th {\n",
       "        vertical-align: top;\n",
       "    }\n",
       "\n",
       "    .dataframe thead th {\n",
       "        text-align: right;\n",
       "    }\n",
       "</style>\n",
       "<table border=\"1\" class=\"dataframe\">\n",
       "  <thead>\n",
       "    <tr style=\"text-align: right;\">\n",
       "      <th></th>\n",
       "      <th>id</th>\n",
       "      <th>titulo</th>\n",
       "      <th>descripcion</th>\n",
       "      <th>tipodepropiedad</th>\n",
       "      <th>direccion</th>\n",
       "      <th>ciudad</th>\n",
       "      <th>provincia</th>\n",
       "      <th>antiguedad</th>\n",
       "      <th>habitaciones</th>\n",
       "      <th>garages</th>\n",
       "      <th>...</th>\n",
       "      <th>lat</th>\n",
       "      <th>lng</th>\n",
       "      <th>fecha</th>\n",
       "      <th>gimnasio</th>\n",
       "      <th>usosmultiples</th>\n",
       "      <th>piscina</th>\n",
       "      <th>escuelascercanas</th>\n",
       "      <th>centroscomercialescercanos</th>\n",
       "      <th>precio</th>\n",
       "      <th>puntaje_por_fecha</th>\n",
       "    </tr>\n",
       "  </thead>\n",
       "  <tbody>\n",
       "    <tr>\n",
       "      <th>0</th>\n",
       "      <td>254099</td>\n",
       "      <td>depto. tipo a-402</td>\n",
       "      <td>depto. interior de 80.15m2, consta de sala com...</td>\n",
       "      <td>Apartamento</td>\n",
       "      <td>Avenida Division del Norte 2005</td>\n",
       "      <td>Benito Juárez</td>\n",
       "      <td>Distrito Federal</td>\n",
       "      <td>8</td>\n",
       "      <td>2</td>\n",
       "      <td>1</td>\n",
       "      <td>...</td>\n",
       "      <td>0.0</td>\n",
       "      <td>0.0</td>\n",
       "      <td>2015-08-23</td>\n",
       "      <td>0</td>\n",
       "      <td>0</td>\n",
       "      <td>0</td>\n",
       "      <td>0</td>\n",
       "      <td>0</td>\n",
       "      <td>2273000</td>\n",
       "      <td>0.728368</td>\n",
       "    </tr>\n",
       "  </tbody>\n",
       "</table>\n",
       "<p>1 rows × 24 columns</p>\n",
       "</div>"
      ],
      "text/plain": [
       "       id             titulo  \\\n",
       "0  254099  depto. tipo a-402   \n",
       "\n",
       "                                         descripcion tipodepropiedad  \\\n",
       "0  depto. interior de 80.15m2, consta de sala com...     Apartamento   \n",
       "\n",
       "                         direccion         ciudad         provincia  \\\n",
       "0  Avenida Division del Norte 2005  Benito Juárez  Distrito Federal   \n",
       "\n",
       "   antiguedad  habitaciones  garages        ...          lat  lng      fecha  \\\n",
       "0           8             2        1        ...          0.0  0.0 2015-08-23   \n",
       "\n",
       "   gimnasio  usosmultiples  piscina escuelascercanas  \\\n",
       "0         0              0        0                0   \n",
       "\n",
       "   centroscomercialescercanos   precio  puntaje_por_fecha  \n",
       "0                           0  2273000           0.728368  \n",
       "\n",
       "[1 rows x 24 columns]"
      ]
     },
     "execution_count": 25,
     "metadata": {},
     "output_type": "execute_result"
    }
   ],
   "source": [
    "train_test[\"puntaje_por_fecha\"] = train_test['fecha'].transform(lambda x: calificar_fecha(x))\n",
    "train_test.head(1)"
   ]
  },
  {
   "cell_type": "code",
   "execution_count": 26,
   "metadata": {},
   "outputs": [],
   "source": [
    "#Count encoder para tipo de propiedad\n",
    "train_test[\"tipo_prop_enc\"] = pd.read_csv(\"data/tipo_prop_enc.csv\")[\"tipo_prop_enc\"]"
   ]
  },
  {
   "cell_type": "code",
   "execution_count": 27,
   "metadata": {},
   "outputs": [],
   "source": [
    "col_drop = [\"lat\",\"lng\",\"ciudad\",\"provincia\",\"idzona\",\"titulo\",\"descripcion\",\"id\",\"direccion\",\"tipodepropiedad\",\"fecha\"]\n",
    "col_drop_2 = [\"antiguedad\", \"garages\", \"banos\", \"habitaciones\"]\n",
    "train_test = train_test.drop(labels=col_drop+col_drop_2, axis=1)"
   ]
  },
  {
   "cell_type": "code",
   "execution_count": 28,
   "metadata": {},
   "outputs": [],
   "source": [
    "precio_tt = train_test[\"precio\"]\n",
    "train_test = train_test.drop(labels=\"precio\", axis=1)"
   ]
  },
  {
   "cell_type": "code",
   "execution_count": 29,
   "metadata": {},
   "outputs": [],
   "source": [
    "train = pd.read_csv('data/train.csv',parse_dates = ['fecha'])"
   ]
  },
  {
   "cell_type": "code",
   "execution_count": 30,
   "metadata": {
    "colab": {
     "base_uri": "https://localhost:8080/",
     "height": 151
    },
    "colab_type": "code",
    "executionInfo": {
     "elapsed": 2182,
     "status": "ok",
     "timestamp": 1574091034406,
     "user": {
      "displayName": "Luciano Ortiz",
      "photoUrl": "https://lh3.googleusercontent.com/-pyWD0HqQv8U/AAAAAAAAAAI/AAAAAAAAANk/VOXi9VxNwkA/s64/photo.jpg",
      "userId": "16854415741925197295"
     },
     "user_tz": 180
    },
    "id": "wi0CoPv5Dzkj",
    "outputId": "bf3c63b4-7a17-4f33-c966-3c8c78d11db7",
    "scrolled": true
   },
   "outputs": [
    {
     "data": {
      "text/html": [
       "<div>\n",
       "<style scoped>\n",
       "    .dataframe tbody tr th:only-of-type {\n",
       "        vertical-align: middle;\n",
       "    }\n",
       "\n",
       "    .dataframe tbody tr th {\n",
       "        vertical-align: top;\n",
       "    }\n",
       "\n",
       "    .dataframe thead th {\n",
       "        text-align: right;\n",
       "    }\n",
       "</style>\n",
       "<table border=\"1\" class=\"dataframe\">\n",
       "  <thead>\n",
       "    <tr style=\"text-align: right;\">\n",
       "      <th></th>\n",
       "      <th>id</th>\n",
       "      <th>titulo</th>\n",
       "      <th>descripcion</th>\n",
       "      <th>tipodepropiedad</th>\n",
       "      <th>direccion</th>\n",
       "      <th>ciudad</th>\n",
       "      <th>provincia</th>\n",
       "      <th>antiguedad</th>\n",
       "      <th>habitaciones</th>\n",
       "      <th>garages</th>\n",
       "      <th>...</th>\n",
       "      <th>lat</th>\n",
       "      <th>lng</th>\n",
       "      <th>fecha</th>\n",
       "      <th>gimnasio</th>\n",
       "      <th>usosmultiples</th>\n",
       "      <th>piscina</th>\n",
       "      <th>escuelascercanas</th>\n",
       "      <th>centroscomercialescercanos</th>\n",
       "      <th>precio</th>\n",
       "      <th>puntaje_por_fecha</th>\n",
       "    </tr>\n",
       "  </thead>\n",
       "  <tbody>\n",
       "    <tr>\n",
       "      <th>0</th>\n",
       "      <td>254099</td>\n",
       "      <td>depto. tipo a-402</td>\n",
       "      <td>depto. interior de 80.15m2, consta de sala com...</td>\n",
       "      <td>Apartamento</td>\n",
       "      <td>Avenida Division del Norte 2005</td>\n",
       "      <td>Benito Juárez</td>\n",
       "      <td>Distrito Federal</td>\n",
       "      <td>NaN</td>\n",
       "      <td>2.0</td>\n",
       "      <td>1.0</td>\n",
       "      <td>...</td>\n",
       "      <td>NaN</td>\n",
       "      <td>NaN</td>\n",
       "      <td>2015-08-23</td>\n",
       "      <td>0.0</td>\n",
       "      <td>0.0</td>\n",
       "      <td>0.0</td>\n",
       "      <td>0.0</td>\n",
       "      <td>0.0</td>\n",
       "      <td>2273000.0</td>\n",
       "      <td>0.728368</td>\n",
       "    </tr>\n",
       "  </tbody>\n",
       "</table>\n",
       "<p>1 rows × 24 columns</p>\n",
       "</div>"
      ],
      "text/plain": [
       "       id             titulo  \\\n",
       "0  254099  depto. tipo a-402   \n",
       "\n",
       "                                         descripcion tipodepropiedad  \\\n",
       "0  depto. interior de 80.15m2, consta de sala com...     Apartamento   \n",
       "\n",
       "                         direccion         ciudad         provincia  \\\n",
       "0  Avenida Division del Norte 2005  Benito Juárez  Distrito Federal   \n",
       "\n",
       "   antiguedad  habitaciones  garages        ...          lat  lng      fecha  \\\n",
       "0         NaN           2.0      1.0        ...          NaN  NaN 2015-08-23   \n",
       "\n",
       "   gimnasio  usosmultiples  piscina escuelascercanas  \\\n",
       "0       0.0            0.0      0.0              0.0   \n",
       "\n",
       "   centroscomercialescercanos     precio  puntaje_por_fecha  \n",
       "0                         0.0  2273000.0           0.728368  \n",
       "\n",
       "[1 rows x 24 columns]"
      ]
     },
     "execution_count": 30,
     "metadata": {},
     "output_type": "execute_result"
    }
   ],
   "source": [
    "train[\"puntaje_por_fecha\"] = train['fecha'].transform(lambda x: calificar_fecha(x))\n",
    "train.head(1)"
   ]
  },
  {
   "cell_type": "code",
   "execution_count": 31,
   "metadata": {},
   "outputs": [],
   "source": [
    "#Count encoder para tipo de propiedad\n",
    "train[\"tipo_prop_enc\"] = pd.read_csv(\"data/tipo_prop_enc_sin_nulls.csv\")[\"tipo_prop_enc\"]"
   ]
  },
  {
   "cell_type": "code",
   "execution_count": 32,
   "metadata": {},
   "outputs": [],
   "source": [
    "col_drop = [\"lat\",\"lng\",\"ciudad\",\"provincia\",\"idzona\",\"titulo\",\"descripcion\",\"id\",\"direccion\",\"tipodepropiedad\",\"fecha\"]\n",
    "col_drop_2 = [\"antiguedad\", \"garages\", \"banos\", \"habitaciones\"]\n",
    "train = train.drop(labels=col_drop+col_drop_2, axis=1)"
   ]
  },
  {
   "cell_type": "code",
   "execution_count": 33,
   "metadata": {},
   "outputs": [],
   "source": [
    "train = train.dropna()"
   ]
  },
  {
   "cell_type": "code",
   "execution_count": 35,
   "metadata": {},
   "outputs": [],
   "source": [
    "precio = train[\"precio\"]\n",
    "train = train.drop(labels=\"precio\", axis=1)"
   ]
  },
  {
   "cell_type": "code",
   "execution_count": 36,
   "metadata": {},
   "outputs": [],
   "source": [
    "train_test = train_test.drop(train.index)\n",
    "precio_tt = precio_tt.drop(train.index)\n",
    "precio_tt = precio_tt.reset_index()"
   ]
  },
  {
   "cell_type": "code",
   "execution_count": 37,
   "metadata": {},
   "outputs": [
    {
     "name": "stderr",
     "output_type": "stream",
     "text": [
      "C:\\Users\\Fernando\\Anaconda3\\lib\\site-packages\\sklearn\\preprocessing\\data.py:323: DataConversionWarning: Data with input dtype int64, float64 were all converted to float64 by MinMaxScaler.\n",
      "  return self.partial_fit(X, y)\n"
     ]
    }
   ],
   "source": [
    "train_test = normalizar_data(train_test)"
   ]
  },
  {
   "cell_type": "code",
   "execution_count": 38,
   "metadata": {},
   "outputs": [],
   "source": [
    "train = normalizar_data(train)"
   ]
  },
  {
   "cell_type": "code",
   "execution_count": 39,
   "metadata": {},
   "outputs": [],
   "source": [
    "precio = precio.reset_index()"
   ]
  },
  {
   "cell_type": "code",
   "execution_count": 40,
   "metadata": {},
   "outputs": [],
   "source": [
    "id_predic = []\n",
    "predic = []\n",
    "\n",
    "for x in range(5000):\n",
    "    i = random.randrange(0, train_test.shape[0])\n",
    "    knn.fit(train, precio[\"precio\"])\n",
    "    id_predic.append(i)\n",
    "    predic.append(knn.predict(train_test.loc[[i]]))"
   ]
  },
  {
   "cell_type": "code",
   "execution_count": 41,
   "metadata": {},
   "outputs": [
    {
     "data": {
      "text/plain": [
       "1153028.0325529815"
      ]
     },
     "execution_count": 41,
     "metadata": {},
     "output_type": "execute_result"
    }
   ],
   "source": [
    "real = []\n",
    "for x in id_predic:\n",
    "    real.append(precio_tt.loc[x][\"precio\"])\n",
    "    \n",
    "mean_absolute_error(real, predic)"
   ]
  },
  {
   "cell_type": "markdown",
   "metadata": {},
   "source": [
    "### Creo clusters por fecha"
   ]
  },
  {
   "cell_type": "code",
   "execution_count": 9,
   "metadata": {},
   "outputs": [],
   "source": [
    "from sklearn.neighbors import NearestCentroid"
   ]
  },
  {
   "cell_type": "code",
   "execution_count": 21,
   "metadata": {},
   "outputs": [],
   "source": [
    "train = pd.read_csv('data/train_full.csv',parse_dates = ['fecha'])"
   ]
  },
  {
   "cell_type": "code",
   "execution_count": 22,
   "metadata": {
    "colab": {
     "base_uri": "https://localhost:8080/",
     "height": 151
    },
    "colab_type": "code",
    "executionInfo": {
     "elapsed": 2182,
     "status": "ok",
     "timestamp": 1574091034406,
     "user": {
      "displayName": "Luciano Ortiz",
      "photoUrl": "https://lh3.googleusercontent.com/-pyWD0HqQv8U/AAAAAAAAAAI/AAAAAAAAANk/VOXi9VxNwkA/s64/photo.jpg",
      "userId": "16854415741925197295"
     },
     "user_tz": 180
    },
    "id": "wi0CoPv5Dzkj",
    "outputId": "bf3c63b4-7a17-4f33-c966-3c8c78d11db7",
    "scrolled": true
   },
   "outputs": [
    {
     "data": {
      "text/html": [
       "<div>\n",
       "<style scoped>\n",
       "    .dataframe tbody tr th:only-of-type {\n",
       "        vertical-align: middle;\n",
       "    }\n",
       "\n",
       "    .dataframe tbody tr th {\n",
       "        vertical-align: top;\n",
       "    }\n",
       "\n",
       "    .dataframe thead th {\n",
       "        text-align: right;\n",
       "    }\n",
       "</style>\n",
       "<table border=\"1\" class=\"dataframe\">\n",
       "  <thead>\n",
       "    <tr style=\"text-align: right;\">\n",
       "      <th></th>\n",
       "      <th>id</th>\n",
       "      <th>titulo</th>\n",
       "      <th>descripcion</th>\n",
       "      <th>tipodepropiedad</th>\n",
       "      <th>direccion</th>\n",
       "      <th>ciudad</th>\n",
       "      <th>provincia</th>\n",
       "      <th>antiguedad</th>\n",
       "      <th>habitaciones</th>\n",
       "      <th>garages</th>\n",
       "      <th>...</th>\n",
       "      <th>lat</th>\n",
       "      <th>lng</th>\n",
       "      <th>fecha</th>\n",
       "      <th>gimnasio</th>\n",
       "      <th>usosmultiples</th>\n",
       "      <th>piscina</th>\n",
       "      <th>escuelascercanas</th>\n",
       "      <th>centroscomercialescercanos</th>\n",
       "      <th>precio</th>\n",
       "      <th>puntaje_por_fecha</th>\n",
       "    </tr>\n",
       "  </thead>\n",
       "  <tbody>\n",
       "    <tr>\n",
       "      <th>0</th>\n",
       "      <td>254099</td>\n",
       "      <td>depto. tipo a-402</td>\n",
       "      <td>depto. interior de 80.15m2, consta de sala com...</td>\n",
       "      <td>Apartamento</td>\n",
       "      <td>Avenida Division del Norte 2005</td>\n",
       "      <td>Benito Juárez</td>\n",
       "      <td>Distrito Federal</td>\n",
       "      <td>8</td>\n",
       "      <td>2</td>\n",
       "      <td>1</td>\n",
       "      <td>...</td>\n",
       "      <td>0.0</td>\n",
       "      <td>0.0</td>\n",
       "      <td>2015-08-23</td>\n",
       "      <td>0</td>\n",
       "      <td>0</td>\n",
       "      <td>0</td>\n",
       "      <td>0</td>\n",
       "      <td>0</td>\n",
       "      <td>2273000</td>\n",
       "      <td>0.728368</td>\n",
       "    </tr>\n",
       "  </tbody>\n",
       "</table>\n",
       "<p>1 rows × 24 columns</p>\n",
       "</div>"
      ],
      "text/plain": [
       "       id             titulo  \\\n",
       "0  254099  depto. tipo a-402   \n",
       "\n",
       "                                         descripcion tipodepropiedad  \\\n",
       "0  depto. interior de 80.15m2, consta de sala com...     Apartamento   \n",
       "\n",
       "                         direccion         ciudad         provincia  \\\n",
       "0  Avenida Division del Norte 2005  Benito Juárez  Distrito Federal   \n",
       "\n",
       "   antiguedad  habitaciones  garages        ...          lat  lng      fecha  \\\n",
       "0           8             2        1        ...          0.0  0.0 2015-08-23   \n",
       "\n",
       "   gimnasio  usosmultiples  piscina escuelascercanas  \\\n",
       "0         0              0        0                0   \n",
       "\n",
       "   centroscomercialescercanos   precio  puntaje_por_fecha  \n",
       "0                           0  2273000           0.728368  \n",
       "\n",
       "[1 rows x 24 columns]"
      ]
     },
     "execution_count": 22,
     "metadata": {},
     "output_type": "execute_result"
    }
   ],
   "source": [
    "train[\"puntaje_por_fecha\"] = train['fecha'].transform(lambda x: calificar_fecha(x))\n",
    "train.head(1)"
   ]
  },
  {
   "cell_type": "code",
   "execution_count": 23,
   "metadata": {},
   "outputs": [],
   "source": [
    "#Count encoder para tipo de propiedad\n",
    "train[\"tipo_prop_enc\"] = pd.read_csv(\"data/tipo_prop_enc.csv\")[\"tipo_prop_enc\"]"
   ]
  },
  {
   "cell_type": "code",
   "execution_count": 24,
   "metadata": {},
   "outputs": [],
   "source": [
    "train = train.sort_values(\"fecha\")"
   ]
  },
  {
   "cell_type": "code",
   "execution_count": 25,
   "metadata": {},
   "outputs": [],
   "source": [
    "clase_fecha = train.index.map(lambda x: x//500).to_frame()[0]"
   ]
  },
  {
   "cell_type": "code",
   "execution_count": 26,
   "metadata": {},
   "outputs": [],
   "source": [
    "col_drop = [\"lat\",\"lng\",\"ciudad\",\"provincia\",\"idzona\",\"titulo\",\"descripcion\",\"id\",\"direccion\",\"tipodepropiedad\",\"fecha\"]\n",
    "train = train.drop(labels=col_drop, axis=1)"
   ]
  },
  {
   "cell_type": "code",
   "execution_count": 27,
   "metadata": {},
   "outputs": [],
   "source": [
    "precio = train[\"precio\"]\n",
    "train = train.drop(labels=\"precio\", axis=1)"
   ]
  },
  {
   "cell_type": "code",
   "execution_count": 28,
   "metadata": {},
   "outputs": [
    {
     "name": "stderr",
     "output_type": "stream",
     "text": [
      "C:\\Users\\Fernando\\Anaconda3\\lib\\site-packages\\sklearn\\preprocessing\\data.py:323: DataConversionWarning: Data with input dtype int64, float64 were all converted to float64 by MinMaxScaler.\n",
      "  return self.partial_fit(X, y)\n"
     ]
    }
   ],
   "source": [
    "train = normalizar_data(train)"
   ]
  },
  {
   "cell_type": "code",
   "execution_count": 29,
   "metadata": {},
   "outputs": [
    {
     "data": {
      "text/plain": [
       "NearestCentroid(metric='manhattan', shrink_threshold=None)"
      ]
     },
     "execution_count": 29,
     "metadata": {},
     "output_type": "execute_result"
    }
   ],
   "source": [
    "nc = NearestCentroid(metric=\"manhattan\")\n",
    "nc.fit(train, clase_fecha)"
   ]
  },
  {
   "cell_type": "code",
   "execution_count": 30,
   "metadata": {},
   "outputs": [],
   "source": [
    "id_predic = []\n",
    "predic = []\n",
    "\n",
    "for x in range(5000):\n",
    "    i = random.randrange(0, train.shape[0])\n",
    "    clase_pred = nc.predict(train.loc[[i]])\n",
    "    rango = clase_fecha.loc[lambda x: x==clase_pred[0]].index\n",
    "    knn.fit(train.loc[rango], precio.loc[rango])\n",
    "    id_predic.append(i)\n",
    "    predic.append(knn.predict(train.loc[[i]]))"
   ]
  },
  {
   "cell_type": "code",
   "execution_count": 31,
   "metadata": {},
   "outputs": [
    {
     "data": {
      "text/plain": [
       "1828497.4802"
      ]
     },
     "execution_count": 31,
     "metadata": {},
     "output_type": "execute_result"
    }
   ],
   "source": [
    "real = []\n",
    "for x in id_predic:\n",
    "    real.append(precio[x])\n",
    "    \n",
    "mean_absolute_error(real, predic)"
   ]
  },
  {
   "cell_type": "markdown",
   "metadata": {},
   "source": [
    "### Creo clusters por rango de precios"
   ]
  },
  {
   "cell_type": "code",
   "execution_count": 67,
   "metadata": {},
   "outputs": [],
   "source": [
    "train = pd.read_csv('data/train_full.csv',parse_dates = ['fecha'])"
   ]
  },
  {
   "cell_type": "code",
   "execution_count": 68,
   "metadata": {
    "colab": {
     "base_uri": "https://localhost:8080/",
     "height": 151
    },
    "colab_type": "code",
    "executionInfo": {
     "elapsed": 2182,
     "status": "ok",
     "timestamp": 1574091034406,
     "user": {
      "displayName": "Luciano Ortiz",
      "photoUrl": "https://lh3.googleusercontent.com/-pyWD0HqQv8U/AAAAAAAAAAI/AAAAAAAAANk/VOXi9VxNwkA/s64/photo.jpg",
      "userId": "16854415741925197295"
     },
     "user_tz": 180
    },
    "id": "wi0CoPv5Dzkj",
    "outputId": "bf3c63b4-7a17-4f33-c966-3c8c78d11db7",
    "scrolled": true
   },
   "outputs": [
    {
     "data": {
      "text/html": [
       "<div>\n",
       "<style scoped>\n",
       "    .dataframe tbody tr th:only-of-type {\n",
       "        vertical-align: middle;\n",
       "    }\n",
       "\n",
       "    .dataframe tbody tr th {\n",
       "        vertical-align: top;\n",
       "    }\n",
       "\n",
       "    .dataframe thead th {\n",
       "        text-align: right;\n",
       "    }\n",
       "</style>\n",
       "<table border=\"1\" class=\"dataframe\">\n",
       "  <thead>\n",
       "    <tr style=\"text-align: right;\">\n",
       "      <th></th>\n",
       "      <th>id</th>\n",
       "      <th>titulo</th>\n",
       "      <th>descripcion</th>\n",
       "      <th>tipodepropiedad</th>\n",
       "      <th>direccion</th>\n",
       "      <th>ciudad</th>\n",
       "      <th>provincia</th>\n",
       "      <th>antiguedad</th>\n",
       "      <th>habitaciones</th>\n",
       "      <th>garages</th>\n",
       "      <th>...</th>\n",
       "      <th>lat</th>\n",
       "      <th>lng</th>\n",
       "      <th>fecha</th>\n",
       "      <th>gimnasio</th>\n",
       "      <th>usosmultiples</th>\n",
       "      <th>piscina</th>\n",
       "      <th>escuelascercanas</th>\n",
       "      <th>centroscomercialescercanos</th>\n",
       "      <th>precio</th>\n",
       "      <th>puntaje_por_fecha</th>\n",
       "    </tr>\n",
       "  </thead>\n",
       "  <tbody>\n",
       "    <tr>\n",
       "      <th>0</th>\n",
       "      <td>254099</td>\n",
       "      <td>depto. tipo a-402</td>\n",
       "      <td>depto. interior de 80.15m2, consta de sala com...</td>\n",
       "      <td>Apartamento</td>\n",
       "      <td>Avenida Division del Norte 2005</td>\n",
       "      <td>Benito Juárez</td>\n",
       "      <td>Distrito Federal</td>\n",
       "      <td>8</td>\n",
       "      <td>2</td>\n",
       "      <td>1</td>\n",
       "      <td>...</td>\n",
       "      <td>0.0</td>\n",
       "      <td>0.0</td>\n",
       "      <td>2015-08-23</td>\n",
       "      <td>0</td>\n",
       "      <td>0</td>\n",
       "      <td>0</td>\n",
       "      <td>0</td>\n",
       "      <td>0</td>\n",
       "      <td>2273000</td>\n",
       "      <td>0.728368</td>\n",
       "    </tr>\n",
       "  </tbody>\n",
       "</table>\n",
       "<p>1 rows × 24 columns</p>\n",
       "</div>"
      ],
      "text/plain": [
       "       id             titulo  \\\n",
       "0  254099  depto. tipo a-402   \n",
       "\n",
       "                                         descripcion tipodepropiedad  \\\n",
       "0  depto. interior de 80.15m2, consta de sala com...     Apartamento   \n",
       "\n",
       "                         direccion         ciudad         provincia  \\\n",
       "0  Avenida Division del Norte 2005  Benito Juárez  Distrito Federal   \n",
       "\n",
       "   antiguedad  habitaciones  garages        ...          lat  lng      fecha  \\\n",
       "0           8             2        1        ...          0.0  0.0 2015-08-23   \n",
       "\n",
       "   gimnasio  usosmultiples  piscina escuelascercanas  \\\n",
       "0         0              0        0                0   \n",
       "\n",
       "   centroscomercialescercanos   precio  puntaje_por_fecha  \n",
       "0                           0  2273000           0.728368  \n",
       "\n",
       "[1 rows x 24 columns]"
      ]
     },
     "execution_count": 68,
     "metadata": {},
     "output_type": "execute_result"
    }
   ],
   "source": [
    "train[\"puntaje_por_fecha\"] = train['fecha'].transform(lambda x: calificar_fecha(x))\n",
    "train.head(1)"
   ]
  },
  {
   "cell_type": "code",
   "execution_count": 69,
   "metadata": {},
   "outputs": [],
   "source": [
    "#Count encoder para tipo de propiedad\n",
    "train[\"tipo_prop_enc\"] = pd.read_csv(\"data/tipo_prop_enc.csv\")[\"tipo_prop_enc\"]"
   ]
  },
  {
   "cell_type": "code",
   "execution_count": 70,
   "metadata": {},
   "outputs": [],
   "source": [
    "train = train.sort_values(\"precio\")"
   ]
  },
  {
   "cell_type": "code",
   "execution_count": 71,
   "metadata": {},
   "outputs": [],
   "source": [
    "clase_precio = train.index.map(lambda x: x//500).to_frame()[0]"
   ]
  },
  {
   "cell_type": "code",
   "execution_count": 20,
   "metadata": {},
   "outputs": [],
   "source": [
    "col_drop = [\"lat\",\"lng\",\"ciudad\",\"provincia\",\"idzona\",\"titulo\",\"descripcion\",\"id\",\"direccion\",\"tipodepropiedad\",\"fecha\"]\n",
    "train = train.drop(labels=col_drop, axis=1)"
   ]
  },
  {
   "cell_type": "code",
   "execution_count": 73,
   "metadata": {},
   "outputs": [],
   "source": [
    "precio = train[\"precio\"]\n",
    "train = train.drop(labels=\"precio\", axis=1)"
   ]
  },
  {
   "cell_type": "code",
   "execution_count": 74,
   "metadata": {},
   "outputs": [
    {
     "name": "stderr",
     "output_type": "stream",
     "text": [
      "C:\\Users\\Fernando\\Anaconda3\\lib\\site-packages\\sklearn\\preprocessing\\data.py:323: DataConversionWarning: Data with input dtype int64, float64 were all converted to float64 by MinMaxScaler.\n",
      "  return self.partial_fit(X, y)\n"
     ]
    }
   ],
   "source": [
    "train = normalizar_data(train)"
   ]
  },
  {
   "cell_type": "code",
   "execution_count": 75,
   "metadata": {},
   "outputs": [
    {
     "data": {
      "text/plain": [
       "NearestCentroid(metric='manhattan', shrink_threshold=None)"
      ]
     },
     "execution_count": 75,
     "metadata": {},
     "output_type": "execute_result"
    }
   ],
   "source": [
    "nc = NearestCentroid(metric=\"manhattan\")\n",
    "nc.fit(train, clase_precio)"
   ]
  },
  {
   "cell_type": "code",
   "execution_count": 76,
   "metadata": {},
   "outputs": [],
   "source": [
    "id_predic = []\n",
    "predic = []\n",
    "\n",
    "for x in range(5000):\n",
    "    i = random.randrange(0, train.shape[0])\n",
    "    clase_pred = nc.predict(train.loc[[i]])\n",
    "    rango = clase_precio.loc[lambda x: x==clase_pred[0]].index\n",
    "    knn.fit(train.loc[rango], precio.loc[rango])\n",
    "    id_predic.append(i)\n",
    "    predic.append(knn.predict(train.loc[[i]]))"
   ]
  },
  {
   "cell_type": "code",
   "execution_count": 77,
   "metadata": {},
   "outputs": [
    {
     "data": {
      "text/plain": [
       "1775586.6384"
      ]
     },
     "execution_count": 77,
     "metadata": {},
     "output_type": "execute_result"
    }
   ],
   "source": [
    "real = []\n",
    "for x in id_predic:\n",
    "    real.append(precio[x])\n",
    "    \n",
    "mean_absolute_error(real, predic)"
   ]
  },
  {
   "cell_type": "markdown",
   "metadata": {},
   "source": [
    "### Ahora pruebo seleccionando rangos de las variables"
   ]
  },
  {
   "cell_type": "code",
   "execution_count": 159,
   "metadata": {},
   "outputs": [],
   "source": [
    "train = pd.read_csv('data/train_full.csv',parse_dates = ['fecha'])"
   ]
  },
  {
   "cell_type": "code",
   "execution_count": 160,
   "metadata": {
    "colab": {
     "base_uri": "https://localhost:8080/",
     "height": 151
    },
    "colab_type": "code",
    "executionInfo": {
     "elapsed": 2182,
     "status": "ok",
     "timestamp": 1574091034406,
     "user": {
      "displayName": "Luciano Ortiz",
      "photoUrl": "https://lh3.googleusercontent.com/-pyWD0HqQv8U/AAAAAAAAAAI/AAAAAAAAANk/VOXi9VxNwkA/s64/photo.jpg",
      "userId": "16854415741925197295"
     },
     "user_tz": 180
    },
    "id": "wi0CoPv5Dzkj",
    "outputId": "bf3c63b4-7a17-4f33-c966-3c8c78d11db7",
    "scrolled": true
   },
   "outputs": [
    {
     "data": {
      "text/html": [
       "<div>\n",
       "<style scoped>\n",
       "    .dataframe tbody tr th:only-of-type {\n",
       "        vertical-align: middle;\n",
       "    }\n",
       "\n",
       "    .dataframe tbody tr th {\n",
       "        vertical-align: top;\n",
       "    }\n",
       "\n",
       "    .dataframe thead th {\n",
       "        text-align: right;\n",
       "    }\n",
       "</style>\n",
       "<table border=\"1\" class=\"dataframe\">\n",
       "  <thead>\n",
       "    <tr style=\"text-align: right;\">\n",
       "      <th></th>\n",
       "      <th>id</th>\n",
       "      <th>titulo</th>\n",
       "      <th>descripcion</th>\n",
       "      <th>tipodepropiedad</th>\n",
       "      <th>direccion</th>\n",
       "      <th>ciudad</th>\n",
       "      <th>provincia</th>\n",
       "      <th>antiguedad</th>\n",
       "      <th>habitaciones</th>\n",
       "      <th>garages</th>\n",
       "      <th>...</th>\n",
       "      <th>lat</th>\n",
       "      <th>lng</th>\n",
       "      <th>fecha</th>\n",
       "      <th>gimnasio</th>\n",
       "      <th>usosmultiples</th>\n",
       "      <th>piscina</th>\n",
       "      <th>escuelascercanas</th>\n",
       "      <th>centroscomercialescercanos</th>\n",
       "      <th>precio</th>\n",
       "      <th>puntaje_por_fecha</th>\n",
       "    </tr>\n",
       "  </thead>\n",
       "  <tbody>\n",
       "    <tr>\n",
       "      <th>0</th>\n",
       "      <td>254099</td>\n",
       "      <td>depto. tipo a-402</td>\n",
       "      <td>depto. interior de 80.15m2, consta de sala com...</td>\n",
       "      <td>Apartamento</td>\n",
       "      <td>Avenida Division del Norte 2005</td>\n",
       "      <td>Benito Juárez</td>\n",
       "      <td>Distrito Federal</td>\n",
       "      <td>8</td>\n",
       "      <td>2</td>\n",
       "      <td>1</td>\n",
       "      <td>...</td>\n",
       "      <td>0.0</td>\n",
       "      <td>0.0</td>\n",
       "      <td>2015-08-23</td>\n",
       "      <td>0</td>\n",
       "      <td>0</td>\n",
       "      <td>0</td>\n",
       "      <td>0</td>\n",
       "      <td>0</td>\n",
       "      <td>2273000</td>\n",
       "      <td>0.728368</td>\n",
       "    </tr>\n",
       "  </tbody>\n",
       "</table>\n",
       "<p>1 rows × 24 columns</p>\n",
       "</div>"
      ],
      "text/plain": [
       "       id             titulo  \\\n",
       "0  254099  depto. tipo a-402   \n",
       "\n",
       "                                         descripcion tipodepropiedad  \\\n",
       "0  depto. interior de 80.15m2, consta de sala com...     Apartamento   \n",
       "\n",
       "                         direccion         ciudad         provincia  \\\n",
       "0  Avenida Division del Norte 2005  Benito Juárez  Distrito Federal   \n",
       "\n",
       "   antiguedad  habitaciones  garages        ...          lat  lng      fecha  \\\n",
       "0           8             2        1        ...          0.0  0.0 2015-08-23   \n",
       "\n",
       "   gimnasio  usosmultiples  piscina escuelascercanas  \\\n",
       "0         0              0        0                0   \n",
       "\n",
       "   centroscomercialescercanos   precio  puntaje_por_fecha  \n",
       "0                           0  2273000           0.728368  \n",
       "\n",
       "[1 rows x 24 columns]"
      ]
     },
     "execution_count": 160,
     "metadata": {},
     "output_type": "execute_result"
    }
   ],
   "source": [
    "train[\"puntaje_por_fecha\"] = train['fecha'].transform(lambda x: calificar_fecha(x))\n",
    "train.head(1)"
   ]
  },
  {
   "cell_type": "code",
   "execution_count": 161,
   "metadata": {},
   "outputs": [],
   "source": [
    "#Count encoder para tipo de propiedad\n",
    "train[\"tipo_prop_enc\"] = pd.read_csv(\"data/tipo_prop_enc.csv\")[\"tipo_prop_enc\"]"
   ]
  },
  {
   "cell_type": "code",
   "execution_count": 162,
   "metadata": {},
   "outputs": [],
   "source": [
    "col_drop = [\"lat\",\"lng\",\"ciudad\",\"provincia\",\"idzona\",\"titulo\",\"descripcion\",\"id\",\"direccion\",\"tipodepropiedad\",\"fecha\"]\n",
    "train = train.drop(labels=col_drop, axis=1)"
   ]
  },
  {
   "cell_type": "code",
   "execution_count": 163,
   "metadata": {},
   "outputs": [],
   "source": [
    "precio = train[\"precio\"]\n",
    "train = train.drop(labels=\"precio\", axis=1)"
   ]
  },
  {
   "cell_type": "code",
   "execution_count": 164,
   "metadata": {},
   "outputs": [],
   "source": [
    "train_ref = train"
   ]
  },
  {
   "cell_type": "code",
   "execution_count": 165,
   "metadata": {},
   "outputs": [
    {
     "name": "stderr",
     "output_type": "stream",
     "text": [
      "C:\\Users\\Fernando\\Anaconda3\\lib\\site-packages\\sklearn\\preprocessing\\data.py:323: DataConversionWarning: Data with input dtype int64, float64 were all converted to float64 by MinMaxScaler.\n",
      "  return self.partial_fit(X, y)\n"
     ]
    }
   ],
   "source": [
    "train = normalizar_data(train)"
   ]
  },
  {
   "cell_type": "code",
   "execution_count": 172,
   "metadata": {},
   "outputs": [],
   "source": [
    "id_predic = []\n",
    "predic = []\n",
    "\n",
    "for x in range(5000):\n",
    "    i = random.randrange(0, train.shape[0])\n",
    "    rango = train_ref.loc[(train_ref.loc[i][\"metroscubiertos\"]-25<train_ref[\"metroscubiertos\"]) & (train_ref[\"metroscubiertos\"]<train_ref.loc[i][\"metroscubiertos\"]+25)].index\n",
    "    #rango = train_ref.loc[rango].loc[(train_ref.loc[i][\"metrostotales\"]-25<train_ref[\"metrostotales\"]) & (train_ref[\"metrostotales\"]<train_ref.loc[i][\"metrostotales\"]+25)].index\n",
    "    #rango = train_ref.loc[rango].loc[(train_ref.loc[i][\"banos\"]-1<train_ref[\"banos\"]) & (train_ref[\"banos\"]<train_ref.loc[i][\"banos\"]+1)].index\n",
    "    rango = train_ref.loc[rango].loc[(train_ref.loc[i][\"habitaciones\"]-1<train_ref[\"habitaciones\"]) & (train_ref[\"habitaciones\"]<train_ref.loc[i][\"habitaciones\"]+1)].index\n",
    "    rango = train_ref.loc[rango].loc[(train_ref.loc[i][\"puntaje_por_fecha\"]-0.3<train_ref[\"puntaje_por_fecha\"]) & (train_ref[\"puntaje_por_fecha\"]<train_ref.loc[i][\"puntaje_por_fecha\"]+0.3)].index\n",
    "    if len(rango)<=1:\n",
    "        rango = train_ref.loc[(train_ref.loc[i][\"metroscubiertos\"]-25<train_ref[\"metroscubiertos\"]) & (train_ref[\"metroscubiertos\"]<train_ref.loc[i][\"metroscubiertos\"]+25)].index\n",
    "        rango = train_ref.loc[rango].loc[(train_ref.loc[i][\"habitaciones\"]-1<train_ref[\"habitaciones\"]) & (train_ref[\"habitaciones\"]<train_ref.loc[i][\"habitaciones\"]+1)].index\n",
    "    if len(rango)<=1:\n",
    "        rango = train_ref.loc[(train_ref.loc[i][\"metroscubiertos\"]-25<train_ref[\"metroscubiertos\"]) & (train_ref[\"metroscubiertos\"]<train_ref.loc[i][\"metroscubiertos\"]+25)].index\n",
    "    if 1<len(rango)<7:\n",
    "        knn = KNeighborsRegressor(n_neighbors=len(rango)-1, metric=\"manhattan\", weights=\"distance\", algorithm=\"brute\")\n",
    "    knn.fit(train.loc[rango].drop(i), precio.loc[rango].drop(i))\n",
    "    id_predic.append(i)\n",
    "    predic.append(knn.predict(train.loc[[i]]))\n",
    "    if len(rango)<7:\n",
    "        knn = KNeighborsRegressor(n_neighbors=7, metric=\"manhattan\", weights=\"distance\", algorithm=\"brute\")"
   ]
  },
  {
   "cell_type": "code",
   "execution_count": 173,
   "metadata": {},
   "outputs": [
    {
     "data": {
      "text/plain": [
       "940102.3234967493"
      ]
     },
     "execution_count": 173,
     "metadata": {},
     "output_type": "execute_result"
    }
   ],
   "source": [
    "real = []\n",
    "for x in id_predic:\n",
    "    real.append(precio[x])\n",
    "    \n",
    "mean_absolute_error(real, predic)"
   ]
  },
  {
   "cell_type": "code",
   "execution_count": null,
   "metadata": {},
   "outputs": [],
   "source": []
  }
 ],
 "metadata": {
  "accelerator": "GPU",
  "colab": {
   "collapsed_sections": [],
   "name": "TP2.ipynb",
   "provenance": []
  },
  "kernelspec": {
   "display_name": "Python 3",
   "language": "python",
   "name": "python3"
  },
  "language_info": {
   "codemirror_mode": {
    "name": "ipython",
    "version": 3
   },
   "file_extension": ".py",
   "mimetype": "text/x-python",
   "name": "python",
   "nbconvert_exporter": "python",
   "pygments_lexer": "ipython3",
   "version": "3.7.1"
  }
 },
 "nbformat": 4,
 "nbformat_minor": 1
}
