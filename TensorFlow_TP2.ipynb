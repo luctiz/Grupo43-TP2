{
  "nbformat": 4,
  "nbformat_minor": 0,
  "metadata": {
    "colab": {
      "name": "TensorFlow - TP2.ipynb",
      "provenance": [],
      "collapsed_sections": [],
      "include_colab_link": true
    },
    "kernelspec": {
      "name": "python3",
      "display_name": "Python 3"
    }
  },
  "cells": [
    {
      "cell_type": "markdown",
      "metadata": {
        "id": "view-in-github",
        "colab_type": "text"
      },
      "source": [
        "<a href=\"https://colab.research.google.com/github/luctiz/Grupo43-TP2/blob/master/TensorFlow_TP2.ipynb\" target=\"_parent\"><img src=\"https://colab.research.google.com/assets/colab-badge.svg\" alt=\"Open In Colab\"/></a>"
      ]
    },
    {
      "cell_type": "code",
      "metadata": {
        "id": "3NLno57mJa96",
        "colab_type": "code",
        "colab": {}
      },
      "source": [
        "from __future__ import print_function\n",
        "\n",
        "import math\n",
        "\n",
        "from IPython import display\n",
        "from matplotlib import cm\n",
        "from matplotlib import gridspec\n",
        "from matplotlib import pyplot as plt\n",
        "import numpy as np\n",
        "import pandas as pd\n",
        "from sklearn import metrics\n",
        "%tensorflow_version 1.x\n",
        "import tensorflow as tf\n",
        "from tensorflow.python.data import Dataset\n",
        "\n",
        "tf.logging.set_verbosity(tf.logging.ERROR)\n",
        "pd.options.display.max_rows = 10\n",
        "pd.options.display.float_format = '{:.1f}'.format"
      ],
      "execution_count": 0,
      "outputs": []
    },
    {
      "cell_type": "markdown",
      "metadata": {
        "id": "eXSiVuIZDN2Y",
        "colab_type": "text"
      },
      "source": [
        "# CARGO LOS SETS DE DATOS"
      ]
    },
    {
      "cell_type": "code",
      "metadata": {
        "id": "dttqsZhAJoWS",
        "colab_type": "code",
        "colab": {}
      },
      "source": [
        "mexico_housing_dataframe = pd.read_csv(\"https://metadata.fundacionsadosky.org.ar/media/navent/train.csv\", sep=\",\")"
      ],
      "execution_count": 0,
      "outputs": []
    },
    {
      "cell_type": "code",
      "metadata": {
        "id": "1rvG4eOSR-1c",
        "colab_type": "code",
        "colab": {}
      },
      "source": [
        "test =  pd.read_csv(\"https://metadata.fundacionsadosky.org.ar/media/navent/test.csv\", sep=\",\")\n",
        "train = mexico_housing_dataframe\n",
        "ejemplo = pd.read_csv(\"https://metadata.fundacionsadosky.org.ar/media/navent/ejemploRespuesta.csv\", sep=\",\")"
      ],
      "execution_count": 0,
      "outputs": []
    },
    {
      "cell_type": "markdown",
      "metadata": {
        "id": "sisn8_MlDAL7",
        "colab_type": "text"
      },
      "source": [
        "# UTILIZO LA MISMA LIMPIEZA QUE OTROS ANALISIS "
      ]
    },
    {
      "cell_type": "code",
      "metadata": {
        "id": "D_3F-mrpTCYz",
        "colab_type": "code",
        "colab": {}
      },
      "source": [
        "#A los nulls los relleno con el promedio de metroscubiertos de todas las publicaciones\n",
        "train['metroscubiertos']=train['metroscubiertos'].fillna(round(train['metroscubiertos'].mean()))\n",
        "test['metroscubiertos']=test['metroscubiertos'].fillna(round(test['metroscubiertos'].mean()))\n",
        "#Luego convierto metroscubiertos a  np.int16\n",
        "train['metroscubiertos']=train['metroscubiertos'].astype(np.int16)\n",
        "test['metroscubiertos']=test['metroscubiertos'].astype(np.int16)\n",
        "\n",
        "#A los nulls los relleno con el promedio de metrostotales de todas las publicaciones\n",
        "train['metrostotales']=train['metrostotales'].fillna(round(train['metrostotales'].mean()))\n",
        "test['metrostotales']=test['metrostotales'].fillna(round(test['metrostotales'].mean()))\n",
        "#Luego convierto metrostotales a  np.int16\n",
        "train['metrostotales']=train['metrostotales'].astype(np.int16)\n",
        "test['metrostotales']=test['metrostotales'].astype(np.int16)\n",
        "\n",
        "#El precio promedio de las publicaciones que no tienen datos de cant de habitaciones esta entre el precio\n",
        "#promedio de las que tienen 2 y 3 habitaciones\n",
        "#Entonces voy a asumir que tienen 3 habitaciones, ya que es el valor al cual el precio mas se les asemeja.\n",
        "train['habitaciones']=train['habitaciones'].fillna(3)\n",
        "test['habitaciones']=test['habitaciones'].fillna(3)\n",
        "#Luego convierto a np.int8\n",
        "train['habitaciones']=train['habitaciones'].astype(np.int8)\n",
        "test['habitaciones']=test['habitaciones'].astype(np.int8)\n",
        "\n",
        "#A los que no tienen datos de antiguedad los relleno con la antiguedad promedio (es 8)\n",
        "train['antiguedad']=train['antiguedad'].fillna(round(train['antiguedad'].mean()))\n",
        "test['antiguedad']=test['antiguedad'].fillna(round(train['antiguedad'].mean()))\n",
        "#Luego convierto a np.uint8\n",
        "train['antiguedad']=train['antiguedad'].astype(np.uint8)\n",
        "test['antiguedad']=test['antiguedad'].astype(np.uint8)\n",
        "\n",
        "#El precio promedio de los que tienen NULL en garage es parecido al de los que tienen 2.\n",
        "#Relleno los nulls de esta columna con un 2.\n",
        "train['garages']=train['garages'].fillna(2)\n",
        "test['garages']=test['garages'].fillna(2)\n",
        "#convierto a np.int8\n",
        "train['garages']=train['garages'].astype(np.int8)\n",
        "test['garages']=test['garages'].astype(np.int8)\n",
        "\n",
        "#El precio promedio de los que tienen NULL en banos es mas parecido al de los que tienen 2.\n",
        "#Relleno los nulls de esta columna con un 2.\n",
        "train['banos']=train['banos'].fillna(2)\n",
        "test['banos']=test['banos'].fillna(2)\n",
        "#convierto a np.int8\n",
        "train['banos']=train['banos'].astype(np.int8)\n",
        "test['banos']=test['banos'].astype(np.int8)\n",
        "\n",
        "train['gimnasio']=train['gimnasio'].astype(np.int8)\n",
        "train['usosmultiples']=train['usosmultiples'].astype(np.int8)\n",
        "train['piscina']=train['piscina'].astype(np.int8)\n",
        "train['escuelascercanas']=train['escuelascercanas'].astype(np.int8)\n",
        "train['centroscomercialescercanos']=train['centroscomercialescercanos'].astype(np.int8)\n",
        "test['gimnasio']=test['gimnasio'].astype(np.int8)\n",
        "test['usosmultiples']=test['usosmultiples'].astype(np.int8)\n",
        "test['piscina']=test['piscina'].astype(np.int8)\n",
        "test['escuelascercanas']=test['escuelascercanas'].astype(np.int8)\n",
        "test['centroscomercialescercanos']=test['centroscomercialescercanos'].astype(np.int8)\n",
        "\n",
        "#Creo categoria para los que no tienen categoria en provincia:\n",
        "train['provincia']=train['provincia'].fillna('N/A')\n",
        "test['provincia']=test['provincia'].fillna('N/A')\n",
        "#Creo categoria para los que no tienen categoria en ciudad:\n",
        "train['ciudad']=train['ciudad'].fillna('N/A')\n",
        "test['ciudad']=test['ciudad'].fillna('N/A')\n",
        "#Relleno los nulls en direccion con un - .\n",
        "train['direccion']=train['direccion'].fillna('-')\n",
        "test['direccion']=test['direccion'].fillna('-')\n",
        "#Creo categoria para los que no tienen categoria en tipodepropiedad:\n",
        "train['tipodepropiedad']=train['tipodepropiedad'].fillna('N/A')\n",
        "test['tipodepropiedad']=test['tipodepropiedad'].fillna('N/A')\n",
        "\n",
        "train['titulo']=train['titulo'].fillna(' ')\n",
        "train['descripcion']=train['descripcion'].fillna(' ')\n",
        "test['titulo']=test['titulo'].fillna(' ')\n",
        "test['descripcion']=test['descripcion'].fillna(' ')\n",
        "\n",
        "train['precio']=train['precio'].astype(np.int32)\n",
        "train['id']=train['id'].astype(np.int32)\n",
        "test['id']=test['id'].astype(np.int32)\n",
        "\n",
        "train=train.fillna(0)\n",
        "test=test.fillna(0)"
      ],
      "execution_count": 0,
      "outputs": []
    },
    {
      "cell_type": "code",
      "metadata": {
        "id": "5H1z5sxaTRbj",
        "colab_type": "code",
        "colab": {}
      },
      "source": [
        "mexico_housing_dataframe = train"
      ],
      "execution_count": 0,
      "outputs": []
    },
    {
      "cell_type": "markdown",
      "metadata": {
        "id": "Pi4i9KbmBfP1",
        "colab_type": "text"
      },
      "source": [
        "# MODELO DE ENTRENAMIENTO CON UN FEATURE - TENSOR FLOW"
      ]
    },
    {
      "cell_type": "code",
      "metadata": {
        "id": "Y2FDeN9ZLQ1z",
        "colab_type": "code",
        "colab": {}
      },
      "source": [
        "#Realizo una permutacion para el análisis de las filas (Aleatorios)\n",
        "mexico_housing_dataframe = mexico_housing_dataframe.reindex(np.random.permutation(mexico_housing_dataframe.index))\n",
        "mexico_housing_dataframe[\"precio\"] /= 1000.0\n",
        "mexico_housing_dataframe"
      ],
      "execution_count": 0,
      "outputs": []
    },
    {
      "cell_type": "markdown",
      "metadata": {
        "id": "y-gr4NSIBqo0",
        "colab_type": "text"
      },
      "source": [
        "FUNCION DE ENTRADA"
      ]
    },
    {
      "cell_type": "code",
      "metadata": {
        "colab_type": "code",
        "id": "BHEctU7XRRna",
        "colab": {}
      },
      "source": [
        "def my_input_fn(features, targets, batch_size, shuffle=True, num_epochs=None):\n",
        "    \n",
        "    # Conversion de  pandas data  a dict de np arrays.\n",
        "    features = {key:np.array(value) for key,value in dict(features).items()}                                           \n",
        "    # Construyo un dataset, y configuro batching/repeating.\n",
        "    ds = Dataset.from_tensor_slices((features,targets)) # Peligro: 2GB es el limite\n",
        "    ds = ds.batch(batch_size).repeat(num_epochs)\n",
        "    # Shuffle los dato en caso de especificarlo\n",
        "    if shuffle:\n",
        "      ds = ds.shuffle(buffer_size=10000)\n",
        "    # Retorno el proximo lote de datos.\n",
        "    features, labels = ds.make_one_shot_iterator().get_next()\n",
        "    return features, labels"
      ],
      "execution_count": 0,
      "outputs": []
    },
    {
      "cell_type": "markdown",
      "metadata": {
        "id": "JW3N1QSKBxKb",
        "colab_type": "text"
      },
      "source": [
        "FUNCION DE ENTRENAMIENTO"
      ]
    },
    {
      "cell_type": "code",
      "metadata": {
        "id": "2FsS-fnSYcyK",
        "colab_type": "code",
        "colab": {}
      },
      "source": [
        "def train_model(learning_rate, steps, batch_size, input_feature=\"habitaciones\"):\n",
        "    #SE EJECUTAN 10 PERIODOS DE PRUEBAS CON RELACION A LOS HYPERPARAMETROS QUE SE PASAN\n",
        "    periods = 100\n",
        "    steps_per_period = steps / periods\n",
        "    # Definicion de los features de entrada: habitaciones\n",
        "    my_feature = mexico_housing_dataframe[[\"habitaciones\"]]\n",
        "    # Configure una columna numerica para habitaciones\n",
        "    feature_columns = [tf.feature_column.numeric_column(\"habitaciones\")]\n",
        "\n",
        "    # Definicion del Label ( targets )\n",
        "    targets = mexico_housing_dataframe[\"precio\"]\n",
        "\n",
        "    prediction_input_fn = lambda: my_input_fn(my_feature, targets,batch_size=1, num_epochs=1, shuffle=False)\n",
        "\n",
        "    # Utilizacion de 'Gradient Descent' par la optimización del modelo /////PODRIA CAMBIARSE PERO ES UNA HERRAMIENTA DE TF\n",
        "    my_optimizer = tf.train.GradientDescentOptimizer(learning_rate) #ESTE ARGUMENTO SE PASA (RANGO DE APRENDIZAJE)\n",
        "    my_optimizer = tf.contrib.estimator.clip_gradients_by_norm(my_optimizer, 5.0)\n",
        "\n",
        "    # Configuracion de 'regresion lineal' para el modelo con nuestroa columnda de feature y optimizador.\n",
        "    # Seteo rango de aprendizaje de 0.0000001 para el 'Gradient Descent'.\n",
        "\n",
        "    linear_regressor = tf.estimator.LinearRegressor(\n",
        "        feature_columns=feature_columns,\n",
        "        optimizer=my_optimizer\n",
        "    )\n",
        "\n",
        "    # Visualizacion de aprendizaje por periodo.\n",
        "    plt.figure(figsize=(15, 6))\n",
        "    plt.subplot(1, 2, 1)\n",
        "    plt.title(\"Linea de aprendizaje por Periodo\")\n",
        "    plt.ylabel(\"precio\")\n",
        "    plt.xlabel(\"habitaciones\")\n",
        "    sample = mexico_housing_dataframe.sample(n=300)\n",
        "    plt.scatter(sample[\"habitaciones\"], sample[\"precio\"])\n",
        "    colors = [cm.coolwarm(x) for x in np.linspace(-1, 1, periods)]\n",
        "\n",
        "  #ENTRENAMIENTO DEL MODELO=====================================================\n",
        "    \n",
        "    print(\"Entrenando Modelo...\")\n",
        "    print(\"RMSE (en Data):\")\n",
        "    root_mean_squared_errors = []\n",
        "    for period in range (0, periods):\n",
        "      linear_regressor.train(\n",
        "        input_fn = lambda:my_input_fn(my_feature, targets, batch_size=1),\n",
        "        steps=steps_per_period\n",
        "        )\n",
        "      # REALIZO PREDICCION\n",
        "      # Llamo a  predict() en linear_regressor para hacer predicciones.\n",
        "      predictions = linear_regressor.predict(input_fn=prediction_input_fn)\n",
        "      # Formateo las predicciones como un NumPy array, para poder calcular metricas.\n",
        "      predictions = np.array([item['predictions'][0] for item in predictions])\n",
        "      # Computar perdida.\n",
        "      root_mean_squared_error = math.sqrt(metrics.mean_squared_error(predictions, targets))\n",
        "      root_mean_squared_errors.append(root_mean_squared_error)\n",
        "      # Imprimir la perdida actual.\n",
        "      print(\"  Periodo %02d : %0.2f\" % (period, root_mean_squared_error))\n",
        "\n",
        "      y_extents = np.array([0, sample[\"precio\"].max()])\n",
        "    \n",
        "      weight = linear_regressor.get_variable_value('linear/linear_model/habitaciones/weights')[0]\n",
        "      bias = linear_regressor.get_variable_value('linear/linear_model/bias_weights')\n",
        "\n",
        "      x_extents = (y_extents - bias) / weight\n",
        "      x_extents = np.maximum(np.minimum(x_extents,\n",
        "                                      sample[\"habitaciones\"].max()),\n",
        "                           sample[\"habitaciones\"].min())\n",
        "      y_extents = weight * x_extents + bias\n",
        "      plt.plot(x_extents, y_extents, color=colors[period]) \n",
        " \n",
        "    print(\"Final de entrenamiento.\")\n",
        "    # Output a graph of loss metrics over periods.\n",
        "    plt.subplot(1, 2, 2)\n",
        "    plt.ylabel('RMSE')\n",
        "    plt.xlabel('Periodos')\n",
        "    plt.title(\"Error cuadratico Medio vs. Periodos\")\n",
        "    plt.tight_layout()\n",
        "    plt.plot(root_mean_squared_errors)\n",
        "\n",
        "    # Output a table with calibration data.\n",
        "    calibration_data = pd.DataFrame()\n",
        "    calibration_data[\"predictions\"] = pd.Series(predictions)\n",
        "    calibration_data[\"targets\"] = pd.Series(targets)\n",
        "    display.display(calibration_data.describe())\n",
        "\n",
        "    print(\"Resultado final  RMSE (sobre los datos): %0.2f\" % root_mean_squared_error)"
      ],
      "execution_count": 0,
      "outputs": []
    },
    {
      "cell_type": "markdown",
      "metadata": {
        "id": "_C_aPTm-CIYg",
        "colab_type": "text"
      },
      "source": [
        "EJECUTO ENTRENAMIENTO Y ANALIZO ERROR "
      ]
    },
    {
      "cell_type": "code",
      "metadata": {
        "id": "WLHQOgwk1xlV",
        "colab_type": "code",
        "colab": {
          "base_uri": "https://localhost:8080/",
          "height": 1000
        },
        "outputId": "2f73d8d9-19f3-4bc1-986b-4ba1971948cb"
      },
      "source": [
        "#ACLARACION: SE UTILIZA COMO FEATURE EL NUMERO DE HABITACIONES\n",
        "train_model(\n",
        "    learning_rate=0.003,  #AJUSTES DE HYPERPARAMETROS\n",
        "    steps=50000,\n",
        "    batch_size=6\n",
        ")"
      ],
      "execution_count": 14,
      "outputs": [
        {
          "output_type": "stream",
          "text": [
            "Entrenando Modelo...\n",
            "RMSE (en Data):\n",
            "  Periodo 00 : 3304.07\n",
            "  Periodo 01 : 3285.75\n",
            "  Periodo 02 : 3267.49\n",
            "  Periodo 03 : 3249.32\n",
            "  Periodo 04 : 3231.23\n",
            "  Periodo 05 : 3213.23\n",
            "  Periodo 06 : 3195.26\n",
            "  Periodo 07 : 3177.38\n",
            "  Periodo 08 : 3159.60\n",
            "  Periodo 09 : 3141.89\n",
            "  Periodo 10 : 3124.25\n",
            "  Periodo 11 : 3106.69\n",
            "  Periodo 12 : 3089.20\n",
            "  Periodo 13 : 3071.90\n",
            "  Periodo 14 : 3054.69\n",
            "  Periodo 15 : 3037.81\n",
            "  Periodo 16 : 3020.92\n",
            "  Periodo 17 : 3004.57\n",
            "  Periodo 18 : 2988.10\n",
            "  Periodo 19 : 2971.90\n",
            "  Periodo 20 : 2956.05\n",
            "  Periodo 21 : 2940.71\n",
            "  Periodo 22 : 2925.23\n",
            "  Periodo 23 : 2909.96\n",
            "  Periodo 24 : 2895.93\n",
            "  Periodo 25 : 2882.34\n",
            "  Periodo 26 : 2868.78\n",
            "  Periodo 27 : 2855.15\n",
            "  Periodo 28 : 2842.33\n",
            "  Periodo 29 : 2829.55\n",
            "  Periodo 30 : 2817.15\n",
            "  Periodo 31 : 2805.43\n",
            "  Periodo 32 : 2794.16\n",
            "  Periodo 33 : 2782.89\n",
            "  Periodo 34 : 2771.82\n",
            "  Periodo 35 : 2761.01\n",
            "  Periodo 36 : 2749.24\n",
            "  Periodo 37 : 2738.57\n",
            "  Periodo 38 : 2728.57\n",
            "  Periodo 39 : 2718.57\n",
            "  Periodo 40 : 2709.14\n",
            "  Periodo 41 : 2699.84\n",
            "  Periodo 42 : 2690.40\n",
            "  Periodo 43 : 2681.39\n",
            "  Periodo 44 : 2671.69\n",
            "  Periodo 45 : 2664.04\n",
            "  Periodo 46 : 2655.08\n",
            "  Periodo 47 : 2646.55\n",
            "  Periodo 48 : 2638.45\n",
            "  Periodo 49 : 2629.95\n",
            "  Periodo 50 : 2621.73\n",
            "  Periodo 51 : 2615.07\n",
            "  Periodo 52 : 2607.84\n",
            "  Periodo 53 : 2599.69\n",
            "  Periodo 54 : 2592.90\n",
            "  Periodo 55 : 2585.36\n",
            "  Periodo 56 : 2579.05\n",
            "  Periodo 57 : 2573.03\n",
            "  Periodo 58 : 2565.78\n",
            "  Periodo 59 : 2559.88\n",
            "  Periodo 60 : 2553.37\n",
            "  Periodo 61 : 2547.14\n",
            "  Periodo 62 : 2541.08\n",
            "  Periodo 63 : 2534.48\n",
            "  Periodo 64 : 2527.50\n",
            "  Periodo 65 : 2522.64\n",
            "  Periodo 66 : 2517.17\n",
            "  Periodo 67 : 2511.91\n",
            "  Periodo 68 : 2505.81\n",
            "  Periodo 69 : 2500.15\n",
            "  Periodo 70 : 2495.24\n",
            "  Periodo 71 : 2490.40\n",
            "  Periodo 72 : 2486.21\n",
            "  Periodo 73 : 2481.08\n",
            "  Periodo 74 : 2476.12\n",
            "  Periodo 75 : 2471.19\n",
            "  Periodo 76 : 2466.42\n",
            "  Periodo 77 : 2461.37\n",
            "  Periodo 78 : 2457.44\n",
            "  Periodo 79 : 2453.18\n",
            "  Periodo 80 : 2449.02\n",
            "  Periodo 81 : 2445.29\n",
            "  Periodo 82 : 2441.16\n",
            "  Periodo 83 : 2436.88\n",
            "  Periodo 84 : 2433.54\n",
            "  Periodo 85 : 2430.08\n",
            "  Periodo 86 : 2427.05\n",
            "  Periodo 87 : 2423.45\n",
            "  Periodo 88 : 2420.50\n",
            "  Periodo 89 : 2417.00\n",
            "  Periodo 90 : 2413.27\n",
            "  Periodo 91 : 2409.00\n",
            "  Periodo 92 : 2405.96\n",
            "  Periodo 93 : 2401.92\n",
            "  Periodo 94 : 2398.08\n",
            "  Periodo 95 : 2395.18\n",
            "  Periodo 96 : 2392.24\n",
            "  Periodo 97 : 2389.99\n",
            "  Periodo 98 : 2387.40\n",
            "  Periodo 99 : 2385.20\n",
            "Final de entrenamiento.\n"
          ],
          "name": "stdout"
        },
        {
          "output_type": "display_data",
          "data": {
            "text/html": [
              "<div>\n",
              "<style scoped>\n",
              "    .dataframe tbody tr th:only-of-type {\n",
              "        vertical-align: middle;\n",
              "    }\n",
              "\n",
              "    .dataframe tbody tr th {\n",
              "        vertical-align: top;\n",
              "    }\n",
              "\n",
              "    .dataframe thead th {\n",
              "        text-align: right;\n",
              "    }\n",
              "</style>\n",
              "<table border=\"1\" class=\"dataframe\">\n",
              "  <thead>\n",
              "    <tr style=\"text-align: right;\">\n",
              "      <th></th>\n",
              "      <th>predictions</th>\n",
              "      <th>targets</th>\n",
              "    </tr>\n",
              "  </thead>\n",
              "  <tbody>\n",
              "    <tr>\n",
              "      <th>count</th>\n",
              "      <td>240000.0</td>\n",
              "      <td>240000.0</td>\n",
              "    </tr>\n",
              "    <tr>\n",
              "      <th>mean</th>\n",
              "      <td>1392.5</td>\n",
              "      <td>2530.8</td>\n",
              "    </tr>\n",
              "    <tr>\n",
              "      <th>std</th>\n",
              "      <td>364.0</td>\n",
              "      <td>2152.6</td>\n",
              "    </tr>\n",
              "    <tr>\n",
              "      <th>min</th>\n",
              "      <td>578.8</td>\n",
              "      <td>310.0</td>\n",
              "    </tr>\n",
              "    <tr>\n",
              "      <th>25%</th>\n",
              "      <td>1005.0</td>\n",
              "      <td>952.8</td>\n",
              "    </tr>\n",
              "    <tr>\n",
              "      <th>50%</th>\n",
              "      <td>1431.1</td>\n",
              "      <td>1850.0</td>\n",
              "    </tr>\n",
              "    <tr>\n",
              "      <th>75%</th>\n",
              "      <td>1431.1</td>\n",
              "      <td>3390.0</td>\n",
              "    </tr>\n",
              "    <tr>\n",
              "      <th>max</th>\n",
              "      <td>4414.0</td>\n",
              "      <td>12525.0</td>\n",
              "    </tr>\n",
              "  </tbody>\n",
              "</table>\n",
              "</div>"
            ],
            "text/plain": [
              "       predictions  targets\n",
              "count     240000.0 240000.0\n",
              "mean        1392.5   2530.8\n",
              "std          364.0   2152.6\n",
              "min          578.8    310.0\n",
              "25%         1005.0    952.8\n",
              "50%         1431.1   1850.0\n",
              "75%         1431.1   3390.0\n",
              "max         4414.0  12525.0"
            ]
          },
          "metadata": {
            "tags": []
          }
        },
        {
          "output_type": "stream",
          "text": [
            "Resultado final  RMSE (sobre los datos): 2385.20\n"
          ],
          "name": "stdout"
        },
        {
          "output_type": "display_data",
          "data": {
            "image/png": "[encoded data removed]",
            "text/plain": [
              "<Figure size 1080x432 with 2 Axes>"
            ]
          },
          "metadata": {
            "tags": []
          }
        }
      ]
    },
    {
      "cell_type": "markdown",
      "metadata": {
        "id": "34hj709Z_7aG",
        "colab_type": "text"
      },
      "source": [
        "# MODELO PARA VARIOS FEATURES - TENSOR FLOW"
      ]
    },
    {
      "cell_type": "code",
      "metadata": {
        "id": "3O7FKP-8guU0",
        "colab_type": "code",
        "colab": {}
      },
      "source": [
        "#LUEGO DE LA LIMPIEZA DE DATOS\n",
        "mexico_housing_dataframe = train"
      ],
      "execution_count": 0,
      "outputs": []
    },
    {
      "cell_type": "code",
      "metadata": {
        "id": "Lia3Kq9whBTD",
        "colab_type": "code",
        "colab": {}
      },
      "source": [
        "#PREPOCESAMIENTO DE DATOS\n",
        "\n",
        "def preprocess_features(mexico_housing_dataframe):\n",
        "  selected_features = mexico_housing_dataframe[\n",
        "    [\"antiguedad\",\n",
        "     \"habitaciones\",\n",
        "     \"garages\",\n",
        "     \"banos\",\n",
        "     \"metroscubiertos\",\n",
        "     \"metrostotales\",\n",
        "     \"lat\",\n",
        "     \"lng\"]]\n",
        "  processed_features = selected_features.copy()\n",
        "  # Creacion de un feature Sintetico.\n",
        "  processed_features[\"extras\"] = (\n",
        "    mexico_housing_dataframe[\"gimnasio\"] +\n",
        "    mexico_housing_dataframe[\"usosmultiples\"] +\n",
        "    mexico_housing_dataframe[\"centroscomercialescercanos\"] +\n",
        "    mexico_housing_dataframe[\"escuelascercanas\"] +\n",
        "    mexico_housing_dataframe[\"piscina\"] )\n",
        "  return processed_features\n",
        "\n",
        "def preprocess_targets(mexico_housing_dataframe):\n",
        "  output_targets = pd.DataFrame()\n",
        "  # Escalar a unidades de miles la moneda.\n",
        "  output_targets[\"precio\"] = (\n",
        "    mexico_housing_dataframe[\"precio\"] / 1000.0)\n",
        "  return output_targets"
      ],
      "execution_count": 0,
      "outputs": []
    },
    {
      "cell_type": "markdown",
      "metadata": {
        "id": "oL9hYLR3AVSb",
        "colab_type": "text"
      },
      "source": [
        "CONJUNTO DE VALIDACION"
      ]
    },
    {
      "cell_type": "code",
      "metadata": {
        "id": "nd-dqEYCjeQ5",
        "colab_type": "code",
        "colab": {}
      },
      "source": [
        "training_examples = preprocess_features(mexico_housing_dataframe.head(168000))\n",
        "training_targets = preprocess_targets(mexico_housing_dataframe.head(168000))\n",
        "validation_examples = preprocess_features(mexico_housing_dataframe.tail(72000))\n",
        "validation_targets = preprocess_targets(mexico_housing_dataframe.tail(72000))"
      ],
      "execution_count": 0,
      "outputs": []
    },
    {
      "cell_type": "markdown",
      "metadata": {
        "id": "9rZbyPlrAcVM",
        "colab_type": "text"
      },
      "source": [
        "FUNCIONES DE ENTRADAS"
      ]
    },
    {
      "cell_type": "markdown",
      "metadata": {
        "id": "wM5B2R41Aggr",
        "colab_type": "text"
      },
      "source": [
        "FUNCION PARA ENTRADA DE VARIOS FEATURES"
      ]
    },
    {
      "cell_type": "code",
      "metadata": {
        "id": "000ZbYl93Ex5",
        "colab_type": "code",
        "colab": {}
      },
      "source": [
        "def construct_feature_columns(input_features):\n",
        "  return set([tf.feature_column.numeric_column(my_feature)\n",
        "              for my_feature in input_features])"
      ],
      "execution_count": 0,
      "outputs": []
    },
    {
      "cell_type": "markdown",
      "metadata": {
        "id": "gkwZq-2SAl4f",
        "colab_type": "text"
      },
      "source": [
        "FUNCION DE ENTRENAMIENTO DEL MODELO"
      ]
    },
    {
      "cell_type": "code",
      "metadata": {
        "id": "Xyz6n1YHbGef",
        "colab_type": "code",
        "colab": {}
      },
      "source": [
        "def train_model(\n",
        "    learning_rate,\n",
        "    steps,\n",
        "    batch_size,\n",
        "    training_examples,\n",
        "    training_targets,\n",
        "    validation_examples,\n",
        "    validation_targets,\n",
        "    periods):\n",
        "  \n",
        "  steps_per_period = steps / periods\n",
        "  \n",
        "  # Regresion Lineal.=====GRADIENT DESCENT======================================\n",
        "  my_optimizer = tf.train.GradientDescentOptimizer(learning_rate=learning_rate)\n",
        "  my_optimizer = tf.contrib.estimator.clip_gradients_by_norm(my_optimizer, 5.0)\n",
        "  linear_regressor = tf.estimator.LinearRegressor(\n",
        "      feature_columns=construct_feature_columns(training_examples),\n",
        "      optimizer=my_optimizer\n",
        "  )\n",
        "  \n",
        "  # Configuracion de Funciones de Entrada.\n",
        "  training_input_fn = lambda: my_input_fn(\n",
        "      training_examples, \n",
        "      training_targets[\"precio\"], \n",
        "      batch_size=batch_size)\n",
        "  predict_training_input_fn = lambda: my_input_fn(\n",
        "      training_examples, \n",
        "      training_targets[\"precio\"], \n",
        "      num_epochs=1, \n",
        "      shuffle=False)\n",
        "  predict_validation_input_fn = lambda: my_input_fn(\n",
        "      validation_examples, validation_targets[\"precio\"], \n",
        "      num_epochs=1, \n",
        "      shuffle=False)\n",
        "\n",
        "  # Entrenamiento del Modelo==================================================== \n",
        "  print(\"Entrenando Modelo...\")\n",
        "  print(\"RMSE (en el set de datos):\")\n",
        "  training_rmse = []\n",
        "  validation_rmse = []\n",
        "  for period in range (0, periods):\n",
        "    # Entrenando modelo comenzando por el primer Periodo\n",
        "    linear_regressor.train(\n",
        "        input_fn=training_input_fn,\n",
        "        steps=steps_per_period,\n",
        "    )\n",
        "    # Realizando Computos.\n",
        "    training_predictions = linear_regressor.predict(input_fn=predict_training_input_fn)\n",
        "    training_predictions = np.array([item['predictions'][0] for item in training_predictions])\n",
        "    validation_predictions = linear_regressor.predict(input_fn=predict_validation_input_fn)\n",
        "    validation_predictions = np.array([item['predictions'][0] for item in validation_predictions])\n",
        "    \n",
        "    \n",
        "    # Validacion de Perdida.\n",
        "    training_root_mean_squared_error = math.sqrt(\n",
        "        metrics.mean_squared_error(training_predictions, training_targets))\n",
        "    validation_root_mean_squared_error = math.sqrt(\n",
        "        metrics.mean_squared_error(validation_predictions, validation_targets))\n",
        "    # Imprimir la Perdida actual .\n",
        "    print(\"  Periodo %02d : %0.2f\" % (period, training_root_mean_squared_error))\n",
        "    # Añadir las metricas de Perdida a la muestra.\n",
        "    training_rmse.append(training_root_mean_squared_error)\n",
        "    validation_rmse.append(validation_root_mean_squared_error)\n",
        "  print(\"Entrenamiento Finalizado.\")\n",
        "\n",
        "  # GRAFICANDO LAS METRICAS PARA CADA PERIODO===================================\n",
        "  plt.ylabel(\"RMSE\")\n",
        "  plt.xlabel(\"Periodos\")\n",
        "  plt.title(\"Raiz del Error Cuadràtico Medio vs. Periodos\")\n",
        "  plt.tight_layout()\n",
        "  plt.plot(training_rmse, label=\"Entrenando\")\n",
        "  plt.plot(validation_rmse, label=\"Validando\")\n",
        "  plt.legend()\n",
        "\n",
        "  return linear_regressor"
      ],
      "execution_count": 0,
      "outputs": []
    },
    {
      "cell_type": "markdown",
      "metadata": {
        "id": "kq-bWelaSwp4",
        "colab_type": "text"
      },
      "source": [
        "EJECUTO EL ENTRENAMIENTO Y ME DEVUELVE EL MODELO ENTRENADO"
      ]
    },
    {
      "cell_type": "code",
      "metadata": {
        "id": "4Uve_DkH3j2C",
        "colab_type": "code",
        "colab": {
          "base_uri": "https://localhost:8080/",
          "height": 518
        },
        "outputId": "79c83919-7c1b-4f11-c3b0-17f9b176d96d"
      },
      "source": [
        "linear_regressor = train_model(\n",
        "    learning_rate=0.003,\n",
        "    steps=500000,\n",
        "    batch_size=6,\n",
        "    training_examples=training_examples,\n",
        "    training_targets=training_targets,\n",
        "    validation_examples=validation_examples,\n",
        "    validation_targets=validation_targets,\n",
        "    periods=10)"
      ],
      "execution_count": 35,
      "outputs": [
        {
          "output_type": "stream",
          "text": [
            "Entrenando Modelo...\n",
            "RMSE (en el set de datos):\n",
            "  Periodo 00 : 1729.14\n",
            "  Periodo 01 : 1730.68\n",
            "  Periodo 02 : 1727.24\n",
            "  Periodo 03 : 1726.28\n",
            "  Periodo 04 : 1728.89\n",
            "  Periodo 05 : 1727.66\n",
            "  Periodo 06 : 1732.08\n",
            "  Periodo 07 : 1718.77\n",
            "  Periodo 08 : 1720.33\n",
            "  Periodo 09 : 1722.38\n",
            "Entrenamiento Finalizado.\n"
          ],
          "name": "stdout"
        },
        {
          "output_type": "display_data",
          "data": {
            "image/png": "[encoded data removed]",
            "text/plain": [
              "<Figure size 432x288 with 1 Axes>"
            ]
          },
          "metadata": {
            "tags": []
          }
        }
      ]
    },
    {
      "cell_type": "code",
      "metadata": {
        "id": "BFr-IYLeo0n_",
        "colab_type": "code",
        "colab": {}
      },
      "source": [
        "def crear_submit(model, x_train, y_train, x_test, nombre):\n",
        "    model.fit(x_train, y_train)\n",
        "    result = model.predict(x_test)\n",
        "    final = test.loc[:, ['id']]\n",
        "    final['target'] = result\n",
        "    ruta = \"data/submit\"+ nombre +\".csv\"\n",
        "    final.to_csv(path_or_buf = ruta, index = False )\n",
        "    df = pd.read_csv(ruta)\n",
        "    return df"
      ],
      "execution_count": 0,
      "outputs": []
    },
    {
      "cell_type": "code",
      "metadata": {
        "id": "a2DzUMHv4E-z",
        "colab_type": "code",
        "colab": {}
      },
      "source": [
        "test[\"precio\"] = 0\n",
        "training_targets = preprocess_targets(test)\n",
        "training_examples = preprocess_features(test)\n",
        "predict_training_input_fn = lambda: my_input_fn(\n",
        "      training_examples, \n",
        "      training_targets[\"precio\"], \n",
        "      num_epochs=1, \n",
        "      shuffle=False)"
      ],
      "execution_count": 0,
      "outputs": []
    },
    {
      "cell_type": "code",
      "metadata": {
        "id": "1rCl--hx3NEi",
        "colab_type": "code",
        "colab": {}
      },
      "source": [
        "training_predictions = linear_regressor.predict(input_fn=predict_training_input_fn)\n",
        "training_predictions = np.array([item['predictions'][0] for item in training_predictions])"
      ],
      "execution_count": 0,
      "outputs": []
    },
    {
      "cell_type": "code",
      "metadata": {
        "id": "KMp48IM69SPy",
        "colab_type": "code",
        "colab": {
          "base_uri": "https://localhost:8080/",
          "height": 122
        },
        "outputId": "a0bf54ee-ead6-46f0-f7a1-9a3753847312"
      },
      "source": [
        "from google.colab import drive\n",
        "drive.mount('/content/drive')"
      ],
      "execution_count": 123,
      "outputs": [
        {
          "output_type": "stream",
          "text": [
            "Go to this URL in a browser: https://accounts.google.com/o/oauth2/auth?client_id=947318989803-6bn6qk8qdgf4n4g3pfee6491hc0brc4i.apps.googleusercontent.com&redirect_uri=urn%3Aietf%3Awg%3Aoauth%3A2.0%3Aoob&scope=email%20https%3A%2F%2Fwww.googleapis.com%2Fauth%2Fdocs.test%20https%3A%2F%2Fwww.googleapis.com%2Fauth%2Fdrive%20https%3A%2F%2Fwww.googleapis.com%2Fauth%2Fdrive.photos.readonly%20https%3A%2F%2Fwww.googleapis.com%2Fauth%2Fpeopleapi.readonly&response_type=code\n",
            "\n",
            "Enter your authorization code:\n",
            "··········\n",
            "Mounted at /content/drive\n"
          ],
          "name": "stdout"
        }
      ]
    },
    {
      "cell_type": "code",
      "metadata": {
        "id": "vMCHntBhvzQE",
        "colab_type": "code",
        "colab": {}
      },
      "source": [
        "submit = test.loc[:, ['id']]\n",
        "submit['target'] = training_predictions * 1000\n"
      ],
      "execution_count": 0,
      "outputs": []
    },
    {
      "cell_type": "code",
      "metadata": {
        "id": "_dKyNqeTv0qe",
        "colab_type": "code",
        "colab": {
          "base_uri": "https://localhost:8080/",
          "height": 204
        },
        "outputId": "6b79a780-005b-4d51-af10-246411ffca2f"
      },
      "source": [
        "submit.head()"
      ],
      "execution_count": 134,
      "outputs": [
        {
          "output_type": "execute_result",
          "data": {
            "text/html": [
              "<div>\n",
              "<style scoped>\n",
              "    .dataframe tbody tr th:only-of-type {\n",
              "        vertical-align: middle;\n",
              "    }\n",
              "\n",
              "    .dataframe tbody tr th {\n",
              "        vertical-align: top;\n",
              "    }\n",
              "\n",
              "    .dataframe thead th {\n",
              "        text-align: right;\n",
              "    }\n",
              "</style>\n",
              "<table border=\"1\" class=\"dataframe\">\n",
              "  <thead>\n",
              "    <tr style=\"text-align: right;\">\n",
              "      <th></th>\n",
              "      <th>id</th>\n",
              "      <th>target</th>\n",
              "    </tr>\n",
              "  </thead>\n",
              "  <tbody>\n",
              "    <tr>\n",
              "      <th>0</th>\n",
              "      <td>4941</td>\n",
              "      <td>3885532.8</td>\n",
              "    </tr>\n",
              "    <tr>\n",
              "      <th>1</th>\n",
              "      <td>51775</td>\n",
              "      <td>932119.9</td>\n",
              "    </tr>\n",
              "    <tr>\n",
              "      <th>2</th>\n",
              "      <td>115253</td>\n",
              "      <td>1317483.0</td>\n",
              "    </tr>\n",
              "    <tr>\n",
              "      <th>3</th>\n",
              "      <td>299321</td>\n",
              "      <td>1333596.8</td>\n",
              "    </tr>\n",
              "    <tr>\n",
              "      <th>4</th>\n",
              "      <td>173570</td>\n",
              "      <td>1206262.6</td>\n",
              "    </tr>\n",
              "  </tbody>\n",
              "</table>\n",
              "</div>"
            ],
            "text/plain": [
              "       id    target\n",
              "0    4941 3885532.8\n",
              "1   51775  932119.9\n",
              "2  115253 1317483.0\n",
              "3  299321 1333596.8\n",
              "4  173570 1206262.6"
            ]
          },
          "metadata": {
            "tags": []
          },
          "execution_count": 134
        }
      ]
    },
    {
      "cell_type": "code",
      "metadata": {
        "id": "IM9Ny_07Dely",
        "colab_type": "code",
        "colab": {}
      },
      "source": [
        "from google.colab import files\n",
        "submit.to_csv('submit_TensorFlow_GD_RL.csv', index = False)\n",
        "files.download('submit_TensorFlow_GD_RL.csv')"
      ],
      "execution_count": 0,
      "outputs": []
    }
  ]
}