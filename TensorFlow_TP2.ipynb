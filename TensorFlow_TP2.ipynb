{
  "nbformat": 4,
  "nbformat_minor": 0,
  "metadata": {
    "colab": {
      "name": "TensorFlow - TP2.ipynb",
      "provenance": [],
      "collapsed_sections": [],
      "include_colab_link": true
    },
    "kernelspec": {
      "name": "python3",
      "display_name": "Python 3"
    }
  },
  "cells": [
    {
      "cell_type": "markdown",
      "metadata": {
        "id": "view-in-github",
        "colab_type": "text"
      },
      "source": [
        "<a href=\"https://colab.research.google.com/github/luctiz/Grupo43-TP2/blob/master/TensorFlow_TP2.ipynb\" target=\"_parent\"><img src=\"https://colab.research.google.com/assets/colab-badge.svg\" alt=\"Open In Colab\"/></a>"
      ]
    },
    {
      "cell_type": "code",
      "metadata": {
        "id": "3NLno57mJa96",
        "colab_type": "code",
        "colab": {}
      },
      "source": [
        "from __future__ import print_function\n",
        "\n",
        "import math\n",
        "\n",
        "from IPython import display\n",
        "from matplotlib import cm\n",
        "from matplotlib import gridspec\n",
        "from matplotlib import pyplot as plt\n",
        "import numpy as np\n",
        "import pandas as pd\n",
        "from sklearn import metrics\n",
        "%tensorflow_version 1.x\n",
        "import tensorflow as tf\n",
        "from tensorflow.python.data import Dataset\n",
        "\n",
        "tf.logging.set_verbosity(tf.logging.ERROR)\n",
        "pd.options.display.max_rows = 10\n",
        "pd.options.display.float_format = '{:.1f}'.format"
      ],
      "execution_count": 0,
      "outputs": []
    },
    {
      "cell_type": "markdown",
      "metadata": {
        "id": "eXSiVuIZDN2Y",
        "colab_type": "text"
      },
      "source": [
        "# CARGO LOS SETS DE DATOS"
      ]
    },
    {
      "cell_type": "code",
      "metadata": {
        "id": "dttqsZhAJoWS",
        "colab_type": "code",
        "colab": {}
      },
      "source": [
        "mexico_housing_dataframe = pd.read_csv(\"https://metadata.fundacionsadosky.org.ar/media/navent/train.csv\", sep=\",\")"
      ],
      "execution_count": 0,
      "outputs": []
    },
    {
      "cell_type": "code",
      "metadata": {
        "id": "1rvG4eOSR-1c",
        "colab_type": "code",
        "colab": {}
      },
      "source": [
        "test =  pd.read_csv(\"https://metadata.fundacionsadosky.org.ar/media/navent/test.csv\", sep=\",\")\n",
        "train = mexico_housing_dataframe\n",
        "ejemplo = pd.read_csv(\"https://metadata.fundacionsadosky.org.ar/media/navent/ejemploRespuesta.csv\", sep=\",\")"
      ],
      "execution_count": 0,
      "outputs": []
    },
    {
      "cell_type": "markdown",
      "metadata": {
        "id": "sisn8_MlDAL7",
        "colab_type": "text"
      },
      "source": [
        "# UTILIZO LA MISMA LIMPIEZA QUE OTROS ANALISIS "
      ]
    },
    {
      "cell_type": "code",
      "metadata": {
        "id": "D_3F-mrpTCYz",
        "colab_type": "code",
        "colab": {}
      },
      "source": [
        "#A los nulls los relleno con el promedio de metroscubiertos de todas las publicaciones\n",
        "train['metroscubiertos']=train['metroscubiertos'].fillna(round(train['metroscubiertos'].mean()))\n",
        "test['metroscubiertos']=test['metroscubiertos'].fillna(round(test['metroscubiertos'].mean()))\n",
        "#Luego convierto metroscubiertos a  np.int16\n",
        "train['metroscubiertos']=train['metroscubiertos'].astype(np.int16)\n",
        "test['metroscubiertos']=test['metroscubiertos'].astype(np.int16)\n",
        "\n",
        "#A los nulls los relleno con el promedio de metrostotales de todas las publicaciones\n",
        "train['metrostotales']=train['metrostotales'].fillna(round(train['metrostotales'].mean()))\n",
        "test['metrostotales']=test['metrostotales'].fillna(round(test['metrostotales'].mean()))\n",
        "#Luego convierto metrostotales a  np.int16\n",
        "train['metrostotales']=train['metrostotales'].astype(np.int16)\n",
        "test['metrostotales']=test['metrostotales'].astype(np.int16)\n",
        "\n",
        "#El precio promedio de las publicaciones que no tienen datos de cant de habitaciones esta entre el precio\n",
        "#promedio de las que tienen 2 y 3 habitaciones\n",
        "#Entonces voy a asumir que tienen 3 habitaciones, ya que es el valor al cual el precio mas se les asemeja.\n",
        "train['habitaciones']=train['habitaciones'].fillna(3)\n",
        "test['habitaciones']=test['habitaciones'].fillna(3)\n",
        "#Luego convierto a np.int8\n",
        "train['habitaciones']=train['habitaciones'].astype(np.int8)\n",
        "test['habitaciones']=test['habitaciones'].astype(np.int8)\n",
        "\n",
        "#A los que no tienen datos de antiguedad los relleno con la antiguedad promedio (es 8)\n",
        "train['antiguedad']=train['antiguedad'].fillna(round(train['antiguedad'].mean()))\n",
        "test['antiguedad']=test['antiguedad'].fillna(round(train['antiguedad'].mean()))\n",
        "#Luego convierto a np.uint8\n",
        "train['antiguedad']=train['antiguedad'].astype(np.uint8)\n",
        "test['antiguedad']=test['antiguedad'].astype(np.uint8)\n",
        "\n",
        "#El precio promedio de los que tienen NULL en garage es parecido al de los que tienen 2.\n",
        "#Relleno los nulls de esta columna con un 2.\n",
        "train['garages']=train['garages'].fillna(2)\n",
        "test['garages']=test['garages'].fillna(2)\n",
        "#convierto a np.int8\n",
        "train['garages']=train['garages'].astype(np.int8)\n",
        "test['garages']=test['garages'].astype(np.int8)\n",
        "\n",
        "#El precio promedio de los que tienen NULL en banos es mas parecido al de los que tienen 2.\n",
        "#Relleno los nulls de esta columna con un 2.\n",
        "train['banos']=train['banos'].fillna(2)\n",
        "test['banos']=test['banos'].fillna(2)\n",
        "#convierto a np.int8\n",
        "train['banos']=train['banos'].astype(np.int8)\n",
        "test['banos']=test['banos'].astype(np.int8)\n",
        "\n",
        "train['gimnasio']=train['gimnasio'].astype(np.int8)\n",
        "train['usosmultiples']=train['usosmultiples'].astype(np.int8)\n",
        "train['piscina']=train['piscina'].astype(np.int8)\n",
        "train['escuelascercanas']=train['escuelascercanas'].astype(np.int8)\n",
        "train['centroscomercialescercanos']=train['centroscomercialescercanos'].astype(np.int8)\n",
        "test['gimnasio']=test['gimnasio'].astype(np.int8)\n",
        "test['usosmultiples']=test['usosmultiples'].astype(np.int8)\n",
        "test['piscina']=test['piscina'].astype(np.int8)\n",
        "test['escuelascercanas']=test['escuelascercanas'].astype(np.int8)\n",
        "test['centroscomercialescercanos']=test['centroscomercialescercanos'].astype(np.int8)\n",
        "\n",
        "#Creo categoria para los que no tienen categoria en provincia:\n",
        "train['provincia']=train['provincia'].fillna('N/A')\n",
        "test['provincia']=test['provincia'].fillna('N/A')\n",
        "#Creo categoria para los que no tienen categoria en ciudad:\n",
        "train['ciudad']=train['ciudad'].fillna('N/A')\n",
        "test['ciudad']=test['ciudad'].fillna('N/A')\n",
        "#Relleno los nulls en direccion con un - .\n",
        "train['direccion']=train['direccion'].fillna('-')\n",
        "test['direccion']=test['direccion'].fillna('-')\n",
        "#Creo categoria para los que no tienen categoria en tipodepropiedad:\n",
        "train['tipodepropiedad']=train['tipodepropiedad'].fillna('N/A')\n",
        "test['tipodepropiedad']=test['tipodepropiedad'].fillna('N/A')\n",
        "\n",
        "train['titulo']=train['titulo'].fillna(' ')\n",
        "train['descripcion']=train['descripcion'].fillna(' ')\n",
        "test['titulo']=test['titulo'].fillna(' ')\n",
        "test['descripcion']=test['descripcion'].fillna(' ')\n",
        "\n",
        "train['precio']=train['precio'].astype(np.int32)\n",
        "train['id']=train['id'].astype(np.int32)\n",
        "test['id']=test['id'].astype(np.int32)\n",
        "\n",
        "train=train.fillna(0)\n",
        "test=test.fillna(0)"
      ],
      "execution_count": 0,
      "outputs": []
    },
    {
      "cell_type": "code",
      "metadata": {
        "id": "5H1z5sxaTRbj",
        "colab_type": "code",
        "colab": {}
      },
      "source": [
        "mexico_housing_dataframe = train"
      ],
      "execution_count": 0,
      "outputs": []
    },
    {
      "cell_type": "markdown",
      "metadata": {
        "id": "Pi4i9KbmBfP1",
        "colab_type": "text"
      },
      "source": [
        "# MODELO DE ENTRENAMIENTO CON UN FEATURE - TENSOR FLOW"
      ]
    },
    {
      "cell_type": "code",
      "metadata": {
        "id": "Y2FDeN9ZLQ1z",
        "colab_type": "code",
        "colab": {}
      },
      "source": [
        "#Realizo una permutacion para el análisis de las filas (Aleatorios)\n",
        "mexico_housing_dataframe = mexico_housing_dataframe.reindex(np.random.permutation(mexico_housing_dataframe.index))\n",
        "mexico_housing_dataframe[\"precio\"] /= 1000.0\n",
        "mexico_housing_dataframe"
      ],
      "execution_count": 0,
      "outputs": []
    },
    {
      "cell_type": "markdown",
      "metadata": {
        "id": "y-gr4NSIBqo0",
        "colab_type": "text"
      },
      "source": [
        "FUNCION DE ENTRADA"
      ]
    },
    {
      "cell_type": "code",
      "metadata": {
        "colab_type": "code",
        "id": "BHEctU7XRRna",
        "colab": {}
      },
      "source": [
        "def my_input_fn(features, targets, batch_size, shuffle=True, num_epochs=None):\n",
        "    \n",
        "    # Conversion de  pandas data  a dict de np arrays.\n",
        "    features = {key:np.array(value) for key,value in dict(features).items()}                                           \n",
        "    # Construyo un dataset, y configuro batching/repeating.\n",
        "    ds = Dataset.from_tensor_slices((features,targets)) # Peligro: 2GB es el limite\n",
        "    ds = ds.batch(batch_size).repeat(num_epochs)\n",
        "    # Shuffle los dato en caso de especificarlo\n",
        "    if shuffle:\n",
        "      ds = ds.shuffle(buffer_size=10000)\n",
        "    # Retorno el proximo lote de datos.\n",
        "    features, labels = ds.make_one_shot_iterator().get_next()\n",
        "    return features, labels"
      ],
      "execution_count": 0,
      "outputs": []
    },
    {
      "cell_type": "markdown",
      "metadata": {
        "id": "JW3N1QSKBxKb",
        "colab_type": "text"
      },
      "source": [
        "FUNCION DE ENTRENAMIENTO"
      ]
    },
    {
      "cell_type": "code",
      "metadata": {
        "id": "2FsS-fnSYcyK",
        "colab_type": "code",
        "colab": {}
      },
      "source": [
        "def train_model(learning_rate, steps, batch_size, input_feature=\"habitaciones\"):\n",
        "    #SE EJECUTAN 10 PERIODOS DE PRUEBAS CON RELACION A LOS HYPERPARAMETROS QUE SE PASAN\n",
        "    periods = 10\n",
        "    steps_per_period = steps / periods\n",
        "    # Definicion de los features de entrada: habitaciones\n",
        "    my_feature = mexico_housing_dataframe[[\"habitaciones\"]]\n",
        "    # Configure una columna numerica para habitaciones\n",
        "    feature_columns = [tf.feature_column.numeric_column(\"habitaciones\")]\n",
        "\n",
        "    # Definicion del Label ( targets )\n",
        "    targets = mexico_housing_dataframe[\"precio\"]\n",
        "\n",
        "    prediction_input_fn = lambda: my_input_fn(my_feature, targets,batch_size=1, num_epochs=1, shuffle=False)\n",
        "\n",
        "    # Utilizacion de 'Gradient Descent' par la optimización del modelo /////PODRIA CAMBIARSE PERO ES UNA HERRAMIENTA DE TF\n",
        "    my_optimizer = tf.train.GradientDescentOptimizer(learning_rate) #ESTE ARGUMENTO SE PASA (RANGO DE APRENDIZAJE)\n",
        "    my_optimizer = tf.contrib.estimator.clip_gradients_by_norm(my_optimizer, 5.0)\n",
        "\n",
        "    # Configuracion de 'regresion lineal' para el modelo con nuestroa columnda de feature y optimizador.\n",
        "    # Seteo rango de aprendizaje de 0.0000001 para el 'Gradient Descent'.\n",
        "\n",
        "    linear_regressor = tf.estimator.LinearRegressor(\n",
        "        feature_columns=feature_columns,\n",
        "        optimizer=my_optimizer\n",
        "    )\n",
        "\n",
        "    # Visualizacion de aprendizaje por periodo.\n",
        "    plt.figure(figsize=(15, 6))\n",
        "    plt.subplot(1, 2, 1)\n",
        "    plt.title(\"Linea de aprendizaje por Periodo\")\n",
        "    plt.ylabel(\"precio\")\n",
        "    plt.xlabel(\"habitaciones\")\n",
        "    sample = mexico_housing_dataframe.sample(n=300)\n",
        "    plt.scatter(sample[\"habitaciones\"], sample[\"precio\"])\n",
        "    colors = [cm.coolwarm(x) for x in np.linspace(-1, 1, periods)]\n",
        "\n",
        "  #ENTRENAMIENTO DEL MODELO=====================================================\n",
        "    \n",
        "    print(\"Entrenando Modelo...\")\n",
        "    print(\"RMSE (en Data):\")\n",
        "    root_mean_squared_errors = []\n",
        "    for period in range (0, periods):\n",
        "      linear_regressor.train(\n",
        "        input_fn = lambda:my_input_fn(my_feature, targets, batch_size=1),\n",
        "        steps=steps_per_period\n",
        "        )\n",
        "      # REALIZO PREDICCION\n",
        "      # Llamo a  predict() en linear_regressor para hacer predicciones.\n",
        "      predictions = linear_regressor.predict(input_fn=prediction_input_fn)\n",
        "      # Formateo las predicciones como un NumPy array, para poder calcular metricas.\n",
        "      predictions = np.array([item['predictions'][0] for item in predictions])\n",
        "      # Computar perdida.\n",
        "      root_mean_squared_error = math.sqrt(metrics.mean_squared_error(predictions, targets))\n",
        "      root_mean_squared_errors.append(root_mean_squared_error)\n",
        "      # Imprimir la perdida actual.\n",
        "      print(\"  Periodo %02d : %0.2f\" % (period, root_mean_squared_error))\n",
        "\n",
        "      y_extents = np.array([0, sample[\"precio\"].max()])\n",
        "    \n",
        "      weight = linear_regressor.get_variable_value('linear/linear_model/habitaciones/weights')[0]\n",
        "      bias = linear_regressor.get_variable_value('linear/linear_model/bias_weights')\n",
        "\n",
        "      x_extents = (y_extents - bias) / weight\n",
        "      x_extents = np.maximum(np.minimum(x_extents,\n",
        "                                      sample[\"habitaciones\"].max()),\n",
        "                           sample[\"habitaciones\"].min())\n",
        "      y_extents = weight * x_extents + bias\n",
        "      plt.plot(x_extents, y_extents, color=colors[period]) \n",
        " \n",
        "    print(\"Final de entrenamiento.\")\n",
        "    # Output a graph of loss metrics over periods.\n",
        "    plt.subplot(1, 2, 2)\n",
        "    plt.ylabel('RMSE')\n",
        "    plt.xlabel('Periodos')\n",
        "    plt.title(\"Error cuadratico Medio vs. Periodos\")\n",
        "    plt.tight_layout()\n",
        "    plt.plot(root_mean_squared_errors)\n",
        "\n",
        "    # Output a table with calibration data.\n",
        "    calibration_data = pd.DataFrame()\n",
        "    calibration_data[\"predictions\"] = pd.Series(predictions)\n",
        "    calibration_data[\"targets\"] = pd.Series(targets)\n",
        "    display.display(calibration_data.describe())\n",
        "\n",
        "    print(\"Resultado final  RMSE (sobre los datos): %0.2f\" % root_mean_squared_error)"
      ],
      "execution_count": 0,
      "outputs": []
    },
    {
      "cell_type": "markdown",
      "metadata": {
        "id": "_C_aPTm-CIYg",
        "colab_type": "text"
      },
      "source": [
        "EJECUTO ENTRENAMIENTO Y ANALIZO ERROR "
      ]
    },
    {
      "cell_type": "code",
      "metadata": {
        "id": "WLHQOgwk1xlV",
        "colab_type": "code",
        "colab": {}
      },
      "source": [
        "#ACLARACION: SE UTILIZA COMO FEATURE EL NUMERO DE HABITACIONES\n",
        "train_model(\n",
        "    learning_rate=0.0001,  #AJUSTES DE HYPERPARAMETROS\n",
        "    steps=500,\n",
        "    batch_size=5\n",
        ")"
      ],
      "execution_count": 0,
      "outputs": []
    },
    {
      "cell_type": "markdown",
      "metadata": {
        "id": "34hj709Z_7aG",
        "colab_type": "text"
      },
      "source": [
        "# MODELO PARA VARIOS FEATURES - TENSOR FLOW"
      ]
    },
    {
      "cell_type": "code",
      "metadata": {
        "id": "3O7FKP-8guU0",
        "colab_type": "code",
        "colab": {}
      },
      "source": [
        "#LUEGO DE LA LIMPIEZA DE DATOS\n",
        "mexico_housing_dataframe = train"
      ],
      "execution_count": 0,
      "outputs": []
    },
    {
      "cell_type": "code",
      "metadata": {
        "id": "Lia3Kq9whBTD",
        "colab_type": "code",
        "colab": {}
      },
      "source": [
        "#PREPOCESAMIENTO DE DATOS\n",
        "\n",
        "def preprocess_features(california_housing_dataframe):\n",
        "  selected_features = california_housing_dataframe[\n",
        "    [\"antiguedad\",\n",
        "     \"habitaciones\",\n",
        "     \"garages\",\n",
        "     \"banos\",\n",
        "     \"metroscubiertos\",\n",
        "     \"metrostotales\",\n",
        "     \"lat\",\n",
        "     \"lng\"]]\n",
        "  processed_features = selected_features.copy()\n",
        "  # Creacion de un feature Sintetico.\n",
        "  processed_features[\"extras\"] = (\n",
        "    mexico_housing_dataframe[\"gimnasio\"] +\n",
        "    mexico_housing_dataframe[\"usosmultiples\"] +\n",
        "    mexico_housing_dataframe[\"centroscomercialescercanos\"] +\n",
        "    mexico_housing_dataframe[\"escuelascercanas\"] +\n",
        "    mexico_housing_dataframe[\"piscina\"] )\n",
        "  return processed_features\n",
        "\n",
        "def preprocess_targets(mexico_housing_dataframe):\n",
        "  output_targets = pd.DataFrame()\n",
        "  # Escalar a unidades de miles la moneda.\n",
        "  output_targets[\"precio\"] = (\n",
        "    mexico_housing_dataframe[\"precio\"] / 1000.0)\n",
        "  return output_targets"
      ],
      "execution_count": 0,
      "outputs": []
    },
    {
      "cell_type": "markdown",
      "metadata": {
        "id": "oL9hYLR3AVSb",
        "colab_type": "text"
      },
      "source": [
        "CONJUNTO DE VALIDACION"
      ]
    },
    {
      "cell_type": "code",
      "metadata": {
        "id": "nd-dqEYCjeQ5",
        "colab_type": "code",
        "colab": {}
      },
      "source": [
        "training_examples = preprocess_features(mexico_housing_dataframe.head(168000))\n",
        "training_targets = preprocess_targets(mexico_housing_dataframe.head(168000))\n",
        "validation_examples = preprocess_features(mexico_housing_dataframe.tail(72000))\n",
        "validation_targets = preprocess_targets(mexico_housing_dataframe.tail(72000))"
      ],
      "execution_count": 0,
      "outputs": []
    },
    {
      "cell_type": "markdown",
      "metadata": {
        "id": "9rZbyPlrAcVM",
        "colab_type": "text"
      },
      "source": [
        "FUNCIONES DE ENTRADAS"
      ]
    },
    {
      "cell_type": "code",
      "metadata": {
        "id": "KYnG5V7c2xy5",
        "colab_type": "code",
        "colab": {}
      },
      "source": [
        "def my_input_fn(features, targets, batch_size=1, shuffle=True, num_epochs=None):\n",
        "    # Convertir pandas a un listado de numpy .\n",
        "    features = {key:np.array(value) for key,value in dict(features).items()}                                           \n",
        " \n",
        "    # Construyendo un dataset, y configurando batching/repeating.\n",
        "    ds = Dataset.from_tensor_slices((features,targets)) # El limite es de 2GB\n",
        "    ds = ds.batch(batch_size).repeat(num_epochs)\n",
        "    \n",
        "    # Mezclar Datos, si se especifica.\n",
        "    if shuffle:\n",
        "      ds = ds.shuffle(10000)\n",
        "    \n",
        "    # Return del proximo batch de datos.\n",
        "    features, labels = ds.make_one_shot_iterator().get_next()\n",
        "    return features, labels"
      ],
      "execution_count": 0,
      "outputs": []
    },
    {
      "cell_type": "markdown",
      "metadata": {
        "id": "wM5B2R41Aggr",
        "colab_type": "text"
      },
      "source": [
        "FUNCION PARA ENTRADA DE VARIOS FEATURES"
      ]
    },
    {
      "cell_type": "code",
      "metadata": {
        "id": "000ZbYl93Ex5",
        "colab_type": "code",
        "colab": {}
      },
      "source": [
        "def construct_feature_columns(input_features):\n",
        "  return set([tf.feature_column.numeric_column(my_feature)\n",
        "              for my_feature in input_features])"
      ],
      "execution_count": 0,
      "outputs": []
    },
    {
      "cell_type": "markdown",
      "metadata": {
        "id": "gkwZq-2SAl4f",
        "colab_type": "text"
      },
      "source": [
        "FUNCION DE ENTRENAMIENTO DEL MODELO"
      ]
    },
    {
      "cell_type": "code",
      "metadata": {
        "id": "Xyz6n1YHbGef",
        "colab_type": "code",
        "colab": {}
      },
      "source": [
        "def train_model(\n",
        "    learning_rate,\n",
        "    steps,\n",
        "    batch_size,\n",
        "    training_examples,\n",
        "    training_targets,\n",
        "    validation_examples,\n",
        "    validation_targets):\n",
        "  \n",
        "  periods = 10\n",
        "  steps_per_period = steps / periods\n",
        "  \n",
        "  # Regresion Lineal.=====GRADIENT DESCENT======================================\n",
        "  my_optimizer = tf.train.GradientDescentOptimizer(learning_rate=learning_rate)\n",
        "  my_optimizer = tf.contrib.estimator.clip_gradients_by_norm(my_optimizer, 5.0)\n",
        "  linear_regressor = tf.estimator.LinearRegressor(\n",
        "      feature_columns=construct_feature_columns(training_examples),\n",
        "      optimizer=my_optimizer\n",
        "  )\n",
        "  \n",
        "  # Configuracion de Funciones de Entrada.\n",
        "  training_input_fn = lambda: my_input_fn(\n",
        "      training_examples, \n",
        "      training_targets[\"precio\"], \n",
        "      batch_size=batch_size)\n",
        "  predict_training_input_fn = lambda: my_input_fn(\n",
        "      training_examples, \n",
        "      training_targets[\"precio\"], \n",
        "      num_epochs=1, \n",
        "      shuffle=False)\n",
        "  predict_validation_input_fn = lambda: my_input_fn(\n",
        "      validation_examples, validation_targets[\"precio\"], \n",
        "      num_epochs=1, \n",
        "      shuffle=False)\n",
        "\n",
        "  # Entrenamiento del Modelo==================================================== \n",
        "  print(\"Training model...\")\n",
        "  print(\"RMSE (on training data):\")\n",
        "  training_rmse = []\n",
        "  validation_rmse = []\n",
        "  for period in range (0, periods):\n",
        "    # Entrenando modelo comenzando por el primer Periodo\n",
        "    linear_regressor.train(\n",
        "        input_fn=training_input_fn,\n",
        "        steps=steps_per_period,\n",
        "    )\n",
        "    # Realizando Computos.\n",
        "    training_predictions = linear_regressor.predict(input_fn=predict_training_input_fn)\n",
        "    training_predictions = np.array([item['predictions'][0] for item in training_predictions])\n",
        "    \n",
        "    validation_predictions = linear_regressor.predict(input_fn=predict_validation_input_fn)\n",
        "    validation_predictions = np.array([item['predictions'][0] for item in validation_predictions])\n",
        "    \n",
        "    \n",
        "    # Validacion de Perdida.\n",
        "    training_root_mean_squared_error = math.sqrt(\n",
        "        metrics.mean_squared_error(training_predictions, training_targets))\n",
        "    validation_root_mean_squared_error = math.sqrt(\n",
        "        metrics.mean_squared_error(validation_predictions, validation_targets))\n",
        "    # Imprimir la Perdida actual .\n",
        "    print(\"  Periodo %02d : %0.2f\" % (period, training_root_mean_squared_error))\n",
        "    # Añadir las metricas de Perdida a la muestra.\n",
        "    training_rmse.append(training_root_mean_squared_error)\n",
        "    validation_rmse.append(validation_root_mean_squared_error)\n",
        "  print(\"Entrenamiento Finalizado.\")\n",
        "\n",
        "  # GRAFICANDO LAS METRICAS PARA CADA PERIODO===================================\n",
        "  plt.ylabel(\"RMSE\")\n",
        "  plt.xlabel(\"Periodos\")\n",
        "  plt.title(\"Raiz del Error Cuadràtico Medio vs. Periodos\")\n",
        "  plt.tight_layout()\n",
        "  plt.plot(training_rmse, label=\"Entrenando\")\n",
        "  plt.plot(validation_rmse, label=\"Validando\")\n",
        "  plt.legend()\n",
        "\n",
        "  return linear_regressor"
      ],
      "execution_count": 0,
      "outputs": []
    },
    {
      "cell_type": "code",
      "metadata": {
        "id": "4Uve_DkH3j2C",
        "colab_type": "code",
        "colab": {
          "base_uri": "https://localhost:8080/",
          "height": 518
        },
        "outputId": "bf885cda-fd91-47a4-fd93-95156cb45a5d"
      },
      "source": [
        "linear_regressor = train_model(\n",
        "    learning_rate=0.0003,\n",
        "    steps=1000,\n",
        "    batch_size=5,\n",
        "    training_examples=training_examples,\n",
        "    training_targets=training_targets,\n",
        "    validation_examples=validation_examples,\n",
        "    validation_targets=validation_targets)"
      ],
      "execution_count": 74,
      "outputs": [
        {
          "output_type": "stream",
          "text": [
            "Training model...\n",
            "RMSE (on training data):\n",
            "  period 00 : 3315.71\n",
            "  period 01 : 3313.98\n",
            "  period 02 : 3312.25\n",
            "  period 03 : 3310.53\n",
            "  period 04 : 3308.80\n",
            "  period 05 : 3307.08\n",
            "  period 06 : 3305.36\n",
            "  period 07 : 3303.63\n",
            "  period 08 : 3301.90\n",
            "  period 09 : 3300.18\n",
            "Model training finished.\n"
          ],
          "name": "stdout"
        },
        {
          "output_type": "display_data",
          "data": {
            "image/png": "[encoded data removed]",
            "text/plain": [
              "<Figure size 432x288 with 1 Axes>"
            ]
          },
          "metadata": {
            "tags": []
          }
        }
      ]
    }
  ]
}