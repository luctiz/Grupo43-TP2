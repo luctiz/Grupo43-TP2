{
  "nbformat": 4,
  "nbformat_minor": 0,
  "metadata": {
    "accelerator": "GPU",
    "colab": {
      "name": "TP2.ipynb",
      "provenance": [],
      "collapsed_sections": []
    },
    "kernelspec": {
      "display_name": "Python 3",
      "language": "python",
      "name": "python3"
    },
    "language_info": {
      "codemirror_mode": {
        "name": "ipython",
        "version": 3
      },
      "file_extension": ".py",
      "mimetype": "text/x-python",
      "name": "python",
      "nbconvert_exporter": "python",
      "pygments_lexer": "ipython3",
      "version": "3.6.8"
    }
  },
  "cells": [
    {
      "cell_type": "markdown",
      "metadata": {
        "colab_type": "text",
        "id": "view-in-github"
      },
      "source": [
        "<a href=\"https://colab.research.google.com/github/luctiz/Grupo43-TP2/blob/master/TP2.ipynb\" target=\"_parent\"><img src=\"https://colab.research.google.com/assets/colab-badge.svg\" alt=\"Open In Colab\"/></a>"
      ]
    },
    {
      "cell_type": "code",
      "metadata": {
        "colab_type": "code",
        "id": "rEJi-pWZDziy",
        "colab": {}
      },
      "source": [
        "import pandas as pd\n",
        "from datetime import datetime\n",
        "import numpy as np\n",
        "import matplotlib.pyplot as plt\n",
        "import seaborn as sns"
      ],
      "execution_count": 0,
      "outputs": []
    },
    {
      "cell_type": "code",
      "metadata": {
        "colab_type": "code",
        "id": "XWwt-ZbvD_60",
        "outputId": "ee42f4cf-5585-42f0-bc7a-e1c1e05fc953",
        "colab": {
          "base_uri": "https://localhost:8080/",
          "height": 122
        }
      },
      "source": [
        "from google.colab import drive\n",
        "drive.mount('/content/drive')\n"
      ],
      "execution_count": 0,
      "outputs": [
        {
          "output_type": "stream",
          "text": [
            "Go to this URL in a browser: https://accounts.google.com/o/oauth2/auth?client_id=947318989803-6bn6qk8qdgf4n4g3pfee6491hc0brc4i.apps.googleusercontent.com&redirect_uri=urn%3aietf%3awg%3aoauth%3a2.0%3aoob&response_type=code&scope=email%20https%3a%2f%2fwww.googleapis.com%2fauth%2fdocs.test%20https%3a%2f%2fwww.googleapis.com%2fauth%2fdrive%20https%3a%2f%2fwww.googleapis.com%2fauth%2fdrive.photos.readonly%20https%3a%2f%2fwww.googleapis.com%2fauth%2fpeopleapi.readonly\n",
            "\n",
            "Enter your authorization code:\n",
            "··········\n",
            "Mounted at /content/drive\n"
          ],
          "name": "stdout"
        }
      ]
    },
    {
      "cell_type": "markdown",
      "metadata": {
        "colab_type": "text",
        "id": "yZ3leJw7Dzi5"
      },
      "source": [
        "# Carga y limpieza de datos\n",
        "\n",
        "## (Hecho con la info obtenida en el notebook LimpiezaDeDatos)"
      ]
    },
    {
      "cell_type": "code",
      "metadata": {
        "colab_type": "code",
        "id": "8MBqVQ0t-fcY",
        "colab": {}
      },
      "source": [
        "#import io\n",
        "#ruta = io.StringIO(uploaded['train.csv'].decode('utf-8'))\n",
        "ejemplo = pd.read_csv(\"../content/drive/My Drive/data/ejemploRespuesta.csv\", names = [\"id\", \"precio\"])\n",
        "test = pd.read_csv(\"../content/drive/My Drive/data/test.csv\", parse_dates = ['fecha'])\n",
        "train = pd.read_csv(\"../content/drive/My Drive/data/train.csv\",parse_dates = ['fecha'])\n",
        "#ejemplo =  pd.read_csv('data/ejemploRespuesta.csv', names = [\"id\", \"precio\"] )\n",
        "#test =  pd.read_csv('data/test.csv', parse_dates = ['fecha'])\n",
        "#train = pd.read_csv('data/train.csv',parse_dates = ['fecha'])"
      ],
      "execution_count": 0,
      "outputs": []
    },
    {
      "cell_type": "code",
      "metadata": {
        "id": "O_XHmFUXy7Vx",
        "colab_type": "code",
        "outputId": "84a64fac-0a0a-4c81-814d-c6c666c49ac2",
        "colab": {
          "base_uri": "https://localhost:8080/",
          "height": 34
        }
      },
      "source": [
        " (test.provincia.isnull() & test.ciudad.isnull()).sum()"
      ],
      "execution_count": 0,
      "outputs": [
        {
          "output_type": "execute_result",
          "data": {
            "text/plain": [
              "42"
            ]
          },
          "metadata": {
            "tags": []
          },
          "execution_count": 119
        }
      ]
    },
    {
      "cell_type": "code",
      "metadata": {
        "colab_type": "code",
        "id": "tQ6smM2_DzjG",
        "colab": {}
      },
      "source": [
        "#El precio promedio de las publicaciones que no tienen datos de cant de habitaciones esta entre el precio\n",
        "#promedio de las que tienen 2 y 3 habitaciones\n",
        "#Entonces voy a asumir que tienen 3 habitaciones, ya que es el valor al cual el precio mas se les asemeja.\n",
        "train['habitaciones']=train['habitaciones'].fillna(3)\n",
        "test['habitaciones']=test['habitaciones'].fillna(3)\n",
        "#Luego convierto a np.int8\n",
        "train['habitaciones']=train['habitaciones'].astype(np.int8)\n",
        "test['habitaciones']=test['habitaciones'].astype(np.int8)"
      ],
      "execution_count": 0,
      "outputs": []
    },
    {
      "cell_type": "code",
      "metadata": {
        "colab_type": "code",
        "id": "uImtHs5JDzja",
        "colab": {}
      },
      "source": [
        "#Creo categoria para los que no tienen categoria en provincia:\n",
        "train['provincia']=train['provincia'].fillna('N/A')\n",
        "test['provincia']=test['provincia'].fillna('N/A')\n",
        "#Creo categoria para los que no tienen categoria en ciudad:\n",
        "train['ciudad']=train['ciudad'].fillna('N/A')\n",
        "test['ciudad']=test['ciudad'].fillna('N/A')\n",
        "#Relleno los nulls en direccion con un - .\n",
        "train['direccion']=train['direccion'].fillna('-')\n",
        "test['direccion']=test['direccion'].fillna('-')\n",
        "#Creo categoria para los que no tienen categoria en tipodepropiedad:\n",
        "train['tipodepropiedad']=train['tipodepropiedad'].fillna('N/A')\n",
        "test['tipodepropiedad']=test['tipodepropiedad'].fillna('N/A')"
      ],
      "execution_count": 0,
      "outputs": []
    },
    {
      "cell_type": "code",
      "metadata": {
        "colab_type": "code",
        "id": "nldkfelbDzi_",
        "colab": {}
      },
      "source": [
        "train['metroscubiertos']=train.metroscubiertos.fillna(round(train.metroscubiertos.mean()))\n",
        "test['metroscubiertos']=test.metroscubiertos.fillna(round(train.metroscubiertos.mean()))\n",
        "#Luego convierto metroscubiertos a  np.int16\n",
        "train['metroscubiertos']=train['metroscubiertos'].astype(np.int16)\n",
        "test['metroscubiertos']=test['metroscubiertos'].astype(np.int16)\n",
        "\n",
        "#del aux_means # lo borro ya que no lo uso mas\n",
        "\n"
      ],
      "execution_count": 0,
      "outputs": []
    },
    {
      "cell_type": "code",
      "metadata": {
        "colab_type": "code",
        "id": "ftmbtnbzDzjC",
        "colab": {}
      },
      "source": [
        "#A los nulls los relleno con el promedio de metrostotales de todas las publicaciones en train\n",
        "train['metrostotales']=train['metrostotales'].fillna(round(train['metrostotales'].mean()))\n",
        "test['metrostotales']=test['metrostotales'].fillna(round(train['metrostotales'].mean()))\n",
        "#Luego convierto metrostotales a  np.int16\n",
        "train['metrostotales']=train['metrostotales'].astype(np.int16)\n",
        "test['metrostotales']=test['metrostotales'].astype(np.int16)"
      ],
      "execution_count": 0,
      "outputs": []
    },
    {
      "cell_type": "code",
      "metadata": {
        "colab_type": "code",
        "id": "_ZLf4sfzDzjK",
        "colab": {}
      },
      "source": [
        "#A los que no tienen datos de antiguedad los relleno con la antiguedad promedio (es 8)\n",
        "train['antiguedad']=train['antiguedad'].fillna(round(train['antiguedad'].mean()))\n",
        "test['antiguedad']=test['antiguedad'].fillna(round(train['antiguedad'].mean()))\n",
        "#Luego convierto a np.uint8\n",
        "train['antiguedad']=train['antiguedad'].astype(np.uint8)\n",
        "test['antiguedad']=test['antiguedad'].astype(np.uint8)"
      ],
      "execution_count": 0,
      "outputs": []
    },
    {
      "cell_type": "code",
      "metadata": {
        "colab_type": "code",
        "id": "75gqVVkWDzjP",
        "colab": {}
      },
      "source": [
        "#El precio promedio de los que tienen NULL en garage es parecido al de los que tienen 2.\n",
        "#Relleno los nulls de esta columna con un 2.\n",
        "train['garages']=train['garages'].fillna(2)\n",
        "test['garages']=test['garages'].fillna(2)\n",
        "#convierto a np.int8\n",
        "train['garages']=train['garages'].astype(np.int8)\n",
        "test['garages']=test['garages'].astype(np.int8)"
      ],
      "execution_count": 0,
      "outputs": []
    },
    {
      "cell_type": "code",
      "metadata": {
        "colab_type": "code",
        "id": "UpBPbRpLDzjT",
        "colab": {}
      },
      "source": [
        "#El precio promedio de los que tienen NULL en banos es mas parecido al de los que tienen 2.\n",
        "#Relleno los nulls de esta columna con un 2.\n",
        "train['banos']=train['banos'].fillna(2)\n",
        "test['banos']=test['banos'].fillna(2)\n",
        "#convierto a np.int8\n",
        "train['banos']=train['banos'].astype(np.int8)\n",
        "test['banos']=test['banos'].astype(np.int8)"
      ],
      "execution_count": 0,
      "outputs": []
    },
    {
      "cell_type": "code",
      "metadata": {
        "colab_type": "code",
        "id": "n7SEA5BXDzjW",
        "scrolled": true,
        "colab": {}
      },
      "source": [
        "train['gimnasio']=train['gimnasio'].astype(np.int8)\n",
        "train['usosmultiples']=train['usosmultiples'].astype(np.int8)\n",
        "train['piscina']=train['piscina'].astype(np.int8)\n",
        "train['escuelascercanas']=train['escuelascercanas'].astype(np.int8)\n",
        "train['centroscomercialescercanos']=train['centroscomercialescercanos'].astype(np.int8)\n",
        "test['gimnasio']=test['gimnasio'].astype(np.int8)\n",
        "test['usosmultiples']=test['usosmultiples'].astype(np.int8)\n",
        "test['piscina']=test['piscina'].astype(np.int8)\n",
        "test['escuelascercanas']=test['escuelascercanas'].astype(np.int8)\n",
        "test['centroscomercialescercanos']=test['centroscomercialescercanos'].astype(np.int8)"
      ],
      "execution_count": 0,
      "outputs": []
    },
    {
      "cell_type": "code",
      "metadata": {
        "colab_type": "code",
        "id": "bLBuR2E5Dzjd",
        "colab": {}
      },
      "source": [
        "train['titulo']=train['titulo'].fillna(' ')\n",
        "train['descripcion']=train['descripcion'].fillna(' ')\n",
        "test['titulo']=test['titulo'].fillna(' ')\n",
        "test['descripcion']=test['descripcion'].fillna(' ')"
      ],
      "execution_count": 0,
      "outputs": []
    },
    {
      "cell_type": "code",
      "metadata": {
        "colab_type": "code",
        "id": "-YeCjf6wDzjh",
        "colab": {}
      },
      "source": [
        "train['precio']=train['precio'].astype(np.int32)\n",
        "train['id']=train['id'].astype(np.int32)\n",
        "test['id']=test['id'].astype(np.int32)"
      ],
      "execution_count": 0,
      "outputs": []
    },
    {
      "cell_type": "code",
      "metadata": {
        "id": "gR-Lm_ML4wBA",
        "colab_type": "code",
        "colab": {}
      },
      "source": [
        "aux_glng=train.groupby('provincia')['lng'].mean()\n",
        "aux_glat=train.groupby('provincia')['lng'].mean()"
      ],
      "execution_count": 0,
      "outputs": []
    },
    {
      "cell_type": "code",
      "metadata": {
        "id": "_T25ueMiKZrB",
        "colab_type": "code",
        "colab": {}
      },
      "source": [
        "train.lat=train.lat.fillna(train.lat.mean())\n",
        "train.lng=train.lng.fillna(train.lng.mean())\n",
        "test.lat=test.lat.fillna(train.lat.mean())\n",
        "test.lng=test.lng.fillna(train.lng.mean())"
      ],
      "execution_count": 0,
      "outputs": []
    },
    {
      "cell_type": "code",
      "metadata": {
        "colab_type": "code",
        "id": "VO8oWaoFDzjk",
        "colab": {}
      },
      "source": [
        "#Algunas columnas tienen nulls que no se como encararlos. Por ahora los relleno con 0\n",
        "train=train.fillna(0)\n",
        "test=test.fillna(0)"
      ],
      "execution_count": 0,
      "outputs": []
    },
    {
      "cell_type": "markdown",
      "metadata": {
        "colab_type": "text",
        "id": "WAHlJ_ixDzjo"
      },
      "source": [
        "# Armado de features:"
      ]
    },
    {
      "cell_type": "code",
      "metadata": {
        "colab_type": "code",
        "id": "u51NytzxDzjp",
        "outputId": "8f5288cb-8980-4592-dbfb-72b844f31448",
        "scrolled": true,
        "colab": {
          "base_uri": "https://localhost:8080/",
          "height": 119
        }
      },
      "source": [
        "train.columns"
      ],
      "execution_count": 0,
      "outputs": [
        {
          "output_type": "execute_result",
          "data": {
            "text/plain": [
              "Index(['id', 'titulo', 'descripcion', 'tipodepropiedad', 'direccion', 'ciudad',\n",
              "       'provincia', 'antiguedad', 'habitaciones', 'garages', 'banos',\n",
              "       'metroscubiertos', 'metrostotales', 'idzona', 'lat', 'lng', 'fecha',\n",
              "       'gimnasio', 'usosmultiples', 'piscina', 'escuelascercanas',\n",
              "       'centroscomercialescercanos', 'precio'],\n",
              "      dtype='object')"
            ]
          },
          "metadata": {
            "tags": []
          },
          "execution_count": 133
        }
      ]
    },
    {
      "cell_type": "code",
      "metadata": {
        "colab_type": "code",
        "id": "ly55QyCuDzjx",
        "outputId": "06739ec2-725c-4d56-d607-030a41713a4d",
        "colab": {
          "base_uri": "https://localhost:8080/",
          "height": 119
        }
      },
      "source": [
        "test.columns"
      ],
      "execution_count": 0,
      "outputs": [
        {
          "output_type": "execute_result",
          "data": {
            "text/plain": [
              "Index(['id', 'titulo', 'descripcion', 'tipodepropiedad', 'direccion', 'ciudad',\n",
              "       'provincia', 'antiguedad', 'habitaciones', 'garages', 'banos',\n",
              "       'metroscubiertos', 'metrostotales', 'idzona', 'lat', 'lng', 'fecha',\n",
              "       'gimnasio', 'usosmultiples', 'piscina', 'escuelascercanas',\n",
              "       'centroscomercialescercanos'],\n",
              "      dtype='object')"
            ]
          },
          "metadata": {
            "tags": []
          },
          "execution_count": 134
        }
      ]
    },
    {
      "cell_type": "markdown",
      "metadata": {
        "colab_type": "text",
        "id": "sqJf4t1b-W7v"
      },
      "source": [
        "## Features sobre el tiempo"
      ]
    },
    {
      "cell_type": "markdown",
      "metadata": {
        "colab_type": "text",
        "id": "wq7f_c0xDzke"
      },
      "source": [
        "En el TP1 vimos como los precios iban en aumento a medida que el tiempo aumentaba, por lo que nos interesa crear nuevos features tomando en cuenta el tiempo en el que se publicaron las propiedades.\n",
        "\n",
        "\n",
        "Para realizar un nuevo feature comenzaremos añadiendo un peso para cada fecha, este peso irá en aumento a medida que las fechas van subiendo, así simularemos el crecimiento del precio a lo largo del tiempo."
      ]
    },
    {
      "cell_type": "code",
      "metadata": {
        "colab_type": "code",
        "id": "3GemqKzdDzkf",
        "colab": {}
      },
      "source": [
        "#Califico las fechas de acuerdo a la diferencia entre la fecha actual y la fecha mínima sobre el máximo de dias\n",
        "fecha_min = train.fecha.min()\n",
        "fecha_max = train.fecha.max()\n",
        "delta_max_days = (fecha_max - fecha_min).days\n",
        "def calificar_fecha(fecha):\n",
        "    delta = fecha - fecha_min\n",
        "    return delta.days/delta_max_days"
      ],
      "execution_count": 0,
      "outputs": []
    },
    {
      "cell_type": "code",
      "metadata": {
        "colab_type": "code",
        "id": "wi0CoPv5Dzkj",
        "outputId": "f8070dff-26c3-49cc-f32d-d717e059d35f",
        "colab": {
          "base_uri": "https://localhost:8080/",
          "height": 151
        }
      },
      "source": [
        "train[\"puntaje_por_fecha\"] = train['fecha'].transform(lambda x: calificar_fecha(x))\n",
        "train.head(1)"
      ],
      "execution_count": 0,
      "outputs": [
        {
          "output_type": "execute_result",
          "data": {
            "text/html": [
              "<div>\n",
              "<style scoped>\n",
              "    .dataframe tbody tr th:only-of-type {\n",
              "        vertical-align: middle;\n",
              "    }\n",
              "\n",
              "    .dataframe tbody tr th {\n",
              "        vertical-align: top;\n",
              "    }\n",
              "\n",
              "    .dataframe thead th {\n",
              "        text-align: right;\n",
              "    }\n",
              "</style>\n",
              "<table border=\"1\" class=\"dataframe\">\n",
              "  <thead>\n",
              "    <tr style=\"text-align: right;\">\n",
              "      <th></th>\n",
              "      <th>id</th>\n",
              "      <th>titulo</th>\n",
              "      <th>descripcion</th>\n",
              "      <th>tipodepropiedad</th>\n",
              "      <th>direccion</th>\n",
              "      <th>ciudad</th>\n",
              "      <th>provincia</th>\n",
              "      <th>antiguedad</th>\n",
              "      <th>habitaciones</th>\n",
              "      <th>garages</th>\n",
              "      <th>banos</th>\n",
              "      <th>metroscubiertos</th>\n",
              "      <th>metrostotales</th>\n",
              "      <th>idzona</th>\n",
              "      <th>lat</th>\n",
              "      <th>lng</th>\n",
              "      <th>fecha</th>\n",
              "      <th>gimnasio</th>\n",
              "      <th>usosmultiples</th>\n",
              "      <th>piscina</th>\n",
              "      <th>escuelascercanas</th>\n",
              "      <th>centroscomercialescercanos</th>\n",
              "      <th>precio</th>\n",
              "      <th>puntaje_por_fecha</th>\n",
              "    </tr>\n",
              "  </thead>\n",
              "  <tbody>\n",
              "    <tr>\n",
              "      <th>0</th>\n",
              "      <td>254099</td>\n",
              "      <td>depto. tipo a-402</td>\n",
              "      <td>depto. interior de 80.15m2, consta de sala com...</td>\n",
              "      <td>Apartamento</td>\n",
              "      <td>Avenida Division del Norte 2005</td>\n",
              "      <td>Benito Juárez</td>\n",
              "      <td>Distrito Federal</td>\n",
              "      <td>8</td>\n",
              "      <td>2</td>\n",
              "      <td>1</td>\n",
              "      <td>2</td>\n",
              "      <td>80</td>\n",
              "      <td>80</td>\n",
              "      <td>23533.0</td>\n",
              "      <td>20.696818</td>\n",
              "      <td>-99.509221</td>\n",
              "      <td>2015-08-23</td>\n",
              "      <td>0</td>\n",
              "      <td>0</td>\n",
              "      <td>0</td>\n",
              "      <td>0</td>\n",
              "      <td>0</td>\n",
              "      <td>2273000</td>\n",
              "      <td>0.728368</td>\n",
              "    </tr>\n",
              "  </tbody>\n",
              "</table>\n",
              "</div>"
            ],
            "text/plain": [
              "       id             titulo  ...   precio puntaje_por_fecha\n",
              "0  254099  depto. tipo a-402  ...  2273000          0.728368\n",
              "\n",
              "[1 rows x 24 columns]"
            ]
          },
          "metadata": {
            "tags": []
          },
          "execution_count": 136
        }
      ]
    },
    {
      "cell_type": "code",
      "metadata": {
        "colab_type": "code",
        "id": "xSBgj_1pDzkm",
        "outputId": "a5cfebcf-ec99-4d15-ed7a-8409d73849bd",
        "scrolled": true,
        "colab": {
          "base_uri": "https://localhost:8080/",
          "height": 202
        }
      },
      "source": [
        "#Set de test\n",
        "test[\"puntaje_por_fecha\"] = test['fecha'].transform(lambda x: calificar_fecha(x))\n",
        "test.head(1)"
      ],
      "execution_count": 0,
      "outputs": [
        {
          "output_type": "execute_result",
          "data": {
            "text/html": [
              "<div>\n",
              "<style scoped>\n",
              "    .dataframe tbody tr th:only-of-type {\n",
              "        vertical-align: middle;\n",
              "    }\n",
              "\n",
              "    .dataframe tbody tr th {\n",
              "        vertical-align: top;\n",
              "    }\n",
              "\n",
              "    .dataframe thead th {\n",
              "        text-align: right;\n",
              "    }\n",
              "</style>\n",
              "<table border=\"1\" class=\"dataframe\">\n",
              "  <thead>\n",
              "    <tr style=\"text-align: right;\">\n",
              "      <th></th>\n",
              "      <th>id</th>\n",
              "      <th>titulo</th>\n",
              "      <th>descripcion</th>\n",
              "      <th>tipodepropiedad</th>\n",
              "      <th>direccion</th>\n",
              "      <th>ciudad</th>\n",
              "      <th>provincia</th>\n",
              "      <th>antiguedad</th>\n",
              "      <th>habitaciones</th>\n",
              "      <th>garages</th>\n",
              "      <th>banos</th>\n",
              "      <th>metroscubiertos</th>\n",
              "      <th>metrostotales</th>\n",
              "      <th>idzona</th>\n",
              "      <th>lat</th>\n",
              "      <th>lng</th>\n",
              "      <th>fecha</th>\n",
              "      <th>gimnasio</th>\n",
              "      <th>usosmultiples</th>\n",
              "      <th>piscina</th>\n",
              "      <th>escuelascercanas</th>\n",
              "      <th>centroscomercialescercanos</th>\n",
              "      <th>puntaje_por_fecha</th>\n",
              "    </tr>\n",
              "  </thead>\n",
              "  <tbody>\n",
              "    <tr>\n",
              "      <th>0</th>\n",
              "      <td>4941</td>\n",
              "      <td>casa en venta en miguel hidalgo, distrito federal</td>\n",
              "      <td>&lt;p&gt;excelente casa estilo moderno.&lt;/p&gt;</td>\n",
              "      <td>Casa</td>\n",
              "      <td>Bosque de Cedros</td>\n",
              "      <td>Miguel Hidalgo</td>\n",
              "      <td>Distrito Federal</td>\n",
              "      <td>29</td>\n",
              "      <td>3</td>\n",
              "      <td>2</td>\n",
              "      <td>4</td>\n",
              "      <td>300</td>\n",
              "      <td>177</td>\n",
              "      <td>0.0</td>\n",
              "      <td>19.408668</td>\n",
              "      <td>-99.246767</td>\n",
              "      <td>2013-07-20</td>\n",
              "      <td>0</td>\n",
              "      <td>0</td>\n",
              "      <td>0</td>\n",
              "      <td>0</td>\n",
              "      <td>0</td>\n",
              "      <td>0.309967</td>\n",
              "    </tr>\n",
              "  </tbody>\n",
              "</table>\n",
              "</div>"
            ],
            "text/plain": [
              "     id  ... puntaje_por_fecha\n",
              "0  4941  ...          0.309967\n",
              "\n",
              "[1 rows x 23 columns]"
            ]
          },
          "metadata": {
            "tags": []
          },
          "execution_count": 137
        }
      ]
    },
    {
      "cell_type": "markdown",
      "metadata": {
        "colab_type": "text",
        "id": "cop2D3aeDzkq"
      },
      "source": [
        "## Features descripcion"
      ]
    },
    {
      "cell_type": "markdown",
      "metadata": {
        "colab_type": "text",
        "id": "_osusV1kDzkr"
      },
      "source": [
        "Para el primer TP descubrimos que habia ciertas palabras que estaban correlacionadas a mayor precio y otras a menor precio. Usando esa informacion vamos a armar features que nos digan si la descripcion tiene o no determinada palabra"
      ]
    },
    {
      "cell_type": "code",
      "metadata": {
        "colab_type": "code",
        "id": "tJo0bmcLDzks",
        "colab": {}
      },
      "source": [
        "#Paso todas las descripciones a minúscula para contar las palabras con mas precision\n",
        "train['descripcion']=train['descripcion'].apply(lambda x: x.lower())"
      ],
      "execution_count": 0,
      "outputs": []
    },
    {
      "cell_type": "code",
      "metadata": {
        "colab_type": "code",
        "id": "CkfO4qykDzkw",
        "colab": {}
      },
      "source": [
        "Palabras_mayor_precio=['cuarto','vestidor','terraza','family','vista','bodega',\\\n",
        "                       'salón','estudio','jardín','room','jacuzzi','lujo','antecomedor',\\\n",
        "                       'tv','fiestas','juegos','estacionamiento','gimnasio','nado',\\\n",
        "                       'lugares','doble','desayunador','servicio','chimenea','visita',\\\n",
        "                       'acabado','espacio','salon','alberca','garden','spa']\n",
        "Palabras_menor_precio=['minutos','acept','boiler','reja','credito','transporte'\\\n",
        "                      ,'cochera','contado','escuela','inf','fovissste','cerca',\\\n",
        "                      'bancario','protecciones','patio','infonavit']\n",
        "Palabras=Palabras_mayor_precio + Palabras_menor_precio"
      ],
      "execution_count": 0,
      "outputs": []
    },
    {
      "cell_type": "code",
      "metadata": {
        "colab_type": "code",
        "id": "4L-TA8esDzk6",
        "scrolled": true,
        "colab": {}
      },
      "source": [
        "dummies_palabras_descr=pd.DataFrame()\n",
        "#Por cada palabra en la lista genero una columna que diga si la descripcion contenia esa palabra o no\n",
        "for palabra in Palabras:\n",
        "    dummies_palabras_descr[palabra]=train['descripcion'].apply(lambda x: palabra in x).astype(np.int8)\n",
        "#Renombro estas columnas agregandoles un prefijo\n",
        "dummies_palabras_descr=dummies_palabras_descr.add_prefix('desc_')"
      ],
      "execution_count": 0,
      "outputs": []
    },
    {
      "cell_type": "code",
      "metadata": {
        "colab_type": "code",
        "id": "0Y1mvhTXDzk9",
        "outputId": "921f27da-eac6-4b1a-9ef7-8050a20c68f1",
        "scrolled": true,
        "colab": {
          "base_uri": "https://localhost:8080/",
          "height": 162
        }
      },
      "source": [
        "dummies_palabras_descr.head(3)"
      ],
      "execution_count": 0,
      "outputs": [
        {
          "output_type": "execute_result",
          "data": {
            "text/html": [
              "<div>\n",
              "<style scoped>\n",
              "    .dataframe tbody tr th:only-of-type {\n",
              "        vertical-align: middle;\n",
              "    }\n",
              "\n",
              "    .dataframe tbody tr th {\n",
              "        vertical-align: top;\n",
              "    }\n",
              "\n",
              "    .dataframe thead th {\n",
              "        text-align: right;\n",
              "    }\n",
              "</style>\n",
              "<table border=\"1\" class=\"dataframe\">\n",
              "  <thead>\n",
              "    <tr style=\"text-align: right;\">\n",
              "      <th></th>\n",
              "      <th>desc_cuarto</th>\n",
              "      <th>desc_vestidor</th>\n",
              "      <th>desc_terraza</th>\n",
              "      <th>desc_family</th>\n",
              "      <th>desc_vista</th>\n",
              "      <th>desc_bodega</th>\n",
              "      <th>desc_salón</th>\n",
              "      <th>desc_estudio</th>\n",
              "      <th>desc_jardín</th>\n",
              "      <th>desc_room</th>\n",
              "      <th>desc_jacuzzi</th>\n",
              "      <th>desc_lujo</th>\n",
              "      <th>desc_antecomedor</th>\n",
              "      <th>desc_tv</th>\n",
              "      <th>desc_fiestas</th>\n",
              "      <th>desc_juegos</th>\n",
              "      <th>desc_estacionamiento</th>\n",
              "      <th>desc_gimnasio</th>\n",
              "      <th>desc_nado</th>\n",
              "      <th>desc_lugares</th>\n",
              "      <th>desc_doble</th>\n",
              "      <th>desc_desayunador</th>\n",
              "      <th>desc_servicio</th>\n",
              "      <th>desc_chimenea</th>\n",
              "      <th>desc_visita</th>\n",
              "      <th>desc_acabado</th>\n",
              "      <th>desc_espacio</th>\n",
              "      <th>desc_salon</th>\n",
              "      <th>desc_alberca</th>\n",
              "      <th>desc_garden</th>\n",
              "      <th>desc_spa</th>\n",
              "      <th>desc_minutos</th>\n",
              "      <th>desc_acept</th>\n",
              "      <th>desc_boiler</th>\n",
              "      <th>desc_reja</th>\n",
              "      <th>desc_credito</th>\n",
              "      <th>desc_transporte</th>\n",
              "      <th>desc_cochera</th>\n",
              "      <th>desc_contado</th>\n",
              "      <th>desc_escuela</th>\n",
              "      <th>desc_inf</th>\n",
              "      <th>desc_fovissste</th>\n",
              "      <th>desc_cerca</th>\n",
              "      <th>desc_bancario</th>\n",
              "      <th>desc_protecciones</th>\n",
              "      <th>desc_patio</th>\n",
              "      <th>desc_infonavit</th>\n",
              "    </tr>\n",
              "  </thead>\n",
              "  <tbody>\n",
              "    <tr>\n",
              "      <th>0</th>\n",
              "      <td>0</td>\n",
              "      <td>0</td>\n",
              "      <td>0</td>\n",
              "      <td>0</td>\n",
              "      <td>0</td>\n",
              "      <td>0</td>\n",
              "      <td>0</td>\n",
              "      <td>0</td>\n",
              "      <td>0</td>\n",
              "      <td>0</td>\n",
              "      <td>0</td>\n",
              "      <td>0</td>\n",
              "      <td>0</td>\n",
              "      <td>0</td>\n",
              "      <td>0</td>\n",
              "      <td>0</td>\n",
              "      <td>0</td>\n",
              "      <td>0</td>\n",
              "      <td>0</td>\n",
              "      <td>0</td>\n",
              "      <td>0</td>\n",
              "      <td>0</td>\n",
              "      <td>0</td>\n",
              "      <td>0</td>\n",
              "      <td>0</td>\n",
              "      <td>0</td>\n",
              "      <td>0</td>\n",
              "      <td>0</td>\n",
              "      <td>0</td>\n",
              "      <td>0</td>\n",
              "      <td>0</td>\n",
              "      <td>0</td>\n",
              "      <td>0</td>\n",
              "      <td>0</td>\n",
              "      <td>0</td>\n",
              "      <td>0</td>\n",
              "      <td>0</td>\n",
              "      <td>0</td>\n",
              "      <td>0</td>\n",
              "      <td>0</td>\n",
              "      <td>0</td>\n",
              "      <td>0</td>\n",
              "      <td>0</td>\n",
              "      <td>0</td>\n",
              "      <td>0</td>\n",
              "      <td>0</td>\n",
              "      <td>0</td>\n",
              "    </tr>\n",
              "    <tr>\n",
              "      <th>1</th>\n",
              "      <td>1</td>\n",
              "      <td>1</td>\n",
              "      <td>1</td>\n",
              "      <td>0</td>\n",
              "      <td>0</td>\n",
              "      <td>0</td>\n",
              "      <td>0</td>\n",
              "      <td>0</td>\n",
              "      <td>0</td>\n",
              "      <td>0</td>\n",
              "      <td>0</td>\n",
              "      <td>0</td>\n",
              "      <td>1</td>\n",
              "      <td>0</td>\n",
              "      <td>0</td>\n",
              "      <td>0</td>\n",
              "      <td>1</td>\n",
              "      <td>0</td>\n",
              "      <td>0</td>\n",
              "      <td>0</td>\n",
              "      <td>0</td>\n",
              "      <td>0</td>\n",
              "      <td>1</td>\n",
              "      <td>0</td>\n",
              "      <td>0</td>\n",
              "      <td>0</td>\n",
              "      <td>0</td>\n",
              "      <td>0</td>\n",
              "      <td>0</td>\n",
              "      <td>0</td>\n",
              "      <td>1</td>\n",
              "      <td>0</td>\n",
              "      <td>0</td>\n",
              "      <td>0</td>\n",
              "      <td>0</td>\n",
              "      <td>0</td>\n",
              "      <td>0</td>\n",
              "      <td>0</td>\n",
              "      <td>0</td>\n",
              "      <td>0</td>\n",
              "      <td>0</td>\n",
              "      <td>0</td>\n",
              "      <td>0</td>\n",
              "      <td>0</td>\n",
              "      <td>0</td>\n",
              "      <td>0</td>\n",
              "      <td>0</td>\n",
              "    </tr>\n",
              "    <tr>\n",
              "      <th>2</th>\n",
              "      <td>0</td>\n",
              "      <td>0</td>\n",
              "      <td>0</td>\n",
              "      <td>0</td>\n",
              "      <td>0</td>\n",
              "      <td>0</td>\n",
              "      <td>0</td>\n",
              "      <td>0</td>\n",
              "      <td>0</td>\n",
              "      <td>1</td>\n",
              "      <td>0</td>\n",
              "      <td>0</td>\n",
              "      <td>0</td>\n",
              "      <td>0</td>\n",
              "      <td>0</td>\n",
              "      <td>0</td>\n",
              "      <td>1</td>\n",
              "      <td>0</td>\n",
              "      <td>1</td>\n",
              "      <td>0</td>\n",
              "      <td>0</td>\n",
              "      <td>0</td>\n",
              "      <td>1</td>\n",
              "      <td>0</td>\n",
              "      <td>0</td>\n",
              "      <td>0</td>\n",
              "      <td>0</td>\n",
              "      <td>0</td>\n",
              "      <td>0</td>\n",
              "      <td>0</td>\n",
              "      <td>0</td>\n",
              "      <td>0</td>\n",
              "      <td>0</td>\n",
              "      <td>0</td>\n",
              "      <td>0</td>\n",
              "      <td>0</td>\n",
              "      <td>0</td>\n",
              "      <td>0</td>\n",
              "      <td>0</td>\n",
              "      <td>1</td>\n",
              "      <td>1</td>\n",
              "      <td>0</td>\n",
              "      <td>1</td>\n",
              "      <td>0</td>\n",
              "      <td>0</td>\n",
              "      <td>1</td>\n",
              "      <td>0</td>\n",
              "    </tr>\n",
              "  </tbody>\n",
              "</table>\n",
              "</div>"
            ],
            "text/plain": [
              "   desc_cuarto  desc_vestidor  ...  desc_patio  desc_infonavit\n",
              "0            0              0  ...           0               0\n",
              "1            1              1  ...           0               0\n",
              "2            0              0  ...           1               0\n",
              "\n",
              "[3 rows x 47 columns]"
            ]
          },
          "metadata": {
            "tags": []
          },
          "execution_count": 141
        }
      ]
    },
    {
      "cell_type": "code",
      "metadata": {
        "colab_type": "code",
        "id": "Hh33Qj71DzlG",
        "colab": {}
      },
      "source": [
        "dummies_palabras_descr_test=pd.DataFrame()\n",
        "#Hago lo mismo para el set de test\n",
        "for palabra in Palabras:\n",
        "    dummies_palabras_descr_test[palabra]=test['descripcion'].apply(lambda x: palabra in x).astype(np.int8)\n",
        "dummies_palabras_descr_test=dummies_palabras_descr_test.add_prefix('desc_')"
      ],
      "execution_count": 0,
      "outputs": []
    },
    {
      "cell_type": "code",
      "metadata": {
        "colab_type": "code",
        "id": "Iff0OUFqDzlJ",
        "outputId": "e0aacc28-11f5-4560-9551-47f87fb5924b",
        "colab": {
          "base_uri": "https://localhost:8080/",
          "height": 224
        }
      },
      "source": [
        "dummies_palabras_descr_test.head()"
      ],
      "execution_count": 0,
      "outputs": [
        {
          "output_type": "execute_result",
          "data": {
            "text/html": [
              "<div>\n",
              "<style scoped>\n",
              "    .dataframe tbody tr th:only-of-type {\n",
              "        vertical-align: middle;\n",
              "    }\n",
              "\n",
              "    .dataframe tbody tr th {\n",
              "        vertical-align: top;\n",
              "    }\n",
              "\n",
              "    .dataframe thead th {\n",
              "        text-align: right;\n",
              "    }\n",
              "</style>\n",
              "<table border=\"1\" class=\"dataframe\">\n",
              "  <thead>\n",
              "    <tr style=\"text-align: right;\">\n",
              "      <th></th>\n",
              "      <th>desc_cuarto</th>\n",
              "      <th>desc_vestidor</th>\n",
              "      <th>desc_terraza</th>\n",
              "      <th>desc_family</th>\n",
              "      <th>desc_vista</th>\n",
              "      <th>desc_bodega</th>\n",
              "      <th>desc_salón</th>\n",
              "      <th>desc_estudio</th>\n",
              "      <th>desc_jardín</th>\n",
              "      <th>desc_room</th>\n",
              "      <th>desc_jacuzzi</th>\n",
              "      <th>desc_lujo</th>\n",
              "      <th>desc_antecomedor</th>\n",
              "      <th>desc_tv</th>\n",
              "      <th>desc_fiestas</th>\n",
              "      <th>desc_juegos</th>\n",
              "      <th>desc_estacionamiento</th>\n",
              "      <th>desc_gimnasio</th>\n",
              "      <th>desc_nado</th>\n",
              "      <th>desc_lugares</th>\n",
              "      <th>desc_doble</th>\n",
              "      <th>desc_desayunador</th>\n",
              "      <th>desc_servicio</th>\n",
              "      <th>desc_chimenea</th>\n",
              "      <th>desc_visita</th>\n",
              "      <th>desc_acabado</th>\n",
              "      <th>desc_espacio</th>\n",
              "      <th>desc_salon</th>\n",
              "      <th>desc_alberca</th>\n",
              "      <th>desc_garden</th>\n",
              "      <th>desc_spa</th>\n",
              "      <th>desc_minutos</th>\n",
              "      <th>desc_acept</th>\n",
              "      <th>desc_boiler</th>\n",
              "      <th>desc_reja</th>\n",
              "      <th>desc_credito</th>\n",
              "      <th>desc_transporte</th>\n",
              "      <th>desc_cochera</th>\n",
              "      <th>desc_contado</th>\n",
              "      <th>desc_escuela</th>\n",
              "      <th>desc_inf</th>\n",
              "      <th>desc_fovissste</th>\n",
              "      <th>desc_cerca</th>\n",
              "      <th>desc_bancario</th>\n",
              "      <th>desc_protecciones</th>\n",
              "      <th>desc_patio</th>\n",
              "      <th>desc_infonavit</th>\n",
              "    </tr>\n",
              "  </thead>\n",
              "  <tbody>\n",
              "    <tr>\n",
              "      <th>0</th>\n",
              "      <td>0</td>\n",
              "      <td>0</td>\n",
              "      <td>0</td>\n",
              "      <td>0</td>\n",
              "      <td>0</td>\n",
              "      <td>0</td>\n",
              "      <td>0</td>\n",
              "      <td>0</td>\n",
              "      <td>0</td>\n",
              "      <td>0</td>\n",
              "      <td>0</td>\n",
              "      <td>0</td>\n",
              "      <td>0</td>\n",
              "      <td>0</td>\n",
              "      <td>0</td>\n",
              "      <td>0</td>\n",
              "      <td>0</td>\n",
              "      <td>0</td>\n",
              "      <td>0</td>\n",
              "      <td>0</td>\n",
              "      <td>0</td>\n",
              "      <td>0</td>\n",
              "      <td>0</td>\n",
              "      <td>0</td>\n",
              "      <td>0</td>\n",
              "      <td>0</td>\n",
              "      <td>0</td>\n",
              "      <td>0</td>\n",
              "      <td>0</td>\n",
              "      <td>0</td>\n",
              "      <td>0</td>\n",
              "      <td>0</td>\n",
              "      <td>0</td>\n",
              "      <td>0</td>\n",
              "      <td>0</td>\n",
              "      <td>0</td>\n",
              "      <td>0</td>\n",
              "      <td>0</td>\n",
              "      <td>0</td>\n",
              "      <td>0</td>\n",
              "      <td>0</td>\n",
              "      <td>0</td>\n",
              "      <td>0</td>\n",
              "      <td>0</td>\n",
              "      <td>0</td>\n",
              "      <td>0</td>\n",
              "      <td>0</td>\n",
              "    </tr>\n",
              "    <tr>\n",
              "      <th>1</th>\n",
              "      <td>1</td>\n",
              "      <td>0</td>\n",
              "      <td>0</td>\n",
              "      <td>0</td>\n",
              "      <td>0</td>\n",
              "      <td>0</td>\n",
              "      <td>0</td>\n",
              "      <td>0</td>\n",
              "      <td>1</td>\n",
              "      <td>0</td>\n",
              "      <td>0</td>\n",
              "      <td>1</td>\n",
              "      <td>0</td>\n",
              "      <td>0</td>\n",
              "      <td>0</td>\n",
              "      <td>0</td>\n",
              "      <td>1</td>\n",
              "      <td>0</td>\n",
              "      <td>1</td>\n",
              "      <td>0</td>\n",
              "      <td>0</td>\n",
              "      <td>0</td>\n",
              "      <td>1</td>\n",
              "      <td>0</td>\n",
              "      <td>1</td>\n",
              "      <td>1</td>\n",
              "      <td>0</td>\n",
              "      <td>0</td>\n",
              "      <td>0</td>\n",
              "      <td>0</td>\n",
              "      <td>0</td>\n",
              "      <td>0</td>\n",
              "      <td>0</td>\n",
              "      <td>0</td>\n",
              "      <td>0</td>\n",
              "      <td>0</td>\n",
              "      <td>0</td>\n",
              "      <td>0</td>\n",
              "      <td>0</td>\n",
              "      <td>0</td>\n",
              "      <td>1</td>\n",
              "      <td>0</td>\n",
              "      <td>0</td>\n",
              "      <td>0</td>\n",
              "      <td>0</td>\n",
              "      <td>0</td>\n",
              "      <td>0</td>\n",
              "    </tr>\n",
              "    <tr>\n",
              "      <th>2</th>\n",
              "      <td>0</td>\n",
              "      <td>0</td>\n",
              "      <td>0</td>\n",
              "      <td>0</td>\n",
              "      <td>0</td>\n",
              "      <td>0</td>\n",
              "      <td>0</td>\n",
              "      <td>0</td>\n",
              "      <td>0</td>\n",
              "      <td>0</td>\n",
              "      <td>0</td>\n",
              "      <td>0</td>\n",
              "      <td>0</td>\n",
              "      <td>0</td>\n",
              "      <td>0</td>\n",
              "      <td>0</td>\n",
              "      <td>1</td>\n",
              "      <td>0</td>\n",
              "      <td>0</td>\n",
              "      <td>0</td>\n",
              "      <td>0</td>\n",
              "      <td>0</td>\n",
              "      <td>0</td>\n",
              "      <td>0</td>\n",
              "      <td>0</td>\n",
              "      <td>1</td>\n",
              "      <td>0</td>\n",
              "      <td>0</td>\n",
              "      <td>0</td>\n",
              "      <td>0</td>\n",
              "      <td>0</td>\n",
              "      <td>0</td>\n",
              "      <td>1</td>\n",
              "      <td>0</td>\n",
              "      <td>0</td>\n",
              "      <td>0</td>\n",
              "      <td>0</td>\n",
              "      <td>0</td>\n",
              "      <td>0</td>\n",
              "      <td>0</td>\n",
              "      <td>1</td>\n",
              "      <td>1</td>\n",
              "      <td>0</td>\n",
              "      <td>0</td>\n",
              "      <td>0</td>\n",
              "      <td>0</td>\n",
              "      <td>0</td>\n",
              "    </tr>\n",
              "    <tr>\n",
              "      <th>3</th>\n",
              "      <td>0</td>\n",
              "      <td>0</td>\n",
              "      <td>0</td>\n",
              "      <td>0</td>\n",
              "      <td>0</td>\n",
              "      <td>0</td>\n",
              "      <td>0</td>\n",
              "      <td>0</td>\n",
              "      <td>0</td>\n",
              "      <td>0</td>\n",
              "      <td>0</td>\n",
              "      <td>0</td>\n",
              "      <td>0</td>\n",
              "      <td>0</td>\n",
              "      <td>0</td>\n",
              "      <td>0</td>\n",
              "      <td>0</td>\n",
              "      <td>0</td>\n",
              "      <td>1</td>\n",
              "      <td>0</td>\n",
              "      <td>0</td>\n",
              "      <td>0</td>\n",
              "      <td>0</td>\n",
              "      <td>0</td>\n",
              "      <td>0</td>\n",
              "      <td>0</td>\n",
              "      <td>0</td>\n",
              "      <td>0</td>\n",
              "      <td>1</td>\n",
              "      <td>0</td>\n",
              "      <td>0</td>\n",
              "      <td>0</td>\n",
              "      <td>0</td>\n",
              "      <td>0</td>\n",
              "      <td>0</td>\n",
              "      <td>0</td>\n",
              "      <td>0</td>\n",
              "      <td>0</td>\n",
              "      <td>0</td>\n",
              "      <td>0</td>\n",
              "      <td>0</td>\n",
              "      <td>0</td>\n",
              "      <td>1</td>\n",
              "      <td>0</td>\n",
              "      <td>0</td>\n",
              "      <td>0</td>\n",
              "      <td>0</td>\n",
              "    </tr>\n",
              "    <tr>\n",
              "      <th>4</th>\n",
              "      <td>0</td>\n",
              "      <td>0</td>\n",
              "      <td>0</td>\n",
              "      <td>0</td>\n",
              "      <td>0</td>\n",
              "      <td>0</td>\n",
              "      <td>0</td>\n",
              "      <td>0</td>\n",
              "      <td>0</td>\n",
              "      <td>0</td>\n",
              "      <td>0</td>\n",
              "      <td>0</td>\n",
              "      <td>0</td>\n",
              "      <td>0</td>\n",
              "      <td>0</td>\n",
              "      <td>0</td>\n",
              "      <td>1</td>\n",
              "      <td>0</td>\n",
              "      <td>0</td>\n",
              "      <td>0</td>\n",
              "      <td>0</td>\n",
              "      <td>0</td>\n",
              "      <td>1</td>\n",
              "      <td>0</td>\n",
              "      <td>1</td>\n",
              "      <td>0</td>\n",
              "      <td>0</td>\n",
              "      <td>0</td>\n",
              "      <td>0</td>\n",
              "      <td>0</td>\n",
              "      <td>0</td>\n",
              "      <td>0</td>\n",
              "      <td>0</td>\n",
              "      <td>0</td>\n",
              "      <td>0</td>\n",
              "      <td>0</td>\n",
              "      <td>0</td>\n",
              "      <td>0</td>\n",
              "      <td>0</td>\n",
              "      <td>1</td>\n",
              "      <td>0</td>\n",
              "      <td>0</td>\n",
              "      <td>0</td>\n",
              "      <td>0</td>\n",
              "      <td>0</td>\n",
              "      <td>1</td>\n",
              "      <td>0</td>\n",
              "    </tr>\n",
              "  </tbody>\n",
              "</table>\n",
              "</div>"
            ],
            "text/plain": [
              "   desc_cuarto  desc_vestidor  ...  desc_patio  desc_infonavit\n",
              "0            0              0  ...           0               0\n",
              "1            1              0  ...           0               0\n",
              "2            0              0  ...           0               0\n",
              "3            0              0  ...           0               0\n",
              "4            0              0  ...           1               0\n",
              "\n",
              "[5 rows x 47 columns]"
            ]
          },
          "metadata": {
            "tags": []
          },
          "execution_count": 143
        }
      ]
    },
    {
      "cell_type": "markdown",
      "metadata": {
        "colab_type": "text",
        "id": "AdvNLkleEF31"
      },
      "source": [
        "## Features titulo"
      ]
    },
    {
      "cell_type": "markdown",
      "metadata": {
        "colab_type": "text",
        "id": "VLAKrQLSGGEm"
      },
      "source": [
        "Mismo procedimiento anterior pero para palabras que encontramos correlacionadas a mayor o menor precio en 'titulo'"
      ]
    },
    {
      "cell_type": "code",
      "metadata": {
        "colab_type": "code",
        "id": "DOu14SkTEF4B",
        "colab": {}
      },
      "source": [
        "#Paso todas los titulos a minúscula para contar las palabras con mas precision\n",
        "train['titulo']=train['titulo'].apply(lambda x: x.lower())"
      ],
      "execution_count": 0,
      "outputs": []
    },
    {
      "cell_type": "code",
      "metadata": {
        "colab_type": "code",
        "id": "R0_0OZhBEF4N",
        "colab": {}
      },
      "source": [
        "Palabras_mayor_precio=['polanco','loma','herradura','condesa','bosque','country',\\\n",
        "                       'hermosa','vista','residencia','condominio','golf','lujo','huixquilucan',\\\n",
        "                      ]\n",
        "Palabras_menor_precio=['terreno','fracc','casa','villa','remate','recamaras'\\\n",
        "                      ,'ecatepec','cerca','coacalco','izcalli','planta','lote',\\\n",
        "                      'bonita','cautitlan']\n",
        "Palabras=Palabras_mayor_precio + Palabras_menor_precio"
      ],
      "execution_count": 0,
      "outputs": []
    },
    {
      "cell_type": "code",
      "metadata": {
        "colab_type": "code",
        "id": "u3rsiqymEF4Y",
        "scrolled": true,
        "colab": {}
      },
      "source": [
        "dummies_palabras_titulo=pd.DataFrame()\n",
        "#Por cada palabra en la lista genero una columna que diga si la descripcion contenia esa palabra o no\n",
        "for palabra in Palabras:\n",
        "    dummies_palabras_titulo[palabra]=train['titulo'].apply(lambda x: palabra in x).astype(np.int8)\n",
        "#Renombro estas columnas agregandoles un prefijo\n",
        "dummies_palabras_titulo=dummies_palabras_titulo.add_prefix('titl_')"
      ],
      "execution_count": 0,
      "outputs": []
    },
    {
      "cell_type": "code",
      "metadata": {
        "colab_type": "code",
        "id": "ByUKaHv2EF4c",
        "outputId": "23652625-7896-414a-bfa9-16a9668e3f0d",
        "scrolled": true,
        "colab": {
          "base_uri": "https://localhost:8080/",
          "height": 162
        }
      },
      "source": [
        "dummies_palabras_titulo.head(3)"
      ],
      "execution_count": 0,
      "outputs": [
        {
          "output_type": "execute_result",
          "data": {
            "text/html": [
              "<div>\n",
              "<style scoped>\n",
              "    .dataframe tbody tr th:only-of-type {\n",
              "        vertical-align: middle;\n",
              "    }\n",
              "\n",
              "    .dataframe tbody tr th {\n",
              "        vertical-align: top;\n",
              "    }\n",
              "\n",
              "    .dataframe thead th {\n",
              "        text-align: right;\n",
              "    }\n",
              "</style>\n",
              "<table border=\"1\" class=\"dataframe\">\n",
              "  <thead>\n",
              "    <tr style=\"text-align: right;\">\n",
              "      <th></th>\n",
              "      <th>titl_polanco</th>\n",
              "      <th>titl_loma</th>\n",
              "      <th>titl_herradura</th>\n",
              "      <th>titl_condesa</th>\n",
              "      <th>titl_bosque</th>\n",
              "      <th>titl_country</th>\n",
              "      <th>titl_hermosa</th>\n",
              "      <th>titl_vista</th>\n",
              "      <th>titl_residencia</th>\n",
              "      <th>titl_condominio</th>\n",
              "      <th>titl_golf</th>\n",
              "      <th>titl_lujo</th>\n",
              "      <th>titl_huixquilucan</th>\n",
              "      <th>titl_terreno</th>\n",
              "      <th>titl_fracc</th>\n",
              "      <th>titl_casa</th>\n",
              "      <th>titl_villa</th>\n",
              "      <th>titl_remate</th>\n",
              "      <th>titl_recamaras</th>\n",
              "      <th>titl_ecatepec</th>\n",
              "      <th>titl_cerca</th>\n",
              "      <th>titl_coacalco</th>\n",
              "      <th>titl_izcalli</th>\n",
              "      <th>titl_planta</th>\n",
              "      <th>titl_lote</th>\n",
              "      <th>titl_bonita</th>\n",
              "      <th>titl_cautitlan</th>\n",
              "    </tr>\n",
              "  </thead>\n",
              "  <tbody>\n",
              "    <tr>\n",
              "      <th>0</th>\n",
              "      <td>0</td>\n",
              "      <td>0</td>\n",
              "      <td>0</td>\n",
              "      <td>0</td>\n",
              "      <td>0</td>\n",
              "      <td>0</td>\n",
              "      <td>0</td>\n",
              "      <td>0</td>\n",
              "      <td>0</td>\n",
              "      <td>0</td>\n",
              "      <td>0</td>\n",
              "      <td>0</td>\n",
              "      <td>0</td>\n",
              "      <td>0</td>\n",
              "      <td>0</td>\n",
              "      <td>0</td>\n",
              "      <td>0</td>\n",
              "      <td>0</td>\n",
              "      <td>0</td>\n",
              "      <td>0</td>\n",
              "      <td>0</td>\n",
              "      <td>0</td>\n",
              "      <td>0</td>\n",
              "      <td>0</td>\n",
              "      <td>0</td>\n",
              "      <td>0</td>\n",
              "      <td>0</td>\n",
              "    </tr>\n",
              "    <tr>\n",
              "      <th>1</th>\n",
              "      <td>0</td>\n",
              "      <td>0</td>\n",
              "      <td>0</td>\n",
              "      <td>0</td>\n",
              "      <td>0</td>\n",
              "      <td>0</td>\n",
              "      <td>0</td>\n",
              "      <td>0</td>\n",
              "      <td>0</td>\n",
              "      <td>1</td>\n",
              "      <td>0</td>\n",
              "      <td>0</td>\n",
              "      <td>0</td>\n",
              "      <td>0</td>\n",
              "      <td>0</td>\n",
              "      <td>0</td>\n",
              "      <td>0</td>\n",
              "      <td>0</td>\n",
              "      <td>0</td>\n",
              "      <td>0</td>\n",
              "      <td>0</td>\n",
              "      <td>0</td>\n",
              "      <td>0</td>\n",
              "      <td>0</td>\n",
              "      <td>0</td>\n",
              "      <td>0</td>\n",
              "      <td>0</td>\n",
              "    </tr>\n",
              "    <tr>\n",
              "      <th>2</th>\n",
              "      <td>0</td>\n",
              "      <td>0</td>\n",
              "      <td>0</td>\n",
              "      <td>0</td>\n",
              "      <td>0</td>\n",
              "      <td>0</td>\n",
              "      <td>0</td>\n",
              "      <td>0</td>\n",
              "      <td>0</td>\n",
              "      <td>0</td>\n",
              "      <td>0</td>\n",
              "      <td>0</td>\n",
              "      <td>0</td>\n",
              "      <td>0</td>\n",
              "      <td>0</td>\n",
              "      <td>1</td>\n",
              "      <td>0</td>\n",
              "      <td>0</td>\n",
              "      <td>1</td>\n",
              "      <td>0</td>\n",
              "      <td>0</td>\n",
              "      <td>0</td>\n",
              "      <td>0</td>\n",
              "      <td>0</td>\n",
              "      <td>0</td>\n",
              "      <td>0</td>\n",
              "      <td>0</td>\n",
              "    </tr>\n",
              "  </tbody>\n",
              "</table>\n",
              "</div>"
            ],
            "text/plain": [
              "   titl_polanco  titl_loma  ...  titl_bonita  titl_cautitlan\n",
              "0             0          0  ...            0               0\n",
              "1             0          0  ...            0               0\n",
              "2             0          0  ...            0               0\n",
              "\n",
              "[3 rows x 27 columns]"
            ]
          },
          "metadata": {
            "tags": []
          },
          "execution_count": 147
        }
      ]
    },
    {
      "cell_type": "code",
      "metadata": {
        "colab_type": "code",
        "id": "nw38p6uYEF4h",
        "colab": {}
      },
      "source": [
        "dummies_palabras_titulo_test=pd.DataFrame()\n",
        "#Hago lo mismo para el set de test\n",
        "for palabra in Palabras:\n",
        "    dummies_palabras_titulo_test[palabra]=test['titulo'].apply(lambda x: palabra in x).astype(np.int8)\n",
        "dummies_palabras_titulo_test=dummies_palabras_titulo_test.add_prefix('titl_')"
      ],
      "execution_count": 0,
      "outputs": []
    },
    {
      "cell_type": "code",
      "metadata": {
        "colab_type": "code",
        "id": "jjo0lBtnEF4k",
        "outputId": "4de32e20-3f42-450f-a9a6-b34a9809f661",
        "colab": {
          "base_uri": "https://localhost:8080/",
          "height": 162
        }
      },
      "source": [
        "dummies_palabras_titulo_test.head(3)"
      ],
      "execution_count": 0,
      "outputs": [
        {
          "output_type": "execute_result",
          "data": {
            "text/html": [
              "<div>\n",
              "<style scoped>\n",
              "    .dataframe tbody tr th:only-of-type {\n",
              "        vertical-align: middle;\n",
              "    }\n",
              "\n",
              "    .dataframe tbody tr th {\n",
              "        vertical-align: top;\n",
              "    }\n",
              "\n",
              "    .dataframe thead th {\n",
              "        text-align: right;\n",
              "    }\n",
              "</style>\n",
              "<table border=\"1\" class=\"dataframe\">\n",
              "  <thead>\n",
              "    <tr style=\"text-align: right;\">\n",
              "      <th></th>\n",
              "      <th>titl_polanco</th>\n",
              "      <th>titl_loma</th>\n",
              "      <th>titl_herradura</th>\n",
              "      <th>titl_condesa</th>\n",
              "      <th>titl_bosque</th>\n",
              "      <th>titl_country</th>\n",
              "      <th>titl_hermosa</th>\n",
              "      <th>titl_vista</th>\n",
              "      <th>titl_residencia</th>\n",
              "      <th>titl_condominio</th>\n",
              "      <th>titl_golf</th>\n",
              "      <th>titl_lujo</th>\n",
              "      <th>titl_huixquilucan</th>\n",
              "      <th>titl_terreno</th>\n",
              "      <th>titl_fracc</th>\n",
              "      <th>titl_casa</th>\n",
              "      <th>titl_villa</th>\n",
              "      <th>titl_remate</th>\n",
              "      <th>titl_recamaras</th>\n",
              "      <th>titl_ecatepec</th>\n",
              "      <th>titl_cerca</th>\n",
              "      <th>titl_coacalco</th>\n",
              "      <th>titl_izcalli</th>\n",
              "      <th>titl_planta</th>\n",
              "      <th>titl_lote</th>\n",
              "      <th>titl_bonita</th>\n",
              "      <th>titl_cautitlan</th>\n",
              "    </tr>\n",
              "  </thead>\n",
              "  <tbody>\n",
              "    <tr>\n",
              "      <th>0</th>\n",
              "      <td>0</td>\n",
              "      <td>0</td>\n",
              "      <td>0</td>\n",
              "      <td>0</td>\n",
              "      <td>0</td>\n",
              "      <td>0</td>\n",
              "      <td>0</td>\n",
              "      <td>0</td>\n",
              "      <td>0</td>\n",
              "      <td>0</td>\n",
              "      <td>0</td>\n",
              "      <td>0</td>\n",
              "      <td>0</td>\n",
              "      <td>0</td>\n",
              "      <td>0</td>\n",
              "      <td>1</td>\n",
              "      <td>0</td>\n",
              "      <td>0</td>\n",
              "      <td>0</td>\n",
              "      <td>0</td>\n",
              "      <td>0</td>\n",
              "      <td>0</td>\n",
              "      <td>0</td>\n",
              "      <td>0</td>\n",
              "      <td>0</td>\n",
              "      <td>0</td>\n",
              "      <td>0</td>\n",
              "    </tr>\n",
              "    <tr>\n",
              "      <th>1</th>\n",
              "      <td>0</td>\n",
              "      <td>0</td>\n",
              "      <td>0</td>\n",
              "      <td>0</td>\n",
              "      <td>0</td>\n",
              "      <td>0</td>\n",
              "      <td>0</td>\n",
              "      <td>0</td>\n",
              "      <td>0</td>\n",
              "      <td>0</td>\n",
              "      <td>0</td>\n",
              "      <td>0</td>\n",
              "      <td>0</td>\n",
              "      <td>0</td>\n",
              "      <td>0</td>\n",
              "      <td>0</td>\n",
              "      <td>0</td>\n",
              "      <td>0</td>\n",
              "      <td>0</td>\n",
              "      <td>0</td>\n",
              "      <td>0</td>\n",
              "      <td>0</td>\n",
              "      <td>0</td>\n",
              "      <td>0</td>\n",
              "      <td>0</td>\n",
              "      <td>0</td>\n",
              "      <td>0</td>\n",
              "    </tr>\n",
              "    <tr>\n",
              "      <th>2</th>\n",
              "      <td>0</td>\n",
              "      <td>0</td>\n",
              "      <td>0</td>\n",
              "      <td>0</td>\n",
              "      <td>0</td>\n",
              "      <td>0</td>\n",
              "      <td>0</td>\n",
              "      <td>0</td>\n",
              "      <td>0</td>\n",
              "      <td>0</td>\n",
              "      <td>0</td>\n",
              "      <td>0</td>\n",
              "      <td>0</td>\n",
              "      <td>0</td>\n",
              "      <td>0</td>\n",
              "      <td>0</td>\n",
              "      <td>0</td>\n",
              "      <td>0</td>\n",
              "      <td>0</td>\n",
              "      <td>0</td>\n",
              "      <td>0</td>\n",
              "      <td>0</td>\n",
              "      <td>0</td>\n",
              "      <td>0</td>\n",
              "      <td>0</td>\n",
              "      <td>0</td>\n",
              "      <td>0</td>\n",
              "    </tr>\n",
              "  </tbody>\n",
              "</table>\n",
              "</div>"
            ],
            "text/plain": [
              "   titl_polanco  titl_loma  ...  titl_bonita  titl_cautitlan\n",
              "0             0          0  ...            0               0\n",
              "1             0          0  ...            0               0\n",
              "2             0          0  ...            0               0\n",
              "\n",
              "[3 rows x 27 columns]"
            ]
          },
          "metadata": {
            "tags": []
          },
          "execution_count": 149
        }
      ]
    },
    {
      "cell_type": "markdown",
      "metadata": {
        "colab_type": "text",
        "id": "5A9K-a0m8mGT"
      },
      "source": [
        "## Agrego más features basados en las fechas"
      ]
    },
    {
      "cell_type": "code",
      "metadata": {
        "colab_type": "code",
        "id": "IiBLh4eY8mGT",
        "outputId": "b76d1542-89f9-42d8-ea9e-eb7e916c0974",
        "colab": {
          "base_uri": "https://localhost:8080/",
          "height": 513
        }
      },
      "source": [
        "train['dia'] = train['fecha'].dt.day\n",
        "train['mes'] = train['fecha'].dt.month\n",
        "train['año'] = train['fecha'].dt.year\n",
        "train.head()"
      ],
      "execution_count": 0,
      "outputs": [
        {
          "output_type": "execute_result",
          "data": {
            "text/html": [
              "<div>\n",
              "<style scoped>\n",
              "    .dataframe tbody tr th:only-of-type {\n",
              "        vertical-align: middle;\n",
              "    }\n",
              "\n",
              "    .dataframe tbody tr th {\n",
              "        vertical-align: top;\n",
              "    }\n",
              "\n",
              "    .dataframe thead th {\n",
              "        text-align: right;\n",
              "    }\n",
              "</style>\n",
              "<table border=\"1\" class=\"dataframe\">\n",
              "  <thead>\n",
              "    <tr style=\"text-align: right;\">\n",
              "      <th></th>\n",
              "      <th>id</th>\n",
              "      <th>titulo</th>\n",
              "      <th>descripcion</th>\n",
              "      <th>tipodepropiedad</th>\n",
              "      <th>direccion</th>\n",
              "      <th>ciudad</th>\n",
              "      <th>provincia</th>\n",
              "      <th>antiguedad</th>\n",
              "      <th>habitaciones</th>\n",
              "      <th>garages</th>\n",
              "      <th>banos</th>\n",
              "      <th>metroscubiertos</th>\n",
              "      <th>metrostotales</th>\n",
              "      <th>idzona</th>\n",
              "      <th>lat</th>\n",
              "      <th>lng</th>\n",
              "      <th>fecha</th>\n",
              "      <th>gimnasio</th>\n",
              "      <th>usosmultiples</th>\n",
              "      <th>piscina</th>\n",
              "      <th>escuelascercanas</th>\n",
              "      <th>centroscomercialescercanos</th>\n",
              "      <th>precio</th>\n",
              "      <th>puntaje_por_fecha</th>\n",
              "      <th>dia</th>\n",
              "      <th>mes</th>\n",
              "      <th>año</th>\n",
              "    </tr>\n",
              "  </thead>\n",
              "  <tbody>\n",
              "    <tr>\n",
              "      <th>0</th>\n",
              "      <td>254099</td>\n",
              "      <td>depto. tipo a-402</td>\n",
              "      <td>depto. interior de 80.15m2, consta de sala com...</td>\n",
              "      <td>Apartamento</td>\n",
              "      <td>Avenida Division del Norte 2005</td>\n",
              "      <td>Benito Juárez</td>\n",
              "      <td>Distrito Federal</td>\n",
              "      <td>8</td>\n",
              "      <td>2</td>\n",
              "      <td>1</td>\n",
              "      <td>2</td>\n",
              "      <td>80</td>\n",
              "      <td>80</td>\n",
              "      <td>23533.0</td>\n",
              "      <td>20.696818</td>\n",
              "      <td>-99.509221</td>\n",
              "      <td>2015-08-23</td>\n",
              "      <td>0</td>\n",
              "      <td>0</td>\n",
              "      <td>0</td>\n",
              "      <td>0</td>\n",
              "      <td>0</td>\n",
              "      <td>2273000</td>\n",
              "      <td>0.728368</td>\n",
              "      <td>23</td>\n",
              "      <td>8</td>\n",
              "      <td>2015</td>\n",
              "    </tr>\n",
              "    <tr>\n",
              "      <th>1</th>\n",
              "      <td>53461</td>\n",
              "      <td>condominio horizontal en venta</td>\n",
              "      <td>&lt;p&gt;entre sonora y guerrero, atr&amp;aacute;s del h...</td>\n",
              "      <td>Casa en condominio</td>\n",
              "      <td>AV. MEXICO</td>\n",
              "      <td>La Magdalena Contreras</td>\n",
              "      <td>Distrito Federal</td>\n",
              "      <td>10</td>\n",
              "      <td>3</td>\n",
              "      <td>2</td>\n",
              "      <td>2</td>\n",
              "      <td>268</td>\n",
              "      <td>180</td>\n",
              "      <td>24514.0</td>\n",
              "      <td>19.310205</td>\n",
              "      <td>-99.227655</td>\n",
              "      <td>2013-06-28</td>\n",
              "      <td>0</td>\n",
              "      <td>0</td>\n",
              "      <td>0</td>\n",
              "      <td>1</td>\n",
              "      <td>1</td>\n",
              "      <td>3600000</td>\n",
              "      <td>0.297919</td>\n",
              "      <td>28</td>\n",
              "      <td>6</td>\n",
              "      <td>2013</td>\n",
              "    </tr>\n",
              "    <tr>\n",
              "      <th>2</th>\n",
              "      <td>247984</td>\n",
              "      <td>casa en venta urbi 3 recamaras tonala</td>\n",
              "      <td>descripcion \\nla mejor ubicacion residencial e...</td>\n",
              "      <td>Casa</td>\n",
              "      <td>Urbi Tonala</td>\n",
              "      <td>Tonalá</td>\n",
              "      <td>Jalisco</td>\n",
              "      <td>5</td>\n",
              "      <td>3</td>\n",
              "      <td>2</td>\n",
              "      <td>2</td>\n",
              "      <td>144</td>\n",
              "      <td>166</td>\n",
              "      <td>48551.0</td>\n",
              "      <td>20.696818</td>\n",
              "      <td>-99.509221</td>\n",
              "      <td>2015-10-17</td>\n",
              "      <td>0</td>\n",
              "      <td>0</td>\n",
              "      <td>0</td>\n",
              "      <td>0</td>\n",
              "      <td>0</td>\n",
              "      <td>1200000</td>\n",
              "      <td>0.758488</td>\n",
              "      <td>17</td>\n",
              "      <td>10</td>\n",
              "      <td>2015</td>\n",
              "    </tr>\n",
              "    <tr>\n",
              "      <th>3</th>\n",
              "      <td>209067</td>\n",
              "      <td>casa sola en toluca zinacantepec con credito i...</td>\n",
              "      <td>casa en privada con caseta de vigilancia casas...</td>\n",
              "      <td>Casa</td>\n",
              "      <td>IGNACIO MANUEL ALTAMIRANO 128</td>\n",
              "      <td>Zinacantepec</td>\n",
              "      <td>Edo. de México</td>\n",
              "      <td>1</td>\n",
              "      <td>2</td>\n",
              "      <td>1</td>\n",
              "      <td>1</td>\n",
              "      <td>63</td>\n",
              "      <td>67</td>\n",
              "      <td>53666.0</td>\n",
              "      <td>19.301890</td>\n",
              "      <td>-99.688015</td>\n",
              "      <td>2012-03-09</td>\n",
              "      <td>0</td>\n",
              "      <td>0</td>\n",
              "      <td>0</td>\n",
              "      <td>1</td>\n",
              "      <td>1</td>\n",
              "      <td>650000</td>\n",
              "      <td>0.037240</td>\n",
              "      <td>9</td>\n",
              "      <td>3</td>\n",
              "      <td>2012</td>\n",
              "    </tr>\n",
              "    <tr>\n",
              "      <th>4</th>\n",
              "      <td>185997</td>\n",
              "      <td>paseos del sol</td>\n",
              "      <td>bonito departamento en excelentes condiciones ...</td>\n",
              "      <td>Apartamento</td>\n",
              "      <td>PASEOS DEL SOL</td>\n",
              "      <td>Zapopan</td>\n",
              "      <td>Jalisco</td>\n",
              "      <td>10</td>\n",
              "      <td>2</td>\n",
              "      <td>1</td>\n",
              "      <td>1</td>\n",
              "      <td>95</td>\n",
              "      <td>95</td>\n",
              "      <td>47835.0</td>\n",
              "      <td>20.696818</td>\n",
              "      <td>-99.509221</td>\n",
              "      <td>2016-06-07</td>\n",
              "      <td>0</td>\n",
              "      <td>0</td>\n",
              "      <td>0</td>\n",
              "      <td>0</td>\n",
              "      <td>0</td>\n",
              "      <td>1150000</td>\n",
              "      <td>0.886637</td>\n",
              "      <td>7</td>\n",
              "      <td>6</td>\n",
              "      <td>2016</td>\n",
              "    </tr>\n",
              "  </tbody>\n",
              "</table>\n",
              "</div>"
            ],
            "text/plain": [
              "       id                                             titulo  ... mes   año\n",
              "0  254099                                  depto. tipo a-402  ...   8  2015\n",
              "1   53461                     condominio horizontal en venta  ...   6  2013\n",
              "2  247984              casa en venta urbi 3 recamaras tonala  ...  10  2015\n",
              "3  209067  casa sola en toluca zinacantepec con credito i...  ...   3  2012\n",
              "4  185997                                     paseos del sol  ...   6  2016\n",
              "\n",
              "[5 rows x 27 columns]"
            ]
          },
          "metadata": {
            "tags": []
          },
          "execution_count": 150
        }
      ]
    },
    {
      "cell_type": "code",
      "metadata": {
        "colab_type": "code",
        "id": "GVUTFQcN8mGX",
        "outputId": "9d6deb60-5ea0-4c21-8c06-26d9217506a2",
        "colab": {
          "base_uri": "https://localhost:8080/",
          "height": 496
        }
      },
      "source": [
        "test['dia'] = test['fecha'].dt.day\n",
        "test['mes'] = test['fecha'].dt.month\n",
        "test['año'] = test['fecha'].dt.year\n",
        "test.head()"
      ],
      "execution_count": 0,
      "outputs": [
        {
          "output_type": "execute_result",
          "data": {
            "text/html": [
              "<div>\n",
              "<style scoped>\n",
              "    .dataframe tbody tr th:only-of-type {\n",
              "        vertical-align: middle;\n",
              "    }\n",
              "\n",
              "    .dataframe tbody tr th {\n",
              "        vertical-align: top;\n",
              "    }\n",
              "\n",
              "    .dataframe thead th {\n",
              "        text-align: right;\n",
              "    }\n",
              "</style>\n",
              "<table border=\"1\" class=\"dataframe\">\n",
              "  <thead>\n",
              "    <tr style=\"text-align: right;\">\n",
              "      <th></th>\n",
              "      <th>id</th>\n",
              "      <th>titulo</th>\n",
              "      <th>descripcion</th>\n",
              "      <th>tipodepropiedad</th>\n",
              "      <th>direccion</th>\n",
              "      <th>ciudad</th>\n",
              "      <th>provincia</th>\n",
              "      <th>antiguedad</th>\n",
              "      <th>habitaciones</th>\n",
              "      <th>garages</th>\n",
              "      <th>banos</th>\n",
              "      <th>metroscubiertos</th>\n",
              "      <th>metrostotales</th>\n",
              "      <th>idzona</th>\n",
              "      <th>lat</th>\n",
              "      <th>lng</th>\n",
              "      <th>fecha</th>\n",
              "      <th>gimnasio</th>\n",
              "      <th>usosmultiples</th>\n",
              "      <th>piscina</th>\n",
              "      <th>escuelascercanas</th>\n",
              "      <th>centroscomercialescercanos</th>\n",
              "      <th>puntaje_por_fecha</th>\n",
              "      <th>dia</th>\n",
              "      <th>mes</th>\n",
              "      <th>año</th>\n",
              "    </tr>\n",
              "  </thead>\n",
              "  <tbody>\n",
              "    <tr>\n",
              "      <th>0</th>\n",
              "      <td>4941</td>\n",
              "      <td>casa en venta en miguel hidalgo, distrito federal</td>\n",
              "      <td>&lt;p&gt;excelente casa estilo moderno.&lt;/p&gt;</td>\n",
              "      <td>Casa</td>\n",
              "      <td>Bosque de Cedros</td>\n",
              "      <td>Miguel Hidalgo</td>\n",
              "      <td>Distrito Federal</td>\n",
              "      <td>29</td>\n",
              "      <td>3</td>\n",
              "      <td>2</td>\n",
              "      <td>4</td>\n",
              "      <td>300</td>\n",
              "      <td>177</td>\n",
              "      <td>0.0</td>\n",
              "      <td>19.408668</td>\n",
              "      <td>-99.246767</td>\n",
              "      <td>2013-07-20</td>\n",
              "      <td>0</td>\n",
              "      <td>0</td>\n",
              "      <td>0</td>\n",
              "      <td>0</td>\n",
              "      <td>0</td>\n",
              "      <td>0.309967</td>\n",
              "      <td>20</td>\n",
              "      <td>7</td>\n",
              "      <td>2013</td>\n",
              "    </tr>\n",
              "    <tr>\n",
              "      <th>1</th>\n",
              "      <td>51775</td>\n",
              "      <td>departamentos en venta en montebello</td>\n",
              "      <td>&lt;p&gt;departamento una recamara:\\n&lt;/p&gt;&lt;p&gt;departam...</td>\n",
              "      <td>Apartamento</td>\n",
              "      <td>-</td>\n",
              "      <td>Mérida</td>\n",
              "      <td>Yucatán</td>\n",
              "      <td>8</td>\n",
              "      <td>1</td>\n",
              "      <td>1</td>\n",
              "      <td>1</td>\n",
              "      <td>67</td>\n",
              "      <td>67</td>\n",
              "      <td>113851.0</td>\n",
              "      <td>21.032480</td>\n",
              "      <td>-89.592424</td>\n",
              "      <td>2015-10-24</td>\n",
              "      <td>0</td>\n",
              "      <td>0</td>\n",
              "      <td>0</td>\n",
              "      <td>0</td>\n",
              "      <td>0</td>\n",
              "      <td>0.762322</td>\n",
              "      <td>24</td>\n",
              "      <td>10</td>\n",
              "      <td>2015</td>\n",
              "    </tr>\n",
              "    <tr>\n",
              "      <th>2</th>\n",
              "      <td>115253</td>\n",
              "      <td>departamento nuevo delegación coyoacán de 87 m...</td>\n",
              "      <td>departamento nuevo de 87.06 m2, 1 cajón de est...</td>\n",
              "      <td>Apartamento</td>\n",
              "      <td>Pueblo de los Reyes, Coyoacán, Mexico D.F.</td>\n",
              "      <td>Coyoacán</td>\n",
              "      <td>Distrito Federal</td>\n",
              "      <td>0</td>\n",
              "      <td>2</td>\n",
              "      <td>1</td>\n",
              "      <td>2</td>\n",
              "      <td>87</td>\n",
              "      <td>100</td>\n",
              "      <td>23620.0</td>\n",
              "      <td>19.332829</td>\n",
              "      <td>-99.152913</td>\n",
              "      <td>2015-05-30</td>\n",
              "      <td>0</td>\n",
              "      <td>0</td>\n",
              "      <td>0</td>\n",
              "      <td>0</td>\n",
              "      <td>1</td>\n",
              "      <td>0.681818</td>\n",
              "      <td>30</td>\n",
              "      <td>5</td>\n",
              "      <td>2015</td>\n",
              "    </tr>\n",
              "    <tr>\n",
              "      <th>3</th>\n",
              "      <td>299321</td>\n",
              "      <td>departamento en venta en acapulco</td>\n",
              "      <td>&lt;p&gt;  raíces dv001 precioso departamento tipo k...</td>\n",
              "      <td>Apartamento</td>\n",
              "      <td>-</td>\n",
              "      <td>Acapulco de Juárez</td>\n",
              "      <td>Guerrero</td>\n",
              "      <td>2</td>\n",
              "      <td>2</td>\n",
              "      <td>2</td>\n",
              "      <td>2</td>\n",
              "      <td>86</td>\n",
              "      <td>86</td>\n",
              "      <td>129347.0</td>\n",
              "      <td>16.860487</td>\n",
              "      <td>-99.878383</td>\n",
              "      <td>2015-04-02</td>\n",
              "      <td>0</td>\n",
              "      <td>0</td>\n",
              "      <td>0</td>\n",
              "      <td>0</td>\n",
              "      <td>0</td>\n",
              "      <td>0.650055</td>\n",
              "      <td>2</td>\n",
              "      <td>4</td>\n",
              "      <td>2015</td>\n",
              "    </tr>\n",
              "    <tr>\n",
              "      <th>4</th>\n",
              "      <td>173570</td>\n",
              "      <td>bonita casa sola equipada de dos niveles en lo...</td>\n",
              "      <td>&lt;p&gt;casa sola, bonita de dos rec&amp;aacute;maras u...</td>\n",
              "      <td>Casa</td>\n",
              "      <td>CEDROS</td>\n",
              "      <td>Tultitlán</td>\n",
              "      <td>Edo. de México</td>\n",
              "      <td>10</td>\n",
              "      <td>2</td>\n",
              "      <td>1</td>\n",
              "      <td>1</td>\n",
              "      <td>80</td>\n",
              "      <td>76</td>\n",
              "      <td>57125.0</td>\n",
              "      <td>19.640482</td>\n",
              "      <td>-99.127273</td>\n",
              "      <td>2013-08-15</td>\n",
              "      <td>0</td>\n",
              "      <td>0</td>\n",
              "      <td>0</td>\n",
              "      <td>1</td>\n",
              "      <td>1</td>\n",
              "      <td>0.324206</td>\n",
              "      <td>15</td>\n",
              "      <td>8</td>\n",
              "      <td>2013</td>\n",
              "    </tr>\n",
              "  </tbody>\n",
              "</table>\n",
              "</div>"
            ],
            "text/plain": [
              "       id                                             titulo  ... mes   año\n",
              "0    4941  casa en venta en miguel hidalgo, distrito federal  ...   7  2013\n",
              "1   51775               departamentos en venta en montebello  ...  10  2015\n",
              "2  115253  departamento nuevo delegación coyoacán de 87 m...  ...   5  2015\n",
              "3  299321                  departamento en venta en acapulco  ...   4  2015\n",
              "4  173570  bonita casa sola equipada de dos niveles en lo...  ...   8  2013\n",
              "\n",
              "[5 rows x 26 columns]"
            ]
          },
          "metadata": {
            "tags": []
          },
          "execution_count": 151
        }
      ]
    },
    {
      "cell_type": "markdown",
      "metadata": {
        "colab_type": "text",
        "id": "aSOjn07zyEcH"
      },
      "source": [
        "## Agrego features sobre la cantidad de publicaciones\n",
        "\n",
        "Como hemos visto en el tp1 la cantidad de publicaciones y el precio se comportan igual a través del tiempo, por lo que podríamos estimar el mismo a través de este feature"
      ]
    },
    {
      "cell_type": "code",
      "metadata": {
        "colab_type": "code",
        "id": "kQ4veUePZ3Br",
        "outputId": "a406410e-4af7-4297-a4c4-d032d15c1307",
        "colab": {
          "base_uri": "https://localhost:8080/",
          "height": 151
        }
      },
      "source": [
        "train['publicaciones_por_mes'] = train[['año','mes', 'id']].groupby(['año','mes']).transform(lambda x: x.count())\n",
        "train['publicaciones_por_mes'] = train['publicaciones_por_mes'].fillna(0)\n",
        "train.head(1)"
      ],
      "execution_count": 0,
      "outputs": [
        {
          "output_type": "execute_result",
          "data": {
            "text/html": [
              "<div>\n",
              "<style scoped>\n",
              "    .dataframe tbody tr th:only-of-type {\n",
              "        vertical-align: middle;\n",
              "    }\n",
              "\n",
              "    .dataframe tbody tr th {\n",
              "        vertical-align: top;\n",
              "    }\n",
              "\n",
              "    .dataframe thead th {\n",
              "        text-align: right;\n",
              "    }\n",
              "</style>\n",
              "<table border=\"1\" class=\"dataframe\">\n",
              "  <thead>\n",
              "    <tr style=\"text-align: right;\">\n",
              "      <th></th>\n",
              "      <th>id</th>\n",
              "      <th>titulo</th>\n",
              "      <th>descripcion</th>\n",
              "      <th>tipodepropiedad</th>\n",
              "      <th>direccion</th>\n",
              "      <th>ciudad</th>\n",
              "      <th>provincia</th>\n",
              "      <th>antiguedad</th>\n",
              "      <th>habitaciones</th>\n",
              "      <th>garages</th>\n",
              "      <th>banos</th>\n",
              "      <th>metroscubiertos</th>\n",
              "      <th>metrostotales</th>\n",
              "      <th>idzona</th>\n",
              "      <th>lat</th>\n",
              "      <th>lng</th>\n",
              "      <th>fecha</th>\n",
              "      <th>gimnasio</th>\n",
              "      <th>usosmultiples</th>\n",
              "      <th>piscina</th>\n",
              "      <th>escuelascercanas</th>\n",
              "      <th>centroscomercialescercanos</th>\n",
              "      <th>precio</th>\n",
              "      <th>puntaje_por_fecha</th>\n",
              "      <th>dia</th>\n",
              "      <th>mes</th>\n",
              "      <th>año</th>\n",
              "      <th>publicaciones_por_mes</th>\n",
              "    </tr>\n",
              "  </thead>\n",
              "  <tbody>\n",
              "    <tr>\n",
              "      <th>0</th>\n",
              "      <td>254099</td>\n",
              "      <td>depto. tipo a-402</td>\n",
              "      <td>depto. interior de 80.15m2, consta de sala com...</td>\n",
              "      <td>Apartamento</td>\n",
              "      <td>Avenida Division del Norte 2005</td>\n",
              "      <td>Benito Juárez</td>\n",
              "      <td>Distrito Federal</td>\n",
              "      <td>8</td>\n",
              "      <td>2</td>\n",
              "      <td>1</td>\n",
              "      <td>2</td>\n",
              "      <td>80</td>\n",
              "      <td>80</td>\n",
              "      <td>23533.0</td>\n",
              "      <td>20.696818</td>\n",
              "      <td>-99.509221</td>\n",
              "      <td>2015-08-23</td>\n",
              "      <td>0</td>\n",
              "      <td>0</td>\n",
              "      <td>0</td>\n",
              "      <td>0</td>\n",
              "      <td>0</td>\n",
              "      <td>2273000</td>\n",
              "      <td>0.728368</td>\n",
              "      <td>23</td>\n",
              "      <td>8</td>\n",
              "      <td>2015</td>\n",
              "      <td>4526</td>\n",
              "    </tr>\n",
              "  </tbody>\n",
              "</table>\n",
              "</div>"
            ],
            "text/plain": [
              "       id             titulo  ...   año publicaciones_por_mes\n",
              "0  254099  depto. tipo a-402  ...  2015                  4526\n",
              "\n",
              "[1 rows x 28 columns]"
            ]
          },
          "metadata": {
            "tags": []
          },
          "execution_count": 152
        }
      ]
    },
    {
      "cell_type": "code",
      "metadata": {
        "colab_type": "code",
        "id": "tSxbzdKxKYN6",
        "outputId": "0e3608b3-b151-413a-cba0-143a7d6840d1",
        "colab": {
          "base_uri": "https://localhost:8080/",
          "height": 202
        }
      },
      "source": [
        "test['publicaciones_por_mes'] = test[['año','mes', 'id']].groupby(['año','mes']).transform(lambda x: x.count())\n",
        "test['publicaciones_por_mes'] = test['publicaciones_por_mes'].fillna(0)\n",
        "test.head(1)"
      ],
      "execution_count": 0,
      "outputs": [
        {
          "output_type": "execute_result",
          "data": {
            "text/html": [
              "<div>\n",
              "<style scoped>\n",
              "    .dataframe tbody tr th:only-of-type {\n",
              "        vertical-align: middle;\n",
              "    }\n",
              "\n",
              "    .dataframe tbody tr th {\n",
              "        vertical-align: top;\n",
              "    }\n",
              "\n",
              "    .dataframe thead th {\n",
              "        text-align: right;\n",
              "    }\n",
              "</style>\n",
              "<table border=\"1\" class=\"dataframe\">\n",
              "  <thead>\n",
              "    <tr style=\"text-align: right;\">\n",
              "      <th></th>\n",
              "      <th>id</th>\n",
              "      <th>titulo</th>\n",
              "      <th>descripcion</th>\n",
              "      <th>tipodepropiedad</th>\n",
              "      <th>direccion</th>\n",
              "      <th>ciudad</th>\n",
              "      <th>provincia</th>\n",
              "      <th>antiguedad</th>\n",
              "      <th>habitaciones</th>\n",
              "      <th>garages</th>\n",
              "      <th>banos</th>\n",
              "      <th>metroscubiertos</th>\n",
              "      <th>metrostotales</th>\n",
              "      <th>idzona</th>\n",
              "      <th>lat</th>\n",
              "      <th>lng</th>\n",
              "      <th>fecha</th>\n",
              "      <th>gimnasio</th>\n",
              "      <th>usosmultiples</th>\n",
              "      <th>piscina</th>\n",
              "      <th>escuelascercanas</th>\n",
              "      <th>centroscomercialescercanos</th>\n",
              "      <th>puntaje_por_fecha</th>\n",
              "      <th>dia</th>\n",
              "      <th>mes</th>\n",
              "      <th>año</th>\n",
              "      <th>publicaciones_por_mes</th>\n",
              "    </tr>\n",
              "  </thead>\n",
              "  <tbody>\n",
              "    <tr>\n",
              "      <th>0</th>\n",
              "      <td>4941</td>\n",
              "      <td>casa en venta en miguel hidalgo, distrito federal</td>\n",
              "      <td>&lt;p&gt;excelente casa estilo moderno.&lt;/p&gt;</td>\n",
              "      <td>Casa</td>\n",
              "      <td>Bosque de Cedros</td>\n",
              "      <td>Miguel Hidalgo</td>\n",
              "      <td>Distrito Federal</td>\n",
              "      <td>29</td>\n",
              "      <td>3</td>\n",
              "      <td>2</td>\n",
              "      <td>4</td>\n",
              "      <td>300</td>\n",
              "      <td>177</td>\n",
              "      <td>0.0</td>\n",
              "      <td>19.408668</td>\n",
              "      <td>-99.246767</td>\n",
              "      <td>2013-07-20</td>\n",
              "      <td>0</td>\n",
              "      <td>0</td>\n",
              "      <td>0</td>\n",
              "      <td>0</td>\n",
              "      <td>0</td>\n",
              "      <td>0.309967</td>\n",
              "      <td>20</td>\n",
              "      <td>7</td>\n",
              "      <td>2013</td>\n",
              "      <td>650</td>\n",
              "    </tr>\n",
              "  </tbody>\n",
              "</table>\n",
              "</div>"
            ],
            "text/plain": [
              "     id  ... publicaciones_por_mes\n",
              "0  4941  ...                   650\n",
              "\n",
              "[1 rows x 27 columns]"
            ]
          },
          "metadata": {
            "tags": []
          },
          "execution_count": 153
        }
      ]
    },
    {
      "cell_type": "code",
      "metadata": {
        "colab_type": "code",
        "id": "zChv4LmcvvrZ",
        "colab": {}
      },
      "source": [
        "train['publicaciones_por_dia'] = train[['dia','año','mes', 'id']].groupby(['dia','año','mes']).transform(lambda x: x.count()).fillna(0)\n",
        "test['publicaciones_por_dia'] = test[['dia','año','mes', 'id']].groupby(['dia','año','mes']).transform(lambda x: x.count()).fillna(0)"
      ],
      "execution_count": 0,
      "outputs": []
    },
    {
      "cell_type": "code",
      "metadata": {
        "colab_type": "code",
        "id": "UcHAz62k5tNO",
        "colab": {}
      },
      "source": [
        "train['publicaciones_por_año'] = train[['año','id']].groupby(['año']).transform(lambda x: x.count()).fillna(0)\n",
        "test['publicaciones_por_año'] = test[['año','id']].groupby(['año']).transform(lambda x: x.count()).fillna(0)"
      ],
      "execution_count": 0,
      "outputs": []
    },
    {
      "cell_type": "markdown",
      "metadata": {
        "colab_type": "text",
        "id": "nd051JAcrjGk"
      },
      "source": [
        "## Pruebo target encoder en lugar de oneHotEncoder para tipodepropiedad, ciudades, provincias y agrego idzona"
      ]
    },
    {
      "cell_type": "markdown",
      "metadata": {
        "colab_type": "text",
        "id": "xPOI2-f-sPPv"
      },
      "source": [
        "**Primero voy a unificar los dummies sobre palabras**"
      ]
    },
    {
      "cell_type": "code",
      "metadata": {
        "colab_type": "code",
        "id": "RtcXov22rju2",
        "colab": {}
      },
      "source": [
        "dummies_palabras=dummies_palabras_descr.join(dummies_palabras_titulo)\n",
        "dummies_palabras_test=dummies_palabras_descr_test.join(dummies_palabras_titulo_test)"
      ],
      "execution_count": 0,
      "outputs": []
    },
    {
      "cell_type": "markdown",
      "metadata": {
        "colab_type": "text",
        "id": "fXpEthrfuzZM"
      },
      "source": [
        "**Voy a usar la cantidad de publicaciones por año como target, pues hemos visto que la cantidad de publicaciones aumentaba en el tiempo, al igual que el precio de las propiedades**"
      ]
    },
    {
      "cell_type": "code",
      "metadata": {
        "colab_type": "code",
        "id": "gRcggzy8-zLT",
        "outputId": "3861f6c9-2abd-4f39-8bed-d5ea420c99cc",
        "colab": {
          "base_uri": "https://localhost:8080/",
          "height": 204
        }
      },
      "source": [
        "!pip install category_encoders"
      ],
      "execution_count": 0,
      "outputs": [
        {
          "output_type": "stream",
          "text": [
            "Requirement already satisfied: category_encoders in /usr/local/lib/python3.6/dist-packages (2.1.0)\n",
            "Requirement already satisfied: numpy>=1.11.3 in /usr/local/lib/python3.6/dist-packages (from category_encoders) (1.17.4)\n",
            "Requirement already satisfied: scipy>=0.19.0 in /usr/local/lib/python3.6/dist-packages (from category_encoders) (1.3.2)\n",
            "Requirement already satisfied: patsy>=0.4.1 in /usr/local/lib/python3.6/dist-packages (from category_encoders) (0.5.1)\n",
            "Requirement already satisfied: statsmodels>=0.6.1 in /usr/local/lib/python3.6/dist-packages (from category_encoders) (0.10.1)\n",
            "Requirement already satisfied: scikit-learn>=0.20.0 in /usr/local/lib/python3.6/dist-packages (from category_encoders) (0.21.3)\n",
            "Requirement already satisfied: pandas>=0.21.1 in /usr/local/lib/python3.6/dist-packages (from category_encoders) (0.25.3)\n",
            "Requirement already satisfied: six in /usr/local/lib/python3.6/dist-packages (from patsy>=0.4.1->category_encoders) (1.12.0)\n",
            "Requirement already satisfied: joblib>=0.11 in /usr/local/lib/python3.6/dist-packages (from scikit-learn>=0.20.0->category_encoders) (0.14.0)\n",
            "Requirement already satisfied: pytz>=2017.2 in /usr/local/lib/python3.6/dist-packages (from pandas>=0.21.1->category_encoders) (2018.9)\n",
            "Requirement already satisfied: python-dateutil>=2.6.1 in /usr/local/lib/python3.6/dist-packages (from pandas>=0.21.1->category_encoders) (2.6.1)\n"
          ],
          "name": "stdout"
        }
      ]
    },
    {
      "cell_type": "code",
      "metadata": {
        "colab_type": "code",
        "id": "NtYBqnVY5tVL",
        "colab": {}
      },
      "source": [
        "import category_encoders as ce\n",
        "cat_cols = ['tipodepropiedad','ciudad', 'provincia', 'idzona']\n",
        "target_enc = ce.TargetEncoder(cols = cat_cols)\n",
        "target_enc.fit(train[cat_cols], train['publicaciones_por_año'])\n",
        "target_encoder_publicaciones = target_enc.transform(train[cat_cols]).add_suffix('_target_publicaciones')\n",
        "target_encoder_publicaciones_test = target_enc.transform(test[cat_cols]).add_suffix('_target_publicaciones')"
      ],
      "execution_count": 0,
      "outputs": []
    },
    {
      "cell_type": "code",
      "metadata": {
        "colab_type": "code",
        "id": "FL-wAEPExA2f",
        "outputId": "ec0d6d4b-c00e-46dd-d329-5149cf14ed1b",
        "colab": {
          "base_uri": "https://localhost:8080/",
          "height": 111
        }
      },
      "source": [
        "target_encoder_publicaciones.head(2)"
      ],
      "execution_count": 0,
      "outputs": [
        {
          "output_type": "execute_result",
          "data": {
            "text/html": [
              "<div>\n",
              "<style scoped>\n",
              "    .dataframe tbody tr th:only-of-type {\n",
              "        vertical-align: middle;\n",
              "    }\n",
              "\n",
              "    .dataframe tbody tr th {\n",
              "        vertical-align: top;\n",
              "    }\n",
              "\n",
              "    .dataframe thead th {\n",
              "        text-align: right;\n",
              "    }\n",
              "</style>\n",
              "<table border=\"1\" class=\"dataframe\">\n",
              "  <thead>\n",
              "    <tr style=\"text-align: right;\">\n",
              "      <th></th>\n",
              "      <th>tipodepropiedad_target_publicaciones</th>\n",
              "      <th>ciudad_target_publicaciones</th>\n",
              "      <th>provincia_target_publicaciones</th>\n",
              "      <th>idzona_target_publicaciones</th>\n",
              "    </tr>\n",
              "  </thead>\n",
              "  <tbody>\n",
              "    <tr>\n",
              "      <th>0</th>\n",
              "      <td>61817.687763</td>\n",
              "      <td>62912.989286</td>\n",
              "      <td>59017.072019</td>\n",
              "      <td>64651.204819</td>\n",
              "    </tr>\n",
              "    <tr>\n",
              "      <th>1</th>\n",
              "      <td>59753.070115</td>\n",
              "      <td>56328.297113</td>\n",
              "      <td>59017.072019</td>\n",
              "      <td>54434.372093</td>\n",
              "    </tr>\n",
              "  </tbody>\n",
              "</table>\n",
              "</div>"
            ],
            "text/plain": [
              "   tipodepropiedad_target_publicaciones  ...  idzona_target_publicaciones\n",
              "0                          61817.687763  ...                 64651.204819\n",
              "1                          59753.070115  ...                 54434.372093\n",
              "\n",
              "[2 rows x 4 columns]"
            ]
          },
          "metadata": {
            "tags": []
          },
          "execution_count": 159
        }
      ]
    },
    {
      "cell_type": "code",
      "metadata": {
        "colab_type": "code",
        "id": "OHjvnBA0xEzL",
        "outputId": "680f6725-c84b-4a1a-cafa-f2cd065058d3",
        "colab": {
          "base_uri": "https://localhost:8080/",
          "height": 111
        }
      },
      "source": [
        "target_encoder_publicaciones_test.head(2)"
      ],
      "execution_count": 0,
      "outputs": [
        {
          "output_type": "execute_result",
          "data": {
            "text/html": [
              "<div>\n",
              "<style scoped>\n",
              "    .dataframe tbody tr th:only-of-type {\n",
              "        vertical-align: middle;\n",
              "    }\n",
              "\n",
              "    .dataframe tbody tr th {\n",
              "        vertical-align: top;\n",
              "    }\n",
              "\n",
              "    .dataframe thead th {\n",
              "        text-align: right;\n",
              "    }\n",
              "</style>\n",
              "<table border=\"1\" class=\"dataframe\">\n",
              "  <thead>\n",
              "    <tr style=\"text-align: right;\">\n",
              "      <th></th>\n",
              "      <th>tipodepropiedad_target_publicaciones</th>\n",
              "      <th>ciudad_target_publicaciones</th>\n",
              "      <th>provincia_target_publicaciones</th>\n",
              "      <th>idzona_target_publicaciones</th>\n",
              "    </tr>\n",
              "  </thead>\n",
              "  <tbody>\n",
              "    <tr>\n",
              "      <th>0</th>\n",
              "      <td>60391.646507</td>\n",
              "      <td>58258.681622</td>\n",
              "      <td>59017.072019</td>\n",
              "      <td>54717.419377</td>\n",
              "    </tr>\n",
              "    <tr>\n",
              "      <th>1</th>\n",
              "      <td>61817.687763</td>\n",
              "      <td>60371.156102</td>\n",
              "      <td>60825.451816</td>\n",
              "      <td>58905.468031</td>\n",
              "    </tr>\n",
              "  </tbody>\n",
              "</table>\n",
              "</div>"
            ],
            "text/plain": [
              "   tipodepropiedad_target_publicaciones  ...  idzona_target_publicaciones\n",
              "0                          60391.646507  ...                 54717.419377\n",
              "1                          61817.687763  ...                 58905.468031\n",
              "\n",
              "[2 rows x 4 columns]"
            ]
          },
          "metadata": {
            "tags": []
          },
          "execution_count": 160
        }
      ]
    },
    {
      "cell_type": "markdown",
      "metadata": {
        "colab_type": "text",
        "id": "3sAmhfv34fms"
      },
      "source": [
        "## **Pruebo con otro target: metroscubiertos**"
      ]
    },
    {
      "cell_type": "code",
      "metadata": {
        "colab_type": "code",
        "id": "uUjlnk7PxNgv",
        "colab": {}
      },
      "source": [
        "cat_cols = ['tipodepropiedad','ciudad', 'provincia', 'idzona']\n",
        "target_enc = ce.TargetEncoder(cols = cat_cols)\n",
        "target_enc.fit(train[cat_cols], train['metroscubiertos'])\n",
        "target_encoder_metros = target_enc.transform(train[cat_cols]).add_suffix('_target_metros')\n",
        "target_encoder_metros_test = target_enc.transform(test[cat_cols]).add_suffix('_target_metros')"
      ],
      "execution_count": 0,
      "outputs": []
    },
    {
      "cell_type": "code",
      "metadata": {
        "colab_type": "code",
        "id": "ZqhTSuj0xNeB",
        "outputId": "11745395-7091-4462-d6d4-8f279b9bbabb",
        "colab": {
          "base_uri": "https://localhost:8080/",
          "height": 111
        }
      },
      "source": [
        "target_encoder_metros.head(2)"
      ],
      "execution_count": 0,
      "outputs": [
        {
          "output_type": "execute_result",
          "data": {
            "text/html": [
              "<div>\n",
              "<style scoped>\n",
              "    .dataframe tbody tr th:only-of-type {\n",
              "        vertical-align: middle;\n",
              "    }\n",
              "\n",
              "    .dataframe tbody tr th {\n",
              "        vertical-align: top;\n",
              "    }\n",
              "\n",
              "    .dataframe thead th {\n",
              "        text-align: right;\n",
              "    }\n",
              "</style>\n",
              "<table border=\"1\" class=\"dataframe\">\n",
              "  <thead>\n",
              "    <tr style=\"text-align: right;\">\n",
              "      <th></th>\n",
              "      <th>tipodepropiedad_target_metros</th>\n",
              "      <th>ciudad_target_metros</th>\n",
              "      <th>provincia_target_metros</th>\n",
              "      <th>idzona_target_metros</th>\n",
              "    </tr>\n",
              "  </thead>\n",
              "  <tbody>\n",
              "    <tr>\n",
              "      <th>0</th>\n",
              "      <td>117.866064</td>\n",
              "      <td>128.276829</td>\n",
              "      <td>157.326433</td>\n",
              "      <td>110.795181</td>\n",
              "    </tr>\n",
              "    <tr>\n",
              "      <th>1</th>\n",
              "      <td>187.276312</td>\n",
              "      <td>233.158005</td>\n",
              "      <td>157.326433</td>\n",
              "      <td>197.302326</td>\n",
              "    </tr>\n",
              "  </tbody>\n",
              "</table>\n",
              "</div>"
            ],
            "text/plain": [
              "   tipodepropiedad_target_metros  ...  idzona_target_metros\n",
              "0                     117.866064  ...            110.795181\n",
              "1                     187.276312  ...            197.302326\n",
              "\n",
              "[2 rows x 4 columns]"
            ]
          },
          "metadata": {
            "tags": []
          },
          "execution_count": 162
        }
      ]
    },
    {
      "cell_type": "markdown",
      "metadata": {
        "colab_type": "text",
        "id": "lpMO-U-QpxiL"
      },
      "source": [
        "**Como la mejor versióón es contando las publicaciones por año, me quedo con ese feature**"
      ]
    },
    {
      "cell_type": "code",
      "metadata": {
        "colab_type": "code",
        "id": "-eHVS7osp6-g",
        "colab": {}
      },
      "source": [
        "Numericos=['antiguedad','habitaciones','garages','banos','metroscubiertos',\\\n",
        "            'metrostotales','idzona', 'lat', 'lng','gimnasio','usosmultiples','piscina','escuelascercanas',\\\n",
        "            'centroscomercialescercanos','puntaje_por_fecha', 'publicaciones_por_año'] "
      ],
      "execution_count": 0,
      "outputs": []
    },
    {
      "cell_type": "markdown",
      "metadata": {
        "colab_type": "text",
        "id": "41rkTwF1Um32"
      },
      "source": [
        "## Armo X y X_test tomando ambos targets (es la mejor versión hasta el moemento)"
      ]
    },
    {
      "cell_type": "code",
      "metadata": {
        "colab_type": "code",
        "id": "_hvKuZzJ8mG_",
        "colab": {}
      },
      "source": [
        "X = train[Numericos].join(dummies_palabras).join(target_encoder_metros).join(target_encoder_publicaciones)\n",
        "X_test = test[Numericos].join(dummies_palabras_test).join(target_encoder_metros_test).join(target_encoder_publicaciones_test)\n",
        "Y = train['precio']"
      ],
      "execution_count": 0,
      "outputs": []
    },
    {
      "cell_type": "markdown",
      "metadata": {
        "colab_type": "text",
        "id": "cTKexYrvDzlg"
      },
      "source": [
        "# Armado de modelos"
      ]
    },
    {
      "cell_type": "code",
      "metadata": {
        "colab_type": "code",
        "id": "qbWkGW2cDzlh",
        "colab": {}
      },
      "source": [
        "def crear_submit(model, x_train, y_train, x_test, nombre):\n",
        "    model.fit(x_train, y_train)\n",
        "    result = model.predict(x_test)\n",
        "    for i in range(len(result)):\n",
        "      result[i] = round(result[i],-3)\n",
        "    final = test.loc[:, ['id']]\n",
        "    final['target'] = result\n",
        "    #Ruta desde Colab\n",
        "    ruta = \"../content/drive/My Drive/data/submit\"+ nombre +\".csv\"\n",
        "    #Ruta local\n",
        "    #ruta = \"data/submit\"+ nombre +\".csv\"\n",
        "    final.to_csv(ruta,index=False)\n",
        "    return final"
      ],
      "execution_count": 0,
      "outputs": []
    },
    {
      "cell_type": "code",
      "metadata": {
        "colab_type": "code",
        "id": "aVlTGqZTDzlm",
        "colab": {}
      },
      "source": [
        "from sklearn import preprocessing \n",
        "def normalizar_data(df):\n",
        "    min_max_scaler = preprocessing.MinMaxScaler() \n",
        "    np_scaled = min_max_scaler.fit_transform(df)\n",
        "    return pd.DataFrame(np_scaled)"
      ],
      "execution_count": 0,
      "outputs": []
    },
    {
      "cell_type": "code",
      "metadata": {
        "colab_type": "code",
        "id": "BWZF_2arDzlp",
        "colab": {}
      },
      "source": [
        "from sklearn.model_selection import cross_val_score"
      ],
      "execution_count": 0,
      "outputs": []
    },
    {
      "cell_type": "markdown",
      "metadata": {
        "colab_type": "text",
        "id": "Q27zjX8fDzmR"
      },
      "source": [
        "## Voting Regresor\n",
        "\n",
        "Utilizo Voting Regressor con XGBoost y Random Forest como estimadores con los mejores hiper parámetros que he encontrado hasta el momento \n",
        "\n",
        "**(ver TP2_Modelos_hiperparametros.ipynb)**"
      ]
    },
    {
      "cell_type": "code",
      "metadata": {
        "colab_type": "code",
        "id": "ec83Fqx0DzmS",
        "colab": {}
      },
      "source": [
        "from sklearn.ensemble  import RandomForestRegressor,  VotingRegressor\n",
        "import xgboost as xgb\n",
        "\n",
        "xgb_model = xgb.XGBRegressor(subsample = 0.9, reg_alpha = 1, n_estimators = 200, min_child_weight = 1,\\\n",
        "                             max_features = 43, max_depth = 9, learning_rate = 0.25, gamma = 0.0, \\\n",
        "                             colsample_bytree = 0.9)\n",
        "rf_model = RandomForestRegressor(random_state = 14, n_estimators = 200, min_samples_split = 5,\\\n",
        "                                 min_samples_leaf = 2, max_features = 51, max_depth = 40)\n",
        "vr_model = VotingRegressor(estimators = [('XGBoost', xgb_model), ('RandomForest', rf_model)], weights = [1,1])\n",
        "\n"
      ],
      "execution_count": 0,
      "outputs": []
    },
    {
      "cell_type": "code",
      "metadata": {
        "colab_type": "code",
        "id": "6e1jGqvNUmDw",
        "outputId": "23f28c55-936b-4b03-f04a-26eb8b5f7544",
        "scrolled": true,
        "colab": {
          "base_uri": "https://localhost:8080/",
          "height": 136
        }
      },
      "source": [
        "scores = cross_val_score(vr_model , X, Y, scoring=\"neg_mean_absolute_error\", cv=2)\n",
        "RF_mae_score = -scores.mean()\n",
        "RF_mae_score\n",
        "#523350.4780505615"
      ],
      "execution_count": 0,
      "outputs": [
        {
          "output_type": "stream",
          "text": [
            "/usr/local/lib/python3.6/dist-packages/xgboost/core.py:587: FutureWarning: Series.base is deprecated and will be removed in a future version\n",
            "  if getattr(data, 'base', None) is not None and \\\n"
          ],
          "name": "stderr"
        },
        {
          "output_type": "stream",
          "text": [
            "[16:13:35] WARNING: /workspace/src/objective/regression_obj.cu:152: reg:linear is now deprecated in favor of reg:squarederror.\n"
          ],
          "name": "stdout"
        },
        {
          "output_type": "stream",
          "text": [
            "/usr/local/lib/python3.6/dist-packages/xgboost/core.py:587: FutureWarning: Series.base is deprecated and will be removed in a future version\n",
            "  if getattr(data, 'base', None) is not None and \\\n"
          ],
          "name": "stderr"
        },
        {
          "output_type": "stream",
          "text": [
            "[16:21:14] WARNING: /workspace/src/objective/regression_obj.cu:152: reg:linear is now deprecated in favor of reg:squarederror.\n"
          ],
          "name": "stdout"
        },
        {
          "output_type": "execute_result",
          "data": {
            "text/plain": [
              "523350.4780505615"
            ]
          },
          "metadata": {
            "tags": []
          },
          "execution_count": 169
        }
      ]
    },
    {
      "cell_type": "markdown",
      "metadata": {
        "colab_type": "text",
        "id": "OBcWD5qrDzmW"
      },
      "source": [
        "## Grafico de importancias"
      ]
    },
    {
      "cell_type": "code",
      "metadata": {
        "colab_type": "code",
        "id": "-2Y_h4Hn8mHT",
        "colab": {}
      },
      "source": [
        "# La cantidad que recibe indica la cantidad de features a mostrar, si es negativa muestra los menos importantes,\n",
        "# y si es positiva muestra los más importantes\n",
        "#model.fit(X,Y) #El fit lo hago afuera asi no tengo que fitear nuevamente cada vez que llamo a la funcion(total siempre va a dar lo mismo)\n",
        "def mostrar_importancias(X, Y,model,cantidad = None):\n",
        "    importancias = pd.DataFrame(model.feature_importances_,index=X.columns,columns=['importancia']).reset_index()\n",
        "    importancias.columns = ['feature', 'importancia']\n",
        "    plt.figure(figsize = (18,8))\n",
        "    if (cantidad):\n",
        "        if (cantidad >= 0):\n",
        "            importancias = importancias.nlargest(cantidad, 'importancia')\n",
        "        else:\n",
        "            importancias = importancias.nsmallest(abs(cantidad), 'importancia')\n",
        "    graf = sns.barplot(x = importancias.feature, y = importancias.importancia, orient = 'v')\n",
        "    graf.set_ylabel(\"Importancias\", fontsize = 20)\n",
        "    graf.set_xlabel(\"Features\", fontsize = 20)\n",
        "    plt.xticks(fontsize = 15, rotation = 'vertical')\n",
        "    plt.yticks(fontsize = 15)\n",
        "    if (cantidad):\n",
        "        if (cantidad >= 0):\n",
        "            plt.title(\"Grado de importancia de los \"+ str(cantidad)+\" Features más importantes\", fontsize = 25)\n",
        "        else:\n",
        "            plt.title(\"Grado de importancia de los \"+ str(cantidad)+\" Features menos importantes\", fontsize = 25)\n",
        "    else:\n",
        "        plt.title(\"Grado de importancia de Features totales\", fontsize = 25)"
      ],
      "execution_count": 0,
      "outputs": []
    },
    {
      "cell_type": "code",
      "metadata": {
        "colab_type": "code",
        "id": "RrREtPlsDzmd",
        "outputId": "9abaef53-1599-42d0-9874-e7de40cfd822",
        "colab": {
          "base_uri": "https://localhost:8080/",
          "height": 136
        }
      },
      "source": [
        "#Muestro la importancia de todos los features\n",
        "mostrar_importancias(X,Y,RF_model)"
      ],
      "execution_count": 0,
      "outputs": [
        {
          "output_type": "display_data",
          "data": {
            "image/png": "[encoded data removed]",
            "text/plain": [
              "<matplotlib.figure.Figure at 0x7f458971ac50>"
            ]
          },
          "metadata": {
            "tags": [],
            "needs_background": "light"
          }
        }
      ]
    },
    {
      "cell_type": "code",
      "metadata": {
        "colab_type": "code",
        "id": "ujEKCzmlDzmk",
        "outputId": "1c841a62-2e1a-4276-a5c5-d568c2df53b0",
        "scrolled": false,
        "colab": {
          "base_uri": "https://localhost:8080/",
          "height": 282
        }
      },
      "source": [
        "#Muestro los 50 mas importantes\n",
        "mostrar_importancias(X,Y,vr_model, 50)"
      ],
      "execution_count": 0,
      "outputs": [
        {
          "output_type": "error",
          "ename": "AttributeError",
          "evalue": "ignored",
          "traceback": [
            "\u001b[0;31m---------------------------------------------------------------------------\u001b[0m",
            "\u001b[0;31mAttributeError\u001b[0m                            Traceback (most recent call last)",
            "\u001b[0;32m<ipython-input-174-d18807c9cc13>\u001b[0m in \u001b[0;36m<module>\u001b[0;34m()\u001b[0m\n\u001b[0;32m----> 1\u001b[0;31m \u001b[0mmostrar_importancias\u001b[0m\u001b[0;34m(\u001b[0m\u001b[0mX\u001b[0m\u001b[0;34m,\u001b[0m\u001b[0mY\u001b[0m\u001b[0;34m,\u001b[0m\u001b[0mvr_model\u001b[0m\u001b[0;34m,\u001b[0m \u001b[0;36m50\u001b[0m\u001b[0;34m)\u001b[0m\u001b[0;34m\u001b[0m\u001b[0;34m\u001b[0m\u001b[0m\n\u001b[0m",
            "\u001b[0;32m<ipython-input-173-a948df98d41c>\u001b[0m in \u001b[0;36mmostrar_importancias\u001b[0;34m(X, Y, model, cantidad)\u001b[0m\n\u001b[1;32m      1\u001b[0m \u001b[0;32mdef\u001b[0m \u001b[0mmostrar_importancias\u001b[0m\u001b[0;34m(\u001b[0m\u001b[0mX\u001b[0m\u001b[0;34m,\u001b[0m \u001b[0mY\u001b[0m\u001b[0;34m,\u001b[0m\u001b[0mmodel\u001b[0m\u001b[0;34m,\u001b[0m\u001b[0mcantidad\u001b[0m \u001b[0;34m=\u001b[0m \u001b[0;32mNone\u001b[0m\u001b[0;34m)\u001b[0m\u001b[0;34m:\u001b[0m\u001b[0;34m\u001b[0m\u001b[0;34m\u001b[0m\u001b[0m\n\u001b[0;32m----> 2\u001b[0;31m     \u001b[0mimportancias\u001b[0m \u001b[0;34m=\u001b[0m \u001b[0mpd\u001b[0m\u001b[0;34m.\u001b[0m\u001b[0mDataFrame\u001b[0m\u001b[0;34m(\u001b[0m\u001b[0mmodel\u001b[0m\u001b[0;34m.\u001b[0m\u001b[0mfeature_importances_\u001b[0m\u001b[0;34m,\u001b[0m\u001b[0mindex\u001b[0m\u001b[0;34m=\u001b[0m\u001b[0mX\u001b[0m\u001b[0;34m.\u001b[0m\u001b[0mcolumns\u001b[0m\u001b[0;34m,\u001b[0m\u001b[0mcolumns\u001b[0m\u001b[0;34m=\u001b[0m\u001b[0;34m[\u001b[0m\u001b[0;34m'importancia'\u001b[0m\u001b[0;34m]\u001b[0m\u001b[0;34m)\u001b[0m\u001b[0;34m.\u001b[0m\u001b[0mreset_index\u001b[0m\u001b[0;34m(\u001b[0m\u001b[0;34m)\u001b[0m\u001b[0;34m\u001b[0m\u001b[0;34m\u001b[0m\u001b[0m\n\u001b[0m\u001b[1;32m      3\u001b[0m     \u001b[0mimportancias\u001b[0m\u001b[0;34m.\u001b[0m\u001b[0mcolumns\u001b[0m \u001b[0;34m=\u001b[0m \u001b[0;34m[\u001b[0m\u001b[0;34m'feature'\u001b[0m\u001b[0;34m,\u001b[0m \u001b[0;34m'importancia'\u001b[0m\u001b[0;34m]\u001b[0m\u001b[0;34m\u001b[0m\u001b[0;34m\u001b[0m\u001b[0m\n\u001b[1;32m      4\u001b[0m     \u001b[0mplt\u001b[0m\u001b[0;34m.\u001b[0m\u001b[0mfigure\u001b[0m\u001b[0;34m(\u001b[0m\u001b[0mfigsize\u001b[0m \u001b[0;34m=\u001b[0m \u001b[0;34m(\u001b[0m\u001b[0;36m18\u001b[0m\u001b[0;34m,\u001b[0m\u001b[0;36m8\u001b[0m\u001b[0;34m)\u001b[0m\u001b[0;34m)\u001b[0m\u001b[0;34m\u001b[0m\u001b[0;34m\u001b[0m\u001b[0m\n\u001b[1;32m      5\u001b[0m     \u001b[0;32mif\u001b[0m \u001b[0;34m(\u001b[0m\u001b[0mcantidad\u001b[0m\u001b[0;34m)\u001b[0m\u001b[0;34m:\u001b[0m\u001b[0;34m\u001b[0m\u001b[0;34m\u001b[0m\u001b[0m\n",
            "\u001b[0;31mAttributeError\u001b[0m: 'VotingRegressor' object has no attribute 'feature_importances_'"
          ]
        }
      ]
    },
    {
      "cell_type": "code",
      "metadata": {
        "colab_type": "code",
        "id": "h1kCL1TBDzmo",
        "outputId": "b6c4841f-f32c-4ce6-bc0e-ebe011398f0a",
        "scrolled": false,
        "colab": {}
      },
      "source": [
        "#Muestro los 10 menos importantes\n",
        "mostrar_importancias(X,Y,RF_model, -10)"
      ],
      "execution_count": 0,
      "outputs": [
        {
          "output_type": "display_data",
          "data": {
            "image/png": "[encoded data removed]",
            "text/plain": [
              "<matplotlib.figure.Figure at 0x7f45858e5208>"
            ]
          },
          "metadata": {
            "tags": [],
            "needs_background": "light"
          }
        }
      ]
    },
    {
      "cell_type": "markdown",
      "metadata": {
        "id": "Ww85LVQJQFtQ",
        "colab_type": "text"
      },
      "source": [
        "### Guardo los features para entrenar los modelos"
      ]
    },
    {
      "cell_type": "code",
      "metadata": {
        "colab_type": "code",
        "id": "KRkuRVMi8mHr",
        "colab": {}
      },
      "source": [
        "#me voy a guardar los features para poder tunear los modelos e hiper parámetros\n",
        "X.to_csv(\"data/features_train.csv\", index = False)\n",
        "X_test.to_csv(\"data/features_test.csv\", index = False)"
      ],
      "execution_count": 0,
      "outputs": []
    },
    {
      "cell_type": "markdown",
      "metadata": {
        "colab_type": "text",
        "id": "R00flp_TQbQU"
      },
      "source": [
        "# Creo submit"
      ]
    },
    {
      "cell_type": "code",
      "metadata": {
        "colab_type": "code",
        "id": "qDy4RdJEDznY",
        "outputId": "50531d95-4bc7-4e39-fbcb-9ef4e821105b",
        "colab": {
          "base_uri": "https://localhost:8080/",
          "height": 204
        }
      },
      "source": [
        "submit1 = crear_submit(RF_model,X, Y, X_test, \"RF_versionTP2\")\n",
        "submit1.head()"
      ],
      "execution_count": 0,
      "outputs": [
        {
          "output_type": "execute_result",
          "data": {
            "text/html": [
              "<div>\n",
              "<style scoped>\n",
              "    .dataframe tbody tr th:only-of-type {\n",
              "        vertical-align: middle;\n",
              "    }\n",
              "\n",
              "    .dataframe tbody tr th {\n",
              "        vertical-align: top;\n",
              "    }\n",
              "\n",
              "    .dataframe thead th {\n",
              "        text-align: right;\n",
              "    }\n",
              "</style>\n",
              "<table border=\"1\" class=\"dataframe\">\n",
              "  <thead>\n",
              "    <tr style=\"text-align: right;\">\n",
              "      <th></th>\n",
              "      <th>id</th>\n",
              "      <th>target</th>\n",
              "    </tr>\n",
              "  </thead>\n",
              "  <tbody>\n",
              "    <tr>\n",
              "      <th>0</th>\n",
              "      <td>4941</td>\n",
              "      <td>5500000.0</td>\n",
              "    </tr>\n",
              "    <tr>\n",
              "      <th>1</th>\n",
              "      <td>51775</td>\n",
              "      <td>1006000.0</td>\n",
              "    </tr>\n",
              "    <tr>\n",
              "      <th>2</th>\n",
              "      <td>115253</td>\n",
              "      <td>2388000.0</td>\n",
              "    </tr>\n",
              "    <tr>\n",
              "      <th>3</th>\n",
              "      <td>299321</td>\n",
              "      <td>1157000.0</td>\n",
              "    </tr>\n",
              "    <tr>\n",
              "      <th>4</th>\n",
              "      <td>173570</td>\n",
              "      <td>581000.0</td>\n",
              "    </tr>\n",
              "  </tbody>\n",
              "</table>\n",
              "</div>"
            ],
            "text/plain": [
              "       id     target\n",
              "0    4941  5500000.0\n",
              "1   51775  1006000.0\n",
              "2  115253  2388000.0\n",
              "3  299321  1157000.0\n",
              "4  173570   581000.0"
            ]
          },
          "metadata": {
            "tags": []
          },
          "execution_count": 63
        }
      ]
    },
    {
      "cell_type": "code",
      "metadata": {
        "id": "ttghzagUXHpm",
        "colab_type": "code",
        "outputId": "cb53032c-9004-4abb-adde-f5da570de41d",
        "colab": {
          "base_uri": "https://localhost:8080/",
          "height": 289
        }
      },
      "source": [
        "submit1 = crear_submit(vr_model, X, Y, X_test, \"VotingRegresso\")\n",
        "submit1.head()"
      ],
      "execution_count": 0,
      "outputs": [
        {
          "output_type": "stream",
          "text": [
            "/usr/local/lib/python3.6/dist-packages/xgboost/core.py:587: FutureWarning: Series.base is deprecated and will be removed in a future version\n",
            "  if getattr(data, 'base', None) is not None and \\\n",
            "/usr/local/lib/python3.6/dist-packages/xgboost/core.py:588: FutureWarning: Series.base is deprecated and will be removed in a future version\n",
            "  data.base is not None and isinstance(data, np.ndarray) \\\n"
          ],
          "name": "stderr"
        },
        {
          "output_type": "stream",
          "text": [
            "[20:59:04] WARNING: /workspace/src/objective/regression_obj.cu:152: reg:linear is now deprecated in favor of reg:squarederror.\n"
          ],
          "name": "stdout"
        },
        {
          "output_type": "execute_result",
          "data": {
            "text/html": [
              "<div>\n",
              "<style scoped>\n",
              "    .dataframe tbody tr th:only-of-type {\n",
              "        vertical-align: middle;\n",
              "    }\n",
              "\n",
              "    .dataframe tbody tr th {\n",
              "        vertical-align: top;\n",
              "    }\n",
              "\n",
              "    .dataframe thead th {\n",
              "        text-align: right;\n",
              "    }\n",
              "</style>\n",
              "<table border=\"1\" class=\"dataframe\">\n",
              "  <thead>\n",
              "    <tr style=\"text-align: right;\">\n",
              "      <th></th>\n",
              "      <th>id</th>\n",
              "      <th>target</th>\n",
              "    </tr>\n",
              "  </thead>\n",
              "  <tbody>\n",
              "    <tr>\n",
              "      <th>0</th>\n",
              "      <td>4941</td>\n",
              "      <td>6354000.0</td>\n",
              "    </tr>\n",
              "    <tr>\n",
              "      <th>1</th>\n",
              "      <td>51775</td>\n",
              "      <td>1097000.0</td>\n",
              "    </tr>\n",
              "    <tr>\n",
              "      <th>2</th>\n",
              "      <td>115253</td>\n",
              "      <td>2180000.0</td>\n",
              "    </tr>\n",
              "    <tr>\n",
              "      <th>3</th>\n",
              "      <td>299321</td>\n",
              "      <td>1295000.0</td>\n",
              "    </tr>\n",
              "    <tr>\n",
              "      <th>4</th>\n",
              "      <td>173570</td>\n",
              "      <td>568000.0</td>\n",
              "    </tr>\n",
              "  </tbody>\n",
              "</table>\n",
              "</div>"
            ],
            "text/plain": [
              "       id     target\n",
              "0    4941  6354000.0\n",
              "1   51775  1097000.0\n",
              "2  115253  2180000.0\n",
              "3  299321  1295000.0\n",
              "4  173570   568000.0"
            ]
          },
          "metadata": {
            "tags": []
          },
          "execution_count": 216
        }
      ]
    },
    {
      "cell_type": "code",
      "metadata": {
        "id": "AeBOOLDoBNsQ",
        "colab_type": "code",
        "outputId": "c29983c0-6f3d-4d61-8dd8-623e9b7c4a29",
        "colab": {
          "base_uri": "https://localhost:8080/",
          "height": 289
        }
      },
      "source": [
        "submit1 = crear_submit(vr_model, X, Y, X_test, \"VotingRegressor\")\n",
        "submit1.head()"
      ],
      "execution_count": 0,
      "outputs": [
        {
          "output_type": "stream",
          "text": [
            "/usr/local/lib/python3.6/dist-packages/xgboost/core.py:587: FutureWarning: Series.base is deprecated and will be removed in a future version\n",
            "  if getattr(data, 'base', None) is not None and \\\n",
            "/usr/local/lib/python3.6/dist-packages/xgboost/core.py:588: FutureWarning: Series.base is deprecated and will be removed in a future version\n",
            "  data.base is not None and isinstance(data, np.ndarray) \\\n"
          ],
          "name": "stderr"
        },
        {
          "output_type": "stream",
          "text": [
            "[15:13:21] WARNING: /workspace/src/objective/regression_obj.cu:152: reg:linear is now deprecated in favor of reg:squarederror.\n"
          ],
          "name": "stdout"
        },
        {
          "output_type": "execute_result",
          "data": {
            "text/html": [
              "<div>\n",
              "<style scoped>\n",
              "    .dataframe tbody tr th:only-of-type {\n",
              "        vertical-align: middle;\n",
              "    }\n",
              "\n",
              "    .dataframe tbody tr th {\n",
              "        vertical-align: top;\n",
              "    }\n",
              "\n",
              "    .dataframe thead th {\n",
              "        text-align: right;\n",
              "    }\n",
              "</style>\n",
              "<table border=\"1\" class=\"dataframe\">\n",
              "  <thead>\n",
              "    <tr style=\"text-align: right;\">\n",
              "      <th></th>\n",
              "      <th>id</th>\n",
              "      <th>target</th>\n",
              "    </tr>\n",
              "  </thead>\n",
              "  <tbody>\n",
              "    <tr>\n",
              "      <th>0</th>\n",
              "      <td>4941</td>\n",
              "      <td>5758000.0</td>\n",
              "    </tr>\n",
              "    <tr>\n",
              "      <th>1</th>\n",
              "      <td>51775</td>\n",
              "      <td>1019000.0</td>\n",
              "    </tr>\n",
              "    <tr>\n",
              "      <th>2</th>\n",
              "      <td>115253</td>\n",
              "      <td>2300000.0</td>\n",
              "    </tr>\n",
              "    <tr>\n",
              "      <th>3</th>\n",
              "      <td>299321</td>\n",
              "      <td>1095000.0</td>\n",
              "    </tr>\n",
              "    <tr>\n",
              "      <th>4</th>\n",
              "      <td>173570</td>\n",
              "      <td>580000.0</td>\n",
              "    </tr>\n",
              "  </tbody>\n",
              "</table>\n",
              "</div>"
            ],
            "text/plain": [
              "       id     target\n",
              "0    4941  5758000.0\n",
              "1   51775  1019000.0\n",
              "2  115253  2300000.0\n",
              "3  299321  1095000.0\n",
              "4  173570   580000.0"
            ]
          },
          "metadata": {
            "tags": []
          },
          "execution_count": 111
        }
      ]
    },
    {
      "cell_type": "code",
      "metadata": {
        "id": "qpJvsXLVJE3x",
        "colab_type": "code",
        "colab": {}
      },
      "source": [
        "X_normalized=normalizar_data(X)\n",
        "X_test_normalized=normalizar_data(X_test)\n"
      ],
      "execution_count": 0,
      "outputs": []
    },
    {
      "cell_type": "code",
      "metadata": {
        "id": "iXSbYjGmDlMa",
        "colab_type": "code",
        "colab": {}
      },
      "source": [
        ""
      ],
      "execution_count": 0,
      "outputs": []
    }
  ]
}