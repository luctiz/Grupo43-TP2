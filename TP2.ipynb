{
  "nbformat": 4,
  "nbformat_minor": 0,
  "metadata": {
    "accelerator": "GPU",
    "colab": {
      "name": "TP2.ipynb",
      "provenance": [],
      "collapsed_sections": [],
      "include_colab_link": true
    },
    "kernelspec": {
      "display_name": "Python 3",
      "language": "python",
      "name": "python3"
    },
    "language_info": {
      "codemirror_mode": {
        "name": "ipython",
        "version": 3
      },
      "file_extension": ".py",
      "mimetype": "text/x-python",
      "name": "python",
      "nbconvert_exporter": "python",
      "pygments_lexer": "ipython3",
      "version": "3.6.8"
    }
  },
  "cells": [
    {
      "cell_type": "markdown",
      "metadata": {
        "id": "view-in-github",
        "colab_type": "text"
      },
      "source": [
        "<a href=\"https://colab.research.google.com/github/luctiz/Grupo43-TP2/blob/master/TP2.ipynb\" target=\"_parent\"><img src=\"https://colab.research.google.com/assets/colab-badge.svg\" alt=\"Open In Colab\"/></a>"
      ]
    },
    {
      "cell_type": "code",
      "metadata": {
        "colab_type": "code",
        "id": "rEJi-pWZDziy",
        "colab": {}
      },
      "source": [
        "import pandas as pd\n",
        "from datetime import datetime\n",
        "import numpy as np\n",
        "import matplotlib.pyplot as plt\n",
        "import seaborn as sns"
      ],
      "execution_count": 0,
      "outputs": []
    },
    {
      "cell_type": "code",
      "metadata": {
        "colab_type": "code",
        "id": "XWwt-ZbvD_60",
        "colab": {
          "base_uri": "https://localhost:8080/",
          "height": 34
        },
        "outputId": "0b9c004d-d433-42fa-b73b-8b11ea278b4f"
      },
      "source": [
        "from google.colab import drive\n",
        "drive.mount('/content/drive')\n"
      ],
      "execution_count": 2,
      "outputs": [
        {
          "output_type": "stream",
          "text": [
            "Drive already mounted at /content/drive; to attempt to forcibly remount, call drive.mount(\"/content/drive\", force_remount=True).\n"
          ],
          "name": "stdout"
        }
      ]
    },
    {
      "cell_type": "markdown",
      "metadata": {
        "colab_type": "text",
        "id": "yZ3leJw7Dzi5"
      },
      "source": [
        "# Carga y limpieza de datos\n",
        "\n",
        "## (Hecho con la info obtenida en el notebook LimpiezaDeDatos)"
      ]
    },
    {
      "cell_type": "code",
      "metadata": {
        "colab_type": "code",
        "id": "8MBqVQ0t-fcY",
        "colab": {}
      },
      "source": [
        "#import io\n",
        "#ruta = io.StringIO(uploaded['train.csv'].decode('utf-8'))\n",
        "#ejemplo = pd.read_csv(\"../content/drive/My Drive/data/ejemploRespuesta.csv\", names = [\"id\", \"precio\"])\n",
        "test = pd.read_csv(\"../content/drive/My Drive/data/test.csv\", parse_dates = ['fecha'])\n",
        "train = pd.read_csv(\"../content/drive/My Drive/data/train.csv\",parse_dates = ['fecha'])\n",
        "#ejemplo =  pd.read_csv('data/ejemploRespuesta.csv', names = [\"id\", \"precio\"] )\n",
        "#test =  pd.read_csv('data/test.csv', parse_dates = ['fecha'])\n",
        "#train = pd.read_csv('data/train.csv',parse_dates = ['fecha'])"
      ],
      "execution_count": 0,
      "outputs": []
    },
    {
      "cell_type": "code",
      "metadata": {
        "colab_type": "code",
        "id": "O_XHmFUXy7Vx",
        "colab": {
          "base_uri": "https://localhost:8080/",
          "height": 34
        },
        "outputId": "9bcf00a0-8397-42c0-fd93-ee94daaa974d"
      },
      "source": [
        " (test.provincia.isnull() & test.ciudad.isnull()).sum()"
      ],
      "execution_count": 4,
      "outputs": [
        {
          "output_type": "execute_result",
          "data": {
            "text/plain": [
              "42"
            ]
          },
          "metadata": {
            "tags": []
          },
          "execution_count": 4
        }
      ]
    },
    {
      "cell_type": "code",
      "metadata": {
        "colab_type": "code",
        "id": "tQ6smM2_DzjG",
        "colab": {}
      },
      "source": [
        "#El precio promedio de las publicaciones que no tienen datos de cant de habitaciones esta entre el precio\n",
        "#promedio de las que tienen 2 y 3 habitaciones\n",
        "#Entonces voy a asumir que tienen 3 habitaciones, ya que es el valor al cual el precio mas se les asemeja.\n",
        "train['habitaciones']=train['habitaciones'].fillna(3)\n",
        "test['habitaciones']=test['habitaciones'].fillna(3)\n",
        "#Luego convierto a np.int8\n",
        "train['habitaciones']=train['habitaciones'].astype(np.int8)\n",
        "test['habitaciones']=test['habitaciones'].astype(np.int8)"
      ],
      "execution_count": 0,
      "outputs": []
    },
    {
      "cell_type": "code",
      "metadata": {
        "colab_type": "code",
        "id": "uImtHs5JDzja",
        "colab": {}
      },
      "source": [
        "#Creo categoria para los que no tienen categoria en provincia:\n",
        "train['provincia']=train['provincia'].fillna('N/A')\n",
        "test['provincia']=test['provincia'].fillna('N/A')\n",
        "#Creo categoria para los que no tienen categoria en ciudad:\n",
        "train['ciudad']=train['ciudad'].fillna('N/A')\n",
        "test['ciudad']=test['ciudad'].fillna('N/A')\n",
        "#Relleno los nulls en direccion con un - .\n",
        "train['direccion']=train['direccion'].fillna('-')\n",
        "test['direccion']=test['direccion'].fillna('-')\n",
        "#Creo categoria para los que no tienen categoria en tipodepropiedad:\n",
        "train['tipodepropiedad']=train['tipodepropiedad'].fillna('N/A')\n",
        "test['tipodepropiedad']=test['tipodepropiedad'].fillna('N/A')"
      ],
      "execution_count": 0,
      "outputs": []
    },
    {
      "cell_type": "code",
      "metadata": {
        "colab_type": "code",
        "id": "nldkfelbDzi_",
        "colab": {}
      },
      "source": [
        "train['metroscubiertos']=train.metroscubiertos.fillna(round(train.metroscubiertos.mean()))\n",
        "test['metroscubiertos']=test.metroscubiertos.fillna(round(train.metroscubiertos.mean()))\n",
        "#Luego convierto metroscubiertos a  np.int16\n",
        "train['metroscubiertos']=train['metroscubiertos'].astype(np.int16)\n",
        "test['metroscubiertos']=test['metroscubiertos'].astype(np.int16)\n",
        "\n",
        "#del aux_means # lo borro ya que no lo uso mas\n",
        "\n"
      ],
      "execution_count": 0,
      "outputs": []
    },
    {
      "cell_type": "code",
      "metadata": {
        "colab_type": "code",
        "id": "ftmbtnbzDzjC",
        "colab": {}
      },
      "source": [
        "#A los nulls los relleno con el promedio de metrostotales de todas las publicaciones en train\n",
        "train['metrostotales']=train['metrostotales'].fillna(round(train['metrostotales'].mean()))\n",
        "test['metrostotales']=test['metrostotales'].fillna(round(train['metrostotales'].mean()))\n",
        "#Luego convierto metrostotales a  np.int16\n",
        "train['metrostotales']=train['metrostotales'].astype(np.int16)\n",
        "test['metrostotales']=test['metrostotales'].astype(np.int16)"
      ],
      "execution_count": 0,
      "outputs": []
    },
    {
      "cell_type": "code",
      "metadata": {
        "colab_type": "code",
        "id": "_ZLf4sfzDzjK",
        "colab": {}
      },
      "source": [
        "#A los que no tienen datos de antiguedad los relleno con la antiguedad promedio (es 8)\n",
        "train['antiguedad']=train['antiguedad'].fillna(round(train['antiguedad'].mean()))\n",
        "test['antiguedad']=test['antiguedad'].fillna(round(train['antiguedad'].mean()))\n",
        "#Luego convierto a np.uint8\n",
        "train['antiguedad']=train['antiguedad'].astype(np.uint8)\n",
        "test['antiguedad']=test['antiguedad'].astype(np.uint8)"
      ],
      "execution_count": 0,
      "outputs": []
    },
    {
      "cell_type": "code",
      "metadata": {
        "colab_type": "code",
        "id": "75gqVVkWDzjP",
        "colab": {}
      },
      "source": [
        "#El precio promedio de los que tienen NULL en garage es parecido al de los que tienen 2.\n",
        "#Relleno los nulls de esta columna con un 2.\n",
        "train['garages']=train['garages'].fillna(2)\n",
        "test['garages']=test['garages'].fillna(2)\n",
        "#convierto a np.int8\n",
        "train['garages']=train['garages'].astype(np.int8)\n",
        "test['garages']=test['garages'].astype(np.int8)"
      ],
      "execution_count": 0,
      "outputs": []
    },
    {
      "cell_type": "code",
      "metadata": {
        "colab_type": "code",
        "id": "UpBPbRpLDzjT",
        "colab": {}
      },
      "source": [
        "#El precio promedio de los que tienen NULL en banos es mas parecido al de los que tienen 2.\n",
        "#Relleno los nulls de esta columna con un 2.\n",
        "train['banos']=train['banos'].fillna(2)\n",
        "test['banos']=test['banos'].fillna(2)\n",
        "#convierto a np.int8\n",
        "train['banos']=train['banos'].astype(np.int8)\n",
        "test['banos']=test['banos'].astype(np.int8)"
      ],
      "execution_count": 0,
      "outputs": []
    },
    {
      "cell_type": "code",
      "metadata": {
        "colab_type": "code",
        "id": "n7SEA5BXDzjW",
        "scrolled": true,
        "colab": {}
      },
      "source": [
        "train['gimnasio']=train['gimnasio'].astype(np.int8)\n",
        "train['usosmultiples']=train['usosmultiples'].astype(np.int8)\n",
        "train['piscina']=train['piscina'].astype(np.int8)\n",
        "train['escuelascercanas']=train['escuelascercanas'].astype(np.int8)\n",
        "train['centroscomercialescercanos']=train['centroscomercialescercanos'].astype(np.int8)\n",
        "test['gimnasio']=test['gimnasio'].astype(np.int8)\n",
        "test['usosmultiples']=test['usosmultiples'].astype(np.int8)\n",
        "test['piscina']=test['piscina'].astype(np.int8)\n",
        "test['escuelascercanas']=test['escuelascercanas'].astype(np.int8)\n",
        "test['centroscomercialescercanos']=test['centroscomercialescercanos'].astype(np.int8)"
      ],
      "execution_count": 0,
      "outputs": []
    },
    {
      "cell_type": "code",
      "metadata": {
        "colab_type": "code",
        "id": "bLBuR2E5Dzjd",
        "colab": {}
      },
      "source": [
        "train['titulo']=train['titulo'].fillna(' ')\n",
        "train['descripcion']=train['descripcion'].fillna(' ')\n",
        "test['titulo']=test['titulo'].fillna(' ')\n",
        "test['descripcion']=test['descripcion'].fillna(' ')"
      ],
      "execution_count": 0,
      "outputs": []
    },
    {
      "cell_type": "code",
      "metadata": {
        "colab_type": "code",
        "id": "-YeCjf6wDzjh",
        "colab": {}
      },
      "source": [
        "train['precio']=train['precio'].astype(np.int32)\n",
        "train['id']=train['id'].astype(np.int32)\n",
        "test['id']=test['id'].astype(np.int32)"
      ],
      "execution_count": 0,
      "outputs": []
    },
    {
      "cell_type": "code",
      "metadata": {
        "colab_type": "code",
        "id": "gR-Lm_ML4wBA",
        "colab": {}
      },
      "source": [
        "aux_glng=train.groupby('provincia')['lng'].mean()\n",
        "aux_glat=train.groupby('provincia')['lng'].mean()"
      ],
      "execution_count": 0,
      "outputs": []
    },
    {
      "cell_type": "code",
      "metadata": {
        "colab_type": "code",
        "id": "_T25ueMiKZrB",
        "colab": {}
      },
      "source": [
        "train.lat=train.lat.fillna(train.lat.mean())\n",
        "train.lng=train.lng.fillna(train.lng.mean())\n",
        "test.lat=test.lat.fillna(train.lat.mean())\n",
        "test.lng=test.lng.fillna(train.lng.mean())"
      ],
      "execution_count": 0,
      "outputs": []
    },
    {
      "cell_type": "code",
      "metadata": {
        "colab_type": "code",
        "id": "VO8oWaoFDzjk",
        "colab": {}
      },
      "source": [
        "#Algunas columnas tienen nulls que no se como encararlos. Por ahora los relleno con 0\n",
        "train=train.fillna(0)\n",
        "test=test.fillna(0)"
      ],
      "execution_count": 0,
      "outputs": []
    },
    {
      "cell_type": "markdown",
      "metadata": {
        "colab_type": "text",
        "id": "WAHlJ_ixDzjo"
      },
      "source": [
        "# Armado de features:"
      ]
    },
    {
      "cell_type": "code",
      "metadata": {
        "colab_type": "code",
        "id": "u51NytzxDzjp",
        "scrolled": true,
        "colab": {
          "base_uri": "https://localhost:8080/",
          "height": 121
        },
        "outputId": "3bd723c8-5b97-4118-c5fa-9ef436ee0d30"
      },
      "source": [
        "train.columns"
      ],
      "execution_count": 18,
      "outputs": [
        {
          "output_type": "execute_result",
          "data": {
            "text/plain": [
              "Index(['id', 'titulo', 'descripcion', 'tipodepropiedad', 'direccion', 'ciudad',\n",
              "       'provincia', 'antiguedad', 'habitaciones', 'garages', 'banos',\n",
              "       'metroscubiertos', 'metrostotales', 'idzona', 'lat', 'lng', 'fecha',\n",
              "       'gimnasio', 'usosmultiples', 'piscina', 'escuelascercanas',\n",
              "       'centroscomercialescercanos', 'precio'],\n",
              "      dtype='object')"
            ]
          },
          "metadata": {
            "tags": []
          },
          "execution_count": 18
        }
      ]
    },
    {
      "cell_type": "code",
      "metadata": {
        "colab_type": "code",
        "id": "ly55QyCuDzjx",
        "colab": {
          "base_uri": "https://localhost:8080/",
          "height": 121
        },
        "outputId": "a51490a9-db9c-4071-a0bb-ace7beed0b8f"
      },
      "source": [
        "test.columns"
      ],
      "execution_count": 19,
      "outputs": [
        {
          "output_type": "execute_result",
          "data": {
            "text/plain": [
              "Index(['id', 'titulo', 'descripcion', 'tipodepropiedad', 'direccion', 'ciudad',\n",
              "       'provincia', 'antiguedad', 'habitaciones', 'garages', 'banos',\n",
              "       'metroscubiertos', 'metrostotales', 'idzona', 'lat', 'lng', 'fecha',\n",
              "       'gimnasio', 'usosmultiples', 'piscina', 'escuelascercanas',\n",
              "       'centroscomercialescercanos'],\n",
              "      dtype='object')"
            ]
          },
          "metadata": {
            "tags": []
          },
          "execution_count": 19
        }
      ]
    },
    {
      "cell_type": "markdown",
      "metadata": {
        "colab_type": "text",
        "id": "sqJf4t1b-W7v"
      },
      "source": [
        "## Features sobre el tiempo"
      ]
    },
    {
      "cell_type": "markdown",
      "metadata": {
        "colab_type": "text",
        "id": "wq7f_c0xDzke"
      },
      "source": [
        "En el TP1 vimos como los precios iban en aumento a medida que el tiempo aumentaba, por lo que nos interesa crear nuevos features tomando en cuenta el tiempo en el que se publicaron las propiedades.\n",
        "\n",
        "\n",
        "Para realizar un nuevo feature comenzaremos añadiendo un peso para cada fecha, este peso irá en aumento a medida que las fechas van subiendo, así simularemos el crecimiento del precio a lo largo del tiempo."
      ]
    },
    {
      "cell_type": "code",
      "metadata": {
        "colab_type": "code",
        "id": "3GemqKzdDzkf",
        "colab": {}
      },
      "source": [
        "#Califico las fechas de acuerdo a la diferencia entre la fecha actual y la fecha mínima sobre el máximo de dias\n",
        "fecha_min = train.fecha.min()\n",
        "fecha_max = train.fecha.max()\n",
        "delta_max_days = (fecha_max - fecha_min).days\n",
        "def calificar_fecha(fecha):\n",
        "    delta = fecha - fecha_min\n",
        "    return delta.days/delta_max_days"
      ],
      "execution_count": 0,
      "outputs": []
    },
    {
      "cell_type": "code",
      "metadata": {
        "colab_type": "code",
        "id": "wi0CoPv5Dzkj",
        "colab": {
          "base_uri": "https://localhost:8080/",
          "height": 170
        },
        "outputId": "5c8b9088-5977-4f82-b86a-ec1943e50622"
      },
      "source": [
        "train[\"puntaje_por_fecha\"] = train['fecha'].transform(lambda x: calificar_fecha(x))\n",
        "train.head(1)"
      ],
      "execution_count": 21,
      "outputs": [
        {
          "output_type": "execute_result",
          "data": {
            "text/html": [
              "<div>\n",
              "<style scoped>\n",
              "    .dataframe tbody tr th:only-of-type {\n",
              "        vertical-align: middle;\n",
              "    }\n",
              "\n",
              "    .dataframe tbody tr th {\n",
              "        vertical-align: top;\n",
              "    }\n",
              "\n",
              "    .dataframe thead th {\n",
              "        text-align: right;\n",
              "    }\n",
              "</style>\n",
              "<table border=\"1\" class=\"dataframe\">\n",
              "  <thead>\n",
              "    <tr style=\"text-align: right;\">\n",
              "      <th></th>\n",
              "      <th>id</th>\n",
              "      <th>titulo</th>\n",
              "      <th>descripcion</th>\n",
              "      <th>tipodepropiedad</th>\n",
              "      <th>direccion</th>\n",
              "      <th>ciudad</th>\n",
              "      <th>provincia</th>\n",
              "      <th>antiguedad</th>\n",
              "      <th>habitaciones</th>\n",
              "      <th>garages</th>\n",
              "      <th>banos</th>\n",
              "      <th>metroscubiertos</th>\n",
              "      <th>metrostotales</th>\n",
              "      <th>idzona</th>\n",
              "      <th>lat</th>\n",
              "      <th>lng</th>\n",
              "      <th>fecha</th>\n",
              "      <th>gimnasio</th>\n",
              "      <th>usosmultiples</th>\n",
              "      <th>piscina</th>\n",
              "      <th>escuelascercanas</th>\n",
              "      <th>centroscomercialescercanos</th>\n",
              "      <th>precio</th>\n",
              "      <th>puntaje_por_fecha</th>\n",
              "    </tr>\n",
              "  </thead>\n",
              "  <tbody>\n",
              "    <tr>\n",
              "      <th>0</th>\n",
              "      <td>254099</td>\n",
              "      <td>depto. tipo a-402</td>\n",
              "      <td>depto. interior de 80.15m2, consta de sala com...</td>\n",
              "      <td>Apartamento</td>\n",
              "      <td>Avenida Division del Norte 2005</td>\n",
              "      <td>Benito Juárez</td>\n",
              "      <td>Distrito Federal</td>\n",
              "      <td>8</td>\n",
              "      <td>2</td>\n",
              "      <td>1</td>\n",
              "      <td>2</td>\n",
              "      <td>80</td>\n",
              "      <td>80</td>\n",
              "      <td>23533.0</td>\n",
              "      <td>20.696818</td>\n",
              "      <td>-99.509221</td>\n",
              "      <td>2015-08-23</td>\n",
              "      <td>0</td>\n",
              "      <td>0</td>\n",
              "      <td>0</td>\n",
              "      <td>0</td>\n",
              "      <td>0</td>\n",
              "      <td>2273000</td>\n",
              "      <td>0.728368</td>\n",
              "    </tr>\n",
              "  </tbody>\n",
              "</table>\n",
              "</div>"
            ],
            "text/plain": [
              "       id             titulo  ...   precio puntaje_por_fecha\n",
              "0  254099  depto. tipo a-402  ...  2273000          0.728368\n",
              "\n",
              "[1 rows x 24 columns]"
            ]
          },
          "metadata": {
            "tags": []
          },
          "execution_count": 21
        }
      ]
    },
    {
      "cell_type": "code",
      "metadata": {
        "colab_type": "code",
        "id": "xSBgj_1pDzkm",
        "scrolled": true,
        "colab": {
          "base_uri": "https://localhost:8080/",
          "height": 205
        },
        "outputId": "032364bc-ab44-4e62-85a2-91c098c45c21"
      },
      "source": [
        "#Set de test\n",
        "test[\"puntaje_por_fecha\"] = test['fecha'].transform(lambda x: calificar_fecha(x))\n",
        "test.head(1)"
      ],
      "execution_count": 22,
      "outputs": [
        {
          "output_type": "execute_result",
          "data": {
            "text/html": [
              "<div>\n",
              "<style scoped>\n",
              "    .dataframe tbody tr th:only-of-type {\n",
              "        vertical-align: middle;\n",
              "    }\n",
              "\n",
              "    .dataframe tbody tr th {\n",
              "        vertical-align: top;\n",
              "    }\n",
              "\n",
              "    .dataframe thead th {\n",
              "        text-align: right;\n",
              "    }\n",
              "</style>\n",
              "<table border=\"1\" class=\"dataframe\">\n",
              "  <thead>\n",
              "    <tr style=\"text-align: right;\">\n",
              "      <th></th>\n",
              "      <th>id</th>\n",
              "      <th>titulo</th>\n",
              "      <th>descripcion</th>\n",
              "      <th>tipodepropiedad</th>\n",
              "      <th>direccion</th>\n",
              "      <th>ciudad</th>\n",
              "      <th>provincia</th>\n",
              "      <th>antiguedad</th>\n",
              "      <th>habitaciones</th>\n",
              "      <th>garages</th>\n",
              "      <th>banos</th>\n",
              "      <th>metroscubiertos</th>\n",
              "      <th>metrostotales</th>\n",
              "      <th>idzona</th>\n",
              "      <th>lat</th>\n",
              "      <th>lng</th>\n",
              "      <th>fecha</th>\n",
              "      <th>gimnasio</th>\n",
              "      <th>usosmultiples</th>\n",
              "      <th>piscina</th>\n",
              "      <th>escuelascercanas</th>\n",
              "      <th>centroscomercialescercanos</th>\n",
              "      <th>puntaje_por_fecha</th>\n",
              "    </tr>\n",
              "  </thead>\n",
              "  <tbody>\n",
              "    <tr>\n",
              "      <th>0</th>\n",
              "      <td>4941</td>\n",
              "      <td>casa en venta en miguel hidalgo, distrito federal</td>\n",
              "      <td>&lt;p&gt;excelente casa estilo moderno.&lt;/p&gt;</td>\n",
              "      <td>Casa</td>\n",
              "      <td>Bosque de Cedros</td>\n",
              "      <td>Miguel Hidalgo</td>\n",
              "      <td>Distrito Federal</td>\n",
              "      <td>29</td>\n",
              "      <td>3</td>\n",
              "      <td>2</td>\n",
              "      <td>4</td>\n",
              "      <td>300</td>\n",
              "      <td>177</td>\n",
              "      <td>0.0</td>\n",
              "      <td>19.408668</td>\n",
              "      <td>-99.246767</td>\n",
              "      <td>2013-07-20</td>\n",
              "      <td>0</td>\n",
              "      <td>0</td>\n",
              "      <td>0</td>\n",
              "      <td>0</td>\n",
              "      <td>0</td>\n",
              "      <td>0.309967</td>\n",
              "    </tr>\n",
              "  </tbody>\n",
              "</table>\n",
              "</div>"
            ],
            "text/plain": [
              "     id  ... puntaje_por_fecha\n",
              "0  4941  ...          0.309967\n",
              "\n",
              "[1 rows x 23 columns]"
            ]
          },
          "metadata": {
            "tags": []
          },
          "execution_count": 22
        }
      ]
    },
    {
      "cell_type": "markdown",
      "metadata": {
        "colab_type": "text",
        "id": "cop2D3aeDzkq"
      },
      "source": [
        "## Features descripcion"
      ]
    },
    {
      "cell_type": "markdown",
      "metadata": {
        "colab_type": "text",
        "id": "_osusV1kDzkr"
      },
      "source": [
        "Para el primer TP descubrimos que habia ciertas palabras que estaban correlacionadas a mayor precio y otras a menor precio. Usando esa informacion vamos a armar features que nos digan si la descripcion tiene o no determinada palabra"
      ]
    },
    {
      "cell_type": "code",
      "metadata": {
        "colab_type": "code",
        "id": "tJo0bmcLDzks",
        "colab": {}
      },
      "source": [
        "#Paso todas las descripciones a minúscula para contar las palabras con mas precision\n",
        "train['descripcion']=train['descripcion'].apply(lambda x: x.lower())"
      ],
      "execution_count": 0,
      "outputs": []
    },
    {
      "cell_type": "code",
      "metadata": {
        "colab_type": "code",
        "id": "CkfO4qykDzkw",
        "colab": {}
      },
      "source": [
        "Palabras_mayor_precio=['cuarto','vestidor','terraza','family','vista','bodega',\\\n",
        "                       'salón','estudio','jardín','room','jacuzzi','lujo','antecomedor',\\\n",
        "                       'tv','fiestas','juegos','estacionamiento','gimnasio','nado',\\\n",
        "                       'lugares','doble','desayunador','servicio','chimenea','visita',\\\n",
        "                       'acabado','espacio','salon','alberca','garden','spa']\n",
        "Palabras_menor_precio=['minutos','acept','boiler','reja','credito','transporte'\\\n",
        "                      ,'cochera','contado','escuela','inf','fovissste','cerca',\\\n",
        "                      'bancario','protecciones','patio','infonavit']\n",
        "Palabras=Palabras_mayor_precio + Palabras_menor_precio"
      ],
      "execution_count": 0,
      "outputs": []
    },
    {
      "cell_type": "code",
      "metadata": {
        "colab_type": "code",
        "id": "4L-TA8esDzk6",
        "scrolled": true,
        "colab": {}
      },
      "source": [
        "dummies_palabras_descr=pd.DataFrame()\n",
        "#Por cada palabra en la lista genero una columna que diga si la descripcion contenia esa palabra o no\n",
        "for palabra in Palabras:\n",
        "    dummies_palabras_descr[palabra]=train['descripcion'].apply(lambda x: palabra in x).astype(np.int8)\n",
        "#Renombro estas columnas agregandoles un prefijo\n",
        "dummies_palabras_descr=dummies_palabras_descr.add_prefix('desc_')"
      ],
      "execution_count": 0,
      "outputs": []
    },
    {
      "cell_type": "code",
      "metadata": {
        "colab_type": "code",
        "id": "0Y1mvhTXDzk9",
        "scrolled": true,
        "colab": {
          "base_uri": "https://localhost:8080/",
          "height": 163
        },
        "outputId": "af3bea59-8500-45f6-f836-7ea1f3233bfe"
      },
      "source": [
        "dummies_palabras_descr.head(3)"
      ],
      "execution_count": 26,
      "outputs": [
        {
          "output_type": "execute_result",
          "data": {
            "text/html": [
              "<div>\n",
              "<style scoped>\n",
              "    .dataframe tbody tr th:only-of-type {\n",
              "        vertical-align: middle;\n",
              "    }\n",
              "\n",
              "    .dataframe tbody tr th {\n",
              "        vertical-align: top;\n",
              "    }\n",
              "\n",
              "    .dataframe thead th {\n",
              "        text-align: right;\n",
              "    }\n",
              "</style>\n",
              "<table border=\"1\" class=\"dataframe\">\n",
              "  <thead>\n",
              "    <tr style=\"text-align: right;\">\n",
              "      <th></th>\n",
              "      <th>desc_cuarto</th>\n",
              "      <th>desc_vestidor</th>\n",
              "      <th>desc_terraza</th>\n",
              "      <th>desc_family</th>\n",
              "      <th>desc_vista</th>\n",
              "      <th>desc_bodega</th>\n",
              "      <th>desc_salón</th>\n",
              "      <th>desc_estudio</th>\n",
              "      <th>desc_jardín</th>\n",
              "      <th>desc_room</th>\n",
              "      <th>desc_jacuzzi</th>\n",
              "      <th>desc_lujo</th>\n",
              "      <th>desc_antecomedor</th>\n",
              "      <th>desc_tv</th>\n",
              "      <th>desc_fiestas</th>\n",
              "      <th>desc_juegos</th>\n",
              "      <th>desc_estacionamiento</th>\n",
              "      <th>desc_gimnasio</th>\n",
              "      <th>desc_nado</th>\n",
              "      <th>desc_lugares</th>\n",
              "      <th>desc_doble</th>\n",
              "      <th>desc_desayunador</th>\n",
              "      <th>desc_servicio</th>\n",
              "      <th>desc_chimenea</th>\n",
              "      <th>desc_visita</th>\n",
              "      <th>desc_acabado</th>\n",
              "      <th>desc_espacio</th>\n",
              "      <th>desc_salon</th>\n",
              "      <th>desc_alberca</th>\n",
              "      <th>desc_garden</th>\n",
              "      <th>desc_spa</th>\n",
              "      <th>desc_minutos</th>\n",
              "      <th>desc_acept</th>\n",
              "      <th>desc_boiler</th>\n",
              "      <th>desc_reja</th>\n",
              "      <th>desc_credito</th>\n",
              "      <th>desc_transporte</th>\n",
              "      <th>desc_cochera</th>\n",
              "      <th>desc_contado</th>\n",
              "      <th>desc_escuela</th>\n",
              "      <th>desc_inf</th>\n",
              "      <th>desc_fovissste</th>\n",
              "      <th>desc_cerca</th>\n",
              "      <th>desc_bancario</th>\n",
              "      <th>desc_protecciones</th>\n",
              "      <th>desc_patio</th>\n",
              "      <th>desc_infonavit</th>\n",
              "    </tr>\n",
              "  </thead>\n",
              "  <tbody>\n",
              "    <tr>\n",
              "      <th>0</th>\n",
              "      <td>0</td>\n",
              "      <td>0</td>\n",
              "      <td>0</td>\n",
              "      <td>0</td>\n",
              "      <td>0</td>\n",
              "      <td>0</td>\n",
              "      <td>0</td>\n",
              "      <td>0</td>\n",
              "      <td>0</td>\n",
              "      <td>0</td>\n",
              "      <td>0</td>\n",
              "      <td>0</td>\n",
              "      <td>0</td>\n",
              "      <td>0</td>\n",
              "      <td>0</td>\n",
              "      <td>0</td>\n",
              "      <td>0</td>\n",
              "      <td>0</td>\n",
              "      <td>0</td>\n",
              "      <td>0</td>\n",
              "      <td>0</td>\n",
              "      <td>0</td>\n",
              "      <td>0</td>\n",
              "      <td>0</td>\n",
              "      <td>0</td>\n",
              "      <td>0</td>\n",
              "      <td>0</td>\n",
              "      <td>0</td>\n",
              "      <td>0</td>\n",
              "      <td>0</td>\n",
              "      <td>0</td>\n",
              "      <td>0</td>\n",
              "      <td>0</td>\n",
              "      <td>0</td>\n",
              "      <td>0</td>\n",
              "      <td>0</td>\n",
              "      <td>0</td>\n",
              "      <td>0</td>\n",
              "      <td>0</td>\n",
              "      <td>0</td>\n",
              "      <td>0</td>\n",
              "      <td>0</td>\n",
              "      <td>0</td>\n",
              "      <td>0</td>\n",
              "      <td>0</td>\n",
              "      <td>0</td>\n",
              "      <td>0</td>\n",
              "    </tr>\n",
              "    <tr>\n",
              "      <th>1</th>\n",
              "      <td>1</td>\n",
              "      <td>1</td>\n",
              "      <td>1</td>\n",
              "      <td>0</td>\n",
              "      <td>0</td>\n",
              "      <td>0</td>\n",
              "      <td>0</td>\n",
              "      <td>0</td>\n",
              "      <td>0</td>\n",
              "      <td>0</td>\n",
              "      <td>0</td>\n",
              "      <td>0</td>\n",
              "      <td>1</td>\n",
              "      <td>0</td>\n",
              "      <td>0</td>\n",
              "      <td>0</td>\n",
              "      <td>1</td>\n",
              "      <td>0</td>\n",
              "      <td>0</td>\n",
              "      <td>0</td>\n",
              "      <td>0</td>\n",
              "      <td>0</td>\n",
              "      <td>1</td>\n",
              "      <td>0</td>\n",
              "      <td>0</td>\n",
              "      <td>0</td>\n",
              "      <td>0</td>\n",
              "      <td>0</td>\n",
              "      <td>0</td>\n",
              "      <td>0</td>\n",
              "      <td>1</td>\n",
              "      <td>0</td>\n",
              "      <td>0</td>\n",
              "      <td>0</td>\n",
              "      <td>0</td>\n",
              "      <td>0</td>\n",
              "      <td>0</td>\n",
              "      <td>0</td>\n",
              "      <td>0</td>\n",
              "      <td>0</td>\n",
              "      <td>0</td>\n",
              "      <td>0</td>\n",
              "      <td>0</td>\n",
              "      <td>0</td>\n",
              "      <td>0</td>\n",
              "      <td>0</td>\n",
              "      <td>0</td>\n",
              "    </tr>\n",
              "    <tr>\n",
              "      <th>2</th>\n",
              "      <td>0</td>\n",
              "      <td>0</td>\n",
              "      <td>0</td>\n",
              "      <td>0</td>\n",
              "      <td>0</td>\n",
              "      <td>0</td>\n",
              "      <td>0</td>\n",
              "      <td>0</td>\n",
              "      <td>0</td>\n",
              "      <td>1</td>\n",
              "      <td>0</td>\n",
              "      <td>0</td>\n",
              "      <td>0</td>\n",
              "      <td>0</td>\n",
              "      <td>0</td>\n",
              "      <td>0</td>\n",
              "      <td>1</td>\n",
              "      <td>0</td>\n",
              "      <td>1</td>\n",
              "      <td>0</td>\n",
              "      <td>0</td>\n",
              "      <td>0</td>\n",
              "      <td>1</td>\n",
              "      <td>0</td>\n",
              "      <td>0</td>\n",
              "      <td>0</td>\n",
              "      <td>0</td>\n",
              "      <td>0</td>\n",
              "      <td>0</td>\n",
              "      <td>0</td>\n",
              "      <td>0</td>\n",
              "      <td>0</td>\n",
              "      <td>0</td>\n",
              "      <td>0</td>\n",
              "      <td>0</td>\n",
              "      <td>0</td>\n",
              "      <td>0</td>\n",
              "      <td>0</td>\n",
              "      <td>0</td>\n",
              "      <td>1</td>\n",
              "      <td>1</td>\n",
              "      <td>0</td>\n",
              "      <td>1</td>\n",
              "      <td>0</td>\n",
              "      <td>0</td>\n",
              "      <td>1</td>\n",
              "      <td>0</td>\n",
              "    </tr>\n",
              "  </tbody>\n",
              "</table>\n",
              "</div>"
            ],
            "text/plain": [
              "   desc_cuarto  desc_vestidor  ...  desc_patio  desc_infonavit\n",
              "0            0              0  ...           0               0\n",
              "1            1              1  ...           0               0\n",
              "2            0              0  ...           1               0\n",
              "\n",
              "[3 rows x 47 columns]"
            ]
          },
          "metadata": {
            "tags": []
          },
          "execution_count": 26
        }
      ]
    },
    {
      "cell_type": "code",
      "metadata": {
        "colab_type": "code",
        "id": "Hh33Qj71DzlG",
        "colab": {}
      },
      "source": [
        "dummies_palabras_descr_test=pd.DataFrame()\n",
        "#Hago lo mismo para el set de test\n",
        "for palabra in Palabras:\n",
        "    dummies_palabras_descr_test[palabra]=test['descripcion'].apply(lambda x: palabra in x).astype(np.int8)\n",
        "dummies_palabras_descr_test=dummies_palabras_descr_test.add_prefix('desc_')"
      ],
      "execution_count": 0,
      "outputs": []
    },
    {
      "cell_type": "code",
      "metadata": {
        "colab_type": "code",
        "id": "Iff0OUFqDzlJ",
        "colab": {
          "base_uri": "https://localhost:8080/",
          "height": 226
        },
        "outputId": "9d0c3460-0186-429a-fc1d-297f27bac407"
      },
      "source": [
        "dummies_palabras_descr_test.head()"
      ],
      "execution_count": 28,
      "outputs": [
        {
          "output_type": "execute_result",
          "data": {
            "text/html": [
              "<div>\n",
              "<style scoped>\n",
              "    .dataframe tbody tr th:only-of-type {\n",
              "        vertical-align: middle;\n",
              "    }\n",
              "\n",
              "    .dataframe tbody tr th {\n",
              "        vertical-align: top;\n",
              "    }\n",
              "\n",
              "    .dataframe thead th {\n",
              "        text-align: right;\n",
              "    }\n",
              "</style>\n",
              "<table border=\"1\" class=\"dataframe\">\n",
              "  <thead>\n",
              "    <tr style=\"text-align: right;\">\n",
              "      <th></th>\n",
              "      <th>desc_cuarto</th>\n",
              "      <th>desc_vestidor</th>\n",
              "      <th>desc_terraza</th>\n",
              "      <th>desc_family</th>\n",
              "      <th>desc_vista</th>\n",
              "      <th>desc_bodega</th>\n",
              "      <th>desc_salón</th>\n",
              "      <th>desc_estudio</th>\n",
              "      <th>desc_jardín</th>\n",
              "      <th>desc_room</th>\n",
              "      <th>desc_jacuzzi</th>\n",
              "      <th>desc_lujo</th>\n",
              "      <th>desc_antecomedor</th>\n",
              "      <th>desc_tv</th>\n",
              "      <th>desc_fiestas</th>\n",
              "      <th>desc_juegos</th>\n",
              "      <th>desc_estacionamiento</th>\n",
              "      <th>desc_gimnasio</th>\n",
              "      <th>desc_nado</th>\n",
              "      <th>desc_lugares</th>\n",
              "      <th>desc_doble</th>\n",
              "      <th>desc_desayunador</th>\n",
              "      <th>desc_servicio</th>\n",
              "      <th>desc_chimenea</th>\n",
              "      <th>desc_visita</th>\n",
              "      <th>desc_acabado</th>\n",
              "      <th>desc_espacio</th>\n",
              "      <th>desc_salon</th>\n",
              "      <th>desc_alberca</th>\n",
              "      <th>desc_garden</th>\n",
              "      <th>desc_spa</th>\n",
              "      <th>desc_minutos</th>\n",
              "      <th>desc_acept</th>\n",
              "      <th>desc_boiler</th>\n",
              "      <th>desc_reja</th>\n",
              "      <th>desc_credito</th>\n",
              "      <th>desc_transporte</th>\n",
              "      <th>desc_cochera</th>\n",
              "      <th>desc_contado</th>\n",
              "      <th>desc_escuela</th>\n",
              "      <th>desc_inf</th>\n",
              "      <th>desc_fovissste</th>\n",
              "      <th>desc_cerca</th>\n",
              "      <th>desc_bancario</th>\n",
              "      <th>desc_protecciones</th>\n",
              "      <th>desc_patio</th>\n",
              "      <th>desc_infonavit</th>\n",
              "    </tr>\n",
              "  </thead>\n",
              "  <tbody>\n",
              "    <tr>\n",
              "      <th>0</th>\n",
              "      <td>0</td>\n",
              "      <td>0</td>\n",
              "      <td>0</td>\n",
              "      <td>0</td>\n",
              "      <td>0</td>\n",
              "      <td>0</td>\n",
              "      <td>0</td>\n",
              "      <td>0</td>\n",
              "      <td>0</td>\n",
              "      <td>0</td>\n",
              "      <td>0</td>\n",
              "      <td>0</td>\n",
              "      <td>0</td>\n",
              "      <td>0</td>\n",
              "      <td>0</td>\n",
              "      <td>0</td>\n",
              "      <td>0</td>\n",
              "      <td>0</td>\n",
              "      <td>0</td>\n",
              "      <td>0</td>\n",
              "      <td>0</td>\n",
              "      <td>0</td>\n",
              "      <td>0</td>\n",
              "      <td>0</td>\n",
              "      <td>0</td>\n",
              "      <td>0</td>\n",
              "      <td>0</td>\n",
              "      <td>0</td>\n",
              "      <td>0</td>\n",
              "      <td>0</td>\n",
              "      <td>0</td>\n",
              "      <td>0</td>\n",
              "      <td>0</td>\n",
              "      <td>0</td>\n",
              "      <td>0</td>\n",
              "      <td>0</td>\n",
              "      <td>0</td>\n",
              "      <td>0</td>\n",
              "      <td>0</td>\n",
              "      <td>0</td>\n",
              "      <td>0</td>\n",
              "      <td>0</td>\n",
              "      <td>0</td>\n",
              "      <td>0</td>\n",
              "      <td>0</td>\n",
              "      <td>0</td>\n",
              "      <td>0</td>\n",
              "    </tr>\n",
              "    <tr>\n",
              "      <th>1</th>\n",
              "      <td>1</td>\n",
              "      <td>0</td>\n",
              "      <td>0</td>\n",
              "      <td>0</td>\n",
              "      <td>0</td>\n",
              "      <td>0</td>\n",
              "      <td>0</td>\n",
              "      <td>0</td>\n",
              "      <td>1</td>\n",
              "      <td>0</td>\n",
              "      <td>0</td>\n",
              "      <td>1</td>\n",
              "      <td>0</td>\n",
              "      <td>0</td>\n",
              "      <td>0</td>\n",
              "      <td>0</td>\n",
              "      <td>1</td>\n",
              "      <td>0</td>\n",
              "      <td>1</td>\n",
              "      <td>0</td>\n",
              "      <td>0</td>\n",
              "      <td>0</td>\n",
              "      <td>1</td>\n",
              "      <td>0</td>\n",
              "      <td>1</td>\n",
              "      <td>1</td>\n",
              "      <td>0</td>\n",
              "      <td>0</td>\n",
              "      <td>0</td>\n",
              "      <td>0</td>\n",
              "      <td>0</td>\n",
              "      <td>0</td>\n",
              "      <td>0</td>\n",
              "      <td>0</td>\n",
              "      <td>0</td>\n",
              "      <td>0</td>\n",
              "      <td>0</td>\n",
              "      <td>0</td>\n",
              "      <td>0</td>\n",
              "      <td>0</td>\n",
              "      <td>1</td>\n",
              "      <td>0</td>\n",
              "      <td>0</td>\n",
              "      <td>0</td>\n",
              "      <td>0</td>\n",
              "      <td>0</td>\n",
              "      <td>0</td>\n",
              "    </tr>\n",
              "    <tr>\n",
              "      <th>2</th>\n",
              "      <td>0</td>\n",
              "      <td>0</td>\n",
              "      <td>0</td>\n",
              "      <td>0</td>\n",
              "      <td>0</td>\n",
              "      <td>0</td>\n",
              "      <td>0</td>\n",
              "      <td>0</td>\n",
              "      <td>0</td>\n",
              "      <td>0</td>\n",
              "      <td>0</td>\n",
              "      <td>0</td>\n",
              "      <td>0</td>\n",
              "      <td>0</td>\n",
              "      <td>0</td>\n",
              "      <td>0</td>\n",
              "      <td>1</td>\n",
              "      <td>0</td>\n",
              "      <td>0</td>\n",
              "      <td>0</td>\n",
              "      <td>0</td>\n",
              "      <td>0</td>\n",
              "      <td>0</td>\n",
              "      <td>0</td>\n",
              "      <td>0</td>\n",
              "      <td>1</td>\n",
              "      <td>0</td>\n",
              "      <td>0</td>\n",
              "      <td>0</td>\n",
              "      <td>0</td>\n",
              "      <td>0</td>\n",
              "      <td>0</td>\n",
              "      <td>1</td>\n",
              "      <td>0</td>\n",
              "      <td>0</td>\n",
              "      <td>0</td>\n",
              "      <td>0</td>\n",
              "      <td>0</td>\n",
              "      <td>0</td>\n",
              "      <td>0</td>\n",
              "      <td>1</td>\n",
              "      <td>1</td>\n",
              "      <td>0</td>\n",
              "      <td>0</td>\n",
              "      <td>0</td>\n",
              "      <td>0</td>\n",
              "      <td>0</td>\n",
              "    </tr>\n",
              "    <tr>\n",
              "      <th>3</th>\n",
              "      <td>0</td>\n",
              "      <td>0</td>\n",
              "      <td>0</td>\n",
              "      <td>0</td>\n",
              "      <td>0</td>\n",
              "      <td>0</td>\n",
              "      <td>0</td>\n",
              "      <td>0</td>\n",
              "      <td>0</td>\n",
              "      <td>0</td>\n",
              "      <td>0</td>\n",
              "      <td>0</td>\n",
              "      <td>0</td>\n",
              "      <td>0</td>\n",
              "      <td>0</td>\n",
              "      <td>0</td>\n",
              "      <td>0</td>\n",
              "      <td>0</td>\n",
              "      <td>1</td>\n",
              "      <td>0</td>\n",
              "      <td>0</td>\n",
              "      <td>0</td>\n",
              "      <td>0</td>\n",
              "      <td>0</td>\n",
              "      <td>0</td>\n",
              "      <td>0</td>\n",
              "      <td>0</td>\n",
              "      <td>0</td>\n",
              "      <td>1</td>\n",
              "      <td>0</td>\n",
              "      <td>0</td>\n",
              "      <td>0</td>\n",
              "      <td>0</td>\n",
              "      <td>0</td>\n",
              "      <td>0</td>\n",
              "      <td>0</td>\n",
              "      <td>0</td>\n",
              "      <td>0</td>\n",
              "      <td>0</td>\n",
              "      <td>0</td>\n",
              "      <td>0</td>\n",
              "      <td>0</td>\n",
              "      <td>1</td>\n",
              "      <td>0</td>\n",
              "      <td>0</td>\n",
              "      <td>0</td>\n",
              "      <td>0</td>\n",
              "    </tr>\n",
              "    <tr>\n",
              "      <th>4</th>\n",
              "      <td>0</td>\n",
              "      <td>0</td>\n",
              "      <td>0</td>\n",
              "      <td>0</td>\n",
              "      <td>0</td>\n",
              "      <td>0</td>\n",
              "      <td>0</td>\n",
              "      <td>0</td>\n",
              "      <td>0</td>\n",
              "      <td>0</td>\n",
              "      <td>0</td>\n",
              "      <td>0</td>\n",
              "      <td>0</td>\n",
              "      <td>0</td>\n",
              "      <td>0</td>\n",
              "      <td>0</td>\n",
              "      <td>1</td>\n",
              "      <td>0</td>\n",
              "      <td>0</td>\n",
              "      <td>0</td>\n",
              "      <td>0</td>\n",
              "      <td>0</td>\n",
              "      <td>1</td>\n",
              "      <td>0</td>\n",
              "      <td>1</td>\n",
              "      <td>0</td>\n",
              "      <td>0</td>\n",
              "      <td>0</td>\n",
              "      <td>0</td>\n",
              "      <td>0</td>\n",
              "      <td>0</td>\n",
              "      <td>0</td>\n",
              "      <td>0</td>\n",
              "      <td>0</td>\n",
              "      <td>0</td>\n",
              "      <td>0</td>\n",
              "      <td>0</td>\n",
              "      <td>0</td>\n",
              "      <td>0</td>\n",
              "      <td>1</td>\n",
              "      <td>0</td>\n",
              "      <td>0</td>\n",
              "      <td>0</td>\n",
              "      <td>0</td>\n",
              "      <td>0</td>\n",
              "      <td>1</td>\n",
              "      <td>0</td>\n",
              "    </tr>\n",
              "  </tbody>\n",
              "</table>\n",
              "</div>"
            ],
            "text/plain": [
              "   desc_cuarto  desc_vestidor  ...  desc_patio  desc_infonavit\n",
              "0            0              0  ...           0               0\n",
              "1            1              0  ...           0               0\n",
              "2            0              0  ...           0               0\n",
              "3            0              0  ...           0               0\n",
              "4            0              0  ...           1               0\n",
              "\n",
              "[5 rows x 47 columns]"
            ]
          },
          "metadata": {
            "tags": []
          },
          "execution_count": 28
        }
      ]
    },
    {
      "cell_type": "markdown",
      "metadata": {
        "colab_type": "text",
        "id": "AdvNLkleEF31"
      },
      "source": [
        "## Features titulo"
      ]
    },
    {
      "cell_type": "markdown",
      "metadata": {
        "colab_type": "text",
        "id": "VLAKrQLSGGEm"
      },
      "source": [
        "Mismo procedimiento anterior pero para palabras que encontramos correlacionadas a mayor o menor precio en 'titulo'"
      ]
    },
    {
      "cell_type": "code",
      "metadata": {
        "colab_type": "code",
        "id": "DOu14SkTEF4B",
        "colab": {}
      },
      "source": [
        "#Paso todas los titulos a minúscula para contar las palabras con mas precision\n",
        "train['titulo']=train['titulo'].apply(lambda x: x.lower())"
      ],
      "execution_count": 0,
      "outputs": []
    },
    {
      "cell_type": "code",
      "metadata": {
        "colab_type": "code",
        "id": "R0_0OZhBEF4N",
        "colab": {}
      },
      "source": [
        "Palabras_mayor_precio=['polanco','loma','herradura','condesa','bosque','country',\\\n",
        "                       'hermosa','vista','residencia','condominio','golf','lujo','huixquilucan',\\\n",
        "                      ]\n",
        "Palabras_menor_precio=['terreno','fracc','casa','villa','remate','recamaras'\\\n",
        "                      ,'ecatepec','cerca','coacalco','izcalli','planta','lote',\\\n",
        "                      'bonita','cautitlan']\n",
        "Palabras=Palabras_mayor_precio + Palabras_menor_precio"
      ],
      "execution_count": 0,
      "outputs": []
    },
    {
      "cell_type": "code",
      "metadata": {
        "colab_type": "code",
        "id": "u3rsiqymEF4Y",
        "scrolled": true,
        "colab": {}
      },
      "source": [
        "dummies_palabras_titulo=pd.DataFrame()\n",
        "#Por cada palabra en la lista genero una columna que diga si la descripcion contenia esa palabra o no\n",
        "for palabra in Palabras:\n",
        "    dummies_palabras_titulo[palabra]=train['titulo'].apply(lambda x: palabra in x).astype(np.int8)\n",
        "#Renombro estas columnas agregandoles un prefijo\n",
        "dummies_palabras_titulo=dummies_palabras_titulo.add_prefix('titl_')"
      ],
      "execution_count": 0,
      "outputs": []
    },
    {
      "cell_type": "code",
      "metadata": {
        "colab_type": "code",
        "id": "ByUKaHv2EF4c",
        "scrolled": true,
        "colab": {
          "base_uri": "https://localhost:8080/",
          "height": 163
        },
        "outputId": "af1d661a-da80-4f83-c538-2238131da639"
      },
      "source": [
        "dummies_palabras_titulo.head(3)"
      ],
      "execution_count": 32,
      "outputs": [
        {
          "output_type": "execute_result",
          "data": {
            "text/html": [
              "<div>\n",
              "<style scoped>\n",
              "    .dataframe tbody tr th:only-of-type {\n",
              "        vertical-align: middle;\n",
              "    }\n",
              "\n",
              "    .dataframe tbody tr th {\n",
              "        vertical-align: top;\n",
              "    }\n",
              "\n",
              "    .dataframe thead th {\n",
              "        text-align: right;\n",
              "    }\n",
              "</style>\n",
              "<table border=\"1\" class=\"dataframe\">\n",
              "  <thead>\n",
              "    <tr style=\"text-align: right;\">\n",
              "      <th></th>\n",
              "      <th>titl_polanco</th>\n",
              "      <th>titl_loma</th>\n",
              "      <th>titl_herradura</th>\n",
              "      <th>titl_condesa</th>\n",
              "      <th>titl_bosque</th>\n",
              "      <th>titl_country</th>\n",
              "      <th>titl_hermosa</th>\n",
              "      <th>titl_vista</th>\n",
              "      <th>titl_residencia</th>\n",
              "      <th>titl_condominio</th>\n",
              "      <th>titl_golf</th>\n",
              "      <th>titl_lujo</th>\n",
              "      <th>titl_huixquilucan</th>\n",
              "      <th>titl_terreno</th>\n",
              "      <th>titl_fracc</th>\n",
              "      <th>titl_casa</th>\n",
              "      <th>titl_villa</th>\n",
              "      <th>titl_remate</th>\n",
              "      <th>titl_recamaras</th>\n",
              "      <th>titl_ecatepec</th>\n",
              "      <th>titl_cerca</th>\n",
              "      <th>titl_coacalco</th>\n",
              "      <th>titl_izcalli</th>\n",
              "      <th>titl_planta</th>\n",
              "      <th>titl_lote</th>\n",
              "      <th>titl_bonita</th>\n",
              "      <th>titl_cautitlan</th>\n",
              "    </tr>\n",
              "  </thead>\n",
              "  <tbody>\n",
              "    <tr>\n",
              "      <th>0</th>\n",
              "      <td>0</td>\n",
              "      <td>0</td>\n",
              "      <td>0</td>\n",
              "      <td>0</td>\n",
              "      <td>0</td>\n",
              "      <td>0</td>\n",
              "      <td>0</td>\n",
              "      <td>0</td>\n",
              "      <td>0</td>\n",
              "      <td>0</td>\n",
              "      <td>0</td>\n",
              "      <td>0</td>\n",
              "      <td>0</td>\n",
              "      <td>0</td>\n",
              "      <td>0</td>\n",
              "      <td>0</td>\n",
              "      <td>0</td>\n",
              "      <td>0</td>\n",
              "      <td>0</td>\n",
              "      <td>0</td>\n",
              "      <td>0</td>\n",
              "      <td>0</td>\n",
              "      <td>0</td>\n",
              "      <td>0</td>\n",
              "      <td>0</td>\n",
              "      <td>0</td>\n",
              "      <td>0</td>\n",
              "    </tr>\n",
              "    <tr>\n",
              "      <th>1</th>\n",
              "      <td>0</td>\n",
              "      <td>0</td>\n",
              "      <td>0</td>\n",
              "      <td>0</td>\n",
              "      <td>0</td>\n",
              "      <td>0</td>\n",
              "      <td>0</td>\n",
              "      <td>0</td>\n",
              "      <td>0</td>\n",
              "      <td>1</td>\n",
              "      <td>0</td>\n",
              "      <td>0</td>\n",
              "      <td>0</td>\n",
              "      <td>0</td>\n",
              "      <td>0</td>\n",
              "      <td>0</td>\n",
              "      <td>0</td>\n",
              "      <td>0</td>\n",
              "      <td>0</td>\n",
              "      <td>0</td>\n",
              "      <td>0</td>\n",
              "      <td>0</td>\n",
              "      <td>0</td>\n",
              "      <td>0</td>\n",
              "      <td>0</td>\n",
              "      <td>0</td>\n",
              "      <td>0</td>\n",
              "    </tr>\n",
              "    <tr>\n",
              "      <th>2</th>\n",
              "      <td>0</td>\n",
              "      <td>0</td>\n",
              "      <td>0</td>\n",
              "      <td>0</td>\n",
              "      <td>0</td>\n",
              "      <td>0</td>\n",
              "      <td>0</td>\n",
              "      <td>0</td>\n",
              "      <td>0</td>\n",
              "      <td>0</td>\n",
              "      <td>0</td>\n",
              "      <td>0</td>\n",
              "      <td>0</td>\n",
              "      <td>0</td>\n",
              "      <td>0</td>\n",
              "      <td>1</td>\n",
              "      <td>0</td>\n",
              "      <td>0</td>\n",
              "      <td>1</td>\n",
              "      <td>0</td>\n",
              "      <td>0</td>\n",
              "      <td>0</td>\n",
              "      <td>0</td>\n",
              "      <td>0</td>\n",
              "      <td>0</td>\n",
              "      <td>0</td>\n",
              "      <td>0</td>\n",
              "    </tr>\n",
              "  </tbody>\n",
              "</table>\n",
              "</div>"
            ],
            "text/plain": [
              "   titl_polanco  titl_loma  ...  titl_bonita  titl_cautitlan\n",
              "0             0          0  ...            0               0\n",
              "1             0          0  ...            0               0\n",
              "2             0          0  ...            0               0\n",
              "\n",
              "[3 rows x 27 columns]"
            ]
          },
          "metadata": {
            "tags": []
          },
          "execution_count": 32
        }
      ]
    },
    {
      "cell_type": "code",
      "metadata": {
        "colab_type": "code",
        "id": "nw38p6uYEF4h",
        "colab": {}
      },
      "source": [
        "dummies_palabras_titulo_test=pd.DataFrame()\n",
        "#Hago lo mismo para el set de test\n",
        "for palabra in Palabras:\n",
        "    dummies_palabras_titulo_test[palabra]=test['titulo'].apply(lambda x: palabra in x).astype(np.int8)\n",
        "dummies_palabras_titulo_test=dummies_palabras_titulo_test.add_prefix('titl_')"
      ],
      "execution_count": 0,
      "outputs": []
    },
    {
      "cell_type": "code",
      "metadata": {
        "colab_type": "code",
        "id": "jjo0lBtnEF4k",
        "colab": {
          "base_uri": "https://localhost:8080/",
          "height": 163
        },
        "outputId": "092d49f4-4b22-4141-d9ce-ba2d1201c108"
      },
      "source": [
        "dummies_palabras_titulo_test.head(3)"
      ],
      "execution_count": 34,
      "outputs": [
        {
          "output_type": "execute_result",
          "data": {
            "text/html": [
              "<div>\n",
              "<style scoped>\n",
              "    .dataframe tbody tr th:only-of-type {\n",
              "        vertical-align: middle;\n",
              "    }\n",
              "\n",
              "    .dataframe tbody tr th {\n",
              "        vertical-align: top;\n",
              "    }\n",
              "\n",
              "    .dataframe thead th {\n",
              "        text-align: right;\n",
              "    }\n",
              "</style>\n",
              "<table border=\"1\" class=\"dataframe\">\n",
              "  <thead>\n",
              "    <tr style=\"text-align: right;\">\n",
              "      <th></th>\n",
              "      <th>titl_polanco</th>\n",
              "      <th>titl_loma</th>\n",
              "      <th>titl_herradura</th>\n",
              "      <th>titl_condesa</th>\n",
              "      <th>titl_bosque</th>\n",
              "      <th>titl_country</th>\n",
              "      <th>titl_hermosa</th>\n",
              "      <th>titl_vista</th>\n",
              "      <th>titl_residencia</th>\n",
              "      <th>titl_condominio</th>\n",
              "      <th>titl_golf</th>\n",
              "      <th>titl_lujo</th>\n",
              "      <th>titl_huixquilucan</th>\n",
              "      <th>titl_terreno</th>\n",
              "      <th>titl_fracc</th>\n",
              "      <th>titl_casa</th>\n",
              "      <th>titl_villa</th>\n",
              "      <th>titl_remate</th>\n",
              "      <th>titl_recamaras</th>\n",
              "      <th>titl_ecatepec</th>\n",
              "      <th>titl_cerca</th>\n",
              "      <th>titl_coacalco</th>\n",
              "      <th>titl_izcalli</th>\n",
              "      <th>titl_planta</th>\n",
              "      <th>titl_lote</th>\n",
              "      <th>titl_bonita</th>\n",
              "      <th>titl_cautitlan</th>\n",
              "    </tr>\n",
              "  </thead>\n",
              "  <tbody>\n",
              "    <tr>\n",
              "      <th>0</th>\n",
              "      <td>0</td>\n",
              "      <td>0</td>\n",
              "      <td>0</td>\n",
              "      <td>0</td>\n",
              "      <td>0</td>\n",
              "      <td>0</td>\n",
              "      <td>0</td>\n",
              "      <td>0</td>\n",
              "      <td>0</td>\n",
              "      <td>0</td>\n",
              "      <td>0</td>\n",
              "      <td>0</td>\n",
              "      <td>0</td>\n",
              "      <td>0</td>\n",
              "      <td>0</td>\n",
              "      <td>1</td>\n",
              "      <td>0</td>\n",
              "      <td>0</td>\n",
              "      <td>0</td>\n",
              "      <td>0</td>\n",
              "      <td>0</td>\n",
              "      <td>0</td>\n",
              "      <td>0</td>\n",
              "      <td>0</td>\n",
              "      <td>0</td>\n",
              "      <td>0</td>\n",
              "      <td>0</td>\n",
              "    </tr>\n",
              "    <tr>\n",
              "      <th>1</th>\n",
              "      <td>0</td>\n",
              "      <td>0</td>\n",
              "      <td>0</td>\n",
              "      <td>0</td>\n",
              "      <td>0</td>\n",
              "      <td>0</td>\n",
              "      <td>0</td>\n",
              "      <td>0</td>\n",
              "      <td>0</td>\n",
              "      <td>0</td>\n",
              "      <td>0</td>\n",
              "      <td>0</td>\n",
              "      <td>0</td>\n",
              "      <td>0</td>\n",
              "      <td>0</td>\n",
              "      <td>0</td>\n",
              "      <td>0</td>\n",
              "      <td>0</td>\n",
              "      <td>0</td>\n",
              "      <td>0</td>\n",
              "      <td>0</td>\n",
              "      <td>0</td>\n",
              "      <td>0</td>\n",
              "      <td>0</td>\n",
              "      <td>0</td>\n",
              "      <td>0</td>\n",
              "      <td>0</td>\n",
              "    </tr>\n",
              "    <tr>\n",
              "      <th>2</th>\n",
              "      <td>0</td>\n",
              "      <td>0</td>\n",
              "      <td>0</td>\n",
              "      <td>0</td>\n",
              "      <td>0</td>\n",
              "      <td>0</td>\n",
              "      <td>0</td>\n",
              "      <td>0</td>\n",
              "      <td>0</td>\n",
              "      <td>0</td>\n",
              "      <td>0</td>\n",
              "      <td>0</td>\n",
              "      <td>0</td>\n",
              "      <td>0</td>\n",
              "      <td>0</td>\n",
              "      <td>0</td>\n",
              "      <td>0</td>\n",
              "      <td>0</td>\n",
              "      <td>0</td>\n",
              "      <td>0</td>\n",
              "      <td>0</td>\n",
              "      <td>0</td>\n",
              "      <td>0</td>\n",
              "      <td>0</td>\n",
              "      <td>0</td>\n",
              "      <td>0</td>\n",
              "      <td>0</td>\n",
              "    </tr>\n",
              "  </tbody>\n",
              "</table>\n",
              "</div>"
            ],
            "text/plain": [
              "   titl_polanco  titl_loma  ...  titl_bonita  titl_cautitlan\n",
              "0             0          0  ...            0               0\n",
              "1             0          0  ...            0               0\n",
              "2             0          0  ...            0               0\n",
              "\n",
              "[3 rows x 27 columns]"
            ]
          },
          "metadata": {
            "tags": []
          },
          "execution_count": 34
        }
      ]
    },
    {
      "cell_type": "markdown",
      "metadata": {
        "colab_type": "text",
        "id": "5A9K-a0m8mGT"
      },
      "source": [
        "## Agrego más features basados en las fechas"
      ]
    },
    {
      "cell_type": "code",
      "metadata": {
        "colab_type": "code",
        "id": "IiBLh4eY8mGT",
        "colab": {
          "base_uri": "https://localhost:8080/",
          "height": 539
        },
        "outputId": "342f67d3-c71e-40dc-cccb-44089b65cd82"
      },
      "source": [
        "train['dia'] = train['fecha'].dt.day\n",
        "train['mes'] = train['fecha'].dt.month\n",
        "train['año'] = train['fecha'].dt.year\n",
        "train.head()"
      ],
      "execution_count": 35,
      "outputs": [
        {
          "output_type": "execute_result",
          "data": {
            "text/html": [
              "<div>\n",
              "<style scoped>\n",
              "    .dataframe tbody tr th:only-of-type {\n",
              "        vertical-align: middle;\n",
              "    }\n",
              "\n",
              "    .dataframe tbody tr th {\n",
              "        vertical-align: top;\n",
              "    }\n",
              "\n",
              "    .dataframe thead th {\n",
              "        text-align: right;\n",
              "    }\n",
              "</style>\n",
              "<table border=\"1\" class=\"dataframe\">\n",
              "  <thead>\n",
              "    <tr style=\"text-align: right;\">\n",
              "      <th></th>\n",
              "      <th>id</th>\n",
              "      <th>titulo</th>\n",
              "      <th>descripcion</th>\n",
              "      <th>tipodepropiedad</th>\n",
              "      <th>direccion</th>\n",
              "      <th>ciudad</th>\n",
              "      <th>provincia</th>\n",
              "      <th>antiguedad</th>\n",
              "      <th>habitaciones</th>\n",
              "      <th>garages</th>\n",
              "      <th>banos</th>\n",
              "      <th>metroscubiertos</th>\n",
              "      <th>metrostotales</th>\n",
              "      <th>idzona</th>\n",
              "      <th>lat</th>\n",
              "      <th>lng</th>\n",
              "      <th>fecha</th>\n",
              "      <th>gimnasio</th>\n",
              "      <th>usosmultiples</th>\n",
              "      <th>piscina</th>\n",
              "      <th>escuelascercanas</th>\n",
              "      <th>centroscomercialescercanos</th>\n",
              "      <th>precio</th>\n",
              "      <th>puntaje_por_fecha</th>\n",
              "      <th>dia</th>\n",
              "      <th>mes</th>\n",
              "      <th>año</th>\n",
              "    </tr>\n",
              "  </thead>\n",
              "  <tbody>\n",
              "    <tr>\n",
              "      <th>0</th>\n",
              "      <td>254099</td>\n",
              "      <td>depto. tipo a-402</td>\n",
              "      <td>depto. interior de 80.15m2, consta de sala com...</td>\n",
              "      <td>Apartamento</td>\n",
              "      <td>Avenida Division del Norte 2005</td>\n",
              "      <td>Benito Juárez</td>\n",
              "      <td>Distrito Federal</td>\n",
              "      <td>8</td>\n",
              "      <td>2</td>\n",
              "      <td>1</td>\n",
              "      <td>2</td>\n",
              "      <td>80</td>\n",
              "      <td>80</td>\n",
              "      <td>23533.0</td>\n",
              "      <td>20.696818</td>\n",
              "      <td>-99.509221</td>\n",
              "      <td>2015-08-23</td>\n",
              "      <td>0</td>\n",
              "      <td>0</td>\n",
              "      <td>0</td>\n",
              "      <td>0</td>\n",
              "      <td>0</td>\n",
              "      <td>2273000</td>\n",
              "      <td>0.728368</td>\n",
              "      <td>23</td>\n",
              "      <td>8</td>\n",
              "      <td>2015</td>\n",
              "    </tr>\n",
              "    <tr>\n",
              "      <th>1</th>\n",
              "      <td>53461</td>\n",
              "      <td>condominio horizontal en venta</td>\n",
              "      <td>&lt;p&gt;entre sonora y guerrero, atr&amp;aacute;s del h...</td>\n",
              "      <td>Casa en condominio</td>\n",
              "      <td>AV. MEXICO</td>\n",
              "      <td>La Magdalena Contreras</td>\n",
              "      <td>Distrito Federal</td>\n",
              "      <td>10</td>\n",
              "      <td>3</td>\n",
              "      <td>2</td>\n",
              "      <td>2</td>\n",
              "      <td>268</td>\n",
              "      <td>180</td>\n",
              "      <td>24514.0</td>\n",
              "      <td>19.310205</td>\n",
              "      <td>-99.227655</td>\n",
              "      <td>2013-06-28</td>\n",
              "      <td>0</td>\n",
              "      <td>0</td>\n",
              "      <td>0</td>\n",
              "      <td>1</td>\n",
              "      <td>1</td>\n",
              "      <td>3600000</td>\n",
              "      <td>0.297919</td>\n",
              "      <td>28</td>\n",
              "      <td>6</td>\n",
              "      <td>2013</td>\n",
              "    </tr>\n",
              "    <tr>\n",
              "      <th>2</th>\n",
              "      <td>247984</td>\n",
              "      <td>casa en venta urbi 3 recamaras tonala</td>\n",
              "      <td>descripcion \\nla mejor ubicacion residencial e...</td>\n",
              "      <td>Casa</td>\n",
              "      <td>Urbi Tonala</td>\n",
              "      <td>Tonalá</td>\n",
              "      <td>Jalisco</td>\n",
              "      <td>5</td>\n",
              "      <td>3</td>\n",
              "      <td>2</td>\n",
              "      <td>2</td>\n",
              "      <td>144</td>\n",
              "      <td>166</td>\n",
              "      <td>48551.0</td>\n",
              "      <td>20.696818</td>\n",
              "      <td>-99.509221</td>\n",
              "      <td>2015-10-17</td>\n",
              "      <td>0</td>\n",
              "      <td>0</td>\n",
              "      <td>0</td>\n",
              "      <td>0</td>\n",
              "      <td>0</td>\n",
              "      <td>1200000</td>\n",
              "      <td>0.758488</td>\n",
              "      <td>17</td>\n",
              "      <td>10</td>\n",
              "      <td>2015</td>\n",
              "    </tr>\n",
              "    <tr>\n",
              "      <th>3</th>\n",
              "      <td>209067</td>\n",
              "      <td>casa sola en toluca zinacantepec con credito i...</td>\n",
              "      <td>casa en privada con caseta de vigilancia casas...</td>\n",
              "      <td>Casa</td>\n",
              "      <td>IGNACIO MANUEL ALTAMIRANO 128</td>\n",
              "      <td>Zinacantepec</td>\n",
              "      <td>Edo. de México</td>\n",
              "      <td>1</td>\n",
              "      <td>2</td>\n",
              "      <td>1</td>\n",
              "      <td>1</td>\n",
              "      <td>63</td>\n",
              "      <td>67</td>\n",
              "      <td>53666.0</td>\n",
              "      <td>19.301890</td>\n",
              "      <td>-99.688015</td>\n",
              "      <td>2012-03-09</td>\n",
              "      <td>0</td>\n",
              "      <td>0</td>\n",
              "      <td>0</td>\n",
              "      <td>1</td>\n",
              "      <td>1</td>\n",
              "      <td>650000</td>\n",
              "      <td>0.037240</td>\n",
              "      <td>9</td>\n",
              "      <td>3</td>\n",
              "      <td>2012</td>\n",
              "    </tr>\n",
              "    <tr>\n",
              "      <th>4</th>\n",
              "      <td>185997</td>\n",
              "      <td>paseos del sol</td>\n",
              "      <td>bonito departamento en excelentes condiciones ...</td>\n",
              "      <td>Apartamento</td>\n",
              "      <td>PASEOS DEL SOL</td>\n",
              "      <td>Zapopan</td>\n",
              "      <td>Jalisco</td>\n",
              "      <td>10</td>\n",
              "      <td>2</td>\n",
              "      <td>1</td>\n",
              "      <td>1</td>\n",
              "      <td>95</td>\n",
              "      <td>95</td>\n",
              "      <td>47835.0</td>\n",
              "      <td>20.696818</td>\n",
              "      <td>-99.509221</td>\n",
              "      <td>2016-06-07</td>\n",
              "      <td>0</td>\n",
              "      <td>0</td>\n",
              "      <td>0</td>\n",
              "      <td>0</td>\n",
              "      <td>0</td>\n",
              "      <td>1150000</td>\n",
              "      <td>0.886637</td>\n",
              "      <td>7</td>\n",
              "      <td>6</td>\n",
              "      <td>2016</td>\n",
              "    </tr>\n",
              "  </tbody>\n",
              "</table>\n",
              "</div>"
            ],
            "text/plain": [
              "       id                                             titulo  ... mes   año\n",
              "0  254099                                  depto. tipo a-402  ...   8  2015\n",
              "1   53461                     condominio horizontal en venta  ...   6  2013\n",
              "2  247984              casa en venta urbi 3 recamaras tonala  ...  10  2015\n",
              "3  209067  casa sola en toluca zinacantepec con credito i...  ...   3  2012\n",
              "4  185997                                     paseos del sol  ...   6  2016\n",
              "\n",
              "[5 rows x 27 columns]"
            ]
          },
          "metadata": {
            "tags": []
          },
          "execution_count": 35
        }
      ]
    },
    {
      "cell_type": "code",
      "metadata": {
        "colab_type": "code",
        "id": "GVUTFQcN8mGX",
        "colab": {
          "base_uri": "https://localhost:8080/",
          "height": 504
        },
        "outputId": "fb9d1cd2-8229-459a-c1bd-b6ed57d769fb"
      },
      "source": [
        "test['dia'] = test['fecha'].dt.day\n",
        "test['mes'] = test['fecha'].dt.month\n",
        "test['año'] = test['fecha'].dt.year\n",
        "test.head()"
      ],
      "execution_count": 36,
      "outputs": [
        {
          "output_type": "execute_result",
          "data": {
            "text/html": [
              "<div>\n",
              "<style scoped>\n",
              "    .dataframe tbody tr th:only-of-type {\n",
              "        vertical-align: middle;\n",
              "    }\n",
              "\n",
              "    .dataframe tbody tr th {\n",
              "        vertical-align: top;\n",
              "    }\n",
              "\n",
              "    .dataframe thead th {\n",
              "        text-align: right;\n",
              "    }\n",
              "</style>\n",
              "<table border=\"1\" class=\"dataframe\">\n",
              "  <thead>\n",
              "    <tr style=\"text-align: right;\">\n",
              "      <th></th>\n",
              "      <th>id</th>\n",
              "      <th>titulo</th>\n",
              "      <th>descripcion</th>\n",
              "      <th>tipodepropiedad</th>\n",
              "      <th>direccion</th>\n",
              "      <th>ciudad</th>\n",
              "      <th>provincia</th>\n",
              "      <th>antiguedad</th>\n",
              "      <th>habitaciones</th>\n",
              "      <th>garages</th>\n",
              "      <th>banos</th>\n",
              "      <th>metroscubiertos</th>\n",
              "      <th>metrostotales</th>\n",
              "      <th>idzona</th>\n",
              "      <th>lat</th>\n",
              "      <th>lng</th>\n",
              "      <th>fecha</th>\n",
              "      <th>gimnasio</th>\n",
              "      <th>usosmultiples</th>\n",
              "      <th>piscina</th>\n",
              "      <th>escuelascercanas</th>\n",
              "      <th>centroscomercialescercanos</th>\n",
              "      <th>puntaje_por_fecha</th>\n",
              "      <th>dia</th>\n",
              "      <th>mes</th>\n",
              "      <th>año</th>\n",
              "    </tr>\n",
              "  </thead>\n",
              "  <tbody>\n",
              "    <tr>\n",
              "      <th>0</th>\n",
              "      <td>4941</td>\n",
              "      <td>casa en venta en miguel hidalgo, distrito federal</td>\n",
              "      <td>&lt;p&gt;excelente casa estilo moderno.&lt;/p&gt;</td>\n",
              "      <td>Casa</td>\n",
              "      <td>Bosque de Cedros</td>\n",
              "      <td>Miguel Hidalgo</td>\n",
              "      <td>Distrito Federal</td>\n",
              "      <td>29</td>\n",
              "      <td>3</td>\n",
              "      <td>2</td>\n",
              "      <td>4</td>\n",
              "      <td>300</td>\n",
              "      <td>177</td>\n",
              "      <td>0.0</td>\n",
              "      <td>19.408668</td>\n",
              "      <td>-99.246767</td>\n",
              "      <td>2013-07-20</td>\n",
              "      <td>0</td>\n",
              "      <td>0</td>\n",
              "      <td>0</td>\n",
              "      <td>0</td>\n",
              "      <td>0</td>\n",
              "      <td>0.309967</td>\n",
              "      <td>20</td>\n",
              "      <td>7</td>\n",
              "      <td>2013</td>\n",
              "    </tr>\n",
              "    <tr>\n",
              "      <th>1</th>\n",
              "      <td>51775</td>\n",
              "      <td>departamentos en venta en montebello</td>\n",
              "      <td>&lt;p&gt;departamento una recamara:\\n&lt;/p&gt;&lt;p&gt;departam...</td>\n",
              "      <td>Apartamento</td>\n",
              "      <td>-</td>\n",
              "      <td>Mérida</td>\n",
              "      <td>Yucatán</td>\n",
              "      <td>8</td>\n",
              "      <td>1</td>\n",
              "      <td>1</td>\n",
              "      <td>1</td>\n",
              "      <td>67</td>\n",
              "      <td>67</td>\n",
              "      <td>113851.0</td>\n",
              "      <td>21.032480</td>\n",
              "      <td>-89.592424</td>\n",
              "      <td>2015-10-24</td>\n",
              "      <td>0</td>\n",
              "      <td>0</td>\n",
              "      <td>0</td>\n",
              "      <td>0</td>\n",
              "      <td>0</td>\n",
              "      <td>0.762322</td>\n",
              "      <td>24</td>\n",
              "      <td>10</td>\n",
              "      <td>2015</td>\n",
              "    </tr>\n",
              "    <tr>\n",
              "      <th>2</th>\n",
              "      <td>115253</td>\n",
              "      <td>departamento nuevo delegación coyoacán de 87 m...</td>\n",
              "      <td>departamento nuevo de 87.06 m2, 1 cajón de est...</td>\n",
              "      <td>Apartamento</td>\n",
              "      <td>Pueblo de los Reyes, Coyoacán, Mexico D.F.</td>\n",
              "      <td>Coyoacán</td>\n",
              "      <td>Distrito Federal</td>\n",
              "      <td>0</td>\n",
              "      <td>2</td>\n",
              "      <td>1</td>\n",
              "      <td>2</td>\n",
              "      <td>87</td>\n",
              "      <td>100</td>\n",
              "      <td>23620.0</td>\n",
              "      <td>19.332829</td>\n",
              "      <td>-99.152913</td>\n",
              "      <td>2015-05-30</td>\n",
              "      <td>0</td>\n",
              "      <td>0</td>\n",
              "      <td>0</td>\n",
              "      <td>0</td>\n",
              "      <td>1</td>\n",
              "      <td>0.681818</td>\n",
              "      <td>30</td>\n",
              "      <td>5</td>\n",
              "      <td>2015</td>\n",
              "    </tr>\n",
              "    <tr>\n",
              "      <th>3</th>\n",
              "      <td>299321</td>\n",
              "      <td>departamento en venta en acapulco</td>\n",
              "      <td>&lt;p&gt;  raíces dv001 precioso departamento tipo k...</td>\n",
              "      <td>Apartamento</td>\n",
              "      <td>-</td>\n",
              "      <td>Acapulco de Juárez</td>\n",
              "      <td>Guerrero</td>\n",
              "      <td>2</td>\n",
              "      <td>2</td>\n",
              "      <td>2</td>\n",
              "      <td>2</td>\n",
              "      <td>86</td>\n",
              "      <td>86</td>\n",
              "      <td>129347.0</td>\n",
              "      <td>16.860487</td>\n",
              "      <td>-99.878383</td>\n",
              "      <td>2015-04-02</td>\n",
              "      <td>0</td>\n",
              "      <td>0</td>\n",
              "      <td>0</td>\n",
              "      <td>0</td>\n",
              "      <td>0</td>\n",
              "      <td>0.650055</td>\n",
              "      <td>2</td>\n",
              "      <td>4</td>\n",
              "      <td>2015</td>\n",
              "    </tr>\n",
              "    <tr>\n",
              "      <th>4</th>\n",
              "      <td>173570</td>\n",
              "      <td>bonita casa sola equipada de dos niveles en lo...</td>\n",
              "      <td>&lt;p&gt;casa sola, bonita de dos rec&amp;aacute;maras u...</td>\n",
              "      <td>Casa</td>\n",
              "      <td>CEDROS</td>\n",
              "      <td>Tultitlán</td>\n",
              "      <td>Edo. de México</td>\n",
              "      <td>10</td>\n",
              "      <td>2</td>\n",
              "      <td>1</td>\n",
              "      <td>1</td>\n",
              "      <td>80</td>\n",
              "      <td>76</td>\n",
              "      <td>57125.0</td>\n",
              "      <td>19.640482</td>\n",
              "      <td>-99.127273</td>\n",
              "      <td>2013-08-15</td>\n",
              "      <td>0</td>\n",
              "      <td>0</td>\n",
              "      <td>0</td>\n",
              "      <td>1</td>\n",
              "      <td>1</td>\n",
              "      <td>0.324206</td>\n",
              "      <td>15</td>\n",
              "      <td>8</td>\n",
              "      <td>2013</td>\n",
              "    </tr>\n",
              "  </tbody>\n",
              "</table>\n",
              "</div>"
            ],
            "text/plain": [
              "       id                                             titulo  ... mes   año\n",
              "0    4941  casa en venta en miguel hidalgo, distrito federal  ...   7  2013\n",
              "1   51775               departamentos en venta en montebello  ...  10  2015\n",
              "2  115253  departamento nuevo delegación coyoacán de 87 m...  ...   5  2015\n",
              "3  299321                  departamento en venta en acapulco  ...   4  2015\n",
              "4  173570  bonita casa sola equipada de dos niveles en lo...  ...   8  2013\n",
              "\n",
              "[5 rows x 26 columns]"
            ]
          },
          "metadata": {
            "tags": []
          },
          "execution_count": 36
        }
      ]
    },
    {
      "cell_type": "markdown",
      "metadata": {
        "colab_type": "text",
        "id": "aSOjn07zyEcH"
      },
      "source": [
        "## Agrego features sobre la cantidad de publicaciones\n",
        "\n",
        "Como hemos visto en el tp1 la cantidad de publicaciones y el precio se comportan igual a través del tiempo, por lo que podríamos estimar el mismo a través de este feature"
      ]
    },
    {
      "cell_type": "code",
      "metadata": {
        "colab_type": "code",
        "id": "kQ4veUePZ3Br",
        "colab": {
          "base_uri": "https://localhost:8080/",
          "height": 170
        },
        "outputId": "a6030aff-39f8-4872-920e-247bdc081cbf"
      },
      "source": [
        "train['publicaciones_por_mes'] = train[['año','mes', 'id']].groupby(['año','mes']).transform(lambda x: x.count())\n",
        "train['publicaciones_por_mes'] = train['publicaciones_por_mes'].fillna(0)\n",
        "train.head(1)"
      ],
      "execution_count": 37,
      "outputs": [
        {
          "output_type": "execute_result",
          "data": {
            "text/html": [
              "<div>\n",
              "<style scoped>\n",
              "    .dataframe tbody tr th:only-of-type {\n",
              "        vertical-align: middle;\n",
              "    }\n",
              "\n",
              "    .dataframe tbody tr th {\n",
              "        vertical-align: top;\n",
              "    }\n",
              "\n",
              "    .dataframe thead th {\n",
              "        text-align: right;\n",
              "    }\n",
              "</style>\n",
              "<table border=\"1\" class=\"dataframe\">\n",
              "  <thead>\n",
              "    <tr style=\"text-align: right;\">\n",
              "      <th></th>\n",
              "      <th>id</th>\n",
              "      <th>titulo</th>\n",
              "      <th>descripcion</th>\n",
              "      <th>tipodepropiedad</th>\n",
              "      <th>direccion</th>\n",
              "      <th>ciudad</th>\n",
              "      <th>provincia</th>\n",
              "      <th>antiguedad</th>\n",
              "      <th>habitaciones</th>\n",
              "      <th>garages</th>\n",
              "      <th>banos</th>\n",
              "      <th>metroscubiertos</th>\n",
              "      <th>metrostotales</th>\n",
              "      <th>idzona</th>\n",
              "      <th>lat</th>\n",
              "      <th>lng</th>\n",
              "      <th>fecha</th>\n",
              "      <th>gimnasio</th>\n",
              "      <th>usosmultiples</th>\n",
              "      <th>piscina</th>\n",
              "      <th>escuelascercanas</th>\n",
              "      <th>centroscomercialescercanos</th>\n",
              "      <th>precio</th>\n",
              "      <th>puntaje_por_fecha</th>\n",
              "      <th>dia</th>\n",
              "      <th>mes</th>\n",
              "      <th>año</th>\n",
              "      <th>publicaciones_por_mes</th>\n",
              "    </tr>\n",
              "  </thead>\n",
              "  <tbody>\n",
              "    <tr>\n",
              "      <th>0</th>\n",
              "      <td>254099</td>\n",
              "      <td>depto. tipo a-402</td>\n",
              "      <td>depto. interior de 80.15m2, consta de sala com...</td>\n",
              "      <td>Apartamento</td>\n",
              "      <td>Avenida Division del Norte 2005</td>\n",
              "      <td>Benito Juárez</td>\n",
              "      <td>Distrito Federal</td>\n",
              "      <td>8</td>\n",
              "      <td>2</td>\n",
              "      <td>1</td>\n",
              "      <td>2</td>\n",
              "      <td>80</td>\n",
              "      <td>80</td>\n",
              "      <td>23533.0</td>\n",
              "      <td>20.696818</td>\n",
              "      <td>-99.509221</td>\n",
              "      <td>2015-08-23</td>\n",
              "      <td>0</td>\n",
              "      <td>0</td>\n",
              "      <td>0</td>\n",
              "      <td>0</td>\n",
              "      <td>0</td>\n",
              "      <td>2273000</td>\n",
              "      <td>0.728368</td>\n",
              "      <td>23</td>\n",
              "      <td>8</td>\n",
              "      <td>2015</td>\n",
              "      <td>4526</td>\n",
              "    </tr>\n",
              "  </tbody>\n",
              "</table>\n",
              "</div>"
            ],
            "text/plain": [
              "       id             titulo  ...   año publicaciones_por_mes\n",
              "0  254099  depto. tipo a-402  ...  2015                  4526\n",
              "\n",
              "[1 rows x 28 columns]"
            ]
          },
          "metadata": {
            "tags": []
          },
          "execution_count": 37
        }
      ]
    },
    {
      "cell_type": "code",
      "metadata": {
        "colab_type": "code",
        "id": "tSxbzdKxKYN6",
        "colab": {
          "base_uri": "https://localhost:8080/",
          "height": 205
        },
        "outputId": "19016373-d07e-4610-9185-9db4f4d2579c"
      },
      "source": [
        "test['publicaciones_por_mes'] = test[['año','mes', 'id']].groupby(['año','mes']).transform(lambda x: x.count())\n",
        "test['publicaciones_por_mes'] = test['publicaciones_por_mes'].fillna(0)\n",
        "test.head(1)"
      ],
      "execution_count": 38,
      "outputs": [
        {
          "output_type": "execute_result",
          "data": {
            "text/html": [
              "<div>\n",
              "<style scoped>\n",
              "    .dataframe tbody tr th:only-of-type {\n",
              "        vertical-align: middle;\n",
              "    }\n",
              "\n",
              "    .dataframe tbody tr th {\n",
              "        vertical-align: top;\n",
              "    }\n",
              "\n",
              "    .dataframe thead th {\n",
              "        text-align: right;\n",
              "    }\n",
              "</style>\n",
              "<table border=\"1\" class=\"dataframe\">\n",
              "  <thead>\n",
              "    <tr style=\"text-align: right;\">\n",
              "      <th></th>\n",
              "      <th>id</th>\n",
              "      <th>titulo</th>\n",
              "      <th>descripcion</th>\n",
              "      <th>tipodepropiedad</th>\n",
              "      <th>direccion</th>\n",
              "      <th>ciudad</th>\n",
              "      <th>provincia</th>\n",
              "      <th>antiguedad</th>\n",
              "      <th>habitaciones</th>\n",
              "      <th>garages</th>\n",
              "      <th>banos</th>\n",
              "      <th>metroscubiertos</th>\n",
              "      <th>metrostotales</th>\n",
              "      <th>idzona</th>\n",
              "      <th>lat</th>\n",
              "      <th>lng</th>\n",
              "      <th>fecha</th>\n",
              "      <th>gimnasio</th>\n",
              "      <th>usosmultiples</th>\n",
              "      <th>piscina</th>\n",
              "      <th>escuelascercanas</th>\n",
              "      <th>centroscomercialescercanos</th>\n",
              "      <th>puntaje_por_fecha</th>\n",
              "      <th>dia</th>\n",
              "      <th>mes</th>\n",
              "      <th>año</th>\n",
              "      <th>publicaciones_por_mes</th>\n",
              "    </tr>\n",
              "  </thead>\n",
              "  <tbody>\n",
              "    <tr>\n",
              "      <th>0</th>\n",
              "      <td>4941</td>\n",
              "      <td>casa en venta en miguel hidalgo, distrito federal</td>\n",
              "      <td>&lt;p&gt;excelente casa estilo moderno.&lt;/p&gt;</td>\n",
              "      <td>Casa</td>\n",
              "      <td>Bosque de Cedros</td>\n",
              "      <td>Miguel Hidalgo</td>\n",
              "      <td>Distrito Federal</td>\n",
              "      <td>29</td>\n",
              "      <td>3</td>\n",
              "      <td>2</td>\n",
              "      <td>4</td>\n",
              "      <td>300</td>\n",
              "      <td>177</td>\n",
              "      <td>0.0</td>\n",
              "      <td>19.408668</td>\n",
              "      <td>-99.246767</td>\n",
              "      <td>2013-07-20</td>\n",
              "      <td>0</td>\n",
              "      <td>0</td>\n",
              "      <td>0</td>\n",
              "      <td>0</td>\n",
              "      <td>0</td>\n",
              "      <td>0.309967</td>\n",
              "      <td>20</td>\n",
              "      <td>7</td>\n",
              "      <td>2013</td>\n",
              "      <td>650</td>\n",
              "    </tr>\n",
              "  </tbody>\n",
              "</table>\n",
              "</div>"
            ],
            "text/plain": [
              "     id  ... publicaciones_por_mes\n",
              "0  4941  ...                   650\n",
              "\n",
              "[1 rows x 27 columns]"
            ]
          },
          "metadata": {
            "tags": []
          },
          "execution_count": 38
        }
      ]
    },
    {
      "cell_type": "code",
      "metadata": {
        "colab_type": "code",
        "id": "zChv4LmcvvrZ",
        "colab": {}
      },
      "source": [
        "train['publicaciones_por_dia'] = train[['dia','año','mes', 'id']].groupby(['dia','año','mes']).transform(lambda x: x.count()).fillna(0)\n",
        "test['publicaciones_por_dia'] = test[['dia','año','mes', 'id']].groupby(['dia','año','mes']).transform(lambda x: x.count()).fillna(0)"
      ],
      "execution_count": 0,
      "outputs": []
    },
    {
      "cell_type": "code",
      "metadata": {
        "colab_type": "code",
        "id": "UcHAz62k5tNO",
        "colab": {}
      },
      "source": [
        "train['publicaciones_por_año'] = train[['año','id']].groupby(['año']).transform(lambda x: x.count()).fillna(0)\n",
        "test['publicaciones_por_año'] = test[['año','id']].groupby(['año']).transform(lambda x: x.count()).fillna(0)"
      ],
      "execution_count": 0,
      "outputs": []
    },
    {
      "cell_type": "markdown",
      "metadata": {
        "colab_type": "text",
        "id": "nd051JAcrjGk"
      },
      "source": [
        "## Pruebo target encoder en lugar de oneHotEncoder para tipodepropiedad, ciudades, provincias y agrego idzona"
      ]
    },
    {
      "cell_type": "markdown",
      "metadata": {
        "colab_type": "text",
        "id": "xPOI2-f-sPPv"
      },
      "source": [
        "**Primero voy a unificar los dummies sobre palabras**"
      ]
    },
    {
      "cell_type": "code",
      "metadata": {
        "colab_type": "code",
        "id": "RtcXov22rju2",
        "colab": {}
      },
      "source": [
        "dummies_palabras=dummies_palabras_descr.join(dummies_palabras_titulo)\n",
        "dummies_palabras_test=dummies_palabras_descr_test.join(dummies_palabras_titulo_test)"
      ],
      "execution_count": 0,
      "outputs": []
    },
    {
      "cell_type": "markdown",
      "metadata": {
        "colab_type": "text",
        "id": "fXpEthrfuzZM"
      },
      "source": [
        "**Voy a usar la cantidad de publicaciones por año como target, pues hemos visto que la cantidad de publicaciones aumentaba en el tiempo, al igual que el precio de las propiedades**"
      ]
    },
    {
      "cell_type": "code",
      "metadata": {
        "colab_type": "code",
        "id": "gRcggzy8-zLT",
        "colab": {
          "base_uri": "https://localhost:8080/",
          "height": 208
        },
        "outputId": "3efaf08d-9cd6-45c5-c640-5b343ea88ebd"
      },
      "source": [
        "!pip install category_encoders"
      ],
      "execution_count": 42,
      "outputs": [
        {
          "output_type": "stream",
          "text": [
            "Requirement already satisfied: category_encoders in /usr/local/lib/python3.6/dist-packages (2.1.0)\n",
            "Requirement already satisfied: patsy>=0.4.1 in /usr/local/lib/python3.6/dist-packages (from category_encoders) (0.5.1)\n",
            "Requirement already satisfied: numpy>=1.11.3 in /usr/local/lib/python3.6/dist-packages (from category_encoders) (1.17.4)\n",
            "Requirement already satisfied: statsmodels>=0.6.1 in /usr/local/lib/python3.6/dist-packages (from category_encoders) (0.10.1)\n",
            "Requirement already satisfied: scipy>=0.19.0 in /usr/local/lib/python3.6/dist-packages (from category_encoders) (1.3.2)\n",
            "Requirement already satisfied: pandas>=0.21.1 in /usr/local/lib/python3.6/dist-packages (from category_encoders) (0.25.3)\n",
            "Requirement already satisfied: scikit-learn>=0.20.0 in /usr/local/lib/python3.6/dist-packages (from category_encoders) (0.21.3)\n",
            "Requirement already satisfied: six in /usr/local/lib/python3.6/dist-packages (from patsy>=0.4.1->category_encoders) (1.12.0)\n",
            "Requirement already satisfied: pytz>=2017.2 in /usr/local/lib/python3.6/dist-packages (from pandas>=0.21.1->category_encoders) (2018.9)\n",
            "Requirement already satisfied: python-dateutil>=2.6.1 in /usr/local/lib/python3.6/dist-packages (from pandas>=0.21.1->category_encoders) (2.6.1)\n",
            "Requirement already satisfied: joblib>=0.11 in /usr/local/lib/python3.6/dist-packages (from scikit-learn>=0.20.0->category_encoders) (0.14.0)\n"
          ],
          "name": "stdout"
        }
      ]
    },
    {
      "cell_type": "code",
      "metadata": {
        "colab_type": "code",
        "id": "NtYBqnVY5tVL",
        "colab": {}
      },
      "source": [
        "import category_encoders as ce\n",
        "cat_cols = ['tipodepropiedad','ciudad', 'provincia', 'idzona']\n",
        "target_enc = ce.TargetEncoder(cols = cat_cols)\n",
        "target_enc.fit(train[cat_cols], train['publicaciones_por_año'])\n",
        "target_encoder_publicaciones = target_enc.transform(train[cat_cols]).add_suffix('_target_publicaciones')\n",
        "target_encoder_publicaciones_test = target_enc.transform(test[cat_cols]).add_suffix('_target_publicaciones')"
      ],
      "execution_count": 0,
      "outputs": []
    },
    {
      "cell_type": "code",
      "metadata": {
        "colab_type": "code",
        "id": "FL-wAEPExA2f",
        "colab": {
          "base_uri": "https://localhost:8080/",
          "height": 112
        },
        "outputId": "4715c41a-d476-411a-de93-a157b4c9911d"
      },
      "source": [
        "target_encoder_publicaciones.head(2)"
      ],
      "execution_count": 44,
      "outputs": [
        {
          "output_type": "execute_result",
          "data": {
            "text/html": [
              "<div>\n",
              "<style scoped>\n",
              "    .dataframe tbody tr th:only-of-type {\n",
              "        vertical-align: middle;\n",
              "    }\n",
              "\n",
              "    .dataframe tbody tr th {\n",
              "        vertical-align: top;\n",
              "    }\n",
              "\n",
              "    .dataframe thead th {\n",
              "        text-align: right;\n",
              "    }\n",
              "</style>\n",
              "<table border=\"1\" class=\"dataframe\">\n",
              "  <thead>\n",
              "    <tr style=\"text-align: right;\">\n",
              "      <th></th>\n",
              "      <th>tipodepropiedad_target_publicaciones</th>\n",
              "      <th>ciudad_target_publicaciones</th>\n",
              "      <th>provincia_target_publicaciones</th>\n",
              "      <th>idzona_target_publicaciones</th>\n",
              "    </tr>\n",
              "  </thead>\n",
              "  <tbody>\n",
              "    <tr>\n",
              "      <th>0</th>\n",
              "      <td>61817.687763</td>\n",
              "      <td>62912.989286</td>\n",
              "      <td>59017.072019</td>\n",
              "      <td>64651.204819</td>\n",
              "    </tr>\n",
              "    <tr>\n",
              "      <th>1</th>\n",
              "      <td>59753.070115</td>\n",
              "      <td>56328.297113</td>\n",
              "      <td>59017.072019</td>\n",
              "      <td>54434.372093</td>\n",
              "    </tr>\n",
              "  </tbody>\n",
              "</table>\n",
              "</div>"
            ],
            "text/plain": [
              "   tipodepropiedad_target_publicaciones  ...  idzona_target_publicaciones\n",
              "0                          61817.687763  ...                 64651.204819\n",
              "1                          59753.070115  ...                 54434.372093\n",
              "\n",
              "[2 rows x 4 columns]"
            ]
          },
          "metadata": {
            "tags": []
          },
          "execution_count": 44
        }
      ]
    },
    {
      "cell_type": "code",
      "metadata": {
        "colab_type": "code",
        "id": "OHjvnBA0xEzL",
        "colab": {
          "base_uri": "https://localhost:8080/",
          "height": 112
        },
        "outputId": "a084f3fb-2287-4d88-8631-5338ee199c51"
      },
      "source": [
        "target_encoder_publicaciones_test.head(2)"
      ],
      "execution_count": 45,
      "outputs": [
        {
          "output_type": "execute_result",
          "data": {
            "text/html": [
              "<div>\n",
              "<style scoped>\n",
              "    .dataframe tbody tr th:only-of-type {\n",
              "        vertical-align: middle;\n",
              "    }\n",
              "\n",
              "    .dataframe tbody tr th {\n",
              "        vertical-align: top;\n",
              "    }\n",
              "\n",
              "    .dataframe thead th {\n",
              "        text-align: right;\n",
              "    }\n",
              "</style>\n",
              "<table border=\"1\" class=\"dataframe\">\n",
              "  <thead>\n",
              "    <tr style=\"text-align: right;\">\n",
              "      <th></th>\n",
              "      <th>tipodepropiedad_target_publicaciones</th>\n",
              "      <th>ciudad_target_publicaciones</th>\n",
              "      <th>provincia_target_publicaciones</th>\n",
              "      <th>idzona_target_publicaciones</th>\n",
              "    </tr>\n",
              "  </thead>\n",
              "  <tbody>\n",
              "    <tr>\n",
              "      <th>0</th>\n",
              "      <td>60391.646507</td>\n",
              "      <td>58258.681622</td>\n",
              "      <td>59017.072019</td>\n",
              "      <td>54717.419377</td>\n",
              "    </tr>\n",
              "    <tr>\n",
              "      <th>1</th>\n",
              "      <td>61817.687763</td>\n",
              "      <td>60371.156102</td>\n",
              "      <td>60825.451816</td>\n",
              "      <td>58905.468031</td>\n",
              "    </tr>\n",
              "  </tbody>\n",
              "</table>\n",
              "</div>"
            ],
            "text/plain": [
              "   tipodepropiedad_target_publicaciones  ...  idzona_target_publicaciones\n",
              "0                          60391.646507  ...                 54717.419377\n",
              "1                          61817.687763  ...                 58905.468031\n",
              "\n",
              "[2 rows x 4 columns]"
            ]
          },
          "metadata": {
            "tags": []
          },
          "execution_count": 45
        }
      ]
    },
    {
      "cell_type": "markdown",
      "metadata": {
        "colab_type": "text",
        "id": "3sAmhfv34fms"
      },
      "source": [
        "## **Pruebo con otro target: metroscubiertos**"
      ]
    },
    {
      "cell_type": "code",
      "metadata": {
        "colab_type": "code",
        "id": "uUjlnk7PxNgv",
        "colab": {}
      },
      "source": [
        "cat_cols = ['tipodepropiedad','ciudad', 'provincia', 'idzona']\n",
        "target_enc = ce.TargetEncoder(cols = cat_cols)\n",
        "target_enc.fit(train[cat_cols], train['metroscubiertos'])\n",
        "target_encoder_metros = target_enc.transform(train[cat_cols]).add_suffix('_target_metros')\n",
        "target_encoder_metros_test = target_enc.transform(test[cat_cols]).add_suffix('_target_metros')"
      ],
      "execution_count": 0,
      "outputs": []
    },
    {
      "cell_type": "code",
      "metadata": {
        "colab_type": "code",
        "id": "ZqhTSuj0xNeB",
        "colab": {
          "base_uri": "https://localhost:8080/",
          "height": 112
        },
        "outputId": "1fc4b703-0ba2-43fb-f6c0-bf7eb252eb99"
      },
      "source": [
        "target_encoder_metros.head(2)"
      ],
      "execution_count": 47,
      "outputs": [
        {
          "output_type": "execute_result",
          "data": {
            "text/html": [
              "<div>\n",
              "<style scoped>\n",
              "    .dataframe tbody tr th:only-of-type {\n",
              "        vertical-align: middle;\n",
              "    }\n",
              "\n",
              "    .dataframe tbody tr th {\n",
              "        vertical-align: top;\n",
              "    }\n",
              "\n",
              "    .dataframe thead th {\n",
              "        text-align: right;\n",
              "    }\n",
              "</style>\n",
              "<table border=\"1\" class=\"dataframe\">\n",
              "  <thead>\n",
              "    <tr style=\"text-align: right;\">\n",
              "      <th></th>\n",
              "      <th>tipodepropiedad_target_metros</th>\n",
              "      <th>ciudad_target_metros</th>\n",
              "      <th>provincia_target_metros</th>\n",
              "      <th>idzona_target_metros</th>\n",
              "    </tr>\n",
              "  </thead>\n",
              "  <tbody>\n",
              "    <tr>\n",
              "      <th>0</th>\n",
              "      <td>117.866064</td>\n",
              "      <td>128.276829</td>\n",
              "      <td>157.326433</td>\n",
              "      <td>110.795181</td>\n",
              "    </tr>\n",
              "    <tr>\n",
              "      <th>1</th>\n",
              "      <td>187.276312</td>\n",
              "      <td>233.158005</td>\n",
              "      <td>157.326433</td>\n",
              "      <td>197.302326</td>\n",
              "    </tr>\n",
              "  </tbody>\n",
              "</table>\n",
              "</div>"
            ],
            "text/plain": [
              "   tipodepropiedad_target_metros  ...  idzona_target_metros\n",
              "0                     117.866064  ...            110.795181\n",
              "1                     187.276312  ...            197.302326\n",
              "\n",
              "[2 rows x 4 columns]"
            ]
          },
          "metadata": {
            "tags": []
          },
          "execution_count": 47
        }
      ]
    },
    {
      "cell_type": "markdown",
      "metadata": {
        "colab_type": "text",
        "id": "lpMO-U-QpxiL"
      },
      "source": [
        "**Como la mejor versióón es contando las publicaciones por año, me quedo con ese feature**"
      ]
    },
    {
      "cell_type": "code",
      "metadata": {
        "colab_type": "code",
        "id": "-eHVS7osp6-g",
        "colab": {}
      },
      "source": [
        "Numericos=['antiguedad','habitaciones','garages','banos','metroscubiertos',\\\n",
        "            'metrostotales','idzona', 'lat', 'lng','gimnasio','usosmultiples','piscina','escuelascercanas',\\\n",
        "            'centroscomercialescercanos', 'puntaje_por_fecha', 'publicaciones_por_año'] "
      ],
      "execution_count": 0,
      "outputs": []
    },
    {
      "cell_type": "markdown",
      "metadata": {
        "colab_type": "text",
        "id": "41rkTwF1Um32"
      },
      "source": [
        "## Armo X y X_test tomando ambos targets (es la mejor versión hasta el moemento)"
      ]
    },
    {
      "cell_type": "code",
      "metadata": {
        "colab_type": "code",
        "id": "_hvKuZzJ8mG_",
        "colab": {}
      },
      "source": [
        "X = train[Numericos].join(dummies_palabras).join(target_encoder_metros).join(target_encoder_publicaciones)\n",
        "X_test = test[Numericos].join(dummies_palabras_test).join(target_encoder_metros_test).join(target_encoder_publicaciones_test)\n",
        "Y = train['precio']"
      ],
      "execution_count": 0,
      "outputs": []
    },
    {
      "cell_type": "markdown",
      "metadata": {
        "colab_type": "text",
        "id": "cTKexYrvDzlg"
      },
      "source": [
        "# Armado de modelos"
      ]
    },
    {
      "cell_type": "code",
      "metadata": {
        "colab_type": "code",
        "id": "qbWkGW2cDzlh",
        "colab": {}
      },
      "source": [
        "def crear_submit(model, x_train, y_train, x_test, nombre):\n",
        "    model.fit(x_train, y_train)\n",
        "    result = model.predict(x_test)\n",
        "    for i in range(len(result)):\n",
        "      result[i] = round(result[i],-3)\n",
        "    final = test.loc[:, ['id']]\n",
        "    final['target'] = result\n",
        "    #Ruta desde Colab\n",
        "    ruta = \"../content/drive/My Drive/data/submit\"+ nombre +\".csv\"\n",
        "    #Ruta local\n",
        "    #ruta = \"data/submit_\"+ nombre +\".csv\"\n",
        "    final.to_csv(ruta,index=False)\n",
        "    return final"
      ],
      "execution_count": 0,
      "outputs": []
    },
    {
      "cell_type": "code",
      "metadata": {
        "colab_type": "code",
        "id": "aVlTGqZTDzlm",
        "colab": {}
      },
      "source": [
        "from sklearn import preprocessing \n",
        "def normalizar_data(df):\n",
        "    min_max_scaler = preprocessing.MinMaxScaler() \n",
        "    np_scaled = min_max_scaler.fit_transform(df)\n",
        "    return pd.DataFrame(np_scaled)"
      ],
      "execution_count": 0,
      "outputs": []
    },
    {
      "cell_type": "code",
      "metadata": {
        "colab_type": "code",
        "id": "BWZF_2arDzlp",
        "colab": {}
      },
      "source": [
        "from sklearn.model_selection import cross_val_score"
      ],
      "execution_count": 0,
      "outputs": []
    },
    {
      "cell_type": "markdown",
      "metadata": {
        "colab_type": "text",
        "id": "Q27zjX8fDzmR"
      },
      "source": [
        "## Voting Regresor\n",
        "\n",
        "Utilizo Voting Regressor con XGBoost y Random Forest como estimadores con los mejores hiper parámetros que he encontrado hasta el momento \n",
        "\n",
        "**(ver TP2_Modelos_hiperparametros.ipynb)**"
      ]
    },
    {
      "cell_type": "code",
      "metadata": {
        "colab_type": "code",
        "id": "ec83Fqx0DzmS",
        "colab": {}
      },
      "source": [
        "from sklearn.ensemble  import RandomForestRegressor,  VotingRegressor, AdaBoostRegressor\n",
        "import xgboost as xgb\n",
        "\n",
        "xgb_model = xgb.XGBRegressor(subsample = 0.9, reg_alpha = 1, n_estimators = 200, min_child_weight = 1,\\\n",
        "                             max_features = 43, max_depth = 9, learning_rate = 0.25, gamma = 0.0, \\\n",
        "                             colsample_bytree = 0.9)\n",
        "rf_model = RandomForestRegressor(random_state = 14, n_estimators = 200, min_samples_split = 5,\\\n",
        "                                 min_samples_leaf = 2, max_features = 51, max_depth = 40)\n",
        "abr_model = AdaBoostRegressor(base_estimator=xgb_model, n_estimators = 10)\n",
        "vr_model = VotingRegressor(estimators = [('XGBoost', xgb_model), ('RandomForest', rf_model), ('AdaBoost', abr_model)], weights = [2,1,2])"
      ],
      "execution_count": 0,
      "outputs": []
    },
    {
      "cell_type": "code",
      "metadata": {
        "colab_type": "code",
        "id": "6e1jGqvNUmDw",
        "outputId": "23f28c55-936b-4b03-f04a-26eb8b5f7544",
        "scrolled": true,
        "colab": {
          "base_uri": "https://localhost:8080/",
          "height": 136
        }
      },
      "source": [
        "scores = cross_val_score(vr_model , X, Y, scoring=\"neg_mean_absolute_error\", cv=2)\n",
        "RF_mae_score = -scores.mean()\n",
        "RF_mae_score\n",
        "#523350.4780505615"
      ],
      "execution_count": 0,
      "outputs": [
        {
          "output_type": "stream",
          "text": [
            "/home/sol/.local/lib/python3.6/site-packages/xgboost/core.py:587: FutureWarning: Series.base is deprecated and will be removed in a future version\n",
            "  if getattr(data, 'base', None) is not None and \\\n"
          ],
          "name": "stderr"
        },
        {
          "output_type": "stream",
          "text": [
            "[12:47:00] WARNING: /workspace/src/objective/regression_obj.cu:152: reg:linear is now deprecated in favor of reg:squarederror.\n",
            "[12:52:56] WARNING: /workspace/src/objective/regression_obj.cu:152: reg:linear is now deprecated in favor of reg:squarederror.\n",
            "[12:55:19] WARNING: /workspace/src/objective/regression_obj.cu:152: reg:linear is now deprecated in favor of reg:squarederror.\n",
            "[12:57:41] WARNING: /workspace/src/objective/regression_obj.cu:152: reg:linear is now deprecated in favor of reg:squarederror.\n",
            "[13:00:03] WARNING: /workspace/src/objective/regression_obj.cu:152: reg:linear is now deprecated in favor of reg:squarederror.\n",
            "[13:02:27] WARNING: /workspace/src/objective/regression_obj.cu:152: reg:linear is now deprecated in favor of reg:squarederror.\n",
            "[13:04:49] WARNING: /workspace/src/objective/regression_obj.cu:152: reg:linear is now deprecated in favor of reg:squarederror.\n",
            "[13:07:15] WARNING: /workspace/src/objective/regression_obj.cu:152: reg:linear is now deprecated in favor of reg:squarederror.\n",
            "[13:09:41] WARNING: /workspace/src/objective/regression_obj.cu:152: reg:linear is now deprecated in favor of reg:squarederror.\n",
            "[13:12:10] WARNING: /workspace/src/objective/regression_obj.cu:152: reg:linear is now deprecated in favor of reg:squarederror.\n",
            "[13:14:38] WARNING: /workspace/src/objective/regression_obj.cu:152: reg:linear is now deprecated in favor of reg:squarederror.\n"
          ],
          "name": "stdout"
        },
        {
          "output_type": "stream",
          "text": [
            "/home/sol/.local/lib/python3.6/site-packages/xgboost/core.py:587: FutureWarning: Series.base is deprecated and will be removed in a future version\n",
            "  if getattr(data, 'base', None) is not None and \\\n"
          ],
          "name": "stderr"
        },
        {
          "output_type": "stream",
          "text": [
            "[13:17:44] WARNING: /workspace/src/objective/regression_obj.cu:152: reg:linear is now deprecated in favor of reg:squarederror.\n",
            "[13:23:46] WARNING: /workspace/src/objective/regression_obj.cu:152: reg:linear is now deprecated in favor of reg:squarederror.\n",
            "[13:26:20] WARNING: /workspace/src/objective/regression_obj.cu:152: reg:linear is now deprecated in favor of reg:squarederror.\n",
            "[13:28:52] WARNING: /workspace/src/objective/regression_obj.cu:152: reg:linear is now deprecated in favor of reg:squarederror.\n",
            "[13:31:25] WARNING: /workspace/src/objective/regression_obj.cu:152: reg:linear is now deprecated in favor of reg:squarederror.\n",
            "[13:33:49] WARNING: /workspace/src/objective/regression_obj.cu:152: reg:linear is now deprecated in favor of reg:squarederror.\n",
            "[13:36:17] WARNING: /workspace/src/objective/regression_obj.cu:152: reg:linear is now deprecated in favor of reg:squarederror.\n",
            "[13:38:39] WARNING: /workspace/src/objective/regression_obj.cu:152: reg:linear is now deprecated in favor of reg:squarederror.\n",
            "[13:41:00] WARNING: /workspace/src/objective/regression_obj.cu:152: reg:linear is now deprecated in favor of reg:squarederror.\n",
            "[13:43:20] WARNING: /workspace/src/objective/regression_obj.cu:152: reg:linear is now deprecated in favor of reg:squarederror.\n",
            "[13:45:48] WARNING: /workspace/src/objective/regression_obj.cu:152: reg:linear is now deprecated in favor of reg:squarederror.\n"
          ],
          "name": "stdout"
        },
        {
          "output_type": "execute_result",
          "data": {
            "text/plain": [
              "512217.29283014557"
            ]
          },
          "metadata": {
            "tags": []
          },
          "execution_count": 52
        }
      ]
    },
    {
      "cell_type": "markdown",
      "metadata": {
        "id": "Nfb_1K2vUZWO",
        "colab_type": "text"
      },
      "source": [
        "#### Pruebo agregando el año en que fue publicada la propiedad"
      ]
    },
    {
      "cell_type": "code",
      "metadata": {
        "id": "KLy9pTIekJpk",
        "colab_type": "code",
        "colab": {}
      },
      "source": [
        "Numericos=['antiguedad','habitaciones','garages','banos','metroscubiertos',\\\n",
        "            'metrostotales','idzona', 'lat', 'lng','gimnasio','usosmultiples','piscina','escuelascercanas',\\\n",
        "            'centroscomercialescercanos', 'año', 'puntaje_por_fecha', 'publicaciones_por_año'] \n",
        "X = train[Numericos].join(dummies_palabras).join(target_encoder_metros).join(target_encoder_publicaciones)\n",
        "X_test = test[Numericos].join(dummies_palabras_test).join(target_encoder_metros_test).join(target_encoder_publicaciones_test)\n",
        "Y = train['precio']"
      ],
      "execution_count": 0,
      "outputs": []
    },
    {
      "cell_type": "code",
      "metadata": {
        "id": "_JrfWtblUXZF",
        "colab_type": "code",
        "colab": {
          "base_uri": "https://localhost:8080/",
          "height": 486
        },
        "outputId": "35f57ab0-fdc6-419d-f2c1-cb2357a043a6"
      },
      "source": [
        "scores = cross_val_score(vr_model , X, Y, scoring=\"neg_mean_absolute_error\", cv=2)\n",
        "RF_mae_score1 = -scores.mean()\n",
        "RF_mae_score1"
      ],
      "execution_count": 54,
      "outputs": [
        {
          "output_type": "stream",
          "text": [
            "/usr/local/lib/python3.6/dist-packages/xgboost/core.py:587: FutureWarning: Series.base is deprecated and will be removed in a future version\n",
            "  if getattr(data, 'base', None) is not None and \\\n"
          ],
          "name": "stderr"
        },
        {
          "output_type": "stream",
          "text": [
            "[20:25:16] WARNING: /workspace/src/objective/regression_obj.cu:152: reg:linear is now deprecated in favor of reg:squarederror.\n",
            "[20:31:06] WARNING: /workspace/src/objective/regression_obj.cu:152: reg:linear is now deprecated in favor of reg:squarederror.\n",
            "[20:33:32] WARNING: /workspace/src/objective/regression_obj.cu:152: reg:linear is now deprecated in favor of reg:squarederror.\n",
            "[20:35:58] WARNING: /workspace/src/objective/regression_obj.cu:152: reg:linear is now deprecated in favor of reg:squarederror.\n",
            "[20:38:24] WARNING: /workspace/src/objective/regression_obj.cu:152: reg:linear is now deprecated in favor of reg:squarederror.\n",
            "[20:40:52] WARNING: /workspace/src/objective/regression_obj.cu:152: reg:linear is now deprecated in favor of reg:squarederror.\n",
            "[20:43:19] WARNING: /workspace/src/objective/regression_obj.cu:152: reg:linear is now deprecated in favor of reg:squarederror.\n",
            "[20:45:49] WARNING: /workspace/src/objective/regression_obj.cu:152: reg:linear is now deprecated in favor of reg:squarederror.\n",
            "[20:48:16] WARNING: /workspace/src/objective/regression_obj.cu:152: reg:linear is now deprecated in favor of reg:squarederror.\n",
            "[20:50:42] WARNING: /workspace/src/objective/regression_obj.cu:152: reg:linear is now deprecated in favor of reg:squarederror.\n",
            "[20:53:07] WARNING: /workspace/src/objective/regression_obj.cu:152: reg:linear is now deprecated in favor of reg:squarederror.\n"
          ],
          "name": "stdout"
        },
        {
          "output_type": "stream",
          "text": [
            "/usr/local/lib/python3.6/dist-packages/xgboost/core.py:587: FutureWarning: Series.base is deprecated and will be removed in a future version\n",
            "  if getattr(data, 'base', None) is not None and \\\n"
          ],
          "name": "stderr"
        },
        {
          "output_type": "stream",
          "text": [
            "[20:56:05] WARNING: /workspace/src/objective/regression_obj.cu:152: reg:linear is now deprecated in favor of reg:squarederror.\n",
            "[21:02:11] WARNING: /workspace/src/objective/regression_obj.cu:152: reg:linear is now deprecated in favor of reg:squarederror.\n",
            "[21:04:37] WARNING: /workspace/src/objective/regression_obj.cu:152: reg:linear is now deprecated in favor of reg:squarederror.\n",
            "[21:07:02] WARNING: /workspace/src/objective/regression_obj.cu:152: reg:linear is now deprecated in favor of reg:squarederror.\n",
            "[21:09:29] WARNING: /workspace/src/objective/regression_obj.cu:152: reg:linear is now deprecated in favor of reg:squarederror.\n",
            "[21:11:54] WARNING: /workspace/src/objective/regression_obj.cu:152: reg:linear is now deprecated in favor of reg:squarederror.\n",
            "[21:14:19] WARNING: /workspace/src/objective/regression_obj.cu:152: reg:linear is now deprecated in favor of reg:squarederror.\n",
            "[21:16:44] WARNING: /workspace/src/objective/regression_obj.cu:152: reg:linear is now deprecated in favor of reg:squarederror.\n",
            "[21:19:09] WARNING: /workspace/src/objective/regression_obj.cu:152: reg:linear is now deprecated in favor of reg:squarederror.\n",
            "[21:21:35] WARNING: /workspace/src/objective/regression_obj.cu:152: reg:linear is now deprecated in favor of reg:squarederror.\n",
            "[21:24:00] WARNING: /workspace/src/objective/regression_obj.cu:152: reg:linear is now deprecated in favor of reg:squarederror.\n"
          ],
          "name": "stdout"
        },
        {
          "output_type": "execute_result",
          "data": {
            "text/plain": [
              "511382.9679556181"
            ]
          },
          "metadata": {
            "tags": []
          },
          "execution_count": 54
        }
      ]
    },
    {
      "cell_type": "markdown",
      "metadata": {
        "colab_type": "text",
        "id": "OBcWD5qrDzmW"
      },
      "source": [
        "## Grafico de importancias"
      ]
    },
    {
      "cell_type": "code",
      "metadata": {
        "colab_type": "code",
        "id": "-2Y_h4Hn8mHT",
        "colab": {}
      },
      "source": [
        "# La cantidad que recibe indica la cantidad de features a mostrar, si es negativa muestra los menos importantes,\n",
        "# y si es positiva muestra los más importantes\n",
        "rf_model.fit(X,Y) #El fit lo hago afuera asi no tengo que fitear nuevamente cada vez que llamo a la funcion(total siempre va a dar lo mismo)\n",
        "def mostrar_importancias(X, Y,model,cantidad = None):\n",
        "    importancias = pd.DataFrame(model.feature_importances_,index=X.columns,columns=['importancia']).reset_index()\n",
        "    importancias.columns = ['feature', 'importancia']\n",
        "    plt.figure(figsize = (18,8))\n",
        "    if (cantidad):\n",
        "        if (cantidad >= 0):\n",
        "            importancias = importancias.nlargest(cantidad, 'importancia')\n",
        "        else:\n",
        "            importancias = importancias.nsmallest(abs(cantidad), 'importancia')\n",
        "    graf = sns.barplot(x = importancias.feature, y = importancias.importancia, orient = 'v')\n",
        "    graf.set_ylabel(\"Importancias\", fontsize = 20)\n",
        "    graf.set_xlabel(\"Features\", fontsize = 20)\n",
        "    plt.xticks(fontsize = 15, rotation = 'vertical')\n",
        "    plt.yticks(fontsize = 15)\n",
        "    if (cantidad):\n",
        "        if (cantidad >= 0):\n",
        "            plt.title(\"Grado de importancia de los \"+ str(cantidad)+\" Features más importantes\", fontsize = 25)\n",
        "        else:\n",
        "            plt.title(\"Grado de importancia de los \"+ str(abs(cantidad))+\" Features menos importantes\", fontsize = 25)\n",
        "    else:\n",
        "        plt.title(\"Grado de importancia de Features totales\", fontsize = 25)"
      ],
      "execution_count": 0,
      "outputs": []
    },
    {
      "cell_type": "code",
      "metadata": {
        "colab_type": "code",
        "id": "RrREtPlsDzmd",
        "outputId": "b57ffa37-69be-4b09-a640-af90dcdbb6a0",
        "colab": {
          "base_uri": "https://localhost:8080/",
          "height": 810
        }
      },
      "source": [
        "#Muestro la importancia de todos los features\n",
        "mostrar_importancias(X,Y,rf_model)"
      ],
      "execution_count": 64,
      "outputs": [
        {
          "output_type": "display_data",
          "data": {
            "image/png": "[encoded data removed]",
            "text/plain": [
              "<Figure size 1296x576 with 1 Axes>"
            ]
          },
          "metadata": {
            "tags": []
          }
        }
      ]
    },
    {
      "cell_type": "code",
      "metadata": {
        "colab_type": "code",
        "id": "ujEKCzmlDzmk",
        "scrolled": false,
        "colab": {
          "base_uri": "https://localhost:8080/",
          "height": 811
        },
        "outputId": "4e492695-0abf-437d-a1fc-f42fd3acd97c"
      },
      "source": [
        "#Muestro los 50 mas importantes\n",
        "mostrar_importancias(X,Y,rf_model, 50)"
      ],
      "execution_count": 65,
      "outputs": [
        {
          "output_type": "display_data",
          "data": {
            "image/png": "[encoded data removed]",
            "text/plain": [
              "<Figure size 1296x576 with 1 Axes>"
            ]
          },
          "metadata": {
            "tags": []
          }
        }
      ]
    },
    {
      "cell_type": "code",
      "metadata": {
        "colab_type": "code",
        "id": "h1kCL1TBDzmo",
        "outputId": "f1235338-7e39-4943-9af5-b1fe5b8adba0",
        "scrolled": false,
        "colab": {
          "base_uri": "https://localhost:8080/",
          "height": 660
        }
      },
      "source": [
        "#Muestro los 10 menos importantes\n",
        "mostrar_importancias(X,Y,rf_model, -10)"
      ],
      "execution_count": 66,
      "outputs": [
        {
          "output_type": "display_data",
          "data": {
            "image/png": "[encoded data removed]",
            "text/plain": [
              "<Figure size 1296x576 with 1 Axes>"
            ]
          },
          "metadata": {
            "tags": []
          }
        }
      ]
    },
    {
      "cell_type": "markdown",
      "metadata": {
        "id": "CMEZ619pE1ob",
        "colab_type": "text"
      },
      "source": [
        "**Como vimos entre los features más importante se encuentra la cantidad de baños por lo que crearemos features tomando en cuenta este atributo**"
      ]
    },
    {
      "cell_type": "code",
      "metadata": {
        "id": "s3GxHof2Ezmh",
        "colab_type": "code",
        "colab": {}
      },
      "source": [
        "cat_cols = ['tipodepropiedad','ciudad', 'provincia', 'idzona']\n",
        "target_enc = ce.TargetEncoder(cols = cat_cols)\n",
        "target_enc.fit(train[cat_cols], train['banos'])\n",
        "target_encoder_banos = target_enc.transform(train[cat_cols]).add_suffix('_target_banos')\n",
        "target_encoder_banos_test = target_enc.transform(test[cat_cols]).add_suffix('_target_banos')"
      ],
      "execution_count": 0,
      "outputs": []
    },
    {
      "cell_type": "code",
      "metadata": {
        "id": "4kPtMoSoEz6e",
        "colab_type": "code",
        "colab": {
          "base_uri": "https://localhost:8080/",
          "height": 206
        },
        "outputId": "caae08b0-a9d6-4452-fc66-f8c55910c4f5"
      },
      "source": [
        "target_encoder_banos.head()"
      ],
      "execution_count": 55,
      "outputs": [
        {
          "output_type": "execute_result",
          "data": {
            "text/html": [
              "<div>\n",
              "<style scoped>\n",
              "    .dataframe tbody tr th:only-of-type {\n",
              "        vertical-align: middle;\n",
              "    }\n",
              "\n",
              "    .dataframe tbody tr th {\n",
              "        vertical-align: top;\n",
              "    }\n",
              "\n",
              "    .dataframe thead th {\n",
              "        text-align: right;\n",
              "    }\n",
              "</style>\n",
              "<table border=\"1\" class=\"dataframe\">\n",
              "  <thead>\n",
              "    <tr style=\"text-align: right;\">\n",
              "      <th></th>\n",
              "      <th>tipodepropiedad_target_banos</th>\n",
              "      <th>ciudad_target_banos</th>\n",
              "      <th>provincia_target_banos</th>\n",
              "      <th>idzona_target_banos</th>\n",
              "    </tr>\n",
              "  </thead>\n",
              "  <tbody>\n",
              "    <tr>\n",
              "      <th>0</th>\n",
              "      <td>1.821088</td>\n",
              "      <td>1.922099</td>\n",
              "      <td>1.987498</td>\n",
              "      <td>1.871486</td>\n",
              "    </tr>\n",
              "    <tr>\n",
              "      <th>1</th>\n",
              "      <td>2.350832</td>\n",
              "      <td>2.438320</td>\n",
              "      <td>1.987498</td>\n",
              "      <td>2.162791</td>\n",
              "    </tr>\n",
              "    <tr>\n",
              "      <th>2</th>\n",
              "      <td>2.225823</td>\n",
              "      <td>1.703657</td>\n",
              "      <td>2.196911</td>\n",
              "      <td>1.842105</td>\n",
              "    </tr>\n",
              "    <tr>\n",
              "      <th>3</th>\n",
              "      <td>2.225823</td>\n",
              "      <td>1.935065</td>\n",
              "      <td>2.073305</td>\n",
              "      <td>1.937500</td>\n",
              "    </tr>\n",
              "    <tr>\n",
              "      <th>4</th>\n",
              "      <td>1.821088</td>\n",
              "      <td>2.320174</td>\n",
              "      <td>2.196911</td>\n",
              "      <td>1.959302</td>\n",
              "    </tr>\n",
              "  </tbody>\n",
              "</table>\n",
              "</div>"
            ],
            "text/plain": [
              "   tipodepropiedad_target_banos  ...  idzona_target_banos\n",
              "0                      1.821088  ...             1.871486\n",
              "1                      2.350832  ...             2.162791\n",
              "2                      2.225823  ...             1.842105\n",
              "3                      2.225823  ...             1.937500\n",
              "4                      1.821088  ...             1.959302\n",
              "\n",
              "[5 rows x 4 columns]"
            ]
          },
          "metadata": {
            "tags": []
          },
          "execution_count": 55
        }
      ]
    },
    {
      "cell_type": "markdown",
      "metadata": {
        "id": "2YEnsY2eFyRy",
        "colab_type": "text"
      },
      "source": [
        "###Pruebo el modelo"
      ]
    },
    {
      "cell_type": "code",
      "metadata": {
        "id": "oKnmsAtnFMJu",
        "colab_type": "code",
        "colab": {}
      },
      "source": [
        "X = train[Numericos].join(dummies_palabras).join(target_encoder_metros).join(target_encoder_publicaciones).join(target_encoder_banos)\n",
        "X_test = test[Numericos].join(dummies_palabras_test).join(target_encoder_metros_test).join(target_encoder_publicaciones_test).join(target_encoder_banos_test)\n",
        "Y = train['precio']"
      ],
      "execution_count": 0,
      "outputs": []
    },
    {
      "cell_type": "code",
      "metadata": {
        "id": "G0cIC6EOFMaW",
        "colab_type": "code",
        "colab": {}
      },
      "source": [
        "scores = cross_val_score(vr_model , X, Y, scoring=\"neg_mean_absolute_error\", cv=2)\n",
        "RF_mae_score2 = -scores.mean()\n",
        "RF_mae_score2"
      ],
      "execution_count": 0,
      "outputs": []
    },
    {
      "cell_type": "markdown",
      "metadata": {
        "id": "_13DXhQybAlk",
        "colab_type": "text"
      },
      "source": [
        "#### Agrego features tomando en cuenta los metros totales"
      ]
    },
    {
      "cell_type": "code",
      "metadata": {
        "id": "3LTGU_V1a_vD",
        "colab_type": "code",
        "colab": {}
      },
      "source": [
        "cat_cols = ['tipodepropiedad','ciudad', 'provincia', 'idzona']\n",
        "target_enc = ce.TargetEncoder(cols = cat_cols)\n",
        "target_enc.fit(train[cat_cols], train['metrostotales'])\n",
        "target_encoder_metros_tot = target_enc.transform(train[cat_cols]).add_suffix('_target_metros_tot')\n",
        "target_encoder_metros_tot_test = target_enc.transform(test[cat_cols]).add_suffix('_target_metros_tot')"
      ],
      "execution_count": 0,
      "outputs": []
    },
    {
      "cell_type": "code",
      "metadata": {
        "id": "dinKlMr3bZ-_",
        "colab_type": "code",
        "colab": {
          "base_uri": "https://localhost:8080/",
          "height": 206
        },
        "outputId": "5b0aefb3-a539-44f6-d608-b2dea24debd6"
      },
      "source": [
        "target_encoder_metros_tot_test.head()"
      ],
      "execution_count": 57,
      "outputs": [
        {
          "output_type": "execute_result",
          "data": {
            "text/html": [
              "<div>\n",
              "<style scoped>\n",
              "    .dataframe tbody tr th:only-of-type {\n",
              "        vertical-align: middle;\n",
              "    }\n",
              "\n",
              "    .dataframe tbody tr th {\n",
              "        vertical-align: top;\n",
              "    }\n",
              "\n",
              "    .dataframe thead th {\n",
              "        text-align: right;\n",
              "    }\n",
              "</style>\n",
              "<table border=\"1\" class=\"dataframe\">\n",
              "  <thead>\n",
              "    <tr style=\"text-align: right;\">\n",
              "      <th></th>\n",
              "      <th>tipodepropiedad_target_metros_tot</th>\n",
              "      <th>ciudad_target_metros_tot</th>\n",
              "      <th>provincia_target_metros_tot</th>\n",
              "      <th>idzona_target_metros_tot</th>\n",
              "    </tr>\n",
              "  </thead>\n",
              "  <tbody>\n",
              "    <tr>\n",
              "      <th>0</th>\n",
              "      <td>182.972459</td>\n",
              "      <td>162.858499</td>\n",
              "      <td>166.945892</td>\n",
              "      <td>184.442787</td>\n",
              "    </tr>\n",
              "    <tr>\n",
              "      <th>1</th>\n",
              "      <td>146.755690</td>\n",
              "      <td>239.065345</td>\n",
              "      <td>239.146443</td>\n",
              "      <td>256.636829</td>\n",
              "    </tr>\n",
              "    <tr>\n",
              "      <th>2</th>\n",
              "      <td>146.755690</td>\n",
              "      <td>170.360098</td>\n",
              "      <td>166.945892</td>\n",
              "      <td>143.493151</td>\n",
              "    </tr>\n",
              "    <tr>\n",
              "      <th>3</th>\n",
              "      <td>146.755690</td>\n",
              "      <td>172.839853</td>\n",
              "      <td>172.860717</td>\n",
              "      <td>149.588238</td>\n",
              "    </tr>\n",
              "    <tr>\n",
              "      <th>4</th>\n",
              "      <td>182.972459</td>\n",
              "      <td>118.508260</td>\n",
              "      <td>174.116543</td>\n",
              "      <td>74.950001</td>\n",
              "    </tr>\n",
              "  </tbody>\n",
              "</table>\n",
              "</div>"
            ],
            "text/plain": [
              "   tipodepropiedad_target_metros_tot  ...  idzona_target_metros_tot\n",
              "0                         182.972459  ...                184.442787\n",
              "1                         146.755690  ...                256.636829\n",
              "2                         146.755690  ...                143.493151\n",
              "3                         146.755690  ...                149.588238\n",
              "4                         182.972459  ...                 74.950001\n",
              "\n",
              "[5 rows x 4 columns]"
            ]
          },
          "metadata": {
            "tags": []
          },
          "execution_count": 57
        }
      ]
    },
    {
      "cell_type": "markdown",
      "metadata": {
        "id": "Y97sWkWF7RUz",
        "colab_type": "text"
      },
      "source": [
        "#### También puedo tomar en cuenta la cantidad de garages"
      ]
    },
    {
      "cell_type": "code",
      "metadata": {
        "id": "b4vo3gjt7QO1",
        "colab_type": "code",
        "colab": {}
      },
      "source": [
        "cat_cols = ['tipodepropiedad','ciudad', 'provincia', 'idzona']\n",
        "target_enc = ce.TargetEncoder(cols = cat_cols)\n",
        "target_enc.fit(train[cat_cols], train['garages'])\n",
        "target_encoder_garages = target_enc.transform(train[cat_cols]).add_suffix('_target_garages')\n",
        "target_encoder_garages = target_encoder_garages.apply(lambda x: round(x))\n",
        "target_encoder_garages_test = target_enc.transform(test[cat_cols]).add_suffix('_target_garages')\n",
        "target_encoder_garages_test = target_encoder_garages_test.apply(lambda x: round(x))"
      ],
      "execution_count": 0,
      "outputs": []
    },
    {
      "cell_type": "code",
      "metadata": {
        "id": "O-q_dj-17Qhn",
        "colab_type": "code",
        "colab": {
          "base_uri": "https://localhost:8080/",
          "height": 424
        },
        "outputId": "4517e7f6-380c-4fd8-838a-19eda6906478"
      },
      "source": [
        "target_encoder_garages"
      ],
      "execution_count": 63,
      "outputs": [
        {
          "output_type": "execute_result",
          "data": {
            "text/html": [
              "<div>\n",
              "<style scoped>\n",
              "    .dataframe tbody tr th:only-of-type {\n",
              "        vertical-align: middle;\n",
              "    }\n",
              "\n",
              "    .dataframe tbody tr th {\n",
              "        vertical-align: top;\n",
              "    }\n",
              "\n",
              "    .dataframe thead th {\n",
              "        text-align: right;\n",
              "    }\n",
              "</style>\n",
              "<table border=\"1\" class=\"dataframe\">\n",
              "  <thead>\n",
              "    <tr style=\"text-align: right;\">\n",
              "      <th></th>\n",
              "      <th>tipodepropiedad_target_garages</th>\n",
              "      <th>ciudad_target_garages</th>\n",
              "      <th>provincia_target_garages</th>\n",
              "      <th>idzona_target_garages</th>\n",
              "    </tr>\n",
              "  </thead>\n",
              "  <tbody>\n",
              "    <tr>\n",
              "      <th>0</th>\n",
              "      <td>1.0</td>\n",
              "      <td>1.0</td>\n",
              "      <td>1.0</td>\n",
              "      <td>2.0</td>\n",
              "    </tr>\n",
              "    <tr>\n",
              "      <th>1</th>\n",
              "      <td>2.0</td>\n",
              "      <td>2.0</td>\n",
              "      <td>1.0</td>\n",
              "      <td>2.0</td>\n",
              "    </tr>\n",
              "    <tr>\n",
              "      <th>2</th>\n",
              "      <td>2.0</td>\n",
              "      <td>1.0</td>\n",
              "      <td>2.0</td>\n",
              "      <td>2.0</td>\n",
              "    </tr>\n",
              "    <tr>\n",
              "      <th>3</th>\n",
              "      <td>2.0</td>\n",
              "      <td>2.0</td>\n",
              "      <td>2.0</td>\n",
              "      <td>2.0</td>\n",
              "    </tr>\n",
              "    <tr>\n",
              "      <th>4</th>\n",
              "      <td>1.0</td>\n",
              "      <td>2.0</td>\n",
              "      <td>2.0</td>\n",
              "      <td>2.0</td>\n",
              "    </tr>\n",
              "    <tr>\n",
              "      <th>...</th>\n",
              "      <td>...</td>\n",
              "      <td>...</td>\n",
              "      <td>...</td>\n",
              "      <td>...</td>\n",
              "    </tr>\n",
              "    <tr>\n",
              "      <th>239995</th>\n",
              "      <td>2.0</td>\n",
              "      <td>2.0</td>\n",
              "      <td>2.0</td>\n",
              "      <td>2.0</td>\n",
              "    </tr>\n",
              "    <tr>\n",
              "      <th>239996</th>\n",
              "      <td>2.0</td>\n",
              "      <td>2.0</td>\n",
              "      <td>2.0</td>\n",
              "      <td>2.0</td>\n",
              "    </tr>\n",
              "    <tr>\n",
              "      <th>239997</th>\n",
              "      <td>1.0</td>\n",
              "      <td>1.0</td>\n",
              "      <td>1.0</td>\n",
              "      <td>2.0</td>\n",
              "    </tr>\n",
              "    <tr>\n",
              "      <th>239998</th>\n",
              "      <td>2.0</td>\n",
              "      <td>1.0</td>\n",
              "      <td>1.0</td>\n",
              "      <td>1.0</td>\n",
              "    </tr>\n",
              "    <tr>\n",
              "      <th>239999</th>\n",
              "      <td>1.0</td>\n",
              "      <td>2.0</td>\n",
              "      <td>1.0</td>\n",
              "      <td>2.0</td>\n",
              "    </tr>\n",
              "  </tbody>\n",
              "</table>\n",
              "<p>240000 rows × 4 columns</p>\n",
              "</div>"
            ],
            "text/plain": [
              "        tipodepropiedad_target_garages  ...  idzona_target_garages\n",
              "0                                  1.0  ...                    2.0\n",
              "1                                  2.0  ...                    2.0\n",
              "2                                  2.0  ...                    2.0\n",
              "3                                  2.0  ...                    2.0\n",
              "4                                  1.0  ...                    2.0\n",
              "...                                ...  ...                    ...\n",
              "239995                             2.0  ...                    2.0\n",
              "239996                             2.0  ...                    2.0\n",
              "239997                             1.0  ...                    2.0\n",
              "239998                             2.0  ...                    1.0\n",
              "239999                             1.0  ...                    2.0\n",
              "\n",
              "[240000 rows x 4 columns]"
            ]
          },
          "metadata": {
            "tags": []
          },
          "execution_count": 63
        }
      ]
    },
    {
      "cell_type": "markdown",
      "metadata": {
        "id": "M6jP1KYDcEtJ",
        "colab_type": "text"
      },
      "source": [
        "#### Pruebo el modelo"
      ]
    },
    {
      "cell_type": "code",
      "metadata": {
        "id": "GvgpaluzbUj1",
        "colab_type": "code",
        "colab": {}
      },
      "source": [
        "X = train[Numericos].join(dummies_palabras).join(target_encoder_metros).join(target_encoder_publicaciones).join(target_encoder_banos).join(target_encoder_metros_tot).join(target_encoder_garages)\n",
        "X_test = test[Numericos].join(dummies_palabras_test).join(target_encoder_metros_test).join(target_encoder_publicaciones_test).join(target_encoder_banos_test).join(target_encoder_metros_tot_test).join(target_encoder_garages_test)\n",
        "Y = train['precio']"
      ],
      "execution_count": 0,
      "outputs": []
    },
    {
      "cell_type": "code",
      "metadata": {
        "id": "TgIulypCbq-m",
        "colab_type": "code",
        "colab": {
          "base_uri": "https://localhost:8080/",
          "height": 486
        },
        "outputId": "e72a265c-3995-4885-ed0c-8155e8e75c1b"
      },
      "source": [
        "scores = cross_val_score(vr_model , X, Y, scoring=\"neg_mean_absolute_error\", cv=2)\n",
        "RF_mae_score3 = -scores.mean()\n",
        "RF_mae_score3"
      ],
      "execution_count": 65,
      "outputs": [
        {
          "output_type": "stream",
          "text": [
            "/usr/local/lib/python3.6/dist-packages/xgboost/core.py:587: FutureWarning: Series.base is deprecated and will be removed in a future version\n",
            "  if getattr(data, 'base', None) is not None and \\\n"
          ],
          "name": "stderr"
        },
        {
          "output_type": "stream",
          "text": [
            "[02:56:16] WARNING: /workspace/src/objective/regression_obj.cu:152: reg:linear is now deprecated in favor of reg:squarederror.\n",
            "[03:02:37] WARNING: /workspace/src/objective/regression_obj.cu:152: reg:linear is now deprecated in favor of reg:squarederror.\n",
            "[03:05:21] WARNING: /workspace/src/objective/regression_obj.cu:152: reg:linear is now deprecated in favor of reg:squarederror.\n",
            "[03:08:05] WARNING: /workspace/src/objective/regression_obj.cu:152: reg:linear is now deprecated in favor of reg:squarederror.\n",
            "[03:10:50] WARNING: /workspace/src/objective/regression_obj.cu:152: reg:linear is now deprecated in favor of reg:squarederror.\n",
            "[03:13:36] WARNING: /workspace/src/objective/regression_obj.cu:152: reg:linear is now deprecated in favor of reg:squarederror.\n",
            "[03:16:23] WARNING: /workspace/src/objective/regression_obj.cu:152: reg:linear is now deprecated in favor of reg:squarederror.\n",
            "[03:19:09] WARNING: /workspace/src/objective/regression_obj.cu:152: reg:linear is now deprecated in favor of reg:squarederror.\n",
            "[03:21:56] WARNING: /workspace/src/objective/regression_obj.cu:152: reg:linear is now deprecated in favor of reg:squarederror.\n",
            "[03:24:43] WARNING: /workspace/src/objective/regression_obj.cu:152: reg:linear is now deprecated in favor of reg:squarederror.\n",
            "[03:27:31] WARNING: /workspace/src/objective/regression_obj.cu:152: reg:linear is now deprecated in favor of reg:squarederror.\n"
          ],
          "name": "stdout"
        },
        {
          "output_type": "stream",
          "text": [
            "/usr/local/lib/python3.6/dist-packages/xgboost/core.py:587: FutureWarning: Series.base is deprecated and will be removed in a future version\n",
            "  if getattr(data, 'base', None) is not None and \\\n"
          ],
          "name": "stderr"
        },
        {
          "output_type": "stream",
          "text": [
            "[03:30:54] WARNING: /workspace/src/objective/regression_obj.cu:152: reg:linear is now deprecated in favor of reg:squarederror.\n",
            "[03:37:46] WARNING: /workspace/src/objective/regression_obj.cu:152: reg:linear is now deprecated in favor of reg:squarederror.\n",
            "[03:40:33] WARNING: /workspace/src/objective/regression_obj.cu:152: reg:linear is now deprecated in favor of reg:squarederror.\n",
            "[03:43:21] WARNING: /workspace/src/objective/regression_obj.cu:152: reg:linear is now deprecated in favor of reg:squarederror.\n",
            "[03:46:11] WARNING: /workspace/src/objective/regression_obj.cu:152: reg:linear is now deprecated in favor of reg:squarederror.\n",
            "[03:49:00] WARNING: /workspace/src/objective/regression_obj.cu:152: reg:linear is now deprecated in favor of reg:squarederror.\n",
            "[03:51:48] WARNING: /workspace/src/objective/regression_obj.cu:152: reg:linear is now deprecated in favor of reg:squarederror.\n",
            "[03:54:36] WARNING: /workspace/src/objective/regression_obj.cu:152: reg:linear is now deprecated in favor of reg:squarederror.\n",
            "[03:57:23] WARNING: /workspace/src/objective/regression_obj.cu:152: reg:linear is now deprecated in favor of reg:squarederror.\n",
            "[04:00:06] WARNING: /workspace/src/objective/regression_obj.cu:152: reg:linear is now deprecated in favor of reg:squarederror.\n",
            "[04:02:49] WARNING: /workspace/src/objective/regression_obj.cu:152: reg:linear is now deprecated in favor of reg:squarederror.\n"
          ],
          "name": "stdout"
        },
        {
          "output_type": "execute_result",
          "data": {
            "text/plain": [
              "502837.49652794667"
            ]
          },
          "metadata": {
            "tags": []
          },
          "execution_count": 65
        }
      ]
    },
    {
      "cell_type": "markdown",
      "metadata": {
        "id": "jjqpU24GMGpx",
        "colab_type": "text"
      },
      "source": [
        "## Falta probar esta última versión en Kaggle"
      ]
    },
    {
      "cell_type": "code",
      "metadata": {
        "id": "KQfrnj42MgYz",
        "colab_type": "code",
        "colab": {}
      },
      "source": [
        ""
      ],
      "execution_count": 0,
      "outputs": []
    },
    {
      "cell_type": "code",
      "metadata": {
        "id": "vjunmNuDMgds",
        "colab_type": "code",
        "colab": {}
      },
      "source": [
        ""
      ],
      "execution_count": 0,
      "outputs": []
    },
    {
      "cell_type": "markdown",
      "metadata": {
        "colab_type": "text",
        "id": "Ww85LVQJQFtQ"
      },
      "source": [
        "### Guardo los features para entrenar los modelos"
      ]
    },
    {
      "cell_type": "code",
      "metadata": {
        "colab_type": "code",
        "id": "KRkuRVMi8mHr",
        "colab": {}
      },
      "source": [
        "#me voy a guardar los features para poder tunear los modelos e hiper parámetros\n",
        "X.to_csv(\"../content/drive/My Drive/data/features_train.csv\", index = False)\n",
        "X_test.to_csv(\"../content/drive/My Drive/data/features_test.csv\", index = False)"
      ],
      "execution_count": 0,
      "outputs": []
    },
    {
      "cell_type": "markdown",
      "metadata": {
        "colab_type": "text",
        "id": "R00flp_TQbQU"
      },
      "source": [
        "# Creo submit"
      ]
    },
    {
      "cell_type": "code",
      "metadata": {
        "colab_type": "code",
        "id": "qDy4RdJEDznY",
        "outputId": "c4cdd4b5-9128-4b80-c5c9-bb0775be1cac",
        "colab": {
          "base_uri": "https://localhost:8080/",
          "height": 467
        }
      },
      "source": [
        "submit1 = crear_submit(vr_model,X, Y, X_test, \"_features_metros\")\n",
        "submit1.head()"
      ],
      "execution_count": 59,
      "outputs": [
        {
          "output_type": "stream",
          "text": [
            "/usr/local/lib/python3.6/dist-packages/xgboost/core.py:587: FutureWarning: Series.base is deprecated and will be removed in a future version\n",
            "  if getattr(data, 'base', None) is not None and \\\n",
            "/usr/local/lib/python3.6/dist-packages/xgboost/core.py:588: FutureWarning: Series.base is deprecated and will be removed in a future version\n",
            "  data.base is not None and isinstance(data, np.ndarray) \\\n"
          ],
          "name": "stderr"
        },
        {
          "output_type": "stream",
          "text": [
            "[01:17:17] WARNING: /workspace/src/objective/regression_obj.cu:152: reg:linear is now deprecated in favor of reg:squarederror.\n",
            "[01:31:31] WARNING: /workspace/src/objective/regression_obj.cu:152: reg:linear is now deprecated in favor of reg:squarederror.\n",
            "[01:37:19] WARNING: /workspace/src/objective/regression_obj.cu:152: reg:linear is now deprecated in favor of reg:squarederror.\n",
            "[01:43:06] WARNING: /workspace/src/objective/regression_obj.cu:152: reg:linear is now deprecated in favor of reg:squarederror.\n",
            "[01:48:48] WARNING: /workspace/src/objective/regression_obj.cu:152: reg:linear is now deprecated in favor of reg:squarederror.\n",
            "[01:54:32] WARNING: /workspace/src/objective/regression_obj.cu:152: reg:linear is now deprecated in favor of reg:squarederror.\n",
            "[02:00:15] WARNING: /workspace/src/objective/regression_obj.cu:152: reg:linear is now deprecated in favor of reg:squarederror.\n",
            "[02:05:56] WARNING: /workspace/src/objective/regression_obj.cu:152: reg:linear is now deprecated in favor of reg:squarederror.\n",
            "[02:11:40] WARNING: /workspace/src/objective/regression_obj.cu:152: reg:linear is now deprecated in favor of reg:squarederror.\n",
            "[02:17:28] WARNING: /workspace/src/objective/regression_obj.cu:152: reg:linear is now deprecated in favor of reg:squarederror.\n",
            "[02:23:16] WARNING: /workspace/src/objective/regression_obj.cu:152: reg:linear is now deprecated in favor of reg:squarederror.\n"
          ],
          "name": "stdout"
        },
        {
          "output_type": "execute_result",
          "data": {
            "text/html": [
              "<div>\n",
              "<style scoped>\n",
              "    .dataframe tbody tr th:only-of-type {\n",
              "        vertical-align: middle;\n",
              "    }\n",
              "\n",
              "    .dataframe tbody tr th {\n",
              "        vertical-align: top;\n",
              "    }\n",
              "\n",
              "    .dataframe thead th {\n",
              "        text-align: right;\n",
              "    }\n",
              "</style>\n",
              "<table border=\"1\" class=\"dataframe\">\n",
              "  <thead>\n",
              "    <tr style=\"text-align: right;\">\n",
              "      <th></th>\n",
              "      <th>id</th>\n",
              "      <th>target</th>\n",
              "    </tr>\n",
              "  </thead>\n",
              "  <tbody>\n",
              "    <tr>\n",
              "      <th>0</th>\n",
              "      <td>4941</td>\n",
              "      <td>6407000.0</td>\n",
              "    </tr>\n",
              "    <tr>\n",
              "      <th>1</th>\n",
              "      <td>51775</td>\n",
              "      <td>1041000.0</td>\n",
              "    </tr>\n",
              "    <tr>\n",
              "      <th>2</th>\n",
              "      <td>115253</td>\n",
              "      <td>2184000.0</td>\n",
              "    </tr>\n",
              "    <tr>\n",
              "      <th>3</th>\n",
              "      <td>299321</td>\n",
              "      <td>1415000.0</td>\n",
              "    </tr>\n",
              "    <tr>\n",
              "      <th>4</th>\n",
              "      <td>173570</td>\n",
              "      <td>623000.0</td>\n",
              "    </tr>\n",
              "  </tbody>\n",
              "</table>\n",
              "</div>"
            ],
            "text/plain": [
              "       id     target\n",
              "0    4941  6407000.0\n",
              "1   51775  1041000.0\n",
              "2  115253  2184000.0\n",
              "3  299321  1415000.0\n",
              "4  173570   623000.0"
            ]
          },
          "metadata": {
            "tags": []
          },
          "execution_count": 59
        }
      ]
    },
    {
      "cell_type": "code",
      "metadata": {
        "colab_type": "code",
        "id": "ttghzagUXHpm",
        "outputId": "5e3eb2b4-7bb4-4487-edb8-917fc8aa03f9",
        "colab": {
          "base_uri": "https://localhost:8080/",
          "height": 467
        }
      },
      "source": [
        "submit1 = crear_submit(vr_model, X, Y, X_test, \"_features_baños\")\n",
        "submit1.head()"
      ],
      "execution_count": 60,
      "outputs": [
        {
          "output_type": "stream",
          "text": [
            "/usr/local/lib/python3.6/dist-packages/xgboost/core.py:587: FutureWarning: Series.base is deprecated and will be removed in a future version\n",
            "  if getattr(data, 'base', None) is not None and \\\n",
            "/usr/local/lib/python3.6/dist-packages/xgboost/core.py:588: FutureWarning: Series.base is deprecated and will be removed in a future version\n",
            "  data.base is not None and isinstance(data, np.ndarray) \\\n"
          ],
          "name": "stderr"
        },
        {
          "output_type": "stream",
          "text": [
            "[23:14:48] WARNING: /workspace/src/objective/regression_obj.cu:152: reg:linear is now deprecated in favor of reg:squarederror.\n",
            "[23:28:24] WARNING: /workspace/src/objective/regression_obj.cu:152: reg:linear is now deprecated in favor of reg:squarederror.\n",
            "[23:33:54] WARNING: /workspace/src/objective/regression_obj.cu:152: reg:linear is now deprecated in favor of reg:squarederror.\n",
            "[23:39:23] WARNING: /workspace/src/objective/regression_obj.cu:152: reg:linear is now deprecated in favor of reg:squarederror.\n",
            "[23:44:53] WARNING: /workspace/src/objective/regression_obj.cu:152: reg:linear is now deprecated in favor of reg:squarederror.\n",
            "[23:50:23] WARNING: /workspace/src/objective/regression_obj.cu:152: reg:linear is now deprecated in favor of reg:squarederror.\n",
            "[23:55:55] WARNING: /workspace/src/objective/regression_obj.cu:152: reg:linear is now deprecated in favor of reg:squarederror.\n",
            "[00:01:30] WARNING: /workspace/src/objective/regression_obj.cu:152: reg:linear is now deprecated in favor of reg:squarederror.\n",
            "[00:07:06] WARNING: /workspace/src/objective/regression_obj.cu:152: reg:linear is now deprecated in favor of reg:squarederror.\n",
            "[00:12:45] WARNING: /workspace/src/objective/regression_obj.cu:152: reg:linear is now deprecated in favor of reg:squarederror.\n",
            "[00:18:21] WARNING: /workspace/src/objective/regression_obj.cu:152: reg:linear is now deprecated in favor of reg:squarederror.\n"
          ],
          "name": "stdout"
        },
        {
          "output_type": "execute_result",
          "data": {
            "text/html": [
              "<div>\n",
              "<style scoped>\n",
              "    .dataframe tbody tr th:only-of-type {\n",
              "        vertical-align: middle;\n",
              "    }\n",
              "\n",
              "    .dataframe tbody tr th {\n",
              "        vertical-align: top;\n",
              "    }\n",
              "\n",
              "    .dataframe thead th {\n",
              "        text-align: right;\n",
              "    }\n",
              "</style>\n",
              "<table border=\"1\" class=\"dataframe\">\n",
              "  <thead>\n",
              "    <tr style=\"text-align: right;\">\n",
              "      <th></th>\n",
              "      <th>id</th>\n",
              "      <th>target</th>\n",
              "    </tr>\n",
              "  </thead>\n",
              "  <tbody>\n",
              "    <tr>\n",
              "      <th>0</th>\n",
              "      <td>4941</td>\n",
              "      <td>6359000.0</td>\n",
              "    </tr>\n",
              "    <tr>\n",
              "      <th>1</th>\n",
              "      <td>51775</td>\n",
              "      <td>1327000.0</td>\n",
              "    </tr>\n",
              "    <tr>\n",
              "      <th>2</th>\n",
              "      <td>115253</td>\n",
              "      <td>2257000.0</td>\n",
              "    </tr>\n",
              "    <tr>\n",
              "      <th>3</th>\n",
              "      <td>299321</td>\n",
              "      <td>1282000.0</td>\n",
              "    </tr>\n",
              "    <tr>\n",
              "      <th>4</th>\n",
              "      <td>173570</td>\n",
              "      <td>605000.0</td>\n",
              "    </tr>\n",
              "  </tbody>\n",
              "</table>\n",
              "</div>"
            ],
            "text/plain": [
              "       id     target\n",
              "0    4941  6359000.0\n",
              "1   51775  1327000.0\n",
              "2  115253  2257000.0\n",
              "3  299321  1282000.0\n",
              "4  173570   605000.0"
            ]
          },
          "metadata": {
            "tags": []
          },
          "execution_count": 60
        }
      ]
    },
    {
      "cell_type": "code",
      "metadata": {
        "colab_type": "code",
        "id": "qpJvsXLVJE3x",
        "colab": {}
      },
      "source": [
        "X_normalized=normalizar_data(X)\n",
        "X_test_normalized=normalizar_data(X_test)\n"
      ],
      "execution_count": 0,
      "outputs": []
    },
    {
      "cell_type": "code",
      "metadata": {
        "colab_type": "code",
        "id": "iXSbYjGmDlMa",
        "colab": {}
      },
      "source": [
        ""
      ],
      "execution_count": 0,
      "outputs": []
    }
  ]
}