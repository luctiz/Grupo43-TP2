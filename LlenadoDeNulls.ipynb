{
  "nbformat": 4,
  "nbformat_minor": 0,
  "metadata": {
    "colab": {
      "name": "LlenadoDeNulls.ipynb",
      "provenance": [],
      "collapsed_sections": [],
      "include_colab_link": true
    },
    "kernelspec": {
      "display_name": "Python 3",
      "language": "python",
      "name": "python3"
    },
    "language_info": {
      "codemirror_mode": {
        "name": "ipython",
        "version": 3
      },
      "file_extension": ".py",
      "mimetype": "text/x-python",
      "name": "python",
      "nbconvert_exporter": "python",
      "pygments_lexer": "ipython3",
      "version": "3.6.8"
    }
  },
  "cells": [
    {
      "cell_type": "markdown",
      "metadata": {
        "id": "view-in-github",
        "colab_type": "text"
      },
      "source": [
        "<a href=\"https://colab.research.google.com/github/luctiz/Grupo43-TP2/blob/master/LlenadoDeNulls.ipynb\" target=\"_parent\"><img src=\"https://colab.research.google.com/assets/colab-badge.svg\" alt=\"Open In Colab\"/></a>"
      ]
    },
    {
      "cell_type": "code",
      "metadata": {
        "colab_type": "code",
        "id": "3N353lUK9JCG",
        "colab": {}
      },
      "source": [
        "import pandas as pd\n",
        "from datetime import datetime\n",
        "import numpy as np"
      ],
      "execution_count": 0,
      "outputs": []
    },
    {
      "cell_type": "code",
      "metadata": {
        "id": "OJQIlHPpUlBw",
        "colab_type": "code",
        "outputId": "3b50f5b6-1c41-4232-8cd2-74a73143c628",
        "colab": {
          "base_uri": "https://localhost:8080/",
          "height": 124
        }
      },
      "source": [
        "#from google.colab import drive\n",
        "#drive.mount('/content/drive')\n"
      ],
      "execution_count": 0,
      "outputs": [
        {
          "output_type": "stream",
          "text": [
            "Go to this URL in a browser: https://accounts.google.com/o/oauth2/auth?client_id=947318989803-6bn6qk8qdgf4n4g3pfee6491hc0brc4i.apps.googleusercontent.com&redirect_uri=urn%3aietf%3awg%3aoauth%3a2.0%3aoob&response_type=code&scope=email%20https%3a%2f%2fwww.googleapis.com%2fauth%2fdocs.test%20https%3a%2f%2fwww.googleapis.com%2fauth%2fdrive%20https%3a%2f%2fwww.googleapis.com%2fauth%2fdrive.photos.readonly%20https%3a%2f%2fwww.googleapis.com%2fauth%2fpeopleapi.readonly\n",
            "\n",
            "Enter your authorization code:\n",
            "··········\n",
            "Mounted at /content/drive\n"
          ],
          "name": "stdout"
        }
      ]
    },
    {
      "cell_type": "code",
      "metadata": {
        "colab_type": "code",
        "id": "8MBqVQ0t-fcY",
        "colab": {}
      },
      "source": [
        "df2 = pd.read_csv(\"data/test.csv\", parse_dates = ['fecha'])\n",
        "df = pd.read_csv(\"data/train.csv\",parse_dates = ['fecha'])"
      ],
      "execution_count": 0,
      "outputs": []
    },
    {
      "cell_type": "markdown",
      "metadata": {
        "id": "h3Q4yP6lUYTk",
        "colab_type": "text"
      },
      "source": [
        "## Empiezo a ver columna por columna como tratar los nulls si es que tienen."
      ]
    },
    {
      "cell_type": "markdown",
      "metadata": {
        "id": "lqAbEgMEUYTs",
        "colab_type": "text"
      },
      "source": [
        "## Precio"
      ]
    },
    {
      "cell_type": "code",
      "metadata": {
        "id": "Ww4D-sj9UYTw",
        "colab_type": "code",
        "colab": {}
      },
      "source": [
        "df['precio']=df['precio'].astype(np.int32)"
      ],
      "execution_count": 0,
      "outputs": []
    },
    {
      "cell_type": "markdown",
      "metadata": {
        "id": "MgsHiAlXUYUB",
        "colab_type": "text"
      },
      "source": [
        "## Id"
      ]
    },
    {
      "cell_type": "code",
      "metadata": {
        "id": "XA8U1LxFUYUF",
        "colab_type": "code",
        "colab": {}
      },
      "source": [
        "df['id']=df['id'].astype(np.int32)\n",
        "df2['id']=df2['id'].astype(np.int32)"
      ],
      "execution_count": 0,
      "outputs": []
    },
    {
      "cell_type": "markdown",
      "metadata": {
        "id": "JgHiG51KUYUV",
        "colab_type": "text"
      },
      "source": [
        "### Gimnasio"
      ]
    },
    {
      "cell_type": "code",
      "metadata": {
        "scrolled": true,
        "id": "rfkdr2QXUYUb",
        "colab_type": "code",
        "colab": {}
      },
      "source": [
        "df['gimnasio']=df['gimnasio'].astype(np.int8)\n",
        "df2['gimnasio']=df2['gimnasio'].astype(np.int8)"
      ],
      "execution_count": 0,
      "outputs": []
    },
    {
      "cell_type": "markdown",
      "metadata": {
        "id": "YQ9ZXUSwUYUo",
        "colab_type": "text"
      },
      "source": [
        "### Usos multiples"
      ]
    },
    {
      "cell_type": "code",
      "metadata": {
        "scrolled": true,
        "id": "5rSD0e6_UYUt",
        "colab_type": "code",
        "colab": {}
      },
      "source": [
        "df['usosmultiples']=df['usosmultiples'].astype(np.int8)\n",
        "df2['usosmultiples']=df2['usosmultiples'].astype(np.int8)"
      ],
      "execution_count": 0,
      "outputs": []
    },
    {
      "cell_type": "markdown",
      "metadata": {
        "id": "WTp2IrQmUYU9",
        "colab_type": "text"
      },
      "source": [
        "### Piscina"
      ]
    },
    {
      "cell_type": "code",
      "metadata": {
        "scrolled": true,
        "id": "cxEkvCjHUYVC",
        "colab_type": "code",
        "colab": {}
      },
      "source": [
        "df['piscina']=df['piscina'].astype(np.int8)\n",
        "df2['piscina']=df2['piscina'].astype(np.int8)"
      ],
      "execution_count": 0,
      "outputs": []
    },
    {
      "cell_type": "markdown",
      "metadata": {
        "id": "R1PzFwOAUYVP",
        "colab_type": "text"
      },
      "source": [
        "### Escuelas cercanas"
      ]
    },
    {
      "cell_type": "code",
      "metadata": {
        "scrolled": true,
        "id": "cYAP8Op-UYVU",
        "colab_type": "code",
        "colab": {}
      },
      "source": [
        "df['escuelascercanas']=df['escuelascercanas'].astype(np.int8)\n",
        "df2['escuelascercanas']=df2['escuelascercanas'].astype(np.int8)"
      ],
      "execution_count": 0,
      "outputs": []
    },
    {
      "cell_type": "markdown",
      "metadata": {
        "id": "J66ldKEFUYVf",
        "colab_type": "text"
      },
      "source": [
        "### Centros comerciales cercanos"
      ]
    },
    {
      "cell_type": "code",
      "metadata": {
        "scrolled": true,
        "id": "vpNYGVE-UYVm",
        "colab_type": "code",
        "colab": {}
      },
      "source": [
        "df['centroscomercialescercanos']=df['centroscomercialescercanos'].astype(np.int8)\n",
        "df2['centroscomercialescercanos']=df2['centroscomercialescercanos'].astype(np.int8)"
      ],
      "execution_count": 0,
      "outputs": []
    },
    {
      "cell_type": "markdown",
      "metadata": {
        "id": "9vWHQh1LUYVz",
        "colab_type": "text"
      },
      "source": [
        "### Titulo y descripcion"
      ]
    },
    {
      "cell_type": "code",
      "metadata": {
        "id": "bkvsYuQAUYV2",
        "colab_type": "code",
        "outputId": "474c1ca8-ac7f-435a-f517-7a15bf240acc",
        "colab": {
          "base_uri": "https://localhost:8080/",
          "height": 34
        }
      },
      "source": [
        "df['descripcion'].isnull().sum()"
      ],
      "execution_count": 0,
      "outputs": [
        {
          "output_type": "execute_result",
          "data": {
            "text/plain": [
              "1619"
            ]
          },
          "metadata": {
            "tags": []
          },
          "execution_count": 11
        }
      ]
    },
    {
      "cell_type": "code",
      "metadata": {
        "id": "am45xE1JUYWE",
        "colab_type": "code",
        "outputId": "b688fd86-f27a-492e-981a-ffac45885165",
        "colab": {
          "base_uri": "https://localhost:8080/",
          "height": 34
        }
      },
      "source": [
        "df['titulo'].isnull().sum()"
      ],
      "execution_count": 0,
      "outputs": [
        {
          "output_type": "execute_result",
          "data": {
            "text/plain": [
              "5387"
            ]
          },
          "metadata": {
            "tags": []
          },
          "execution_count": 12
        }
      ]
    },
    {
      "cell_type": "code",
      "metadata": {
        "id": "TZfhZXU2UYWR",
        "colab_type": "code",
        "colab": {}
      },
      "source": [
        "df['titulo']=df['titulo'].fillna(' ')\n",
        "df['descripcion']=df['descripcion'].fillna(' ')"
      ],
      "execution_count": 0,
      "outputs": []
    },
    {
      "cell_type": "code",
      "metadata": {
        "id": "-pUYI1sVUYWd",
        "colab_type": "code",
        "outputId": "469a4e92-1678-4ef0-bdeb-f15d6fcb8975",
        "colab": {
          "base_uri": "https://localhost:8080/",
          "height": 34
        }
      },
      "source": [
        "df2['descripcion'].isnull().sum()"
      ],
      "execution_count": 0,
      "outputs": [
        {
          "output_type": "execute_result",
          "data": {
            "text/plain": [
              "401"
            ]
          },
          "metadata": {
            "tags": []
          },
          "execution_count": 14
        }
      ]
    },
    {
      "cell_type": "code",
      "metadata": {
        "id": "7ooRdxZ-UYWq",
        "colab_type": "code",
        "outputId": "2df87ce8-435a-470f-ed6f-a16d49c24ce8",
        "colab": {
          "base_uri": "https://localhost:8080/",
          "height": 34
        }
      },
      "source": [
        "df2['titulo'].isnull().sum()"
      ],
      "execution_count": 0,
      "outputs": [
        {
          "output_type": "execute_result",
          "data": {
            "text/plain": [
              "1378"
            ]
          },
          "metadata": {
            "tags": []
          },
          "execution_count": 15
        }
      ]
    },
    {
      "cell_type": "code",
      "metadata": {
        "id": "BbnpPGNYUYW3",
        "colab_type": "code",
        "colab": {}
      },
      "source": [
        "df2['titulo']=df2['titulo'].fillna(' ')\n",
        "df2['descripcion']=df2['descripcion'].fillna(' ')"
      ],
      "execution_count": 0,
      "outputs": []
    },
    {
      "cell_type": "markdown",
      "metadata": {
        "id": "dZAI42CjUYXC",
        "colab_type": "text"
      },
      "source": [
        "### Direccion"
      ]
    },
    {
      "cell_type": "code",
      "metadata": {
        "id": "xnVRx7srUYXH",
        "colab_type": "code",
        "outputId": "092e642d-5138-4990-c88f-bb8c2b81dc51",
        "colab": {
          "base_uri": "https://localhost:8080/",
          "height": 34
        }
      },
      "source": [
        "df['direccion'].isnull().sum()"
      ],
      "execution_count": 0,
      "outputs": [
        {
          "output_type": "execute_result",
          "data": {
            "text/plain": [
              "53072"
            ]
          },
          "metadata": {
            "tags": []
          },
          "execution_count": 17
        }
      ]
    },
    {
      "cell_type": "code",
      "metadata": {
        "id": "Ay7gsAv3UYXS",
        "colab_type": "code",
        "colab": {}
      },
      "source": [
        "#Relleno los nulls en direccion con un - .\n",
        "df['direccion']=df['direccion'].fillna('-')"
      ],
      "execution_count": 0,
      "outputs": []
    },
    {
      "cell_type": "code",
      "metadata": {
        "id": "PNmJCNOOUYXc",
        "colab_type": "code",
        "outputId": "89dbedb5-65ad-44af-bc73-efe57dad4f10",
        "colab": {
          "base_uri": "https://localhost:8080/",
          "height": 34
        }
      },
      "source": [
        "df2['direccion'].isnull().sum()"
      ],
      "execution_count": 0,
      "outputs": [
        {
          "output_type": "execute_result",
          "data": {
            "text/plain": [
              "13191"
            ]
          },
          "metadata": {
            "tags": []
          },
          "execution_count": 19
        }
      ]
    },
    {
      "cell_type": "code",
      "metadata": {
        "id": "Nx_iadkaUYYB",
        "colab_type": "code",
        "colab": {}
      },
      "source": [
        "#Relleno los nulls en direccion con un - .\n",
        "df2['direccion']=df2['direccion'].fillna('-')"
      ],
      "execution_count": 0,
      "outputs": []
    },
    {
      "cell_type": "markdown",
      "metadata": {
        "id": "YY24IsnnUYYJ",
        "colab_type": "text"
      },
      "source": [
        "### Tipo de propiedad"
      ]
    },
    {
      "cell_type": "code",
      "metadata": {
        "id": "i0J9xD1YUYYL",
        "colab_type": "code",
        "colab": {}
      },
      "source": [
        "df['tipodepropiedad']=df['tipodepropiedad'].fillna('N/A')"
      ],
      "execution_count": 0,
      "outputs": []
    },
    {
      "cell_type": "code",
      "metadata": {
        "id": "PKu1CD-RUYYU",
        "colab_type": "code",
        "outputId": "855a1abb-ee25-49c7-a0c2-6b007f5e71d6",
        "colab": {
          "base_uri": "https://localhost:8080/",
          "height": 1000
        }
      },
      "source": [
        "df.loc[df['tipodepropiedad']=='N/A']"
      ],
      "execution_count": 0,
      "outputs": [
        {
          "output_type": "execute_result",
          "data": {
            "text/html": [
              "<div>\n",
              "<style scoped>\n",
              "    .dataframe tbody tr th:only-of-type {\n",
              "        vertical-align: middle;\n",
              "    }\n",
              "\n",
              "    .dataframe tbody tr th {\n",
              "        vertical-align: top;\n",
              "    }\n",
              "\n",
              "    .dataframe thead th {\n",
              "        text-align: right;\n",
              "    }\n",
              "</style>\n",
              "<table border=\"1\" class=\"dataframe\">\n",
              "  <thead>\n",
              "    <tr style=\"text-align: right;\">\n",
              "      <th></th>\n",
              "      <th>id</th>\n",
              "      <th>titulo</th>\n",
              "      <th>descripcion</th>\n",
              "      <th>tipodepropiedad</th>\n",
              "      <th>direccion</th>\n",
              "      <th>ciudad</th>\n",
              "      <th>provincia</th>\n",
              "      <th>antiguedad</th>\n",
              "      <th>habitaciones</th>\n",
              "      <th>garages</th>\n",
              "      <th>banos</th>\n",
              "      <th>metroscubiertos</th>\n",
              "      <th>metrostotales</th>\n",
              "      <th>idzona</th>\n",
              "      <th>lat</th>\n",
              "      <th>lng</th>\n",
              "      <th>fecha</th>\n",
              "      <th>gimnasio</th>\n",
              "      <th>usosmultiples</th>\n",
              "      <th>piscina</th>\n",
              "      <th>escuelascercanas</th>\n",
              "      <th>centroscomercialescercanos</th>\n",
              "      <th>precio</th>\n",
              "    </tr>\n",
              "  </thead>\n",
              "  <tbody>\n",
              "    <tr>\n",
              "      <th>5307</th>\n",
              "      <td>230046</td>\n",
              "      <td>casas en venta</td>\n",
              "      <td>en juriquilla. detras de la uvm, tres recamara...</td>\n",
              "      <td>N/A</td>\n",
              "      <td>-</td>\n",
              "      <td>NaN</td>\n",
              "      <td>San luis Potosí</td>\n",
              "      <td>0.0</td>\n",
              "      <td>3.0</td>\n",
              "      <td>2.0</td>\n",
              "      <td>3.0</td>\n",
              "      <td>136.0</td>\n",
              "      <td>160.0</td>\n",
              "      <td>NaN</td>\n",
              "      <td>NaN</td>\n",
              "      <td>NaN</td>\n",
              "      <td>2014-06-14</td>\n",
              "      <td>0</td>\n",
              "      <td>0</td>\n",
              "      <td>0</td>\n",
              "      <td>0</td>\n",
              "      <td>0</td>\n",
              "      <td>1450000</td>\n",
              "    </tr>\n",
              "    <tr>\n",
              "      <th>8273</th>\n",
              "      <td>68458</td>\n",
              "      <td>departamento en la playa, chicxulub</td>\n",
              "      <td>&lt;p&gt;13 departamentos vacacionales con acabados ...</td>\n",
              "      <td>N/A</td>\n",
              "      <td>-</td>\n",
              "      <td>Progreso</td>\n",
              "      <td>Yucatán</td>\n",
              "      <td>0.0</td>\n",
              "      <td>3.0</td>\n",
              "      <td>NaN</td>\n",
              "      <td>2.0</td>\n",
              "      <td>239.0</td>\n",
              "      <td>NaN</td>\n",
              "      <td>114417.0</td>\n",
              "      <td>NaN</td>\n",
              "      <td>NaN</td>\n",
              "      <td>2015-10-02</td>\n",
              "      <td>0</td>\n",
              "      <td>0</td>\n",
              "      <td>0</td>\n",
              "      <td>0</td>\n",
              "      <td>0</td>\n",
              "      <td>4822342</td>\n",
              "    </tr>\n",
              "    <tr>\n",
              "      <th>13957</th>\n",
              "      <td>48797</td>\n",
              "      <td>casas de campo en venta real del potosi</td>\n",
              "      <td>casa en real del potosã?â­, cuenta con: 1 casa...</td>\n",
              "      <td>N/A</td>\n",
              "      <td>-</td>\n",
              "      <td>San Luis Potosí</td>\n",
              "      <td>San luis Potosí</td>\n",
              "      <td>NaN</td>\n",
              "      <td>5.0</td>\n",
              "      <td>NaN</td>\n",
              "      <td>NaN</td>\n",
              "      <td>400.0</td>\n",
              "      <td>NaN</td>\n",
              "      <td>NaN</td>\n",
              "      <td>NaN</td>\n",
              "      <td>NaN</td>\n",
              "      <td>2014-06-23</td>\n",
              "      <td>0</td>\n",
              "      <td>0</td>\n",
              "      <td>0</td>\n",
              "      <td>0</td>\n",
              "      <td>0</td>\n",
              "      <td>3500000</td>\n",
              "    </tr>\n",
              "    <tr>\n",
              "      <th>15598</th>\n",
              "      <td>111329</td>\n",
              "      <td>casas en venta villa magna</td>\n",
              "      <td>espectacular casa en esquina  con vista a la c...</td>\n",
              "      <td>N/A</td>\n",
              "      <td>-</td>\n",
              "      <td>NaN</td>\n",
              "      <td>San luis Potosí</td>\n",
              "      <td>NaN</td>\n",
              "      <td>4.0</td>\n",
              "      <td>2.0</td>\n",
              "      <td>NaN</td>\n",
              "      <td>350.0</td>\n",
              "      <td>220.0</td>\n",
              "      <td>NaN</td>\n",
              "      <td>NaN</td>\n",
              "      <td>NaN</td>\n",
              "      <td>2014-06-24</td>\n",
              "      <td>0</td>\n",
              "      <td>0</td>\n",
              "      <td>0</td>\n",
              "      <td>0</td>\n",
              "      <td>0</td>\n",
              "      <td>3000000</td>\n",
              "    </tr>\n",
              "    <tr>\n",
              "      <th>15763</th>\n",
              "      <td>231968</td>\n",
              "      <td>casas de campo en venta santa maria del rio</td>\n",
              "      <td>agua, luz, fosa septica, aljibe de 18m3, 4 rec...</td>\n",
              "      <td>N/A</td>\n",
              "      <td>-</td>\n",
              "      <td>San Luis Potosí</td>\n",
              "      <td>San luis Potosí</td>\n",
              "      <td>NaN</td>\n",
              "      <td>4.0</td>\n",
              "      <td>NaN</td>\n",
              "      <td>2.0</td>\n",
              "      <td>240.0</td>\n",
              "      <td>NaN</td>\n",
              "      <td>NaN</td>\n",
              "      <td>NaN</td>\n",
              "      <td>NaN</td>\n",
              "      <td>2014-08-24</td>\n",
              "      <td>0</td>\n",
              "      <td>0</td>\n",
              "      <td>0</td>\n",
              "      <td>0</td>\n",
              "      <td>0</td>\n",
              "      <td>750000</td>\n",
              "    </tr>\n",
              "    <tr>\n",
              "      <th>16949</th>\n",
              "      <td>1517</td>\n",
              "      <td>venta de casa en boca del río</td>\n",
              "      <td>casa con terreno con excelente ubicacion, zona...</td>\n",
              "      <td>N/A</td>\n",
              "      <td>Av Via Muerta 3 - A</td>\n",
              "      <td>Boca del Río</td>\n",
              "      <td>Veracruz</td>\n",
              "      <td>NaN</td>\n",
              "      <td>2.0</td>\n",
              "      <td>0.0</td>\n",
              "      <td>2.0</td>\n",
              "      <td>113.0</td>\n",
              "      <td>213.0</td>\n",
              "      <td>NaN</td>\n",
              "      <td>NaN</td>\n",
              "      <td>NaN</td>\n",
              "      <td>2014-02-02</td>\n",
              "      <td>0</td>\n",
              "      <td>0</td>\n",
              "      <td>0</td>\n",
              "      <td>0</td>\n",
              "      <td>0</td>\n",
              "      <td>1500000</td>\n",
              "    </tr>\n",
              "    <tr>\n",
              "      <th>17512</th>\n",
              "      <td>78161</td>\n",
              "      <td>terrenos en venta san luis</td>\n",
              "      <td></td>\n",
              "      <td>N/A</td>\n",
              "      <td>-</td>\n",
              "      <td>San Luis Potosí</td>\n",
              "      <td>San luis Potosí</td>\n",
              "      <td>NaN</td>\n",
              "      <td>NaN</td>\n",
              "      <td>NaN</td>\n",
              "      <td>NaN</td>\n",
              "      <td>78.0</td>\n",
              "      <td>NaN</td>\n",
              "      <td>NaN</td>\n",
              "      <td>22.151696</td>\n",
              "      <td>-100.964119</td>\n",
              "      <td>2014-08-24</td>\n",
              "      <td>0</td>\n",
              "      <td>0</td>\n",
              "      <td>0</td>\n",
              "      <td>0</td>\n",
              "      <td>0</td>\n",
              "      <td>1500000</td>\n",
              "    </tr>\n",
              "    <tr>\n",
              "      <th>20067</th>\n",
              "      <td>170109</td>\n",
              "      <td>comercio - blvd. interlomas</td>\n",
              "      <td>excelente local comercial ubicado en la planta...</td>\n",
              "      <td>N/A</td>\n",
              "      <td>-</td>\n",
              "      <td>Huixquilucan</td>\n",
              "      <td>Edo. de México</td>\n",
              "      <td>20.0</td>\n",
              "      <td>NaN</td>\n",
              "      <td>NaN</td>\n",
              "      <td>NaN</td>\n",
              "      <td>NaN</td>\n",
              "      <td>35.0</td>\n",
              "      <td>NaN</td>\n",
              "      <td>NaN</td>\n",
              "      <td>NaN</td>\n",
              "      <td>2015-07-03</td>\n",
              "      <td>0</td>\n",
              "      <td>0</td>\n",
              "      <td>0</td>\n",
              "      <td>0</td>\n",
              "      <td>0</td>\n",
              "      <td>1400000</td>\n",
              "    </tr>\n",
              "    <tr>\n",
              "      <th>25310</th>\n",
              "      <td>49448</td>\n",
              "      <td>departamento villas wayak modelo xel- há 2 nivel</td>\n",
              "      <td>&lt;p&gt;disfrute una majestuosa vista al mar desde ...</td>\n",
              "      <td>N/A</td>\n",
              "      <td>-</td>\n",
              "      <td>Progreso</td>\n",
              "      <td>Yucatán</td>\n",
              "      <td>5.0</td>\n",
              "      <td>3.0</td>\n",
              "      <td>NaN</td>\n",
              "      <td>3.0</td>\n",
              "      <td>168.0</td>\n",
              "      <td>NaN</td>\n",
              "      <td>114417.0</td>\n",
              "      <td>21.312885</td>\n",
              "      <td>-89.522352</td>\n",
              "      <td>2016-04-27</td>\n",
              "      <td>0</td>\n",
              "      <td>0</td>\n",
              "      <td>1</td>\n",
              "      <td>0</td>\n",
              "      <td>0</td>\n",
              "      <td>3590000</td>\n",
              "    </tr>\n",
              "    <tr>\n",
              "      <th>26290</th>\n",
              "      <td>273036</td>\n",
              "      <td>casas en venta minas del real</td>\n",
              "      <td>patio trasero, reja de malla</td>\n",
              "      <td>N/A</td>\n",
              "      <td>-</td>\n",
              "      <td>NaN</td>\n",
              "      <td>San luis Potosí</td>\n",
              "      <td>NaN</td>\n",
              "      <td>2.0</td>\n",
              "      <td>1.0</td>\n",
              "      <td>1.0</td>\n",
              "      <td>58.0</td>\n",
              "      <td>105.0</td>\n",
              "      <td>NaN</td>\n",
              "      <td>22.138350</td>\n",
              "      <td>-100.933810</td>\n",
              "      <td>2014-08-24</td>\n",
              "      <td>0</td>\n",
              "      <td>0</td>\n",
              "      <td>0</td>\n",
              "      <td>0</td>\n",
              "      <td>0</td>\n",
              "      <td>900000</td>\n",
              "    </tr>\n",
              "    <tr>\n",
              "      <th>28628</th>\n",
              "      <td>24043</td>\n",
              "      <td>locales en venta central de abastos</td>\n",
              "      <td>** lc  locales comerciales en via principal. 4...</td>\n",
              "      <td>N/A</td>\n",
              "      <td>-</td>\n",
              "      <td>San Luis Potosí</td>\n",
              "      <td>San luis Potosí</td>\n",
              "      <td>NaN</td>\n",
              "      <td>NaN</td>\n",
              "      <td>NaN</td>\n",
              "      <td>NaN</td>\n",
              "      <td>180.0</td>\n",
              "      <td>171.0</td>\n",
              "      <td>NaN</td>\n",
              "      <td>NaN</td>\n",
              "      <td>NaN</td>\n",
              "      <td>2014-08-24</td>\n",
              "      <td>0</td>\n",
              "      <td>0</td>\n",
              "      <td>0</td>\n",
              "      <td>0</td>\n",
              "      <td>0</td>\n",
              "      <td>5000000</td>\n",
              "    </tr>\n",
              "    <tr>\n",
              "      <th>44916</th>\n",
              "      <td>162314</td>\n",
              "      <td>en venta carr zacatecas</td>\n",
              "      <td>cabaã¯â¿â½a de una planta, 3 recamaras, sala c...</td>\n",
              "      <td>N/A</td>\n",
              "      <td>-</td>\n",
              "      <td>San Luis Potosí</td>\n",
              "      <td>San luis Potosí</td>\n",
              "      <td>NaN</td>\n",
              "      <td>3.0</td>\n",
              "      <td>NaN</td>\n",
              "      <td>NaN</td>\n",
              "      <td>250.0</td>\n",
              "      <td>NaN</td>\n",
              "      <td>NaN</td>\n",
              "      <td>NaN</td>\n",
              "      <td>NaN</td>\n",
              "      <td>2014-08-24</td>\n",
              "      <td>0</td>\n",
              "      <td>0</td>\n",
              "      <td>0</td>\n",
              "      <td>0</td>\n",
              "      <td>0</td>\n",
              "      <td>900000</td>\n",
              "    </tr>\n",
              "    <tr>\n",
              "      <th>45331</th>\n",
              "      <td>11234</td>\n",
              "      <td>exclusiva casa en el norte de merida!!,  san r...</td>\n",
              "      <td>&lt;p&gt;exclusiva y novedosa residencia en san ramó...</td>\n",
              "      <td>N/A</td>\n",
              "      <td>-</td>\n",
              "      <td>Mérida</td>\n",
              "      <td>Yucatán</td>\n",
              "      <td>NaN</td>\n",
              "      <td>4.0</td>\n",
              "      <td>2.0</td>\n",
              "      <td>NaN</td>\n",
              "      <td>365.0</td>\n",
              "      <td>300.0</td>\n",
              "      <td>113867.0</td>\n",
              "      <td>NaN</td>\n",
              "      <td>NaN</td>\n",
              "      <td>2015-11-06</td>\n",
              "      <td>0</td>\n",
              "      <td>0</td>\n",
              "      <td>0</td>\n",
              "      <td>0</td>\n",
              "      <td>0</td>\n",
              "      <td>2650000</td>\n",
              "    </tr>\n",
              "    <tr>\n",
              "      <th>47533</th>\n",
              "      <td>34286</td>\n",
              "      <td>casas en venta balcones del valle</td>\n",
              "      <td>planta alta: recibidor 3 recamaras la principa...</td>\n",
              "      <td>N/A</td>\n",
              "      <td>-</td>\n",
              "      <td>San Luis Potosí</td>\n",
              "      <td>San luis Potosí</td>\n",
              "      <td>NaN</td>\n",
              "      <td>3.0</td>\n",
              "      <td>NaN</td>\n",
              "      <td>NaN</td>\n",
              "      <td>NaN</td>\n",
              "      <td>200.0</td>\n",
              "      <td>NaN</td>\n",
              "      <td>NaN</td>\n",
              "      <td>NaN</td>\n",
              "      <td>2014-06-18</td>\n",
              "      <td>0</td>\n",
              "      <td>0</td>\n",
              "      <td>0</td>\n",
              "      <td>0</td>\n",
              "      <td>0</td>\n",
              "      <td>2600000</td>\n",
              "    </tr>\n",
              "    <tr>\n",
              "      <th>50496</th>\n",
              "      <td>286805</td>\n",
              "      <td>casas en venta candiles</td>\n",
              "      <td></td>\n",
              "      <td>N/A</td>\n",
              "      <td>-</td>\n",
              "      <td>NaN</td>\n",
              "      <td>San luis Potosí</td>\n",
              "      <td>15.0</td>\n",
              "      <td>2.0</td>\n",
              "      <td>1.0</td>\n",
              "      <td>1.0</td>\n",
              "      <td>81.0</td>\n",
              "      <td>105.0</td>\n",
              "      <td>NaN</td>\n",
              "      <td>20.543396</td>\n",
              "      <td>-100.401478</td>\n",
              "      <td>2014-08-24</td>\n",
              "      <td>0</td>\n",
              "      <td>0</td>\n",
              "      <td>0</td>\n",
              "      <td>0</td>\n",
              "      <td>0</td>\n",
              "      <td>680000</td>\n",
              "    </tr>\n",
              "    <tr>\n",
              "      <th>58002</th>\n",
              "      <td>188386</td>\n",
              "      <td>en venta villa rica</td>\n",
              "      <td></td>\n",
              "      <td>N/A</td>\n",
              "      <td>-</td>\n",
              "      <td>NaN</td>\n",
              "      <td>NaN</td>\n",
              "      <td>NaN</td>\n",
              "      <td>NaN</td>\n",
              "      <td>NaN</td>\n",
              "      <td>NaN</td>\n",
              "      <td>NaN</td>\n",
              "      <td>360.0</td>\n",
              "      <td>NaN</td>\n",
              "      <td>NaN</td>\n",
              "      <td>NaN</td>\n",
              "      <td>2014-10-16</td>\n",
              "      <td>0</td>\n",
              "      <td>0</td>\n",
              "      <td>0</td>\n",
              "      <td>0</td>\n",
              "      <td>0</td>\n",
              "      <td>3650000</td>\n",
              "    </tr>\n",
              "    <tr>\n",
              "      <th>65448</th>\n",
              "      <td>271322</td>\n",
              "      <td>locales en venta carr rio verde</td>\n",
              "      <td>***opcion  lc  locales comerciales, pb.: 1o.; ...</td>\n",
              "      <td>N/A</td>\n",
              "      <td>-</td>\n",
              "      <td>San Luis Potosí</td>\n",
              "      <td>San luis Potosí</td>\n",
              "      <td>NaN</td>\n",
              "      <td>NaN</td>\n",
              "      <td>NaN</td>\n",
              "      <td>NaN</td>\n",
              "      <td>200.0</td>\n",
              "      <td>200.0</td>\n",
              "      <td>NaN</td>\n",
              "      <td>NaN</td>\n",
              "      <td>NaN</td>\n",
              "      <td>2014-08-24</td>\n",
              "      <td>0</td>\n",
              "      <td>0</td>\n",
              "      <td>0</td>\n",
              "      <td>0</td>\n",
              "      <td>0</td>\n",
              "      <td>1250000</td>\n",
              "    </tr>\n",
              "    <tr>\n",
              "      <th>66085</th>\n",
              "      <td>244122</td>\n",
              "      <td>casas en condominio - av. club de golf lomas</td>\n",
              "      <td>excelente casa en condominio horizontal en el ...</td>\n",
              "      <td>N/A</td>\n",
              "      <td>-</td>\n",
              "      <td>NaN</td>\n",
              "      <td>NaN</td>\n",
              "      <td>NaN</td>\n",
              "      <td>NaN</td>\n",
              "      <td>NaN</td>\n",
              "      <td>NaN</td>\n",
              "      <td>NaN</td>\n",
              "      <td>272.0</td>\n",
              "      <td>NaN</td>\n",
              "      <td>NaN</td>\n",
              "      <td>NaN</td>\n",
              "      <td>2015-03-29</td>\n",
              "      <td>0</td>\n",
              "      <td>0</td>\n",
              "      <td>0</td>\n",
              "      <td>0</td>\n",
              "      <td>0</td>\n",
              "      <td>10271208</td>\n",
              "    </tr>\n",
              "    <tr>\n",
              "      <th>94778</th>\n",
              "      <td>208435</td>\n",
              "      <td>casas en venta horizontes residencial</td>\n",
              "      <td>lotes  93 y  96  **casa dos plantas 3 recamara...</td>\n",
              "      <td>N/A</td>\n",
              "      <td>-</td>\n",
              "      <td>San Luis Potosí</td>\n",
              "      <td>San luis Potosí</td>\n",
              "      <td>NaN</td>\n",
              "      <td>3.0</td>\n",
              "      <td>NaN</td>\n",
              "      <td>NaN</td>\n",
              "      <td>141.0</td>\n",
              "      <td>160.0</td>\n",
              "      <td>NaN</td>\n",
              "      <td>NaN</td>\n",
              "      <td>NaN</td>\n",
              "      <td>2014-06-22</td>\n",
              "      <td>0</td>\n",
              "      <td>0</td>\n",
              "      <td>0</td>\n",
              "      <td>0</td>\n",
              "      <td>0</td>\n",
              "      <td>1570000</td>\n",
              "    </tr>\n",
              "    <tr>\n",
              "      <th>95612</th>\n",
              "      <td>268952</td>\n",
              "      <td>terrenos en venta villamagna</td>\n",
              "      <td>excelente terreno, muy buena oportunidad</td>\n",
              "      <td>N/A</td>\n",
              "      <td>-</td>\n",
              "      <td>NaN</td>\n",
              "      <td>San luis Potosí</td>\n",
              "      <td>NaN</td>\n",
              "      <td>NaN</td>\n",
              "      <td>NaN</td>\n",
              "      <td>NaN</td>\n",
              "      <td>NaN</td>\n",
              "      <td>314.0</td>\n",
              "      <td>NaN</td>\n",
              "      <td>22.159844</td>\n",
              "      <td>-101.041431</td>\n",
              "      <td>2014-06-24</td>\n",
              "      <td>0</td>\n",
              "      <td>0</td>\n",
              "      <td>0</td>\n",
              "      <td>0</td>\n",
              "      <td>0</td>\n",
              "      <td>1202620</td>\n",
              "    </tr>\n",
              "    <tr>\n",
              "      <th>96956</th>\n",
              "      <td>287353</td>\n",
              "      <td>bodega en otumba, gustavo baz, cerca de la coc...</td>\n",
              "      <td>bodega de otumba, con sala de juntas, espacio ...</td>\n",
              "      <td>N/A</td>\n",
              "      <td>-</td>\n",
              "      <td>Tlalnepantla de Baz</td>\n",
              "      <td>Edo. de México</td>\n",
              "      <td>NaN</td>\n",
              "      <td>NaN</td>\n",
              "      <td>3.0</td>\n",
              "      <td>1.0</td>\n",
              "      <td>180.0</td>\n",
              "      <td>NaN</td>\n",
              "      <td>56298.0</td>\n",
              "      <td>19.530835</td>\n",
              "      <td>-99.204599</td>\n",
              "      <td>2015-08-24</td>\n",
              "      <td>0</td>\n",
              "      <td>0</td>\n",
              "      <td>0</td>\n",
              "      <td>0</td>\n",
              "      <td>0</td>\n",
              "      <td>8000000</td>\n",
              "    </tr>\n",
              "    <tr>\n",
              "      <th>98161</th>\n",
              "      <td>208660</td>\n",
              "      <td>en venta ojaranza chalets</td>\n",
              "      <td>chalet 2 recamaras la principal con vestidor y...</td>\n",
              "      <td>N/A</td>\n",
              "      <td>-</td>\n",
              "      <td>San Luis Potosí</td>\n",
              "      <td>San luis Potosí</td>\n",
              "      <td>NaN</td>\n",
              "      <td>2.0</td>\n",
              "      <td>NaN</td>\n",
              "      <td>NaN</td>\n",
              "      <td>103.0</td>\n",
              "      <td>170.0</td>\n",
              "      <td>NaN</td>\n",
              "      <td>NaN</td>\n",
              "      <td>NaN</td>\n",
              "      <td>2014-08-24</td>\n",
              "      <td>0</td>\n",
              "      <td>0</td>\n",
              "      <td>0</td>\n",
              "      <td>0</td>\n",
              "      <td>0</td>\n",
              "      <td>1350000</td>\n",
              "    </tr>\n",
              "    <tr>\n",
              "      <th>103035</th>\n",
              "      <td>247550</td>\n",
              "      <td>casas en condominio - av. lomas encanto</td>\n",
              "      <td>excelente casa en condominio de tan solo cuatr...</td>\n",
              "      <td>N/A</td>\n",
              "      <td>-</td>\n",
              "      <td>Huixquilucan</td>\n",
              "      <td>Edo. de México</td>\n",
              "      <td>5.0</td>\n",
              "      <td>3.0</td>\n",
              "      <td>NaN</td>\n",
              "      <td>3.0</td>\n",
              "      <td>NaN</td>\n",
              "      <td>412.0</td>\n",
              "      <td>NaN</td>\n",
              "      <td>NaN</td>\n",
              "      <td>NaN</td>\n",
              "      <td>2015-03-23</td>\n",
              "      <td>0</td>\n",
              "      <td>0</td>\n",
              "      <td>0</td>\n",
              "      <td>0</td>\n",
              "      <td>0</td>\n",
              "      <td>6400000</td>\n",
              "    </tr>\n",
              "    <tr>\n",
              "      <th>106465</th>\n",
              "      <td>121158</td>\n",
              "      <td>casas en venta la joya</td>\n",
              "      <td>excelente estado de conservacion con opcion a ...</td>\n",
              "      <td>N/A</td>\n",
              "      <td>-</td>\n",
              "      <td>NaN</td>\n",
              "      <td>San luis Potosí</td>\n",
              "      <td>5.0</td>\n",
              "      <td>3.0</td>\n",
              "      <td>NaN</td>\n",
              "      <td>NaN</td>\n",
              "      <td>285.0</td>\n",
              "      <td>224.0</td>\n",
              "      <td>NaN</td>\n",
              "      <td>20.571212</td>\n",
              "      <td>-100.420366</td>\n",
              "      <td>2014-06-24</td>\n",
              "      <td>0</td>\n",
              "      <td>0</td>\n",
              "      <td>0</td>\n",
              "      <td>0</td>\n",
              "      <td>0</td>\n",
              "      <td>1980000</td>\n",
              "    </tr>\n",
              "    <tr>\n",
              "      <th>115794</th>\n",
              "      <td>87335</td>\n",
              "      <td>casas en venta lomas del pedregal</td>\n",
              "      <td>casas de lujo, en fraccionamiento pequeã?â??o ...</td>\n",
              "      <td>N/A</td>\n",
              "      <td>-</td>\n",
              "      <td>NaN</td>\n",
              "      <td>San luis Potosí</td>\n",
              "      <td>NaN</td>\n",
              "      <td>3.0</td>\n",
              "      <td>3.0</td>\n",
              "      <td>3.0</td>\n",
              "      <td>NaN</td>\n",
              "      <td>300.0</td>\n",
              "      <td>NaN</td>\n",
              "      <td>22.128000</td>\n",
              "      <td>-101.022854</td>\n",
              "      <td>2014-06-24</td>\n",
              "      <td>0</td>\n",
              "      <td>0</td>\n",
              "      <td>0</td>\n",
              "      <td>0</td>\n",
              "      <td>0</td>\n",
              "      <td>4000000</td>\n",
              "    </tr>\n",
              "    <tr>\n",
              "      <th>131538</th>\n",
              "      <td>116902</td>\n",
              "      <td>venta de terreno en boca del río</td>\n",
              "      <td>terreno con excelente ubicacion, zona de gran ...</td>\n",
              "      <td>N/A</td>\n",
              "      <td>Av Via Muerta 3</td>\n",
              "      <td>Boca del Río</td>\n",
              "      <td>Veracruz</td>\n",
              "      <td>NaN</td>\n",
              "      <td>NaN</td>\n",
              "      <td>0.0</td>\n",
              "      <td>NaN</td>\n",
              "      <td>NaN</td>\n",
              "      <td>112.0</td>\n",
              "      <td>NaN</td>\n",
              "      <td>NaN</td>\n",
              "      <td>NaN</td>\n",
              "      <td>2014-04-07</td>\n",
              "      <td>0</td>\n",
              "      <td>0</td>\n",
              "      <td>0</td>\n",
              "      <td>0</td>\n",
              "      <td>0</td>\n",
              "      <td>660000</td>\n",
              "    </tr>\n",
              "    <tr>\n",
              "      <th>132639</th>\n",
              "      <td>217445</td>\n",
              "      <td>casas en venta fraccionamiento tulipanes</td>\n",
              "      <td>excelente casa, muy buena ubicacion</td>\n",
              "      <td>N/A</td>\n",
              "      <td>-</td>\n",
              "      <td>NaN</td>\n",
              "      <td>San luis Potosí</td>\n",
              "      <td>NaN</td>\n",
              "      <td>2.0</td>\n",
              "      <td>1.0</td>\n",
              "      <td>2.0</td>\n",
              "      <td>90.0</td>\n",
              "      <td>84.0</td>\n",
              "      <td>NaN</td>\n",
              "      <td>NaN</td>\n",
              "      <td>NaN</td>\n",
              "      <td>2014-06-17</td>\n",
              "      <td>0</td>\n",
              "      <td>0</td>\n",
              "      <td>0</td>\n",
              "      <td>0</td>\n",
              "      <td>0</td>\n",
              "      <td>380000</td>\n",
              "    </tr>\n",
              "    <tr>\n",
              "      <th>134118</th>\n",
              "      <td>155495</td>\n",
              "      <td>casas en venta villa de pozos</td>\n",
              "      <td>sala, comedor, antecomedor, aljibe, bomba para...</td>\n",
              "      <td>N/A</td>\n",
              "      <td>-</td>\n",
              "      <td>NaN</td>\n",
              "      <td>San luis Potosí</td>\n",
              "      <td>0.0</td>\n",
              "      <td>3.0</td>\n",
              "      <td>NaN</td>\n",
              "      <td>3.0</td>\n",
              "      <td>126.0</td>\n",
              "      <td>123.0</td>\n",
              "      <td>NaN</td>\n",
              "      <td>NaN</td>\n",
              "      <td>NaN</td>\n",
              "      <td>2014-06-16</td>\n",
              "      <td>0</td>\n",
              "      <td>0</td>\n",
              "      <td>0</td>\n",
              "      <td>0</td>\n",
              "      <td>0</td>\n",
              "      <td>546760</td>\n",
              "    </tr>\n",
              "    <tr>\n",
              "      <th>149096</th>\n",
              "      <td>38804</td>\n",
              "      <td>casas en venta el refugio.</td>\n",
              "      <td>excelente casa, amplia y muy bien distribuida.</td>\n",
              "      <td>N/A</td>\n",
              "      <td>-</td>\n",
              "      <td>NaN</td>\n",
              "      <td>San luis Potosí</td>\n",
              "      <td>NaN</td>\n",
              "      <td>3.0</td>\n",
              "      <td>NaN</td>\n",
              "      <td>NaN</td>\n",
              "      <td>169.0</td>\n",
              "      <td>167.0</td>\n",
              "      <td>NaN</td>\n",
              "      <td>20.629872</td>\n",
              "      <td>-100.363101</td>\n",
              "      <td>2014-06-24</td>\n",
              "      <td>0</td>\n",
              "      <td>0</td>\n",
              "      <td>0</td>\n",
              "      <td>0</td>\n",
              "      <td>0</td>\n",
              "      <td>1495000</td>\n",
              "    </tr>\n",
              "    <tr>\n",
              "      <th>161448</th>\n",
              "      <td>158166</td>\n",
              "      <td>casas en venta horizontes residencial</td>\n",
              "      <td>lotes   97  y 157   **casa dos plantas 3 recam...</td>\n",
              "      <td>N/A</td>\n",
              "      <td>-</td>\n",
              "      <td>San Luis Potosí</td>\n",
              "      <td>San luis Potosí</td>\n",
              "      <td>NaN</td>\n",
              "      <td>3.0</td>\n",
              "      <td>NaN</td>\n",
              "      <td>NaN</td>\n",
              "      <td>125.0</td>\n",
              "      <td>171.0</td>\n",
              "      <td>NaN</td>\n",
              "      <td>NaN</td>\n",
              "      <td>NaN</td>\n",
              "      <td>2014-06-22</td>\n",
              "      <td>0</td>\n",
              "      <td>0</td>\n",
              "      <td>0</td>\n",
              "      <td>0</td>\n",
              "      <td>0</td>\n",
              "      <td>1460000</td>\n",
              "    </tr>\n",
              "    <tr>\n",
              "      <th>167128</th>\n",
              "      <td>147449</td>\n",
              "      <td>terrenos en venta alamitos</td>\n",
              "      <td></td>\n",
              "      <td>N/A</td>\n",
              "      <td>-</td>\n",
              "      <td>San Luis Potosí</td>\n",
              "      <td>San luis Potosí</td>\n",
              "      <td>NaN</td>\n",
              "      <td>NaN</td>\n",
              "      <td>NaN</td>\n",
              "      <td>NaN</td>\n",
              "      <td>NaN</td>\n",
              "      <td>390.0</td>\n",
              "      <td>NaN</td>\n",
              "      <td>22.146325</td>\n",
              "      <td>-100.981205</td>\n",
              "      <td>2014-08-24</td>\n",
              "      <td>0</td>\n",
              "      <td>0</td>\n",
              "      <td>0</td>\n",
              "      <td>0</td>\n",
              "      <td>0</td>\n",
              "      <td>1200000</td>\n",
              "    </tr>\n",
              "    <tr>\n",
              "      <th>173021</th>\n",
              "      <td>170284</td>\n",
              "      <td>locales en venta villas de san lorenzo</td>\n",
              "      <td>distribuido como sala de espera, cafeteria, ga...</td>\n",
              "      <td>N/A</td>\n",
              "      <td>-</td>\n",
              "      <td>San Luis Potosí</td>\n",
              "      <td>San luis Potosí</td>\n",
              "      <td>0.0</td>\n",
              "      <td>NaN</td>\n",
              "      <td>NaN</td>\n",
              "      <td>NaN</td>\n",
              "      <td>118.0</td>\n",
              "      <td>240.0</td>\n",
              "      <td>NaN</td>\n",
              "      <td>22.197856</td>\n",
              "      <td>-100.960965</td>\n",
              "      <td>2014-08-24</td>\n",
              "      <td>0</td>\n",
              "      <td>0</td>\n",
              "      <td>0</td>\n",
              "      <td>0</td>\n",
              "      <td>0</td>\n",
              "      <td>1470000</td>\n",
              "    </tr>\n",
              "    <tr>\n",
              "      <th>175208</th>\n",
              "      <td>82387</td>\n",
              "      <td>casas en venta lomas 4a. secciã?â³n</td>\n",
              "      <td>casa en buen estado y buena ubicacion!!!</td>\n",
              "      <td>N/A</td>\n",
              "      <td>-</td>\n",
              "      <td>NaN</td>\n",
              "      <td>San luis Potosí</td>\n",
              "      <td>NaN</td>\n",
              "      <td>3.0</td>\n",
              "      <td>2.0</td>\n",
              "      <td>4.0</td>\n",
              "      <td>133.0</td>\n",
              "      <td>101.0</td>\n",
              "      <td>NaN</td>\n",
              "      <td>22.149381</td>\n",
              "      <td>-101.038320</td>\n",
              "      <td>2014-08-24</td>\n",
              "      <td>0</td>\n",
              "      <td>0</td>\n",
              "      <td>0</td>\n",
              "      <td>0</td>\n",
              "      <td>0</td>\n",
              "      <td>1950000</td>\n",
              "    </tr>\n",
              "    <tr>\n",
              "      <th>176650</th>\n",
              "      <td>249147</td>\n",
              "      <td>terrenos en venta gran peã?â??on</td>\n",
              "      <td>lotes  de terreno en privada en un fraccionami...</td>\n",
              "      <td>N/A</td>\n",
              "      <td>-</td>\n",
              "      <td>San Luis Potosí</td>\n",
              "      <td>San luis Potosí</td>\n",
              "      <td>NaN</td>\n",
              "      <td>NaN</td>\n",
              "      <td>NaN</td>\n",
              "      <td>NaN</td>\n",
              "      <td>NaN</td>\n",
              "      <td>160.0</td>\n",
              "      <td>NaN</td>\n",
              "      <td>NaN</td>\n",
              "      <td>NaN</td>\n",
              "      <td>2014-08-24</td>\n",
              "      <td>0</td>\n",
              "      <td>0</td>\n",
              "      <td>0</td>\n",
              "      <td>0</td>\n",
              "      <td>0</td>\n",
              "      <td>512000</td>\n",
              "    </tr>\n",
              "    <tr>\n",
              "      <th>187891</th>\n",
              "      <td>56531</td>\n",
              "      <td>casas en venta horizontes residencial</td>\n",
              "      <td>una planta  3 recamaras. 2 baã?os completos 1 ...</td>\n",
              "      <td>N/A</td>\n",
              "      <td>-</td>\n",
              "      <td>San Luis Potosí</td>\n",
              "      <td>San luis Potosí</td>\n",
              "      <td>NaN</td>\n",
              "      <td>3.0</td>\n",
              "      <td>NaN</td>\n",
              "      <td>NaN</td>\n",
              "      <td>101.0</td>\n",
              "      <td>160.0</td>\n",
              "      <td>NaN</td>\n",
              "      <td>NaN</td>\n",
              "      <td>NaN</td>\n",
              "      <td>2014-06-22</td>\n",
              "      <td>0</td>\n",
              "      <td>0</td>\n",
              "      <td>0</td>\n",
              "      <td>0</td>\n",
              "      <td>0</td>\n",
              "      <td>1370000</td>\n",
              "    </tr>\n",
              "    <tr>\n",
              "      <th>191135</th>\n",
              "      <td>238121</td>\n",
              "      <td>locales en venta satelite</td>\n",
              "      <td>** lc 036**  col. el aguaje 2000. zona sureste...</td>\n",
              "      <td>N/A</td>\n",
              "      <td>-</td>\n",
              "      <td>San Luis Potosí</td>\n",
              "      <td>San luis Potosí</td>\n",
              "      <td>NaN</td>\n",
              "      <td>NaN</td>\n",
              "      <td>2.0</td>\n",
              "      <td>NaN</td>\n",
              "      <td>110.0</td>\n",
              "      <td>NaN</td>\n",
              "      <td>NaN</td>\n",
              "      <td>NaN</td>\n",
              "      <td>NaN</td>\n",
              "      <td>2014-06-24</td>\n",
              "      <td>0</td>\n",
              "      <td>0</td>\n",
              "      <td>0</td>\n",
              "      <td>0</td>\n",
              "      <td>0</td>\n",
              "      <td>1300000</td>\n",
              "    </tr>\n",
              "    <tr>\n",
              "      <th>197458</th>\n",
              "      <td>223385</td>\n",
              "      <td>terrenos en venta la loma club de golf</td>\n",
              "      <td>lote 9 privada del mayorazgo  m2 incluye accio...</td>\n",
              "      <td>N/A</td>\n",
              "      <td>-</td>\n",
              "      <td>San Luis Potosí</td>\n",
              "      <td>San luis Potosí</td>\n",
              "      <td>NaN</td>\n",
              "      <td>NaN</td>\n",
              "      <td>NaN</td>\n",
              "      <td>NaN</td>\n",
              "      <td>NaN</td>\n",
              "      <td>416.0</td>\n",
              "      <td>NaN</td>\n",
              "      <td>NaN</td>\n",
              "      <td>NaN</td>\n",
              "      <td>2014-08-24</td>\n",
              "      <td>0</td>\n",
              "      <td>0</td>\n",
              "      <td>0</td>\n",
              "      <td>0</td>\n",
              "      <td>0</td>\n",
              "      <td>2080000</td>\n",
              "    </tr>\n",
              "    <tr>\n",
              "      <th>197899</th>\n",
              "      <td>11970</td>\n",
              "      <td>casas en venta fracc loma real</td>\n",
              "      <td>excelente casa 2 plantas 3 recamaras 1 1/2 baã...</td>\n",
              "      <td>N/A</td>\n",
              "      <td>-</td>\n",
              "      <td>NaN</td>\n",
              "      <td>San luis Potosí</td>\n",
              "      <td>NaN</td>\n",
              "      <td>3.0</td>\n",
              "      <td>1.0</td>\n",
              "      <td>NaN</td>\n",
              "      <td>75.0</td>\n",
              "      <td>NaN</td>\n",
              "      <td>NaN</td>\n",
              "      <td>20.631298</td>\n",
              "      <td>-100.467192</td>\n",
              "      <td>2014-08-24</td>\n",
              "      <td>0</td>\n",
              "      <td>0</td>\n",
              "      <td>0</td>\n",
              "      <td>0</td>\n",
              "      <td>0</td>\n",
              "      <td>632690</td>\n",
              "    </tr>\n",
              "    <tr>\n",
              "      <th>201467</th>\n",
              "      <td>132580</td>\n",
              "      <td>locales en venta centro historico</td>\n",
              "      <td>casa ubicada en el centro historico de san lui...</td>\n",
              "      <td>N/A</td>\n",
              "      <td>-</td>\n",
              "      <td>San Luis Potosí</td>\n",
              "      <td>San luis Potosí</td>\n",
              "      <td>NaN</td>\n",
              "      <td>NaN</td>\n",
              "      <td>NaN</td>\n",
              "      <td>NaN</td>\n",
              "      <td>NaN</td>\n",
              "      <td>375.0</td>\n",
              "      <td>NaN</td>\n",
              "      <td>NaN</td>\n",
              "      <td>NaN</td>\n",
              "      <td>2014-08-24</td>\n",
              "      <td>0</td>\n",
              "      <td>0</td>\n",
              "      <td>0</td>\n",
              "      <td>0</td>\n",
              "      <td>0</td>\n",
              "      <td>5000000</td>\n",
              "    </tr>\n",
              "    <tr>\n",
              "      <th>202066</th>\n",
              "      <td>293611</td>\n",
              "      <td>terrenos en venta residencial del parque</td>\n",
              "      <td>precio de contado..</td>\n",
              "      <td>N/A</td>\n",
              "      <td>-</td>\n",
              "      <td>San Luis Potosí</td>\n",
              "      <td>San luis Potosí</td>\n",
              "      <td>NaN</td>\n",
              "      <td>NaN</td>\n",
              "      <td>NaN</td>\n",
              "      <td>NaN</td>\n",
              "      <td>NaN</td>\n",
              "      <td>341.0</td>\n",
              "      <td>NaN</td>\n",
              "      <td>NaN</td>\n",
              "      <td>NaN</td>\n",
              "      <td>2014-08-24</td>\n",
              "      <td>0</td>\n",
              "      <td>0</td>\n",
              "      <td>0</td>\n",
              "      <td>0</td>\n",
              "      <td>0</td>\n",
              "      <td>1918013</td>\n",
              "    </tr>\n",
              "    <tr>\n",
              "      <th>205172</th>\n",
              "      <td>122418</td>\n",
              "      <td>casas en venta loma real</td>\n",
              "      <td>prototipo galicia, 3 recamaras sala  comedor 1...</td>\n",
              "      <td>N/A</td>\n",
              "      <td>-</td>\n",
              "      <td>NaN</td>\n",
              "      <td>San luis Potosí</td>\n",
              "      <td>0.0</td>\n",
              "      <td>3.0</td>\n",
              "      <td>2.0</td>\n",
              "      <td>1.0</td>\n",
              "      <td>71.0</td>\n",
              "      <td>90.0</td>\n",
              "      <td>NaN</td>\n",
              "      <td>20.638823</td>\n",
              "      <td>-100.473619</td>\n",
              "      <td>2014-08-24</td>\n",
              "      <td>0</td>\n",
              "      <td>0</td>\n",
              "      <td>0</td>\n",
              "      <td>0</td>\n",
              "      <td>0</td>\n",
              "      <td>574680</td>\n",
              "    </tr>\n",
              "    <tr>\n",
              "      <th>206154</th>\n",
              "      <td>261646</td>\n",
              "      <td>casas en venta horizontes residencial</td>\n",
              "      <td>casa dos plantas 3 recamaras , la principal co...</td>\n",
              "      <td>N/A</td>\n",
              "      <td>-</td>\n",
              "      <td>San Luis Potosí</td>\n",
              "      <td>San luis Potosí</td>\n",
              "      <td>NaN</td>\n",
              "      <td>3.0</td>\n",
              "      <td>NaN</td>\n",
              "      <td>NaN</td>\n",
              "      <td>175.0</td>\n",
              "      <td>160.0</td>\n",
              "      <td>NaN</td>\n",
              "      <td>NaN</td>\n",
              "      <td>NaN</td>\n",
              "      <td>2014-06-22</td>\n",
              "      <td>0</td>\n",
              "      <td>0</td>\n",
              "      <td>0</td>\n",
              "      <td>0</td>\n",
              "      <td>0</td>\n",
              "      <td>1790000</td>\n",
              "    </tr>\n",
              "    <tr>\n",
              "      <th>215468</th>\n",
              "      <td>268706</td>\n",
              "      <td>terrenos en venta villamagna</td>\n",
              "      <td>excelentes terrenos, muy buena oportunidad</td>\n",
              "      <td>N/A</td>\n",
              "      <td>-</td>\n",
              "      <td>NaN</td>\n",
              "      <td>San luis Potosí</td>\n",
              "      <td>NaN</td>\n",
              "      <td>NaN</td>\n",
              "      <td>NaN</td>\n",
              "      <td>NaN</td>\n",
              "      <td>NaN</td>\n",
              "      <td>392.0</td>\n",
              "      <td>NaN</td>\n",
              "      <td>22.165488</td>\n",
              "      <td>-101.045573</td>\n",
              "      <td>2014-06-24</td>\n",
              "      <td>0</td>\n",
              "      <td>0</td>\n",
              "      <td>0</td>\n",
              "      <td>0</td>\n",
              "      <td>0</td>\n",
              "      <td>1646400</td>\n",
              "    </tr>\n",
              "    <tr>\n",
              "      <th>217221</th>\n",
              "      <td>212213</td>\n",
              "      <td>locales en venta villas de san lorenzo</td>\n",
              "      <td>carwash con sala de espera, cuarto de maquinas...</td>\n",
              "      <td>N/A</td>\n",
              "      <td>-</td>\n",
              "      <td>San Luis Potosí</td>\n",
              "      <td>San luis Potosí</td>\n",
              "      <td>NaN</td>\n",
              "      <td>NaN</td>\n",
              "      <td>NaN</td>\n",
              "      <td>NaN</td>\n",
              "      <td>120.0</td>\n",
              "      <td>240.0</td>\n",
              "      <td>NaN</td>\n",
              "      <td>NaN</td>\n",
              "      <td>NaN</td>\n",
              "      <td>2014-08-24</td>\n",
              "      <td>0</td>\n",
              "      <td>0</td>\n",
              "      <td>0</td>\n",
              "      <td>0</td>\n",
              "      <td>0</td>\n",
              "      <td>1380000</td>\n",
              "    </tr>\n",
              "    <tr>\n",
              "      <th>218665</th>\n",
              "      <td>155905</td>\n",
              "      <td>casas en venta villa alborada</td>\n",
              "      <td>tiene cortina en la cochera para poder guardar...</td>\n",
              "      <td>N/A</td>\n",
              "      <td>-</td>\n",
              "      <td>NaN</td>\n",
              "      <td>San luis Potosí</td>\n",
              "      <td>NaN</td>\n",
              "      <td>2.0</td>\n",
              "      <td>NaN</td>\n",
              "      <td>1.0</td>\n",
              "      <td>60.0</td>\n",
              "      <td>90.0</td>\n",
              "      <td>NaN</td>\n",
              "      <td>NaN</td>\n",
              "      <td>NaN</td>\n",
              "      <td>2014-06-16</td>\n",
              "      <td>0</td>\n",
              "      <td>0</td>\n",
              "      <td>0</td>\n",
              "      <td>0</td>\n",
              "      <td>0</td>\n",
              "      <td>360000</td>\n",
              "    </tr>\n",
              "    <tr>\n",
              "      <th>236452</th>\n",
              "      <td>94767</td>\n",
              "      <td>casas en venta horizontes residencial</td>\n",
              "      <td>excelente casa, cuenta con estudio en planta b...</td>\n",
              "      <td>N/A</td>\n",
              "      <td>-</td>\n",
              "      <td>NaN</td>\n",
              "      <td>San luis Potosí</td>\n",
              "      <td>NaN</td>\n",
              "      <td>3.0</td>\n",
              "      <td>2.0</td>\n",
              "      <td>3.0</td>\n",
              "      <td>200.0</td>\n",
              "      <td>170.0</td>\n",
              "      <td>NaN</td>\n",
              "      <td>NaN</td>\n",
              "      <td>NaN</td>\n",
              "      <td>2014-06-14</td>\n",
              "      <td>0</td>\n",
              "      <td>0</td>\n",
              "      <td>0</td>\n",
              "      <td>0</td>\n",
              "      <td>0</td>\n",
              "      <td>1850000</td>\n",
              "    </tr>\n",
              "  </tbody>\n",
              "</table>\n",
              "</div>"
            ],
            "text/plain": [
              "            id  ...    precio\n",
              "5307    230046  ...   1450000\n",
              "8273     68458  ...   4822342\n",
              "13957    48797  ...   3500000\n",
              "15598   111329  ...   3000000\n",
              "15763   231968  ...    750000\n",
              "16949     1517  ...   1500000\n",
              "17512    78161  ...   1500000\n",
              "20067   170109  ...   1400000\n",
              "25310    49448  ...   3590000\n",
              "26290   273036  ...    900000\n",
              "28628    24043  ...   5000000\n",
              "44916   162314  ...    900000\n",
              "45331    11234  ...   2650000\n",
              "47533    34286  ...   2600000\n",
              "50496   286805  ...    680000\n",
              "58002   188386  ...   3650000\n",
              "65448   271322  ...   1250000\n",
              "66085   244122  ...  10271208\n",
              "94778   208435  ...   1570000\n",
              "95612   268952  ...   1202620\n",
              "96956   287353  ...   8000000\n",
              "98161   208660  ...   1350000\n",
              "103035  247550  ...   6400000\n",
              "106465  121158  ...   1980000\n",
              "115794   87335  ...   4000000\n",
              "131538  116902  ...    660000\n",
              "132639  217445  ...    380000\n",
              "134118  155495  ...    546760\n",
              "149096   38804  ...   1495000\n",
              "161448  158166  ...   1460000\n",
              "167128  147449  ...   1200000\n",
              "173021  170284  ...   1470000\n",
              "175208   82387  ...   1950000\n",
              "176650  249147  ...    512000\n",
              "187891   56531  ...   1370000\n",
              "191135  238121  ...   1300000\n",
              "197458  223385  ...   2080000\n",
              "197899   11970  ...    632690\n",
              "201467  132580  ...   5000000\n",
              "202066  293611  ...   1918013\n",
              "205172  122418  ...    574680\n",
              "206154  261646  ...   1790000\n",
              "215468  268706  ...   1646400\n",
              "217221  212213  ...   1380000\n",
              "218665  155905  ...    360000\n",
              "236452   94767  ...   1850000\n",
              "\n",
              "[46 rows x 23 columns]"
            ]
          },
          "metadata": {
            "tags": []
          },
          "execution_count": 22
        }
      ]
    },
    {
      "cell_type": "code",
      "metadata": {
        "id": "A2yzff2hUYYf",
        "colab_type": "code",
        "colab": {}
      },
      "source": [
        "df.loc[5307,'tipodepropiedad'] = \"Casa\"\n",
        "df.loc[8273,'tipodepropiedad'] = \"Apartamento\"\n",
        "df.loc[13957,'tipodepropiedad'] = \"Rancho\" #casa de campo\n",
        "df.loc[15598,'tipodepropiedad'] = \"Casa\"\n",
        "df.loc[15763,'tipodepropiedad'] = \"Rancho\" #casa de campo\n",
        "df.loc[16949,'tipodepropiedad'] = \"Casa\"\n",
        "df.loc[17512,'tipodepropiedad'] = \"Terreno\"\n",
        "df.loc[20067,'tipodepropiedad'] = \"Local Comercial\"\n",
        "df.loc[25310,'tipodepropiedad'] = \"Apartamento\"\n",
        "df.loc[26290,'tipodepropiedad'] = \"Casa\"\n",
        "\n",
        "df.loc[28628,'tipodepropiedad'] = \"Local Comercial\"\n",
        "df.loc[44916,'tipodepropiedad'] = \"Rancho\" #cabaña\n",
        "df.loc[45331,'tipodepropiedad'] = \"Casa\"\n",
        "df.loc[47533,'tipodepropiedad'] = \"Casa\"\n",
        "df.loc[50496,'tipodepropiedad'] = \"Casa\"\n",
        "df.loc[58002,'tipodepropiedad'] = \"Villa\"\n",
        "df.loc[65448,'tipodepropiedad'] = \"Local Comercial\"\n",
        "df.loc[66085,'tipodepropiedad'] = \"Casa en condominio\"\n",
        "df.loc[94778,'tipodepropiedad'] = \"Casa\"\n",
        "df.loc[95612,'tipodepropiedad'] = \"Terreno\"\n",
        "\n",
        "df.loc[96956,'tipodepropiedad'] = \"Bodega comercial\"\n",
        "df.loc[98161,'tipodepropiedad'] = \"Otros\" #chalet\n",
        "df.loc[103035,'tipodepropiedad'] = \"Casa en condominio\"\n",
        "df.loc[106465,'tipodepropiedad'] = \"Casa\"\n",
        "df.loc[115794,'tipodepropiedad'] = \"Casa\"\n",
        "df.loc[131538,'tipodepropiedad'] = \"Terreno\"\n",
        "df.loc[132639,'tipodepropiedad'] = \"Casa\"\n",
        "df.loc[134118,'tipodepropiedad'] = \"Casa\"\n",
        "df.loc[149096,'tipodepropiedad'] = \"Casa\"\n",
        "df.loc[161448,'tipodepropiedad'] = \"Casa\"\n",
        "\n",
        "df.loc[167128,'tipodepropiedad'] = \"Terreno\"\n",
        "df.loc[173021,'tipodepropiedad'] = \"Local Comercial\"\n",
        "df.loc[175208,'tipodepropiedad'] = \"Casa\"\n",
        "df.loc[176650,'tipodepropiedad'] = \"Terreno\"\n",
        "df.loc[187891,'tipodepropiedad'] = \"Casa\"\n",
        "df.loc[191135,'tipodepropiedad'] = \"Local Comercial\"\n",
        "df.loc[197458,'tipodepropiedad'] = \"Terreno\"\n",
        "df.loc[197899,'tipodepropiedad'] = \"Casa\"\n",
        "df.loc[201467,'tipodepropiedad'] = \"Casa\"\n",
        "df.loc[202066,'tipodepropiedad'] = \"Terreno\"\n",
        "\n",
        "df.loc[205172,'tipodepropiedad'] = \"Casa\"\n",
        "df.loc[206154,'tipodepropiedad'] = \"Casa\"\n",
        "df.loc[215468,'tipodepropiedad'] = \"Terreno\"\n",
        "df.loc[217221,'tipodepropiedad'] = \"Local Comercial\"\n",
        "df.loc[218665,'tipodepropiedad'] = \"Casa\"\n",
        "df.loc[236452,'tipodepropiedad'] = \"Casa\""
      ],
      "execution_count": 0,
      "outputs": []
    },
    {
      "cell_type": "code",
      "metadata": {
        "id": "EsblwXvAUYYm",
        "colab_type": "code",
        "colab": {}
      },
      "source": [
        "df[\"tipodepropiedad\"] = df[\"tipodepropiedad\"].replace(\"Lote\", \"Terreno\")\n",
        "df[\"tipodepropiedad\"] = df[\"tipodepropiedad\"].replace(\"Hospedaje\", \"Otros\")\n",
        "df[\"tipodepropiedad\"] = df[\"tipodepropiedad\"].replace(\"Garage\", \"Otros\")"
      ],
      "execution_count": 0,
      "outputs": []
    },
    {
      "cell_type": "code",
      "metadata": {
        "id": "MLgeldoiUYY5",
        "colab_type": "code",
        "outputId": "e986c1f7-f7dd-4650-dde8-91d3002c94b1",
        "colab": {
          "base_uri": "https://localhost:8080/",
          "height": 399
        }
      },
      "source": [
        "df['tipodepropiedad'].value_counts()"
      ],
      "execution_count": 0,
      "outputs": [
        {
          "output_type": "execute_result",
          "data": {
            "text/plain": [
              "Casa                             141739\n",
              "Apartamento                       57343\n",
              "Casa en condominio                19299\n",
              "Terreno                            9958\n",
              "Local Comercial                    3061\n",
              "Oficina comercial                  1741\n",
              "Bodega comercial                   1407\n",
              "Edificio                           1396\n",
              "Terreno comercial                  1326\n",
              "Casa uso de suelo                   708\n",
              "Quinta Vacacional                   395\n",
              "Duplex                              343\n",
              "Villa                               341\n",
              "Inmuebles productivos urbanos       200\n",
              "Rancho                              173\n",
              "Local en centro comercial           165\n",
              "Departamento Compartido             141\n",
              "Otros                               137\n",
              "Nave industrial                      76\n",
              "Terreno industrial                   31\n",
              "Huerta                               20\n",
              "Name: tipodepropiedad, dtype: int64"
            ]
          },
          "metadata": {
            "tags": []
          },
          "execution_count": 25
        }
      ]
    },
    {
      "cell_type": "code",
      "metadata": {
        "id": "GmmMQ8sCUYZC",
        "colab_type": "code",
        "colab": {}
      },
      "source": [
        "df2['tipodepropiedad']=df2['tipodepropiedad'].fillna('N/A')"
      ],
      "execution_count": 0,
      "outputs": []
    },
    {
      "cell_type": "code",
      "metadata": {
        "id": "JhGKSjUjUYZL",
        "colab_type": "code",
        "outputId": "5545ad03-5501-4240-eebf-a4e25a978921",
        "colab": {
          "base_uri": "https://localhost:8080/",
          "height": 775
        }
      },
      "source": [
        "df2.loc[df2['tipodepropiedad']=='N/A']"
      ],
      "execution_count": 0,
      "outputs": [
        {
          "output_type": "execute_result",
          "data": {
            "text/html": [
              "<div>\n",
              "<style scoped>\n",
              "    .dataframe tbody tr th:only-of-type {\n",
              "        vertical-align: middle;\n",
              "    }\n",
              "\n",
              "    .dataframe tbody tr th {\n",
              "        vertical-align: top;\n",
              "    }\n",
              "\n",
              "    .dataframe thead th {\n",
              "        text-align: right;\n",
              "    }\n",
              "</style>\n",
              "<table border=\"1\" class=\"dataframe\">\n",
              "  <thead>\n",
              "    <tr style=\"text-align: right;\">\n",
              "      <th></th>\n",
              "      <th>id</th>\n",
              "      <th>titulo</th>\n",
              "      <th>descripcion</th>\n",
              "      <th>tipodepropiedad</th>\n",
              "      <th>direccion</th>\n",
              "      <th>ciudad</th>\n",
              "      <th>provincia</th>\n",
              "      <th>antiguedad</th>\n",
              "      <th>habitaciones</th>\n",
              "      <th>garages</th>\n",
              "      <th>banos</th>\n",
              "      <th>metroscubiertos</th>\n",
              "      <th>metrostotales</th>\n",
              "      <th>idzona</th>\n",
              "      <th>lat</th>\n",
              "      <th>lng</th>\n",
              "      <th>fecha</th>\n",
              "      <th>gimnasio</th>\n",
              "      <th>usosmultiples</th>\n",
              "      <th>piscina</th>\n",
              "      <th>escuelascercanas</th>\n",
              "      <th>centroscomercialescercanos</th>\n",
              "    </tr>\n",
              "  </thead>\n",
              "  <tbody>\n",
              "    <tr>\n",
              "      <th>13702</th>\n",
              "      <td>177475</td>\n",
              "      <td>casas en condominio - av. jesús del monte</td>\n",
              "      <td>bonita casa en condominio de 29 casas, de espa...</td>\n",
              "      <td>N/A</td>\n",
              "      <td>-</td>\n",
              "      <td>NaN</td>\n",
              "      <td>Distrito Federal</td>\n",
              "      <td>NaN</td>\n",
              "      <td>NaN</td>\n",
              "      <td>NaN</td>\n",
              "      <td>NaN</td>\n",
              "      <td>NaN</td>\n",
              "      <td>244.0</td>\n",
              "      <td>NaN</td>\n",
              "      <td>NaN</td>\n",
              "      <td>NaN</td>\n",
              "      <td>2015-07-03</td>\n",
              "      <td>0</td>\n",
              "      <td>0</td>\n",
              "      <td>0</td>\n",
              "      <td>0</td>\n",
              "      <td>0</td>\n",
              "    </tr>\n",
              "    <tr>\n",
              "      <th>15832</th>\n",
              "      <td>283008</td>\n",
              "      <td>comercio - revillagigedo</td>\n",
              "      <td>excelente local totalmente remodelado, con mag...</td>\n",
              "      <td>N/A</td>\n",
              "      <td>-</td>\n",
              "      <td>Cuauhtémoc</td>\n",
              "      <td>Distrito Federal</td>\n",
              "      <td>65.0</td>\n",
              "      <td>NaN</td>\n",
              "      <td>NaN</td>\n",
              "      <td>NaN</td>\n",
              "      <td>NaN</td>\n",
              "      <td>50.0</td>\n",
              "      <td>23837.0</td>\n",
              "      <td>NaN</td>\n",
              "      <td>NaN</td>\n",
              "      <td>2015-07-03</td>\n",
              "      <td>0</td>\n",
              "      <td>0</td>\n",
              "      <td>0</td>\n",
              "      <td>0</td>\n",
              "      <td>0</td>\n",
              "    </tr>\n",
              "    <tr>\n",
              "      <th>26720</th>\n",
              "      <td>31177</td>\n",
              "      <td>locales en venta balcones del valle</td>\n",
              "      <td>oficinas pb: local 35m2 que actualmente esta r...</td>\n",
              "      <td>N/A</td>\n",
              "      <td>-</td>\n",
              "      <td>San Luis Potosí</td>\n",
              "      <td>San luis Potosí</td>\n",
              "      <td>17.0</td>\n",
              "      <td>NaN</td>\n",
              "      <td>NaN</td>\n",
              "      <td>NaN</td>\n",
              "      <td>100.0</td>\n",
              "      <td>40.0</td>\n",
              "      <td>NaN</td>\n",
              "      <td>NaN</td>\n",
              "      <td>NaN</td>\n",
              "      <td>2014-11-02</td>\n",
              "      <td>0</td>\n",
              "      <td>0</td>\n",
              "      <td>0</td>\n",
              "      <td>0</td>\n",
              "      <td>0</td>\n",
              "    </tr>\n",
              "    <tr>\n",
              "      <th>38993</th>\n",
              "      <td>290726</td>\n",
              "      <td>casas de campo en venta fracc real del potosi</td>\n",
              "      <td>casa de campo, 3 recamaras, 2 baã?â??os, sala,...</td>\n",
              "      <td>N/A</td>\n",
              "      <td>-</td>\n",
              "      <td>San Luis Potosí</td>\n",
              "      <td>San luis Potosí</td>\n",
              "      <td>NaN</td>\n",
              "      <td>3.0</td>\n",
              "      <td>NaN</td>\n",
              "      <td>2.0</td>\n",
              "      <td>300.0</td>\n",
              "      <td>NaN</td>\n",
              "      <td>NaN</td>\n",
              "      <td>NaN</td>\n",
              "      <td>NaN</td>\n",
              "      <td>2014-08-24</td>\n",
              "      <td>0</td>\n",
              "      <td>0</td>\n",
              "      <td>0</td>\n",
              "      <td>0</td>\n",
              "      <td>0</td>\n",
              "    </tr>\n",
              "    <tr>\n",
              "      <th>46981</th>\n",
              "      <td>288517</td>\n",
              "      <td>casas en venta villas merlot</td>\n",
              "      <td>excelente casa, en zona de casas muy bonitas</td>\n",
              "      <td>N/A</td>\n",
              "      <td>-</td>\n",
              "      <td>NaN</td>\n",
              "      <td>San luis Potosí</td>\n",
              "      <td>NaN</td>\n",
              "      <td>3.0</td>\n",
              "      <td>NaN</td>\n",
              "      <td>3.0</td>\n",
              "      <td>112.0</td>\n",
              "      <td>90.0</td>\n",
              "      <td>NaN</td>\n",
              "      <td>22.198102</td>\n",
              "      <td>-100.95777</td>\n",
              "      <td>2014-06-24</td>\n",
              "      <td>0</td>\n",
              "      <td>0</td>\n",
              "      <td>0</td>\n",
              "      <td>0</td>\n",
              "      <td>0</td>\n",
              "    </tr>\n",
              "    <tr>\n",
              "      <th>47296</th>\n",
              "      <td>274853</td>\n",
              "      <td>exclusiva residencia en sodzil nte, en venta</td>\n",
              "      <td>&lt;p&gt;estrena y forme parte de esta novedosa resi...</td>\n",
              "      <td>N/A</td>\n",
              "      <td>-</td>\n",
              "      <td>Mérida</td>\n",
              "      <td>Yucatán</td>\n",
              "      <td>NaN</td>\n",
              "      <td>3.0</td>\n",
              "      <td>2.0</td>\n",
              "      <td>4.0</td>\n",
              "      <td>165.0</td>\n",
              "      <td>245.0</td>\n",
              "      <td>NaN</td>\n",
              "      <td>NaN</td>\n",
              "      <td>NaN</td>\n",
              "      <td>2015-11-06</td>\n",
              "      <td>0</td>\n",
              "      <td>0</td>\n",
              "      <td>0</td>\n",
              "      <td>0</td>\n",
              "      <td>0</td>\n",
              "    </tr>\n",
              "    <tr>\n",
              "      <th>50869</th>\n",
              "      <td>22332</td>\n",
              "      <td>casas en venta horizontes residencial</td>\n",
              "      <td>lotes   92 y 166   **casa dos plantas 3 recama...</td>\n",
              "      <td>N/A</td>\n",
              "      <td>-</td>\n",
              "      <td>San Luis Potosí</td>\n",
              "      <td>San luis Potosí</td>\n",
              "      <td>NaN</td>\n",
              "      <td>3.0</td>\n",
              "      <td>NaN</td>\n",
              "      <td>NaN</td>\n",
              "      <td>117.0</td>\n",
              "      <td>161.0</td>\n",
              "      <td>NaN</td>\n",
              "      <td>NaN</td>\n",
              "      <td>NaN</td>\n",
              "      <td>2014-06-22</td>\n",
              "      <td>0</td>\n",
              "      <td>0</td>\n",
              "      <td>0</td>\n",
              "      <td>0</td>\n",
              "      <td>0</td>\n",
              "    </tr>\n",
              "  </tbody>\n",
              "</table>\n",
              "</div>"
            ],
            "text/plain": [
              "           id  ... centroscomercialescercanos\n",
              "13702  177475  ...                          0\n",
              "15832  283008  ...                          0\n",
              "26720   31177  ...                          0\n",
              "38993  290726  ...                          0\n",
              "46981  288517  ...                          0\n",
              "47296  274853  ...                          0\n",
              "50869   22332  ...                          0\n",
              "\n",
              "[7 rows x 22 columns]"
            ]
          },
          "metadata": {
            "tags": []
          },
          "execution_count": 27
        }
      ]
    },
    {
      "cell_type": "code",
      "metadata": {
        "id": "CGvuFWcGUYZU",
        "colab_type": "code",
        "colab": {}
      },
      "source": [
        "df2.loc[13702,'tipodepropiedad'] = \"Casa en condominio\"\n",
        "df2.loc[15832,'tipodepropiedad'] = \"Local Comercial\"\n",
        "df2.loc[26720,'tipodepropiedad'] = \"Local Comercial\"\n",
        "df2.loc[38993,'tipodepropiedad'] = \"Rancho\"\n",
        "df2.loc[46981,'tipodepropiedad'] = \"Casa\"\n",
        "df2.loc[47296,'tipodepropiedad'] = \"Casa\"\n",
        "df2.loc[50869,'tipodepropiedad'] = \"Casa\"\n",
        "\n",
        "df2[\"tipodepropiedad\"] = df2[\"tipodepropiedad\"].replace(\"Lote\", \"Terreno\")"
      ],
      "execution_count": 0,
      "outputs": []
    },
    {
      "cell_type": "code",
      "metadata": {
        "id": "ToPqyBWtUYZa",
        "colab_type": "code",
        "outputId": "d50b2a4c-c150-48e3-8b3b-b7cb476fa5b6",
        "colab": {
          "base_uri": "https://localhost:8080/",
          "height": 399
        }
      },
      "source": [
        "df2['tipodepropiedad'].value_counts()"
      ],
      "execution_count": 0,
      "outputs": [
        {
          "output_type": "execute_result",
          "data": {
            "text/plain": [
              "Casa                             35418\n",
              "Apartamento                      14231\n",
              "Casa en condominio                4912\n",
              "Terreno                           2446\n",
              "Local Comercial                    793\n",
              "Oficina comercial                  415\n",
              "Bodega comercial                   360\n",
              "Edificio                           344\n",
              "Terreno comercial                  334\n",
              "Casa uso de suelo                  222\n",
              "Quinta Vacacional                  100\n",
              "Villa                               98\n",
              "Duplex                              81\n",
              "Inmuebles productivos urbanos       56\n",
              "Local en centro comercial           43\n",
              "Otros                               38\n",
              "Departamento Compartido             38\n",
              "Rancho                              37\n",
              "Nave industrial                     23\n",
              "Terreno industrial                   6\n",
              "Huerta                               5\n",
              "Name: tipodepropiedad, dtype: int64"
            ]
          },
          "metadata": {
            "tags": []
          },
          "execution_count": 29
        }
      ]
    },
    {
      "cell_type": "markdown",
      "metadata": {
        "id": "u4dxufhpUYZh",
        "colab_type": "text"
      },
      "source": [
        "### Latitud y Longitud (limpieza de outliers)"
      ]
    },
    {
      "cell_type": "markdown",
      "metadata": {
        "id": "_wlUKrHZUYZj",
        "colab_type": "text"
      },
      "source": [
        "Las latitudes deben estar entre 13 y 34 y las longitudes entre -84 y -119 aproximadamente"
      ]
    },
    {
      "cell_type": "code",
      "metadata": {
        "id": "518p9S5sUYZl",
        "colab_type": "code",
        "colab": {}
      },
      "source": [
        "df[\"lat\"] = df[\"lat\"].map(lambda x: 0 if x<13 or x>34 else x)\n",
        "df[\"lng\"] = df[\"lng\"].map(lambda x: 0 if x<-119 or x>-84 else x)\n",
        "df[\"lat\"] = df[\"lat\"].fillna(0)\n",
        "df[\"lng\"] = df[\"lng\"].fillna(0)"
      ],
      "execution_count": 0,
      "outputs": []
    },
    {
      "cell_type": "code",
      "metadata": {
        "id": "aWzwnDoNUYZt",
        "colab_type": "code",
        "colab": {}
      },
      "source": [
        "df2[\"lat\"] = df2[\"lat\"].map(lambda x: 0 if x<13 or x>34 else x)\n",
        "df2[\"lng\"] = df2[\"lng\"].map(lambda x: 0 if x<-119 or x>-84 else x)\n",
        "df2[\"lat\"] = df2[\"lat\"].fillna(0)\n",
        "df2[\"lng\"] = df2[\"lng\"].fillna(0)"
      ],
      "execution_count": 0,
      "outputs": []
    },
    {
      "cell_type": "markdown",
      "metadata": {
        "id": "tdeotjbPUYZz",
        "colab_type": "text"
      },
      "source": [
        "### Provincia"
      ]
    },
    {
      "cell_type": "code",
      "metadata": {
        "scrolled": true,
        "id": "sJnl9GoTUYZ2",
        "colab_type": "code",
        "outputId": "902acfb8-e0aa-4ed2-c6a3-67f5b109e459",
        "colab": {
          "base_uri": "https://localhost:8080/",
          "height": 34
        }
      },
      "source": [
        "df['provincia'].isnull().sum()"
      ],
      "execution_count": 0,
      "outputs": [
        {
          "output_type": "execute_result",
          "data": {
            "text/plain": [
              "155"
            ]
          },
          "metadata": {
            "tags": []
          },
          "execution_count": 32
        }
      ]
    },
    {
      "cell_type": "code",
      "metadata": {
        "id": "koEVGyNvUYZ9",
        "colab_type": "code",
        "colab": {}
      },
      "source": [
        "#Creo categoria para los que no tienen categoria en provincia:\n",
        "df['provincia']=df['provincia'].fillna('N/A')"
      ],
      "execution_count": 0,
      "outputs": []
    },
    {
      "cell_type": "code",
      "metadata": {
        "id": "uuXKGHAtUYaD",
        "colab_type": "code",
        "colab": {}
      },
      "source": [
        ""
      ],
      "execution_count": 0,
      "outputs": []
    },
    {
      "cell_type": "code",
      "metadata": {
        "id": "qAsBH1hBUYaK",
        "colab_type": "code",
        "outputId": "218f4dea-166a-4b6a-f7b2-e747ded795b9",
        "colab": {
          "base_uri": "https://localhost:8080/",
          "height": 34
        }
      },
      "source": [
        "df2['provincia'].isnull().sum()"
      ],
      "execution_count": 0,
      "outputs": [
        {
          "output_type": "execute_result",
          "data": {
            "text/plain": [
              "42"
            ]
          },
          "metadata": {
            "tags": []
          },
          "execution_count": 34
        }
      ]
    },
    {
      "cell_type": "code",
      "metadata": {
        "id": "Opi3RD-vUYaP",
        "colab_type": "code",
        "colab": {}
      },
      "source": [
        "#Creo categoria para los que no tienen categoria en provincia:\n",
        "df2['provincia']=df2['provincia'].fillna('N/A')"
      ],
      "execution_count": 0,
      "outputs": []
    },
    {
      "cell_type": "code",
      "metadata": {
        "id": "khZNr8f-UYaV",
        "colab_type": "code",
        "colab": {}
      },
      "source": [
        ""
      ],
      "execution_count": 0,
      "outputs": []
    },
    {
      "cell_type": "markdown",
      "metadata": {
        "id": "upaOT_qzUYab",
        "colab_type": "text"
      },
      "source": [
        "### Ciudad"
      ]
    },
    {
      "cell_type": "code",
      "metadata": {
        "scrolled": true,
        "id": "NCXrhQQbUYae",
        "colab_type": "code",
        "outputId": "14c89ae1-0f76-4c5a-ab7e-d6c53d941612",
        "colab": {
          "base_uri": "https://localhost:8080/",
          "height": 34
        }
      },
      "source": [
        "df['ciudad'].isnull().sum()"
      ],
      "execution_count": 0,
      "outputs": [
        {
          "output_type": "execute_result",
          "data": {
            "text/plain": [
              "372"
            ]
          },
          "metadata": {
            "tags": []
          },
          "execution_count": 36
        }
      ]
    },
    {
      "cell_type": "code",
      "metadata": {
        "id": "exu7V6gQUYap",
        "colab_type": "code",
        "colab": {}
      },
      "source": [
        "#Creo categoria para los que no tienen categoria en ciudad:\n",
        "df['ciudad']=df['ciudad'].fillna('N/A')"
      ],
      "execution_count": 0,
      "outputs": []
    },
    {
      "cell_type": "code",
      "metadata": {
        "id": "brPg8s7EUYay",
        "colab_type": "code",
        "colab": {}
      },
      "source": [
        ""
      ],
      "execution_count": 0,
      "outputs": []
    },
    {
      "cell_type": "code",
      "metadata": {
        "id": "aa1bLrzuUYa6",
        "colab_type": "code",
        "outputId": "613de862-ff41-4806-b6f7-162c00416cb5",
        "colab": {
          "base_uri": "https://localhost:8080/",
          "height": 34
        }
      },
      "source": [
        "df2['ciudad'].isnull().sum()"
      ],
      "execution_count": 0,
      "outputs": [
        {
          "output_type": "execute_result",
          "data": {
            "text/plain": [
              "83"
            ]
          },
          "metadata": {
            "tags": []
          },
          "execution_count": 38
        }
      ]
    },
    {
      "cell_type": "code",
      "metadata": {
        "id": "llunf1x8UYbD",
        "colab_type": "code",
        "colab": {}
      },
      "source": [
        "#Creo categoria para los que no tienen categoria en ciudad:\n",
        "df2['ciudad']=df2['ciudad'].fillna('N/A')"
      ],
      "execution_count": 0,
      "outputs": []
    },
    {
      "cell_type": "code",
      "metadata": {
        "id": "jdhFqEoUUYbJ",
        "colab_type": "code",
        "colab": {}
      },
      "source": [
        ""
      ],
      "execution_count": 0,
      "outputs": []
    },
    {
      "cell_type": "markdown",
      "metadata": {
        "id": "XQN3h-edUYbN",
        "colab_type": "text"
      },
      "source": [
        "### Metros Cubiertos"
      ]
    },
    {
      "cell_type": "code",
      "metadata": {
        "id": "70RcYfQeUYbP",
        "colab_type": "code",
        "outputId": "aadf162c-20ae-4bcc-b9ef-b2b58513c61e",
        "colab": {
          "base_uri": "https://localhost:8080/",
          "height": 34
        }
      },
      "source": [
        "df['metroscubiertos'].isnull().sum()"
      ],
      "execution_count": 0,
      "outputs": [
        {
          "output_type": "execute_result",
          "data": {
            "text/plain": [
              "17400"
            ]
          },
          "metadata": {
            "tags": []
          },
          "execution_count": 40
        }
      ]
    },
    {
      "cell_type": "code",
      "metadata": {
        "id": "sHpxgFqzUYbY",
        "colab_type": "code",
        "outputId": "3e26353d-db70-4990-e0c8-c8b08af52738",
        "colab": {
          "base_uri": "https://localhost:8080/",
          "height": 34
        }
      },
      "source": [
        "df['metroscubiertos'].mean()"
      ],
      "execution_count": 0,
      "outputs": [
        {
          "output_type": "execute_result",
          "data": {
            "text/plain": [
              "174.01677448337827"
            ]
          },
          "metadata": {
            "tags": []
          },
          "execution_count": 41
        }
      ]
    },
    {
      "cell_type": "code",
      "metadata": {
        "id": "ouvND14pUYbl",
        "colab_type": "code",
        "outputId": "1b813b72-3eda-4c49-811f-aafad4063474",
        "colab": {
          "base_uri": "https://localhost:8080/",
          "height": 444
        }
      },
      "source": [
        "prom_tp_h=df.groupby(['tipodepropiedad','habitaciones']).mean().reset_index()\n",
        "prom_tp_h"
      ],
      "execution_count": 0,
      "outputs": [
        {
          "output_type": "execute_result",
          "data": {
            "text/html": [
              "<div>\n",
              "<style scoped>\n",
              "    .dataframe tbody tr th:only-of-type {\n",
              "        vertical-align: middle;\n",
              "    }\n",
              "\n",
              "    .dataframe tbody tr th {\n",
              "        vertical-align: top;\n",
              "    }\n",
              "\n",
              "    .dataframe thead th {\n",
              "        text-align: right;\n",
              "    }\n",
              "</style>\n",
              "<table border=\"1\" class=\"dataframe\">\n",
              "  <thead>\n",
              "    <tr style=\"text-align: right;\">\n",
              "      <th></th>\n",
              "      <th>tipodepropiedad</th>\n",
              "      <th>habitaciones</th>\n",
              "      <th>id</th>\n",
              "      <th>antiguedad</th>\n",
              "      <th>garages</th>\n",
              "      <th>banos</th>\n",
              "      <th>metroscubiertos</th>\n",
              "      <th>metrostotales</th>\n",
              "      <th>idzona</th>\n",
              "      <th>lat</th>\n",
              "      <th>lng</th>\n",
              "      <th>gimnasio</th>\n",
              "      <th>usosmultiples</th>\n",
              "      <th>piscina</th>\n",
              "      <th>escuelascercanas</th>\n",
              "      <th>centroscomercialescercanos</th>\n",
              "      <th>precio</th>\n",
              "    </tr>\n",
              "  </thead>\n",
              "  <tbody>\n",
              "    <tr>\n",
              "      <th>0</th>\n",
              "      <td>Apartamento</td>\n",
              "      <td>1.0</td>\n",
              "      <td>152643.510384</td>\n",
              "      <td>8.732763</td>\n",
              "      <td>0.971615</td>\n",
              "      <td>1.120328</td>\n",
              "      <td>71.190188</td>\n",
              "      <td>74.238628</td>\n",
              "      <td>5.319619e+06</td>\n",
              "      <td>10.567543</td>\n",
              "      <td>-52.789378</td>\n",
              "      <td>0.202746</td>\n",
              "      <td>0.140092</td>\n",
              "      <td>0.193946</td>\n",
              "      <td>0.418515</td>\n",
              "      <td>0.430834</td>\n",
              "      <td>2.185763e+06</td>\n",
              "    </tr>\n",
              "    <tr>\n",
              "      <th>1</th>\n",
              "      <td>Apartamento</td>\n",
              "      <td>2.0</td>\n",
              "      <td>149787.713815</td>\n",
              "      <td>8.184624</td>\n",
              "      <td>1.263254</td>\n",
              "      <td>1.554512</td>\n",
              "      <td>90.680906</td>\n",
              "      <td>92.933376</td>\n",
              "      <td>5.429042e+06</td>\n",
              "      <td>10.450210</td>\n",
              "      <td>-52.509112</td>\n",
              "      <td>0.103395</td>\n",
              "      <td>0.086418</td>\n",
              "      <td>0.105260</td>\n",
              "      <td>0.465679</td>\n",
              "      <td>0.451897</td>\n",
              "      <td>2.152656e+06</td>\n",
              "    </tr>\n",
              "    <tr>\n",
              "      <th>2</th>\n",
              "      <td>Apartamento</td>\n",
              "      <td>3.0</td>\n",
              "      <td>150835.693150</td>\n",
              "      <td>8.587427</td>\n",
              "      <td>1.680461</td>\n",
              "      <td>2.207516</td>\n",
              "      <td>153.039669</td>\n",
              "      <td>152.377643</td>\n",
              "      <td>5.815298e+06</td>\n",
              "      <td>10.162419</td>\n",
              "      <td>-51.108669</td>\n",
              "      <td>0.161689</td>\n",
              "      <td>0.132621</td>\n",
              "      <td>0.178926</td>\n",
              "      <td>0.468761</td>\n",
              "      <td>0.462823</td>\n",
              "      <td>3.552878e+06</td>\n",
              "    </tr>\n",
              "    <tr>\n",
              "      <th>3</th>\n",
              "      <td>Apartamento</td>\n",
              "      <td>4.0</td>\n",
              "      <td>147613.380769</td>\n",
              "      <td>8.598820</td>\n",
              "      <td>1.869118</td>\n",
              "      <td>3.175657</td>\n",
              "      <td>237.278515</td>\n",
              "      <td>233.931646</td>\n",
              "      <td>6.192495e+06</td>\n",
              "      <td>9.640644</td>\n",
              "      <td>-49.841921</td>\n",
              "      <td>0.247436</td>\n",
              "      <td>0.183333</td>\n",
              "      <td>0.329487</td>\n",
              "      <td>0.406410</td>\n",
              "      <td>0.466667</td>\n",
              "      <td>5.387999e+06</td>\n",
              "    </tr>\n",
              "    <tr>\n",
              "      <th>4</th>\n",
              "      <td>Apartamento</td>\n",
              "      <td>5.0</td>\n",
              "      <td>166477.859375</td>\n",
              "      <td>12.224138</td>\n",
              "      <td>2.000000</td>\n",
              "      <td>3.045455</td>\n",
              "      <td>243.885246</td>\n",
              "      <td>233.114286</td>\n",
              "      <td>1.039545e+07</td>\n",
              "      <td>11.112332</td>\n",
              "      <td>-57.864745</td>\n",
              "      <td>0.140625</td>\n",
              "      <td>0.171875</td>\n",
              "      <td>0.203125</td>\n",
              "      <td>0.437500</td>\n",
              "      <td>0.515625</td>\n",
              "      <td>4.777039e+06</td>\n",
              "    </tr>\n",
              "    <tr>\n",
              "      <th>...</th>\n",
              "      <td>...</td>\n",
              "      <td>...</td>\n",
              "      <td>...</td>\n",
              "      <td>...</td>\n",
              "      <td>...</td>\n",
              "      <td>...</td>\n",
              "      <td>...</td>\n",
              "      <td>...</td>\n",
              "      <td>...</td>\n",
              "      <td>...</td>\n",
              "      <td>...</td>\n",
              "      <td>...</td>\n",
              "      <td>...</td>\n",
              "      <td>...</td>\n",
              "      <td>...</td>\n",
              "      <td>...</td>\n",
              "      <td>...</td>\n",
              "    </tr>\n",
              "    <tr>\n",
              "      <th>157</th>\n",
              "      <td>Villa</td>\n",
              "      <td>3.0</td>\n",
              "      <td>147630.537313</td>\n",
              "      <td>5.605263</td>\n",
              "      <td>1.700000</td>\n",
              "      <td>2.507692</td>\n",
              "      <td>204.443609</td>\n",
              "      <td>186.507246</td>\n",
              "      <td>1.793188e+06</td>\n",
              "      <td>8.100083</td>\n",
              "      <td>-42.573667</td>\n",
              "      <td>0.000000</td>\n",
              "      <td>0.000000</td>\n",
              "      <td>0.589552</td>\n",
              "      <td>0.320896</td>\n",
              "      <td>0.380597</td>\n",
              "      <td>2.716795e+06</td>\n",
              "    </tr>\n",
              "    <tr>\n",
              "      <th>158</th>\n",
              "      <td>Villa</td>\n",
              "      <td>4.0</td>\n",
              "      <td>149333.666667</td>\n",
              "      <td>6.689655</td>\n",
              "      <td>2.100000</td>\n",
              "      <td>3.321429</td>\n",
              "      <td>302.233333</td>\n",
              "      <td>240.842105</td>\n",
              "      <td>1.842325e+06</td>\n",
              "      <td>8.978196</td>\n",
              "      <td>-45.204737</td>\n",
              "      <td>0.000000</td>\n",
              "      <td>0.000000</td>\n",
              "      <td>0.636364</td>\n",
              "      <td>0.181818</td>\n",
              "      <td>0.272727</td>\n",
              "      <td>3.805224e+06</td>\n",
              "    </tr>\n",
              "    <tr>\n",
              "      <th>159</th>\n",
              "      <td>Villa</td>\n",
              "      <td>5.0</td>\n",
              "      <td>130999.750000</td>\n",
              "      <td>6.250000</td>\n",
              "      <td>1.500000</td>\n",
              "      <td>2.000000</td>\n",
              "      <td>277.000000</td>\n",
              "      <td>255.000000</td>\n",
              "      <td>4.356025e+04</td>\n",
              "      <td>4.203959</td>\n",
              "      <td>-24.963658</td>\n",
              "      <td>0.000000</td>\n",
              "      <td>0.000000</td>\n",
              "      <td>0.750000</td>\n",
              "      <td>0.000000</td>\n",
              "      <td>0.250000</td>\n",
              "      <td>4.625000e+06</td>\n",
              "    </tr>\n",
              "    <tr>\n",
              "      <th>160</th>\n",
              "      <td>Villa</td>\n",
              "      <td>6.0</td>\n",
              "      <td>219094.333333</td>\n",
              "      <td>6.666667</td>\n",
              "      <td>1.000000</td>\n",
              "      <td>2.000000</td>\n",
              "      <td>250.000000</td>\n",
              "      <td>NaN</td>\n",
              "      <td>5.196400e+04</td>\n",
              "      <td>15.172205</td>\n",
              "      <td>-66.348473</td>\n",
              "      <td>0.000000</td>\n",
              "      <td>0.000000</td>\n",
              "      <td>0.000000</td>\n",
              "      <td>0.333333</td>\n",
              "      <td>0.333333</td>\n",
              "      <td>2.303333e+06</td>\n",
              "    </tr>\n",
              "    <tr>\n",
              "      <th>161</th>\n",
              "      <td>Villa</td>\n",
              "      <td>8.0</td>\n",
              "      <td>180117.333333</td>\n",
              "      <td>3.500000</td>\n",
              "      <td>NaN</td>\n",
              "      <td>3.000000</td>\n",
              "      <td>356.000000</td>\n",
              "      <td>174.000000</td>\n",
              "      <td>9.760700e+04</td>\n",
              "      <td>14.879795</td>\n",
              "      <td>-66.412970</td>\n",
              "      <td>0.000000</td>\n",
              "      <td>0.000000</td>\n",
              "      <td>0.333333</td>\n",
              "      <td>0.000000</td>\n",
              "      <td>0.000000</td>\n",
              "      <td>4.733333e+06</td>\n",
              "    </tr>\n",
              "  </tbody>\n",
              "</table>\n",
              "<p>162 rows × 17 columns</p>\n",
              "</div>"
            ],
            "text/plain": [
              "    tipodepropiedad  habitaciones  ...  centroscomercialescercanos        precio\n",
              "0       Apartamento           1.0  ...                    0.430834  2.185763e+06\n",
              "1       Apartamento           2.0  ...                    0.451897  2.152656e+06\n",
              "2       Apartamento           3.0  ...                    0.462823  3.552878e+06\n",
              "3       Apartamento           4.0  ...                    0.466667  5.387999e+06\n",
              "4       Apartamento           5.0  ...                    0.515625  4.777039e+06\n",
              "..              ...           ...  ...                         ...           ...\n",
              "157           Villa           3.0  ...                    0.380597  2.716795e+06\n",
              "158           Villa           4.0  ...                    0.272727  3.805224e+06\n",
              "159           Villa           5.0  ...                    0.250000  4.625000e+06\n",
              "160           Villa           6.0  ...                    0.333333  2.303333e+06\n",
              "161           Villa           8.0  ...                    0.000000  4.733333e+06\n",
              "\n",
              "[162 rows x 17 columns]"
            ]
          },
          "metadata": {
            "tags": []
          },
          "execution_count": 42
        }
      ]
    },
    {
      "cell_type": "code",
      "metadata": {
        "id": "CypV4Io1UYbr",
        "colab_type": "code",
        "outputId": "d2a696c9-4cde-4054-a4da-bf65d6571416",
        "colab": {
          "base_uri": "https://localhost:8080/",
          "height": 919
        }
      },
      "source": [
        "prom_tp=df.groupby('tipodepropiedad').mean().reset_index()\n",
        "prom_tp"
      ],
      "execution_count": 0,
      "outputs": [
        {
          "output_type": "execute_result",
          "data": {
            "text/html": [
              "<div>\n",
              "<style scoped>\n",
              "    .dataframe tbody tr th:only-of-type {\n",
              "        vertical-align: middle;\n",
              "    }\n",
              "\n",
              "    .dataframe tbody tr th {\n",
              "        vertical-align: top;\n",
              "    }\n",
              "\n",
              "    .dataframe thead th {\n",
              "        text-align: right;\n",
              "    }\n",
              "</style>\n",
              "<table border=\"1\" class=\"dataframe\">\n",
              "  <thead>\n",
              "    <tr style=\"text-align: right;\">\n",
              "      <th></th>\n",
              "      <th>tipodepropiedad</th>\n",
              "      <th>id</th>\n",
              "      <th>antiguedad</th>\n",
              "      <th>habitaciones</th>\n",
              "      <th>garages</th>\n",
              "      <th>banos</th>\n",
              "      <th>metroscubiertos</th>\n",
              "      <th>metrostotales</th>\n",
              "      <th>idzona</th>\n",
              "      <th>lat</th>\n",
              "      <th>lng</th>\n",
              "      <th>gimnasio</th>\n",
              "      <th>usosmultiples</th>\n",
              "      <th>piscina</th>\n",
              "      <th>escuelascercanas</th>\n",
              "      <th>centroscomercialescercanos</th>\n",
              "      <th>precio</th>\n",
              "    </tr>\n",
              "  </thead>\n",
              "  <tbody>\n",
              "    <tr>\n",
              "      <th>0</th>\n",
              "      <td>Apartamento</td>\n",
              "      <td>150388.569974</td>\n",
              "      <td>8.361778</td>\n",
              "      <td>2.386555</td>\n",
              "      <td>1.410242</td>\n",
              "      <td>1.816841</td>\n",
              "      <td>117.051716</td>\n",
              "      <td>117.907762</td>\n",
              "      <td>5.598211e+06</td>\n",
              "      <td>10.304762</td>\n",
              "      <td>-51.786424</td>\n",
              "      <td>0.132379</td>\n",
              "      <td>0.107895</td>\n",
              "      <td>0.141185</td>\n",
              "      <td>0.458905</td>\n",
              "      <td>0.450831</td>\n",
              "      <td>2.763819e+06</td>\n",
              "    </tr>\n",
              "    <tr>\n",
              "      <th>1</th>\n",
              "      <td>Bodega comercial</td>\n",
              "      <td>150703.490405</td>\n",
              "      <td>9.635961</td>\n",
              "      <td>2.630573</td>\n",
              "      <td>0.487528</td>\n",
              "      <td>1.846051</td>\n",
              "      <td>251.089767</td>\n",
              "      <td>261.715040</td>\n",
              "      <td>1.050147e+06</td>\n",
              "      <td>10.391227</td>\n",
              "      <td>-49.589249</td>\n",
              "      <td>0.000000</td>\n",
              "      <td>0.000000</td>\n",
              "      <td>0.000000</td>\n",
              "      <td>0.156361</td>\n",
              "      <td>0.168443</td>\n",
              "      <td>2.697529e+06</td>\n",
              "    </tr>\n",
              "    <tr>\n",
              "      <th>2</th>\n",
              "      <td>Casa</td>\n",
              "      <td>149847.801332</td>\n",
              "      <td>8.272408</td>\n",
              "      <td>3.092045</td>\n",
              "      <td>1.705913</td>\n",
              "      <td>2.240424</td>\n",
              "      <td>194.020754</td>\n",
              "      <td>183.766441</td>\n",
              "      <td>1.191549e+06</td>\n",
              "      <td>9.839697</td>\n",
              "      <td>-46.304010</td>\n",
              "      <td>0.043072</td>\n",
              "      <td>0.035975</td>\n",
              "      <td>0.064266</td>\n",
              "      <td>0.455436</td>\n",
              "      <td>0.385504</td>\n",
              "      <td>2.398052e+06</td>\n",
              "    </tr>\n",
              "    <tr>\n",
              "      <th>3</th>\n",
              "      <td>Casa en condominio</td>\n",
              "      <td>149612.046324</td>\n",
              "      <td>6.328544</td>\n",
              "      <td>2.957135</td>\n",
              "      <td>1.908157</td>\n",
              "      <td>2.366099</td>\n",
              "      <td>187.697231</td>\n",
              "      <td>169.748746</td>\n",
              "      <td>1.795842e+06</td>\n",
              "      <td>10.009079</td>\n",
              "      <td>-49.986550</td>\n",
              "      <td>0.065392</td>\n",
              "      <td>0.098813</td>\n",
              "      <td>0.154049</td>\n",
              "      <td>0.498679</td>\n",
              "      <td>0.459557</td>\n",
              "      <td>2.899490e+06</td>\n",
              "    </tr>\n",
              "    <tr>\n",
              "      <th>4</th>\n",
              "      <td>Casa uso de suelo</td>\n",
              "      <td>154516.812147</td>\n",
              "      <td>17.998377</td>\n",
              "      <td>4.284861</td>\n",
              "      <td>1.427350</td>\n",
              "      <td>2.404719</td>\n",
              "      <td>254.068966</td>\n",
              "      <td>228.425710</td>\n",
              "      <td>3.444321e+06</td>\n",
              "      <td>11.933644</td>\n",
              "      <td>-58.030635</td>\n",
              "      <td>0.000000</td>\n",
              "      <td>0.000000</td>\n",
              "      <td>0.000000</td>\n",
              "      <td>0.326271</td>\n",
              "      <td>0.316384</td>\n",
              "      <td>3.732469e+06</td>\n",
              "    </tr>\n",
              "    <tr>\n",
              "      <th>5</th>\n",
              "      <td>Departamento Compartido</td>\n",
              "      <td>150841.936170</td>\n",
              "      <td>6.149254</td>\n",
              "      <td>2.598540</td>\n",
              "      <td>1.401460</td>\n",
              "      <td>1.791045</td>\n",
              "      <td>127.654676</td>\n",
              "      <td>130.405941</td>\n",
              "      <td>1.880316e+06</td>\n",
              "      <td>9.535568</td>\n",
              "      <td>-47.088500</td>\n",
              "      <td>0.241135</td>\n",
              "      <td>0.184397</td>\n",
              "      <td>0.184397</td>\n",
              "      <td>0.609929</td>\n",
              "      <td>0.666667</td>\n",
              "      <td>2.560162e+06</td>\n",
              "    </tr>\n",
              "    <tr>\n",
              "      <th>6</th>\n",
              "      <td>Duplex</td>\n",
              "      <td>141263.606414</td>\n",
              "      <td>9.851632</td>\n",
              "      <td>2.541176</td>\n",
              "      <td>1.181548</td>\n",
              "      <td>1.360947</td>\n",
              "      <td>100.215976</td>\n",
              "      <td>100.283019</td>\n",
              "      <td>5.337278e+05</td>\n",
              "      <td>10.521328</td>\n",
              "      <td>-50.385872</td>\n",
              "      <td>0.000000</td>\n",
              "      <td>0.000000</td>\n",
              "      <td>0.000000</td>\n",
              "      <td>0.011662</td>\n",
              "      <td>0.008746</td>\n",
              "      <td>1.271758e+06</td>\n",
              "    </tr>\n",
              "    <tr>\n",
              "      <th>7</th>\n",
              "      <td>Edificio</td>\n",
              "      <td>147971.585960</td>\n",
              "      <td>15.890924</td>\n",
              "      <td>6.128713</td>\n",
              "      <td>0.725086</td>\n",
              "      <td>2.626703</td>\n",
              "      <td>291.231944</td>\n",
              "      <td>231.461169</td>\n",
              "      <td>2.781883e+06</td>\n",
              "      <td>11.637292</td>\n",
              "      <td>-56.730248</td>\n",
              "      <td>0.000000</td>\n",
              "      <td>0.000716</td>\n",
              "      <td>0.000716</td>\n",
              "      <td>0.305874</td>\n",
              "      <td>0.313754</td>\n",
              "      <td>5.009499e+06</td>\n",
              "    </tr>\n",
              "    <tr>\n",
              "      <th>8</th>\n",
              "      <td>Huerta</td>\n",
              "      <td>140068.450000</td>\n",
              "      <td>8.777778</td>\n",
              "      <td>2.428571</td>\n",
              "      <td>0.000000</td>\n",
              "      <td>1.625000</td>\n",
              "      <td>139.400000</td>\n",
              "      <td>27.000000</td>\n",
              "      <td>7.129041e+04</td>\n",
              "      <td>4.858243</td>\n",
              "      <td>-21.189069</td>\n",
              "      <td>0.000000</td>\n",
              "      <td>0.000000</td>\n",
              "      <td>0.000000</td>\n",
              "      <td>0.100000</td>\n",
              "      <td>0.150000</td>\n",
              "      <td>3.543350e+06</td>\n",
              "    </tr>\n",
              "    <tr>\n",
              "      <th>9</th>\n",
              "      <td>Inmuebles productivos urbanos</td>\n",
              "      <td>158317.335000</td>\n",
              "      <td>15.671717</td>\n",
              "      <td>5.036145</td>\n",
              "      <td>0.480000</td>\n",
              "      <td>2.388889</td>\n",
              "      <td>256.612121</td>\n",
              "      <td>239.781457</td>\n",
              "      <td>1.378865e+06</td>\n",
              "      <td>12.720816</td>\n",
              "      <td>-62.593008</td>\n",
              "      <td>0.000000</td>\n",
              "      <td>0.000000</td>\n",
              "      <td>0.000000</td>\n",
              "      <td>0.495000</td>\n",
              "      <td>0.440000</td>\n",
              "      <td>3.743070e+06</td>\n",
              "    </tr>\n",
              "    <tr>\n",
              "      <th>10</th>\n",
              "      <td>Local Comercial</td>\n",
              "      <td>149530.493630</td>\n",
              "      <td>9.119982</td>\n",
              "      <td>3.088000</td>\n",
              "      <td>0.546049</td>\n",
              "      <td>1.808801</td>\n",
              "      <td>153.928467</td>\n",
              "      <td>165.285068</td>\n",
              "      <td>2.088406e+06</td>\n",
              "      <td>11.644847</td>\n",
              "      <td>-53.655493</td>\n",
              "      <td>0.000000</td>\n",
              "      <td>0.000000</td>\n",
              "      <td>0.000000</td>\n",
              "      <td>0.228683</td>\n",
              "      <td>0.239138</td>\n",
              "      <td>2.364283e+06</td>\n",
              "    </tr>\n",
              "    <tr>\n",
              "      <th>11</th>\n",
              "      <td>Local en centro comercial</td>\n",
              "      <td>154761.709091</td>\n",
              "      <td>7.569343</td>\n",
              "      <td>1.727273</td>\n",
              "      <td>0.383333</td>\n",
              "      <td>1.697674</td>\n",
              "      <td>92.681250</td>\n",
              "      <td>92.796610</td>\n",
              "      <td>1.032949e+06</td>\n",
              "      <td>10.594212</td>\n",
              "      <td>-52.009552</td>\n",
              "      <td>0.000000</td>\n",
              "      <td>0.000000</td>\n",
              "      <td>0.000000</td>\n",
              "      <td>0.406061</td>\n",
              "      <td>0.484848</td>\n",
              "      <td>2.212631e+06</td>\n",
              "    </tr>\n",
              "    <tr>\n",
              "      <th>12</th>\n",
              "      <td>Nave industrial</td>\n",
              "      <td>150231.197368</td>\n",
              "      <td>10.887324</td>\n",
              "      <td>2.846154</td>\n",
              "      <td>0.857143</td>\n",
              "      <td>2.204545</td>\n",
              "      <td>261.937500</td>\n",
              "      <td>284.111111</td>\n",
              "      <td>6.932170e+04</td>\n",
              "      <td>12.187614</td>\n",
              "      <td>-60.412341</td>\n",
              "      <td>0.000000</td>\n",
              "      <td>0.000000</td>\n",
              "      <td>0.000000</td>\n",
              "      <td>0.000000</td>\n",
              "      <td>0.000000</td>\n",
              "      <td>3.742600e+06</td>\n",
              "    </tr>\n",
              "    <tr>\n",
              "      <th>13</th>\n",
              "      <td>Oficina comercial</td>\n",
              "      <td>149576.757611</td>\n",
              "      <td>12.840426</td>\n",
              "      <td>3.956790</td>\n",
              "      <td>0.991681</td>\n",
              "      <td>1.975535</td>\n",
              "      <td>155.455385</td>\n",
              "      <td>163.987513</td>\n",
              "      <td>6.310797e+06</td>\n",
              "      <td>10.957713</td>\n",
              "      <td>-53.040561</td>\n",
              "      <td>0.000574</td>\n",
              "      <td>0.001149</td>\n",
              "      <td>0.000574</td>\n",
              "      <td>0.240666</td>\n",
              "      <td>0.291786</td>\n",
              "      <td>3.148533e+06</td>\n",
              "    </tr>\n",
              "    <tr>\n",
              "      <th>14</th>\n",
              "      <td>Otros</td>\n",
              "      <td>150060.211679</td>\n",
              "      <td>3.888889</td>\n",
              "      <td>2.464789</td>\n",
              "      <td>1.611111</td>\n",
              "      <td>2.000000</td>\n",
              "      <td>169.615385</td>\n",
              "      <td>166.773585</td>\n",
              "      <td>2.124279e+06</td>\n",
              "      <td>16.623037</td>\n",
              "      <td>-76.509223</td>\n",
              "      <td>0.000000</td>\n",
              "      <td>0.000000</td>\n",
              "      <td>0.000000</td>\n",
              "      <td>0.000000</td>\n",
              "      <td>0.000000</td>\n",
              "      <td>2.853988e+06</td>\n",
              "    </tr>\n",
              "    <tr>\n",
              "      <th>15</th>\n",
              "      <td>Quinta Vacacional</td>\n",
              "      <td>147170.146835</td>\n",
              "      <td>7.544118</td>\n",
              "      <td>2.723757</td>\n",
              "      <td>0.980769</td>\n",
              "      <td>2.299120</td>\n",
              "      <td>229.065445</td>\n",
              "      <td>214.346939</td>\n",
              "      <td>3.665347e+05</td>\n",
              "      <td>11.181948</td>\n",
              "      <td>-47.651741</td>\n",
              "      <td>0.000000</td>\n",
              "      <td>0.000000</td>\n",
              "      <td>0.293671</td>\n",
              "      <td>0.144304</td>\n",
              "      <td>0.101266</td>\n",
              "      <td>3.187426e+06</td>\n",
              "    </tr>\n",
              "    <tr>\n",
              "      <th>16</th>\n",
              "      <td>Rancho</td>\n",
              "      <td>149577.312139</td>\n",
              "      <td>10.467532</td>\n",
              "      <td>2.868966</td>\n",
              "      <td>0.573333</td>\n",
              "      <td>1.862319</td>\n",
              "      <td>206.733728</td>\n",
              "      <td>135.444444</td>\n",
              "      <td>6.195006e+04</td>\n",
              "      <td>9.295223</td>\n",
              "      <td>-43.491962</td>\n",
              "      <td>0.000000</td>\n",
              "      <td>0.000000</td>\n",
              "      <td>0.080925</td>\n",
              "      <td>0.086705</td>\n",
              "      <td>0.057803</td>\n",
              "      <td>3.992519e+06</td>\n",
              "    </tr>\n",
              "    <tr>\n",
              "      <th>17</th>\n",
              "      <td>Terreno</td>\n",
              "      <td>150519.918056</td>\n",
              "      <td>1.031166</td>\n",
              "      <td>2.688285</td>\n",
              "      <td>0.045599</td>\n",
              "      <td>1.692161</td>\n",
              "      <td>210.010978</td>\n",
              "      <td>261.621964</td>\n",
              "      <td>1.685002e+06</td>\n",
              "      <td>10.164018</td>\n",
              "      <td>-49.016136</td>\n",
              "      <td>0.000100</td>\n",
              "      <td>0.000000</td>\n",
              "      <td>0.049106</td>\n",
              "      <td>0.352480</td>\n",
              "      <td>0.308797</td>\n",
              "      <td>1.804418e+06</td>\n",
              "    </tr>\n",
              "    <tr>\n",
              "      <th>18</th>\n",
              "      <td>Terreno comercial</td>\n",
              "      <td>147970.757164</td>\n",
              "      <td>5.030726</td>\n",
              "      <td>2.847222</td>\n",
              "      <td>0.109397</td>\n",
              "      <td>1.810345</td>\n",
              "      <td>189.913684</td>\n",
              "      <td>268.237736</td>\n",
              "      <td>1.597815e+06</td>\n",
              "      <td>10.786409</td>\n",
              "      <td>-50.251624</td>\n",
              "      <td>0.000000</td>\n",
              "      <td>0.000000</td>\n",
              "      <td>0.001508</td>\n",
              "      <td>0.142534</td>\n",
              "      <td>0.143288</td>\n",
              "      <td>2.472025e+06</td>\n",
              "    </tr>\n",
              "    <tr>\n",
              "      <th>19</th>\n",
              "      <td>Terreno industrial</td>\n",
              "      <td>130423.354839</td>\n",
              "      <td>7.285714</td>\n",
              "      <td>4.666667</td>\n",
              "      <td>1.000000</td>\n",
              "      <td>1.666667</td>\n",
              "      <td>164.590909</td>\n",
              "      <td>283.466667</td>\n",
              "      <td>5.752242e+04</td>\n",
              "      <td>18.140573</td>\n",
              "      <td>-84.532744</td>\n",
              "      <td>0.000000</td>\n",
              "      <td>0.000000</td>\n",
              "      <td>0.000000</td>\n",
              "      <td>0.000000</td>\n",
              "      <td>0.000000</td>\n",
              "      <td>3.647994e+06</td>\n",
              "    </tr>\n",
              "    <tr>\n",
              "      <th>20</th>\n",
              "      <td>Villa</td>\n",
              "      <td>150470.005865</td>\n",
              "      <td>6.629630</td>\n",
              "      <td>2.699670</td>\n",
              "      <td>1.651934</td>\n",
              "      <td>2.216667</td>\n",
              "      <td>202.564565</td>\n",
              "      <td>193.817518</td>\n",
              "      <td>1.077035e+06</td>\n",
              "      <td>8.585824</td>\n",
              "      <td>-40.833540</td>\n",
              "      <td>0.000000</td>\n",
              "      <td>0.000000</td>\n",
              "      <td>0.425220</td>\n",
              "      <td>0.222874</td>\n",
              "      <td>0.246334</td>\n",
              "      <td>2.769940e+06</td>\n",
              "    </tr>\n",
              "  </tbody>\n",
              "</table>\n",
              "</div>"
            ],
            "text/plain": [
              "                  tipodepropiedad  ...        precio\n",
              "0                     Apartamento  ...  2.763819e+06\n",
              "1                Bodega comercial  ...  2.697529e+06\n",
              "2                            Casa  ...  2.398052e+06\n",
              "3              Casa en condominio  ...  2.899490e+06\n",
              "4               Casa uso de suelo  ...  3.732469e+06\n",
              "5         Departamento Compartido  ...  2.560162e+06\n",
              "6                          Duplex  ...  1.271758e+06\n",
              "7                        Edificio  ...  5.009499e+06\n",
              "8                          Huerta  ...  3.543350e+06\n",
              "9   Inmuebles productivos urbanos  ...  3.743070e+06\n",
              "10                Local Comercial  ...  2.364283e+06\n",
              "11      Local en centro comercial  ...  2.212631e+06\n",
              "12                Nave industrial  ...  3.742600e+06\n",
              "13              Oficina comercial  ...  3.148533e+06\n",
              "14                          Otros  ...  2.853988e+06\n",
              "15              Quinta Vacacional  ...  3.187426e+06\n",
              "16                         Rancho  ...  3.992519e+06\n",
              "17                        Terreno  ...  1.804418e+06\n",
              "18              Terreno comercial  ...  2.472025e+06\n",
              "19             Terreno industrial  ...  3.647994e+06\n",
              "20                          Villa  ...  2.769940e+06\n",
              "\n",
              "[21 rows x 17 columns]"
            ]
          },
          "metadata": {
            "tags": []
          },
          "execution_count": 43
        }
      ]
    },
    {
      "cell_type": "code",
      "metadata": {
        "id": "tq17d99FUYbw",
        "colab_type": "code",
        "colab": {}
      },
      "source": [
        "def t_mc(x):\n",
        "    if x['metroscubiertos']==0:\n",
        "        if x['habitaciones'] in list(prom_tp_h.loc[prom_tp_h['tipodepropiedad']==x['tipodepropiedad']]['habitaciones']):\n",
        "            x['metroscubiertos']=prom_tp_h.loc[prom_tp_h['tipodepropiedad']==x['tipodepropiedad']].loc[prom_tp_h['habitaciones']==x['habitaciones']].iloc[0].at['metroscubiertos']\n",
        "        else:\n",
        "            x['metroscubiertos']=prom_tp.loc[prom_tp['tipodepropiedad']==x['tipodepropiedad']].iloc[0].at['metroscubiertos']\n",
        "    return x"
      ],
      "execution_count": 0,
      "outputs": []
    },
    {
      "cell_type": "code",
      "metadata": {
        "id": "AUgLVDO9c-ze",
        "colab_type": "code",
        "outputId": "2a54ab3c-1096-48a1-afa0-723f99ea2554",
        "colab": {
          "base_uri": "https://localhost:8080/",
          "height": 416
        }
      },
      "source": [
        "df2.iloc[21143]"
      ],
      "execution_count": 0,
      "outputs": [
        {
          "output_type": "execute_result",
          "data": {
            "text/plain": [
              "id                                                                       181600\n",
              "titulo                        destaque su invercion tres propiedades grandes...\n",
              "descripcion                   <p>morelia michoacan vendo tres propiedades ju...\n",
              "tipodepropiedad                                               Quinta Vacacional\n",
              "direccion                                                           TEHPACUA 36\n",
              "ciudad                                                                  Morelia\n",
              "provincia                                                             Michoacán\n",
              "antiguedad                                                                    7\n",
              "habitaciones                                                                 10\n",
              "garages                                                                       1\n",
              "banos                                                                       NaN\n",
              "metroscubiertos                                                               0\n",
              "metrostotales                                                               200\n",
              "idzona                                                                    60231\n",
              "lat                                                                     19.6804\n",
              "lng                                                                    -101.177\n",
              "fecha                                                       2013-04-12 00:00:00\n",
              "gimnasio                                                                      0\n",
              "usosmultiples                                                                 0\n",
              "piscina                                                                       0\n",
              "escuelascercanas                                                              1\n",
              "centroscomercialescercanos                                                    1\n",
              "Name: 21143, dtype: object"
            ]
          },
          "metadata": {
            "tags": []
          },
          "execution_count": 81
        }
      ]
    },
    {
      "cell_type": "code",
      "metadata": {
        "id": "1vZKgdaQUYb2",
        "colab_type": "code",
        "colab": {}
      },
      "source": [
        "#A los nulls los relleno con el promedio de metroscubiertos segun el tipo de propiedad y la cantidad de habitaciones, si esta disponible\n",
        "df['metroscubiertos']=df['metroscubiertos'].fillna(0)\n",
        "\n",
        "df=df.transform(t_mc, 1)"
      ],
      "execution_count": 0,
      "outputs": []
    },
    {
      "cell_type": "code",
      "metadata": {
        "id": "3SxiTwq8UYb7",
        "colab_type": "code",
        "colab": {}
      },
      "source": [
        "#Relleno los nan que pueden haber quedado con el promedio general\n",
        "df['metroscubiertos']=df['metroscubiertos'].fillna(round(df['metroscubiertos'].mean()))\n",
        "\n",
        "#Luego convierto metroscubiertos a  np.int16\n",
        "df['metroscubiertos']=df['metroscubiertos'].astype(np.int16)"
      ],
      "execution_count": 0,
      "outputs": []
    },
    {
      "cell_type": "code",
      "metadata": {
        "id": "OB1q-M-oUYcA",
        "colab_type": "code",
        "outputId": "0412096d-d244-4c47-9c6d-c8bf710c4934",
        "colab": {
          "base_uri": "https://localhost:8080/",
          "height": 34
        }
      },
      "source": [
        "df2['metroscubiertos'].isnull().sum()"
      ],
      "execution_count": 0,
      "outputs": [
        {
          "output_type": "execute_result",
          "data": {
            "text/plain": [
              "0"
            ]
          },
          "metadata": {
            "tags": []
          },
          "execution_count": 92
        }
      ]
    },
    {
      "cell_type": "code",
      "metadata": {
        "id": "sc_BDG7RUYcF",
        "colab_type": "code",
        "colab": {}
      },
      "source": [
        "#A los nulls los relleno con el promedio de metroscubiertos segun el tipo de propiedad y la cantidad de habitaciones, si esta disponible\n",
        "df2['metroscubiertos']=df2['metroscubiertos'].fillna(0)\n",
        "\n",
        "df2=df2.transform(t_mc, 1)"
      ],
      "execution_count": 0,
      "outputs": []
    },
    {
      "cell_type": "code",
      "metadata": {
        "id": "pKfJK_irUYcK",
        "colab_type": "code",
        "colab": {}
      },
      "source": [
        "#Relleno los nan que pueden haber quedado con el promedio general\n",
        "df2['metroscubiertos']=df2['metroscubiertos'].fillna(round(df['metroscubiertos'].mean()))\n",
        "\n",
        "#Luego convierto metroscubiertos a  np.int16\n",
        "df2['metroscubiertos']=df2['metroscubiertos'].astype(np.int16)"
      ],
      "execution_count": 0,
      "outputs": []
    },
    {
      "cell_type": "markdown",
      "metadata": {
        "id": "jsA0IsV4UYcQ",
        "colab_type": "text"
      },
      "source": [
        "### Metros totales"
      ]
    },
    {
      "cell_type": "code",
      "metadata": {
        "id": "kWsy-ApjUYcS",
        "colab_type": "code",
        "outputId": "c065e07a-a851-4272-bf63-6e4bb596d872",
        "colab": {
          "base_uri": "https://localhost:8080/",
          "height": 34
        }
      },
      "source": [
        "df['metrostotales'].isnull().sum()"
      ],
      "execution_count": 0,
      "outputs": [
        {
          "output_type": "execute_result",
          "data": {
            "text/plain": [
              "51467"
            ]
          },
          "metadata": {
            "tags": []
          },
          "execution_count": 95
        }
      ]
    },
    {
      "cell_type": "code",
      "metadata": {
        "id": "X0MuMvjLUYcn",
        "colab_type": "code",
        "outputId": "b046b939-ee40-45e6-9404-bddf537bfcf9",
        "colab": {
          "base_uri": "https://localhost:8080/",
          "height": 34
        }
      },
      "source": [
        "df['metrostotales'].mean()"
      ],
      "execution_count": 0,
      "outputs": [
        {
          "output_type": "execute_result",
          "data": {
            "text/plain": [
              "176.76514456355122"
            ]
          },
          "metadata": {
            "tags": []
          },
          "execution_count": 96
        }
      ]
    },
    {
      "cell_type": "code",
      "metadata": {
        "id": "7Za8IMDAUYcr",
        "colab_type": "code",
        "colab": {}
      },
      "source": [
        "def t_mt(x):\n",
        "    if x['metrostotales']==0:\n",
        "        if x['habitaciones'] in list(prom_tp_h.loc[prom_tp_h['tipodepropiedad']==x['tipodepropiedad']]['habitaciones']):\n",
        "            prom_tp_h_act =  prom_tp_h.loc[prom_tp_h['tipodepropiedad']==x['tipodepropiedad']].loc[prom_tp_h['habitaciones']==x['habitaciones']].iloc[0].at['metrostotales'] \n",
        "            if prom_tp_h_act < x['metroscubiertos']:\n",
        "                x['metrostotales'] = x['metroscubiertos']\n",
        "            else:\n",
        "                x['metrostotales'] = prom_tp_h_act\n",
        "        else:\n",
        "            prom_tp_act = prom_tp.loc[prom_tp['tipodepropiedad']==x['tipodepropiedad']].iloc[0].at['metrostotales']\n",
        "            if prom_tp_act < x['metroscubiertos']:\n",
        "                x['metrostotales'] = x['metroscubiertos']\n",
        "            else:\n",
        "                x['metrostotales'] = prom_tp_act\n",
        "    return x"
      ],
      "execution_count": 0,
      "outputs": []
    },
    {
      "cell_type": "code",
      "metadata": {
        "id": "NGk3QxSbUYcy",
        "colab_type": "code",
        "colab": {}
      },
      "source": [
        "#A los nulls los relleno con el promedio de metrostotales segun el tipo de propiedad y la cantidad de habitaciones, si esta disponible, y me fijo que siempre sea mayor o igual a los metroscubiertos\n",
        "df['metrostotales']=df['metrostotales'].fillna(0)\n",
        "\n",
        "df=df.transform(t_mt, 1)"
      ],
      "execution_count": 0,
      "outputs": []
    },
    {
      "cell_type": "code",
      "metadata": {
        "id": "LF9ZRRBHUYc2",
        "colab_type": "code",
        "colab": {}
      },
      "source": [
        "#Relleno los nan que pueden haber quedado con el promedio general\n",
        "df['metrostotales']=df['metrostotales'].fillna(round(df['metrostotales'].mean()))\n",
        "\n",
        "#Luego convierto metrostotales a  np.int16\n",
        "df['metrostotales']=df['metrostotales'].astype(np.int16)"
      ],
      "execution_count": 0,
      "outputs": []
    },
    {
      "cell_type": "code",
      "metadata": {
        "id": "LEImDmW_UYc7",
        "colab_type": "code",
        "outputId": "c7b0c74f-3900-458b-fbcd-340e6777cf31",
        "colab": {
          "base_uri": "https://localhost:8080/",
          "height": 34
        }
      },
      "source": [
        "df2['metrostotales'].isnull().sum()"
      ],
      "execution_count": 0,
      "outputs": [
        {
          "output_type": "execute_result",
          "data": {
            "text/plain": [
              "12655"
            ]
          },
          "metadata": {
            "tags": []
          },
          "execution_count": 101
        }
      ]
    },
    {
      "cell_type": "code",
      "metadata": {
        "id": "GYP5lOf5UYdA",
        "colab_type": "code",
        "colab": {}
      },
      "source": [
        "#A los nulls los relleno con el promedio de metroscubiertos segun el tipo de propiedad y la cantidad de habitaciones, si esta disponible\n",
        "df2['metrostotales']=df2['metrostotales'].fillna(0)\n",
        "\n",
        "df2=df2.transform(t_mt, 1)"
      ],
      "execution_count": 0,
      "outputs": []
    },
    {
      "cell_type": "code",
      "metadata": {
        "id": "0YhjtLSgUYdE",
        "colab_type": "code",
        "colab": {}
      },
      "source": [
        "#Relleno los nan que pueden haber quedado con el promedio general\n",
        "df2['metrostotales']=df2['metrostotales'].fillna(round(df['metrostotales'].mean()))\n",
        "\n",
        "#Luego convierto metroscubiertos a  np.int16\n",
        "df2['metrostotales']=df2['metrostotales'].astype(np.int16)"
      ],
      "execution_count": 0,
      "outputs": []
    },
    {
      "cell_type": "markdown",
      "metadata": {
        "id": "ry2dfWxsUYdI",
        "colab_type": "text"
      },
      "source": [
        "### Habitaciones"
      ]
    },
    {
      "cell_type": "code",
      "metadata": {
        "id": "x1FJlkMfUYdK",
        "colab_type": "code",
        "outputId": "af01aa8a-eeef-44b1-ce23-ec2c98a8a5ba",
        "colab": {
          "base_uri": "https://localhost:8080/",
          "height": 34
        }
      },
      "source": [
        "df['habitaciones'].isnull().sum()"
      ],
      "execution_count": 0,
      "outputs": [
        {
          "output_type": "execute_result",
          "data": {
            "text/plain": [
              "22471"
            ]
          },
          "metadata": {
            "tags": []
          },
          "execution_count": 104
        }
      ]
    },
    {
      "cell_type": "code",
      "metadata": {
        "id": "hwiimW6mUYdQ",
        "colab_type": "code",
        "outputId": "57a9a26e-aa94-489c-f7d2-e8527400ba69",
        "colab": {
          "base_uri": "https://localhost:8080/",
          "height": 225
        }
      },
      "source": [
        "df['precio'] = df['precio'].astype(np.int32)\n",
        "df.groupby('habitaciones')['precio'].mean().astype(np.int32)"
      ],
      "execution_count": 0,
      "outputs": [
        {
          "output_type": "execute_result",
          "data": {
            "text/plain": [
              "habitaciones\n",
              "1.0     1806074\n",
              "2.0     1616899\n",
              "3.0     2769606\n",
              "4.0     3494388\n",
              "5.0     3284971\n",
              "6.0     3165558\n",
              "7.0     3562563\n",
              "8.0     3432464\n",
              "9.0     3936173\n",
              "10.0    4520161\n",
              "Name: precio, dtype: int32"
            ]
          },
          "metadata": {
            "tags": []
          },
          "execution_count": 114
        }
      ]
    },
    {
      "cell_type": "code",
      "metadata": {
        "id": "NxPncGzuUYda",
        "colab_type": "code",
        "colab": {}
      },
      "source": [
        "#df[df['habitaciones'].isnull()]['precio'].mean().astype(np.int32)"
      ],
      "execution_count": 0,
      "outputs": []
    },
    {
      "cell_type": "code",
      "metadata": {
        "id": "6tkjdB6kUYdf",
        "colab_type": "code",
        "colab": {}
      },
      "source": [
        "#El precio promedio de las publicaciones que no tienen datos de cant de habitaciones esta entre el precio\n",
        "#promedio de las que tienen 2 y 3 habitaciones\n",
        "#Entonces voy a asumir que tienen 3 habitaciones, ya que es el valor al cual el precio mas se les asemeja.\n",
        "df['habitaciones']=df['habitaciones'].fillna(3)\n",
        "#Luego convierto a np.int8\n",
        "df['habitaciones']=df['habitaciones'].astype(np.int8)"
      ],
      "execution_count": 0,
      "outputs": []
    },
    {
      "cell_type": "markdown",
      "metadata": {
        "id": "esHphTkIUYdk",
        "colab_type": "text"
      },
      "source": [
        "### Latitud y longitud"
      ]
    },
    {
      "cell_type": "code",
      "metadata": {
        "id": "jrKw5xuaUYdm",
        "colab_type": "code",
        "outputId": "94093f9a-7972-4303-d492-1273882909e5",
        "colab": {
          "base_uri": "https://localhost:8080/",
          "height": 34
        }
      },
      "source": [
        "df['lat'].isnull().sum()\n",
        "#Como deberia rellenar los nulls de latitud y longitud?"
      ],
      "execution_count": 0,
      "outputs": [
        {
          "output_type": "execute_result",
          "data": {
            "text/plain": [
              "0"
            ]
          },
          "metadata": {
            "tags": []
          },
          "execution_count": 117
        }
      ]
    },
    {
      "cell_type": "markdown",
      "metadata": {
        "id": "k0Sg7ApSUYdr",
        "colab_type": "text"
      },
      "source": [
        "### Antiguedad"
      ]
    },
    {
      "cell_type": "code",
      "metadata": {
        "id": "sdJw5-9pUYdw",
        "colab_type": "code",
        "outputId": "31f3bffa-5fbc-4998-f9e7-0060c429169c",
        "colab": {
          "base_uri": "https://localhost:8080/",
          "height": 34
        }
      },
      "source": [
        "df['antiguedad'].isnull().sum()"
      ],
      "execution_count": 0,
      "outputs": [
        {
          "output_type": "execute_result",
          "data": {
            "text/plain": [
              "43555"
            ]
          },
          "metadata": {
            "tags": []
          },
          "execution_count": 118
        }
      ]
    },
    {
      "cell_type": "code",
      "metadata": {
        "id": "3H383lrlUYeH",
        "colab_type": "code",
        "colab": {}
      },
      "source": [
        "#A los que no tienen datos de antiguedad los relleno con la antiguedad promedio (es 8)\n",
        "df['antiguedad']=df['antiguedad'].fillna(round(df['antiguedad'].mean()))\n",
        "#Luego convierto a np.uint8\n",
        "df['antiguedad']=df['antiguedad'].astype(np.int8)"
      ],
      "execution_count": 0,
      "outputs": []
    },
    {
      "cell_type": "markdown",
      "metadata": {
        "id": "YY8haaVGUYeM",
        "colab_type": "text"
      },
      "source": [
        "### Garages"
      ]
    },
    {
      "cell_type": "code",
      "metadata": {
        "id": "JyzGkjROUYeQ",
        "colab_type": "code",
        "outputId": "1a6a94af-c1c4-4d3c-f7d8-574e9372bcb4",
        "colab": {
          "base_uri": "https://localhost:8080/",
          "height": 104
        }
      },
      "source": [
        "#Para garages uso np.int8\n",
        "df['garages'].value_counts()"
      ],
      "execution_count": 0,
      "outputs": [
        {
          "output_type": "execute_result",
          "data": {
            "text/plain": [
              "2.0    94167\n",
              "1.0    59464\n",
              "0.0    26926\n",
              "3.0    21678\n",
              "Name: garages, dtype: int64"
            ]
          },
          "metadata": {
            "tags": []
          },
          "execution_count": 120
        }
      ]
    },
    {
      "cell_type": "code",
      "metadata": {
        "id": "iAouKoumUYeU",
        "colab_type": "code",
        "outputId": "c65175ef-f4ca-4b29-a8a9-b91c6a75d299",
        "colab": {
          "base_uri": "https://localhost:8080/",
          "height": 34
        }
      },
      "source": [
        "df['garages'].isnull().sum()"
      ],
      "execution_count": 0,
      "outputs": [
        {
          "output_type": "execute_result",
          "data": {
            "text/plain": [
              "37765"
            ]
          },
          "metadata": {
            "tags": []
          },
          "execution_count": 121
        }
      ]
    },
    {
      "cell_type": "code",
      "metadata": {
        "scrolled": true,
        "id": "XLt5jmeNUYea",
        "colab_type": "code",
        "outputId": "4a30d121-c1f1-4295-be21-0ed1b5ec01b3",
        "colab": {
          "base_uri": "https://localhost:8080/",
          "height": 121
        }
      },
      "source": [
        "df.groupby('garages')['precio'].mean().astype(np.int32)"
      ],
      "execution_count": 0,
      "outputs": [
        {
          "output_type": "execute_result",
          "data": {
            "text/plain": [
              "garages\n",
              "0.0    2033282\n",
              "1.0    1346327\n",
              "2.0    2644485\n",
              "3.0    4293016\n",
              "Name: precio, dtype: int32"
            ]
          },
          "metadata": {
            "tags": []
          },
          "execution_count": 122
        }
      ]
    },
    {
      "cell_type": "code",
      "metadata": {
        "id": "IvoDOcleUYeg",
        "colab_type": "code",
        "colab": {}
      },
      "source": [
        "#df[df['garages'].isnull()]['precio'].mean().astype(np.int32)"
      ],
      "execution_count": 0,
      "outputs": []
    },
    {
      "cell_type": "code",
      "metadata": {
        "id": "EP-x19M4UYep",
        "colab_type": "code",
        "colab": {}
      },
      "source": [
        "#El precio promedio de los que tienen NULL en garage es parecido al de los que tienen 2.\n",
        "#Relleno los nulls de esta columna con un 2.\n",
        "df['garages']=df['garages'].fillna(2)"
      ],
      "execution_count": 0,
      "outputs": []
    },
    {
      "cell_type": "code",
      "metadata": {
        "id": "KxZB5cksUYeu",
        "colab_type": "code",
        "colab": {}
      },
      "source": [
        "#convierto a np.int8\n",
        "df['garages']=df['garages'].astype(np.int8)"
      ],
      "execution_count": 0,
      "outputs": []
    },
    {
      "cell_type": "markdown",
      "metadata": {
        "id": "AGkfp6ugUYez",
        "colab_type": "text"
      },
      "source": [
        "### Baños"
      ]
    },
    {
      "cell_type": "code",
      "metadata": {
        "scrolled": true,
        "id": "g9BAm5a9UYe1",
        "colab_type": "code",
        "outputId": "0588c4a1-29b9-4900-a98b-19be3a4b4497",
        "colab": {
          "base_uri": "https://localhost:8080/",
          "height": 104
        }
      },
      "source": [
        "#Para garages uso np.int8\n",
        "df['banos'].value_counts()"
      ],
      "execution_count": 0,
      "outputs": [
        {
          "output_type": "execute_result",
          "data": {
            "text/plain": [
              "2.0    87683\n",
              "1.0    58173\n",
              "3.0    49365\n",
              "4.0    18558\n",
              "Name: banos, dtype: int64"
            ]
          },
          "metadata": {
            "tags": []
          },
          "execution_count": 126
        }
      ]
    },
    {
      "cell_type": "code",
      "metadata": {
        "id": "kOmrjDL4UYe7",
        "colab_type": "code",
        "outputId": "a50fa653-4c4d-42ed-eb7f-04ea36b3d8a0",
        "colab": {
          "base_uri": "https://localhost:8080/",
          "height": 34
        }
      },
      "source": [
        "df['banos'].isnull().sum()"
      ],
      "execution_count": 0,
      "outputs": [
        {
          "output_type": "execute_result",
          "data": {
            "text/plain": [
              "26221"
            ]
          },
          "metadata": {
            "tags": []
          },
          "execution_count": 127
        }
      ]
    },
    {
      "cell_type": "code",
      "metadata": {
        "scrolled": true,
        "id": "s_iWhKTvUYfC",
        "colab_type": "code",
        "outputId": "910bed3a-77f6-46ef-dcfb-dc020ab93721",
        "colab": {
          "base_uri": "https://localhost:8080/",
          "height": 121
        }
      },
      "source": [
        "df.groupby('banos')['precio'].mean().astype(np.int32)"
      ],
      "execution_count": 0,
      "outputs": [
        {
          "output_type": "execute_result",
          "data": {
            "text/plain": [
              "banos\n",
              "1.0    1041801\n",
              "2.0    2317529\n",
              "3.0    3701016\n",
              "4.0    4449123\n",
              "Name: precio, dtype: int32"
            ]
          },
          "metadata": {
            "tags": []
          },
          "execution_count": 128
        }
      ]
    },
    {
      "cell_type": "code",
      "metadata": {
        "id": "4aQRRpzhUYfJ",
        "colab_type": "code",
        "colab": {}
      },
      "source": [
        "#df[df['banos'].isnull()]['precio'].mean().astype(np.int32)"
      ],
      "execution_count": 0,
      "outputs": []
    },
    {
      "cell_type": "code",
      "metadata": {
        "id": "vE6TfY0VUYfO",
        "colab_type": "code",
        "colab": {}
      },
      "source": [
        "#El precio promedio de los que tienen NULL en banos es mas parecido al de los que tienen 2.\n",
        "#Relleno los nulls de esta columna con un 2.\n",
        "df['banos']=df['banos'].fillna(2)"
      ],
      "execution_count": 0,
      "outputs": []
    },
    {
      "cell_type": "code",
      "metadata": {
        "id": "PyJsXmuYUYfc",
        "colab_type": "code",
        "colab": {}
      },
      "source": [
        "#convierto a np.int8\n",
        "df['banos']=df['banos'].astype(np.int8)"
      ],
      "execution_count": 0,
      "outputs": []
    },
    {
      "cell_type": "markdown",
      "metadata": {
        "id": "z7uX0Gy5UYff",
        "colab_type": "text"
      },
      "source": [
        "### Idzona"
      ]
    },
    {
      "cell_type": "code",
      "metadata": {
        "id": "aAJnyE6TUYfg",
        "colab_type": "code",
        "outputId": "adfa2400-68cc-46f2-dca5-376c61e64080",
        "colab": {
          "base_uri": "https://localhost:8080/",
          "height": 34
        }
      },
      "source": [
        "df['idzona'].isnull().sum()\n",
        "#No se exactamente como rellenar los nulls para esta columna."
      ],
      "execution_count": 0,
      "outputs": [
        {
          "output_type": "execute_result",
          "data": {
            "text/plain": [
              "28621"
            ]
          },
          "metadata": {
            "tags": []
          },
          "execution_count": 132
        }
      ]
    },
    {
      "cell_type": "code",
      "metadata": {
        "id": "h-eIrmXOgXFD",
        "colab_type": "code",
        "colab": {}
      },
      "source": [
        ""
      ],
      "execution_count": 0,
      "outputs": []
    }
  ]
}