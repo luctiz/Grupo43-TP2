{
 "cells": [
  {
   "cell_type": "code",
   "execution_count": 1,
   "metadata": {},
   "outputs": [],
   "source": [
    "import pandas as pd\n",
    "from datetime import datetime\n",
    "import numpy as np\n",
    "import matplotlib.pyplot as plt\n",
    "import seaborn as sns"
   ]
  },
  {
   "cell_type": "markdown",
   "metadata": {},
   "source": [
    "# Carga y limpieza de datos\n",
    "\n",
    "## (Hecho con la info obtenida en el notebook LimpiezaDeDatos)"
   ]
  },
  {
   "cell_type": "code",
   "execution_count": 2,
   "metadata": {
    "colab": {},
    "colab_type": "code",
    "id": "8MBqVQ0t-fcY"
   },
   "outputs": [],
   "source": [
    "#import io\n",
    "#ruta = io.StringIO(uploaded['train.csv'].decode('utf-8'))\n",
    "ejemplo =  pd.read_csv('data/ejemploRespuesta.csv', names = [\"id\", \"precio\"] )\n",
    "test =  pd.read_csv('data/test.csv', parse_dates = ['fecha'])\n",
    "train = pd.read_csv('data/train.csv',parse_dates = ['fecha'])"
   ]
  },
  {
   "cell_type": "code",
   "execution_count": 3,
   "metadata": {},
   "outputs": [],
   "source": [
    "#A los nulls los relleno con el promedio de metroscubiertos de todas las publicaciones\n",
    "train['metroscubiertos']=train['metroscubiertos'].fillna(round(train['metroscubiertos'].mean()))\n",
    "test['metroscubiertos']=test['metroscubiertos'].fillna(round(test['metroscubiertos'].mean()))\n",
    "#Luego convierto metroscubiertos a  np.int16\n",
    "train['metroscubiertos']=train['metroscubiertos'].astype(np.int16)\n",
    "test['metroscubiertos']=test['metroscubiertos'].astype(np.int16)"
   ]
  },
  {
   "cell_type": "code",
   "execution_count": 4,
   "metadata": {},
   "outputs": [],
   "source": [
    "#A los nulls los relleno con el promedio de metrostotales de todas las publicaciones\n",
    "train['metrostotales']=train['metrostotales'].fillna(round(train['metrostotales'].mean()))\n",
    "test['metrostotales']=test['metrostotales'].fillna(round(test['metrostotales'].mean()))\n",
    "#Luego convierto metrostotales a  np.int16\n",
    "train['metrostotales']=train['metrostotales'].astype(np.int16)\n",
    "test['metrostotales']=test['metrostotales'].astype(np.int16)"
   ]
  },
  {
   "cell_type": "code",
   "execution_count": 5,
   "metadata": {},
   "outputs": [],
   "source": [
    "#El precio promedio de las publicaciones que no tienen datos de cant de habitaciones esta entre el precio\n",
    "#promedio de las que tienen 2 y 3 habitaciones\n",
    "#Entonces voy a asumir que tienen 3 habitaciones, ya que es el valor al cual el precio mas se les asemeja.\n",
    "train['habitaciones']=train['habitaciones'].fillna(3)\n",
    "test['habitaciones']=test['habitaciones'].fillna(3)\n",
    "#Luego convierto a np.int8\n",
    "train['habitaciones']=train['habitaciones'].astype(np.int8)\n",
    "test['habitaciones']=test['habitaciones'].astype(np.int8)"
   ]
  },
  {
   "cell_type": "code",
   "execution_count": 6,
   "metadata": {},
   "outputs": [],
   "source": [
    "#A los que no tienen datos de antiguedad los relleno con la antiguedad promedio (es 8)\n",
    "train['antiguedad']=train['antiguedad'].fillna(round(train['antiguedad'].mean()))\n",
    "test['antiguedad']=test['antiguedad'].fillna(round(train['antiguedad'].mean()))\n",
    "#Luego convierto a np.uint8\n",
    "train['antiguedad']=train['antiguedad'].astype(np.uint8)\n",
    "test['antiguedad']=test['antiguedad'].astype(np.uint8)"
   ]
  },
  {
   "cell_type": "code",
   "execution_count": 7,
   "metadata": {},
   "outputs": [],
   "source": [
    "#El precio promedio de los que tienen NULL en garage es parecido al de los que tienen 2.\n",
    "#Relleno los nulls de esta columna con un 2.\n",
    "train['garages']=train['garages'].fillna(2)\n",
    "test['garages']=test['garages'].fillna(2)\n",
    "#convierto a np.int8\n",
    "train['garages']=train['garages'].astype(np.int8)\n",
    "test['garages']=test['garages'].astype(np.int8)"
   ]
  },
  {
   "cell_type": "code",
   "execution_count": 8,
   "metadata": {},
   "outputs": [],
   "source": [
    "#El precio promedio de los que tienen NULL en banos es mas parecido al de los que tienen 2.\n",
    "#Relleno los nulls de esta columna con un 2.\n",
    "train['banos']=train['banos'].fillna(2)\n",
    "test['banos']=test['banos'].fillna(2)\n",
    "#convierto a np.int8\n",
    "train['banos']=train['banos'].astype(np.int8)\n",
    "test['banos']=test['banos'].astype(np.int8)"
   ]
  },
  {
   "cell_type": "code",
   "execution_count": 9,
   "metadata": {
    "scrolled": true
   },
   "outputs": [],
   "source": [
    "train['gimnasio']=train['gimnasio'].astype(np.int8)\n",
    "train['usosmultiples']=train['usosmultiples'].astype(np.int8)\n",
    "train['piscina']=train['piscina'].astype(np.int8)\n",
    "train['escuelascercanas']=train['escuelascercanas'].astype(np.int8)\n",
    "train['centroscomercialescercanos']=train['centroscomercialescercanos'].astype(np.int8)\n",
    "test['gimnasio']=test['gimnasio'].astype(np.int8)\n",
    "test['usosmultiples']=test['usosmultiples'].astype(np.int8)\n",
    "test['piscina']=test['piscina'].astype(np.int8)\n",
    "test['escuelascercanas']=test['escuelascercanas'].astype(np.int8)\n",
    "test['centroscomercialescercanos']=test['centroscomercialescercanos'].astype(np.int8)"
   ]
  },
  {
   "cell_type": "code",
   "execution_count": 10,
   "metadata": {},
   "outputs": [],
   "source": [
    "#Creo categoria para los que no tienen categoria en provincia:\n",
    "train['provincia']=train['provincia'].fillna('N/A')\n",
    "test['provincia']=test['provincia'].fillna('N/A')\n",
    "#Creo categoria para los que no tienen categoria en ciudad:\n",
    "train['ciudad']=train['ciudad'].fillna('N/A')\n",
    "test['ciudad']=test['ciudad'].fillna('N/A')\n",
    "#Relleno los nulls en direccion con un - .\n",
    "train['direccion']=train['direccion'].fillna('-')\n",
    "test['direccion']=test['direccion'].fillna('-')\n",
    "#Creo categoria para los que no tienen categoria en tipodepropiedad:\n",
    "train['tipodepropiedad']=train['tipodepropiedad'].fillna('N/A')\n",
    "test['tipodepropiedad']=test['tipodepropiedad'].fillna('N/A')"
   ]
  },
  {
   "cell_type": "code",
   "execution_count": 11,
   "metadata": {},
   "outputs": [],
   "source": [
    "train['titulo']=train['titulo'].fillna(' ')\n",
    "train['descripcion']=train['descripcion'].fillna(' ')\n",
    "test['titulo']=test['titulo'].fillna(' ')\n",
    "test['descripcion']=test['descripcion'].fillna(' ')"
   ]
  },
  {
   "cell_type": "code",
   "execution_count": 12,
   "metadata": {},
   "outputs": [],
   "source": [
    "train['precio']=train['precio'].astype(np.int32)\n",
    "train['id']=train['id'].astype(np.int32)\n",
    "test['id']=test['id'].astype(np.int32)"
   ]
  },
  {
   "cell_type": "code",
   "execution_count": 13,
   "metadata": {},
   "outputs": [],
   "source": [
    "#Algunas columnas tienen nulls que no se como encararlos. Por ahora los relleno con 0\n",
    "train=train.fillna(0)\n",
    "test=test.fillna(0)"
   ]
  },
  {
   "cell_type": "markdown",
   "metadata": {},
   "source": [
    "# Armado de features:"
   ]
  },
  {
   "cell_type": "code",
   "execution_count": 14,
   "metadata": {
    "scrolled": true
   },
   "outputs": [
    {
     "data": {
      "text/plain": [
       "Index(['id', 'titulo', 'descripcion', 'tipodepropiedad', 'direccion', 'ciudad',\n",
       "       'provincia', 'antiguedad', 'habitaciones', 'garages', 'banos',\n",
       "       'metroscubiertos', 'metrostotales', 'idzona', 'lat', 'lng', 'fecha',\n",
       "       'gimnasio', 'usosmultiples', 'piscina', 'escuelascercanas',\n",
       "       'centroscomercialescercanos', 'precio'],\n",
       "      dtype='object')"
      ]
     },
     "execution_count": 14,
     "metadata": {},
     "output_type": "execute_result"
    }
   ],
   "source": [
    "train.columns"
   ]
  },
  {
   "cell_type": "code",
   "execution_count": 15,
   "metadata": {},
   "outputs": [
    {
     "data": {
      "text/plain": [
       "Index(['id', 'titulo', 'descripcion', 'tipodepropiedad', 'direccion', 'ciudad',\n",
       "       'provincia', 'antiguedad', 'habitaciones', 'garages', 'banos',\n",
       "       'metroscubiertos', 'metrostotales', 'idzona', 'lat', 'lng', 'fecha',\n",
       "       'gimnasio', 'usosmultiples', 'piscina', 'escuelascercanas',\n",
       "       'centroscomercialescercanos'],\n",
       "      dtype='object')"
      ]
     },
     "execution_count": 15,
     "metadata": {},
     "output_type": "execute_result"
    }
   ],
   "source": [
    "test.columns"
   ]
  },
  {
   "cell_type": "markdown",
   "metadata": {},
   "source": [
    "## Dummies para tipodepropiedad"
   ]
  },
  {
   "cell_type": "code",
   "execution_count": 16,
   "metadata": {},
   "outputs": [],
   "source": [
    "#Voy a usar OneHotEncoder para convertir la columna categorica tipodepropiedad en dummies.\n",
    "from sklearn.preprocessing import OneHotEncoder\n",
    "enc = OneHotEncoder()\n",
    "dummies = enc.fit_transform(train['tipodepropiedad'].values.reshape(-1, 1)).toarray()\n",
    "dummies = pd.DataFrame(dummies)\n",
    "dummies_test = enc.transform(test['tipodepropiedad'].values.reshape(-1, 1)).toarray()\n",
    "dummies_test = pd.DataFrame(dummies_test)"
   ]
  },
  {
   "cell_type": "code",
   "execution_count": 17,
   "metadata": {},
   "outputs": [],
   "source": [
    "dummies=dummies.add_prefix('tipodepropiedad_')\n",
    "dummies=dummies.astype(np.int8)\n",
    "dummies_test=dummies_test.add_prefix('tipodepropiedad_')\n",
    "dummies_test=dummies_test.astype(np.int8)"
   ]
  },
  {
   "cell_type": "code",
   "execution_count": 18,
   "metadata": {},
   "outputs": [
    {
     "data": {
      "text/html": [
       "<div>\n",
       "<style scoped>\n",
       "    .dataframe tbody tr th:only-of-type {\n",
       "        vertical-align: middle;\n",
       "    }\n",
       "\n",
       "    .dataframe tbody tr th {\n",
       "        vertical-align: top;\n",
       "    }\n",
       "\n",
       "    .dataframe thead th {\n",
       "        text-align: right;\n",
       "    }\n",
       "</style>\n",
       "<table border=\"1\" class=\"dataframe\">\n",
       "  <thead>\n",
       "    <tr style=\"text-align: right;\">\n",
       "      <th></th>\n",
       "      <th>tipodepropiedad_0</th>\n",
       "      <th>tipodepropiedad_1</th>\n",
       "      <th>tipodepropiedad_2</th>\n",
       "      <th>tipodepropiedad_3</th>\n",
       "      <th>tipodepropiedad_4</th>\n",
       "      <th>tipodepropiedad_5</th>\n",
       "      <th>tipodepropiedad_6</th>\n",
       "      <th>tipodepropiedad_7</th>\n",
       "      <th>tipodepropiedad_8</th>\n",
       "      <th>tipodepropiedad_9</th>\n",
       "      <th>...</th>\n",
       "      <th>tipodepropiedad_15</th>\n",
       "      <th>tipodepropiedad_16</th>\n",
       "      <th>tipodepropiedad_17</th>\n",
       "      <th>tipodepropiedad_18</th>\n",
       "      <th>tipodepropiedad_19</th>\n",
       "      <th>tipodepropiedad_20</th>\n",
       "      <th>tipodepropiedad_21</th>\n",
       "      <th>tipodepropiedad_22</th>\n",
       "      <th>tipodepropiedad_23</th>\n",
       "      <th>tipodepropiedad_24</th>\n",
       "    </tr>\n",
       "  </thead>\n",
       "  <tbody>\n",
       "    <tr>\n",
       "      <th>0</th>\n",
       "      <td>1</td>\n",
       "      <td>0</td>\n",
       "      <td>0</td>\n",
       "      <td>0</td>\n",
       "      <td>0</td>\n",
       "      <td>0</td>\n",
       "      <td>0</td>\n",
       "      <td>0</td>\n",
       "      <td>0</td>\n",
       "      <td>0</td>\n",
       "      <td>...</td>\n",
       "      <td>0</td>\n",
       "      <td>0</td>\n",
       "      <td>0</td>\n",
       "      <td>0</td>\n",
       "      <td>0</td>\n",
       "      <td>0</td>\n",
       "      <td>0</td>\n",
       "      <td>0</td>\n",
       "      <td>0</td>\n",
       "      <td>0</td>\n",
       "    </tr>\n",
       "    <tr>\n",
       "      <th>1</th>\n",
       "      <td>0</td>\n",
       "      <td>0</td>\n",
       "      <td>0</td>\n",
       "      <td>1</td>\n",
       "      <td>0</td>\n",
       "      <td>0</td>\n",
       "      <td>0</td>\n",
       "      <td>0</td>\n",
       "      <td>0</td>\n",
       "      <td>0</td>\n",
       "      <td>...</td>\n",
       "      <td>0</td>\n",
       "      <td>0</td>\n",
       "      <td>0</td>\n",
       "      <td>0</td>\n",
       "      <td>0</td>\n",
       "      <td>0</td>\n",
       "      <td>0</td>\n",
       "      <td>0</td>\n",
       "      <td>0</td>\n",
       "      <td>0</td>\n",
       "    </tr>\n",
       "    <tr>\n",
       "      <th>2</th>\n",
       "      <td>0</td>\n",
       "      <td>0</td>\n",
       "      <td>1</td>\n",
       "      <td>0</td>\n",
       "      <td>0</td>\n",
       "      <td>0</td>\n",
       "      <td>0</td>\n",
       "      <td>0</td>\n",
       "      <td>0</td>\n",
       "      <td>0</td>\n",
       "      <td>...</td>\n",
       "      <td>0</td>\n",
       "      <td>0</td>\n",
       "      <td>0</td>\n",
       "      <td>0</td>\n",
       "      <td>0</td>\n",
       "      <td>0</td>\n",
       "      <td>0</td>\n",
       "      <td>0</td>\n",
       "      <td>0</td>\n",
       "      <td>0</td>\n",
       "    </tr>\n",
       "    <tr>\n",
       "      <th>3</th>\n",
       "      <td>0</td>\n",
       "      <td>0</td>\n",
       "      <td>1</td>\n",
       "      <td>0</td>\n",
       "      <td>0</td>\n",
       "      <td>0</td>\n",
       "      <td>0</td>\n",
       "      <td>0</td>\n",
       "      <td>0</td>\n",
       "      <td>0</td>\n",
       "      <td>...</td>\n",
       "      <td>0</td>\n",
       "      <td>0</td>\n",
       "      <td>0</td>\n",
       "      <td>0</td>\n",
       "      <td>0</td>\n",
       "      <td>0</td>\n",
       "      <td>0</td>\n",
       "      <td>0</td>\n",
       "      <td>0</td>\n",
       "      <td>0</td>\n",
       "    </tr>\n",
       "    <tr>\n",
       "      <th>4</th>\n",
       "      <td>1</td>\n",
       "      <td>0</td>\n",
       "      <td>0</td>\n",
       "      <td>0</td>\n",
       "      <td>0</td>\n",
       "      <td>0</td>\n",
       "      <td>0</td>\n",
       "      <td>0</td>\n",
       "      <td>0</td>\n",
       "      <td>0</td>\n",
       "      <td>...</td>\n",
       "      <td>0</td>\n",
       "      <td>0</td>\n",
       "      <td>0</td>\n",
       "      <td>0</td>\n",
       "      <td>0</td>\n",
       "      <td>0</td>\n",
       "      <td>0</td>\n",
       "      <td>0</td>\n",
       "      <td>0</td>\n",
       "      <td>0</td>\n",
       "    </tr>\n",
       "  </tbody>\n",
       "</table>\n",
       "<p>5 rows × 25 columns</p>\n",
       "</div>"
      ],
      "text/plain": [
       "   tipodepropiedad_0  tipodepropiedad_1  tipodepropiedad_2  tipodepropiedad_3  \\\n",
       "0                  1                  0                  0                  0   \n",
       "1                  0                  0                  0                  1   \n",
       "2                  0                  0                  1                  0   \n",
       "3                  0                  0                  1                  0   \n",
       "4                  1                  0                  0                  0   \n",
       "\n",
       "   tipodepropiedad_4  tipodepropiedad_5  tipodepropiedad_6  tipodepropiedad_7  \\\n",
       "0                  0                  0                  0                  0   \n",
       "1                  0                  0                  0                  0   \n",
       "2                  0                  0                  0                  0   \n",
       "3                  0                  0                  0                  0   \n",
       "4                  0                  0                  0                  0   \n",
       "\n",
       "   tipodepropiedad_8  tipodepropiedad_9  ...  tipodepropiedad_15  \\\n",
       "0                  0                  0  ...                   0   \n",
       "1                  0                  0  ...                   0   \n",
       "2                  0                  0  ...                   0   \n",
       "3                  0                  0  ...                   0   \n",
       "4                  0                  0  ...                   0   \n",
       "\n",
       "   tipodepropiedad_16  tipodepropiedad_17  tipodepropiedad_18  \\\n",
       "0                   0                   0                   0   \n",
       "1                   0                   0                   0   \n",
       "2                   0                   0                   0   \n",
       "3                   0                   0                   0   \n",
       "4                   0                   0                   0   \n",
       "\n",
       "   tipodepropiedad_19  tipodepropiedad_20  tipodepropiedad_21  \\\n",
       "0                   0                   0                   0   \n",
       "1                   0                   0                   0   \n",
       "2                   0                   0                   0   \n",
       "3                   0                   0                   0   \n",
       "4                   0                   0                   0   \n",
       "\n",
       "   tipodepropiedad_22  tipodepropiedad_23  tipodepropiedad_24  \n",
       "0                   0                   0                   0  \n",
       "1                   0                   0                   0  \n",
       "2                   0                   0                   0  \n",
       "3                   0                   0                   0  \n",
       "4                   0                   0                   0  \n",
       "\n",
       "[5 rows x 25 columns]"
      ]
     },
     "execution_count": 18,
     "metadata": {},
     "output_type": "execute_result"
    }
   ],
   "source": [
    "dummies.head()"
   ]
  },
  {
   "cell_type": "code",
   "execution_count": 19,
   "metadata": {},
   "outputs": [
    {
     "data": {
      "text/html": [
       "<div>\n",
       "<style scoped>\n",
       "    .dataframe tbody tr th:only-of-type {\n",
       "        vertical-align: middle;\n",
       "    }\n",
       "\n",
       "    .dataframe tbody tr th {\n",
       "        vertical-align: top;\n",
       "    }\n",
       "\n",
       "    .dataframe thead th {\n",
       "        text-align: right;\n",
       "    }\n",
       "</style>\n",
       "<table border=\"1\" class=\"dataframe\">\n",
       "  <thead>\n",
       "    <tr style=\"text-align: right;\">\n",
       "      <th></th>\n",
       "      <th>tipodepropiedad_0</th>\n",
       "      <th>tipodepropiedad_1</th>\n",
       "      <th>tipodepropiedad_2</th>\n",
       "      <th>tipodepropiedad_3</th>\n",
       "      <th>tipodepropiedad_4</th>\n",
       "      <th>tipodepropiedad_5</th>\n",
       "      <th>tipodepropiedad_6</th>\n",
       "      <th>tipodepropiedad_7</th>\n",
       "      <th>tipodepropiedad_8</th>\n",
       "      <th>tipodepropiedad_9</th>\n",
       "      <th>...</th>\n",
       "      <th>tipodepropiedad_15</th>\n",
       "      <th>tipodepropiedad_16</th>\n",
       "      <th>tipodepropiedad_17</th>\n",
       "      <th>tipodepropiedad_18</th>\n",
       "      <th>tipodepropiedad_19</th>\n",
       "      <th>tipodepropiedad_20</th>\n",
       "      <th>tipodepropiedad_21</th>\n",
       "      <th>tipodepropiedad_22</th>\n",
       "      <th>tipodepropiedad_23</th>\n",
       "      <th>tipodepropiedad_24</th>\n",
       "    </tr>\n",
       "  </thead>\n",
       "  <tbody>\n",
       "    <tr>\n",
       "      <th>0</th>\n",
       "      <td>0</td>\n",
       "      <td>0</td>\n",
       "      <td>1</td>\n",
       "      <td>0</td>\n",
       "      <td>0</td>\n",
       "      <td>0</td>\n",
       "      <td>0</td>\n",
       "      <td>0</td>\n",
       "      <td>0</td>\n",
       "      <td>0</td>\n",
       "      <td>...</td>\n",
       "      <td>0</td>\n",
       "      <td>0</td>\n",
       "      <td>0</td>\n",
       "      <td>0</td>\n",
       "      <td>0</td>\n",
       "      <td>0</td>\n",
       "      <td>0</td>\n",
       "      <td>0</td>\n",
       "      <td>0</td>\n",
       "      <td>0</td>\n",
       "    </tr>\n",
       "    <tr>\n",
       "      <th>1</th>\n",
       "      <td>1</td>\n",
       "      <td>0</td>\n",
       "      <td>0</td>\n",
       "      <td>0</td>\n",
       "      <td>0</td>\n",
       "      <td>0</td>\n",
       "      <td>0</td>\n",
       "      <td>0</td>\n",
       "      <td>0</td>\n",
       "      <td>0</td>\n",
       "      <td>...</td>\n",
       "      <td>0</td>\n",
       "      <td>0</td>\n",
       "      <td>0</td>\n",
       "      <td>0</td>\n",
       "      <td>0</td>\n",
       "      <td>0</td>\n",
       "      <td>0</td>\n",
       "      <td>0</td>\n",
       "      <td>0</td>\n",
       "      <td>0</td>\n",
       "    </tr>\n",
       "    <tr>\n",
       "      <th>2</th>\n",
       "      <td>1</td>\n",
       "      <td>0</td>\n",
       "      <td>0</td>\n",
       "      <td>0</td>\n",
       "      <td>0</td>\n",
       "      <td>0</td>\n",
       "      <td>0</td>\n",
       "      <td>0</td>\n",
       "      <td>0</td>\n",
       "      <td>0</td>\n",
       "      <td>...</td>\n",
       "      <td>0</td>\n",
       "      <td>0</td>\n",
       "      <td>0</td>\n",
       "      <td>0</td>\n",
       "      <td>0</td>\n",
       "      <td>0</td>\n",
       "      <td>0</td>\n",
       "      <td>0</td>\n",
       "      <td>0</td>\n",
       "      <td>0</td>\n",
       "    </tr>\n",
       "    <tr>\n",
       "      <th>3</th>\n",
       "      <td>1</td>\n",
       "      <td>0</td>\n",
       "      <td>0</td>\n",
       "      <td>0</td>\n",
       "      <td>0</td>\n",
       "      <td>0</td>\n",
       "      <td>0</td>\n",
       "      <td>0</td>\n",
       "      <td>0</td>\n",
       "      <td>0</td>\n",
       "      <td>...</td>\n",
       "      <td>0</td>\n",
       "      <td>0</td>\n",
       "      <td>0</td>\n",
       "      <td>0</td>\n",
       "      <td>0</td>\n",
       "      <td>0</td>\n",
       "      <td>0</td>\n",
       "      <td>0</td>\n",
       "      <td>0</td>\n",
       "      <td>0</td>\n",
       "    </tr>\n",
       "    <tr>\n",
       "      <th>4</th>\n",
       "      <td>0</td>\n",
       "      <td>0</td>\n",
       "      <td>1</td>\n",
       "      <td>0</td>\n",
       "      <td>0</td>\n",
       "      <td>0</td>\n",
       "      <td>0</td>\n",
       "      <td>0</td>\n",
       "      <td>0</td>\n",
       "      <td>0</td>\n",
       "      <td>...</td>\n",
       "      <td>0</td>\n",
       "      <td>0</td>\n",
       "      <td>0</td>\n",
       "      <td>0</td>\n",
       "      <td>0</td>\n",
       "      <td>0</td>\n",
       "      <td>0</td>\n",
       "      <td>0</td>\n",
       "      <td>0</td>\n",
       "      <td>0</td>\n",
       "    </tr>\n",
       "  </tbody>\n",
       "</table>\n",
       "<p>5 rows × 25 columns</p>\n",
       "</div>"
      ],
      "text/plain": [
       "   tipodepropiedad_0  tipodepropiedad_1  tipodepropiedad_2  tipodepropiedad_3  \\\n",
       "0                  0                  0                  1                  0   \n",
       "1                  1                  0                  0                  0   \n",
       "2                  1                  0                  0                  0   \n",
       "3                  1                  0                  0                  0   \n",
       "4                  0                  0                  1                  0   \n",
       "\n",
       "   tipodepropiedad_4  tipodepropiedad_5  tipodepropiedad_6  tipodepropiedad_7  \\\n",
       "0                  0                  0                  0                  0   \n",
       "1                  0                  0                  0                  0   \n",
       "2                  0                  0                  0                  0   \n",
       "3                  0                  0                  0                  0   \n",
       "4                  0                  0                  0                  0   \n",
       "\n",
       "   tipodepropiedad_8  tipodepropiedad_9  ...  tipodepropiedad_15  \\\n",
       "0                  0                  0  ...                   0   \n",
       "1                  0                  0  ...                   0   \n",
       "2                  0                  0  ...                   0   \n",
       "3                  0                  0  ...                   0   \n",
       "4                  0                  0  ...                   0   \n",
       "\n",
       "   tipodepropiedad_16  tipodepropiedad_17  tipodepropiedad_18  \\\n",
       "0                   0                   0                   0   \n",
       "1                   0                   0                   0   \n",
       "2                   0                   0                   0   \n",
       "3                   0                   0                   0   \n",
       "4                   0                   0                   0   \n",
       "\n",
       "   tipodepropiedad_19  tipodepropiedad_20  tipodepropiedad_21  \\\n",
       "0                   0                   0                   0   \n",
       "1                   0                   0                   0   \n",
       "2                   0                   0                   0   \n",
       "3                   0                   0                   0   \n",
       "4                   0                   0                   0   \n",
       "\n",
       "   tipodepropiedad_22  tipodepropiedad_23  tipodepropiedad_24  \n",
       "0                   0                   0                   0  \n",
       "1                   0                   0                   0  \n",
       "2                   0                   0                   0  \n",
       "3                   0                   0                   0  \n",
       "4                   0                   0                   0  \n",
       "\n",
       "[5 rows x 25 columns]"
      ]
     },
     "execution_count": 19,
     "metadata": {},
     "output_type": "execute_result"
    }
   ],
   "source": [
    "dummies_test.head()"
   ]
  },
  {
   "cell_type": "markdown",
   "metadata": {},
   "source": [
    "# Modelo Random Forest"
   ]
  },
  {
   "cell_type": "code",
   "execution_count": 20,
   "metadata": {},
   "outputs": [],
   "source": [
    "def crear_submit(model, x_train, y_train, x_test, nombre):\n",
    "    model.fit(x_train, y_train)\n",
    "    result = model.predict(x_test)\n",
    "    final = test.loc[:, ['id']]\n",
    "    final['target'] = result\n",
    "    ruta = \"data/submit\"+ nombre +\".csv\"\n",
    "    final.to_csv(path_or_buf = ruta, index = False )\n",
    "    df = pd.read_csv(ruta)\n",
    "    return df"
   ]
  },
  {
   "cell_type": "code",
   "execution_count": 21,
   "metadata": {},
   "outputs": [],
   "source": [
    "from sklearn.model_selection import cross_val_score"
   ]
  },
  {
   "cell_type": "code",
   "execution_count": 22,
   "metadata": {},
   "outputs": [],
   "source": [
    "from sklearn.ensemble  import RandomForestRegressor\n",
    "\n",
    "RF_model=RandomForestRegressor()"
   ]
  },
  {
   "cell_type": "markdown",
   "metadata": {},
   "source": [
    "### MAE score para RF"
   ]
  },
  {
   "cell_type": "code",
   "execution_count": 23,
   "metadata": {},
   "outputs": [],
   "source": [
    "Numericos = ['antiguedad','habitaciones','garages','banos','metroscubiertos','metrostotales','gimnasio',\\\n",
    "             'usosmultiples','piscina','escuelascercanas','centroscomercialescercanos']\n",
    "X = train[Numericos].join(dummies)\n",
    "Y = train['precio']"
   ]
  },
  {
   "cell_type": "code",
   "execution_count": null,
   "metadata": {},
   "outputs": [
    {
     "name": "stderr",
     "output_type": "stream",
     "text": [
      "/usr/local/lib/python3.6/dist-packages/sklearn/ensemble/forest.py:245: FutureWarning: The default value of n_estimators will change from 10 in version 0.20 to 100 in 0.22.\n",
      "  \"10 in version 0.20 to 100 in 0.22.\", FutureWarning)\n"
     ]
    }
   ],
   "source": [
    "#Utilizo el modelo que funciona mejor, Random Forest\n",
    "RF_model.fit(X,Y)\n",
    "scores = cross_val_score(RF_model , X, Y, scoring=\"neg_mean_absolute_error\", cv=10)\n",
    "RF_mae_score1 = -scores.mean()\n",
    "RF_mae_score1"
   ]
  },
  {
   "cell_type": "code",
   "execution_count": null,
   "metadata": {},
   "outputs": [],
   "source": [
    "importancias = pd.DataFrame(RF_model.feature_importances_,index=X.columns,columns=['importancia']).reset_index()\n",
    "importancias.columns = ['feature', 'importancia']"
   ]
  },
  {
   "cell_type": "code",
   "execution_count": null,
   "metadata": {
    "scrolled": false
   },
   "outputs": [],
   "source": [
    "import seaborn as sns\n",
    "plt.figure(figsize = (18,8))\n",
    "graf = sns.barplot(x = importancias.feature, y = importancias.importancia, orient = 'v')\n",
    "graf.set_xlabel(\"Importancias\", fontsize = 20)\n",
    "graf.set_ylabel(\"Features\", fontsize = 20)\n",
    "plt.xticks(fontsize = 15, rotation = 'vertical')\n",
    "plt.yticks(fontsize = 15)"
   ]
  },
  {
   "cell_type": "markdown",
   "metadata": {},
   "source": [
    "## Features sobre el tiempo"
   ]
  },
  {
   "cell_type": "markdown",
   "metadata": {},
   "source": [
    "En el TP1 vimos como los precios iban en aumento a medida que el tiempo aumentaba, por lo que nos interesa crear nuevos features tomando en cuenta el tiempo en el que se publicaron las propiedades.\n",
    "\n",
    "\n",
    "Para realizar un nuevo feature comenzaremos añadiendo un peso para cada fecha, este peso irá en aumento a medida que las fechas van subiendo, así simularemos el crecimiento del precio a lo largo del tiempo."
   ]
  },
  {
   "cell_type": "code",
   "execution_count": null,
   "metadata": {},
   "outputs": [],
   "source": [
    "#Califico las fechas de acuerdo a la diferencia entre la fecha actual y la fecha mínima sobre el máximo de dias\n",
    "fecha_min = train.fecha.min()\n",
    "fecha_max = train.fecha.max()\n",
    "delta_max_days = (fecha_max - fecha_min).days\n",
    "def calificar_fecha(fecha):\n",
    "    delta = fecha - fecha_min\n",
    "    return delta.days/delta_max_days"
   ]
  },
  {
   "cell_type": "code",
   "execution_count": null,
   "metadata": {},
   "outputs": [],
   "source": [
    "train[\"puntaje_por_fecha\"] = train['fecha'].transform(lambda x: calificar_fecha(x))\n",
    "train.head()"
   ]
  },
  {
   "cell_type": "code",
   "execution_count": null,
   "metadata": {
    "scrolled": false
   },
   "outputs": [],
   "source": [
    "#Set de test\n",
    "fecha_min = test.fecha.min()\n",
    "fecha_max = test.fecha.max()\n",
    "delta_max_days = (fecha_max - fecha_min).days\n",
    "test[\"puntaje_por_fecha\"] = test['fecha'].transform(lambda x: calificar_fecha(x))\n",
    "test.head()"
   ]
  },
  {
   "cell_type": "markdown",
   "metadata": {},
   "source": [
    "# Modelo Random Forest"
   ]
  },
  {
   "cell_type": "markdown",
   "metadata": {},
   "source": [
    "### MAE score para RF"
   ]
  },
  {
   "cell_type": "code",
   "execution_count": null,
   "metadata": {},
   "outputs": [],
   "source": [
    "Numericos = ['antiguedad','habitaciones','garages','banos','metroscubiertos','metrostotales','gimnasio',\\\n",
    "             'usosmultiples','piscina','escuelascercanas','centroscomercialescercanos', 'puntaje_por_fecha']\n",
    "X = train[Numericos].join(dummies)\n",
    "Y = train['precio']"
   ]
  },
  {
   "cell_type": "code",
   "execution_count": null,
   "metadata": {},
   "outputs": [],
   "source": [
    "RF_model.fit(X,Y)\n",
    "importancias = pd.DataFrame(RF_model.feature_importances_,index=X.columns,columns=['importancia']).reset_index()\n",
    "importancias.columns = ['feature', 'importancia']"
   ]
  },
  {
   "cell_type": "code",
   "execution_count": null,
   "metadata": {
    "scrolled": false
   },
   "outputs": [],
   "source": [
    "import seaborn as sns\n",
    "plt.figure(figsize = (18,8))\n",
    "graf = sns.barplot(x = importancias.feature, y = importancias.importancia, orient = 'v')\n",
    "graf.set_xlabel(\"Importancias\", fontsize = 20)\n",
    "graf.set_ylabel(\"Features\", fontsize = 20)\n",
    "plt.xticks(fontsize = 15, rotation = 'vertical')\n",
    "plt.yticks(fontsize = 15)"
   ]
  },
  {
   "cell_type": "code",
   "execution_count": null,
   "metadata": {},
   "outputs": [],
   "source": [
    "#Mido el score\n",
    "RF_model.fit(X,Y)\n",
    "scores = cross_val_score(RF_model , X, Y, scoring=\"neg_mean_absolute_error\", cv=10)\n",
    "RF_mae_score2 = -scores.mean()\n",
    "RF_mae_score2"
   ]
  },
  {
   "cell_type": "markdown",
   "metadata": {},
   "source": [
    "**Es evidente que este feature funcionó muy bien, pues el escore bajó bastante luego de agregar este feature. Dado que el resultado es bueno este feature se conservará en el set de features definitivo.**"
   ]
  },
  {
   "cell_type": "markdown",
   "metadata": {},
   "source": [
    "## Veamos ahora qué pasa si normalizo los datos"
   ]
  },
  {
   "cell_type": "code",
   "execution_count": null,
   "metadata": {},
   "outputs": [],
   "source": [
    "from sklearn import preprocessing \n",
    "def normalizar_data(df):\n",
    "    min_max_scaler = preprocessing.MinMaxScaler() \n",
    "    np_scaled = min_max_scaler.fit_transform(df)\n",
    "    df_norm = pd.DataFrame(np_scaled)\n",
    "    df_norm.columns = df.columns\n",
    "    return df_norm"
   ]
  },
  {
   "cell_type": "code",
   "execution_count": null,
   "metadata": {},
   "outputs": [],
   "source": [
    "X_normalized = normalizar_data(X)\n",
    "X_normalized.head()"
   ]
  },
  {
   "cell_type": "markdown",
   "metadata": {},
   "source": [
    "## Vuelvo a evaluar el score con Random Forest y los features normalizados"
   ]
  },
  {
   "cell_type": "code",
   "execution_count": null,
   "metadata": {},
   "outputs": [],
   "source": [
    "#Mido el score\n",
    "RF_model.fit(X_normalized,Y)\n",
    "scores = cross_val_score(RF_model , X_normalized, Y, scoring=\"neg_mean_absolute_error\", cv=10)\n",
    "RF_mae_score3 = -scores.mean()\n",
    "RF_mae_score3"
   ]
  },
  {
   "cell_type": "markdown",
   "metadata": {},
   "source": [
    "# Nuevos features sobre la SVD"
   ]
  },
  {
   "cell_type": "markdown",
   "metadata": {},
   "source": [
    "Aplico la SVD a los features que tengo hasta el momento, y veo dónde se concentra la energía de la matriz. La idea es crear nuevos features a partir de esta información."
   ]
  },
  {
   "cell_type": "code",
   "execution_count": null,
   "metadata": {},
   "outputs": [],
   "source": [
    "from scipy.linalg import svd\n",
    "from scipy.sparse.linalg import svds"
   ]
  },
  {
   "cell_type": "code",
   "execution_count": null,
   "metadata": {},
   "outputs": [],
   "source": [
    "# Utilizo el set de datos con todos los features creados hasta el momento\n",
    "data_features = train[Numericos].join(dummies)\n",
    "#Centro los datos\n",
    "centered = data_features - data_features.mean()\n",
    "centered.head()"
   ]
  },
  {
   "cell_type": "code",
   "execution_count": null,
   "metadata": {},
   "outputs": [],
   "source": [
    "centered.shape"
   ]
  },
  {
   "cell_type": "code",
   "execution_count": null,
   "metadata": {},
   "outputs": [],
   "source": [
    "#hago lo mismo para el set de test\n",
    "# Utilizo el set de datos con todos los features creados hasta el momento\n",
    "data_features_test = test[Numericos].join(dummies_test)\n",
    "#Centro los datos\n",
    "centered_test = data_features_test - data_features_test.mean()\n",
    "centered_test.head()"
   ]
  },
  {
   "cell_type": "code",
   "execution_count": null,
   "metadata": {},
   "outputs": [],
   "source": [
    "centered_test.shape"
   ]
  },
  {
   "cell_type": "markdown",
   "metadata": {},
   "source": [
    "**Calculo la SVD**"
   ]
  },
  {
   "cell_type": "code",
   "execution_count": null,
   "metadata": {},
   "outputs": [],
   "source": [
    "u, s, vt = svd(centered, full_matrices = False)\n",
    "\n",
    "u_test, s_test, vt_test = svd(centered_test, full_matrices = False)"
   ]
  },
  {
   "cell_type": "code",
   "execution_count": null,
   "metadata": {},
   "outputs": [],
   "source": [
    "s"
   ]
  },
  {
   "cell_type": "markdown",
   "metadata": {},
   "source": [
    "**Grafico los autovalores para detectar codos**"
   ]
  },
  {
   "cell_type": "code",
   "execution_count": null,
   "metadata": {},
   "outputs": [],
   "source": [
    "#Set train\n",
    "plt.style.use('seaborn-darkgrid')\n",
    "plt.figure(figsize = (10,5))\n",
    "plt.plot(s)"
   ]
  },
  {
   "cell_type": "code",
   "execution_count": null,
   "metadata": {},
   "outputs": [],
   "source": [
    "#Set test\n",
    "plt.figure(figsize = (10,5))\n",
    "plt.plot(s_test)"
   ]
  },
  {
   "cell_type": "markdown",
   "metadata": {},
   "source": [
    "Claramente vemos como con 3 dimensiones podemos concentrar casi la totalidad de los datos. \n",
    "\n",
    "**Veamos esto en niveles de energía**"
   ]
  },
  {
   "cell_type": "code",
   "execution_count": null,
   "metadata": {},
   "outputs": [],
   "source": [
    "singular_values = s\n",
    "energy_total = sum(singular_values**2)\n",
    "sv_pow = singular_values**2\n",
    "energy_percentage = ((sv_pow / energy_total) * 100)\n",
    "print(energy_percentage)"
   ]
  },
  {
   "cell_type": "code",
   "execution_count": null,
   "metadata": {},
   "outputs": [],
   "source": [
    "energy_total"
   ]
  },
  {
   "cell_type": "markdown",
   "metadata": {},
   "source": [
    "## Ahora veo la energia acumulada \n",
    "\n",
    "\n",
    "**Set de train**"
   ]
  },
  {
   "cell_type": "code",
   "execution_count": null,
   "metadata": {},
   "outputs": [],
   "source": [
    "acumulated_energy = 0\n",
    "for i in range(len(energy_percentage)):\n",
    "    acumulated_energy = acumulated_energy + energy_percentage[i]\n",
    "    print ('Number of Singular Values ' + str(i+1) + ': ' + str(singular_values[i]) + ' ' + str(round(acumulated_energy,2)) + '%')"
   ]
  },
  {
   "cell_type": "markdown",
   "metadata": {},
   "source": [
    "Veo que con 3 dimensiones tengo el 99.98% de la energía acumulada, y con 7 llego a un 100%.\n",
    "\n",
    "Puedo tomar las primeras 3 columnas de U y multiplicarlas por las 3 primeras filas y columnas de S, para escalar los datos, y agregar esas columnas como features"
   ]
  },
  {
   "cell_type": "code",
   "execution_count": null,
   "metadata": {},
   "outputs": [],
   "source": [
    "#set de train, tomo una representación de los datos en 3 dimensiones\n",
    "aprox3 = np.matrix(u[:, :3]) * np.diag(s[:3]) \n",
    "features_svd = pd.DataFrame(aprox3)\n",
    "features_svd.columns = ['svd1', 'svd2', 'svd3']\n",
    "features_svd.head()"
   ]
  },
  {
   "cell_type": "code",
   "execution_count": null,
   "metadata": {},
   "outputs": [],
   "source": [
    "features_totales = data_features.join(features_svd)\n",
    "features_totales.head()"
   ]
  },
  {
   "cell_type": "markdown",
   "metadata": {},
   "source": [
    "Hago lo mismo para el set de test"
   ]
  },
  {
   "cell_type": "code",
   "execution_count": null,
   "metadata": {},
   "outputs": [],
   "source": [
    "#set de train, tomo una representación de los datos en 3 dimensiones\n",
    "aprox3_test = np.matrix(u_test[:, :3]) * np.diag(s_test[:3]) \n",
    "features_svd_test= pd.DataFrame(aprox3_test)\n",
    "features_svd_test.columns = ['svd1', 'svd2', 'svd3']\n",
    "features_svd_test.head()"
   ]
  },
  {
   "cell_type": "code",
   "execution_count": null,
   "metadata": {},
   "outputs": [],
   "source": [
    "features_totales_test = data_features_test.join(features_svd_test)\n",
    "features_totales_test.head()"
   ]
  },
  {
   "cell_type": "code",
   "execution_count": null,
   "metadata": {},
   "outputs": [],
   "source": [
    "features_totales_test.shape"
   ]
  },
  {
   "cell_type": "markdown",
   "metadata": {},
   "source": [
    "# Modelo Random Forest"
   ]
  },
  {
   "cell_type": "markdown",
   "metadata": {},
   "source": [
    "### MAE score para RF"
   ]
  },
  {
   "cell_type": "code",
   "execution_count": null,
   "metadata": {},
   "outputs": [],
   "source": [
    "X = features_totales"
   ]
  },
  {
   "cell_type": "code",
   "execution_count": null,
   "metadata": {},
   "outputs": [],
   "source": [
    "RF_model.fit(X,Y)\n",
    "importancias = pd.DataFrame(RF_model.feature_importances_,index=X.columns,columns=['importancia']).reset_index()\n",
    "importancias.columns = ['feature', 'importancia']"
   ]
  },
  {
   "cell_type": "code",
   "execution_count": null,
   "metadata": {
    "scrolled": false
   },
   "outputs": [],
   "source": [
    "plt.figure(figsize = (18,8))\n",
    "graf = sns.barplot(x = importancias.feature, y = importancias.importancia, orient = 'v')\n",
    "graf.set_xlabel(\"Importancias\", fontsize = 20)\n",
    "graf.set_ylabel(\"Features\", fontsize = 20)\n",
    "plt.xticks(fontsize = 15, rotation = 'vertical')\n",
    "plt.yticks(fontsize = 15)"
   ]
  },
  {
   "cell_type": "markdown",
   "metadata": {},
   "source": [
    "Como podemos observar en el gráfico los features sobre la svd son bastante importantes. \n",
    "\n",
    "Observemos ahora si esto implica mejoras en las predicciones de nuestro modelo o no."
   ]
  },
  {
   "cell_type": "code",
   "execution_count": null,
   "metadata": {},
   "outputs": [],
   "source": [
    "#Mido el score con Random Forest\n",
    "RF_model.fit(X,Y)\n",
    "scores = cross_val_score(RF_model , X, Y, scoring=\"neg_mean_absolute_error\", cv=10)\n",
    "RF_mae_score4 = -scores.mean()\n",
    "RF_mae_score4"
   ]
  },
  {
   "cell_type": "markdown",
   "metadata": {},
   "source": [
    "**Estos features parecen funcionar bien en mi máquina, pero al probar con un submit en Kaggle el resultado fue muy malo, por lo que se lo descarta.**"
   ]
  },
  {
   "cell_type": "markdown",
   "metadata": {},
   "source": [
    "# Genero un nuevo feature tomando en cuenta las ciudades en las que se encuentran  las propiedades"
   ]
  },
  {
   "cell_type": "code",
   "execution_count": null,
   "metadata": {},
   "outputs": [],
   "source": [
    "train.ciudad.nunique()"
   ]
  },
  {
   "cell_type": "markdown",
   "metadata": {},
   "source": [
    "**Mi idea es crear un rango de valores que pueden tomar las propiedades según las ciudades, y colocar esto como features**\n",
    "\n",
    "Tomo el mínimo y el máximo y genero dos nuevas columnas con estos valores, asignandolo de acuerdo a la ciudad en la que se encuentra cada propiedad"
   ]
  },
  {
   "cell_type": "code",
   "execution_count": null,
   "metadata": {},
   "outputs": [],
   "source": [
    "precios_ciudades = train.groupby('ciudad').agg({'precio': ['min', 'max']}).reset_index()\n",
    "precios_ciudades.columns = ['ciudad', 'precio_min', 'precio_max']\n",
    "precios_ciudades.head()"
   ]
  },
  {
   "cell_type": "markdown",
   "metadata": {},
   "source": [
    "Como se puede observar hay ciudades que tienen un mismo valor para el mínimo y el máximo, esto puede deberse a que sólo haya una publicación en esa ciudad, o las publicaciones correspondan a la misma propiedad o algún conjunto de propiedades que correspondan al mismo publicitante.\n",
    "\n",
    "Solucionaremos este problema indicando para esos casos un rango mucho más amplio, para hacerlo tomaremos el mínimo de todas las ciudades y el máximo de todas las cidades."
   ]
  },
  {
   "cell_type": "code",
   "execution_count": null,
   "metadata": {},
   "outputs": [],
   "source": [
    "minimos = list(precios_ciudades['precio_min'])\n",
    "maximos = list(precios_ciudades['precio_max'])\n",
    "minimo_total = min(minimos)\n",
    "maximo_total = max(maximos)\n",
    "for i in range(len(minimos)):\n",
    "    if (minimos[i] == maximos[i]):\n",
    "        minimos[i] = minimo_total\n",
    "        maximos[i] = maximo_total\n",
    "precios_ciudades['precio_min'] = pd.Series(minimos)\n",
    "precios_ciudades['precio_max'] = pd.Series(maximos)\n",
    "precios_ciudades.head()"
   ]
  },
  {
   "cell_type": "code",
   "execution_count": null,
   "metadata": {},
   "outputs": [],
   "source": [
    "train_features = train.merge(precios_ciudades, on='ciudad')\n",
    "test_features = test.merge(precios_ciudades, on='ciudad', how = 'left').fillna(0)\n",
    "#Como puede suceder que haya ciudades que no aparecian en el set de train tomo el mínimo y el máximo valor visto\n",
    "#en el set de train para cubrir los mínimos y máximos de las ciudades que no tienen precios registrados\n",
    "minimos = list(test_features['precio_min'])\n",
    "maximos = list(test_features['precio_max'])\n",
    "for i in range(len(minimos)):\n",
    "    if (minimos[i] == maximos[i]):\n",
    "        minimos[i] = minimo_total\n",
    "        maximos[i] = maximo_total\n",
    "test_features['precio_min'] = pd.Series(minimos)\n",
    "test_features['precio_max'] = pd.Series(maximos)\n",
    "Numericos = ['antiguedad','habitaciones','garages','banos','metroscubiertos','metrostotales','gimnasio',\\\n",
    "             'usosmultiples','piscina','escuelascercanas','centroscomercialescercanos','puntaje_por_fecha',\\\n",
    "            'precio_min', 'precio_max']"
   ]
  },
  {
   "cell_type": "code",
   "execution_count": null,
   "metadata": {},
   "outputs": [],
   "source": [
    "test_features.shape"
   ]
  },
  {
   "cell_type": "markdown",
   "metadata": {},
   "source": [
    "## Pruebo el modelo con este nuevo feature"
   ]
  },
  {
   "cell_type": "code",
   "execution_count": null,
   "metadata": {},
   "outputs": [],
   "source": [
    "X=train_features[Numericos].join(dummies)\n",
    "Y=train['precio']"
   ]
  },
  {
   "cell_type": "code",
   "execution_count": null,
   "metadata": {
    "scrolled": true
   },
   "outputs": [],
   "source": [
    "X_test = test_features[Numericos].join(dummies_test)"
   ]
  },
  {
   "cell_type": "code",
   "execution_count": null,
   "metadata": {},
   "outputs": [],
   "source": [
    "X_test.shape"
   ]
  },
  {
   "cell_type": "markdown",
   "metadata": {},
   "source": [
    "# Modelo Random Forest"
   ]
  },
  {
   "cell_type": "markdown",
   "metadata": {},
   "source": [
    "### MAE score para RF"
   ]
  },
  {
   "cell_type": "code",
   "execution_count": null,
   "metadata": {},
   "outputs": [],
   "source": [
    "RF_model.fit(X,Y)\n",
    "importancias = pd.DataFrame(RF_model.feature_importances_,index=X.columns,columns=['importancia']).reset_index()\n",
    "importancias.columns = ['feature', 'importancia']"
   ]
  },
  {
   "cell_type": "code",
   "execution_count": null,
   "metadata": {
    "scrolled": false
   },
   "outputs": [],
   "source": [
    "import seaborn as sns\n",
    "plt.figure(figsize = (18,8))\n",
    "graf = sns.barplot(x = importancias.feature, y = importancias.importancia, orient = 'v')\n",
    "graf.set_xlabel(\"Importancias\", fontsize = 20)\n",
    "graf.set_ylabel(\"Features\", fontsize = 20)\n",
    "plt.xticks(fontsize = 15, rotation = 'vertical')\n",
    "plt.yticks(fontsize = 15)"
   ]
  },
  {
   "cell_type": "markdown",
   "metadata": {},
   "source": [
    "**Pruebo el modelo con los nuevos features de rango de precios**"
   ]
  },
  {
   "cell_type": "code",
   "execution_count": null,
   "metadata": {},
   "outputs": [],
   "source": [
    "scores = cross_val_score(RF_model , X, Y, scoring=\"neg_mean_absolute_error\", cv=10)\n",
    "RF_mae_score5 = -scores.mean()\n",
    "RF_mae_score5"
   ]
  },
  {
   "cell_type": "markdown",
   "metadata": {},
   "source": [
    "## Pruebo con otro modelo: Gradient Boosting"
   ]
  },
  {
   "cell_type": "code",
   "execution_count": null,
   "metadata": {},
   "outputs": [],
   "source": [
    "from sklearn.ensemble import GradientBoostingRegressor\n",
    "\n",
    "GBR_model = GradientBoostingRegressor()\n",
    "GBR_model.fit(X, Y)\n",
    "scores = cross_val_score(GBR_model , X, Y, scoring=\"neg_mean_absolute_error\", cv=10)\n",
    "GBR_mae_score1 = -scores.mean()\n",
    "GBR_mae_score1"
   ]
  },
  {
   "cell_type": "markdown",
   "metadata": {},
   "source": [
    "## Pruebo con los datos normalizados "
   ]
  },
  {
   "cell_type": "code",
   "execution_count": null,
   "metadata": {},
   "outputs": [],
   "source": [
    "X_normalized = normalizar_data(X)\n",
    "X_test_normalized = normalizar_data(X_test)"
   ]
  },
  {
   "cell_type": "code",
   "execution_count": null,
   "metadata": {},
   "outputs": [],
   "source": [
    "X_test_normalized.head()"
   ]
  },
  {
   "cell_type": "markdown",
   "metadata": {},
   "source": [
    "**Pruebo el modelo con los datos normalizados**"
   ]
  },
  {
   "cell_type": "code",
   "execution_count": null,
   "metadata": {},
   "outputs": [],
   "source": [
    "#Utilizo el modelo que funciona mejor, Random Forest\n",
    "scores = cross_val_score(RF_model , X_normalized, Y, scoring=\"neg_mean_absolute_error\", cv=10)\n",
    "RF_mae_score6 = -scores.mean()\n",
    "RF_mae_score6"
   ]
  },
  {
   "cell_type": "code",
   "execution_count": null,
   "metadata": {},
   "outputs": [],
   "source": [
    "#Pruebo con gradient boosting\n",
    "GBR_model.fit(X, Y)\n",
    "scores = cross_val_score(GBR_model , X_normalized, Y, scoring=\"neg_mean_absolute_error\", cv=10)\n",
    "GBR_mae_score2 = -scores.mean()\n",
    "GBR_mae_score2"
   ]
  },
  {
   "cell_type": "markdown",
   "metadata": {},
   "source": [
    "**Se puede observar como estos features tampoco resultaron ser muy buenos, ni siquiera normalizando el set de features, por lo que se los descarta.**"
   ]
  },
  {
   "cell_type": "markdown",
   "metadata": {},
   "source": [
    "# Creación del archivo Submit"
   ]
  },
  {
   "cell_type": "code",
   "execution_count": 191,
   "metadata": {},
   "outputs": [
    {
     "data": {
      "text/html": [
       "<div>\n",
       "<style scoped>\n",
       "    .dataframe tbody tr th:only-of-type {\n",
       "        vertical-align: middle;\n",
       "    }\n",
       "\n",
       "    .dataframe tbody tr th {\n",
       "        vertical-align: top;\n",
       "    }\n",
       "\n",
       "    .dataframe thead th {\n",
       "        text-align: right;\n",
       "    }\n",
       "</style>\n",
       "<table border=\"1\" class=\"dataframe\">\n",
       "  <thead>\n",
       "    <tr style=\"text-align: right;\">\n",
       "      <th></th>\n",
       "      <th>id</th>\n",
       "      <th>target</th>\n",
       "    </tr>\n",
       "  </thead>\n",
       "  <tbody>\n",
       "    <tr>\n",
       "      <th>0</th>\n",
       "      <td>4941</td>\n",
       "      <td>2887500.0</td>\n",
       "    </tr>\n",
       "    <tr>\n",
       "      <th>1</th>\n",
       "      <td>51775</td>\n",
       "      <td>3454485.0</td>\n",
       "    </tr>\n",
       "    <tr>\n",
       "      <th>2</th>\n",
       "      <td>115253</td>\n",
       "      <td>3136148.0</td>\n",
       "    </tr>\n",
       "    <tr>\n",
       "      <th>3</th>\n",
       "      <td>299321</td>\n",
       "      <td>6088400.0</td>\n",
       "    </tr>\n",
       "    <tr>\n",
       "      <th>4</th>\n",
       "      <td>173570</td>\n",
       "      <td>2298597.0</td>\n",
       "    </tr>\n",
       "  </tbody>\n",
       "</table>\n",
       "</div>"
      ],
      "text/plain": [
       "       id     target\n",
       "0    4941  2887500.0\n",
       "1   51775  3454485.0\n",
       "2  115253  3136148.0\n",
       "3  299321  6088400.0\n",
       "4  173570  2298597.0"
      ]
     },
     "execution_count": 191,
     "metadata": {},
     "output_type": "execute_result"
    }
   ],
   "source": [
    "#submit1 = crear_submit(RF_model,X_normalized, Y, X_test_normalized, \"RF_normalized_rangos\")\n",
    "#submit1.head()"
   ]
  },
  {
   "cell_type": "code",
   "execution_count": null,
   "metadata": {},
   "outputs": [],
   "source": []
  },
  {
   "cell_type": "code",
   "execution_count": null,
   "metadata": {},
   "outputs": [],
   "source": []
  },
  {
   "cell_type": "code",
   "execution_count": null,
   "metadata": {},
   "outputs": [],
   "source": []
  }
 ],
 "metadata": {
  "colab": {
   "collapsed_sections": [],
   "name": "ValidezDeDatos.ipynb",
   "provenance": [],
   "version": "0.3.2"
  },
  "kernelspec": {
   "display_name": "Python 3",
   "language": "python",
   "name": "python3"
  },
  "language_info": {
   "codemirror_mode": {
    "name": "ipython",
    "version": 3
   },
   "file_extension": ".py",
   "mimetype": "text/x-python",
   "name": "python",
   "nbconvert_exporter": "python",
   "pygments_lexer": "ipython3",
   "version": "3.6.8"
  }
 },
 "nbformat": 4,
 "nbformat_minor": 1
}
